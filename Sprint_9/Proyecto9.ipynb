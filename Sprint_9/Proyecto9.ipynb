{
 "cells": [
  {
   "cell_type": "markdown",
   "metadata": {},
   "source": [
    "\n",
    "**Comentario del Revisor**\n",
    "\n",
    "Hola!\n",
    "\n",
    "Soy Juan Manuel Romero, pero siéntete libre de llamarme Juanma. Soy code reviewer en Tripleten y hoy estaré revisando tu entrega.\n",
    "\n",
    "Para simular la dinámica de un ambiente de trabajo, si veo algún error, en primer instancia solo los señalaré, dándote la oportunidad de encontrarlos y corregirlos por tu cuenta. En un trabajo real, el líder de tu equipo hará una dinámica similar. En caso de que no puedas resolver la tarea, te daré una información más precisa en la próxima revisión. \n",
    "\n",
    "Solo un aviso rápido: cuando estés revisando el proyecto, por favor deja mis comentarios originales tal como están. De esta manera, podemos seguir fácilmente el progreso y asegurarnos de que no se nos pase nada por alto. Y, si realizas algún cambio basado en mis comentarios, sería genial si pudieras resaltar esas actualizaciones para que se destaquen.\n",
    "\n",
    "Puedes encontrar mis comentarios en cajas verdes, amarillas o rojas como estas:\n",
    "\n",
    "<div class=\"alert alert-block alert-success\"> \n",
    "<b>Comentario del Revisor</b> <a class=\"tocSkip\"></a>\n",
    "\n",
    "Éxito. Todo se ha hecho correctamente.\n",
    "\n",
    "</div>\n",
    "\n",
    "\n",
    "<div class=\"alert alert-block alert-warning\"> \n",
    "<b>Comentario del Revisor</b> <a class=\"tocSkip\"></a>\n",
    "\n",
    "Observaciones. Algunas recomendaciones.\n",
    "\n",
    "</div> \n",
    "\n",
    "\n",
    "<div class=\"alert alert-block alert-danger\">\n",
    "<b>Comentario del Revisor</b> <a class=\"tocSkip\"></a>\n",
    "\n",
    "Requiere corrección. El bloque requiere algunas correcciones. El trabajo no puede ser aceptado con los comentarios en rojo.\n",
    "\n",
    "</div>\n",
    "\n",
    "Puedes responderme usando esto:\n",
    "\n",
    "<div class=\"alert alert-block alert-info\"> <b>Respuesta del estudiante.</b> <a class=\"tocSkip\"></a> </div>"
   ]
  },
  {
   "cell_type": "markdown",
   "metadata": {},
   "source": [
    "# Proyecto 10: Conservacion de los clientes de Beta Bank"
   ]
  },
  {
   "cell_type": "markdown",
   "metadata": {},
   "source": [
    "# Contenido <a id='back'></a>\n",
    "\n",
    "* [Introducción](#intro)\n",
    "* [Objetivo](#objetivo)\n",
    "* [Análisis exploratorio](#analisis_expl)\n",
    "* [Importación de librerías](#imp_lib)\n",
    "* [Importación de datasets](#imp_data)\n",
    "* [Análisis de Data](#analisis_dt)\n",
    "    * [Análisis de columna con valores ausentes: Tenure](#analisis_tenure)\n",
    "* [Valores duplicados de Data](#duplicated)\n",
    "* [Características](#caract_gen)\n",
    "* [División de datos](#div_gen)\n",
    "* [Desbalance de clases ](#desclass_gen)\n",
    "* [Modelo: Regresión Logística](#reg_log)\n",
    "    * [Ajuste de clase con Upsampling ](#upsamp_reg_log)\n",
    "        * [Función para ajuste de clase con Upsampling](#f_upsamp_reg_log)\n",
    "        * [F1 con datos estandarizados para Upsampling](#data_upsamp_reg_log)\n",
    "        * [ F1 sin datos estandarizados para Upsampling](#without_standard_reg_log)\n",
    "    * [Ajuste de clase con Downsampling ](#downsamp_reg_log)\n",
    "        * [Función para ajuste de clase con Downsampling](#f_downsamp_reg_log)\n",
    "        * [F1 con datos estandarizados para Downsampling](#downsamp_standard_reg_log)\n",
    "        * [F1 sin datos estandarizados para Downsampling](#downsamp_without_standard_reg_log)\n",
    "    * [Métricas y Curva ROC  del modelo de Regresión Logística](#etrics_curve_reg_log)\n",
    "        * [Ajuste de umbral](#umbral__curve_reg_log)\n",
    "        * [Métricas](#metrics_reg_log)\n",
    "        * [Curva ROC](#metrics__curve_reg_log)\n",
    "* [Modelo: Random Forest Classifier](#random_for)\n",
    "    * [Entrenamiento del modelo para Upsampling](#training_random_for_up)\n",
    "        * [F1 para Upsampling](#f1_up_random_for)\n",
    "    * [Métricas y Curva ROC  del modelo Random Forest](#metrics_curve_reg_log)\n",
    "        * [Ajuste de umbral ](#umbral__curve_random_for)\n",
    "        * [Métricas](#metrics_random_forest)\n",
    "        * [Curva ROC](#metrics_random_forest)\n",
    "    * [Entrenamiento del modelo para Downsampling](#training_random_for_down)\n",
    "        * [F1 para Downsampling ](#f1_down_random_for)\n",
    "* [Conclusión](#conclusion)\n"
   ]
  },
  {
   "cell_type": "markdown",
   "metadata": {},
   "source": [
    "# Introducción <a id='intro'></a>\n",
    "\n",
    "Los clientes de Beta Bank se están yendo, cada mes, poco a poco. Los banqueros descubrieron que es más barato salvar a los clientes existentes que atraer nuevos."
   ]
  },
  {
   "cell_type": "markdown",
   "metadata": {},
   "source": [
    "# Objetivo <a id='objetivo'></a>\n",
    "\n",
    "El objetivo de este análisis es determinar en base a los datos históricos de nuestros clientes si estos mismos dejarán de tener su cuenta en Beta Bank en un futuro."
   ]
  },
  {
   "cell_type": "markdown",
   "metadata": {},
   "source": [
    "# Análisis exploratorio <a id='analisis_expl'></a>"
   ]
  },
  {
   "cell_type": "markdown",
   "metadata": {},
   "source": [
    "En el siguiente apartado se observarán a detalle los datos con los que se está trabajando. Bajo las siguiente situaciones se realizarán cambios:\n",
    "\n",
    "-Datos nulos\n",
    "\n",
    "-Filas repetidas.\n",
    "\n",
    "-Datos que impidan realizar el análisis por el formato en el que vienen."
   ]
  },
  {
   "cell_type": "markdown",
   "metadata": {},
   "source": [
    "## Importación de librerías<a id='imp_lib'></a>"
   ]
  },
  {
   "cell_type": "code",
   "execution_count": 1,
   "metadata": {},
   "outputs": [],
   "source": [
    "import pandas as pd\n",
    "import numpy as np\n",
    "import seaborn as sns\n",
    "from sklearn.model_selection import train_test_split, GridSearchCV\n",
    "from sklearn.linear_model import LogisticRegression\n",
    "from sklearn.metrics import accuracy_score\n",
    "from sklearn.utils import shuffle\n",
    "from sklearn.decomposition import PCA\n",
    "from sklearn.metrics import f1_score, roc_curve, roc_auc_score, recall_score, confusion_matrix\n",
    "from sklearn.compose import ColumnTransformer\n",
    "from sklearn.pipeline import Pipeline\n",
    "from sklearn.preprocessing import StandardScaler\n",
    "from sklearn.ensemble import RandomForestClassifier\n",
    "from sklearn.calibration import CalibratedClassifierCV\n",
    "import matplotlib.pyplot as plt"
   ]
  },
  {
   "cell_type": "markdown",
   "metadata": {},
   "source": [
    "## Importación de datasets<a id='imp_data'></a>"
   ]
  },
  {
   "cell_type": "code",
   "execution_count": 2,
   "metadata": {},
   "outputs": [],
   "source": [
    "data = pd.read_csv(\"/datasets/Churn.csv\")"
   ]
  },
  {
   "cell_type": "markdown",
   "metadata": {},
   "source": [
    "## Análisis de Data <a id='analisis_dt'></a>"
   ]
  },
  {
   "cell_type": "code",
   "execution_count": 3,
   "metadata": {},
   "outputs": [
    {
     "data": {
      "text/html": [
       "<div>\n",
       "<style scoped>\n",
       "    .dataframe tbody tr th:only-of-type {\n",
       "        vertical-align: middle;\n",
       "    }\n",
       "\n",
       "    .dataframe tbody tr th {\n",
       "        vertical-align: top;\n",
       "    }\n",
       "\n",
       "    .dataframe thead th {\n",
       "        text-align: right;\n",
       "    }\n",
       "</style>\n",
       "<table border=\"1\" class=\"dataframe\">\n",
       "  <thead>\n",
       "    <tr style=\"text-align: right;\">\n",
       "      <th></th>\n",
       "      <th>RowNumber</th>\n",
       "      <th>CustomerId</th>\n",
       "      <th>Surname</th>\n",
       "      <th>CreditScore</th>\n",
       "      <th>Geography</th>\n",
       "      <th>Gender</th>\n",
       "      <th>Age</th>\n",
       "      <th>Tenure</th>\n",
       "      <th>Balance</th>\n",
       "      <th>NumOfProducts</th>\n",
       "      <th>HasCrCard</th>\n",
       "      <th>IsActiveMember</th>\n",
       "      <th>EstimatedSalary</th>\n",
       "      <th>Exited</th>\n",
       "    </tr>\n",
       "  </thead>\n",
       "  <tbody>\n",
       "    <tr>\n",
       "      <th>0</th>\n",
       "      <td>1</td>\n",
       "      <td>15634602</td>\n",
       "      <td>Hargrave</td>\n",
       "      <td>619</td>\n",
       "      <td>France</td>\n",
       "      <td>Female</td>\n",
       "      <td>42</td>\n",
       "      <td>2.0</td>\n",
       "      <td>0.00</td>\n",
       "      <td>1</td>\n",
       "      <td>1</td>\n",
       "      <td>1</td>\n",
       "      <td>101348.88</td>\n",
       "      <td>1</td>\n",
       "    </tr>\n",
       "    <tr>\n",
       "      <th>1</th>\n",
       "      <td>2</td>\n",
       "      <td>15647311</td>\n",
       "      <td>Hill</td>\n",
       "      <td>608</td>\n",
       "      <td>Spain</td>\n",
       "      <td>Female</td>\n",
       "      <td>41</td>\n",
       "      <td>1.0</td>\n",
       "      <td>83807.86</td>\n",
       "      <td>1</td>\n",
       "      <td>0</td>\n",
       "      <td>1</td>\n",
       "      <td>112542.58</td>\n",
       "      <td>0</td>\n",
       "    </tr>\n",
       "    <tr>\n",
       "      <th>2</th>\n",
       "      <td>3</td>\n",
       "      <td>15619304</td>\n",
       "      <td>Onio</td>\n",
       "      <td>502</td>\n",
       "      <td>France</td>\n",
       "      <td>Female</td>\n",
       "      <td>42</td>\n",
       "      <td>8.0</td>\n",
       "      <td>159660.80</td>\n",
       "      <td>3</td>\n",
       "      <td>1</td>\n",
       "      <td>0</td>\n",
       "      <td>113931.57</td>\n",
       "      <td>1</td>\n",
       "    </tr>\n",
       "    <tr>\n",
       "      <th>3</th>\n",
       "      <td>4</td>\n",
       "      <td>15701354</td>\n",
       "      <td>Boni</td>\n",
       "      <td>699</td>\n",
       "      <td>France</td>\n",
       "      <td>Female</td>\n",
       "      <td>39</td>\n",
       "      <td>1.0</td>\n",
       "      <td>0.00</td>\n",
       "      <td>2</td>\n",
       "      <td>0</td>\n",
       "      <td>0</td>\n",
       "      <td>93826.63</td>\n",
       "      <td>0</td>\n",
       "    </tr>\n",
       "    <tr>\n",
       "      <th>4</th>\n",
       "      <td>5</td>\n",
       "      <td>15737888</td>\n",
       "      <td>Mitchell</td>\n",
       "      <td>850</td>\n",
       "      <td>Spain</td>\n",
       "      <td>Female</td>\n",
       "      <td>43</td>\n",
       "      <td>2.0</td>\n",
       "      <td>125510.82</td>\n",
       "      <td>1</td>\n",
       "      <td>1</td>\n",
       "      <td>1</td>\n",
       "      <td>79084.10</td>\n",
       "      <td>0</td>\n",
       "    </tr>\n",
       "  </tbody>\n",
       "</table>\n",
       "</div>"
      ],
      "text/plain": [
       "   RowNumber  CustomerId   Surname  CreditScore Geography  Gender  Age  \\\n",
       "0          1    15634602  Hargrave          619    France  Female   42   \n",
       "1          2    15647311      Hill          608     Spain  Female   41   \n",
       "2          3    15619304      Onio          502    France  Female   42   \n",
       "3          4    15701354      Boni          699    France  Female   39   \n",
       "4          5    15737888  Mitchell          850     Spain  Female   43   \n",
       "\n",
       "   Tenure    Balance  NumOfProducts  HasCrCard  IsActiveMember  \\\n",
       "0     2.0       0.00              1          1               1   \n",
       "1     1.0   83807.86              1          0               1   \n",
       "2     8.0  159660.80              3          1               0   \n",
       "3     1.0       0.00              2          0               0   \n",
       "4     2.0  125510.82              1          1               1   \n",
       "\n",
       "   EstimatedSalary  Exited  \n",
       "0        101348.88       1  \n",
       "1        112542.58       0  \n",
       "2        113931.57       1  \n",
       "3         93826.63       0  \n",
       "4         79084.10       0  "
      ]
     },
     "execution_count": 3,
     "metadata": {},
     "output_type": "execute_result"
    }
   ],
   "source": [
    "data.head()"
   ]
  },
  {
   "cell_type": "code",
   "execution_count": 4,
   "metadata": {
    "scrolled": false
   },
   "outputs": [
    {
     "data": {
      "text/html": [
       "<div>\n",
       "<style scoped>\n",
       "    .dataframe tbody tr th:only-of-type {\n",
       "        vertical-align: middle;\n",
       "    }\n",
       "\n",
       "    .dataframe tbody tr th {\n",
       "        vertical-align: top;\n",
       "    }\n",
       "\n",
       "    .dataframe thead th {\n",
       "        text-align: right;\n",
       "    }\n",
       "</style>\n",
       "<table border=\"1\" class=\"dataframe\">\n",
       "  <thead>\n",
       "    <tr style=\"text-align: right;\">\n",
       "      <th></th>\n",
       "      <th>RowNumber</th>\n",
       "      <th>CustomerId</th>\n",
       "      <th>CreditScore</th>\n",
       "      <th>Age</th>\n",
       "      <th>Tenure</th>\n",
       "      <th>Balance</th>\n",
       "      <th>NumOfProducts</th>\n",
       "      <th>HasCrCard</th>\n",
       "      <th>IsActiveMember</th>\n",
       "      <th>EstimatedSalary</th>\n",
       "      <th>Exited</th>\n",
       "    </tr>\n",
       "  </thead>\n",
       "  <tbody>\n",
       "    <tr>\n",
       "      <th>count</th>\n",
       "      <td>10000.00000</td>\n",
       "      <td>1.000000e+04</td>\n",
       "      <td>10000.000000</td>\n",
       "      <td>10000.000000</td>\n",
       "      <td>9091.000000</td>\n",
       "      <td>10000.000000</td>\n",
       "      <td>10000.000000</td>\n",
       "      <td>10000.00000</td>\n",
       "      <td>10000.000000</td>\n",
       "      <td>10000.000000</td>\n",
       "      <td>10000.000000</td>\n",
       "    </tr>\n",
       "    <tr>\n",
       "      <th>mean</th>\n",
       "      <td>5000.50000</td>\n",
       "      <td>1.569094e+07</td>\n",
       "      <td>650.528800</td>\n",
       "      <td>38.921800</td>\n",
       "      <td>4.997690</td>\n",
       "      <td>76485.889288</td>\n",
       "      <td>1.530200</td>\n",
       "      <td>0.70550</td>\n",
       "      <td>0.515100</td>\n",
       "      <td>100090.239881</td>\n",
       "      <td>0.203700</td>\n",
       "    </tr>\n",
       "    <tr>\n",
       "      <th>std</th>\n",
       "      <td>2886.89568</td>\n",
       "      <td>7.193619e+04</td>\n",
       "      <td>96.653299</td>\n",
       "      <td>10.487806</td>\n",
       "      <td>2.894723</td>\n",
       "      <td>62397.405202</td>\n",
       "      <td>0.581654</td>\n",
       "      <td>0.45584</td>\n",
       "      <td>0.499797</td>\n",
       "      <td>57510.492818</td>\n",
       "      <td>0.402769</td>\n",
       "    </tr>\n",
       "    <tr>\n",
       "      <th>min</th>\n",
       "      <td>1.00000</td>\n",
       "      <td>1.556570e+07</td>\n",
       "      <td>350.000000</td>\n",
       "      <td>18.000000</td>\n",
       "      <td>0.000000</td>\n",
       "      <td>0.000000</td>\n",
       "      <td>1.000000</td>\n",
       "      <td>0.00000</td>\n",
       "      <td>0.000000</td>\n",
       "      <td>11.580000</td>\n",
       "      <td>0.000000</td>\n",
       "    </tr>\n",
       "    <tr>\n",
       "      <th>25%</th>\n",
       "      <td>2500.75000</td>\n",
       "      <td>1.562853e+07</td>\n",
       "      <td>584.000000</td>\n",
       "      <td>32.000000</td>\n",
       "      <td>2.000000</td>\n",
       "      <td>0.000000</td>\n",
       "      <td>1.000000</td>\n",
       "      <td>0.00000</td>\n",
       "      <td>0.000000</td>\n",
       "      <td>51002.110000</td>\n",
       "      <td>0.000000</td>\n",
       "    </tr>\n",
       "    <tr>\n",
       "      <th>50%</th>\n",
       "      <td>5000.50000</td>\n",
       "      <td>1.569074e+07</td>\n",
       "      <td>652.000000</td>\n",
       "      <td>37.000000</td>\n",
       "      <td>5.000000</td>\n",
       "      <td>97198.540000</td>\n",
       "      <td>1.000000</td>\n",
       "      <td>1.00000</td>\n",
       "      <td>1.000000</td>\n",
       "      <td>100193.915000</td>\n",
       "      <td>0.000000</td>\n",
       "    </tr>\n",
       "    <tr>\n",
       "      <th>75%</th>\n",
       "      <td>7500.25000</td>\n",
       "      <td>1.575323e+07</td>\n",
       "      <td>718.000000</td>\n",
       "      <td>44.000000</td>\n",
       "      <td>7.000000</td>\n",
       "      <td>127644.240000</td>\n",
       "      <td>2.000000</td>\n",
       "      <td>1.00000</td>\n",
       "      <td>1.000000</td>\n",
       "      <td>149388.247500</td>\n",
       "      <td>0.000000</td>\n",
       "    </tr>\n",
       "    <tr>\n",
       "      <th>max</th>\n",
       "      <td>10000.00000</td>\n",
       "      <td>1.581569e+07</td>\n",
       "      <td>850.000000</td>\n",
       "      <td>92.000000</td>\n",
       "      <td>10.000000</td>\n",
       "      <td>250898.090000</td>\n",
       "      <td>4.000000</td>\n",
       "      <td>1.00000</td>\n",
       "      <td>1.000000</td>\n",
       "      <td>199992.480000</td>\n",
       "      <td>1.000000</td>\n",
       "    </tr>\n",
       "  </tbody>\n",
       "</table>\n",
       "</div>"
      ],
      "text/plain": [
       "         RowNumber    CustomerId   CreditScore           Age       Tenure  \\\n",
       "count  10000.00000  1.000000e+04  10000.000000  10000.000000  9091.000000   \n",
       "mean    5000.50000  1.569094e+07    650.528800     38.921800     4.997690   \n",
       "std     2886.89568  7.193619e+04     96.653299     10.487806     2.894723   \n",
       "min        1.00000  1.556570e+07    350.000000     18.000000     0.000000   \n",
       "25%     2500.75000  1.562853e+07    584.000000     32.000000     2.000000   \n",
       "50%     5000.50000  1.569074e+07    652.000000     37.000000     5.000000   \n",
       "75%     7500.25000  1.575323e+07    718.000000     44.000000     7.000000   \n",
       "max    10000.00000  1.581569e+07    850.000000     92.000000    10.000000   \n",
       "\n",
       "             Balance  NumOfProducts    HasCrCard  IsActiveMember  \\\n",
       "count   10000.000000   10000.000000  10000.00000    10000.000000   \n",
       "mean    76485.889288       1.530200      0.70550        0.515100   \n",
       "std     62397.405202       0.581654      0.45584        0.499797   \n",
       "min         0.000000       1.000000      0.00000        0.000000   \n",
       "25%         0.000000       1.000000      0.00000        0.000000   \n",
       "50%     97198.540000       1.000000      1.00000        1.000000   \n",
       "75%    127644.240000       2.000000      1.00000        1.000000   \n",
       "max    250898.090000       4.000000      1.00000        1.000000   \n",
       "\n",
       "       EstimatedSalary        Exited  \n",
       "count     10000.000000  10000.000000  \n",
       "mean     100090.239881      0.203700  \n",
       "std       57510.492818      0.402769  \n",
       "min          11.580000      0.000000  \n",
       "25%       51002.110000      0.000000  \n",
       "50%      100193.915000      0.000000  \n",
       "75%      149388.247500      0.000000  \n",
       "max      199992.480000      1.000000  "
      ]
     },
     "execution_count": 4,
     "metadata": {},
     "output_type": "execute_result"
    }
   ],
   "source": [
    "data.describe()"
   ]
  },
  {
   "cell_type": "code",
   "execution_count": 5,
   "metadata": {
    "scrolled": false
   },
   "outputs": [
    {
     "name": "stdout",
     "output_type": "stream",
     "text": [
      "<class 'pandas.core.frame.DataFrame'>\n",
      "RangeIndex: 10000 entries, 0 to 9999\n",
      "Data columns (total 14 columns):\n",
      " #   Column           Non-Null Count  Dtype  \n",
      "---  ------           --------------  -----  \n",
      " 0   RowNumber        10000 non-null  int64  \n",
      " 1   CustomerId       10000 non-null  int64  \n",
      " 2   Surname          10000 non-null  object \n",
      " 3   CreditScore      10000 non-null  int64  \n",
      " 4   Geography        10000 non-null  object \n",
      " 5   Gender           10000 non-null  object \n",
      " 6   Age              10000 non-null  int64  \n",
      " 7   Tenure           9091 non-null   float64\n",
      " 8   Balance          10000 non-null  float64\n",
      " 9   NumOfProducts    10000 non-null  int64  \n",
      " 10  HasCrCard        10000 non-null  int64  \n",
      " 11  IsActiveMember   10000 non-null  int64  \n",
      " 12  EstimatedSalary  10000 non-null  float64\n",
      " 13  Exited           10000 non-null  int64  \n",
      "dtypes: float64(3), int64(8), object(3)\n",
      "memory usage: 1.1+ MB\n"
     ]
    }
   ],
   "source": [
    "data.info()"
   ]
  },
  {
   "cell_type": "markdown",
   "metadata": {},
   "source": [
    "<span style='color:green'> Considero que el tipo de datos es correcto y se podría trabajar bien a excepcion de la columna 'Tenure' la cual nos podría indicar con el análisis posterior y en combinacion con toda la demás info que tan leales son los clientes. Al mismo tiempo, tiene valores ausentes que vamos analizar ya que sí tiene valores '0' los cuales indicarían que tiene menos del año, pero los 909 valores ausentes considero deberían rellenarse ya que vamos a probar un modelo lineal y tendría problemas si no se hiciera este paso. </span>"
   ]
  },
  {
   "cell_type": "markdown",
   "metadata": {},
   "source": [
    "### Análisis de columna con valores ausentes: Tenure <a id='analisis_tenure'></a>"
   ]
  },
  {
   "cell_type": "code",
   "execution_count": 6,
   "metadata": {},
   "outputs": [
    {
     "data": {
      "text/plain": [
       "<function matplotlib.pyplot.show(close=None, block=None)>"
      ]
     },
     "execution_count": 6,
     "metadata": {},
     "output_type": "execute_result"
    },
    {
     "data": {
      "image/png": "[encoded data removed]",
      "text/plain": [
       "<Figure size 800x500 with 1 Axes>"
      ]
     },
     "metadata": {},
     "output_type": "display_data"
    }
   ],
   "source": [
    "plt.figure(figsize=(8,5))\n",
    "sns.boxplot (x = data ['Tenure'], color = 'green')\n",
    "plt.title('Distribucion de Tenure')\n",
    "plt.xlabel('Tenure (años)')\n",
    "\n",
    "plt.show"
   ]
  },
  {
   "cell_type": "markdown",
   "metadata": {},
   "source": [
    "<span style='color:green'> Tenure cuenta con una distribución uniforme en sus datos y no tiene outliers, así que rellenaré con la mediana que tenemos en 'data.describe()' ya que no sesga los datos y ya contamos con el dato. </span>"
   ]
  },
  {
   "cell_type": "code",
   "execution_count": 7,
   "metadata": {
    "scrolled": true
   },
   "outputs": [
    {
     "data": {
      "text/html": [
       "<div>\n",
       "<style scoped>\n",
       "    .dataframe tbody tr th:only-of-type {\n",
       "        vertical-align: middle;\n",
       "    }\n",
       "\n",
       "    .dataframe tbody tr th {\n",
       "        vertical-align: top;\n",
       "    }\n",
       "\n",
       "    .dataframe thead th {\n",
       "        text-align: right;\n",
       "    }\n",
       "</style>\n",
       "<table border=\"1\" class=\"dataframe\">\n",
       "  <thead>\n",
       "    <tr style=\"text-align: right;\">\n",
       "      <th></th>\n",
       "      <th>RowNumber</th>\n",
       "      <th>CustomerId</th>\n",
       "      <th>Surname</th>\n",
       "      <th>CreditScore</th>\n",
       "      <th>Geography</th>\n",
       "      <th>Gender</th>\n",
       "      <th>Age</th>\n",
       "      <th>Tenure</th>\n",
       "      <th>Balance</th>\n",
       "      <th>NumOfProducts</th>\n",
       "      <th>HasCrCard</th>\n",
       "      <th>IsActiveMember</th>\n",
       "      <th>EstimatedSalary</th>\n",
       "      <th>Exited</th>\n",
       "      <th>Tenure_New</th>\n",
       "    </tr>\n",
       "  </thead>\n",
       "  <tbody>\n",
       "    <tr>\n",
       "      <th>0</th>\n",
       "      <td>1</td>\n",
       "      <td>15634602</td>\n",
       "      <td>Hargrave</td>\n",
       "      <td>619</td>\n",
       "      <td>France</td>\n",
       "      <td>Female</td>\n",
       "      <td>42</td>\n",
       "      <td>2.0</td>\n",
       "      <td>0.00</td>\n",
       "      <td>1</td>\n",
       "      <td>1</td>\n",
       "      <td>1</td>\n",
       "      <td>101348.88</td>\n",
       "      <td>1</td>\n",
       "      <td>2.0</td>\n",
       "    </tr>\n",
       "    <tr>\n",
       "      <th>1</th>\n",
       "      <td>2</td>\n",
       "      <td>15647311</td>\n",
       "      <td>Hill</td>\n",
       "      <td>608</td>\n",
       "      <td>Spain</td>\n",
       "      <td>Female</td>\n",
       "      <td>41</td>\n",
       "      <td>1.0</td>\n",
       "      <td>83807.86</td>\n",
       "      <td>1</td>\n",
       "      <td>0</td>\n",
       "      <td>1</td>\n",
       "      <td>112542.58</td>\n",
       "      <td>0</td>\n",
       "      <td>1.0</td>\n",
       "    </tr>\n",
       "    <tr>\n",
       "      <th>2</th>\n",
       "      <td>3</td>\n",
       "      <td>15619304</td>\n",
       "      <td>Onio</td>\n",
       "      <td>502</td>\n",
       "      <td>France</td>\n",
       "      <td>Female</td>\n",
       "      <td>42</td>\n",
       "      <td>8.0</td>\n",
       "      <td>159660.80</td>\n",
       "      <td>3</td>\n",
       "      <td>1</td>\n",
       "      <td>0</td>\n",
       "      <td>113931.57</td>\n",
       "      <td>1</td>\n",
       "      <td>8.0</td>\n",
       "    </tr>\n",
       "    <tr>\n",
       "      <th>3</th>\n",
       "      <td>4</td>\n",
       "      <td>15701354</td>\n",
       "      <td>Boni</td>\n",
       "      <td>699</td>\n",
       "      <td>France</td>\n",
       "      <td>Female</td>\n",
       "      <td>39</td>\n",
       "      <td>1.0</td>\n",
       "      <td>0.00</td>\n",
       "      <td>2</td>\n",
       "      <td>0</td>\n",
       "      <td>0</td>\n",
       "      <td>93826.63</td>\n",
       "      <td>0</td>\n",
       "      <td>1.0</td>\n",
       "    </tr>\n",
       "    <tr>\n",
       "      <th>4</th>\n",
       "      <td>5</td>\n",
       "      <td>15737888</td>\n",
       "      <td>Mitchell</td>\n",
       "      <td>850</td>\n",
       "      <td>Spain</td>\n",
       "      <td>Female</td>\n",
       "      <td>43</td>\n",
       "      <td>2.0</td>\n",
       "      <td>125510.82</td>\n",
       "      <td>1</td>\n",
       "      <td>1</td>\n",
       "      <td>1</td>\n",
       "      <td>79084.10</td>\n",
       "      <td>0</td>\n",
       "      <td>2.0</td>\n",
       "    </tr>\n",
       "  </tbody>\n",
       "</table>\n",
       "</div>"
      ],
      "text/plain": [
       "   RowNumber  CustomerId   Surname  CreditScore Geography  Gender  Age  \\\n",
       "0          1    15634602  Hargrave          619    France  Female   42   \n",
       "1          2    15647311      Hill          608     Spain  Female   41   \n",
       "2          3    15619304      Onio          502    France  Female   42   \n",
       "3          4    15701354      Boni          699    France  Female   39   \n",
       "4          5    15737888  Mitchell          850     Spain  Female   43   \n",
       "\n",
       "   Tenure    Balance  NumOfProducts  HasCrCard  IsActiveMember  \\\n",
       "0     2.0       0.00              1          1               1   \n",
       "1     1.0   83807.86              1          0               1   \n",
       "2     8.0  159660.80              3          1               0   \n",
       "3     1.0       0.00              2          0               0   \n",
       "4     2.0  125510.82              1          1               1   \n",
       "\n",
       "   EstimatedSalary  Exited  Tenure_New  \n",
       "0        101348.88       1         2.0  \n",
       "1        112542.58       0         1.0  \n",
       "2        113931.57       1         8.0  \n",
       "3         93826.63       0         1.0  \n",
       "4         79084.10       0         2.0  "
      ]
     },
     "execution_count": 7,
     "metadata": {},
     "output_type": "execute_result"
    }
   ],
   "source": [
    "data['Tenure_New'] = data['Tenure'].fillna(5)\n",
    "data.head()"
   ]
  },
  {
   "cell_type": "markdown",
   "metadata": {},
   "source": [
    "<div class=\"alert alert-block alert-success\"> \n",
    "<b>Comentario del Revisor #1</b> <a class=\"tocSkip\"></a>\n",
    "\n",
    "Buen trabajo eliminando los datos faltantes en la columna Tenure! El manejo adecuado de los valores ausentes es crucial para evitar problemas en el entrenamiento del modelo.\n",
    "\n",
    "</div>"
   ]
  },
  {
   "cell_type": "code",
   "execution_count": 8,
   "metadata": {},
   "outputs": [
    {
     "name": "stdout",
     "output_type": "stream",
     "text": [
      "<class 'pandas.core.frame.DataFrame'>\n",
      "RangeIndex: 10000 entries, 0 to 9999\n",
      "Data columns (total 15 columns):\n",
      " #   Column           Non-Null Count  Dtype  \n",
      "---  ------           --------------  -----  \n",
      " 0   RowNumber        10000 non-null  int64  \n",
      " 1   CustomerId       10000 non-null  int64  \n",
      " 2   Surname          10000 non-null  object \n",
      " 3   CreditScore      10000 non-null  int64  \n",
      " 4   Geography        10000 non-null  object \n",
      " 5   Gender           10000 non-null  object \n",
      " 6   Age              10000 non-null  int64  \n",
      " 7   Tenure           9091 non-null   float64\n",
      " 8   Balance          10000 non-null  float64\n",
      " 9   NumOfProducts    10000 non-null  int64  \n",
      " 10  HasCrCard        10000 non-null  int64  \n",
      " 11  IsActiveMember   10000 non-null  int64  \n",
      " 12  EstimatedSalary  10000 non-null  float64\n",
      " 13  Exited           10000 non-null  int64  \n",
      " 14  Tenure_New       10000 non-null  float64\n",
      "dtypes: float64(4), int64(8), object(3)\n",
      "memory usage: 1.1+ MB\n"
     ]
    }
   ],
   "source": [
    "data.info()"
   ]
  },
  {
   "cell_type": "markdown",
   "metadata": {},
   "source": [
    "<span style='color:green'> Añadí una nueva columna para hacer las modificaciones y de ser necesario más adelante, cambiarlo. En este caso el boxplot mostró ser uniforme y al no tener outliers se podrían ocupar la media o mediana, siento esta ultima la que utilicé para probar nuestro primer modelo que será el lineal y necesitará la informacion completa. De esta forma ya podemos continuar con el análisis </span>"
   ]
  },
  {
   "cell_type": "markdown",
   "metadata": {},
   "source": [
    "## Valores duplicados de Data <a id='duplicated'></a>"
   ]
  },
  {
   "cell_type": "code",
   "execution_count": 9,
   "metadata": {},
   "outputs": [
    {
     "data": {
      "text/plain": [
       "0"
      ]
     },
     "execution_count": 9,
     "metadata": {},
     "output_type": "execute_result"
    }
   ],
   "source": [
    "data.duplicated().sum()"
   ]
  },
  {
   "cell_type": "markdown",
   "metadata": {},
   "source": [
    "<span style='color:green'> Se observa que no hay valores duplicados y se puede continuar.  </span>"
   ]
  },
  {
   "cell_type": "markdown",
   "metadata": {},
   "source": [
    "[Volver a Contenidos](#back)"
   ]
  },
  {
   "cell_type": "markdown",
   "metadata": {},
   "source": [
    "## Características  <a id='caract_gen'></a>"
   ]
  },
  {
   "cell_type": "code",
   "execution_count": 10,
   "metadata": {},
   "outputs": [],
   "source": [
    "df_log = data.drop(columns = 'Tenure')\n",
    "cols = ['Geography', 'Gender']\n",
    "df_log_dummies = pd.get_dummies(df_log, columns = cols, drop_first = True)\n",
    "\n",
    "x = df_log_dummies.drop(columns=['Exited', 'RowNumber', 'CustomerId', 'Surname'])  \n",
    "y = df_log_dummies['Exited']  "
   ]
  },
  {
   "cell_type": "markdown",
   "metadata": {},
   "source": [
    "<div class=\"alert alert-block alert-success\"> \n",
    "<b>Comentario del Revisor #1</b> <a class=\"tocSkip\"></a>\n",
    "\n",
    "Excelente trabajo utilizando One-Hot Encoding (OHE)! Esta técnica es ideal para convertir variables categóricas en un formato numérico, permitiendo que los modelos de aprendizaje automático puedan procesarlas. OHE asegura que los datos categóricos no introduzcan relaciones ficticias entre variables.\n",
    "\n",
    "Además, usaste correctamente `drop_first=True`, lo que evita la multicolinealidad al eliminar una categoría redundante. Esto ayuda a reducir la dimensionalidad de los datos sin perder información.\n",
    "\n",
    "\n",
    "</div>"
   ]
  },
  {
   "cell_type": "markdown",
   "metadata": {},
   "source": [
    "<span style='color:green'> Se omite 'Tenure' y se deja la nueva columna Tenure_New que ya tiene sus datos completos para que la prueba en modelos pueda ser lo más uniforme posible. Se aplica primero One Hot Encoder para las variables categóricas. También se eliminan todas esas columnas del análisis ya que no representarían algún dato importante para cualquier modelo que se utilice  </span>"
   ]
  },
  {
   "cell_type": "markdown",
   "metadata": {},
   "source": [
    "<div class=\"alert alert-block alert-warning\"> \n",
    "<b>Comentario del Revisor #1</b> <a class=\"tocSkip\"></a>\n",
    "\n",
    "Parece que no eliminaste las columnas irrelevantes. Aunque es opcional, es recomendable eliminar columnas como RowNumber, CustomerId y Surname, ya que no añaden valor predictivo. Considera limpiar esos datos para mejorar el rendimiento del modelo.\n",
    "\n",
    "</div>"
   ]
  },
  {
   "cell_type": "markdown",
   "metadata": {},
   "source": [
    "## División de datos  <a id='div_gen'></a>"
   ]
  },
  {
   "cell_type": "code",
   "execution_count": 11,
   "metadata": {},
   "outputs": [],
   "source": [
    "#25% de los datos se destinan a validacion y 75% para el entrenamiento del modelo\n",
    "features_train, features_valid, target_train, target_valid = train_test_split(x, y , test_size= 0.25, random_state = 12345)"
   ]
  },
  {
   "cell_type": "markdown",
   "metadata": {},
   "source": [
    "## Desbalance de clases  <a id='desclass_gen'></a>"
   ]
  },
  {
   "cell_type": "code",
   "execution_count": 12,
   "metadata": {
    "scrolled": true
   },
   "outputs": [
    {
     "data": {
      "text/plain": [
       "0    5998\n",
       "1    1502\n",
       "Name: Exited, dtype: int64"
      ]
     },
     "execution_count": 12,
     "metadata": {},
     "output_type": "execute_result"
    }
   ],
   "source": [
    "target_train.value_counts()"
   ]
  },
  {
   "cell_type": "markdown",
   "metadata": {},
   "source": [
    "<span style='color:green'> Con este conteo sobre nuestro objetivo podemos observar un desbalance de clases. Entre la clase 1 que significa que se ha ido el cliente y 0 que aún no. Esto podría ser de manera muy generalizada un buen dato pero se necesita balancear para que el modelo trabaje de manera adecuada. </span>"
   ]
  },
  {
   "cell_type": "markdown",
   "metadata": {},
   "source": [
    "<div class=\"alert alert-block alert-success\"> \n",
    "<b>Comentario del Revisor #1</b> <a class=\"tocSkip\"></a>\n",
    "\n",
    "Excelente! Has estudiado el balance de clases. Este es un paso crucial cuando las clases están desbalanceadas, ya que puede afectar el rendimiento del modelo. Al comprender la distribución de las clases, puedes aplicar técnicas para corregir el desequilibrio.\n",
    "\n",
    "<div class=\"alert alert-block alert-warning\"> \n",
    "<b>Comentario del Revisor #1</b> <a class=\"tocSkip\"></a>\n",
    "\n",
    "Siempre ten en cuenta que mostrar algunos datos importantes con gráficos es más apropiado. \n",
    "\n",
    "</div>\n",
    "    \n",
    "</div>"
   ]
  },
  {
   "cell_type": "markdown",
   "metadata": {},
   "source": [
    "## Modelo: Regresión Logística<a id='reg_log'></a>"
   ]
  },
  {
   "cell_type": "markdown",
   "metadata": {},
   "source": [
    "<div class=\"alert alert-block alert-success\"> \n",
    "<b>Comentario del Revisor #1</b> <a class=\"tocSkip\"></a>\n",
    "\n",
    "Excelente presentación del trabajo. Las secciones son super claras.\n",
    "\n",
    "</div>"
   ]
  },
  {
   "cell_type": "markdown",
   "metadata": {},
   "source": [
    "### Ajuste de clase con Upsampling <a id='upsamp_reg_log'></a>"
   ]
  },
  {
   "cell_type": "markdown",
   "metadata": {},
   "source": [
    "#### Función para ajuste de clase con Upsampling <a id='f_upsamp_reg_log'></a>"
   ]
  },
  {
   "cell_type": "code",
   "execution_count": 13,
   "metadata": {},
   "outputs": [],
   "source": [
    "def upsample(features, target, repeat):\n",
    "    features_zeros = features[target == 0]\n",
    "    features_ones = features[target == 1]\n",
    "    target_zeros = target[target == 0]\n",
    "    target_ones = target[target == 1]\n",
    "\n",
    "    features_upsampled = pd.concat([features_zeros] + [features_ones] * repeat)\n",
    "    target_upsampled = pd.concat([target_zeros] + [target_ones] * repeat)\n",
    "\n",
    "    features_upsampled, target_upsampled = shuffle(\n",
    "        features_upsampled, target_upsampled, random_state=12345\n",
    "    )\n",
    "\n",
    "    return features_upsampled, target_upsampled"
   ]
  },
  {
   "cell_type": "markdown",
   "metadata": {},
   "source": [
    "#### F1 con datos estandarizados para Upsampling <a id='data_upsamp_reg_log'></a>"
   ]
  },
  {
   "cell_type": "code",
   "execution_count": 14,
   "metadata": {},
   "outputs": [
    {
     "name": "stdout",
     "output_type": "stream",
     "text": [
      "F1: 0.5050234427327529\n"
     ]
    }
   ],
   "source": [
    "features_upsampled, target_upsampled = upsample(\n",
    "    features_train, target_train, 10)\n",
    "\n",
    "scaler = StandardScaler()\n",
    "\n",
    "features_upsampled_sc = scaler.fit_transform(features_upsampled)\n",
    "features_valid_sc = scaler.transform(features_valid)\n",
    "\n",
    "\n",
    "model_log_up = LogisticRegression(class_weight='balanced', random_state = 12345, solver='liblinear')\n",
    "model_log_up.fit (features_upsampled_sc, target_upsampled)\n",
    "predicted_valid= model_log_up.predict(features_valid_sc)\n",
    "\n",
    "print('F1:', f1_score(target_valid, predicted_valid))"
   ]
  },
  {
   "cell_type": "markdown",
   "metadata": {},
   "source": [
    "<div class=\"alert alert-block alert-warning\"> \n",
    "<b>Comentario del Revisor #1</b> <a class=\"tocSkip\"></a>\n",
    "\n",
    "Veo que utilizas un x10 para la clase minoritaria. Esto no te generaría un nuevo (y peor) desbalance en los datos?\n",
    "    \n",
    "TIP: Te aconsejo que luego de aplicar remuestreo, veas que los totales por cada clase son los que esperas.\n",
    "\n",
    "</div>"
   ]
  },
  {
   "cell_type": "markdown",
   "metadata": {},
   "source": [
    "<span style='color:green'> Antes de entrenar al modelo se estandarizan los datos para obtener un mejor F1 y también se pone un argumento para balancear las clases. El resultado se acerca nuestro objetivo en F1. </span>"
   ]
  },
  {
   "cell_type": "markdown",
   "metadata": {},
   "source": [
    "#### F1 sin datos estandarizados para Upsampling<a id='without_standard_reg_log'></a>"
   ]
  },
  {
   "cell_type": "code",
   "execution_count": 15,
   "metadata": {},
   "outputs": [
    {
     "name": "stdout",
     "output_type": "stream",
     "text": [
      "F1: 0.4513329200247985\n"
     ]
    }
   ],
   "source": [
    "features_upsampled, target_upsampled = upsample(features_train, target_train, 10)\n",
    "\n",
    "model_log_without_up = LogisticRegression(class_weight='balanced', random_state=12345, solver='liblinear')\n",
    "model_log_without_up.fit(features_upsampled, target_upsampled)\n",
    "predicted_valid =model_log_without_up.predict(features_valid)\n",
    "\n",
    "print('F1:', f1_score(target_valid, predicted_valid))\n"
   ]
  },
  {
   "cell_type": "markdown",
   "metadata": {},
   "source": [
    "<span style='color:green'> En ambos se aplicó el upsampling y definitivamente tuvo un mejor rendimiento el modelo con la estandarización de los datos aunque no hay tanta diferencia. Probaremos con downsampling para ver sí es mejor con el balanceo de clases. </span>"
   ]
  },
  {
   "cell_type": "markdown",
   "metadata": {},
   "source": [
    "[Volver a Contenidos](#back)"
   ]
  },
  {
   "cell_type": "markdown",
   "metadata": {},
   "source": [
    "### Ajuste de clase con Downsampling <a id='downsamp_reg_log'></a>"
   ]
  },
  {
   "cell_type": "markdown",
   "metadata": {},
   "source": [
    "#### Función para ajuste de clase con Downsampling <a id='f_downsamp_reg_log'></a>"
   ]
  },
  {
   "cell_type": "code",
   "execution_count": 16,
   "metadata": {},
   "outputs": [],
   "source": [
    "def downsample(features, target, fraction):\n",
    "    features_zeros = features[target == 0]\n",
    "    features_ones = features[target == 1]\n",
    "    target_zeros = target[target == 0]\n",
    "    target_ones = target[target == 1]\n",
    "\n",
    "    features_downsampled = pd.concat(\n",
    "        [features_zeros.sample(frac=fraction, random_state=12345)] + [features_ones])\n",
    "    target_downsampled = pd.concat( [target_zeros.sample(frac = fraction, random_state = 12345)] + [target_ones] )\n",
    "\n",
    "    features_downsampled, target_downsampled = shuffle(features_downsampled, target_downsampled, random_state = 12345)\n",
    "\n",
    "\n",
    "    return features_downsampled, target_downsampled"
   ]
  },
  {
   "cell_type": "markdown",
   "metadata": {},
   "source": [
    "#### F1 con datos estandarizados para Downsampling <a id='downsamp_standard_reg_log'></a>"
   ]
  },
  {
   "cell_type": "code",
   "execution_count": 17,
   "metadata": {},
   "outputs": [
    {
     "name": "stdout",
     "output_type": "stream",
     "text": [
      "F1: 0.5102990033222591\n"
     ]
    }
   ],
   "source": [
    "features_downsampled, target_downsampled = downsample(\n",
    "    features_train, target_train, 0.1\n",
    ")\n",
    "\n",
    "scaler = StandardScaler()\n",
    "\n",
    "features_downsampled_sc = scaler.fit_transform(features_downsampled)\n",
    "features_valid_scaled = scaler.transform(features_valid)\n",
    "\n",
    "\n",
    "\n",
    "model_down = LogisticRegression(class_weight='balanced', random_state = 12345, solver='liblinear')\n",
    "model_down.fit (features_downsampled_sc, target_downsampled)\n",
    "predicted_valid_down= model_down.predict(features_valid_scaled)\n",
    "\n",
    "print('F1:', f1_score(target_valid, predicted_valid_down))"
   ]
  },
  {
   "cell_type": "markdown",
   "metadata": {},
   "source": [
    "<div class=\"alert alert-block alert-warning\"> \n",
    "<b>Comentario del Revisor #1</b> <a class=\"tocSkip\"></a>\n",
    "\n",
    "Similar al comentario anterior. Luego de aplicar downsampling con 0.1, obtienes los porcentajes que esperas por clase?\n",
    "\n",
    "</div>"
   ]
  },
  {
   "cell_type": "markdown",
   "metadata": {},
   "source": [
    "#### F1 sin datos estandarizados para Downsampling <a id='downsamp_without_standard_reg_log'></a>"
   ]
  },
  {
   "cell_type": "code",
   "execution_count": 18,
   "metadata": {},
   "outputs": [
    {
     "name": "stdout",
     "output_type": "stream",
     "text": [
      "F1: 0.5022364217252395\n"
     ]
    }
   ],
   "source": [
    "features_downsampled, target_downsampled = downsample(\n",
    "    features_train, target_train, 0.1\n",
    ")\n",
    "\n",
    "\n",
    "\n",
    "model_log_down = LogisticRegression(class_weight='balanced', random_state = 12345, solver='liblinear')\n",
    "model_log_down.fit (features_downsampled, target_downsampled)\n",
    "predicted_valid_down= model_log_down.predict(features_valid)\n",
    "\n",
    "print('F1:', f1_score(target_valid, predicted_valid_down))\n"
   ]
  },
  {
   "cell_type": "markdown",
   "metadata": {},
   "source": [
    "<span style='color:green'> Pasó una situación parecida en cuanto a usar los datos estandarizados o no, pero en este caso usando downsampling y los datos estandarizados es la mejor opción y esta sería la mejor opcion en cuanto al balance de las clases. </span>"
   ]
  },
  {
   "cell_type": "markdown",
   "metadata": {},
   "source": [
    "[Volver a Contenidos](#back)"
   ]
  },
  {
   "cell_type": "markdown",
   "metadata": {},
   "source": [
    "<div class=\"alert alert-block alert-success\"> \n",
    "<b>Comentario del Revisor #1</b> <a class=\"tocSkip\"></a>\n",
    "\n",
    "Muy bien! Usaste al menos dos técnicas para tratar el desbalanceo de clases, como el ajuste de pesos, upsampling o downsampling. Estas técnicas son fundamentales para que el modelo no favorezca la clase mayoritaria y tenga un mejor rendimiento en la clase minoritaria.\n",
    "\n",
    "</div>"
   ]
  },
  {
   "cell_type": "markdown",
   "metadata": {},
   "source": [
    "### Métricas y Curva ROC  del modelo de Regresión Logística<a id='metrics_curve_reg_log'></a>"
   ]
  },
  {
   "cell_type": "markdown",
   "metadata": {},
   "source": [
    "<span style='color:green'> Para analizar nuestro modelo se pueden probar diferentes umbrales. Al mismo tiempo, se trabaja con el modelo con datos estandarizados y downsampling</span>"
   ]
  },
  {
   "cell_type": "markdown",
   "metadata": {},
   "source": [
    "#### Ajuste de umbral <a id='umbral__curve_reg_log'></a>"
   ]
  },
  {
   "cell_type": "code",
   "execution_count": 19,
   "metadata": {},
   "outputs": [],
   "source": [
    "proba_predictions = model_down.predict_proba(features_valid_scaled)[:, 1] \n",
    "\n",
    "\n",
    "threshold = 0.5 \n",
    "predictions_adjusted = (proba_predictions > threshold).astype(int)\n"
   ]
  },
  {
   "cell_type": "markdown",
   "metadata": {},
   "source": [
    "#### Métricas <a id='metrics_reg_log'></a>"
   ]
  },
  {
   "cell_type": "code",
   "execution_count": 20,
   "metadata": {},
   "outputs": [
    {
     "name": "stdout",
     "output_type": "stream",
     "text": [
      "F1 Score: 0.5102990033222591\n",
      "ROC AUC Score: 0.7647998858528929\n",
      "Matriz de Confusión:\n",
      " [[1379  586]\n",
      " [ 151  384]]\n"
     ]
    }
   ],
   "source": [
    "f1 = f1_score(target_valid, predictions_adjusted)\n",
    "roc_auc = roc_auc_score(target_valid, proba_predictions)\n",
    "conf_matrix = confusion_matrix(target_valid, predictions_adjusted)\n",
    "\n",
    "print(\"F1 Score:\", f1)\n",
    "print(\"ROC AUC Score:\", roc_auc)\n",
    "print(\"Matriz de Confusión:\\n\", conf_matrix)"
   ]
  },
  {
   "cell_type": "markdown",
   "metadata": {},
   "source": [
    "<span style='color:green'> Al mover el umbral no es posible con este modelo hacer un incremento del F1 puesto que a pesar de que ROC - AUC se mantiene durante estos cambios, el F1 solo baja, el mejor ajuste de umbral sigue siendo 0.5</span>"
   ]
  },
  {
   "cell_type": "markdown",
   "metadata": {},
   "source": [
    "#### Curva ROC <a id='metrics__curve_reg_log'></a>"
   ]
  },
  {
   "cell_type": "code",
   "execution_count": 21,
   "metadata": {},
   "outputs": [
    {
     "data": {
      "image/png": "[encoded data removed]",
      "text/plain": [
       "<Figure size 800x600 with 1 Axes>"
      ]
     },
     "metadata": {},
     "output_type": "display_data"
    }
   ],
   "source": [
    "fpr, tpr, thresholds = roc_curve(target_valid, proba_predictions)\n",
    "plt.figure(figsize=(8, 6))\n",
    "plt.plot(fpr, tpr, label=f'ROC Curve (AUC = {roc_auc:.2f})', linewidth=2)\n",
    "plt.plot([0, 1], [0, 1], 'k--', label=\"Random Guess\", linewidth=1)\n",
    "plt.xlabel('False Positive Rate (FPR)')\n",
    "plt.ylabel('True Positive Rate (TPR)')\n",
    "plt.title('Curva ROC')\n",
    "plt.legend(loc='lower right')\n",
    "plt.grid()\n",
    "plt.show()"
   ]
  },
  {
   "cell_type": "markdown",
   "metadata": {},
   "source": [
    "<span style='color:green'> Finalmente lo mejor que se pudo lograr pero sin llegar al objetivo fue un F1 de 0.51, lo que indicaría que le hace flata para ser considerado optimo y tiene problemas para detectar correctamente a los clientes que no abandonan el banco. En cuanto al ROC - AUC se desempeña mejor ya que ni moviendo el umbral tiene tanta variación, así que tiene un nivel decente detectanto entre clases. Y finalmente con la matriz de confusión tenemos 586 clientes que no abandonan pero em modelo dijo que sí, y a su vez 151 donde predijo que sí abandona cuando no es así, esto esta relacionado al balance de clases. Todo esto indicaría que se podría mejor estas métricas con un modelo más robusto como el Random Forest </span>"
   ]
  },
  {
   "cell_type": "markdown",
   "metadata": {},
   "source": [
    "<div class=\"alert alert-block alert-success\"> \n",
    "<b>Comentario del Revisor #1</b> <a class=\"tocSkip\"></a>\n",
    "\n",
    "Excelente! Estudiaste la métrica AUC-ROC, que es una de las mejores métricas para evaluar modelos de clasificación binaria. Un buen AUC-ROC indica que el modelo es capaz de distinguir correctamente entre las clases.\n",
    "\n",
    "</div>"
   ]
  },
  {
   "cell_type": "markdown",
   "metadata": {},
   "source": [
    "[Volver a Contenidos](#back)"
   ]
  },
  {
   "cell_type": "markdown",
   "metadata": {},
   "source": [
    "## Modelo: Random Forest Classifier<a id='random_for'></a>"
   ]
  },
  {
   "cell_type": "markdown",
   "metadata": {},
   "source": [
    "### Entrenamiento del modelo para Upsampling <a id='training_random_for_up'></a>"
   ]
  },
  {
   "cell_type": "code",
   "execution_count": 22,
   "metadata": {},
   "outputs": [],
   "source": [
    "model_rf_up = RandomForestClassifier (\n",
    "    n_estimators= 200,\n",
    "    max_depth = 10,\n",
    "    random_state = 12345,\n",
    "    class_weight = 'balanced'\n",
    "\n",
    ")"
   ]
  },
  {
   "cell_type": "markdown",
   "metadata": {},
   "source": [
    "#### F1 para Upsampling <a id='f1_up_random_for'></a>"
   ]
  },
  {
   "cell_type": "code",
   "execution_count": 23,
   "metadata": {},
   "outputs": [
    {
     "name": "stdout",
     "output_type": "stream",
     "text": [
      "F1 de Random Forest Upsampled: 0.6428571428571429\n"
     ]
    }
   ],
   "source": [
    "model_rf_up.fit(features_upsampled_sc, target_upsampled)\n",
    "predicted_valid_up = model_rf_up.predict(features_valid_sc )\n",
    "print('F1 de Random Forest Upsampled:', f1_score(target_valid, predicted_valid_up))"
   ]
  },
  {
   "cell_type": "markdown",
   "metadata": {},
   "source": [
    "<span style='color:green'> Como ya contabamos con los datos estandarizados, decidi usar esos datos. La cantidad de arboles apra este bosque lo determiné cambiando el número y el mejor fue 200, así como la profundidad esta fue la mejor combinación. También para obtener los mejores resultados decidí poner el argumento para balancear las clases. Este modelo con Upsamplig fue el mejor y superó el objetivo de 0.59 de F1.</span>"
   ]
  },
  {
   "cell_type": "markdown",
   "metadata": {},
   "source": [
    "<div class=\"alert alert-block alert-success\"> \n",
    "<b>Comentario del Revisor #1</b> <a class=\"tocSkip\"></a>\n",
    "\n",
    "Genial! Has alcanzado una métrica F1 superior al 0.59. Esta métrica es muy útil en situaciones con clases desbalanceadas, ya que considera tanto la precisión como la exhaustividad (recall) del modelo.\n",
    "\n",
    "Excelente trabajo!\n",
    "\n",
    "</div>"
   ]
  },
  {
   "cell_type": "markdown",
   "metadata": {},
   "source": [
    "[Volver a Contenidos](#back)"
   ]
  },
  {
   "cell_type": "markdown",
   "metadata": {},
   "source": [
    "### Métricas y Curva ROC  del modelo Random Forest<a id='metrics_curve_reg_log'></a>"
   ]
  },
  {
   "cell_type": "markdown",
   "metadata": {},
   "source": [
    "#### Ajuste de umbral <a id='umbral__curve_random_for'></a>"
   ]
  },
  {
   "cell_type": "code",
   "execution_count": 24,
   "metadata": {},
   "outputs": [],
   "source": [
    "proba_predictions_rf_up = model_rf_up.predict_proba(features_valid_sc)[:, 1] \n",
    "\n",
    "threshold_rf_up = 0.5\n",
    "predictions_adjusted_rf_up = (proba_predictions_rf_up > threshold_rf_up).astype(int)"
   ]
  },
  {
   "cell_type": "markdown",
   "metadata": {},
   "source": [
    "<span style='color:green'> Al igual que en upsampling pero con el modelo lineal, traté de ajustar el umbral pero 0.4 o 0.6 no daban mejores resultados así que 0.5 fue lo mejor. </span>"
   ]
  },
  {
   "cell_type": "markdown",
   "metadata": {},
   "source": [
    "#### Métricas <a id='metrics_random_forest'></a>"
   ]
  },
  {
   "cell_type": "code",
   "execution_count": 25,
   "metadata": {},
   "outputs": [
    {
     "name": "stdout",
     "output_type": "stream",
     "text": [
      "F1 Score: 0.6428571428571429\n",
      "ROC AUC Score: 0.8638738674466717\n",
      "Matriz de Confusión:\n",
      " [[1683  282]\n",
      " [ 148  387]]\n"
     ]
    }
   ],
   "source": [
    "f1_rf_up = f1_score(target_valid, predictions_adjusted_rf_up)\n",
    "roc_auc_rf_up = roc_auc_score(target_valid, proba_predictions_rf_up)\n",
    "conf_matrix_rf_up = confusion_matrix(target_valid, predictions_adjusted_rf_up)\n",
    "\n",
    "\n",
    "print(\"F1 Score:\", f1_rf_up)\n",
    "print(\"ROC AUC Score:\",roc_auc_rf_up)\n",
    "print(\"Matriz de Confusión:\\n\", conf_matrix_rf_up)"
   ]
  },
  {
   "cell_type": "markdown",
   "metadata": {},
   "source": [
    "<span style='color:green'> Aquí los falsos positivos disminuyeron así como los falsos negativos, dato que es importante y sugiere un modelo más óptimo para decidir si el cliente se va o no </span>"
   ]
  },
  {
   "cell_type": "markdown",
   "metadata": {},
   "source": [
    "#### Curva ROC <a id='metrics_random_forest'></a>"
   ]
  },
  {
   "cell_type": "code",
   "execution_count": 26,
   "metadata": {},
   "outputs": [
    {
     "data": {
      "image/png": "[encoded data removed]",
      "text/plain": [
       "<Figure size 800x600 with 1 Axes>"
      ]
     },
     "metadata": {},
     "output_type": "display_data"
    }
   ],
   "source": [
    "fpr_rf_up, tpr_rf_up, thresholds_rf_up = roc_curve(target_valid, proba_predictions_rf_up)\n",
    "plt.figure(figsize=(8, 6))\n",
    "plt.plot(fpr_rf_up, tpr_rf_up, label=f'ROC Curve (AUC = {roc_auc_rf_up:.2f})', linewidth=2)\n",
    "plt.plot([0, 1], [0, 1], 'k--', label=\"Random Guess\", linewidth=1)\n",
    "plt.xlabel('False Positive Rate (FPR)')\n",
    "plt.ylabel('True Positive Rate (TPR)')\n",
    "plt.title('Curva ROC')\n",
    "plt.legend(loc='lower right')\n",
    "plt.grid()\n",
    "plt.show()"
   ]
  },
  {
   "cell_type": "markdown",
   "metadata": {},
   "source": [
    "<span style='color:green'>  El modelo random forest por ser un modelo más robusto lo demuestra con la mejoría del modelo, y que tiene altas probabilidades de decidir si se quedan o no con ese ROC AUC Score de 0.86 </span>"
   ]
  },
  {
   "cell_type": "markdown",
   "metadata": {},
   "source": [
    "<div class=\"alert alert-block alert-success\"> \n",
    "<b>Comentario del Revisor #1</b> <a class=\"tocSkip\"></a>\n",
    "\n",
    "Excelente!\n",
    "\n",
    "</div>"
   ]
  },
  {
   "cell_type": "markdown",
   "metadata": {},
   "source": [
    "[Volver a Contenidos](#back)"
   ]
  },
  {
   "cell_type": "markdown",
   "metadata": {},
   "source": [
    "### Entrenamiento del modelo para Downsampling <a id='training_random_for_down'></a>"
   ]
  },
  {
   "cell_type": "code",
   "execution_count": 27,
   "metadata": {},
   "outputs": [],
   "source": [
    "model_rf_down = RandomForestClassifier (\n",
    "    n_estimators= 100,\n",
    "    max_depth = 10,\n",
    "    random_state = 12345,\n",
    "    class_weight = 'balanced'\n",
    "\n",
    ")"
   ]
  },
  {
   "cell_type": "markdown",
   "metadata": {},
   "source": [
    "#### F1 para Downsampling <a id='f1_down_random_for'></a>"
   ]
  },
  {
   "cell_type": "code",
   "execution_count": 28,
   "metadata": {},
   "outputs": [
    {
     "name": "stdout",
     "output_type": "stream",
     "text": [
      "F1 de Random Forest Upsampled: 0.5433391506689936\n"
     ]
    }
   ],
   "source": [
    "model_rf_down.fit(features_downsampled_sc, target_downsampled)\n",
    "predicted_valid_down = model_rf_down.predict(features_valid_scaled )\n",
    "print('F1 de Random Forest Upsampled:', f1_score(target_valid, predicted_valid_down))"
   ]
  },
  {
   "cell_type": "markdown",
   "metadata": {},
   "source": [
    "<span style='color:green'>  Desde este paso decido no continuar con el Downsampling ya que elimina datos de la clase mayoritaria, lo cual podría limitar el modelo al no aprovechar toda la información disponible. Y al mismo tiempo porque se obtienen valores parecidos con el modelo lineal y este al ser un bosque, desde este pasó debería de verse la mejoría en cuanto a resultados, cosa que no se logró. </span>"
   ]
  },
  {
   "cell_type": "markdown",
   "metadata": {},
   "source": [
    "# Conclusión <a id='conclusion'></a>"
   ]
  },
  {
   "cell_type": "markdown",
   "metadata": {},
   "source": [
    "<span style='color:green'>  El modelo Random Forest con upsampling ofrece el mejor balance entre precisión y sensibilidad. Puede identificar clientes propensos a abandonar con un F1 Score de 0.64 y un excelente AUC de 0.86, lo cual lo hace ideal para implementar estrategias de retención proactivas.\n",
    "El mejor modelo con ajuste del desbalance de clases es el Random Forest con Upsampling ya que ofrece y supera las expectaticas del objetivo de F1 de 0.59 con F1 de 0.64. Esto nos quiere decir que sí puede identificar clientes que tiendan a abandonar Beta Bank. De acuerdo a todo el análisis no son tantos casos pero por decir un ejemplo, se podrían negociar el con el departamento de ventas y ofrecer descuentos para que obtengan más productos a lo largo del tiempo esto se traduce en fidelidad a nuestro banco y por lo tanto menos abandono </span>"
   ]
  },
  {
   "cell_type": "markdown",
   "metadata": {},
   "source": [
    "[Volver a Contenidos](#back)"
   ]
  },
  {
   "cell_type": "markdown",
   "metadata": {},
   "source": [
    "\n",
    "<div class=\"alert alert-block alert-success\"> \n",
    "<b>Comentario del Revisor #1</b> <a class=\"tocSkip\"></a>\n",
    "\n",
    "Felicidades Aylin! Tu trabajo es excelente.\n",
    "\n",
    "Tu entrega es correcta, super organizada y tus comentarios y conclusiones muy acertadas. \n",
    "\n",
    "Has completado todos los items necesarios para aprobar la entrega.\n",
    "\n",
    "</div>"
   ]
  }
 ],
 "metadata": {
  "ExecuteTimeLog": [
   {
    "duration": 2952,
    "start_time": "2024-11-20T00:15:00.362Z"
   },
   {
    "duration": 26,
    "start_time": "2024-11-20T00:15:03.316Z"
   },
   {
    "duration": 14,
    "start_time": "2024-11-20T00:15:50.358Z"
   },
   {
    "duration": 30,
    "start_time": "2024-11-20T00:15:56.810Z"
   },
   {
    "duration": 15,
    "start_time": "2024-11-20T00:16:08.652Z"
   },
   {
    "duration": 12,
    "start_time": "2024-11-20T00:16:12.177Z"
   },
   {
    "duration": 289,
    "start_time": "2024-11-20T05:28:37.060Z"
   },
   {
    "duration": 102,
    "start_time": "2024-11-20T05:28:47.714Z"
   },
   {
    "duration": 81,
    "start_time": "2024-11-20T05:34:39.288Z"
   },
   {
    "duration": 321,
    "start_time": "2024-11-20T05:36:26.265Z"
   },
   {
    "duration": 4,
    "start_time": "2024-11-20T05:36:46.263Z"
   },
   {
    "duration": 12,
    "start_time": "2024-11-20T05:36:53.870Z"
   },
   {
    "duration": 15,
    "start_time": "2024-11-20T05:37:04.916Z"
   },
   {
    "duration": 982,
    "start_time": "2024-11-20T05:37:21.531Z"
   },
   {
    "duration": 17,
    "start_time": "2024-11-20T05:37:22.515Z"
   },
   {
    "duration": 15,
    "start_time": "2024-11-20T05:37:22.535Z"
   },
   {
    "duration": 28,
    "start_time": "2024-11-20T05:37:22.551Z"
   },
   {
    "duration": 9,
    "start_time": "2024-11-20T05:37:22.581Z"
   },
   {
    "duration": 105,
    "start_time": "2024-11-20T05:37:22.592Z"
   },
   {
    "duration": 21,
    "start_time": "2024-11-20T05:37:22.699Z"
   },
   {
    "duration": 10,
    "start_time": "2024-11-20T05:37:22.722Z"
   },
   {
    "duration": 11,
    "start_time": "2024-11-20T05:38:11.196Z"
   },
   {
    "duration": 11,
    "start_time": "2024-11-20T05:38:12.718Z"
   },
   {
    "duration": 81,
    "start_time": "2024-11-20T05:45:30.737Z"
   },
   {
    "duration": 138,
    "start_time": "2024-11-20T05:49:29.482Z"
   },
   {
    "duration": 11,
    "start_time": "2024-11-20T05:49:41.635Z"
   },
   {
    "duration": 10,
    "start_time": "2024-11-20T05:50:06.423Z"
   },
   {
    "duration": 8,
    "start_time": "2024-11-20T05:50:50.946Z"
   },
   {
    "duration": 2753,
    "start_time": "2024-11-20T19:40:16.581Z"
   },
   {
    "duration": 23,
    "start_time": "2024-11-20T19:40:19.336Z"
   },
   {
    "duration": 13,
    "start_time": "2024-11-20T19:40:19.360Z"
   },
   {
    "duration": 32,
    "start_time": "2024-11-20T19:40:19.376Z"
   },
   {
    "duration": 10,
    "start_time": "2024-11-20T19:40:19.411Z"
   },
   {
    "duration": 106,
    "start_time": "2024-11-20T19:40:19.423Z"
   },
   {
    "duration": 12,
    "start_time": "2024-11-20T19:40:19.531Z"
   },
   {
    "duration": 9,
    "start_time": "2024-11-20T19:40:19.545Z"
   },
   {
    "duration": 9,
    "start_time": "2024-11-20T19:40:19.556Z"
   },
   {
    "duration": 899,
    "start_time": "2024-11-20T19:46:52.082Z"
   },
   {
    "duration": 36,
    "start_time": "2024-11-20T19:47:11.947Z"
   },
   {
    "duration": 15,
    "start_time": "2024-11-20T19:47:47.624Z"
   },
   {
    "duration": 12,
    "start_time": "2024-11-20T19:47:53.426Z"
   },
   {
    "duration": 5,
    "start_time": "2024-11-20T19:50:55.924Z"
   },
   {
    "duration": 13,
    "start_time": "2024-11-20T19:52:45.251Z"
   },
   {
    "duration": 14,
    "start_time": "2024-11-20T19:52:47.746Z"
   },
   {
    "duration": 6,
    "start_time": "2024-11-20T19:53:37.849Z"
   },
   {
    "duration": 995,
    "start_time": "2024-11-20T20:40:29.099Z"
   },
   {
    "duration": 15,
    "start_time": "2024-11-20T20:40:30.097Z"
   },
   {
    "duration": 13,
    "start_time": "2024-11-20T20:40:30.114Z"
   },
   {
    "duration": 33,
    "start_time": "2024-11-20T20:40:30.128Z"
   },
   {
    "duration": 25,
    "start_time": "2024-11-20T20:40:30.165Z"
   },
   {
    "duration": 102,
    "start_time": "2024-11-20T20:40:30.192Z"
   },
   {
    "duration": 12,
    "start_time": "2024-11-20T20:40:30.296Z"
   },
   {
    "duration": 11,
    "start_time": "2024-11-20T20:40:30.310Z"
   },
   {
    "duration": 11,
    "start_time": "2024-11-20T20:40:30.322Z"
   },
   {
    "duration": 934,
    "start_time": "2024-11-20T20:40:30.335Z"
   },
   {
    "duration": 37,
    "start_time": "2024-11-20T20:40:58.420Z"
   },
   {
    "duration": 54,
    "start_time": "2024-11-20T20:41:30.040Z"
   },
   {
    "duration": 62,
    "start_time": "2024-11-20T20:42:13.943Z"
   },
   {
    "duration": 62,
    "start_time": "2024-11-20T20:42:21.656Z"
   },
   {
    "duration": 1207,
    "start_time": "2024-11-20T20:42:27.334Z"
   },
   {
    "duration": 24,
    "start_time": "2024-11-20T20:42:28.543Z"
   },
   {
    "duration": 18,
    "start_time": "2024-11-20T20:42:28.569Z"
   },
   {
    "duration": 36,
    "start_time": "2024-11-20T20:42:28.588Z"
   },
   {
    "duration": 12,
    "start_time": "2024-11-20T20:42:28.627Z"
   },
   {
    "duration": 154,
    "start_time": "2024-11-20T20:42:28.641Z"
   },
   {
    "duration": 18,
    "start_time": "2024-11-20T20:42:28.802Z"
   },
   {
    "duration": 14,
    "start_time": "2024-11-20T20:42:28.827Z"
   },
   {
    "duration": 25,
    "start_time": "2024-11-20T20:42:28.847Z"
   },
   {
    "duration": 1632,
    "start_time": "2024-11-20T20:42:28.877Z"
   },
   {
    "duration": 5,
    "start_time": "2024-11-20T20:42:48.397Z"
   },
   {
    "duration": 16,
    "start_time": "2024-11-20T20:42:58.198Z"
   },
   {
    "duration": 6,
    "start_time": "2024-11-20T20:43:07.306Z"
   },
   {
    "duration": 1512,
    "start_time": "2024-11-20T20:47:49.465Z"
   },
   {
    "duration": 26,
    "start_time": "2024-11-20T20:47:50.980Z"
   },
   {
    "duration": 23,
    "start_time": "2024-11-20T20:47:51.009Z"
   },
   {
    "duration": 53,
    "start_time": "2024-11-20T20:47:51.037Z"
   },
   {
    "duration": 18,
    "start_time": "2024-11-20T20:47:51.099Z"
   },
   {
    "duration": 157,
    "start_time": "2024-11-20T20:47:51.124Z"
   },
   {
    "duration": 22,
    "start_time": "2024-11-20T20:47:51.288Z"
   },
   {
    "duration": 20,
    "start_time": "2024-11-20T20:47:51.317Z"
   },
   {
    "duration": 26,
    "start_time": "2024-11-20T20:47:51.344Z"
   },
   {
    "duration": 455,
    "start_time": "2024-11-20T20:47:51.378Z"
   },
   {
    "duration": 565,
    "start_time": "2024-11-20T20:48:10.107Z"
   },
   {
    "duration": 27,
    "start_time": "2024-11-20T20:48:38.111Z"
   },
   {
    "duration": 12,
    "start_time": "2024-11-20T20:49:31.497Z"
   },
   {
    "duration": 6,
    "start_time": "2024-11-20T20:55:58.741Z"
   },
   {
    "duration": 1134,
    "start_time": "2024-11-20T20:57:01.198Z"
   },
   {
    "duration": 21,
    "start_time": "2024-11-20T20:57:02.334Z"
   },
   {
    "duration": 16,
    "start_time": "2024-11-20T20:57:02.356Z"
   },
   {
    "duration": 29,
    "start_time": "2024-11-20T20:57:02.386Z"
   },
   {
    "duration": 12,
    "start_time": "2024-11-20T20:57:02.417Z"
   },
   {
    "duration": 112,
    "start_time": "2024-11-20T20:57:02.431Z"
   },
   {
    "duration": 13,
    "start_time": "2024-11-20T20:57:02.545Z"
   },
   {
    "duration": 10,
    "start_time": "2024-11-20T20:57:02.561Z"
   },
   {
    "duration": 9,
    "start_time": "2024-11-20T20:57:02.588Z"
   },
   {
    "duration": 1272,
    "start_time": "2024-11-20T20:57:02.600Z"
   },
   {
    "duration": 0,
    "start_time": "2024-11-20T20:57:03.875Z"
   },
   {
    "duration": 84,
    "start_time": "2024-11-20T21:02:13.541Z"
   },
   {
    "duration": 101,
    "start_time": "2024-11-20T21:02:35.872Z"
   },
   {
    "duration": 127,
    "start_time": "2024-11-20T21:04:23.399Z"
   },
   {
    "duration": 1120,
    "start_time": "2024-11-20T21:06:46.204Z"
   },
   {
    "duration": 23,
    "start_time": "2024-11-20T21:06:47.327Z"
   },
   {
    "duration": 16,
    "start_time": "2024-11-20T21:06:47.352Z"
   },
   {
    "duration": 54,
    "start_time": "2024-11-20T21:06:47.370Z"
   },
   {
    "duration": 11,
    "start_time": "2024-11-20T21:06:47.428Z"
   },
   {
    "duration": 109,
    "start_time": "2024-11-20T21:06:47.441Z"
   },
   {
    "duration": 12,
    "start_time": "2024-11-20T21:06:47.553Z"
   },
   {
    "duration": 9,
    "start_time": "2024-11-20T21:06:47.567Z"
   },
   {
    "duration": 28,
    "start_time": "2024-11-20T21:06:47.578Z"
   },
   {
    "duration": 260,
    "start_time": "2024-11-20T21:06:47.608Z"
   },
   {
    "duration": 0,
    "start_time": "2024-11-20T21:06:47.871Z"
   },
   {
    "duration": 570,
    "start_time": "2024-11-20T21:08:50.566Z"
   },
   {
    "duration": 598,
    "start_time": "2024-11-20T21:09:39.344Z"
   },
   {
    "duration": 20,
    "start_time": "2024-11-20T21:10:15.181Z"
   },
   {
    "duration": 1141,
    "start_time": "2024-11-20T21:10:29.482Z"
   },
   {
    "duration": 20,
    "start_time": "2024-11-20T21:10:30.625Z"
   },
   {
    "duration": 17,
    "start_time": "2024-11-20T21:10:30.647Z"
   },
   {
    "duration": 44,
    "start_time": "2024-11-20T21:10:30.666Z"
   },
   {
    "duration": 10,
    "start_time": "2024-11-20T21:10:30.713Z"
   },
   {
    "duration": 113,
    "start_time": "2024-11-20T21:10:30.724Z"
   },
   {
    "duration": 11,
    "start_time": "2024-11-20T21:10:30.839Z"
   },
   {
    "duration": 11,
    "start_time": "2024-11-20T21:10:30.852Z"
   },
   {
    "duration": 24,
    "start_time": "2024-11-20T21:10:30.865Z"
   },
   {
    "duration": 10,
    "start_time": "2024-11-20T21:10:30.892Z"
   },
   {
    "duration": 240,
    "start_time": "2024-11-20T21:10:30.905Z"
   },
   {
    "duration": 10,
    "start_time": "2024-11-20T21:10:41.647Z"
   },
   {
    "duration": 5,
    "start_time": "2024-11-20T21:10:43.312Z"
   },
   {
    "duration": 15,
    "start_time": "2024-11-20T21:27:00.239Z"
   },
   {
    "duration": 19,
    "start_time": "2024-11-20T21:27:54.886Z"
   },
   {
    "duration": 8,
    "start_time": "2024-11-20T21:28:32.252Z"
   },
   {
    "duration": 18,
    "start_time": "2024-11-20T21:30:09.799Z"
   },
   {
    "duration": 5,
    "start_time": "2024-11-20T21:36:11.027Z"
   },
   {
    "duration": 14,
    "start_time": "2024-11-20T21:36:18.824Z"
   },
   {
    "duration": 5,
    "start_time": "2024-11-20T21:36:22.986Z"
   },
   {
    "duration": 5,
    "start_time": "2024-11-20T21:50:43.250Z"
   },
   {
    "duration": 5,
    "start_time": "2024-11-20T21:50:44.183Z"
   },
   {
    "duration": 1128,
    "start_time": "2024-11-20T21:57:59.079Z"
   },
   {
    "duration": 15,
    "start_time": "2024-11-20T21:58:00.209Z"
   },
   {
    "duration": 15,
    "start_time": "2024-11-20T21:58:00.226Z"
   },
   {
    "duration": 43,
    "start_time": "2024-11-20T21:58:00.244Z"
   },
   {
    "duration": 12,
    "start_time": "2024-11-20T21:58:00.291Z"
   },
   {
    "duration": 114,
    "start_time": "2024-11-20T21:58:00.306Z"
   },
   {
    "duration": 13,
    "start_time": "2024-11-20T21:58:00.421Z"
   },
   {
    "duration": 10,
    "start_time": "2024-11-20T21:58:00.436Z"
   },
   {
    "duration": 9,
    "start_time": "2024-11-20T21:58:00.448Z"
   },
   {
    "duration": 35,
    "start_time": "2024-11-20T21:58:00.459Z"
   },
   {
    "duration": 5,
    "start_time": "2024-11-20T21:58:00.496Z"
   },
   {
    "duration": 7,
    "start_time": "2024-11-20T21:58:00.502Z"
   },
   {
    "duration": 244,
    "start_time": "2024-11-20T21:58:00.511Z"
   },
   {
    "duration": 174,
    "start_time": "2024-11-20T22:58:25.795Z"
   },
   {
    "duration": 2737,
    "start_time": "2024-11-20T22:58:33.463Z"
   },
   {
    "duration": 34,
    "start_time": "2024-11-20T22:58:36.203Z"
   },
   {
    "duration": 13,
    "start_time": "2024-11-20T22:58:36.239Z"
   },
   {
    "duration": 29,
    "start_time": "2024-11-20T22:58:36.254Z"
   },
   {
    "duration": 12,
    "start_time": "2024-11-20T22:58:36.288Z"
   },
   {
    "duration": 111,
    "start_time": "2024-11-20T22:58:36.302Z"
   },
   {
    "duration": 11,
    "start_time": "2024-11-20T22:58:36.415Z"
   },
   {
    "duration": 9,
    "start_time": "2024-11-20T22:58:36.428Z"
   },
   {
    "duration": 10,
    "start_time": "2024-11-20T22:58:36.439Z"
   },
   {
    "duration": 36,
    "start_time": "2024-11-20T22:58:36.451Z"
   },
   {
    "duration": 5,
    "start_time": "2024-11-20T22:58:36.489Z"
   },
   {
    "duration": 4,
    "start_time": "2024-11-20T22:58:36.497Z"
   },
   {
    "duration": 320,
    "start_time": "2024-11-20T22:58:36.503Z"
   },
   {
    "duration": 0,
    "start_time": "2024-11-20T22:58:36.825Z"
   },
   {
    "duration": 1000,
    "start_time": "2024-11-20T22:59:06.807Z"
   },
   {
    "duration": 15,
    "start_time": "2024-11-20T22:59:07.809Z"
   },
   {
    "duration": 11,
    "start_time": "2024-11-20T22:59:07.826Z"
   },
   {
    "duration": 48,
    "start_time": "2024-11-20T22:59:07.839Z"
   },
   {
    "duration": 10,
    "start_time": "2024-11-20T22:59:07.890Z"
   },
   {
    "duration": 105,
    "start_time": "2024-11-20T22:59:07.902Z"
   },
   {
    "duration": 14,
    "start_time": "2024-11-20T22:59:08.010Z"
   },
   {
    "duration": 11,
    "start_time": "2024-11-20T22:59:08.026Z"
   },
   {
    "duration": 10,
    "start_time": "2024-11-20T22:59:08.038Z"
   },
   {
    "duration": 11,
    "start_time": "2024-11-20T22:59:08.049Z"
   },
   {
    "duration": 4,
    "start_time": "2024-11-20T22:59:08.087Z"
   },
   {
    "duration": 4,
    "start_time": "2024-11-20T22:59:08.093Z"
   },
   {
    "duration": 89,
    "start_time": "2024-11-20T22:59:08.099Z"
   },
   {
    "duration": 313,
    "start_time": "2024-11-20T22:59:08.190Z"
   },
   {
    "duration": 3,
    "start_time": "2024-11-20T22:59:29.460Z"
   },
   {
    "duration": 62,
    "start_time": "2024-11-20T22:59:36.757Z"
   },
   {
    "duration": 2730,
    "start_time": "2024-11-21T02:05:25.691Z"
   },
   {
    "duration": 27,
    "start_time": "2024-11-21T02:05:28.423Z"
   },
   {
    "duration": 13,
    "start_time": "2024-11-21T02:05:28.451Z"
   },
   {
    "duration": 28,
    "start_time": "2024-11-21T02:05:28.466Z"
   },
   {
    "duration": 9,
    "start_time": "2024-11-21T02:05:28.495Z"
   },
   {
    "duration": 159,
    "start_time": "2024-11-21T02:05:28.506Z"
   },
   {
    "duration": 11,
    "start_time": "2024-11-21T02:05:28.672Z"
   },
   {
    "duration": 10,
    "start_time": "2024-11-21T02:05:28.685Z"
   },
   {
    "duration": 10,
    "start_time": "2024-11-21T02:05:28.697Z"
   },
   {
    "duration": 10,
    "start_time": "2024-11-21T02:05:28.710Z"
   },
   {
    "duration": 5,
    "start_time": "2024-11-21T02:05:28.724Z"
   },
   {
    "duration": 5,
    "start_time": "2024-11-21T02:05:28.730Z"
   },
   {
    "duration": 36,
    "start_time": "2024-11-21T02:05:28.736Z"
   },
   {
    "duration": 64,
    "start_time": "2024-11-21T02:05:28.773Z"
   },
   {
    "duration": 334,
    "start_time": "2024-11-21T02:05:28.839Z"
   },
   {
    "duration": 23,
    "start_time": "2024-11-21T02:59:06.826Z"
   },
   {
    "duration": 23,
    "start_time": "2024-11-21T03:00:34.554Z"
   },
   {
    "duration": 1022,
    "start_time": "2024-11-21T03:00:52.285Z"
   },
   {
    "duration": 16,
    "start_time": "2024-11-21T03:00:53.309Z"
   },
   {
    "duration": 13,
    "start_time": "2024-11-21T03:00:53.326Z"
   },
   {
    "duration": 40,
    "start_time": "2024-11-21T03:00:53.341Z"
   },
   {
    "duration": 9,
    "start_time": "2024-11-21T03:00:53.383Z"
   },
   {
    "duration": 101,
    "start_time": "2024-11-21T03:00:53.394Z"
   },
   {
    "duration": 12,
    "start_time": "2024-11-21T03:00:53.496Z"
   },
   {
    "duration": 9,
    "start_time": "2024-11-21T03:00:53.509Z"
   },
   {
    "duration": 10,
    "start_time": "2024-11-21T03:00:53.520Z"
   },
   {
    "duration": 11,
    "start_time": "2024-11-21T03:00:53.531Z"
   },
   {
    "duration": 29,
    "start_time": "2024-11-21T03:00:53.543Z"
   },
   {
    "duration": 5,
    "start_time": "2024-11-21T03:00:53.574Z"
   },
   {
    "duration": 3,
    "start_time": "2024-11-21T03:00:53.581Z"
   },
   {
    "duration": 262,
    "start_time": "2024-11-21T03:00:53.587Z"
   },
   {
    "duration": 1,
    "start_time": "2024-11-21T03:00:53.850Z"
   },
   {
    "duration": 36,
    "start_time": "2024-11-21T03:01:45.498Z"
   },
   {
    "duration": 1002,
    "start_time": "2024-11-21T03:01:59.577Z"
   },
   {
    "duration": 15,
    "start_time": "2024-11-21T03:02:00.581Z"
   },
   {
    "duration": 12,
    "start_time": "2024-11-21T03:02:00.598Z"
   },
   {
    "duration": 26,
    "start_time": "2024-11-21T03:02:00.613Z"
   },
   {
    "duration": 30,
    "start_time": "2024-11-21T03:02:00.641Z"
   },
   {
    "duration": 99,
    "start_time": "2024-11-21T03:02:00.672Z"
   },
   {
    "duration": 11,
    "start_time": "2024-11-21T03:02:00.773Z"
   },
   {
    "duration": 9,
    "start_time": "2024-11-21T03:02:00.785Z"
   },
   {
    "duration": 9,
    "start_time": "2024-11-21T03:02:00.796Z"
   },
   {
    "duration": 10,
    "start_time": "2024-11-21T03:02:00.806Z"
   },
   {
    "duration": 5,
    "start_time": "2024-11-21T03:02:00.817Z"
   },
   {
    "duration": 5,
    "start_time": "2024-11-21T03:02:00.823Z"
   },
   {
    "duration": 3,
    "start_time": "2024-11-21T03:02:00.829Z"
   },
   {
    "duration": 41,
    "start_time": "2024-11-21T03:02:00.873Z"
   },
   {
    "duration": 377,
    "start_time": "2024-11-21T03:02:00.916Z"
   },
   {
    "duration": 63,
    "start_time": "2024-11-21T03:03:15.950Z"
   },
   {
    "duration": 940,
    "start_time": "2024-11-21T03:04:22.742Z"
   },
   {
    "duration": 17,
    "start_time": "2024-11-21T03:04:23.684Z"
   },
   {
    "duration": 12,
    "start_time": "2024-11-21T03:04:23.704Z"
   },
   {
    "duration": 29,
    "start_time": "2024-11-21T03:04:23.718Z"
   },
   {
    "duration": 26,
    "start_time": "2024-11-21T03:04:23.750Z"
   },
   {
    "duration": 104,
    "start_time": "2024-11-21T03:04:23.778Z"
   },
   {
    "duration": 12,
    "start_time": "2024-11-21T03:04:23.884Z"
   },
   {
    "duration": 11,
    "start_time": "2024-11-21T03:04:23.899Z"
   },
   {
    "duration": 9,
    "start_time": "2024-11-21T03:04:23.911Z"
   },
   {
    "duration": 10,
    "start_time": "2024-11-21T03:04:23.921Z"
   },
   {
    "duration": 4,
    "start_time": "2024-11-21T03:04:23.933Z"
   },
   {
    "duration": 34,
    "start_time": "2024-11-21T03:04:23.940Z"
   },
   {
    "duration": 4,
    "start_time": "2024-11-21T03:04:23.975Z"
   },
   {
    "duration": 41,
    "start_time": "2024-11-21T03:04:23.982Z"
   },
   {
    "duration": 364,
    "start_time": "2024-11-21T03:04:24.024Z"
   },
   {
    "duration": 983,
    "start_time": "2024-11-21T03:07:58.488Z"
   },
   {
    "duration": 16,
    "start_time": "2024-11-21T03:07:59.473Z"
   },
   {
    "duration": 12,
    "start_time": "2024-11-21T03:07:59.491Z"
   },
   {
    "duration": 28,
    "start_time": "2024-11-21T03:07:59.504Z"
   },
   {
    "duration": 10,
    "start_time": "2024-11-21T03:07:59.534Z"
   },
   {
    "duration": 114,
    "start_time": "2024-11-21T03:07:59.546Z"
   },
   {
    "duration": 12,
    "start_time": "2024-11-21T03:07:59.669Z"
   },
   {
    "duration": 9,
    "start_time": "2024-11-21T03:07:59.683Z"
   },
   {
    "duration": 9,
    "start_time": "2024-11-21T03:07:59.693Z"
   },
   {
    "duration": 10,
    "start_time": "2024-11-21T03:07:59.704Z"
   },
   {
    "duration": 7,
    "start_time": "2024-11-21T03:07:59.715Z"
   },
   {
    "duration": 4,
    "start_time": "2024-11-21T03:07:59.724Z"
   },
   {
    "duration": 4,
    "start_time": "2024-11-21T03:07:59.730Z"
   },
   {
    "duration": 71,
    "start_time": "2024-11-21T03:07:59.771Z"
   },
   {
    "duration": 132,
    "start_time": "2024-11-21T03:07:59.871Z"
   },
   {
    "duration": 387,
    "start_time": "2024-11-21T03:08:00.012Z"
   },
   {
    "duration": 947,
    "start_time": "2024-11-21T03:09:10.931Z"
   },
   {
    "duration": 15,
    "start_time": "2024-11-21T03:09:11.880Z"
   },
   {
    "duration": 11,
    "start_time": "2024-11-21T03:09:11.898Z"
   },
   {
    "duration": 27,
    "start_time": "2024-11-21T03:09:11.911Z"
   },
   {
    "duration": 31,
    "start_time": "2024-11-21T03:09:11.940Z"
   },
   {
    "duration": 98,
    "start_time": "2024-11-21T03:09:11.972Z"
   },
   {
    "duration": 11,
    "start_time": "2024-11-21T03:09:12.072Z"
   },
   {
    "duration": 9,
    "start_time": "2024-11-21T03:09:12.086Z"
   },
   {
    "duration": 8,
    "start_time": "2024-11-21T03:09:12.097Z"
   },
   {
    "duration": 10,
    "start_time": "2024-11-21T03:09:12.108Z"
   },
   {
    "duration": 5,
    "start_time": "2024-11-21T03:09:12.119Z"
   },
   {
    "duration": 4,
    "start_time": "2024-11-21T03:09:12.126Z"
   },
   {
    "duration": 40,
    "start_time": "2024-11-21T03:09:12.131Z"
   },
   {
    "duration": 44,
    "start_time": "2024-11-21T03:09:12.172Z"
   },
   {
    "duration": 183,
    "start_time": "2024-11-21T03:09:12.217Z"
   },
   {
    "duration": 371,
    "start_time": "2024-11-21T03:09:12.402Z"
   },
   {
    "duration": 34,
    "start_time": "2024-11-21T03:20:43.982Z"
   },
   {
    "duration": 63,
    "start_time": "2024-11-21T03:20:50.406Z"
   },
   {
    "duration": 980,
    "start_time": "2024-11-21T03:20:58.249Z"
   },
   {
    "duration": 16,
    "start_time": "2024-11-21T03:20:59.231Z"
   },
   {
    "duration": 12,
    "start_time": "2024-11-21T03:20:59.248Z"
   },
   {
    "duration": 27,
    "start_time": "2024-11-21T03:20:59.270Z"
   },
   {
    "duration": 9,
    "start_time": "2024-11-21T03:20:59.300Z"
   },
   {
    "duration": 107,
    "start_time": "2024-11-21T03:20:59.311Z"
   },
   {
    "duration": 11,
    "start_time": "2024-11-21T03:20:59.421Z"
   },
   {
    "duration": 9,
    "start_time": "2024-11-21T03:20:59.433Z"
   },
   {
    "duration": 30,
    "start_time": "2024-11-21T03:20:59.444Z"
   },
   {
    "duration": 13,
    "start_time": "2024-11-21T03:20:59.475Z"
   },
   {
    "duration": 5,
    "start_time": "2024-11-21T03:20:59.490Z"
   },
   {
    "duration": 6,
    "start_time": "2024-11-21T03:20:59.497Z"
   },
   {
    "duration": 4,
    "start_time": "2024-11-21T03:20:59.505Z"
   },
   {
    "duration": 70,
    "start_time": "2024-11-21T03:20:59.512Z"
   },
   {
    "duration": 134,
    "start_time": "2024-11-21T03:20:59.584Z"
   },
   {
    "duration": 355,
    "start_time": "2024-11-21T03:20:59.720Z"
   },
   {
    "duration": 35,
    "start_time": "2024-11-21T04:47:57.141Z"
   },
   {
    "duration": 969,
    "start_time": "2024-11-21T04:48:43.104Z"
   },
   {
    "duration": 15,
    "start_time": "2024-11-21T04:48:44.076Z"
   },
   {
    "duration": 11,
    "start_time": "2024-11-21T04:48:44.093Z"
   },
   {
    "duration": 28,
    "start_time": "2024-11-21T04:48:44.106Z"
   },
   {
    "duration": 10,
    "start_time": "2024-11-21T04:48:44.135Z"
   },
   {
    "duration": 91,
    "start_time": "2024-11-21T04:48:44.169Z"
   },
   {
    "duration": 12,
    "start_time": "2024-11-21T04:48:44.270Z"
   },
   {
    "duration": 8,
    "start_time": "2024-11-21T04:48:44.283Z"
   },
   {
    "duration": 8,
    "start_time": "2024-11-21T04:48:44.293Z"
   },
   {
    "duration": 9,
    "start_time": "2024-11-21T04:48:44.304Z"
   },
   {
    "duration": 5,
    "start_time": "2024-11-21T04:48:44.315Z"
   },
   {
    "duration": 5,
    "start_time": "2024-11-21T04:48:44.321Z"
   },
   {
    "duration": 3,
    "start_time": "2024-11-21T04:48:44.328Z"
   },
   {
    "duration": 49,
    "start_time": "2024-11-21T04:48:44.370Z"
   },
   {
    "duration": 183,
    "start_time": "2024-11-21T04:48:44.421Z"
   },
   {
    "duration": 272,
    "start_time": "2024-11-21T04:48:44.607Z"
   },
   {
    "duration": 218,
    "start_time": "2024-11-21T04:49:19.941Z"
   },
   {
    "duration": 224,
    "start_time": "2024-11-21T04:49:25.435Z"
   },
   {
    "duration": 223,
    "start_time": "2024-11-21T04:49:31.170Z"
   },
   {
    "duration": 239,
    "start_time": "2024-11-21T04:49:38.133Z"
   },
   {
    "duration": 229,
    "start_time": "2024-11-21T04:49:43.033Z"
   },
   {
    "duration": 234,
    "start_time": "2024-11-21T04:49:47.463Z"
   },
   {
    "duration": 237,
    "start_time": "2024-11-21T04:49:51.229Z"
   },
   {
    "duration": 227,
    "start_time": "2024-11-21T04:49:55.621Z"
   },
   {
    "duration": 342,
    "start_time": "2024-11-21T04:49:59.891Z"
   },
   {
    "duration": 223,
    "start_time": "2024-11-21T04:50:06.230Z"
   },
   {
    "duration": 234,
    "start_time": "2024-11-21T04:50:10.322Z"
   },
   {
    "duration": 214,
    "start_time": "2024-11-21T04:50:14.863Z"
   },
   {
    "duration": 4,
    "start_time": "2024-11-21T04:53:48.885Z"
   },
   {
    "duration": 21,
    "start_time": "2024-11-21T04:55:05.177Z"
   },
   {
    "duration": 957,
    "start_time": "2024-11-21T04:55:29.742Z"
   },
   {
    "duration": 16,
    "start_time": "2024-11-21T04:55:30.868Z"
   },
   {
    "duration": 13,
    "start_time": "2024-11-21T04:55:41.733Z"
   },
   {
    "duration": 5,
    "start_time": "2024-11-21T04:55:44.485Z"
   },
   {
    "duration": 5,
    "start_time": "2024-11-21T04:55:51.590Z"
   },
   {
    "duration": 21,
    "start_time": "2024-11-21T04:55:53.852Z"
   },
   {
    "duration": 3028,
    "start_time": "2024-11-21T21:59:44.071Z"
   },
   {
    "duration": 31,
    "start_time": "2024-11-21T21:59:47.101Z"
   },
   {
    "duration": 14,
    "start_time": "2024-11-21T21:59:47.135Z"
   },
   {
    "duration": 29,
    "start_time": "2024-11-21T21:59:47.152Z"
   },
   {
    "duration": 11,
    "start_time": "2024-11-21T21:59:47.183Z"
   },
   {
    "duration": 121,
    "start_time": "2024-11-21T21:59:47.195Z"
   },
   {
    "duration": 22,
    "start_time": "2024-11-21T21:59:47.318Z"
   },
   {
    "duration": 9,
    "start_time": "2024-11-21T21:59:47.342Z"
   },
   {
    "duration": 9,
    "start_time": "2024-11-21T21:59:47.353Z"
   },
   {
    "duration": 13,
    "start_time": "2024-11-21T21:59:47.364Z"
   },
   {
    "duration": 9,
    "start_time": "2024-11-21T21:59:47.378Z"
   },
   {
    "duration": 6,
    "start_time": "2024-11-21T21:59:47.389Z"
   },
   {
    "duration": 94,
    "start_time": "2024-11-21T21:59:47.396Z"
   },
   {
    "duration": 64,
    "start_time": "2024-11-21T21:59:47.492Z"
   },
   {
    "duration": 207,
    "start_time": "2024-11-21T21:59:47.558Z"
   },
   {
    "duration": 293,
    "start_time": "2024-11-21T21:59:47.767Z"
   },
   {
    "duration": 5,
    "start_time": "2024-11-21T21:59:48.062Z"
   },
   {
    "duration": 22,
    "start_time": "2024-11-21T21:59:48.068Z"
   },
   {
    "duration": 265,
    "start_time": "2024-11-21T22:08:20.062Z"
   },
   {
    "duration": 2,
    "start_time": "2024-11-21T22:08:42.786Z"
   },
   {
    "duration": 5,
    "start_time": "2024-11-21T22:09:31.953Z"
   },
   {
    "duration": 1260,
    "start_time": "2024-11-21T22:09:39.795Z"
   },
   {
    "duration": 20,
    "start_time": "2024-11-21T22:09:41.058Z"
   },
   {
    "duration": 15,
    "start_time": "2024-11-21T22:09:41.080Z"
   },
   {
    "duration": 52,
    "start_time": "2024-11-21T22:09:41.098Z"
   },
   {
    "duration": 12,
    "start_time": "2024-11-21T22:09:41.152Z"
   },
   {
    "duration": 157,
    "start_time": "2024-11-21T22:09:41.166Z"
   },
   {
    "duration": 19,
    "start_time": "2024-11-21T22:09:41.325Z"
   },
   {
    "duration": 10,
    "start_time": "2024-11-21T22:09:41.346Z"
   },
   {
    "duration": 11,
    "start_time": "2024-11-21T22:09:41.358Z"
   },
   {
    "duration": 13,
    "start_time": "2024-11-21T22:09:41.372Z"
   },
   {
    "duration": 5,
    "start_time": "2024-11-21T22:09:41.387Z"
   },
   {
    "duration": 5,
    "start_time": "2024-11-21T22:09:41.394Z"
   },
   {
    "duration": 7,
    "start_time": "2024-11-21T22:09:41.435Z"
   },
   {
    "duration": 95,
    "start_time": "2024-11-21T22:09:41.444Z"
   },
   {
    "duration": 163,
    "start_time": "2024-11-21T22:09:41.545Z"
   },
   {
    "duration": 355,
    "start_time": "2024-11-21T22:09:41.712Z"
   },
   {
    "duration": 5,
    "start_time": "2024-11-21T22:09:42.069Z"
   },
   {
    "duration": 64,
    "start_time": "2024-11-21T22:09:42.076Z"
   },
   {
    "duration": 3,
    "start_time": "2024-11-21T22:09:42.142Z"
   },
   {
    "duration": 5,
    "start_time": "2024-11-21T22:09:42.147Z"
   },
   {
    "duration": 21,
    "start_time": "2024-11-21T22:13:51.057Z"
   },
   {
    "duration": 27,
    "start_time": "2024-11-21T22:14:03.335Z"
   },
   {
    "duration": 6,
    "start_time": "2024-11-21T22:17:52.522Z"
   },
   {
    "duration": 24,
    "start_time": "2024-11-21T22:20:49.091Z"
   },
   {
    "duration": 41,
    "start_time": "2024-11-21T22:26:18.886Z"
   },
   {
    "duration": 1105,
    "start_time": "2024-11-21T22:27:19.037Z"
   },
   {
    "duration": 18,
    "start_time": "2024-11-21T22:27:20.144Z"
   },
   {
    "duration": 14,
    "start_time": "2024-11-21T22:27:20.163Z"
   },
   {
    "duration": 29,
    "start_time": "2024-11-21T22:27:20.178Z"
   },
   {
    "duration": 28,
    "start_time": "2024-11-21T22:27:20.211Z"
   },
   {
    "duration": 128,
    "start_time": "2024-11-21T22:27:20.241Z"
   },
   {
    "duration": 15,
    "start_time": "2024-11-21T22:27:20.370Z"
   },
   {
    "duration": 11,
    "start_time": "2024-11-21T22:27:20.386Z"
   },
   {
    "duration": 21,
    "start_time": "2024-11-21T22:27:20.399Z"
   },
   {
    "duration": 12,
    "start_time": "2024-11-21T22:27:20.433Z"
   },
   {
    "duration": 6,
    "start_time": "2024-11-21T22:27:20.446Z"
   },
   {
    "duration": 5,
    "start_time": "2024-11-21T22:27:20.454Z"
   },
   {
    "duration": 5,
    "start_time": "2024-11-21T22:27:20.462Z"
   },
   {
    "duration": 76,
    "start_time": "2024-11-21T22:27:20.470Z"
   },
   {
    "duration": 184,
    "start_time": "2024-11-21T22:27:20.548Z"
   },
   {
    "duration": 256,
    "start_time": "2024-11-21T22:27:20.735Z"
   },
   {
    "duration": 4,
    "start_time": "2024-11-21T22:27:20.993Z"
   },
   {
    "duration": 35,
    "start_time": "2024-11-21T22:27:20.998Z"
   },
   {
    "duration": 5,
    "start_time": "2024-11-21T22:27:21.036Z"
   },
   {
    "duration": 3,
    "start_time": "2024-11-21T22:27:21.044Z"
   },
   {
    "duration": 43,
    "start_time": "2024-11-21T22:32:16.336Z"
   },
   {
    "duration": 47,
    "start_time": "2024-11-21T22:38:32.212Z"
   },
   {
    "duration": 1094,
    "start_time": "2024-11-21T22:42:11.590Z"
   },
   {
    "duration": 18,
    "start_time": "2024-11-21T22:42:12.686Z"
   },
   {
    "duration": 13,
    "start_time": "2024-11-21T22:42:12.706Z"
   },
   {
    "duration": 31,
    "start_time": "2024-11-21T22:42:12.732Z"
   },
   {
    "duration": 11,
    "start_time": "2024-11-21T22:42:12.765Z"
   },
   {
    "duration": 117,
    "start_time": "2024-11-21T22:42:12.777Z"
   },
   {
    "duration": 14,
    "start_time": "2024-11-21T22:42:12.895Z"
   },
   {
    "duration": 22,
    "start_time": "2024-11-21T22:42:12.911Z"
   },
   {
    "duration": 12,
    "start_time": "2024-11-21T22:42:12.935Z"
   },
   {
    "duration": 12,
    "start_time": "2024-11-21T22:42:12.950Z"
   },
   {
    "duration": 5,
    "start_time": "2024-11-21T22:42:12.964Z"
   },
   {
    "duration": 5,
    "start_time": "2024-11-21T22:42:12.970Z"
   },
   {
    "duration": 5,
    "start_time": "2024-11-21T22:42:12.979Z"
   },
   {
    "duration": 89,
    "start_time": "2024-11-21T22:42:12.985Z"
   },
   {
    "duration": 213,
    "start_time": "2024-11-21T22:42:13.075Z"
   },
   {
    "duration": 271,
    "start_time": "2024-11-21T22:42:13.292Z"
   },
   {
    "duration": 5,
    "start_time": "2024-11-21T22:42:13.565Z"
   },
   {
    "duration": 17,
    "start_time": "2024-11-21T22:42:13.572Z"
   },
   {
    "duration": 3,
    "start_time": "2024-11-21T22:42:13.591Z"
   },
   {
    "duration": 3,
    "start_time": "2024-11-21T22:42:13.596Z"
   },
   {
    "duration": 54,
    "start_time": "2024-11-21T22:46:54.186Z"
   },
   {
    "duration": 67,
    "start_time": "2024-11-21T22:48:19.075Z"
   },
   {
    "duration": 64,
    "start_time": "2024-11-21T22:50:36.920Z"
   },
   {
    "duration": 227,
    "start_time": "2024-11-21T22:51:11.078Z"
   },
   {
    "duration": 217,
    "start_time": "2024-11-21T22:51:49.325Z"
   },
   {
    "duration": 233,
    "start_time": "2024-11-21T22:54:18.192Z"
   },
   {
    "duration": 1081,
    "start_time": "2024-11-21T22:55:17.307Z"
   },
   {
    "duration": 23,
    "start_time": "2024-11-21T22:55:18.390Z"
   },
   {
    "duration": 19,
    "start_time": "2024-11-21T22:55:18.414Z"
   },
   {
    "duration": 34,
    "start_time": "2024-11-21T22:55:18.435Z"
   },
   {
    "duration": 12,
    "start_time": "2024-11-21T22:55:18.473Z"
   },
   {
    "duration": 119,
    "start_time": "2024-11-21T22:55:18.487Z"
   },
   {
    "duration": 13,
    "start_time": "2024-11-21T22:55:18.609Z"
   },
   {
    "duration": 16,
    "start_time": "2024-11-21T22:55:18.623Z"
   },
   {
    "duration": 12,
    "start_time": "2024-11-21T22:55:18.641Z"
   },
   {
    "duration": 12,
    "start_time": "2024-11-21T22:55:18.655Z"
   },
   {
    "duration": 5,
    "start_time": "2024-11-21T22:55:18.669Z"
   },
   {
    "duration": 4,
    "start_time": "2024-11-21T22:55:18.677Z"
   },
   {
    "duration": 6,
    "start_time": "2024-11-21T22:55:18.683Z"
   },
   {
    "duration": 80,
    "start_time": "2024-11-21T22:55:18.692Z"
   },
   {
    "duration": 203,
    "start_time": "2024-11-21T22:55:18.773Z"
   },
   {
    "duration": 53,
    "start_time": "2024-11-21T22:55:18.978Z"
   },
   {
    "duration": 104,
    "start_time": "2024-11-21T22:55:19.033Z"
   },
   {
    "duration": 4,
    "start_time": "2024-11-21T22:55:19.139Z"
   },
   {
    "duration": 3,
    "start_time": "2024-11-21T22:55:19.144Z"
   },
   {
    "duration": 291,
    "start_time": "2024-11-21T22:55:19.149Z"
   },
   {
    "duration": 22,
    "start_time": "2024-11-21T23:13:02.128Z"
   },
   {
    "duration": 35,
    "start_time": "2024-11-21T23:15:01.935Z"
   },
   {
    "duration": 1033,
    "start_time": "2024-11-21T23:15:09.113Z"
   },
   {
    "duration": 17,
    "start_time": "2024-11-21T23:15:10.149Z"
   },
   {
    "duration": 15,
    "start_time": "2024-11-21T23:15:10.168Z"
   },
   {
    "duration": 50,
    "start_time": "2024-11-21T23:15:10.185Z"
   },
   {
    "duration": 12,
    "start_time": "2024-11-21T23:15:10.237Z"
   },
   {
    "duration": 111,
    "start_time": "2024-11-21T23:15:10.252Z"
   },
   {
    "duration": 12,
    "start_time": "2024-11-21T23:15:10.366Z"
   },
   {
    "duration": 10,
    "start_time": "2024-11-21T23:15:10.380Z"
   },
   {
    "duration": 15,
    "start_time": "2024-11-21T23:15:10.391Z"
   },
   {
    "duration": 33,
    "start_time": "2024-11-21T23:15:10.411Z"
   },
   {
    "duration": 7,
    "start_time": "2024-11-21T23:15:10.446Z"
   },
   {
    "duration": 6,
    "start_time": "2024-11-21T23:15:10.454Z"
   },
   {
    "duration": 4,
    "start_time": "2024-11-21T23:15:10.461Z"
   },
   {
    "duration": 71,
    "start_time": "2024-11-21T23:15:10.467Z"
   },
   {
    "duration": 155,
    "start_time": "2024-11-21T23:15:10.540Z"
   },
   {
    "duration": 39,
    "start_time": "2024-11-21T23:15:10.696Z"
   },
   {
    "duration": 100,
    "start_time": "2024-11-21T23:15:10.737Z"
   },
   {
    "duration": 103,
    "start_time": "2024-11-21T23:15:10.839Z"
   },
   {
    "duration": 6,
    "start_time": "2024-11-21T23:15:10.946Z"
   },
   {
    "duration": 6,
    "start_time": "2024-11-21T23:15:10.955Z"
   },
   {
    "duration": 288,
    "start_time": "2024-11-21T23:15:10.966Z"
   },
   {
    "duration": 273,
    "start_time": "2024-11-21T23:16:15.880Z"
   },
   {
    "duration": 1128,
    "start_time": "2024-11-21T23:16:22.950Z"
   },
   {
    "duration": 16,
    "start_time": "2024-11-21T23:16:24.080Z"
   },
   {
    "duration": 13,
    "start_time": "2024-11-21T23:16:24.098Z"
   },
   {
    "duration": 48,
    "start_time": "2024-11-21T23:16:24.113Z"
   },
   {
    "duration": 14,
    "start_time": "2024-11-21T23:16:24.164Z"
   },
   {
    "duration": 112,
    "start_time": "2024-11-21T23:16:24.180Z"
   },
   {
    "duration": 14,
    "start_time": "2024-11-21T23:16:24.294Z"
   },
   {
    "duration": 23,
    "start_time": "2024-11-21T23:16:24.311Z"
   },
   {
    "duration": 11,
    "start_time": "2024-11-21T23:16:24.336Z"
   },
   {
    "duration": 11,
    "start_time": "2024-11-21T23:16:24.349Z"
   },
   {
    "duration": 5,
    "start_time": "2024-11-21T23:16:24.362Z"
   },
   {
    "duration": 6,
    "start_time": "2024-11-21T23:16:24.369Z"
   },
   {
    "duration": 4,
    "start_time": "2024-11-21T23:16:24.377Z"
   },
   {
    "duration": 96,
    "start_time": "2024-11-21T23:16:24.385Z"
   },
   {
    "duration": 199,
    "start_time": "2024-11-21T23:16:24.482Z"
   },
   {
    "duration": 4,
    "start_time": "2024-11-21T23:16:24.684Z"
   },
   {
    "duration": 23,
    "start_time": "2024-11-21T23:16:24.732Z"
   },
   {
    "duration": 97,
    "start_time": "2024-11-21T23:16:24.757Z"
   },
   {
    "duration": 295,
    "start_time": "2024-11-21T23:16:24.856Z"
   },
   {
    "duration": 30,
    "start_time": "2024-11-21T23:17:26.994Z"
   },
   {
    "duration": 244,
    "start_time": "2024-11-21T23:17:30.103Z"
   },
   {
    "duration": 1158,
    "start_time": "2024-11-21T23:18:03.598Z"
   },
   {
    "duration": 17,
    "start_time": "2024-11-21T23:18:04.759Z"
   },
   {
    "duration": 16,
    "start_time": "2024-11-21T23:18:04.778Z"
   },
   {
    "duration": 41,
    "start_time": "2024-11-21T23:18:04.796Z"
   },
   {
    "duration": 14,
    "start_time": "2024-11-21T23:18:04.841Z"
   },
   {
    "duration": 111,
    "start_time": "2024-11-21T23:18:04.858Z"
   },
   {
    "duration": 14,
    "start_time": "2024-11-21T23:18:04.971Z"
   },
   {
    "duration": 12,
    "start_time": "2024-11-21T23:18:04.988Z"
   },
   {
    "duration": 32,
    "start_time": "2024-11-21T23:18:05.002Z"
   },
   {
    "duration": 12,
    "start_time": "2024-11-21T23:18:05.036Z"
   },
   {
    "duration": 5,
    "start_time": "2024-11-21T23:18:05.051Z"
   },
   {
    "duration": 6,
    "start_time": "2024-11-21T23:18:05.058Z"
   },
   {
    "duration": 5,
    "start_time": "2024-11-21T23:18:05.066Z"
   },
   {
    "duration": 82,
    "start_time": "2024-11-21T23:18:05.075Z"
   },
   {
    "duration": 183,
    "start_time": "2024-11-21T23:18:05.163Z"
   },
   {
    "duration": 13,
    "start_time": "2024-11-21T23:18:05.348Z"
   },
   {
    "duration": 87,
    "start_time": "2024-11-21T23:18:05.367Z"
   },
   {
    "duration": 104,
    "start_time": "2024-11-21T23:18:05.460Z"
   },
   {
    "duration": 297,
    "start_time": "2024-11-21T23:18:05.570Z"
   },
   {
    "duration": 256,
    "start_time": "2024-11-21T23:37:32.175Z"
   },
   {
    "duration": 226,
    "start_time": "2024-11-21T23:37:36.810Z"
   },
   {
    "duration": 261,
    "start_time": "2024-11-21T23:37:45.152Z"
   },
   {
    "duration": 237,
    "start_time": "2024-11-21T23:37:51.072Z"
   },
   {
    "duration": 35,
    "start_time": "2024-11-21T23:49:52.317Z"
   },
   {
    "duration": 1145,
    "start_time": "2024-11-21T23:50:47.883Z"
   },
   {
    "duration": 22,
    "start_time": "2024-11-21T23:50:49.030Z"
   },
   {
    "duration": 14,
    "start_time": "2024-11-21T23:50:49.054Z"
   },
   {
    "duration": 28,
    "start_time": "2024-11-21T23:50:49.070Z"
   },
   {
    "duration": 10,
    "start_time": "2024-11-21T23:50:49.100Z"
   },
   {
    "duration": 124,
    "start_time": "2024-11-21T23:50:49.112Z"
   },
   {
    "duration": 18,
    "start_time": "2024-11-21T23:50:49.240Z"
   },
   {
    "duration": 15,
    "start_time": "2024-11-21T23:50:49.261Z"
   },
   {
    "duration": 10,
    "start_time": "2024-11-21T23:50:49.279Z"
   },
   {
    "duration": 12,
    "start_time": "2024-11-21T23:50:49.291Z"
   },
   {
    "duration": 5,
    "start_time": "2024-11-21T23:50:49.304Z"
   },
   {
    "duration": 9,
    "start_time": "2024-11-21T23:50:49.335Z"
   },
   {
    "duration": 5,
    "start_time": "2024-11-21T23:50:49.348Z"
   },
   {
    "duration": 74,
    "start_time": "2024-11-21T23:50:49.358Z"
   },
   {
    "duration": 154,
    "start_time": "2024-11-21T23:50:49.436Z"
   },
   {
    "duration": 5,
    "start_time": "2024-11-21T23:50:49.592Z"
   },
   {
    "duration": 25,
    "start_time": "2024-11-21T23:50:49.633Z"
   },
   {
    "duration": 99,
    "start_time": "2024-11-21T23:50:49.660Z"
   },
   {
    "duration": 314,
    "start_time": "2024-11-21T23:50:49.765Z"
   },
   {
    "duration": 1028,
    "start_time": "2024-11-21T23:54:19.804Z"
   },
   {
    "duration": 16,
    "start_time": "2024-11-21T23:54:20.835Z"
   },
   {
    "duration": 15,
    "start_time": "2024-11-21T23:54:20.853Z"
   },
   {
    "duration": 28,
    "start_time": "2024-11-21T23:54:20.871Z"
   },
   {
    "duration": 30,
    "start_time": "2024-11-21T23:54:20.901Z"
   },
   {
    "duration": 102,
    "start_time": "2024-11-21T23:54:20.934Z"
   },
   {
    "duration": 14,
    "start_time": "2024-11-21T23:54:21.038Z"
   },
   {
    "duration": 11,
    "start_time": "2024-11-21T23:54:21.055Z"
   },
   {
    "duration": 10,
    "start_time": "2024-11-21T23:54:21.068Z"
   },
   {
    "duration": 11,
    "start_time": "2024-11-21T23:54:21.081Z"
   },
   {
    "duration": 5,
    "start_time": "2024-11-21T23:54:21.093Z"
   },
   {
    "duration": 4,
    "start_time": "2024-11-21T23:54:21.099Z"
   },
   {
    "duration": 30,
    "start_time": "2024-11-21T23:54:21.105Z"
   },
   {
    "duration": 47,
    "start_time": "2024-11-21T23:54:21.137Z"
   },
   {
    "duration": 201,
    "start_time": "2024-11-21T23:54:21.187Z"
   },
   {
    "duration": 41,
    "start_time": "2024-11-21T23:54:21.392Z"
   },
   {
    "duration": 38,
    "start_time": "2024-11-21T23:54:21.435Z"
   },
   {
    "duration": 166,
    "start_time": "2024-11-21T23:54:21.474Z"
   },
   {
    "duration": 262,
    "start_time": "2024-11-21T23:54:21.646Z"
   },
   {
    "duration": 8,
    "start_time": "2024-11-21T23:54:21.910Z"
   },
   {
    "duration": 171,
    "start_time": "2024-11-21T23:54:21.920Z"
   },
   {
    "duration": 215,
    "start_time": "2024-11-21T23:55:40.806Z"
   },
   {
    "duration": 246,
    "start_time": "2024-11-21T23:55:58.091Z"
   },
   {
    "duration": 256,
    "start_time": "2024-11-21T23:56:03.490Z"
   },
   {
    "duration": 282,
    "start_time": "2024-11-21T23:56:08.569Z"
   },
   {
    "duration": 235,
    "start_time": "2024-11-21T23:56:12.482Z"
   },
   {
    "duration": 1128,
    "start_time": "2024-11-21T23:59:49.228Z"
   },
   {
    "duration": 16,
    "start_time": "2024-11-21T23:59:50.359Z"
   },
   {
    "duration": 16,
    "start_time": "2024-11-21T23:59:50.377Z"
   },
   {
    "duration": 53,
    "start_time": "2024-11-21T23:59:50.396Z"
   },
   {
    "duration": 11,
    "start_time": "2024-11-21T23:59:50.451Z"
   },
   {
    "duration": 118,
    "start_time": "2024-11-21T23:59:50.463Z"
   },
   {
    "duration": 14,
    "start_time": "2024-11-21T23:59:50.583Z"
   },
   {
    "duration": 11,
    "start_time": "2024-11-21T23:59:50.598Z"
   },
   {
    "duration": 24,
    "start_time": "2024-11-21T23:59:50.611Z"
   },
   {
    "duration": 12,
    "start_time": "2024-11-21T23:59:50.638Z"
   },
   {
    "duration": 4,
    "start_time": "2024-11-21T23:59:50.652Z"
   },
   {
    "duration": 14,
    "start_time": "2024-11-21T23:59:50.658Z"
   },
   {
    "duration": 12,
    "start_time": "2024-11-21T23:59:50.674Z"
   },
   {
    "duration": 57,
    "start_time": "2024-11-21T23:59:50.689Z"
   },
   {
    "duration": 137,
    "start_time": "2024-11-21T23:59:50.748Z"
   },
   {
    "duration": 5,
    "start_time": "2024-11-21T23:59:50.887Z"
   },
   {
    "duration": 138,
    "start_time": "2024-11-21T23:59:50.894Z"
   },
   {
    "duration": 104,
    "start_time": "2024-11-21T23:59:51.035Z"
   },
   {
    "duration": 270,
    "start_time": "2024-11-21T23:59:51.141Z"
   },
   {
    "duration": 9,
    "start_time": "2024-11-21T23:59:51.413Z"
   },
   {
    "duration": 143,
    "start_time": "2024-11-21T23:59:51.431Z"
   },
   {
    "duration": 1145,
    "start_time": "2024-11-22T00:11:47.764Z"
   },
   {
    "duration": 17,
    "start_time": "2024-11-22T00:11:48.911Z"
   },
   {
    "duration": 13,
    "start_time": "2024-11-22T00:11:48.931Z"
   },
   {
    "duration": 27,
    "start_time": "2024-11-22T00:11:48.946Z"
   },
   {
    "duration": 10,
    "start_time": "2024-11-22T00:11:48.975Z"
   },
   {
    "duration": 126,
    "start_time": "2024-11-22T00:11:48.987Z"
   },
   {
    "duration": 17,
    "start_time": "2024-11-22T00:11:49.115Z"
   },
   {
    "duration": 10,
    "start_time": "2024-11-22T00:11:49.135Z"
   },
   {
    "duration": 10,
    "start_time": "2024-11-22T00:11:49.147Z"
   },
   {
    "duration": 11,
    "start_time": "2024-11-22T00:11:49.160Z"
   },
   {
    "duration": 6,
    "start_time": "2024-11-22T00:11:49.173Z"
   },
   {
    "duration": 5,
    "start_time": "2024-11-22T00:11:49.181Z"
   },
   {
    "duration": 4,
    "start_time": "2024-11-22T00:11:49.187Z"
   },
   {
    "duration": 77,
    "start_time": "2024-11-22T00:11:49.193Z"
   },
   {
    "duration": 206,
    "start_time": "2024-11-22T00:11:49.273Z"
   },
   {
    "duration": 5,
    "start_time": "2024-11-22T00:11:49.480Z"
   },
   {
    "duration": 146,
    "start_time": "2024-11-22T00:11:49.487Z"
   },
   {
    "duration": 104,
    "start_time": "2024-11-22T00:11:49.635Z"
   },
   {
    "duration": 268,
    "start_time": "2024-11-22T00:11:49.745Z"
   },
   {
    "duration": 18,
    "start_time": "2024-11-22T00:11:50.015Z"
   },
   {
    "duration": 173,
    "start_time": "2024-11-22T00:11:50.034Z"
   },
   {
    "duration": 1053,
    "start_time": "2024-11-22T04:59:15.407Z"
   },
   {
    "duration": 18,
    "start_time": "2024-11-22T04:59:16.462Z"
   },
   {
    "duration": 13,
    "start_time": "2024-11-22T04:59:16.481Z"
   },
   {
    "duration": 41,
    "start_time": "2024-11-22T04:59:16.496Z"
   },
   {
    "duration": 10,
    "start_time": "2024-11-22T04:59:16.539Z"
   },
   {
    "duration": 109,
    "start_time": "2024-11-22T04:59:16.551Z"
   },
   {
    "duration": 14,
    "start_time": "2024-11-22T04:59:16.662Z"
   },
   {
    "duration": 11,
    "start_time": "2024-11-22T04:59:16.678Z"
   },
   {
    "duration": 11,
    "start_time": "2024-11-22T04:59:16.690Z"
   },
   {
    "duration": 28,
    "start_time": "2024-11-22T04:59:16.705Z"
   },
   {
    "duration": 6,
    "start_time": "2024-11-22T04:59:16.735Z"
   },
   {
    "duration": 5,
    "start_time": "2024-11-22T04:59:16.742Z"
   },
   {
    "duration": 4,
    "start_time": "2024-11-22T04:59:16.749Z"
   },
   {
    "duration": 84,
    "start_time": "2024-11-22T04:59:16.755Z"
   },
   {
    "duration": 152,
    "start_time": "2024-11-22T04:59:16.841Z"
   },
   {
    "duration": 36,
    "start_time": "2024-11-22T04:59:16.997Z"
   },
   {
    "duration": 21,
    "start_time": "2024-11-22T04:59:17.036Z"
   },
   {
    "duration": 97,
    "start_time": "2024-11-22T04:59:17.059Z"
   },
   {
    "duration": 282,
    "start_time": "2024-11-22T04:59:17.158Z"
   },
   {
    "duration": 9,
    "start_time": "2024-11-22T04:59:17.442Z"
   },
   {
    "duration": 143,
    "start_time": "2024-11-22T04:59:17.453Z"
   },
   {
    "duration": 11,
    "start_time": "2024-11-22T05:03:34.449Z"
   },
   {
    "duration": 1009,
    "start_time": "2024-11-22T05:06:15.457Z"
   },
   {
    "duration": 16,
    "start_time": "2024-11-22T05:06:16.470Z"
   },
   {
    "duration": 14,
    "start_time": "2024-11-22T05:06:16.490Z"
   },
   {
    "duration": 43,
    "start_time": "2024-11-22T05:06:16.506Z"
   },
   {
    "duration": 14,
    "start_time": "2024-11-22T05:06:16.553Z"
   },
   {
    "duration": 98,
    "start_time": "2024-11-22T05:06:16.571Z"
   },
   {
    "duration": 15,
    "start_time": "2024-11-22T05:06:16.671Z"
   },
   {
    "duration": 9,
    "start_time": "2024-11-22T05:06:16.687Z"
   },
   {
    "duration": 9,
    "start_time": "2024-11-22T05:06:16.698Z"
   },
   {
    "duration": 31,
    "start_time": "2024-11-22T05:06:16.708Z"
   },
   {
    "duration": 5,
    "start_time": "2024-11-22T05:06:16.741Z"
   },
   {
    "duration": 5,
    "start_time": "2024-11-22T05:06:16.749Z"
   },
   {
    "duration": 3,
    "start_time": "2024-11-22T05:06:16.756Z"
   },
   {
    "duration": 76,
    "start_time": "2024-11-22T05:06:16.763Z"
   },
   {
    "duration": 150,
    "start_time": "2024-11-22T05:06:16.841Z"
   },
   {
    "duration": 39,
    "start_time": "2024-11-22T05:06:16.993Z"
   },
   {
    "duration": 103,
    "start_time": "2024-11-22T05:06:17.034Z"
   },
   {
    "duration": 97,
    "start_time": "2024-11-22T05:06:17.139Z"
   },
   {
    "duration": 259,
    "start_time": "2024-11-22T05:06:17.237Z"
   },
   {
    "duration": 9,
    "start_time": "2024-11-22T05:06:17.498Z"
   },
   {
    "duration": 163,
    "start_time": "2024-11-22T05:06:17.509Z"
   },
   {
    "duration": 11,
    "start_time": "2024-11-22T05:08:09.390Z"
   },
   {
    "duration": 234,
    "start_time": "2024-11-22T05:28:14.119Z"
   },
   {
    "duration": 20,
    "start_time": "2024-11-22T05:29:10.686Z"
   },
   {
    "duration": 11,
    "start_time": "2024-11-22T05:29:39.128Z"
   },
   {
    "duration": 2,
    "start_time": "2024-11-22T05:29:44.220Z"
   },
   {
    "duration": 1190,
    "start_time": "2024-11-22T05:29:57.327Z"
   },
   {
    "duration": 1210,
    "start_time": "2024-11-22T05:39:05.636Z"
   },
   {
    "duration": 3,
    "start_time": "2024-11-22T05:41:44.438Z"
   },
   {
    "duration": 1225,
    "start_time": "2024-11-22T05:41:45.496Z"
   },
   {
    "duration": 181,
    "start_time": "2024-11-22T05:46:36.576Z"
   },
   {
    "duration": 3,
    "start_time": "2024-11-22T05:49:52.015Z"
   },
   {
    "duration": 13,
    "start_time": "2024-11-22T05:50:02.044Z"
   },
   {
    "duration": 233,
    "start_time": "2024-11-22T05:51:34.437Z"
   },
   {
    "duration": 174,
    "start_time": "2024-11-22T05:51:51.443Z"
   },
   {
    "duration": 239,
    "start_time": "2024-11-22T05:51:58.294Z"
   },
   {
    "duration": 161,
    "start_time": "2024-11-22T05:52:04.314Z"
   },
   {
    "duration": 32,
    "start_time": "2024-11-22T06:30:17.058Z"
   },
   {
    "duration": 1099,
    "start_time": "2024-11-22T06:30:23.076Z"
   },
   {
    "duration": 22,
    "start_time": "2024-11-22T06:30:24.178Z"
   },
   {
    "duration": 15,
    "start_time": "2024-11-22T06:30:24.201Z"
   },
   {
    "duration": 43,
    "start_time": "2024-11-22T06:30:24.218Z"
   },
   {
    "duration": 12,
    "start_time": "2024-11-22T06:30:24.263Z"
   },
   {
    "duration": 115,
    "start_time": "2024-11-22T06:30:24.277Z"
   },
   {
    "duration": 13,
    "start_time": "2024-11-22T06:30:24.394Z"
   },
   {
    "duration": 24,
    "start_time": "2024-11-22T06:30:24.408Z"
   },
   {
    "duration": 10,
    "start_time": "2024-11-22T06:30:24.434Z"
   },
   {
    "duration": 11,
    "start_time": "2024-11-22T06:30:24.448Z"
   },
   {
    "duration": 5,
    "start_time": "2024-11-22T06:30:24.461Z"
   },
   {
    "duration": 5,
    "start_time": "2024-11-22T06:30:24.468Z"
   },
   {
    "duration": 4,
    "start_time": "2024-11-22T06:30:24.475Z"
   },
   {
    "duration": 82,
    "start_time": "2024-11-22T06:30:24.480Z"
   },
   {
    "duration": 190,
    "start_time": "2024-11-22T06:30:24.564Z"
   },
   {
    "duration": 9,
    "start_time": "2024-11-22T06:30:24.759Z"
   },
   {
    "duration": 83,
    "start_time": "2024-11-22T06:30:24.771Z"
   },
   {
    "duration": 90,
    "start_time": "2024-11-22T06:30:24.858Z"
   },
   {
    "duration": 272,
    "start_time": "2024-11-22T06:30:24.950Z"
   },
   {
    "duration": 12,
    "start_time": "2024-11-22T06:30:25.226Z"
   },
   {
    "duration": 140,
    "start_time": "2024-11-22T06:30:25.240Z"
   },
   {
    "duration": 3,
    "start_time": "2024-11-22T06:30:25.382Z"
   },
   {
    "duration": 1411,
    "start_time": "2024-11-22T06:30:25.387Z"
   },
   {
    "duration": 0,
    "start_time": "2024-11-22T06:30:26.801Z"
   },
   {
    "duration": 0,
    "start_time": "2024-11-22T06:30:26.802Z"
   },
   {
    "duration": 0,
    "start_time": "2024-11-22T06:30:26.803Z"
   },
   {
    "duration": 0,
    "start_time": "2024-11-22T06:30:26.805Z"
   },
   {
    "duration": 0,
    "start_time": "2024-11-22T06:30:26.806Z"
   },
   {
    "duration": 0,
    "start_time": "2024-11-22T06:30:26.807Z"
   },
   {
    "duration": 1191,
    "start_time": "2024-11-22T06:30:40.026Z"
   },
   {
    "duration": 34,
    "start_time": "2024-11-22T06:30:42.682Z"
   },
   {
    "duration": 10,
    "start_time": "2024-11-22T06:30:43.055Z"
   },
   {
    "duration": 132,
    "start_time": "2024-11-22T06:30:43.603Z"
   },
   {
    "duration": 3,
    "start_time": "2024-11-22T06:30:43.790Z"
   },
   {
    "duration": 226,
    "start_time": "2024-11-22T06:30:44.824Z"
   },
   {
    "duration": 3,
    "start_time": "2024-11-22T06:31:16.333Z"
   },
   {
    "duration": 3,
    "start_time": "2024-11-22T06:34:28.529Z"
   },
   {
    "duration": 2420,
    "start_time": "2024-11-22T06:34:30.441Z"
   },
   {
    "duration": 4,
    "start_time": "2024-11-22T06:34:40.157Z"
   },
   {
    "duration": 3627,
    "start_time": "2024-11-22T06:34:41.080Z"
   },
   {
    "duration": 5,
    "start_time": "2024-11-22T06:34:50.608Z"
   },
   {
    "duration": 2985,
    "start_time": "2024-11-22T06:34:51.464Z"
   },
   {
    "duration": 3,
    "start_time": "2024-11-22T06:35:01.879Z"
   },
   {
    "duration": 2365,
    "start_time": "2024-11-22T06:35:02.575Z"
   },
   {
    "duration": 3,
    "start_time": "2024-11-22T06:35:10.603Z"
   },
   {
    "duration": 2862,
    "start_time": "2024-11-22T06:35:11.408Z"
   },
   {
    "duration": 2,
    "start_time": "2024-11-22T06:35:22.766Z"
   },
   {
    "duration": 2519,
    "start_time": "2024-11-22T06:35:24.091Z"
   },
   {
    "duration": 3,
    "start_time": "2024-11-22T06:35:31.151Z"
   },
   {
    "duration": 1068,
    "start_time": "2024-11-22T06:35:36.186Z"
   },
   {
    "duration": 17,
    "start_time": "2024-11-22T06:35:37.256Z"
   },
   {
    "duration": 13,
    "start_time": "2024-11-22T06:35:37.274Z"
   },
   {
    "duration": 43,
    "start_time": "2024-11-22T06:35:37.290Z"
   },
   {
    "duration": 11,
    "start_time": "2024-11-22T06:35:37.335Z"
   },
   {
    "duration": 104,
    "start_time": "2024-11-22T06:35:37.348Z"
   },
   {
    "duration": 12,
    "start_time": "2024-11-22T06:35:37.454Z"
   },
   {
    "duration": 10,
    "start_time": "2024-11-22T06:35:37.468Z"
   },
   {
    "duration": 9,
    "start_time": "2024-11-22T06:35:37.480Z"
   },
   {
    "duration": 42,
    "start_time": "2024-11-22T06:35:37.492Z"
   },
   {
    "duration": 6,
    "start_time": "2024-11-22T06:35:37.536Z"
   },
   {
    "duration": 5,
    "start_time": "2024-11-22T06:35:37.544Z"
   },
   {
    "duration": 4,
    "start_time": "2024-11-22T06:35:37.551Z"
   },
   {
    "duration": 79,
    "start_time": "2024-11-22T06:35:37.557Z"
   },
   {
    "duration": 162,
    "start_time": "2024-11-22T06:35:37.638Z"
   },
   {
    "duration": 32,
    "start_time": "2024-11-22T06:35:37.803Z"
   },
   {
    "duration": 101,
    "start_time": "2024-11-22T06:35:37.837Z"
   },
   {
    "duration": 106,
    "start_time": "2024-11-22T06:35:37.940Z"
   },
   {
    "duration": 258,
    "start_time": "2024-11-22T06:35:38.050Z"
   },
   {
    "duration": 9,
    "start_time": "2024-11-22T06:35:38.310Z"
   },
   {
    "duration": 149,
    "start_time": "2024-11-22T06:35:38.321Z"
   },
   {
    "duration": 3,
    "start_time": "2024-11-22T06:35:38.472Z"
   },
   {
    "duration": 2411,
    "start_time": "2024-11-22T06:35:38.476Z"
   },
   {
    "duration": 67,
    "start_time": "2024-11-22T06:35:40.889Z"
   },
   {
    "duration": 9,
    "start_time": "2024-11-22T06:35:40.959Z"
   },
   {
    "duration": 147,
    "start_time": "2024-11-22T06:35:40.970Z"
   },
   {
    "duration": 4,
    "start_time": "2024-11-22T06:35:41.119Z"
   },
   {
    "duration": 238,
    "start_time": "2024-11-22T06:35:41.133Z"
   },
   {
    "duration": 208,
    "start_time": "2024-11-22T06:35:41.375Z"
   },
   {
    "duration": 10,
    "start_time": "2024-11-22T06:39:43.371Z"
   },
   {
    "duration": 10,
    "start_time": "2024-11-22T06:39:47.096Z"
   },
   {
    "duration": 1035,
    "start_time": "2024-11-22T06:59:22.996Z"
   },
   {
    "duration": 16,
    "start_time": "2024-11-22T06:59:24.035Z"
   },
   {
    "duration": 14,
    "start_time": "2024-11-22T06:59:24.053Z"
   },
   {
    "duration": 34,
    "start_time": "2024-11-22T06:59:24.069Z"
   },
   {
    "duration": 28,
    "start_time": "2024-11-22T06:59:24.104Z"
   },
   {
    "duration": 109,
    "start_time": "2024-11-22T06:59:24.134Z"
   },
   {
    "duration": 14,
    "start_time": "2024-11-22T06:59:24.246Z"
   },
   {
    "duration": 10,
    "start_time": "2024-11-22T06:59:24.261Z"
   },
   {
    "duration": 11,
    "start_time": "2024-11-22T06:59:24.273Z"
   },
   {
    "duration": 11,
    "start_time": "2024-11-22T06:59:24.287Z"
   },
   {
    "duration": 31,
    "start_time": "2024-11-22T06:59:24.300Z"
   },
   {
    "duration": 6,
    "start_time": "2024-11-22T06:59:24.333Z"
   },
   {
    "duration": 4,
    "start_time": "2024-11-22T06:59:24.341Z"
   },
   {
    "duration": 43,
    "start_time": "2024-11-22T06:59:24.347Z"
   },
   {
    "duration": 195,
    "start_time": "2024-11-22T06:59:24.392Z"
   },
   {
    "duration": 43,
    "start_time": "2024-11-22T06:59:24.591Z"
   },
   {
    "duration": 100,
    "start_time": "2024-11-22T06:59:24.638Z"
   },
   {
    "duration": 92,
    "start_time": "2024-11-22T06:59:24.740Z"
   },
   {
    "duration": 6,
    "start_time": "2024-11-22T06:59:24.834Z"
   },
   {
    "duration": 17,
    "start_time": "2024-11-22T06:59:24.842Z"
   },
   {
    "duration": 219,
    "start_time": "2024-11-22T06:59:24.860Z"
   },
   {
    "duration": 5,
    "start_time": "2024-11-22T06:59:25.081Z"
   },
   {
    "duration": 2413,
    "start_time": "2024-11-22T06:59:25.088Z"
   },
   {
    "duration": 71,
    "start_time": "2024-11-22T06:59:27.503Z"
   },
   {
    "duration": 9,
    "start_time": "2024-11-22T06:59:27.576Z"
   },
   {
    "duration": 178,
    "start_time": "2024-11-22T06:59:27.587Z"
   },
   {
    "duration": 2,
    "start_time": "2024-11-22T06:59:27.767Z"
   },
   {
    "duration": 254,
    "start_time": "2024-11-22T06:59:27.773Z"
   },
   {
    "duration": 1010,
    "start_time": "2024-11-22T07:05:58.294Z"
   },
   {
    "duration": 16,
    "start_time": "2024-11-22T07:05:59.307Z"
   },
   {
    "duration": 13,
    "start_time": "2024-11-22T07:05:59.331Z"
   },
   {
    "duration": 32,
    "start_time": "2024-11-22T07:05:59.346Z"
   },
   {
    "duration": 10,
    "start_time": "2024-11-22T07:05:59.380Z"
   },
   {
    "duration": 143,
    "start_time": "2024-11-22T07:05:59.392Z"
   },
   {
    "duration": 13,
    "start_time": "2024-11-22T07:05:59.537Z"
   },
   {
    "duration": 11,
    "start_time": "2024-11-22T07:05:59.551Z"
   },
   {
    "duration": 12,
    "start_time": "2024-11-22T07:05:59.563Z"
   },
   {
    "duration": 13,
    "start_time": "2024-11-22T07:05:59.580Z"
   },
   {
    "duration": 6,
    "start_time": "2024-11-22T07:05:59.595Z"
   },
   {
    "duration": 4,
    "start_time": "2024-11-22T07:05:59.632Z"
   },
   {
    "duration": 4,
    "start_time": "2024-11-22T07:05:59.638Z"
   },
   {
    "duration": 48,
    "start_time": "2024-11-22T07:05:59.643Z"
   },
   {
    "duration": 169,
    "start_time": "2024-11-22T07:05:59.735Z"
   },
   {
    "duration": 6,
    "start_time": "2024-11-22T07:05:59.934Z"
   },
   {
    "duration": 101,
    "start_time": "2024-11-22T07:05:59.944Z"
   },
   {
    "duration": 97,
    "start_time": "2024-11-22T07:06:00.047Z"
   },
   {
    "duration": 4,
    "start_time": "2024-11-22T07:06:00.146Z"
   },
   {
    "duration": 78,
    "start_time": "2024-11-22T07:06:00.152Z"
   },
   {
    "duration": 183,
    "start_time": "2024-11-22T07:06:00.232Z"
   },
   {
    "duration": 5,
    "start_time": "2024-11-22T07:06:00.419Z"
   },
   {
    "duration": 2419,
    "start_time": "2024-11-22T07:06:00.433Z"
   },
   {
    "duration": 63,
    "start_time": "2024-11-22T07:06:02.854Z"
   },
   {
    "duration": 18,
    "start_time": "2024-11-22T07:06:02.919Z"
   },
   {
    "duration": 142,
    "start_time": "2024-11-22T07:06:02.939Z"
   },
   {
    "duration": 3,
    "start_time": "2024-11-22T07:06:03.083Z"
   },
   {
    "duration": 257,
    "start_time": "2024-11-22T07:06:03.089Z"
   },
   {
    "duration": 1096,
    "start_time": "2024-11-22T07:18:48.645Z"
   },
   {
    "duration": 26,
    "start_time": "2024-11-22T07:18:49.743Z"
   },
   {
    "duration": 36,
    "start_time": "2024-11-22T07:18:49.771Z"
   },
   {
    "duration": 34,
    "start_time": "2024-11-22T07:18:49.808Z"
   },
   {
    "duration": 10,
    "start_time": "2024-11-22T07:18:49.846Z"
   },
   {
    "duration": 130,
    "start_time": "2024-11-22T07:18:49.858Z"
   },
   {
    "duration": 13,
    "start_time": "2024-11-22T07:18:49.991Z"
   },
   {
    "duration": 27,
    "start_time": "2024-11-22T07:18:50.006Z"
   },
   {
    "duration": 10,
    "start_time": "2024-11-22T07:18:50.034Z"
   },
   {
    "duration": 12,
    "start_time": "2024-11-22T07:18:50.047Z"
   },
   {
    "duration": 5,
    "start_time": "2024-11-22T07:18:50.061Z"
   },
   {
    "duration": 5,
    "start_time": "2024-11-22T07:18:50.067Z"
   },
   {
    "duration": 4,
    "start_time": "2024-11-22T07:18:50.076Z"
   },
   {
    "duration": 74,
    "start_time": "2024-11-22T07:18:50.085Z"
   },
   {
    "duration": 184,
    "start_time": "2024-11-22T07:18:50.162Z"
   },
   {
    "duration": 5,
    "start_time": "2024-11-22T07:18:50.348Z"
   },
   {
    "duration": 20,
    "start_time": "2024-11-22T07:18:50.358Z"
   },
   {
    "duration": 26,
    "start_time": "2024-11-22T07:18:50.432Z"
   },
   {
    "duration": 72,
    "start_time": "2024-11-22T07:18:50.460Z"
   },
   {
    "duration": 9,
    "start_time": "2024-11-22T07:18:50.534Z"
   },
   {
    "duration": 199,
    "start_time": "2024-11-22T07:18:50.545Z"
   },
   {
    "duration": 3,
    "start_time": "2024-11-22T07:18:50.746Z"
   },
   {
    "duration": 2391,
    "start_time": "2024-11-22T07:18:50.751Z"
   },
   {
    "duration": 60,
    "start_time": "2024-11-22T07:18:53.145Z"
   },
   {
    "duration": 9,
    "start_time": "2024-11-22T07:18:53.207Z"
   },
   {
    "duration": 141,
    "start_time": "2024-11-22T07:18:53.232Z"
   },
   {
    "duration": 3,
    "start_time": "2024-11-22T07:18:53.375Z"
   },
   {
    "duration": 243,
    "start_time": "2024-11-22T07:18:53.380Z"
   }
  ],
  "kernelspec": {
   "display_name": "Python 3 (ipykernel)",
   "language": "python",
   "name": "python3"
  },
  "language_info": {
   "codemirror_mode": {
    "name": "ipython",
    "version": 3
   },
   "file_extension": ".py",
   "mimetype": "text/x-python",
   "name": "python",
   "nbconvert_exporter": "python",
   "pygments_lexer": "ipython3",
   "version": "3.9.19"
  },
  "toc": {
   "base_numbering": 1,
   "nav_menu": {},
   "number_sections": true,
   "sideBar": true,
   "skip_h1_title": true,
   "title_cell": "Table of Contents",
   "title_sidebar": "Contents",
   "toc_cell": false,
   "toc_position": {},
   "toc_section_display": true,
   "toc_window_display": false
  }
 },
 "nbformat": 4,
 "nbformat_minor": 2
}
