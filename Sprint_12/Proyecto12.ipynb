{
 "cells": [
  {
   "cell_type": "markdown",
   "metadata": {},
   "source": [
    "# Hola Aylin! <a class=\"tocSkip\"></a>\n",
    "\n",
    "Mi nombre es Oscar Flores y tengo el gusto de revisar tu proyecto. Si tienes algún comentario que quieras agregar en tus respuestas te puedes referir a mi como Oscar, no hay problema que me trates de tú.\n",
    "\n",
    "Si veo un error en la primera revisión solamente lo señalaré y dejaré que tú encuentres de qué se trata y cómo arreglarlo. Debo prepararte para que te desempeñes como especialista en Data, en un trabajo real, el responsable a cargo tuyo hará lo mismo. Si aún tienes dificultades para resolver esta tarea, te daré indicaciones más precisas en una siguiente iteración.\n",
    "\n",
    "Te dejaré mis comentarios más abajo - **por favor, no los muevas, modifiques o borres**\n",
    "\n",
    "Comenzaré mis comentarios con un resumen de los puntos que están bien, aquellos que debes corregir y aquellos que puedes mejorar. Luego deberás revisar todo el notebook para leer mis comentarios, los cuales estarán en rectángulos de color verde, amarillo o rojo como siguen:\n",
    "\n",
    "<div class=\"alert alert-block alert-success\">\n",
    "<b>Comentario de Reviewer</b> <a class=\"tocSkip\"></a>\n",
    "    \n",
    "Muy bien! Toda la respuesta fue lograda satisfactoriamente.\n",
    "</div>\n",
    "\n",
    "<div class=\"alert alert-block alert-warning\">\n",
    "<b>Comentario de Reviewer</b> <a class=\"tocSkip\"></a>\n",
    "\n",
    "Existen detalles a mejorar. Existen recomendaciones.\n",
    "</div>\n",
    "\n",
    "<div class=\"alert alert-block alert-danger\">\n",
    "\n",
    "<b>Comentario de Reviewer</b> <a class=\"tocSkip\"></a>\n",
    "\n",
    "Se necesitan correcciones en el bloque. El trabajo no puede ser aceptado con comentarios en rojo sin solucionar.\n",
    "</div>\n",
    "\n",
    "Cualquier comentario que quieras agregar entre iteraciones de revisión lo puedes hacer de la siguiente manera:\n",
    "\n",
    "<div class=\"alert alert-block alert-info\">\n",
    "<b>Respuesta estudiante.</b> <a class=\"tocSkip\"></a>\n",
    "</div>\n",
    "\n",
    "Mucho éxito en el proyecto!"
   ]
  },
  {
   "cell_type": "markdown",
   "metadata": {},
   "source": [
    "## Resumen de la revisión 1 <a class=\"tocSkip\"></a>"
   ]
  },
  {
   "cell_type": "markdown",
   "metadata": {},
   "source": [
    "<div class=\"alert alert-block alert-danger\">\n",
    "<b>Comentario de Revisor</b> <a class=\"tocSkip\"></a>\n",
    "\n",
    "Hola Aylin, muy buen trabajo con la exploración y limpieza inicial de la data, está hecha con mucho detalle, lo cual es importante para un correcto entrenamiento de los modelos posteriormente. Por otro lado, debes utilizar una data con menos columnas, a mayor cantidad de columnas, mayor es el requerimiento de datos para que los algoritmos de machine learning puedan realizar un aprendizaje correcto. Te dejé un comentario en esa parte, revisalo y prueba con los modelos nuevamente.\n",
    "    \n",
    "Saludos!\n",
    "</div>"
   ]
  },
  {
   "cell_type": "markdown",
   "metadata": {},
   "source": [
    "## Resumen de la revisión 2 <a class=\"tocSkip\"></a>"
   ]
  },
  {
   "cell_type": "markdown",
   "metadata": {},
   "source": [
    "<div class=\"alert alert-block alert-success\">\n",
    "<b>Comentario de Revisor v2</b> <a class=\"tocSkip\"></a>\n",
    "\n",
    "Bien hecho Aylin, has completado todo lo necesario del notebook. No tengo más comentarios de corrección a realizar, tu notebook está aprobado.\n",
    "    \n",
    "Saludos!\n",
    "</div>"
   ]
  },
  {
   "cell_type": "markdown",
   "metadata": {},
   "source": [
    "----"
   ]
  },
  {
   "cell_type": "markdown",
   "metadata": {},
   "source": [
    "# Proyecto 13: Valor de mercado para Rusty Bargain"
   ]
  },
  {
   "cell_type": "markdown",
   "metadata": {},
   "source": [
    "El servicio de venta de autos usados Rusty Bargain está desarrollando una aplicación para atraer nuevos clientes. Gracias a esa app, puedes averiguar rápidamente el valor de mercado de tu coche. Tienes acceso al historial: especificaciones técnicas, versiones de equipamiento y precios. Tienes que crear un modelo que determine el valor de mercado.\n",
    "A Rusty Bargain le interesa:\n",
    "- la calidad de la predicción;\n",
    "- la velocidad de la predicción;\n",
    "- el tiempo requerido para el entrenamiento"
   ]
  },
  {
   "cell_type": "markdown",
   "metadata": {},
   "source": [
    "## Preparación de datos"
   ]
  },
  {
   "cell_type": "code",
   "execution_count": 29,
   "metadata": {},
   "outputs": [],
   "source": [
    "import pandas as pd\n",
    "import numpy as np\n",
    "\n",
    "import sklearn.metrics\n",
    "\n",
    "from sklearn.tree import DecisionTreeRegressor\n",
    "from sklearn.ensemble import RandomForestRegressor\n",
    "from sklearn.linear_model import LinearRegression\n",
    "from catboost import CatBoostRegressor\n",
    "import lightgbm as lgb\n",
    "import xgboost as xgb\n",
    "import time\n",
    "\n",
    "import math\n",
    "import matplotlib.pyplot as plt\n",
    "import seaborn as sns\n",
    "from sklearn.preprocessing import StandardScaler\n",
    "\n",
    "from sklearn.metrics import mean_squared_error\n",
    "\n",
    "\n",
    "from sklearn.model_selection import train_test_split\n",
    "\n",
    "from IPython.display import display"
   ]
  },
  {
   "cell_type": "code",
   "execution_count": 30,
   "metadata": {},
   "outputs": [],
   "source": [
    "df = pd.read_csv(\"C:\\\\Users\\\\aylin\\\\Downloads\\\\car_data.csv\")\n"
   ]
  },
  {
   "cell_type": "code",
   "execution_count": 31,
   "metadata": {},
   "outputs": [
    {
     "name": "stdout",
     "output_type": "stream",
     "text": [
      "<class 'pandas.core.frame.DataFrame'>\n",
      "RangeIndex: 354369 entries, 0 to 354368\n",
      "Data columns (total 16 columns):\n",
      " #   Column             Non-Null Count   Dtype \n",
      "---  ------             --------------   ----- \n",
      " 0   DateCrawled        354369 non-null  object\n",
      " 1   Price              354369 non-null  int64 \n",
      " 2   VehicleType        316879 non-null  object\n",
      " 3   RegistrationYear   354369 non-null  int64 \n",
      " 4   Gearbox            334536 non-null  object\n",
      " 5   Power              354369 non-null  int64 \n",
      " 6   Model              334664 non-null  object\n",
      " 7   Mileage            354369 non-null  int64 \n",
      " 8   RegistrationMonth  354369 non-null  int64 \n",
      " 9   FuelType           321474 non-null  object\n",
      " 10  Brand              354369 non-null  object\n",
      " 11  NotRepaired        283215 non-null  object\n",
      " 12  DateCreated        354369 non-null  object\n",
      " 13  NumberOfPictures   354369 non-null  int64 \n",
      " 14  PostalCode         354369 non-null  int64 \n",
      " 15  LastSeen           354369 non-null  object\n",
      "dtypes: int64(7), object(9)\n",
      "memory usage: 43.3+ MB\n"
     ]
    }
   ],
   "source": [
    "df.info()"
   ]
  },
  {
   "cell_type": "code",
   "execution_count": 32,
   "metadata": {
    "scrolled": true
   },
   "outputs": [
    {
     "data": {
      "text/html": [
       "<div>\n",
       "<style scoped>\n",
       "    .dataframe tbody tr th:only-of-type {\n",
       "        vertical-align: middle;\n",
       "    }\n",
       "\n",
       "    .dataframe tbody tr th {\n",
       "        vertical-align: top;\n",
       "    }\n",
       "\n",
       "    .dataframe thead th {\n",
       "        text-align: right;\n",
       "    }\n",
       "</style>\n",
       "<table border=\"1\" class=\"dataframe\">\n",
       "  <thead>\n",
       "    <tr style=\"text-align: right;\">\n",
       "      <th></th>\n",
       "      <th>DateCrawled</th>\n",
       "      <th>Price</th>\n",
       "      <th>VehicleType</th>\n",
       "      <th>RegistrationYear</th>\n",
       "      <th>Gearbox</th>\n",
       "      <th>Power</th>\n",
       "      <th>Model</th>\n",
       "      <th>Mileage</th>\n",
       "      <th>RegistrationMonth</th>\n",
       "      <th>FuelType</th>\n",
       "      <th>Brand</th>\n",
       "      <th>NotRepaired</th>\n",
       "      <th>DateCreated</th>\n",
       "      <th>NumberOfPictures</th>\n",
       "      <th>PostalCode</th>\n",
       "      <th>LastSeen</th>\n",
       "    </tr>\n",
       "  </thead>\n",
       "  <tbody>\n",
       "    <tr>\n",
       "      <th>count</th>\n",
       "      <td>354369</td>\n",
       "      <td>354369.000000</td>\n",
       "      <td>316879</td>\n",
       "      <td>354369.000000</td>\n",
       "      <td>334536</td>\n",
       "      <td>354369.000000</td>\n",
       "      <td>334664</td>\n",
       "      <td>354369.000000</td>\n",
       "      <td>354369.000000</td>\n",
       "      <td>321474</td>\n",
       "      <td>354369</td>\n",
       "      <td>283215</td>\n",
       "      <td>354369</td>\n",
       "      <td>354369.0</td>\n",
       "      <td>354369.000000</td>\n",
       "      <td>354369</td>\n",
       "    </tr>\n",
       "    <tr>\n",
       "      <th>unique</th>\n",
       "      <td>15470</td>\n",
       "      <td>NaN</td>\n",
       "      <td>8</td>\n",
       "      <td>NaN</td>\n",
       "      <td>2</td>\n",
       "      <td>NaN</td>\n",
       "      <td>250</td>\n",
       "      <td>NaN</td>\n",
       "      <td>NaN</td>\n",
       "      <td>7</td>\n",
       "      <td>40</td>\n",
       "      <td>2</td>\n",
       "      <td>109</td>\n",
       "      <td>NaN</td>\n",
       "      <td>NaN</td>\n",
       "      <td>18592</td>\n",
       "    </tr>\n",
       "    <tr>\n",
       "      <th>top</th>\n",
       "      <td>05/03/2016 14:25</td>\n",
       "      <td>NaN</td>\n",
       "      <td>sedan</td>\n",
       "      <td>NaN</td>\n",
       "      <td>manual</td>\n",
       "      <td>NaN</td>\n",
       "      <td>golf</td>\n",
       "      <td>NaN</td>\n",
       "      <td>NaN</td>\n",
       "      <td>petrol</td>\n",
       "      <td>volkswagen</td>\n",
       "      <td>no</td>\n",
       "      <td>03/04/2016 00:00</td>\n",
       "      <td>NaN</td>\n",
       "      <td>NaN</td>\n",
       "      <td>07/04/2016 07:16</td>\n",
       "    </tr>\n",
       "    <tr>\n",
       "      <th>freq</th>\n",
       "      <td>66</td>\n",
       "      <td>NaN</td>\n",
       "      <td>91457</td>\n",
       "      <td>NaN</td>\n",
       "      <td>268251</td>\n",
       "      <td>NaN</td>\n",
       "      <td>29232</td>\n",
       "      <td>NaN</td>\n",
       "      <td>NaN</td>\n",
       "      <td>216352</td>\n",
       "      <td>77013</td>\n",
       "      <td>247161</td>\n",
       "      <td>13719</td>\n",
       "      <td>NaN</td>\n",
       "      <td>NaN</td>\n",
       "      <td>654</td>\n",
       "    </tr>\n",
       "    <tr>\n",
       "      <th>mean</th>\n",
       "      <td>NaN</td>\n",
       "      <td>4416.656776</td>\n",
       "      <td>NaN</td>\n",
       "      <td>2004.234448</td>\n",
       "      <td>NaN</td>\n",
       "      <td>110.094337</td>\n",
       "      <td>NaN</td>\n",
       "      <td>128211.172535</td>\n",
       "      <td>5.714645</td>\n",
       "      <td>NaN</td>\n",
       "      <td>NaN</td>\n",
       "      <td>NaN</td>\n",
       "      <td>NaN</td>\n",
       "      <td>0.0</td>\n",
       "      <td>50508.689087</td>\n",
       "      <td>NaN</td>\n",
       "    </tr>\n",
       "    <tr>\n",
       "      <th>std</th>\n",
       "      <td>NaN</td>\n",
       "      <td>4514.158514</td>\n",
       "      <td>NaN</td>\n",
       "      <td>90.227958</td>\n",
       "      <td>NaN</td>\n",
       "      <td>189.850405</td>\n",
       "      <td>NaN</td>\n",
       "      <td>37905.341530</td>\n",
       "      <td>3.726421</td>\n",
       "      <td>NaN</td>\n",
       "      <td>NaN</td>\n",
       "      <td>NaN</td>\n",
       "      <td>NaN</td>\n",
       "      <td>0.0</td>\n",
       "      <td>25783.096248</td>\n",
       "      <td>NaN</td>\n",
       "    </tr>\n",
       "    <tr>\n",
       "      <th>min</th>\n",
       "      <td>NaN</td>\n",
       "      <td>0.000000</td>\n",
       "      <td>NaN</td>\n",
       "      <td>1000.000000</td>\n",
       "      <td>NaN</td>\n",
       "      <td>0.000000</td>\n",
       "      <td>NaN</td>\n",
       "      <td>5000.000000</td>\n",
       "      <td>0.000000</td>\n",
       "      <td>NaN</td>\n",
       "      <td>NaN</td>\n",
       "      <td>NaN</td>\n",
       "      <td>NaN</td>\n",
       "      <td>0.0</td>\n",
       "      <td>1067.000000</td>\n",
       "      <td>NaN</td>\n",
       "    </tr>\n",
       "    <tr>\n",
       "      <th>25%</th>\n",
       "      <td>NaN</td>\n",
       "      <td>1050.000000</td>\n",
       "      <td>NaN</td>\n",
       "      <td>1999.000000</td>\n",
       "      <td>NaN</td>\n",
       "      <td>69.000000</td>\n",
       "      <td>NaN</td>\n",
       "      <td>125000.000000</td>\n",
       "      <td>3.000000</td>\n",
       "      <td>NaN</td>\n",
       "      <td>NaN</td>\n",
       "      <td>NaN</td>\n",
       "      <td>NaN</td>\n",
       "      <td>0.0</td>\n",
       "      <td>30165.000000</td>\n",
       "      <td>NaN</td>\n",
       "    </tr>\n",
       "    <tr>\n",
       "      <th>50%</th>\n",
       "      <td>NaN</td>\n",
       "      <td>2700.000000</td>\n",
       "      <td>NaN</td>\n",
       "      <td>2003.000000</td>\n",
       "      <td>NaN</td>\n",
       "      <td>105.000000</td>\n",
       "      <td>NaN</td>\n",
       "      <td>150000.000000</td>\n",
       "      <td>6.000000</td>\n",
       "      <td>NaN</td>\n",
       "      <td>NaN</td>\n",
       "      <td>NaN</td>\n",
       "      <td>NaN</td>\n",
       "      <td>0.0</td>\n",
       "      <td>49413.000000</td>\n",
       "      <td>NaN</td>\n",
       "    </tr>\n",
       "    <tr>\n",
       "      <th>75%</th>\n",
       "      <td>NaN</td>\n",
       "      <td>6400.000000</td>\n",
       "      <td>NaN</td>\n",
       "      <td>2008.000000</td>\n",
       "      <td>NaN</td>\n",
       "      <td>143.000000</td>\n",
       "      <td>NaN</td>\n",
       "      <td>150000.000000</td>\n",
       "      <td>9.000000</td>\n",
       "      <td>NaN</td>\n",
       "      <td>NaN</td>\n",
       "      <td>NaN</td>\n",
       "      <td>NaN</td>\n",
       "      <td>0.0</td>\n",
       "      <td>71083.000000</td>\n",
       "      <td>NaN</td>\n",
       "    </tr>\n",
       "    <tr>\n",
       "      <th>max</th>\n",
       "      <td>NaN</td>\n",
       "      <td>20000.000000</td>\n",
       "      <td>NaN</td>\n",
       "      <td>9999.000000</td>\n",
       "      <td>NaN</td>\n",
       "      <td>20000.000000</td>\n",
       "      <td>NaN</td>\n",
       "      <td>150000.000000</td>\n",
       "      <td>12.000000</td>\n",
       "      <td>NaN</td>\n",
       "      <td>NaN</td>\n",
       "      <td>NaN</td>\n",
       "      <td>NaN</td>\n",
       "      <td>0.0</td>\n",
       "      <td>99998.000000</td>\n",
       "      <td>NaN</td>\n",
       "    </tr>\n",
       "  </tbody>\n",
       "</table>\n",
       "</div>"
      ],
      "text/plain": [
       "             DateCrawled          Price VehicleType  RegistrationYear Gearbox  \\\n",
       "count             354369  354369.000000      316879     354369.000000  334536   \n",
       "unique             15470            NaN           8               NaN       2   \n",
       "top     05/03/2016 14:25            NaN       sedan               NaN  manual   \n",
       "freq                  66            NaN       91457               NaN  268251   \n",
       "mean                 NaN    4416.656776         NaN       2004.234448     NaN   \n",
       "std                  NaN    4514.158514         NaN         90.227958     NaN   \n",
       "min                  NaN       0.000000         NaN       1000.000000     NaN   \n",
       "25%                  NaN    1050.000000         NaN       1999.000000     NaN   \n",
       "50%                  NaN    2700.000000         NaN       2003.000000     NaN   \n",
       "75%                  NaN    6400.000000         NaN       2008.000000     NaN   \n",
       "max                  NaN   20000.000000         NaN       9999.000000     NaN   \n",
       "\n",
       "                Power   Model        Mileage  RegistrationMonth FuelType  \\\n",
       "count   354369.000000  334664  354369.000000      354369.000000   321474   \n",
       "unique            NaN     250            NaN                NaN        7   \n",
       "top               NaN    golf            NaN                NaN   petrol   \n",
       "freq              NaN   29232            NaN                NaN   216352   \n",
       "mean       110.094337     NaN  128211.172535           5.714645      NaN   \n",
       "std        189.850405     NaN   37905.341530           3.726421      NaN   \n",
       "min          0.000000     NaN    5000.000000           0.000000      NaN   \n",
       "25%         69.000000     NaN  125000.000000           3.000000      NaN   \n",
       "50%        105.000000     NaN  150000.000000           6.000000      NaN   \n",
       "75%        143.000000     NaN  150000.000000           9.000000      NaN   \n",
       "max      20000.000000     NaN  150000.000000          12.000000      NaN   \n",
       "\n",
       "             Brand NotRepaired       DateCreated  NumberOfPictures  \\\n",
       "count       354369      283215            354369          354369.0   \n",
       "unique          40           2               109               NaN   \n",
       "top     volkswagen          no  03/04/2016 00:00               NaN   \n",
       "freq         77013      247161             13719               NaN   \n",
       "mean           NaN         NaN               NaN               0.0   \n",
       "std            NaN         NaN               NaN               0.0   \n",
       "min            NaN         NaN               NaN               0.0   \n",
       "25%            NaN         NaN               NaN               0.0   \n",
       "50%            NaN         NaN               NaN               0.0   \n",
       "75%            NaN         NaN               NaN               0.0   \n",
       "max            NaN         NaN               NaN               0.0   \n",
       "\n",
       "           PostalCode          LastSeen  \n",
       "count   354369.000000            354369  \n",
       "unique            NaN             18592  \n",
       "top               NaN  07/04/2016 07:16  \n",
       "freq              NaN               654  \n",
       "mean     50508.689087               NaN  \n",
       "std      25783.096248               NaN  \n",
       "min       1067.000000               NaN  \n",
       "25%      30165.000000               NaN  \n",
       "50%      49413.000000               NaN  \n",
       "75%      71083.000000               NaN  \n",
       "max      99998.000000               NaN  "
      ]
     },
     "execution_count": 32,
     "metadata": {},
     "output_type": "execute_result"
    }
   ],
   "source": [
    "df.describe(include = 'all')"
   ]
  },
  {
   "cell_type": "code",
   "execution_count": 33,
   "metadata": {},
   "outputs": [
    {
     "data": {
      "text/html": [
       "<div>\n",
       "<style scoped>\n",
       "    .dataframe tbody tr th:only-of-type {\n",
       "        vertical-align: middle;\n",
       "    }\n",
       "\n",
       "    .dataframe tbody tr th {\n",
       "        vertical-align: top;\n",
       "    }\n",
       "\n",
       "    .dataframe thead th {\n",
       "        text-align: right;\n",
       "    }\n",
       "</style>\n",
       "<table border=\"1\" class=\"dataframe\">\n",
       "  <thead>\n",
       "    <tr style=\"text-align: right;\">\n",
       "      <th></th>\n",
       "      <th>DateCrawled</th>\n",
       "      <th>Price</th>\n",
       "      <th>VehicleType</th>\n",
       "      <th>RegistrationYear</th>\n",
       "      <th>Gearbox</th>\n",
       "      <th>Power</th>\n",
       "      <th>Model</th>\n",
       "      <th>Mileage</th>\n",
       "      <th>RegistrationMonth</th>\n",
       "      <th>FuelType</th>\n",
       "      <th>Brand</th>\n",
       "      <th>NotRepaired</th>\n",
       "      <th>DateCreated</th>\n",
       "      <th>NumberOfPictures</th>\n",
       "      <th>PostalCode</th>\n",
       "      <th>LastSeen</th>\n",
       "    </tr>\n",
       "  </thead>\n",
       "  <tbody>\n",
       "    <tr>\n",
       "      <th>238236</th>\n",
       "      <td>11/03/2016 20:54</td>\n",
       "      <td>5600</td>\n",
       "      <td>small</td>\n",
       "      <td>2010</td>\n",
       "      <td>manual</td>\n",
       "      <td>69</td>\n",
       "      <td>500</td>\n",
       "      <td>60000</td>\n",
       "      <td>9</td>\n",
       "      <td>petrol</td>\n",
       "      <td>fiat</td>\n",
       "      <td>no</td>\n",
       "      <td>11/03/2016 00:00</td>\n",
       "      <td>0</td>\n",
       "      <td>26723</td>\n",
       "      <td>06/04/2016 05:46</td>\n",
       "    </tr>\n",
       "    <tr>\n",
       "      <th>293559</th>\n",
       "      <td>16/03/2016 16:45</td>\n",
       "      <td>3000</td>\n",
       "      <td>small</td>\n",
       "      <td>2005</td>\n",
       "      <td>manual</td>\n",
       "      <td>80</td>\n",
       "      <td>ypsilon</td>\n",
       "      <td>125000</td>\n",
       "      <td>3</td>\n",
       "      <td>petrol</td>\n",
       "      <td>lancia</td>\n",
       "      <td>no</td>\n",
       "      <td>16/03/2016 00:00</td>\n",
       "      <td>0</td>\n",
       "      <td>86161</td>\n",
       "      <td>06/04/2016 20:45</td>\n",
       "    </tr>\n",
       "    <tr>\n",
       "      <th>75798</th>\n",
       "      <td>30/03/2016 21:36</td>\n",
       "      <td>5500</td>\n",
       "      <td>wagon</td>\n",
       "      <td>2008</td>\n",
       "      <td>manual</td>\n",
       "      <td>90</td>\n",
       "      <td>astra</td>\n",
       "      <td>150000</td>\n",
       "      <td>2</td>\n",
       "      <td>lpg</td>\n",
       "      <td>opel</td>\n",
       "      <td>no</td>\n",
       "      <td>30/03/2016 00:00</td>\n",
       "      <td>0</td>\n",
       "      <td>23946</td>\n",
       "      <td>05/04/2016 13:16</td>\n",
       "    </tr>\n",
       "    <tr>\n",
       "      <th>91268</th>\n",
       "      <td>19/03/2016 15:51</td>\n",
       "      <td>12400</td>\n",
       "      <td>suv</td>\n",
       "      <td>2011</td>\n",
       "      <td>manual</td>\n",
       "      <td>160</td>\n",
       "      <td>yeti</td>\n",
       "      <td>90000</td>\n",
       "      <td>3</td>\n",
       "      <td>petrol</td>\n",
       "      <td>skoda</td>\n",
       "      <td>no</td>\n",
       "      <td>19/03/2016 00:00</td>\n",
       "      <td>0</td>\n",
       "      <td>71540</td>\n",
       "      <td>07/04/2016 00:46</td>\n",
       "    </tr>\n",
       "    <tr>\n",
       "      <th>265843</th>\n",
       "      <td>08/03/2016 15:50</td>\n",
       "      <td>1199</td>\n",
       "      <td>NaN</td>\n",
       "      <td>2017</td>\n",
       "      <td>manual</td>\n",
       "      <td>101</td>\n",
       "      <td>a4</td>\n",
       "      <td>150000</td>\n",
       "      <td>6</td>\n",
       "      <td>NaN</td>\n",
       "      <td>audi</td>\n",
       "      <td>NaN</td>\n",
       "      <td>08/03/2016 00:00</td>\n",
       "      <td>0</td>\n",
       "      <td>4315</td>\n",
       "      <td>09/03/2016 07:15</td>\n",
       "    </tr>\n",
       "    <tr>\n",
       "      <th>248909</th>\n",
       "      <td>04/04/2016 14:57</td>\n",
       "      <td>3250</td>\n",
       "      <td>bus</td>\n",
       "      <td>2006</td>\n",
       "      <td>manual</td>\n",
       "      <td>109</td>\n",
       "      <td>other</td>\n",
       "      <td>150000</td>\n",
       "      <td>4</td>\n",
       "      <td>petrol</td>\n",
       "      <td>citroen</td>\n",
       "      <td>no</td>\n",
       "      <td>04/04/2016 00:00</td>\n",
       "      <td>0</td>\n",
       "      <td>21423</td>\n",
       "      <td>04/04/2016 14:57</td>\n",
       "    </tr>\n",
       "    <tr>\n",
       "      <th>353483</th>\n",
       "      <td>16/03/2016 02:02</td>\n",
       "      <td>3850</td>\n",
       "      <td>sedan</td>\n",
       "      <td>2005</td>\n",
       "      <td>manual</td>\n",
       "      <td>140</td>\n",
       "      <td>passat</td>\n",
       "      <td>150000</td>\n",
       "      <td>2</td>\n",
       "      <td>gasoline</td>\n",
       "      <td>volkswagen</td>\n",
       "      <td>no</td>\n",
       "      <td>16/03/2016 00:00</td>\n",
       "      <td>0</td>\n",
       "      <td>95444</td>\n",
       "      <td>16/03/2016 06:59</td>\n",
       "    </tr>\n",
       "    <tr>\n",
       "      <th>274602</th>\n",
       "      <td>16/03/2016 15:58</td>\n",
       "      <td>2699</td>\n",
       "      <td>sedan</td>\n",
       "      <td>1998</td>\n",
       "      <td>manual</td>\n",
       "      <td>118</td>\n",
       "      <td>NaN</td>\n",
       "      <td>150000</td>\n",
       "      <td>7</td>\n",
       "      <td>petrol</td>\n",
       "      <td>bmw</td>\n",
       "      <td>no</td>\n",
       "      <td>16/03/2016 00:00</td>\n",
       "      <td>0</td>\n",
       "      <td>28259</td>\n",
       "      <td>06/04/2016 20:18</td>\n",
       "    </tr>\n",
       "    <tr>\n",
       "      <th>111233</th>\n",
       "      <td>08/03/2016 09:47</td>\n",
       "      <td>1350</td>\n",
       "      <td>sedan</td>\n",
       "      <td>1997</td>\n",
       "      <td>manual</td>\n",
       "      <td>170</td>\n",
       "      <td>3er</td>\n",
       "      <td>150000</td>\n",
       "      <td>5</td>\n",
       "      <td>petrol</td>\n",
       "      <td>bmw</td>\n",
       "      <td>no</td>\n",
       "      <td>08/03/2016 00:00</td>\n",
       "      <td>0</td>\n",
       "      <td>37671</td>\n",
       "      <td>08/03/2016 16:15</td>\n",
       "    </tr>\n",
       "    <tr>\n",
       "      <th>77415</th>\n",
       "      <td>30/03/2016 21:50</td>\n",
       "      <td>6999</td>\n",
       "      <td>sedan</td>\n",
       "      <td>2010</td>\n",
       "      <td>manual</td>\n",
       "      <td>110</td>\n",
       "      <td>golf</td>\n",
       "      <td>150000</td>\n",
       "      <td>1</td>\n",
       "      <td>gasoline</td>\n",
       "      <td>volkswagen</td>\n",
       "      <td>no</td>\n",
       "      <td>30/03/2016 00:00</td>\n",
       "      <td>0</td>\n",
       "      <td>60486</td>\n",
       "      <td>03/04/2016 15:16</td>\n",
       "    </tr>\n",
       "    <tr>\n",
       "      <th>123471</th>\n",
       "      <td>03/04/2016 00:57</td>\n",
       "      <td>0</td>\n",
       "      <td>wagon</td>\n",
       "      <td>2003</td>\n",
       "      <td>auto</td>\n",
       "      <td>0</td>\n",
       "      <td>a4</td>\n",
       "      <td>150000</td>\n",
       "      <td>4</td>\n",
       "      <td>petrol</td>\n",
       "      <td>audi</td>\n",
       "      <td>no</td>\n",
       "      <td>02/04/2016 00:00</td>\n",
       "      <td>0</td>\n",
       "      <td>92693</td>\n",
       "      <td>07/04/2016 09:16</td>\n",
       "    </tr>\n",
       "    <tr>\n",
       "      <th>332184</th>\n",
       "      <td>23/03/2016 19:58</td>\n",
       "      <td>6950</td>\n",
       "      <td>wagon</td>\n",
       "      <td>2004</td>\n",
       "      <td>auto</td>\n",
       "      <td>150</td>\n",
       "      <td>c_klasse</td>\n",
       "      <td>150000</td>\n",
       "      <td>11</td>\n",
       "      <td>gasoline</td>\n",
       "      <td>mercedes_benz</td>\n",
       "      <td>no</td>\n",
       "      <td>23/03/2016 00:00</td>\n",
       "      <td>0</td>\n",
       "      <td>37603</td>\n",
       "      <td>25/03/2016 04:46</td>\n",
       "    </tr>\n",
       "    <tr>\n",
       "      <th>250039</th>\n",
       "      <td>17/03/2016 03:03</td>\n",
       "      <td>8500</td>\n",
       "      <td>bus</td>\n",
       "      <td>2009</td>\n",
       "      <td>manual</td>\n",
       "      <td>109</td>\n",
       "      <td>berlingo</td>\n",
       "      <td>125000</td>\n",
       "      <td>8</td>\n",
       "      <td>gasoline</td>\n",
       "      <td>citroen</td>\n",
       "      <td>no</td>\n",
       "      <td>17/03/2016 00:00</td>\n",
       "      <td>0</td>\n",
       "      <td>6869</td>\n",
       "      <td>06/04/2016 02:45</td>\n",
       "    </tr>\n",
       "    <tr>\n",
       "      <th>255330</th>\n",
       "      <td>04/04/2016 19:38</td>\n",
       "      <td>450</td>\n",
       "      <td>small</td>\n",
       "      <td>2001</td>\n",
       "      <td>manual</td>\n",
       "      <td>54</td>\n",
       "      <td>other</td>\n",
       "      <td>150000</td>\n",
       "      <td>6</td>\n",
       "      <td>petrol</td>\n",
       "      <td>hyundai</td>\n",
       "      <td>NaN</td>\n",
       "      <td>04/04/2016 00:00</td>\n",
       "      <td>0</td>\n",
       "      <td>36043</td>\n",
       "      <td>06/04/2016 21:45</td>\n",
       "    </tr>\n",
       "    <tr>\n",
       "      <th>144868</th>\n",
       "      <td>25/03/2016 15:25</td>\n",
       "      <td>3690</td>\n",
       "      <td>NaN</td>\n",
       "      <td>2017</td>\n",
       "      <td>manual</td>\n",
       "      <td>74</td>\n",
       "      <td>other</td>\n",
       "      <td>150000</td>\n",
       "      <td>1</td>\n",
       "      <td>gasoline</td>\n",
       "      <td>nissan</td>\n",
       "      <td>NaN</td>\n",
       "      <td>25/03/2016 00:00</td>\n",
       "      <td>0</td>\n",
       "      <td>56076</td>\n",
       "      <td>26/03/2016 10:43</td>\n",
       "    </tr>\n",
       "  </tbody>\n",
       "</table>\n",
       "</div>"
      ],
      "text/plain": [
       "             DateCrawled  Price VehicleType  RegistrationYear Gearbox  Power  \\\n",
       "238236  11/03/2016 20:54   5600       small              2010  manual     69   \n",
       "293559  16/03/2016 16:45   3000       small              2005  manual     80   \n",
       "75798   30/03/2016 21:36   5500       wagon              2008  manual     90   \n",
       "91268   19/03/2016 15:51  12400         suv              2011  manual    160   \n",
       "265843  08/03/2016 15:50   1199         NaN              2017  manual    101   \n",
       "248909  04/04/2016 14:57   3250         bus              2006  manual    109   \n",
       "353483  16/03/2016 02:02   3850       sedan              2005  manual    140   \n",
       "274602  16/03/2016 15:58   2699       sedan              1998  manual    118   \n",
       "111233  08/03/2016 09:47   1350       sedan              1997  manual    170   \n",
       "77415   30/03/2016 21:50   6999       sedan              2010  manual    110   \n",
       "123471  03/04/2016 00:57      0       wagon              2003    auto      0   \n",
       "332184  23/03/2016 19:58   6950       wagon              2004    auto    150   \n",
       "250039  17/03/2016 03:03   8500         bus              2009  manual    109   \n",
       "255330  04/04/2016 19:38    450       small              2001  manual     54   \n",
       "144868  25/03/2016 15:25   3690         NaN              2017  manual     74   \n",
       "\n",
       "           Model  Mileage  RegistrationMonth  FuelType          Brand  \\\n",
       "238236       500    60000                  9    petrol           fiat   \n",
       "293559   ypsilon   125000                  3    petrol         lancia   \n",
       "75798      astra   150000                  2       lpg           opel   \n",
       "91268       yeti    90000                  3    petrol          skoda   \n",
       "265843        a4   150000                  6       NaN           audi   \n",
       "248909     other   150000                  4    petrol        citroen   \n",
       "353483    passat   150000                  2  gasoline     volkswagen   \n",
       "274602       NaN   150000                  7    petrol            bmw   \n",
       "111233       3er   150000                  5    petrol            bmw   \n",
       "77415       golf   150000                  1  gasoline     volkswagen   \n",
       "123471        a4   150000                  4    petrol           audi   \n",
       "332184  c_klasse   150000                 11  gasoline  mercedes_benz   \n",
       "250039  berlingo   125000                  8  gasoline        citroen   \n",
       "255330     other   150000                  6    petrol        hyundai   \n",
       "144868     other   150000                  1  gasoline         nissan   \n",
       "\n",
       "       NotRepaired       DateCreated  NumberOfPictures  PostalCode  \\\n",
       "238236          no  11/03/2016 00:00                 0       26723   \n",
       "293559          no  16/03/2016 00:00                 0       86161   \n",
       "75798           no  30/03/2016 00:00                 0       23946   \n",
       "91268           no  19/03/2016 00:00                 0       71540   \n",
       "265843         NaN  08/03/2016 00:00                 0        4315   \n",
       "248909          no  04/04/2016 00:00                 0       21423   \n",
       "353483          no  16/03/2016 00:00                 0       95444   \n",
       "274602          no  16/03/2016 00:00                 0       28259   \n",
       "111233          no  08/03/2016 00:00                 0       37671   \n",
       "77415           no  30/03/2016 00:00                 0       60486   \n",
       "123471          no  02/04/2016 00:00                 0       92693   \n",
       "332184          no  23/03/2016 00:00                 0       37603   \n",
       "250039          no  17/03/2016 00:00                 0        6869   \n",
       "255330         NaN  04/04/2016 00:00                 0       36043   \n",
       "144868         NaN  25/03/2016 00:00                 0       56076   \n",
       "\n",
       "                LastSeen  \n",
       "238236  06/04/2016 05:46  \n",
       "293559  06/04/2016 20:45  \n",
       "75798   05/04/2016 13:16  \n",
       "91268   07/04/2016 00:46  \n",
       "265843  09/03/2016 07:15  \n",
       "248909  04/04/2016 14:57  \n",
       "353483  16/03/2016 06:59  \n",
       "274602  06/04/2016 20:18  \n",
       "111233  08/03/2016 16:15  \n",
       "77415   03/04/2016 15:16  \n",
       "123471  07/04/2016 09:16  \n",
       "332184  25/03/2016 04:46  \n",
       "250039  06/04/2016 02:45  \n",
       "255330  06/04/2016 21:45  \n",
       "144868  26/03/2016 10:43  "
      ]
     },
     "execution_count": 33,
     "metadata": {},
     "output_type": "execute_result"
    }
   ],
   "source": [
    "df.sample(15, random_state = 5456)"
   ]
  },
  {
   "cell_type": "code",
   "execution_count": 34,
   "metadata": {},
   "outputs": [
    {
     "name": "stdout",
     "output_type": "stream",
     "text": [
      "<class 'pandas.core.frame.DataFrame'>\n",
      "RangeIndex: 354369 entries, 0 to 354368\n",
      "Data columns (total 16 columns):\n",
      " #   Column             Non-Null Count   Dtype \n",
      "---  ------             --------------   ----- \n",
      " 0   DateCrawled        354369 non-null  object\n",
      " 1   Price              354369 non-null  int64 \n",
      " 2   VehicleType        316879 non-null  object\n",
      " 3   RegistrationYear   354369 non-null  int64 \n",
      " 4   Gearbox            334536 non-null  object\n",
      " 5   Power              354369 non-null  int64 \n",
      " 6   Model              334664 non-null  object\n",
      " 7   Mileage            354369 non-null  int64 \n",
      " 8   RegistrationMonth  354369 non-null  int64 \n",
      " 9   FuelType           321474 non-null  object\n",
      " 10  Brand              354369 non-null  object\n",
      " 11  NotRepaired        283215 non-null  object\n",
      " 12  DateCreated        354369 non-null  object\n",
      " 13  NumberOfPictures   354369 non-null  int64 \n",
      " 14  PostalCode         354369 non-null  int64 \n",
      " 15  LastSeen           354369 non-null  object\n",
      "dtypes: int64(7), object(9)\n",
      "memory usage: 43.3+ MB\n"
     ]
    },
    {
     "data": {
      "image/png": "[encoded data removed]",
      "text/plain": [
       "<Figure size 640x480 with 1 Axes>"
      ]
     },
     "metadata": {},
     "output_type": "display_data"
    }
   ],
   "source": [
    "df.isnull().sum().plot(kind = 'bar')\n",
    "df.dropna(how = 'all', inplace = True)\n",
    "df.info()"
   ]
  },
  {
   "cell_type": "markdown",
   "metadata": {},
   "source": [
    "<span style='color:green'> En vez de crear una nueva variable se hace sobre el DF original, en caso de haber filas con nulos en todas sus celdas las elimina y al mismo tiempo visualizamos las columnas con nulos </span>"
   ]
  },
  {
   "cell_type": "markdown",
   "metadata": {},
   "source": [
    "<div class=\"alert alert-block alert-success\">\n",
    "<b>Comentario de Revisor</b> <a class=\"tocSkip\"></a>\n",
    "\n",
    "Muy bien con esta primera exploración de las variables\n",
    "\n",
    "</div>"
   ]
  },
  {
   "cell_type": "markdown",
   "metadata": {},
   "source": [
    "###  Distribucion de las variables numéricas"
   ]
  },
  {
   "cell_type": "code",
   "execution_count": 35,
   "metadata": {},
   "outputs": [
    {
     "data": {
      "image/png": "[encoded data removed]",
      "text/plain": [
       "<Figure size 1500x1500 with 9 Axes>"
      ]
     },
     "metadata": {},
     "output_type": "display_data"
    }
   ],
   "source": [
    "df.hist(figsize = (15,15), log = True)\n",
    "plt.show()\n"
   ]
  },
  {
   "cell_type": "markdown",
   "metadata": {},
   "source": [
    "<span style='color:green'> En el DF se tienen varias variables por lo que se estudian de manera logaritmica para saber a fondo que pasa con ellas </span>"
   ]
  },
  {
   "cell_type": "markdown",
   "metadata": {},
   "source": [
    "<span style='color:green'> Por lo que podemos observar hay varias columnas que no son de nuestro interés para la evaluación de los datos. Al mismo tiempo tanto 'Price' como 'Power' tienen registros con mínimo de '0' cuando por lógica esto no está bien registrado. La columna 'NotRepaired' se debería codificar ya que como entrada tiene 'yes'/'no'. Y el año está codificado de una manera curiosa ya que elk máximo es 9999.  </span>"
   ]
  },
  {
   "cell_type": "markdown",
   "metadata": {},
   "source": [
    "<div class=\"alert alert-block alert-success\">\n",
    "<b>Comentario de Revisor</b> <a class=\"tocSkip\"></a>\n",
    "\n",
    "Buenas observaciones, es importante tener en cuenta una noción de las variables y qué valores son realistas y qué valores no.\n",
    "\n",
    "</div>"
   ]
  },
  {
   "cell_type": "markdown",
   "metadata": {},
   "source": [
    "## Preprocesamiento de datos"
   ]
  },
  {
   "cell_type": "markdown",
   "metadata": {},
   "source": []
  },
  {
   "cell_type": "markdown",
   "metadata": {},
   "source": [
    "### Caracterpisticas innecesarias"
   ]
  },
  {
   "cell_type": "code",
   "execution_count": 36,
   "metadata": {},
   "outputs": [],
   "source": [
    "df.drop(['DateCrawled', 'RegistrationMonth', 'DateCreated',  'NumberOfPictures', 'PostalCode', 'LastSeen', 'Model', 'Brand'], axis = 1, inplace = True)\n",
    "df.drop_duplicates(inplace=True)"
   ]
  },
  {
   "cell_type": "code",
   "execution_count": 37,
   "metadata": {},
   "outputs": [
    {
     "name": "stdout",
     "output_type": "stream",
     "text": [
      "<class 'pandas.core.frame.DataFrame'>\n",
      "Index: 281338 entries, 0 to 354368\n",
      "Data columns (total 8 columns):\n",
      " #   Column            Non-Null Count   Dtype \n",
      "---  ------            --------------   ----- \n",
      " 0   Price             281338 non-null  int64 \n",
      " 1   VehicleType       252725 non-null  object\n",
      " 2   RegistrationYear  281338 non-null  int64 \n",
      " 3   Gearbox           266979 non-null  object\n",
      " 4   Power             281338 non-null  int64 \n",
      " 5   Mileage           281338 non-null  int64 \n",
      " 6   FuelType          254274 non-null  object\n",
      " 7   NotRepaired       224322 non-null  object\n",
      "dtypes: int64(4), object(4)\n",
      "memory usage: 19.3+ MB\n"
     ]
    }
   ],
   "source": [
    "df.info()"
   ]
  },
  {
   "cell_type": "markdown",
   "metadata": {},
   "source": [
    "<div class=\"alert alert-block alert-success\">\n",
    "<b>Comentario de Revisor</b> <a class=\"tocSkip\"></a>\n",
    "\n",
    "OK, pero tal vez registration month si podría haber sido útil.\n",
    "\n",
    "</div>"
   ]
  },
  {
   "cell_type": "markdown",
   "metadata": {},
   "source": [
    "### Codificación de la columna 'NotRepaired'"
   ]
  },
  {
   "cell_type": "code",
   "execution_count": 38,
   "metadata": {},
   "outputs": [
    {
     "data": {
      "text/plain": [
       "array(['NaN', 1, 0], dtype=object)"
      ]
     },
     "execution_count": 38,
     "metadata": {},
     "output_type": "execute_result"
    }
   ],
   "source": [
    "df.loc[df['NotRepaired'] == 'yes', 'NotRepaired'] = 1\n",
    "df.loc[df['NotRepaired'] == 'no', 'NotRepaired'] = 0\n",
    "df.fillna({'NotRepaired': 'NaN'}, inplace = True)\n",
    "df['NotRepaired'].unique()"
   ]
  },
  {
   "cell_type": "markdown",
   "metadata": {},
   "source": [
    "<div class=\"alert alert-block alert-success\">\n",
    "<b>Comentario de Revisor</b> <a class=\"tocSkip\"></a>\n",
    "\n",
    "Está bien usar un string, pero no estoy seguro si querías usar un nan como tipo o como string. En todos los casos, esto sirve.\n",
    "\n",
    "</div>"
   ]
  },
  {
   "cell_type": "markdown",
   "metadata": {},
   "source": [
    "### Info extra sobre columnas: 'Price', 'Power', 'RegistrationYear'"
   ]
  },
  {
   "cell_type": "code",
   "execution_count": 39,
   "metadata": {},
   "outputs": [
    {
     "name": "stdout",
     "output_type": "stream",
     "text": [
      "Coches con precio igual a cero: 6813\n",
      "Coches con potencia igual a cero: 28625\n",
      "Coches con un año superior al  actual: 94\n",
      "Coches con un año inferior a 1900: 58\n"
     ]
    }
   ],
   "source": [
    "print(\"Coches con precio igual a cero:\",df[df[\"Price\"]==0][\"Price\"].count())\n",
    "print(\"Coches con potencia igual a cero:\",df[df[\"Power\"]==0][\"Power\"].count())\n",
    "print(\"Coches con un año superior al  actual:\",df[df[\"RegistrationYear\"]>2025][\"RegistrationYear\"].count())\n",
    "print(\"Coches con un año inferior a 1900:\",df[df[\"RegistrationYear\"]<1903][\"RegistrationYear\"].count())"
   ]
  },
  {
   "cell_type": "markdown",
   "metadata": {},
   "source": [
    "<div class=\"alert alert-block alert-success\">\n",
    "<b>Comentario de Revisor</b> <a class=\"tocSkip\"></a>\n",
    "\n",
    "Bien, estos valores hay que limpiar\n",
    "\n",
    "</div>"
   ]
  },
  {
   "cell_type": "markdown",
   "metadata": {},
   "source": [
    "### Análisis de 'Price'"
   ]
  },
  {
   "cell_type": "code",
   "execution_count": 40,
   "metadata": {},
   "outputs": [
    {
     "data": {
      "text/html": [
       "<div>\n",
       "<style scoped>\n",
       "    .dataframe tbody tr th:only-of-type {\n",
       "        vertical-align: middle;\n",
       "    }\n",
       "\n",
       "    .dataframe tbody tr th {\n",
       "        vertical-align: top;\n",
       "    }\n",
       "\n",
       "    .dataframe thead th {\n",
       "        text-align: right;\n",
       "    }\n",
       "</style>\n",
       "<table border=\"1\" class=\"dataframe\">\n",
       "  <thead>\n",
       "    <tr style=\"text-align: right;\">\n",
       "      <th></th>\n",
       "      <th>VehicleType</th>\n",
       "      <th>RegistrationYear</th>\n",
       "      <th>Gearbox</th>\n",
       "      <th>Power</th>\n",
       "      <th>Mileage</th>\n",
       "      <th>FuelType</th>\n",
       "      <th>NotRepaired</th>\n",
       "    </tr>\n",
       "    <tr>\n",
       "      <th>Price</th>\n",
       "      <th></th>\n",
       "      <th></th>\n",
       "      <th></th>\n",
       "      <th></th>\n",
       "      <th></th>\n",
       "      <th></th>\n",
       "      <th></th>\n",
       "    </tr>\n",
       "  </thead>\n",
       "  <tbody>\n",
       "    <tr>\n",
       "      <th>0</th>\n",
       "      <td>5151</td>\n",
       "      <td>6813</td>\n",
       "      <td>5804</td>\n",
       "      <td>6813</td>\n",
       "      <td>6813</td>\n",
       "      <td>5048</td>\n",
       "      <td>6813</td>\n",
       "    </tr>\n",
       "    <tr>\n",
       "      <th>1</th>\n",
       "      <td>653</td>\n",
       "      <td>939</td>\n",
       "      <td>734</td>\n",
       "      <td>939</td>\n",
       "      <td>939</td>\n",
       "      <td>673</td>\n",
       "      <td>939</td>\n",
       "    </tr>\n",
       "    <tr>\n",
       "      <th>2</th>\n",
       "      <td>8</td>\n",
       "      <td>12</td>\n",
       "      <td>9</td>\n",
       "      <td>12</td>\n",
       "      <td>12</td>\n",
       "      <td>10</td>\n",
       "      <td>12</td>\n",
       "    </tr>\n",
       "    <tr>\n",
       "      <th>3</th>\n",
       "      <td>4</td>\n",
       "      <td>7</td>\n",
       "      <td>4</td>\n",
       "      <td>7</td>\n",
       "      <td>7</td>\n",
       "      <td>4</td>\n",
       "      <td>7</td>\n",
       "    </tr>\n",
       "    <tr>\n",
       "      <th>4</th>\n",
       "      <td>0</td>\n",
       "      <td>1</td>\n",
       "      <td>0</td>\n",
       "      <td>1</td>\n",
       "      <td>1</td>\n",
       "      <td>0</td>\n",
       "      <td>1</td>\n",
       "    </tr>\n",
       "  </tbody>\n",
       "</table>\n",
       "</div>"
      ],
      "text/plain": [
       "       VehicleType  RegistrationYear  Gearbox  Power  Mileage  FuelType  \\\n",
       "Price                                                                     \n",
       "0             5151              6813     5804   6813     6813      5048   \n",
       "1              653               939      734    939      939       673   \n",
       "2                8                12        9     12       12        10   \n",
       "3                4                 7        4      7        7         4   \n",
       "4                0                 1        0      1        1         0   \n",
       "\n",
       "       NotRepaired  \n",
       "Price               \n",
       "0             6813  \n",
       "1              939  \n",
       "2               12  \n",
       "3                7  \n",
       "4                1  "
      ]
     },
     "execution_count": 40,
     "metadata": {},
     "output_type": "execute_result"
    }
   ],
   "source": [
    "df.groupby('Price').count().sort_values(by = 'Price').head()"
   ]
  },
  {
   "cell_type": "code",
   "execution_count": 41,
   "metadata": {},
   "outputs": [
    {
     "data": {
      "image/png": "[encoded data removed]",
      "text/plain": [
       "<Figure size 1000x500 with 1 Axes>"
      ]
     },
     "metadata": {},
     "output_type": "display_data"
    }
   ],
   "source": [
    "plt.figure(figsize =(10,5))\n",
    "sns.boxplot(x = df['Price'])\n",
    "plt.title('Boxplot de Price')\n",
    "plt.xlabel('Price')\n",
    "plt.show()"
   ]
  },
  {
   "cell_type": "code",
   "execution_count": 42,
   "metadata": {},
   "outputs": [
    {
     "data": {
      "text/plain": [
       "3000.0"
      ]
     },
     "execution_count": 42,
     "metadata": {},
     "output_type": "execute_result"
    }
   ],
   "source": [
    "df.loc[df[\"Price\"] == 0, \"Price\"] =df[df[\"Price\"]!=0][\"Price\"].median()\n",
    "df.loc[df[\"Price\"] == 1, \"Price\"] =df[df[\"Price\"]!=0][\"Price\"].median()\n",
    "\n",
    "\n",
    "Bigote_superior = df['Price'].quantile(0.75) + (1.5 * (df['Price'].quantile(0.75) - df['Price'].quantile(0.25)))\n",
    "\n",
    "df = df[df['Price'] < Bigote_superior].reset_index(drop=True)\n",
    "\n",
    "df[df[\"Price\"]!=0][\"Price\"].median()"
   ]
  },
  {
   "cell_type": "code",
   "execution_count": 43,
   "metadata": {},
   "outputs": [
    {
     "data": {
      "image/png": "[encoded data removed]",
      "text/plain": [
       "<Figure size 800x400 with 1 Axes>"
      ]
     },
     "metadata": {},
     "output_type": "display_data"
    }
   ],
   "source": [
    "plt.figure(figsize =(8,4))\n",
    "sns.boxplot(x = df['Price'])\n",
    "plt.title('Boxplot de Price')\n",
    "plt.xlabel('Price')\n",
    "plt.show()"
   ]
  },
  {
   "cell_type": "code",
   "execution_count": 44,
   "metadata": {},
   "outputs": [
    {
     "data": {
      "text/html": [
       "<div>\n",
       "<style scoped>\n",
       "    .dataframe tbody tr th:only-of-type {\n",
       "        vertical-align: middle;\n",
       "    }\n",
       "\n",
       "    .dataframe tbody tr th {\n",
       "        vertical-align: top;\n",
       "    }\n",
       "\n",
       "    .dataframe thead th {\n",
       "        text-align: right;\n",
       "    }\n",
       "</style>\n",
       "<table border=\"1\" class=\"dataframe\">\n",
       "  <thead>\n",
       "    <tr style=\"text-align: right;\">\n",
       "      <th></th>\n",
       "      <th>VehicleType</th>\n",
       "      <th>RegistrationYear</th>\n",
       "      <th>Gearbox</th>\n",
       "      <th>Power</th>\n",
       "      <th>Mileage</th>\n",
       "      <th>FuelType</th>\n",
       "      <th>NotRepaired</th>\n",
       "    </tr>\n",
       "    <tr>\n",
       "      <th>Price</th>\n",
       "      <th></th>\n",
       "      <th></th>\n",
       "      <th></th>\n",
       "      <th></th>\n",
       "      <th></th>\n",
       "      <th></th>\n",
       "      <th></th>\n",
       "    </tr>\n",
       "  </thead>\n",
       "  <tbody>\n",
       "    <tr>\n",
       "      <th>2</th>\n",
       "      <td>8</td>\n",
       "      <td>12</td>\n",
       "      <td>9</td>\n",
       "      <td>12</td>\n",
       "      <td>12</td>\n",
       "      <td>10</td>\n",
       "      <td>12</td>\n",
       "    </tr>\n",
       "    <tr>\n",
       "      <th>3</th>\n",
       "      <td>4</td>\n",
       "      <td>7</td>\n",
       "      <td>4</td>\n",
       "      <td>7</td>\n",
       "      <td>7</td>\n",
       "      <td>4</td>\n",
       "      <td>7</td>\n",
       "    </tr>\n",
       "    <tr>\n",
       "      <th>4</th>\n",
       "      <td>0</td>\n",
       "      <td>1</td>\n",
       "      <td>0</td>\n",
       "      <td>1</td>\n",
       "      <td>1</td>\n",
       "      <td>0</td>\n",
       "      <td>1</td>\n",
       "    </tr>\n",
       "    <tr>\n",
       "      <th>5</th>\n",
       "      <td>15</td>\n",
       "      <td>24</td>\n",
       "      <td>13</td>\n",
       "      <td>24</td>\n",
       "      <td>24</td>\n",
       "      <td>10</td>\n",
       "      <td>24</td>\n",
       "    </tr>\n",
       "    <tr>\n",
       "      <th>7</th>\n",
       "      <td>1</td>\n",
       "      <td>3</td>\n",
       "      <td>1</td>\n",
       "      <td>3</td>\n",
       "      <td>3</td>\n",
       "      <td>2</td>\n",
       "      <td>3</td>\n",
       "    </tr>\n",
       "  </tbody>\n",
       "</table>\n",
       "</div>"
      ],
      "text/plain": [
       "       VehicleType  RegistrationYear  Gearbox  Power  Mileage  FuelType  \\\n",
       "Price                                                                     \n",
       "2                8                12        9     12       12        10   \n",
       "3                4                 7        4      7        7         4   \n",
       "4                0                 1        0      1        1         0   \n",
       "5               15                24       13     24       24        10   \n",
       "7                1                 3        1      3        3         2   \n",
       "\n",
       "       NotRepaired  \n",
       "Price               \n",
       "2               12  \n",
       "3                7  \n",
       "4                1  \n",
       "5               24  \n",
       "7                3  "
      ]
     },
     "execution_count": 44,
     "metadata": {},
     "output_type": "execute_result"
    }
   ],
   "source": [
    "df.groupby('Price').count().sort_values(by = 'Price').head()"
   ]
  },
  {
   "cell_type": "markdown",
   "metadata": {},
   "source": [
    "### Análisis de 'RegistrationYear'"
   ]
  },
  {
   "cell_type": "code",
   "execution_count": 45,
   "metadata": {},
   "outputs": [
    {
     "data": {
      "text/html": [
       "<div>\n",
       "<style scoped>\n",
       "    .dataframe tbody tr th:only-of-type {\n",
       "        vertical-align: middle;\n",
       "    }\n",
       "\n",
       "    .dataframe tbody tr th {\n",
       "        vertical-align: top;\n",
       "    }\n",
       "\n",
       "    .dataframe thead th {\n",
       "        text-align: right;\n",
       "    }\n",
       "</style>\n",
       "<table border=\"1\" class=\"dataframe\">\n",
       "  <thead>\n",
       "    <tr style=\"text-align: right;\">\n",
       "      <th></th>\n",
       "      <th>Price</th>\n",
       "      <th>VehicleType</th>\n",
       "      <th>Gearbox</th>\n",
       "      <th>Power</th>\n",
       "      <th>Mileage</th>\n",
       "      <th>FuelType</th>\n",
       "      <th>NotRepaired</th>\n",
       "    </tr>\n",
       "    <tr>\n",
       "      <th>RegistrationYear</th>\n",
       "      <th></th>\n",
       "      <th></th>\n",
       "      <th></th>\n",
       "      <th></th>\n",
       "      <th></th>\n",
       "      <th></th>\n",
       "      <th></th>\n",
       "    </tr>\n",
       "  </thead>\n",
       "  <tbody>\n",
       "    <tr>\n",
       "      <th>1000</th>\n",
       "      <td>30</td>\n",
       "      <td>0</td>\n",
       "      <td>3</td>\n",
       "      <td>30</td>\n",
       "      <td>30</td>\n",
       "      <td>6</td>\n",
       "      <td>30</td>\n",
       "    </tr>\n",
       "    <tr>\n",
       "      <th>1001</th>\n",
       "      <td>1</td>\n",
       "      <td>0</td>\n",
       "      <td>0</td>\n",
       "      <td>1</td>\n",
       "      <td>1</td>\n",
       "      <td>0</td>\n",
       "      <td>1</td>\n",
       "    </tr>\n",
       "    <tr>\n",
       "      <th>1039</th>\n",
       "      <td>1</td>\n",
       "      <td>0</td>\n",
       "      <td>0</td>\n",
       "      <td>1</td>\n",
       "      <td>1</td>\n",
       "      <td>1</td>\n",
       "      <td>1</td>\n",
       "    </tr>\n",
       "    <tr>\n",
       "      <th>1111</th>\n",
       "      <td>2</td>\n",
       "      <td>0</td>\n",
       "      <td>0</td>\n",
       "      <td>2</td>\n",
       "      <td>2</td>\n",
       "      <td>0</td>\n",
       "      <td>2</td>\n",
       "    </tr>\n",
       "    <tr>\n",
       "      <th>1200</th>\n",
       "      <td>1</td>\n",
       "      <td>0</td>\n",
       "      <td>1</td>\n",
       "      <td>1</td>\n",
       "      <td>1</td>\n",
       "      <td>1</td>\n",
       "      <td>1</td>\n",
       "    </tr>\n",
       "  </tbody>\n",
       "</table>\n",
       "</div>"
      ],
      "text/plain": [
       "                  Price  VehicleType  Gearbox  Power  Mileage  FuelType  \\\n",
       "RegistrationYear                                                          \n",
       "1000                 30            0        3     30       30         6   \n",
       "1001                  1            0        0      1        1         0   \n",
       "1039                  1            0        0      1        1         1   \n",
       "1111                  2            0        0      2        2         0   \n",
       "1200                  1            0        1      1        1         1   \n",
       "\n",
       "                  NotRepaired  \n",
       "RegistrationYear               \n",
       "1000                       30  \n",
       "1001                        1  \n",
       "1039                        1  \n",
       "1111                        2  \n",
       "1200                        1  "
      ]
     },
     "execution_count": 45,
     "metadata": {},
     "output_type": "execute_result"
    }
   ],
   "source": [
    "df.groupby('RegistrationYear').count().sort_values(by = 'RegistrationYear').head()"
   ]
  },
  {
   "cell_type": "code",
   "execution_count": 46,
   "metadata": {},
   "outputs": [
    {
     "data": {
      "image/png": "[encoded data removed]",
      "text/plain": [
       "<Figure size 800x400 with 1 Axes>"
      ]
     },
     "metadata": {},
     "output_type": "display_data"
    }
   ],
   "source": [
    "plt.figure(figsize = (8,4))\n",
    "sns.boxplot(x = df['RegistrationYear'])\n",
    "plt.xlabel('RegistrationYear')\n",
    "plt.title('Boxplot de RegistrationYear')\n",
    "\n",
    "plt.tight_layout()\n",
    "plt.show()"
   ]
  },
  {
   "cell_type": "code",
   "execution_count": 47,
   "metadata": {},
   "outputs": [
    {
     "data": {
      "text/html": [
       "<div>\n",
       "<style scoped>\n",
       "    .dataframe tbody tr th:only-of-type {\n",
       "        vertical-align: middle;\n",
       "    }\n",
       "\n",
       "    .dataframe tbody tr th {\n",
       "        vertical-align: top;\n",
       "    }\n",
       "\n",
       "    .dataframe thead th {\n",
       "        text-align: right;\n",
       "    }\n",
       "</style>\n",
       "<table border=\"1\" class=\"dataframe\">\n",
       "  <thead>\n",
       "    <tr style=\"text-align: right;\">\n",
       "      <th></th>\n",
       "      <th>Price</th>\n",
       "      <th>VehicleType</th>\n",
       "      <th>Gearbox</th>\n",
       "      <th>Power</th>\n",
       "      <th>Mileage</th>\n",
       "      <th>FuelType</th>\n",
       "      <th>NotRepaired</th>\n",
       "    </tr>\n",
       "    <tr>\n",
       "      <th>RegistrationYear</th>\n",
       "      <th></th>\n",
       "      <th></th>\n",
       "      <th></th>\n",
       "      <th></th>\n",
       "      <th></th>\n",
       "      <th></th>\n",
       "      <th></th>\n",
       "    </tr>\n",
       "  </thead>\n",
       "  <tbody>\n",
       "    <tr>\n",
       "      <th>1910</th>\n",
       "      <td>64</td>\n",
       "      <td>28</td>\n",
       "      <td>25</td>\n",
       "      <td>64</td>\n",
       "      <td>64</td>\n",
       "      <td>24</td>\n",
       "      <td>64</td>\n",
       "    </tr>\n",
       "    <tr>\n",
       "      <th>1915</th>\n",
       "      <td>1</td>\n",
       "      <td>1</td>\n",
       "      <td>0</td>\n",
       "      <td>1</td>\n",
       "      <td>1</td>\n",
       "      <td>0</td>\n",
       "      <td>1</td>\n",
       "    </tr>\n",
       "    <tr>\n",
       "      <th>1919</th>\n",
       "      <td>1</td>\n",
       "      <td>1</td>\n",
       "      <td>1</td>\n",
       "      <td>1</td>\n",
       "      <td>1</td>\n",
       "      <td>1</td>\n",
       "      <td>1</td>\n",
       "    </tr>\n",
       "    <tr>\n",
       "      <th>1920</th>\n",
       "      <td>1</td>\n",
       "      <td>1</td>\n",
       "      <td>0</td>\n",
       "      <td>1</td>\n",
       "      <td>1</td>\n",
       "      <td>1</td>\n",
       "      <td>1</td>\n",
       "    </tr>\n",
       "    <tr>\n",
       "      <th>1923</th>\n",
       "      <td>2</td>\n",
       "      <td>2</td>\n",
       "      <td>2</td>\n",
       "      <td>2</td>\n",
       "      <td>2</td>\n",
       "      <td>2</td>\n",
       "      <td>2</td>\n",
       "    </tr>\n",
       "    <tr>\n",
       "      <th>1925</th>\n",
       "      <td>1</td>\n",
       "      <td>1</td>\n",
       "      <td>0</td>\n",
       "      <td>1</td>\n",
       "      <td>1</td>\n",
       "      <td>0</td>\n",
       "      <td>1</td>\n",
       "    </tr>\n",
       "    <tr>\n",
       "      <th>1928</th>\n",
       "      <td>2</td>\n",
       "      <td>2</td>\n",
       "      <td>1</td>\n",
       "      <td>2</td>\n",
       "      <td>2</td>\n",
       "      <td>1</td>\n",
       "      <td>2</td>\n",
       "    </tr>\n",
       "    <tr>\n",
       "      <th>1929</th>\n",
       "      <td>5</td>\n",
       "      <td>5</td>\n",
       "      <td>3</td>\n",
       "      <td>5</td>\n",
       "      <td>5</td>\n",
       "      <td>4</td>\n",
       "      <td>5</td>\n",
       "    </tr>\n",
       "    <tr>\n",
       "      <th>1930</th>\n",
       "      <td>2</td>\n",
       "      <td>2</td>\n",
       "      <td>2</td>\n",
       "      <td>2</td>\n",
       "      <td>2</td>\n",
       "      <td>2</td>\n",
       "      <td>2</td>\n",
       "    </tr>\n",
       "    <tr>\n",
       "      <th>1931</th>\n",
       "      <td>1</td>\n",
       "      <td>1</td>\n",
       "      <td>1</td>\n",
       "      <td>1</td>\n",
       "      <td>1</td>\n",
       "      <td>1</td>\n",
       "      <td>1</td>\n",
       "    </tr>\n",
       "  </tbody>\n",
       "</table>\n",
       "</div>"
      ],
      "text/plain": [
       "                  Price  VehicleType  Gearbox  Power  Mileage  FuelType  \\\n",
       "RegistrationYear                                                          \n",
       "1910                 64           28       25     64       64        24   \n",
       "1915                  1            1        0      1        1         0   \n",
       "1919                  1            1        1      1        1         1   \n",
       "1920                  1            1        0      1        1         1   \n",
       "1923                  2            2        2      2        2         2   \n",
       "1925                  1            1        0      1        1         0   \n",
       "1928                  2            2        1      2        2         1   \n",
       "1929                  5            5        3      5        5         4   \n",
       "1930                  2            2        2      2        2         2   \n",
       "1931                  1            1        1      1        1         1   \n",
       "\n",
       "                  NotRepaired  \n",
       "RegistrationYear               \n",
       "1910                       64  \n",
       "1915                        1  \n",
       "1919                        1  \n",
       "1920                        1  \n",
       "1923                        2  \n",
       "1925                        1  \n",
       "1928                        2  \n",
       "1929                        5  \n",
       "1930                        2  \n",
       "1931                        1  "
      ]
     },
     "execution_count": 47,
     "metadata": {},
     "output_type": "execute_result"
    }
   ],
   "source": [
    "df.loc[df['RegistrationYear'] > 2024, 'RegistrationYear'] = df[df['RegistrationYear'] !=0] ['RegistrationYear'].median().astype(int)\n",
    "df.loc[df['RegistrationYear'] < 1900, 'RegistrationYear'] = df[df['RegistrationYear']!=0] ['RegistrationYear'].median().astype(int)\n",
    "df.groupby(\"RegistrationYear\").count().head(10)"
   ]
  },
  {
   "cell_type": "code",
   "execution_count": 48,
   "metadata": {},
   "outputs": [
    {
     "data": {
      "image/png": "[encoded data removed]",
      "text/plain": [
       "<Figure size 800x400 with 1 Axes>"
      ]
     },
     "metadata": {},
     "output_type": "display_data"
    }
   ],
   "source": [
    "plt.figure(figsize = (8,4))\n",
    "sns.boxplot(x = df['RegistrationYear'])\n",
    "plt.xlabel('RegistrationYear')\n",
    "plt.title('Boxplot de RegistrationYear corregido')\n",
    "\n",
    "plt.tight_layout()\n",
    "plt.show()"
   ]
  },
  {
   "cell_type": "markdown",
   "metadata": {},
   "source": [
    "<div class=\"alert alert-block alert-success\">\n",
    "<b>Comentario de Revisor</b> <a class=\"tocSkip\"></a>\n",
    "\n",
    "Correcto, muy bien\n",
    "\n",
    "</div>"
   ]
  },
  {
   "cell_type": "markdown",
   "metadata": {},
   "source": [
    "### Análisis de 'Power'"
   ]
  },
  {
   "cell_type": "code",
   "execution_count": 49,
   "metadata": {},
   "outputs": [
    {
     "data": {
      "text/html": [
       "<div>\n",
       "<style scoped>\n",
       "    .dataframe tbody tr th:only-of-type {\n",
       "        vertical-align: middle;\n",
       "    }\n",
       "\n",
       "    .dataframe tbody tr th {\n",
       "        vertical-align: top;\n",
       "    }\n",
       "\n",
       "    .dataframe thead th {\n",
       "        text-align: right;\n",
       "    }\n",
       "</style>\n",
       "<table border=\"1\" class=\"dataframe\">\n",
       "  <thead>\n",
       "    <tr style=\"text-align: right;\">\n",
       "      <th></th>\n",
       "      <th>Price</th>\n",
       "      <th>VehicleType</th>\n",
       "      <th>RegistrationYear</th>\n",
       "      <th>Gearbox</th>\n",
       "      <th>Mileage</th>\n",
       "      <th>FuelType</th>\n",
       "      <th>NotRepaired</th>\n",
       "    </tr>\n",
       "    <tr>\n",
       "      <th>Power</th>\n",
       "      <th></th>\n",
       "      <th></th>\n",
       "      <th></th>\n",
       "      <th></th>\n",
       "      <th></th>\n",
       "      <th></th>\n",
       "      <th></th>\n",
       "    </tr>\n",
       "  </thead>\n",
       "  <tbody>\n",
       "    <tr>\n",
       "      <th>0</th>\n",
       "      <td>28198</td>\n",
       "      <td>19605</td>\n",
       "      <td>28198</td>\n",
       "      <td>20134</td>\n",
       "      <td>28198</td>\n",
       "      <td>20703</td>\n",
       "      <td>28198</td>\n",
       "    </tr>\n",
       "    <tr>\n",
       "      <th>1</th>\n",
       "      <td>32</td>\n",
       "      <td>25</td>\n",
       "      <td>32</td>\n",
       "      <td>26</td>\n",
       "      <td>32</td>\n",
       "      <td>24</td>\n",
       "      <td>32</td>\n",
       "    </tr>\n",
       "    <tr>\n",
       "      <th>2</th>\n",
       "      <td>10</td>\n",
       "      <td>9</td>\n",
       "      <td>10</td>\n",
       "      <td>9</td>\n",
       "      <td>10</td>\n",
       "      <td>8</td>\n",
       "      <td>10</td>\n",
       "    </tr>\n",
       "    <tr>\n",
       "      <th>3</th>\n",
       "      <td>9</td>\n",
       "      <td>8</td>\n",
       "      <td>9</td>\n",
       "      <td>9</td>\n",
       "      <td>9</td>\n",
       "      <td>8</td>\n",
       "      <td>9</td>\n",
       "    </tr>\n",
       "    <tr>\n",
       "      <th>4</th>\n",
       "      <td>26</td>\n",
       "      <td>23</td>\n",
       "      <td>26</td>\n",
       "      <td>26</td>\n",
       "      <td>26</td>\n",
       "      <td>22</td>\n",
       "      <td>26</td>\n",
       "    </tr>\n",
       "    <tr>\n",
       "      <th>5</th>\n",
       "      <td>96</td>\n",
       "      <td>89</td>\n",
       "      <td>96</td>\n",
       "      <td>92</td>\n",
       "      <td>96</td>\n",
       "      <td>89</td>\n",
       "      <td>96</td>\n",
       "    </tr>\n",
       "    <tr>\n",
       "      <th>6</th>\n",
       "      <td>11</td>\n",
       "      <td>11</td>\n",
       "      <td>11</td>\n",
       "      <td>11</td>\n",
       "      <td>11</td>\n",
       "      <td>8</td>\n",
       "      <td>11</td>\n",
       "    </tr>\n",
       "    <tr>\n",
       "      <th>7</th>\n",
       "      <td>11</td>\n",
       "      <td>10</td>\n",
       "      <td>11</td>\n",
       "      <td>10</td>\n",
       "      <td>11</td>\n",
       "      <td>11</td>\n",
       "      <td>11</td>\n",
       "    </tr>\n",
       "    <tr>\n",
       "      <th>8</th>\n",
       "      <td>7</td>\n",
       "      <td>6</td>\n",
       "      <td>7</td>\n",
       "      <td>6</td>\n",
       "      <td>7</td>\n",
       "      <td>6</td>\n",
       "      <td>7</td>\n",
       "    </tr>\n",
       "    <tr>\n",
       "      <th>9</th>\n",
       "      <td>5</td>\n",
       "      <td>4</td>\n",
       "      <td>5</td>\n",
       "      <td>5</td>\n",
       "      <td>5</td>\n",
       "      <td>4</td>\n",
       "      <td>5</td>\n",
       "    </tr>\n",
       "  </tbody>\n",
       "</table>\n",
       "</div>"
      ],
      "text/plain": [
       "       Price  VehicleType  RegistrationYear  Gearbox  Mileage  FuelType  \\\n",
       "Power                                                                     \n",
       "0      28198        19605             28198    20134    28198     20703   \n",
       "1         32           25                32       26       32        24   \n",
       "2         10            9                10        9       10         8   \n",
       "3          9            8                 9        9        9         8   \n",
       "4         26           23                26       26       26        22   \n",
       "5         96           89                96       92       96        89   \n",
       "6         11           11                11       11       11         8   \n",
       "7         11           10                11       10       11        11   \n",
       "8          7            6                 7        6        7         6   \n",
       "9          5            4                 5        5        5         4   \n",
       "\n",
       "       NotRepaired  \n",
       "Power               \n",
       "0            28198  \n",
       "1               32  \n",
       "2               10  \n",
       "3                9  \n",
       "4               26  \n",
       "5               96  \n",
       "6               11  \n",
       "7               11  \n",
       "8                7  \n",
       "9                5  "
      ]
     },
     "execution_count": 49,
     "metadata": {},
     "output_type": "execute_result"
    }
   ],
   "source": [
    "df.groupby(\"Power\").count().head(10)"
   ]
  },
  {
   "cell_type": "markdown",
   "metadata": {},
   "source": [
    "<span style='color:green'> En este caso en específico se investigará a profundidad y con escala logaritmica ya que tiene muchos datos que afectarán en los cálculos del modelo más adelante. </span>"
   ]
  },
  {
   "cell_type": "code",
   "execution_count": 50,
   "metadata": {},
   "outputs": [
    {
     "data": {
      "image/png": "[encoded data removed]",
      "text/plain": [
       "<Figure size 800x400 with 1 Axes>"
      ]
     },
     "metadata": {},
     "output_type": "display_data"
    }
   ],
   "source": [
    "plt.figure(figsize = (8,4))\n",
    "\n",
    "sns.boxplot(x=df['Power'])\n",
    "plt.title('Boxplot de Power')\n",
    "plt.xlabel('Power')\n",
    "\n",
    "plt.tight_layout()\n",
    "\n",
    "plt.show()"
   ]
  },
  {
   "cell_type": "markdown",
   "metadata": {},
   "source": [
    "<span style='color:green'> Estos valores se llenarán con un pequeño modelo de regresión lineal para las entrada con valor a cero y se quitarán outliers. </span>"
   ]
  },
  {
   "cell_type": "code",
   "execution_count": 51,
   "metadata": {},
   "outputs": [],
   "source": [
    "features = df[['Price', 'RegistrationYear', 'Mileage']]\n",
    "target = df['Power']\n",
    "\n",
    "features_train, features_test, target_train, target_test = train_test_split(features, target, test_size = 0.25, random_state = 12345)\n",
    "model = LinearRegression()\n",
    "model.fit(features_train, target_train)\n",
    "\n",
    "#Predicción para los valores con entradas iguales a cero\n",
    "missing_values = df[df['Power'] == 0]\n",
    "predicted_values_power = model.predict(missing_values[['Price', 'RegistrationYear', 'Mileage']])\n",
    "\n",
    "df.loc[df['Power'] == 0, 'Power'] = np.int64(predicted_values_power)"
   ]
  },
  {
   "cell_type": "markdown",
   "metadata": {},
   "source": [
    "#### Eliminación de outliers"
   ]
  },
  {
   "cell_type": "code",
   "execution_count": 52,
   "metadata": {},
   "outputs": [],
   "source": [
    "Q1 = df['Power'].quantile(0.25)\n",
    "Q3 = df['Power'].quantile(0.75)\n",
    "IQR = Q3 - Q1\n",
    "\n",
    "bigote_inferior = Q1 - 1.5 * IQR\n",
    "bigote_superior= Q1 + 1.5 * IQR\n",
    "\n",
    "# Identificación de los límites de los datos\n",
    "df = df[df['Power'] > bigote_inferior].reset_index(drop=True)\n",
    "df = df[df['Power'] < bigote_superior].reset_index(drop=True)"
   ]
  },
  {
   "cell_type": "code",
   "execution_count": 53,
   "metadata": {},
   "outputs": [
    {
     "data": {
      "image/png": "[encoded data removed]",
      "text/plain": [
       "<Figure size 800x400 with 1 Axes>"
      ]
     },
     "metadata": {},
     "output_type": "display_data"
    }
   ],
   "source": [
    "plt.figure(figsize=(8, 4))\n",
    "\n",
    "\n",
    "sns.boxplot(x=df['Power'])\n",
    "plt.title('Boxplot de Power')\n",
    "plt.xlabel('Power sin outliers')\n",
    "\n",
    "plt.tight_layout()\n",
    "plt.show()"
   ]
  },
  {
   "cell_type": "markdown",
   "metadata": {},
   "source": [
    "<span style='color:green'> A comparación del otro boxplot se nota la diferencia con la eliminación de los outliers y ahora bien, estos datos ya no tendrían que hacer diferencias grandes a la hora de probar nuestro modelos. Se observa que ahora como cuartil 0.75 está cerca de 175 y el cuartil 0.25 cerca de cero, pero solo eso. </span>"
   ]
  },
  {
   "cell_type": "markdown",
   "metadata": {},
   "source": [
    "<div class=\"alert alert-block alert-success\">\n",
    "<b>Comentario de Revisor</b> <a class=\"tocSkip\"></a>\n",
    "\n",
    "Excelente, bien hecho\n",
    "\n",
    "</div>"
   ]
  },
  {
   "cell_type": "markdown",
   "metadata": {},
   "source": [
    "### Datos nulos"
   ]
  },
  {
   "cell_type": "code",
   "execution_count": 54,
   "metadata": {},
   "outputs": [
    {
     "name": "stdout",
     "output_type": "stream",
     "text": [
      "<class 'pandas.core.frame.DataFrame'>\n",
      "RangeIndex: 237444 entries, 0 to 237443\n",
      "Data columns (total 8 columns):\n",
      " #   Column            Non-Null Count   Dtype \n",
      "---  ------            --------------   ----- \n",
      " 0   Price             237444 non-null  int64 \n",
      " 1   VehicleType       237444 non-null  object\n",
      " 2   RegistrationYear  237444 non-null  int64 \n",
      " 3   Gearbox           237444 non-null  object\n",
      " 4   Power             237444 non-null  int64 \n",
      " 5   Mileage           237444 non-null  int64 \n",
      " 6   FuelType          237444 non-null  object\n",
      " 7   NotRepaired       237444 non-null  object\n",
      "dtypes: int64(4), object(4)\n",
      "memory usage: 14.5+ MB\n"
     ]
    }
   ],
   "source": [
    "for column in df.columns:\n",
    "    if df[column].dtype == 'object':\n",
    "        \n",
    "        df[column] = df[column].fillna(df[column].mode()[0])\n",
    "    else:\n",
    "        \n",
    "        df[column] = df[column].fillna(df[column].mean())\n",
    "\n",
    "\n",
    "#df.dropna(how='all', inplace=True)\n",
    "df.info()"
   ]
  },
  {
   "cell_type": "markdown",
   "metadata": {},
   "source": [
    "<div class=\"alert alert-block alert-warning\">\n",
    "<b>Comentario de Revisor</b> <a class=\"tocSkip\"></a>\n",
    "\n",
    "De algunas filas se eliminaron hasta 40 mil registros. No estoy seguro que sea la decisión correcta, atención a eliminar tantos nulos.\n",
    "\n",
    "</div>"
   ]
  },
  {
   "cell_type": "code",
   "execution_count": 55,
   "metadata": {},
   "outputs": [
    {
     "data": {
      "text/plain": [
       "Price               0\n",
       "VehicleType         0\n",
       "RegistrationYear    0\n",
       "Gearbox             0\n",
       "Power               0\n",
       "Mileage             0\n",
       "FuelType            0\n",
       "NotRepaired         0\n",
       "dtype: int64"
      ]
     },
     "execution_count": 55,
     "metadata": {},
     "output_type": "execute_result"
    }
   ],
   "source": [
    "df.isnull().sum()"
   ]
  },
  {
   "cell_type": "markdown",
   "metadata": {},
   "source": [
    "<span style='color:green'> La variables que aún tienen nulos las llenaré con 'NaN' ya que por ejemplo el modelo 'Catboost' no admite valores nulos  </span>"
   ]
  },
  {
   "cell_type": "code",
   "execution_count": 56,
   "metadata": {},
   "outputs": [
    {
     "data": {
      "text/plain": [
       "Price               0\n",
       "VehicleType         0\n",
       "RegistrationYear    0\n",
       "Gearbox             0\n",
       "Power               0\n",
       "Mileage             0\n",
       "FuelType            0\n",
       "NotRepaired         0\n",
       "dtype: int64"
      ]
     },
     "execution_count": 56,
     "metadata": {},
     "output_type": "execute_result"
    }
   ],
   "source": [
    "df.fillna(value='NaN', inplace=True)\n",
    "df.isnull().sum()"
   ]
  },
  {
   "cell_type": "markdown",
   "metadata": {},
   "source": [
    "## Entrenamiento del modelo "
   ]
  },
  {
   "cell_type": "markdown",
   "metadata": {},
   "source": [
    "### Codificación para: Bosque Aleatorio y Regresión Lineal"
   ]
  },
  {
   "cell_type": "code",
   "execution_count": 57,
   "metadata": {},
   "outputs": [],
   "source": [
    "df_ohe=pd.get_dummies(df,drop_first=True)"
   ]
  },
  {
   "cell_type": "code",
   "execution_count": 58,
   "metadata": {},
   "outputs": [
    {
     "data": {
      "text/plain": [
       "Index(['Price', 'VehicleType', 'RegistrationYear', 'Gearbox', 'Power',\n",
       "       'Mileage', 'FuelType', 'NotRepaired'],\n",
       "      dtype='object')"
      ]
     },
     "metadata": {},
     "output_type": "display_data"
    },
    {
     "data": {
      "text/plain": [
       "Index(['Price', 'RegistrationYear', 'Power', 'Mileage',\n",
       "       'VehicleType_convertible', 'VehicleType_coupe', 'VehicleType_other',\n",
       "       'VehicleType_sedan', 'VehicleType_small', 'VehicleType_suv',\n",
       "       'VehicleType_wagon', 'Gearbox_manual', 'FuelType_electric',\n",
       "       'FuelType_gasoline', 'FuelType_hybrid', 'FuelType_lpg',\n",
       "       'FuelType_other', 'FuelType_petrol', 'NotRepaired_1',\n",
       "       'NotRepaired_NaN'],\n",
       "      dtype='object')"
      ]
     },
     "metadata": {},
     "output_type": "display_data"
    }
   ],
   "source": [
    "display(df.columns)\n",
    "display(df_ohe.columns)\n"
   ]
  },
  {
   "cell_type": "markdown",
   "metadata": {},
   "source": [
    "<div class=\"alert alert-block alert-danger\">\n",
    "<b>Comentario de Revisor</b> <a class=\"tocSkip\"></a>\n",
    "\n",
    "Estas son demasiadas columnas, te recomiendo no considerar ni Model ni Brand para tener menos features. Cuando la dimensión de la data aumenta tanto, se vuelve difícil entrenar los algoritmos ya que el espacio crece exponencialmente. Por favor, cambia esto y prueba nuevamente los modelos.\n",
    "</div>"
   ]
  },
  {
   "cell_type": "markdown",
   "metadata": {},
   "source": [
    "<div class=\"alert alert-block alert-success\">\n",
    "<b>Comentario de Revisor v2</b> <a class=\"tocSkip\"></a>\n",
    "\n",
    "Muy bien, ahora la data ohe tiene una cantidad más razonable de columnas\n",
    "</div>"
   ]
  },
  {
   "cell_type": "markdown",
   "metadata": {},
   "source": [
    "#### DF común"
   ]
  },
  {
   "cell_type": "code",
   "execution_count": 59,
   "metadata": {},
   "outputs": [],
   "source": [
    "features = df.drop(\"Price\",axis=1)\n",
    "target = df[\"Price\"]\n",
    "\n",
    "features_train, features_valid, target_train, target_valid = train_test_split(features, target, random_state=54321, test_size =0.25) "
   ]
  },
  {
   "cell_type": "markdown",
   "metadata": {},
   "source": [
    "#### DF con OHE"
   ]
  },
  {
   "cell_type": "code",
   "execution_count": 60,
   "metadata": {},
   "outputs": [],
   "source": [
    "features = df_ohe.drop(\"Price\",axis=1)\n",
    "target = df_ohe[\"Price\"]\n",
    "\n",
    "features_train_ohe, features_valid_ohe, target_train_ohe, target_valid_ohe = train_test_split(features, target, random_state=54321, test_size =0.75) "
   ]
  },
  {
   "cell_type": "code",
   "execution_count": null,
   "metadata": {},
   "outputs": [],
   "source": []
  },
  {
   "cell_type": "markdown",
   "metadata": {},
   "source": [
    "### Escalado de características"
   ]
  },
  {
   "cell_type": "markdown",
   "metadata": {},
   "source": [
    "<span style='color:green'> Algunos modelos necesitan necesitan el escalado ya que son afectados por valores extremos lo que da más peso a las columnas por lo que se escalan los datos   </span>"
   ]
  },
  {
   "cell_type": "code",
   "execution_count": 61,
   "metadata": {},
   "outputs": [],
   "source": [
    "numerics = features_train.select_dtypes(include = ['int64', 'float64']).columns\n",
    "scaler = StandardScaler()\n",
    "scaler.fit(features_train[numerics])\n",
    "features_train[numerics] = scaler.transform(features_train[numerics])\n",
    "features_valid[numerics] = scaler.transform(features_valid[numerics])\n",
    "\n",
    "features_train_ohe = features_train_ohe.copy()\n",
    "features_valid_ohe = features_valid_ohe.copy()\n",
    "\n",
    "scaler2 = StandardScaler()\n",
    "scaler2.fit(features_train_ohe[numerics])\n",
    "features_train_ohe[numerics]=scaler2.transform(features_train_ohe[numerics])\n",
    "features_valid_ohe[numerics]=scaler2.transform(features_valid_ohe[numerics])"
   ]
  },
  {
   "cell_type": "markdown",
   "metadata": {},
   "source": [
    "###  Modelo: Decision Tree Regressor"
   ]
  },
  {
   "cell_type": "code",
   "execution_count": 62,
   "metadata": {},
   "outputs": [
    {
     "name": "stdout",
     "output_type": "stream",
     "text": [
      "RECM del mejor modelo con el conjunto de validación: 1735.3744429156752 con una profundidad maxima de 10\n",
      "CPU times: total: 766 ms\n",
      "Wall time: 952 ms\n"
     ]
    }
   ],
   "source": [
    "%%time \n",
    "start_time = time.time()\n",
    "\n",
    "best_model = None\n",
    "best_result = 10000\n",
    "best_depth = 0\n",
    "for depth in range(1, 11):\n",
    "    model = DecisionTreeRegressor(max_depth= depth, random_state=12345)\n",
    "    model.fit(features_train_ohe,target_train_ohe) \n",
    "    predictions_valid_ohe = model.predict(features_valid_ohe) \n",
    "    result = (mean_squared_error(target_valid_ohe,predictions_valid_ohe))**0.5\n",
    "    if result < best_result:\n",
    "        best_model = model\n",
    "        best_result = result\n",
    "        best_depth = depth\n",
    "    \n",
    "end_time = time.time()\n",
    "tree_time= end_time - start_time\n",
    "error_tree=best_result\n",
    "print(f\"RECM del mejor modelo con el conjunto de validación: {best_result} con una profundidad maxima de {best_depth}\")"
   ]
  },
  {
   "cell_type": "markdown",
   "metadata": {},
   "source": [
    "###  Modelo: Random Forest Regressor"
   ]
  },
  {
   "cell_type": "code",
   "execution_count": 63,
   "metadata": {},
   "outputs": [
    {
     "name": "stdout",
     "output_type": "stream",
     "text": [
      "\n",
      "RECM del mejor modelo con el conjunto de validación: 1650.0598656855864 \n",
      "Hiperparametros:\n",
      " n_estimators: 50 \n",
      " best_depth: 10\n",
      "CPU times: total: 1min 9s\n",
      "Wall time: 1min 23s\n"
     ]
    }
   ],
   "source": [
    "%%time \n",
    "start_time = time.time()\n",
    "\n",
    "best_error = 10000 \n",
    "best_est = 0\n",
    "best_depth = 0\n",
    "for est in range(10, 51, 10):\n",
    "    for depth in range (1, 11):\n",
    "        model = RandomForestRegressor(random_state=54321, n_estimators=est , max_depth=depth)\n",
    "        model.fit(features_train_ohe,target_train_ohe) \n",
    "        predictions_valid_ohe = model.predict(features_valid_ohe) \n",
    "        error = (mean_squared_error(target_valid_ohe,predictions_valid_ohe))**0.5 \n",
    "        \n",
    "        if error < best_error: \n",
    "            best_error = error\n",
    "            best_est = est\n",
    "            best_depth = depth\n",
    "error_forest=best_error\n",
    "end_time = time.time()\n",
    "forest_time= end_time - start_time\n",
    "\n",
    "print(\"\\nRECM del mejor modelo con el conjunto de validación:\", error_forest,\"\\nHiperparametros:\\n n_estimators:\", best_est, \"\\n best_depth:\", best_depth)"
   ]
  },
  {
   "cell_type": "markdown",
   "metadata": {},
   "source": [
    "###  Modelo: Regresión Lineal"
   ]
  },
  {
   "cell_type": "code",
   "execution_count": 64,
   "metadata": {},
   "outputs": [
    {
     "name": "stdout",
     "output_type": "stream",
     "text": [
      "RECM del modelo de regresión lineal con el conjunto de validación: 2382.069237523468\n",
      "CPU times: total: 62.5 ms\n",
      "Wall time: 90.2 ms\n"
     ]
    }
   ],
   "source": [
    "%%time\n",
    "start_time=time.time()\n",
    "model = LinearRegression()\n",
    "model.fit(features_train_ohe, target_train_ohe) \n",
    "predictions_valid_ohe = model.predict(features_valid_ohe) \n",
    "\n",
    "result =mean_squared_error(target_valid_ohe,predictions_valid_ohe)**0.5 \n",
    "\n",
    "\n",
    "\n",
    "print(\"RECM del modelo de regresión lineal con el conjunto de validación:\", result)\n",
    "error_regresion=result\n",
    "end_time = time.time()\n",
    "regresión_time= end_time - start_time"
   ]
  },
  {
   "cell_type": "markdown",
   "metadata": {},
   "source": [
    "<span style='color:green'> El uso de demasiadas características codificadas con OHE dificulta el rendimiento de este modelo, por lo que intentaremos utilizar únicamente las características numéricas.  </span>"
   ]
  },
  {
   "cell_type": "code",
   "execution_count": 65,
   "metadata": {},
   "outputs": [
    {
     "name": "stdout",
     "output_type": "stream",
     "text": [
      "RECM del modelo de regresión lineal con el conjunto de validación: 2585.090890660781\n",
      "CPU times: total: 15.6 ms\n",
      "Wall time: 26.9 ms\n"
     ]
    }
   ],
   "source": [
    "%%time\n",
    "\n",
    "start_time=time.time()\n",
    "model = LinearRegression()\n",
    "model.fit(features_train_ohe[numerics], target_train_ohe) \n",
    "predictions_valid_ohe = model.predict(features_valid_ohe[numerics]) \n",
    "\n",
    "result =mean_squared_error(target_valid_ohe,predictions_valid_ohe)**0.5 \n",
    "\n",
    "print(\"RECM del modelo de regresión lineal con el conjunto de validación:\", result)\n",
    "error_regresion=result\n",
    "end_time = time.time()\n",
    "regresión_time= end_time - start_time"
   ]
  },
  {
   "cell_type": "markdown",
   "metadata": {},
   "source": [
    "<span style='color:green'> Podemos apreciar un error razonable pero no es el ideal para continuar  </span>"
   ]
  },
  {
   "cell_type": "markdown",
   "metadata": {},
   "source": [
    "###  Modelo: CatBoost con Potenciación del Gradiente\n",
    "\n",
    "<span style='color:green'> En el caso de este modelo se le indicarán qué características son categóricas </span>"
   ]
  },
  {
   "cell_type": "code",
   "execution_count": 66,
   "metadata": {},
   "outputs": [
    {
     "name": "stdout",
     "output_type": "stream",
     "text": [
      "Index(['VehicleType', 'Gearbox', 'FuelType', 'NotRepaired'], dtype='object')\n",
      "Índices de las columnas categóricas: [0, 2, 5, 6]\n"
     ]
    }
   ],
   "source": [
    "categorias = features_train.select_dtypes(include=['object']).columns\n",
    "print(categorias)\n",
    "indices_categorias = [features_train.columns.get_loc(categoria) for categoria in categorias]\n",
    "print(\"Índices de las columnas categóricas:\", indices_categorias)"
   ]
  },
  {
   "cell_type": "code",
   "execution_count": 67,
   "metadata": {},
   "outputs": [
    {
     "name": "stdout",
     "output_type": "stream",
     "text": [
      "RECM del mejor modelo en el conjunto de validación: 1629.4522530475451, n_estimators: 50, best_depth: 10\n",
      "CPU times: total: 1min 50s\n",
      "Wall time: 2min 15s\n"
     ]
    }
   ],
   "source": [
    "%%time\n",
    "start_time= time.time()\n",
    "best_error = 10000\n",
    "best_est = 0\n",
    "best_depth = 0\n",
    "\n",
    "# Iterar sobre diferentes hiperparámetros\n",
    "for est in range(10, 51, 10):\n",
    "    for depth in range(1, 11):\n",
    "        model = CatBoostRegressor(iterations=est, depth=depth, random_seed=54321, \n",
    "                          learning_rate=0.1, loss_function='RMSE', task_type=\"CPU\", \n",
    "                          silent=True)\n",
    "\n",
    "\n",
    "\n",
    "\n",
    "\n",
    "        model.fit(features_train, target_train, cat_features=indices_categorias)\n",
    "        predictions_valid = model.predict(features_valid)\n",
    "        error = np.sqrt(mean_squared_error(target_valid, predictions_valid))\n",
    "        #print(f\"Validación RECM para los n_estimators de {est}, depth={depth} es {error}\")\n",
    "        if error < best_error:\n",
    "            best_error = error\n",
    "            best_est = est\n",
    "            best_depth = depth\n",
    "error_catboost=best_error\n",
    "end_time = time.time()\n",
    "catboost_time= end_time - start_time\n",
    "print(f\"RECM del mejor modelo en el conjunto de validación: {best_error}, n_estimators: {best_est}, best_depth: {best_depth}\")"
   ]
  },
  {
   "cell_type": "markdown",
   "metadata": {},
   "source": [
    "###  Modelo: LightGBM con Potenciación de Gradiente\n",
    "\n",
    "<span style='color:green'> Para este modelo se le darán las características categóricas y se entrenará un arbol a través de LightGBM</span>"
   ]
  },
  {
   "cell_type": "code",
   "execution_count": 69,
   "metadata": {},
   "outputs": [
    {
     "data": {
      "text/html": [
       "<div>\n",
       "<style scoped>\n",
       "    .dataframe tbody tr th:only-of-type {\n",
       "        vertical-align: middle;\n",
       "    }\n",
       "\n",
       "    .dataframe tbody tr th {\n",
       "        vertical-align: top;\n",
       "    }\n",
       "\n",
       "    .dataframe thead th {\n",
       "        text-align: right;\n",
       "    }\n",
       "</style>\n",
       "<table border=\"1\" class=\"dataframe\">\n",
       "  <thead>\n",
       "    <tr style=\"text-align: right;\">\n",
       "      <th></th>\n",
       "      <th>Price</th>\n",
       "      <th>VehicleType</th>\n",
       "      <th>RegistrationYear</th>\n",
       "      <th>Gearbox</th>\n",
       "      <th>Power</th>\n",
       "      <th>Mileage</th>\n",
       "      <th>FuelType</th>\n",
       "      <th>NotRepaired</th>\n",
       "    </tr>\n",
       "  </thead>\n",
       "  <tbody>\n",
       "    <tr>\n",
       "      <th>0</th>\n",
       "      <td>480</td>\n",
       "      <td>4</td>\n",
       "      <td>1993</td>\n",
       "      <td>1</td>\n",
       "      <td>95</td>\n",
       "      <td>150000</td>\n",
       "      <td>6</td>\n",
       "      <td>2</td>\n",
       "    </tr>\n",
       "    <tr>\n",
       "      <th>1</th>\n",
       "      <td>9800</td>\n",
       "      <td>6</td>\n",
       "      <td>2004</td>\n",
       "      <td>0</td>\n",
       "      <td>163</td>\n",
       "      <td>125000</td>\n",
       "      <td>2</td>\n",
       "      <td>2</td>\n",
       "    </tr>\n",
       "    <tr>\n",
       "      <th>2</th>\n",
       "      <td>1500</td>\n",
       "      <td>5</td>\n",
       "      <td>2001</td>\n",
       "      <td>1</td>\n",
       "      <td>75</td>\n",
       "      <td>150000</td>\n",
       "      <td>6</td>\n",
       "      <td>0</td>\n",
       "    </tr>\n",
       "    <tr>\n",
       "      <th>3</th>\n",
       "      <td>3600</td>\n",
       "      <td>5</td>\n",
       "      <td>2008</td>\n",
       "      <td>1</td>\n",
       "      <td>69</td>\n",
       "      <td>90000</td>\n",
       "      <td>2</td>\n",
       "      <td>0</td>\n",
       "    </tr>\n",
       "    <tr>\n",
       "      <th>4</th>\n",
       "      <td>650</td>\n",
       "      <td>4</td>\n",
       "      <td>1995</td>\n",
       "      <td>1</td>\n",
       "      <td>102</td>\n",
       "      <td>150000</td>\n",
       "      <td>6</td>\n",
       "      <td>1</td>\n",
       "    </tr>\n",
       "    <tr>\n",
       "      <th>...</th>\n",
       "      <td>...</td>\n",
       "      <td>...</td>\n",
       "      <td>...</td>\n",
       "      <td>...</td>\n",
       "      <td>...</td>\n",
       "      <td>...</td>\n",
       "      <td>...</td>\n",
       "      <td>...</td>\n",
       "    </tr>\n",
       "    <tr>\n",
       "      <th>237439</th>\n",
       "      <td>5250</td>\n",
       "      <td>4</td>\n",
       "      <td>2016</td>\n",
       "      <td>0</td>\n",
       "      <td>150</td>\n",
       "      <td>150000</td>\n",
       "      <td>6</td>\n",
       "      <td>0</td>\n",
       "    </tr>\n",
       "    <tr>\n",
       "      <th>237440</th>\n",
       "      <td>2200</td>\n",
       "      <td>4</td>\n",
       "      <td>2005</td>\n",
       "      <td>1</td>\n",
       "      <td>46</td>\n",
       "      <td>20000</td>\n",
       "      <td>6</td>\n",
       "      <td>2</td>\n",
       "    </tr>\n",
       "    <tr>\n",
       "      <th>237441</th>\n",
       "      <td>1199</td>\n",
       "      <td>1</td>\n",
       "      <td>2000</td>\n",
       "      <td>0</td>\n",
       "      <td>101</td>\n",
       "      <td>125000</td>\n",
       "      <td>6</td>\n",
       "      <td>0</td>\n",
       "    </tr>\n",
       "    <tr>\n",
       "      <th>237442</th>\n",
       "      <td>9200</td>\n",
       "      <td>0</td>\n",
       "      <td>1996</td>\n",
       "      <td>1</td>\n",
       "      <td>102</td>\n",
       "      <td>150000</td>\n",
       "      <td>2</td>\n",
       "      <td>0</td>\n",
       "    </tr>\n",
       "    <tr>\n",
       "      <th>237443</th>\n",
       "      <td>3400</td>\n",
       "      <td>7</td>\n",
       "      <td>2002</td>\n",
       "      <td>1</td>\n",
       "      <td>100</td>\n",
       "      <td>150000</td>\n",
       "      <td>2</td>\n",
       "      <td>2</td>\n",
       "    </tr>\n",
       "  </tbody>\n",
       "</table>\n",
       "<p>237444 rows × 8 columns</p>\n",
       "</div>"
      ],
      "text/plain": [
       "        Price  VehicleType  RegistrationYear  Gearbox  Power  Mileage  \\\n",
       "0         480            4              1993        1     95   150000   \n",
       "1        9800            6              2004        0    163   125000   \n",
       "2        1500            5              2001        1     75   150000   \n",
       "3        3600            5              2008        1     69    90000   \n",
       "4         650            4              1995        1    102   150000   \n",
       "...       ...          ...               ...      ...    ...      ...   \n",
       "237439   5250            4              2016        0    150   150000   \n",
       "237440   2200            4              2005        1     46    20000   \n",
       "237441   1199            1              2000        0    101   125000   \n",
       "237442   9200            0              1996        1    102   150000   \n",
       "237443   3400            7              2002        1    100   150000   \n",
       "\n",
       "        FuelType  NotRepaired  \n",
       "0              6            2  \n",
       "1              2            2  \n",
       "2              6            0  \n",
       "3              2            0  \n",
       "4              6            1  \n",
       "...          ...          ...  \n",
       "237439         6            0  \n",
       "237440         6            2  \n",
       "237441         6            0  \n",
       "237442         2            0  \n",
       "237443         2            2  \n",
       "\n",
       "[237444 rows x 8 columns]"
      ]
     },
     "metadata": {},
     "output_type": "display_data"
    },
    {
     "name": "stdout",
     "output_type": "stream",
     "text": [
      "<class 'pandas.core.frame.DataFrame'>\n",
      "RangeIndex: 237444 entries, 0 to 237443\n",
      "Data columns (total 8 columns):\n",
      " #   Column            Non-Null Count   Dtype\n",
      "---  ------            --------------   -----\n",
      " 0   Price             237444 non-null  int64\n",
      " 1   VehicleType       237444 non-null  int8 \n",
      " 2   RegistrationYear  237444 non-null  int64\n",
      " 3   Gearbox           237444 non-null  int8 \n",
      " 4   Power             237444 non-null  int64\n",
      " 5   Mileage           237444 non-null  int64\n",
      " 6   FuelType          237444 non-null  int8 \n",
      " 7   NotRepaired       237444 non-null  int8 \n",
      "dtypes: int64(4), int8(4)\n",
      "memory usage: 8.2 MB\n"
     ]
    }
   ],
   "source": [
    "categorical_features = ['VehicleType', 'Gearbox', 'FuelType', 'NotRepaired']\n",
    "\n",
    "for col in categorical_features:\n",
    "    df[col] = df[col].astype('category').cat.codes\n",
    "display(df)\n",
    "df.info()"
   ]
  },
  {
   "cell_type": "code",
   "execution_count": 70,
   "metadata": {},
   "outputs": [],
   "source": [
    "features = df.drop(\"Price\",axis=1)\n",
    "target = df[\"Price\"]\n",
    "\n",
    "features_train, features_valid, target_train, target_valid = train_test_split(features, target, random_state=54321, test_size =0.25) \n"
   ]
  },
  {
   "cell_type": "markdown",
   "metadata": {},
   "source": [
    "<span style='color:green'> Por el paso anterior se va a dividir el DF preprocesado con el objetivo y características, y los conjuntos de validación y entrenamiento </span>"
   ]
  },
  {
   "cell_type": "code",
   "execution_count": 71,
   "metadata": {},
   "outputs": [],
   "source": [
    "train_data = lgb.Dataset(features_train, label=target_train, categorical_feature=indices_categorias, free_raw_data=False)\n",
    "valid_data = lgb.Dataset(features_valid, label=target_valid, reference=train_data, free_raw_data=False)"
   ]
  },
  {
   "cell_type": "markdown",
   "metadata": {},
   "source": [
    "<span style='color:green'> Se usa 'categorical_feature' para indicarle a este modelo explícitamente cuales son las columnas categóricas y en este caso no se liberan los DF's con 'free_raw_data=False' </span>\n"
   ]
  },
  {
   "cell_type": "code",
   "execution_count": 72,
   "metadata": {},
   "outputs": [
    {
     "name": "stdout",
     "output_type": "stream",
     "text": [
      "RECM del mejor modelo en el conjunto de validación: 1510.2666624472313, n_estimators: 50, best_depth: 10\n",
      "CPU times: total: 3min 38s\n",
      "Wall time: 31.9 s\n"
     ]
    }
   ],
   "source": [
    "%%time\n",
    "start_time = time.time()\n",
    "\n",
    "best_error = 10000\n",
    "best_est = 0\n",
    "best_depth = 0\n",
    "\n",
    "\n",
    "for est in range(10, 51, 10):  \n",
    "    for depth in range(1, 11):  \n",
    "        num_leaves = max(2, 2**depth - 1)  \n",
    "\n",
    "        # Parámetros \n",
    "        params = {\n",
    "            'objective': 'regression',  # Tipo de modelo (regresión)\n",
    "            'metric': 'rmse',           # Métrica a usar (RMSE)\n",
    "            'boosting_type': 'gbdt',    # Tipo de boosting: Gradient Boosting Decision Tree\n",
    "            'num_leaves': num_leaves,   # Número de nodos finales del árbol\n",
    "            'learning_rate': 0.1,       # Tasa de aprendizaje\n",
    "            'device': 'cpu',            # Usar la CPU \n",
    "            'verbose': -1,              # Desactivar la salida de cada iteración\n",
    "            'early_stopping_rounds': 10  # Para evitar el sobreajuste (detener si no mejora después de 10 rondas)\n",
    "        }\n",
    "\n",
    "       \n",
    "        model = lgb.train(params, train_data, valid_sets=[valid_data], num_boost_round=est)\n",
    "        predictions_valid = model.predict(features_valid)\n",
    "        error = np.sqrt(mean_squared_error(target_valid, predictions_valid))\n",
    "\n",
    "       \n",
    "        if error < best_error:\n",
    "            best_error = error\n",
    "            best_est = est\n",
    "            best_depth = depth\n",
    "\n",
    "\n",
    "error_lightGBM = best_error\n",
    "end_time = time.time()  \n",
    "lightGBM_time = end_time - start_time  \n",
    "\n",
    "\n",
    "print(f\"RECM del mejor modelo en el conjunto de validación: {best_error}, n_estimators: {best_est}, best_depth: {best_depth}\")\n"
   ]
  },
  {
   "cell_type": "markdown",
   "metadata": {},
   "source": [
    "### Modelo: XGBoost con Potenciación de Gradiente"
   ]
  },
  {
   "cell_type": "markdown",
   "metadata": {},
   "source": [
    "<span style='color:green'> Para este modelo también se requiere que las columnas categóricas sean modificadas ocn OHE </span>"
   ]
  },
  {
   "cell_type": "code",
   "execution_count": 73,
   "metadata": {},
   "outputs": [],
   "source": [
    "train_data = xgb.DMatrix(features_train_ohe, label=target_train_ohe)\n",
    "valid_data = xgb.DMatrix(features_valid_ohe, label=target_valid_ohe)"
   ]
  },
  {
   "cell_type": "code",
   "execution_count": 74,
   "metadata": {},
   "outputs": [
    {
     "name": "stdout",
     "output_type": "stream",
     "text": [
      "Nuevo mejor modelo - Depth: 3, Estimators: 10, RMSE: 2299.310657566741\n",
      "Nuevo mejor modelo - Depth: 4, Estimators: 10, RMSE: 2174.7304430664503\n",
      "Nuevo mejor modelo - Depth: 5, Estimators: 10, RMSE: 2097.094656900351\n",
      "Nuevo mejor modelo - Depth: 6, Estimators: 10, RMSE: 2046.745709657162\n",
      "Nuevo mejor modelo - Depth: 7, Estimators: 10, RMSE: 2009.2554591191235\n",
      "Nuevo mejor modelo - Depth: 8, Estimators: 10, RMSE: 1980.4681895955814\n",
      "Nuevo mejor modelo - Depth: 9, Estimators: 10, RMSE: 1955.4196480551177\n",
      "Nuevo mejor modelo - Depth: 10, Estimators: 10, RMSE: 1939.9037347249991\n",
      "Nuevo mejor modelo - Depth: 4, Estimators: 20, RMSE: 1847.9121326513336\n",
      "Nuevo mejor modelo - Depth: 5, Estimators: 20, RMSE: 1780.3637268827963\n",
      "Nuevo mejor modelo - Depth: 6, Estimators: 20, RMSE: 1737.809037265027\n",
      "Nuevo mejor modelo - Depth: 7, Estimators: 20, RMSE: 1705.0950853251557\n",
      "Nuevo mejor modelo - Depth: 8, Estimators: 20, RMSE: 1679.9125721298713\n",
      "Nuevo mejor modelo - Depth: 9, Estimators: 20, RMSE: 1657.984695345527\n",
      "Nuevo mejor modelo - Depth: 10, Estimators: 20, RMSE: 1640.9825562753554\n",
      "Nuevo mejor modelo - Depth: 7, Estimators: 30, RMSE: 1631.9227156945883\n",
      "Nuevo mejor modelo - Depth: 8, Estimators: 30, RMSE: 1609.7780126464643\n",
      "Nuevo mejor modelo - Depth: 9, Estimators: 30, RMSE: 1595.465997757395\n",
      "Nuevo mejor modelo - Depth: 10, Estimators: 30, RMSE: 1586.141938793625\n",
      "Nuevo mejor modelo - Depth: 9, Estimators: 40, RMSE: 1576.1950228318829\n",
      "Nuevo mejor modelo - Depth: 10, Estimators: 40, RMSE: 1571.9992843509822\n",
      "Nuevo mejor modelo - Depth: 9, Estimators: 50, RMSE: 1569.6806203811016\n",
      "Nuevo mejor modelo - Depth: 10, Estimators: 50, RMSE: 1566.012531878337\n",
      "Nuevo mejor modelo - Depth: 9, Estimators: 60, RMSE: 1565.9339066512355\n",
      "Nuevo mejor modelo - Depth: 10, Estimators: 60, RMSE: 1564.5202139953321\n",
      "Nuevo mejor modelo - Depth: 9, Estimators: 70, RMSE: 1562.657912020414\n",
      "Nuevo mejor modelo - Depth: 9, Estimators: 80, RMSE: 1560.8482469477935\n",
      "Nuevo mejor modelo - Depth: 9, Estimators: 90, RMSE: 1560.5938773428531\n",
      "Nuevo mejor modelo - Depth: 9, Estimators: 100, RMSE: 1559.8056769995421\n",
      "\n",
      "Mejor modelo encontrado:\n",
      "RMSE: 1559.8056769995421, Estimators: 100, Max Depth: 9\n"
     ]
    }
   ],
   "source": [
    "\n",
    "\n",
    "best_error = float(\"inf\")\n",
    "best_est = 0\n",
    "best_depth = 0\n",
    "\n",
    "# Parámetros\n",
    "for est in range(10, 101, 10):  \n",
    "    for depth in range(3, 11):  \n",
    "        params = {\n",
    "            'objective': 'reg:squarederror',\n",
    "            'eval_metric': 'rmse',\n",
    "            'max_depth': depth,\n",
    "            'eta': 0.1,\n",
    "            'tree_method': 'hist'  \n",
    "        }\n",
    "        \n",
    "        \n",
    "        model = xgb.train(params, train_data, num_boost_round=est)\n",
    "        predictions_valid = model.predict(valid_data)\n",
    "        error = np.sqrt(mean_squared_error(target_valid_ohe, predictions_valid))\n",
    "        \n",
    "        \n",
    "        if error < best_error:\n",
    "            best_error = error\n",
    "            best_est = est\n",
    "            best_depth = depth\n",
    "            print(f\"Nuevo mejor modelo - Depth: {depth}, Estimators: {est}, RMSE: {error}\")\n",
    "\n",
    "\n",
    "error_XGBoost=best_error\n",
    "end_time = time.time()\n",
    "XGBoost_time= end_time - start_time\n",
    "\n",
    "print(f\"\\nMejor modelo encontrado:\")\n",
    "print(f\"RMSE: {best_error}, Estimators: {best_est}, Max Depth: {best_depth}\")\n",
    "\n",
    "        \n"
   ]
  },
  {
   "cell_type": "markdown",
   "metadata": {},
   "source": [
    "### Tabla con info de todos los modelos"
   ]
  },
  {
   "cell_type": "code",
   "execution_count": 75,
   "metadata": {},
   "outputs": [
    {
     "data": {
      "text/html": [
       "<div>\n",
       "<style scoped>\n",
       "    .dataframe tbody tr th:only-of-type {\n",
       "        vertical-align: middle;\n",
       "    }\n",
       "\n",
       "    .dataframe tbody tr th {\n",
       "        vertical-align: top;\n",
       "    }\n",
       "\n",
       "    .dataframe thead th {\n",
       "        text-align: right;\n",
       "    }\n",
       "</style>\n",
       "<table border=\"1\" class=\"dataframe\">\n",
       "  <thead>\n",
       "    <tr style=\"text-align: right;\">\n",
       "      <th></th>\n",
       "      <th>Modelo</th>\n",
       "      <th>Error</th>\n",
       "      <th>Tiempo de entrenamiento</th>\n",
       "    </tr>\n",
       "  </thead>\n",
       "  <tbody>\n",
       "    <tr>\n",
       "      <th>0</th>\n",
       "      <td>Bosque_de_decisión</td>\n",
       "      <td>1650.059866</td>\n",
       "      <td>83.817808</td>\n",
       "    </tr>\n",
       "    <tr>\n",
       "      <th>1</th>\n",
       "      <td>Arbol_de_decisión</td>\n",
       "      <td>1735.374443</td>\n",
       "      <td>0.952202</td>\n",
       "    </tr>\n",
       "    <tr>\n",
       "      <th>2</th>\n",
       "      <td>regresion_lineal</td>\n",
       "      <td>2585.090891</td>\n",
       "      <td>0.026907</td>\n",
       "    </tr>\n",
       "    <tr>\n",
       "      <th>3</th>\n",
       "      <td>catboost</td>\n",
       "      <td>1629.452253</td>\n",
       "      <td>135.001137</td>\n",
       "    </tr>\n",
       "    <tr>\n",
       "      <th>4</th>\n",
       "      <td>lightGBM</td>\n",
       "      <td>1510.266662</td>\n",
       "      <td>31.930981</td>\n",
       "    </tr>\n",
       "    <tr>\n",
       "      <th>5</th>\n",
       "      <td>XGBoost</td>\n",
       "      <td>1559.805677</td>\n",
       "      <td>343.482279</td>\n",
       "    </tr>\n",
       "  </tbody>\n",
       "</table>\n",
       "</div>"
      ],
      "text/plain": [
       "               Modelo        Error  Tiempo de entrenamiento\n",
       "0  Bosque_de_decisión  1650.059866                83.817808\n",
       "1   Arbol_de_decisión  1735.374443                 0.952202\n",
       "2    regresion_lineal  2585.090891                 0.026907\n",
       "3            catboost  1629.452253               135.001137\n",
       "4            lightGBM  1510.266662                31.930981\n",
       "5             XGBoost  1559.805677               343.482279"
      ]
     },
     "execution_count": 75,
     "metadata": {},
     "output_type": "execute_result"
    }
   ],
   "source": [
    "df_modelos = pd.DataFrame({\n",
    "    'Modelo': ['Bosque_de_decisión','Arbol_de_decisión', 'regresion_lineal',\"catboost\",\"lightGBM\",\"XGBoost\"],\n",
    "    'Error': [error_forest,error_tree, error_regresion, error_catboost, error_lightGBM, error_XGBoost],\n",
    "    'Tiempo de entrenamiento': [forest_time,tree_time,regresión_time, catboost_time, lightGBM_time,XGBoost_time ]\n",
    "})\n",
    "df_modelos"
   ]
  },
  {
   "cell_type": "markdown",
   "metadata": {},
   "source": [
    "<div class=\"alert alert-block alert-success\">\n",
    "<b>Comentario de Revisor v2</b> <a class=\"tocSkip\"></a>\n",
    "\n",
    "Buen trabajo, la tabla resumen permite comparar los modelos. En este caso vemos como podemos hacer un tradeoff entre rapidez y precisión.\n",
    "</div>"
   ]
  },
  {
   "cell_type": "markdown",
   "metadata": {},
   "source": [
    "## Conclusiones"
   ]
  },
  {
   "cell_type": "markdown",
   "metadata": {},
   "source": [
    "<span style='color:green'> Dado que la empresa como principal objetivo necesita mejorar la calidad de la predicción sin perder la velocidad. El modelo LightGBM podría ser el elegido para realizar los cálculos. El bajo indica que es un modelo con menor error y asegura que las predicciones serán lo más cercanas a la realidad. El tiempo de entrenamiento a comparación de los demás ofrece una rápida actualización de ser necesaria. Entonces, como este modelo es capaz de entregar predicciones de calidad y tiene el mejor tiempo de entrenamiento (el que tiene mejor balance) es el elegido para Rusty Bargain. </span>"
   ]
  },
  {
   "cell_type": "markdown",
   "metadata": {},
   "source": [
    "<div class=\"alert alert-block alert-info\">\n",
    "<b> Vale pues he removido Model y Brand para que no hiciera tanto ruido a la hora de entrenar a los modelos y los tiempos de entrenamiento disminuyeron significativamente en pro del estudio y los errores disminuyeron en la mayoría de los casos lo que indica que se tiene un mejor ajuste de los datos en los modelos. Los valores asignados como la moda y mediana para el manejo de nulos nos dio menos ruido y por eso se tuvo una mejor optimización en general.\n",
    "\n",
    "Me quedaría para el manejo de los datos con LightGBM ya que tiene el error más bajo 1510.27 lo que lo hace más preciso y confiable. Y su tiempo de entrenamiento es razonablemente rápido a comparación de cuando tenía las demás características. Y también porque es un modelo que está diseñado para manejar mucho datos con muchas características y valores nulos.   </b> <a class=\"tocSkip\"></a>\n",
    "</div>"
   ]
  },
  {
   "cell_type": "markdown",
   "metadata": {},
   "source": [
    "# Lista de control"
   ]
  },
  {
   "cell_type": "markdown",
   "metadata": {},
   "source": [
    "Escribe 'x' para verificar. Luego presiona Shift+Enter"
   ]
  },
  {
   "cell_type": "markdown",
   "metadata": {},
   "source": [
    "- [x]  Jupyter Notebook está abierto\n",
    "- [x]  El código no tiene errores- [x]  Las celdas con el código han sido colocadas en orden de ejecución- [x]  Los datos han sido descargados y preparados- [x]  Los modelos han sido entrenados\n",
    "- [x]  Se realizó el análisis de velocidad y calidad de los modelos"
   ]
  },
  {
   "cell_type": "code",
   "execution_count": null,
   "metadata": {},
   "outputs": [],
   "source": []
  }
 ],
 "metadata": {
  "ExecuteTimeLog": [
   {
    "duration": 162,
    "start_time": "2025-01-24T05:37:59.360Z"
   },
   {
    "duration": 303,
    "start_time": "2025-01-24T05:38:12.128Z"
   },
   {
    "duration": 484,
    "start_time": "2025-01-24T05:38:13.136Z"
   },
   {
    "duration": 14,
    "start_time": "2025-01-24T05:38:29.080Z"
   },
   {
    "duration": 6,
    "start_time": "2025-01-24T05:38:31.569Z"
   },
   {
    "duration": 95,
    "start_time": "2025-01-24T05:38:33.771Z"
   },
   {
    "duration": 60,
    "start_time": "2025-01-24T05:39:25.333Z"
   },
   {
    "duration": 13,
    "start_time": "2025-01-24T05:39:43.291Z"
   },
   {
    "duration": 57,
    "start_time": "2025-01-24T05:40:06.585Z"
   },
   {
    "duration": 282,
    "start_time": "2025-01-24T22:49:59.901Z"
   },
   {
    "duration": 454,
    "start_time": "2025-01-24T22:50:00.185Z"
   },
   {
    "duration": 100,
    "start_time": "2025-01-24T22:50:00.641Z"
   },
   {
    "duration": 67,
    "start_time": "2025-01-24T22:50:00.743Z"
   },
   {
    "duration": 58,
    "start_time": "2025-01-24T23:18:00.365Z"
   },
   {
    "duration": 18,
    "start_time": "2025-01-24T23:20:31.297Z"
   },
   {
    "duration": 664,
    "start_time": "2025-01-24T23:26:23.590Z"
   },
   {
    "duration": 359,
    "start_time": "2025-01-24T23:26:35.746Z"
   },
   {
    "duration": 2142,
    "start_time": "2025-01-24T23:29:49.428Z"
   },
   {
    "duration": 449,
    "start_time": "2025-01-24T23:30:15.740Z"
   },
   {
    "duration": 12,
    "start_time": "2025-01-25T00:01:54.111Z"
   },
   {
    "duration": 12,
    "start_time": "2025-01-25T00:02:08.258Z"
   },
   {
    "duration": 652,
    "start_time": "2025-01-25T00:02:35.136Z"
   },
   {
    "duration": 59,
    "start_time": "2025-01-25T00:02:54.222Z"
   },
   {
    "duration": 1550,
    "start_time": "2025-01-25T00:03:28.470Z"
   },
   {
    "duration": 6,
    "start_time": "2025-01-25T00:24:48.837Z"
   },
   {
    "duration": 6,
    "start_time": "2025-01-25T00:24:59.622Z"
   },
   {
    "duration": 2789,
    "start_time": "2025-01-25T03:57:43.479Z"
   },
   {
    "duration": 442,
    "start_time": "2025-01-25T03:57:46.270Z"
   },
   {
    "duration": 98,
    "start_time": "2025-01-25T03:57:46.714Z"
   },
   {
    "duration": 364,
    "start_time": "2025-01-25T03:57:46.813Z"
   },
   {
    "duration": 17,
    "start_time": "2025-01-25T03:57:47.179Z"
   },
   {
    "duration": 463,
    "start_time": "2025-01-25T03:57:47.197Z"
   },
   {
    "duration": 1475,
    "start_time": "2025-01-25T03:57:47.662Z"
   },
   {
    "duration": 90,
    "start_time": "2025-01-25T04:30:35.770Z"
   },
   {
    "duration": 227,
    "start_time": "2025-01-25T04:33:28.914Z"
   },
   {
    "duration": 5,
    "start_time": "2025-01-25T04:35:38.794Z"
   },
   {
    "duration": 15,
    "start_time": "2025-01-25T04:35:51.674Z"
   },
   {
    "duration": 15,
    "start_time": "2025-01-25T04:36:49.569Z"
   },
   {
    "duration": 686,
    "start_time": "2025-01-25T04:39:26.298Z"
   },
   {
    "duration": 161,
    "start_time": "2025-01-25T04:39:38.462Z"
   },
   {
    "duration": 60,
    "start_time": "2025-01-25T04:39:46.285Z"
   },
   {
    "duration": 54,
    "start_time": "2025-01-25T05:24:08.979Z"
   },
   {
    "duration": 50,
    "start_time": "2025-01-25T05:24:35.712Z"
   },
   {
    "duration": 13,
    "start_time": "2025-01-25T06:05:19.332Z"
   },
   {
    "duration": 13,
    "start_time": "2025-01-25T06:06:01.469Z"
   },
   {
    "duration": 15,
    "start_time": "2025-01-25T06:06:53.076Z"
   },
   {
    "duration": 14,
    "start_time": "2025-01-25T06:07:07.000Z"
   },
   {
    "duration": 73,
    "start_time": "2025-01-25T06:13:03.845Z"
   },
   {
    "duration": 67,
    "start_time": "2025-01-25T06:13:46.921Z"
   },
   {
    "duration": 69,
    "start_time": "2025-01-25T06:20:21.067Z"
   },
   {
    "duration": 72,
    "start_time": "2025-01-25T06:20:29.859Z"
   },
   {
    "duration": 65,
    "start_time": "2025-01-25T06:20:42.503Z"
   },
   {
    "duration": 120,
    "start_time": "2025-01-25T06:22:10.168Z"
   },
   {
    "duration": 13,
    "start_time": "2025-01-25T06:22:40.956Z"
   },
   {
    "duration": 130,
    "start_time": "2025-01-25T06:23:21.087Z"
   },
   {
    "duration": 126,
    "start_time": "2025-01-25T06:23:30.133Z"
   },
   {
    "duration": 98,
    "start_time": "2025-01-25T06:30:26.563Z"
   },
   {
    "duration": 119,
    "start_time": "2025-01-25T06:30:37.261Z"
   },
   {
    "duration": 70,
    "start_time": "2025-01-25T06:34:37.517Z"
   },
   {
    "duration": 2868,
    "start_time": "2025-01-25T23:00:04.397Z"
   },
   {
    "duration": 456,
    "start_time": "2025-01-25T23:00:07.270Z"
   },
   {
    "duration": 98,
    "start_time": "2025-01-25T23:00:07.728Z"
   },
   {
    "duration": 368,
    "start_time": "2025-01-25T23:00:07.829Z"
   },
   {
    "duration": 20,
    "start_time": "2025-01-25T23:00:08.199Z"
   },
   {
    "duration": 488,
    "start_time": "2025-01-25T23:00:08.220Z"
   },
   {
    "duration": 1494,
    "start_time": "2025-01-25T23:00:08.709Z"
   },
   {
    "duration": 162,
    "start_time": "2025-01-25T23:00:10.205Z"
   },
   {
    "duration": 56,
    "start_time": "2025-01-25T23:00:10.370Z"
   },
   {
    "duration": 70,
    "start_time": "2025-01-25T23:00:10.430Z"
   },
   {
    "duration": 13,
    "start_time": "2025-01-25T23:00:10.501Z"
   },
   {
    "duration": 80,
    "start_time": "2025-01-25T23:00:10.516Z"
   },
   {
    "duration": 138,
    "start_time": "2025-01-25T23:00:10.598Z"
   },
   {
    "duration": 106,
    "start_time": "2025-01-25T23:00:10.739Z"
   },
   {
    "duration": 202,
    "start_time": "2025-01-25T23:00:10.848Z"
   },
   {
    "duration": 74,
    "start_time": "2025-01-25T23:00:11.052Z"
   },
   {
    "duration": 67,
    "start_time": "2025-01-25T23:02:51.376Z"
   },
   {
    "duration": 62,
    "start_time": "2025-01-25T23:02:57.470Z"
   },
   {
    "duration": 94,
    "start_time": "2025-01-25T23:03:26.131Z"
   },
   {
    "duration": 68,
    "start_time": "2025-01-25T23:26:00.670Z"
   },
   {
    "duration": 64,
    "start_time": "2025-01-25T23:26:28.935Z"
   },
   {
    "duration": 108,
    "start_time": "2025-01-25T23:28:24.487Z"
   },
   {
    "duration": 90,
    "start_time": "2025-01-25T23:29:00.808Z"
   },
   {
    "duration": 90,
    "start_time": "2025-01-25T23:33:10.816Z"
   },
   {
    "duration": 199,
    "start_time": "2025-01-25T23:33:22.102Z"
   },
   {
    "duration": 76,
    "start_time": "2025-01-25T23:34:16.506Z"
   },
   {
    "duration": 273,
    "start_time": "2025-01-25T23:41:08.044Z"
   },
   {
    "duration": 42,
    "start_time": "2025-01-25T23:41:15.939Z"
   },
   {
    "duration": 53,
    "start_time": "2025-01-25T23:41:34.750Z"
   },
   {
    "duration": 59,
    "start_time": "2025-01-25T23:41:48.375Z"
   },
   {
    "duration": 41,
    "start_time": "2025-01-25T23:41:57.233Z"
   },
   {
    "duration": 101,
    "start_time": "2025-01-25T23:42:12.877Z"
   },
   {
    "duration": 55,
    "start_time": "2025-01-25T23:42:25.570Z"
   },
   {
    "duration": 160,
    "start_time": "2025-01-25T23:43:36.947Z"
   },
   {
    "duration": 101,
    "start_time": "2025-01-25T23:46:47.897Z"
   },
   {
    "duration": 101,
    "start_time": "2025-01-25T23:46:54.857Z"
   },
   {
    "duration": 1027,
    "start_time": "2025-01-25T23:47:02.759Z"
   },
   {
    "duration": 424,
    "start_time": "2025-01-25T23:47:03.788Z"
   },
   {
    "duration": 96,
    "start_time": "2025-01-25T23:47:04.214Z"
   },
   {
    "duration": 365,
    "start_time": "2025-01-25T23:47:04.314Z"
   },
   {
    "duration": 18,
    "start_time": "2025-01-25T23:47:04.682Z"
   },
   {
    "duration": 480,
    "start_time": "2025-01-25T23:47:04.702Z"
   },
   {
    "duration": 1543,
    "start_time": "2025-01-25T23:47:05.184Z"
   },
   {
    "duration": 182,
    "start_time": "2025-01-25T23:47:06.729Z"
   },
   {
    "duration": 63,
    "start_time": "2025-01-25T23:47:06.913Z"
   },
   {
    "duration": 51,
    "start_time": "2025-01-25T23:47:06.978Z"
   },
   {
    "duration": 12,
    "start_time": "2025-01-25T23:47:07.031Z"
   },
   {
    "duration": 85,
    "start_time": "2025-01-25T23:47:07.045Z"
   },
   {
    "duration": 156,
    "start_time": "2025-01-25T23:47:07.132Z"
   },
   {
    "duration": 114,
    "start_time": "2025-01-25T23:47:07.292Z"
   },
   {
    "duration": 116,
    "start_time": "2025-01-25T23:47:07.408Z"
   },
   {
    "duration": 73,
    "start_time": "2025-01-25T23:47:07.526Z"
   },
   {
    "duration": 69,
    "start_time": "2025-01-25T23:47:07.601Z"
   },
   {
    "duration": 214,
    "start_time": "2025-01-25T23:47:07.672Z"
   },
   {
    "duration": 109,
    "start_time": "2025-01-25T23:47:07.889Z"
   },
   {
    "duration": 199,
    "start_time": "2025-01-25T23:47:08.000Z"
   },
   {
    "duration": 66,
    "start_time": "2025-01-26T00:43:41.392Z"
   },
   {
    "duration": 563,
    "start_time": "2025-01-26T00:47:19.792Z"
   },
   {
    "duration": 179,
    "start_time": "2025-01-26T00:47:40.943Z"
   },
   {
    "duration": 53,
    "start_time": "2025-01-26T03:46:46.406Z"
   },
   {
    "duration": 24,
    "start_time": "2025-01-26T04:08:53.128Z"
   },
   {
    "duration": 43,
    "start_time": "2025-01-26T04:09:14.321Z"
   },
   {
    "duration": 54,
    "start_time": "2025-01-26T04:26:51.622Z"
   },
   {
    "duration": 215,
    "start_time": "2025-01-26T04:27:14.275Z"
   },
   {
    "duration": 215,
    "start_time": "2025-01-26T04:27:29.975Z"
   },
   {
    "duration": 132,
    "start_time": "2025-01-26T04:31:58.340Z"
   },
   {
    "duration": 87,
    "start_time": "2025-01-26T04:33:28.873Z"
   },
   {
    "duration": 46,
    "start_time": "2025-01-26T04:34:15.677Z"
   },
   {
    "duration": 89,
    "start_time": "2025-01-26T04:36:06.689Z"
   },
   {
    "duration": 2884,
    "start_time": "2025-01-27T03:12:43.302Z"
   },
   {
    "duration": 447,
    "start_time": "2025-01-27T03:12:46.188Z"
   },
   {
    "duration": 107,
    "start_time": "2025-01-27T03:12:46.637Z"
   },
   {
    "duration": 365,
    "start_time": "2025-01-27T03:12:46.746Z"
   },
   {
    "duration": 18,
    "start_time": "2025-01-27T03:12:47.114Z"
   },
   {
    "duration": 491,
    "start_time": "2025-01-27T03:12:47.133Z"
   },
   {
    "duration": 1531,
    "start_time": "2025-01-27T03:12:47.627Z"
   },
   {
    "duration": 161,
    "start_time": "2025-01-27T03:12:49.160Z"
   },
   {
    "duration": 57,
    "start_time": "2025-01-27T03:12:49.322Z"
   },
   {
    "duration": 60,
    "start_time": "2025-01-27T03:12:49.381Z"
   },
   {
    "duration": 12,
    "start_time": "2025-01-27T03:12:49.442Z"
   },
   {
    "duration": 83,
    "start_time": "2025-01-27T03:12:49.456Z"
   },
   {
    "duration": 144,
    "start_time": "2025-01-27T03:12:49.541Z"
   },
   {
    "duration": 117,
    "start_time": "2025-01-27T03:12:49.689Z"
   },
   {
    "duration": 116,
    "start_time": "2025-01-27T03:12:49.808Z"
   },
   {
    "duration": 64,
    "start_time": "2025-01-27T03:12:49.926Z"
   },
   {
    "duration": 64,
    "start_time": "2025-01-27T03:12:50.004Z"
   },
   {
    "duration": 184,
    "start_time": "2025-01-27T03:12:50.070Z"
   },
   {
    "duration": 150,
    "start_time": "2025-01-27T03:12:50.256Z"
   },
   {
    "duration": 208,
    "start_time": "2025-01-27T03:12:50.408Z"
   },
   {
    "duration": 64,
    "start_time": "2025-01-27T03:12:50.618Z"
   },
   {
    "duration": 321,
    "start_time": "2025-01-27T03:12:50.685Z"
   },
   {
    "duration": 104,
    "start_time": "2025-01-27T03:12:51.008Z"
   },
   {
    "duration": 133,
    "start_time": "2025-01-27T03:12:51.114Z"
   },
   {
    "duration": 177,
    "start_time": "2025-01-27T03:12:51.249Z"
   },
   {
    "duration": 95,
    "start_time": "2025-01-27T03:12:51.428Z"
   },
   {
    "duration": 45,
    "start_time": "2025-01-27T03:12:51.526Z"
   },
   {
    "duration": 104,
    "start_time": "2025-01-27T03:12:51.572Z"
   },
   {
    "duration": 542,
    "start_time": "2025-01-27T03:12:51.678Z"
   },
   {
    "duration": 47,
    "start_time": "2025-01-27T03:13:08.149Z"
   },
   {
    "duration": 245,
    "start_time": "2025-01-27T04:13:43.015Z"
   },
   {
    "duration": 6,
    "start_time": "2025-01-27T04:13:51.925Z"
   },
   {
    "duration": 47,
    "start_time": "2025-01-27T04:15:49.947Z"
   },
   {
    "duration": 59,
    "start_time": "2025-01-27T04:24:55.852Z"
   },
   {
    "duration": 211,
    "start_time": "2025-01-27T04:25:02.773Z"
   },
   {
    "duration": 5,
    "start_time": "2025-01-27T04:25:03.732Z"
   },
   {
    "duration": 54,
    "start_time": "2025-01-27T04:25:06.401Z"
   },
   {
    "duration": 1100,
    "start_time": "2025-01-27T04:25:12.624Z"
   },
   {
    "duration": 413,
    "start_time": "2025-01-27T04:25:13.726Z"
   },
   {
    "duration": 106,
    "start_time": "2025-01-27T04:25:14.141Z"
   },
   {
    "duration": 379,
    "start_time": "2025-01-27T04:25:14.249Z"
   },
   {
    "duration": 17,
    "start_time": "2025-01-27T04:25:14.631Z"
   },
   {
    "duration": 479,
    "start_time": "2025-01-27T04:25:14.650Z"
   },
   {
    "duration": 1514,
    "start_time": "2025-01-27T04:25:15.132Z"
   },
   {
    "duration": 177,
    "start_time": "2025-01-27T04:25:16.648Z"
   },
   {
    "duration": 56,
    "start_time": "2025-01-27T04:25:16.827Z"
   },
   {
    "duration": 59,
    "start_time": "2025-01-27T04:25:16.884Z"
   },
   {
    "duration": 12,
    "start_time": "2025-01-27T04:25:16.945Z"
   },
   {
    "duration": 78,
    "start_time": "2025-01-27T04:25:16.958Z"
   },
   {
    "duration": 141,
    "start_time": "2025-01-27T04:25:17.038Z"
   },
   {
    "duration": 113,
    "start_time": "2025-01-27T04:25:17.183Z"
   },
   {
    "duration": 132,
    "start_time": "2025-01-27T04:25:17.298Z"
   },
   {
    "duration": 105,
    "start_time": "2025-01-27T04:25:17.432Z"
   },
   {
    "duration": 98,
    "start_time": "2025-01-27T04:25:17.540Z"
   },
   {
    "duration": 205,
    "start_time": "2025-01-27T04:25:17.639Z"
   },
   {
    "duration": 112,
    "start_time": "2025-01-27T04:25:17.845Z"
   },
   {
    "duration": 190,
    "start_time": "2025-01-27T04:25:17.958Z"
   },
   {
    "duration": 92,
    "start_time": "2025-01-27T04:25:18.150Z"
   },
   {
    "duration": 206,
    "start_time": "2025-01-27T04:25:18.244Z"
   },
   {
    "duration": 53,
    "start_time": "2025-01-27T04:25:18.452Z"
   },
   {
    "duration": 141,
    "start_time": "2025-01-27T04:25:18.507Z"
   },
   {
    "duration": 174,
    "start_time": "2025-01-27T04:25:18.650Z"
   },
   {
    "duration": 103,
    "start_time": "2025-01-27T04:25:18.826Z"
   },
   {
    "duration": 47,
    "start_time": "2025-01-27T04:25:18.931Z"
   },
   {
    "duration": 101,
    "start_time": "2025-01-27T04:25:18.980Z"
   },
   {
    "duration": 248,
    "start_time": "2025-01-27T04:25:19.083Z"
   },
   {
    "duration": 5,
    "start_time": "2025-01-27T04:25:19.333Z"
   },
   {
    "duration": 71,
    "start_time": "2025-01-27T04:25:19.340Z"
   },
   {
    "duration": 50,
    "start_time": "2025-01-27T04:25:19.413Z"
   },
   {
    "duration": 52,
    "start_time": "2025-01-27T04:48:54.131Z"
   },
   {
    "duration": 145,
    "start_time": "2025-01-27T05:01:24.256Z"
   },
   {
    "duration": 219,
    "start_time": "2025-01-27T05:01:39.263Z"
   },
   {
    "duration": 97,
    "start_time": "2025-01-27T05:02:12.779Z"
   },
   {
    "duration": 92,
    "start_time": "2025-01-27T05:02:33.981Z"
   },
   {
    "duration": 1115,
    "start_time": "2025-01-27T05:03:02.020Z"
   },
   {
    "duration": 401,
    "start_time": "2025-01-27T05:03:03.137Z"
   },
   {
    "duration": 99,
    "start_time": "2025-01-27T05:03:03.540Z"
   },
   {
    "duration": 364,
    "start_time": "2025-01-27T05:03:03.642Z"
   },
   {
    "duration": 18,
    "start_time": "2025-01-27T05:03:04.008Z"
   },
   {
    "duration": 463,
    "start_time": "2025-01-27T05:03:04.028Z"
   },
   {
    "duration": 1488,
    "start_time": "2025-01-27T05:03:04.493Z"
   },
   {
    "duration": 158,
    "start_time": "2025-01-27T05:03:05.984Z"
   },
   {
    "duration": 61,
    "start_time": "2025-01-27T05:03:06.144Z"
   },
   {
    "duration": 49,
    "start_time": "2025-01-27T05:03:06.209Z"
   },
   {
    "duration": 12,
    "start_time": "2025-01-27T05:03:06.260Z"
   },
   {
    "duration": 87,
    "start_time": "2025-01-27T05:03:06.274Z"
   },
   {
    "duration": 133,
    "start_time": "2025-01-27T05:03:06.363Z"
   },
   {
    "duration": 114,
    "start_time": "2025-01-27T05:03:06.498Z"
   },
   {
    "duration": 115,
    "start_time": "2025-01-27T05:03:06.614Z"
   },
   {
    "duration": 75,
    "start_time": "2025-01-27T05:03:06.730Z"
   },
   {
    "duration": 64,
    "start_time": "2025-01-27T05:03:06.807Z"
   },
   {
    "duration": 173,
    "start_time": "2025-01-27T05:03:06.873Z"
   },
   {
    "duration": 145,
    "start_time": "2025-01-27T05:03:07.048Z"
   },
   {
    "duration": 231,
    "start_time": "2025-01-27T05:03:07.195Z"
   },
   {
    "duration": 62,
    "start_time": "2025-01-27T05:03:07.428Z"
   },
   {
    "duration": 220,
    "start_time": "2025-01-27T05:03:07.504Z"
   },
   {
    "duration": 37,
    "start_time": "2025-01-27T05:03:07.726Z"
   },
   {
    "duration": 179,
    "start_time": "2025-01-27T05:03:07.765Z"
   },
   {
    "duration": 176,
    "start_time": "2025-01-27T05:03:07.945Z"
   },
   {
    "duration": 101,
    "start_time": "2025-01-27T05:03:08.123Z"
   },
   {
    "duration": 45,
    "start_time": "2025-01-27T05:03:08.226Z"
   },
   {
    "duration": 95,
    "start_time": "2025-01-27T05:03:08.274Z"
   },
   {
    "duration": 222,
    "start_time": "2025-01-27T05:03:08.371Z"
   },
   {
    "duration": 5,
    "start_time": "2025-01-27T05:03:08.595Z"
   },
   {
    "duration": 50,
    "start_time": "2025-01-27T05:03:08.606Z"
   },
   {
    "duration": 439,
    "start_time": "2025-01-27T05:03:08.658Z"
   },
   {
    "duration": 0,
    "start_time": "2025-01-27T05:03:09.099Z"
   },
   {
    "duration": 480,
    "start_time": "2025-01-27T05:04:28.830Z"
   },
   {
    "duration": 150,
    "start_time": "2025-01-27T05:04:31.482Z"
   },
   {
    "duration": 1041,
    "start_time": "2025-01-27T05:04:59.183Z"
   },
   {
    "duration": 421,
    "start_time": "2025-01-27T05:05:00.226Z"
   },
   {
    "duration": 97,
    "start_time": "2025-01-27T05:05:00.648Z"
   },
   {
    "duration": 368,
    "start_time": "2025-01-27T05:05:00.746Z"
   },
   {
    "duration": 17,
    "start_time": "2025-01-27T05:05:01.118Z"
   },
   {
    "duration": 490,
    "start_time": "2025-01-27T05:05:01.137Z"
   },
   {
    "duration": 1548,
    "start_time": "2025-01-27T05:05:01.629Z"
   },
   {
    "duration": 163,
    "start_time": "2025-01-27T05:05:03.179Z"
   },
   {
    "duration": 55,
    "start_time": "2025-01-27T05:05:03.343Z"
   },
   {
    "duration": 50,
    "start_time": "2025-01-27T05:05:03.406Z"
   },
   {
    "duration": 12,
    "start_time": "2025-01-27T05:05:03.458Z"
   },
   {
    "duration": 83,
    "start_time": "2025-01-27T05:05:03.472Z"
   },
   {
    "duration": 139,
    "start_time": "2025-01-27T05:05:03.557Z"
   },
   {
    "duration": 103,
    "start_time": "2025-01-27T05:05:03.704Z"
   },
   {
    "duration": 115,
    "start_time": "2025-01-27T05:05:03.809Z"
   },
   {
    "duration": 64,
    "start_time": "2025-01-27T05:05:03.925Z"
   },
   {
    "duration": 71,
    "start_time": "2025-01-27T05:05:03.991Z"
   },
   {
    "duration": 181,
    "start_time": "2025-01-27T05:05:04.064Z"
   },
   {
    "duration": 130,
    "start_time": "2025-01-27T05:05:04.246Z"
   },
   {
    "duration": 173,
    "start_time": "2025-01-27T05:05:04.377Z"
   },
   {
    "duration": 115,
    "start_time": "2025-01-27T05:05:04.553Z"
   },
   {
    "duration": 236,
    "start_time": "2025-01-27T05:05:04.670Z"
   },
   {
    "duration": 38,
    "start_time": "2025-01-27T05:05:04.907Z"
   },
   {
    "duration": 192,
    "start_time": "2025-01-27T05:05:04.947Z"
   },
   {
    "duration": 178,
    "start_time": "2025-01-27T05:05:05.141Z"
   },
   {
    "duration": 98,
    "start_time": "2025-01-27T05:05:05.321Z"
   },
   {
    "duration": 48,
    "start_time": "2025-01-27T05:05:05.421Z"
   },
   {
    "duration": 94,
    "start_time": "2025-01-27T05:05:05.471Z"
   },
   {
    "duration": 227,
    "start_time": "2025-01-27T05:05:05.567Z"
   },
   {
    "duration": 13,
    "start_time": "2025-01-27T05:05:05.796Z"
   },
   {
    "duration": 56,
    "start_time": "2025-01-27T05:05:05.810Z"
   },
   {
    "duration": 501,
    "start_time": "2025-01-27T05:05:05.868Z"
   },
   {
    "duration": 160,
    "start_time": "2025-01-27T05:05:06.371Z"
   },
   {
    "duration": 47,
    "start_time": "2025-01-27T05:05:06.533Z"
   },
   {
    "duration": 152,
    "start_time": "2025-01-27T05:08:09.514Z"
   },
   {
    "duration": 7,
    "start_time": "2025-01-27T05:08:48.568Z"
   },
   {
    "duration": 68,
    "start_time": "2025-01-27T05:08:54.222Z"
   },
   {
    "duration": 467,
    "start_time": "2025-01-27T05:08:56.321Z"
   },
   {
    "duration": 148,
    "start_time": "2025-01-27T05:08:57.576Z"
   },
   {
    "duration": 164,
    "start_time": "2025-01-27T05:10:08.180Z"
   },
   {
    "duration": 1085,
    "start_time": "2025-01-27T05:10:22.408Z"
   },
   {
    "duration": 403,
    "start_time": "2025-01-27T05:10:23.496Z"
   },
   {
    "duration": 92,
    "start_time": "2025-01-27T05:10:23.901Z"
   },
   {
    "duration": 388,
    "start_time": "2025-01-27T05:10:23.994Z"
   },
   {
    "duration": 27,
    "start_time": "2025-01-27T05:10:24.385Z"
   },
   {
    "duration": 454,
    "start_time": "2025-01-27T05:10:24.413Z"
   },
   {
    "duration": 1492,
    "start_time": "2025-01-27T05:10:24.870Z"
   },
   {
    "duration": 161,
    "start_time": "2025-01-27T05:10:26.364Z"
   },
   {
    "duration": 55,
    "start_time": "2025-01-27T05:10:26.527Z"
   },
   {
    "duration": 60,
    "start_time": "2025-01-27T05:10:26.584Z"
   },
   {
    "duration": 12,
    "start_time": "2025-01-27T05:10:26.646Z"
   },
   {
    "duration": 85,
    "start_time": "2025-01-27T05:10:26.659Z"
   },
   {
    "duration": 140,
    "start_time": "2025-01-27T05:10:26.747Z"
   },
   {
    "duration": 108,
    "start_time": "2025-01-27T05:10:26.891Z"
   },
   {
    "duration": 116,
    "start_time": "2025-01-27T05:10:27.001Z"
   },
   {
    "duration": 66,
    "start_time": "2025-01-27T05:10:27.119Z"
   },
   {
    "duration": 82,
    "start_time": "2025-01-27T05:10:27.187Z"
   },
   {
    "duration": 177,
    "start_time": "2025-01-27T05:10:27.271Z"
   },
   {
    "duration": 146,
    "start_time": "2025-01-27T05:10:27.450Z"
   },
   {
    "duration": 225,
    "start_time": "2025-01-27T05:10:27.597Z"
   },
   {
    "duration": 63,
    "start_time": "2025-01-27T05:10:27.823Z"
   },
   {
    "duration": 236,
    "start_time": "2025-01-27T05:10:27.888Z"
   },
   {
    "duration": 38,
    "start_time": "2025-01-27T05:10:28.125Z"
   },
   {
    "duration": 180,
    "start_time": "2025-01-27T05:10:28.164Z"
   },
   {
    "duration": 182,
    "start_time": "2025-01-27T05:10:28.346Z"
   },
   {
    "duration": 98,
    "start_time": "2025-01-27T05:10:28.530Z"
   },
   {
    "duration": 44,
    "start_time": "2025-01-27T05:10:28.630Z"
   },
   {
    "duration": 101,
    "start_time": "2025-01-27T05:10:28.676Z"
   },
   {
    "duration": 227,
    "start_time": "2025-01-27T05:10:28.778Z"
   },
   {
    "duration": 6,
    "start_time": "2025-01-27T05:10:29.007Z"
   },
   {
    "duration": 52,
    "start_time": "2025-01-27T05:10:29.015Z"
   },
   {
    "duration": 520,
    "start_time": "2025-01-27T05:10:29.068Z"
   },
   {
    "duration": 178,
    "start_time": "2025-01-27T05:10:29.589Z"
   },
   {
    "duration": 60,
    "start_time": "2025-01-27T05:10:29.769Z"
   },
   {
    "duration": 441,
    "start_time": "2025-01-27T05:11:54.482Z"
   },
   {
    "duration": 157,
    "start_time": "2025-01-27T05:12:13.552Z"
   },
   {
    "duration": 5102,
    "start_time": "2025-01-27T05:15:52.607Z"
   },
   {
    "duration": 2819,
    "start_time": "2025-01-28T01:30:35.793Z"
   },
   {
    "duration": 431,
    "start_time": "2025-01-28T01:30:38.614Z"
   },
   {
    "duration": 98,
    "start_time": "2025-01-28T01:30:39.047Z"
   },
   {
    "duration": 376,
    "start_time": "2025-01-28T01:30:39.148Z"
   },
   {
    "duration": 20,
    "start_time": "2025-01-28T01:30:39.526Z"
   },
   {
    "duration": 466,
    "start_time": "2025-01-28T01:30:39.548Z"
   },
   {
    "duration": 1544,
    "start_time": "2025-01-28T01:30:40.016Z"
   },
   {
    "duration": 156,
    "start_time": "2025-01-28T01:30:41.562Z"
   },
   {
    "duration": 55,
    "start_time": "2025-01-28T01:30:41.720Z"
   },
   {
    "duration": 63,
    "start_time": "2025-01-28T01:30:41.778Z"
   },
   {
    "duration": 12,
    "start_time": "2025-01-28T01:30:41.842Z"
   },
   {
    "duration": 84,
    "start_time": "2025-01-28T01:30:41.856Z"
   },
   {
    "duration": 141,
    "start_time": "2025-01-28T01:30:41.942Z"
   },
   {
    "duration": 101,
    "start_time": "2025-01-28T01:30:42.085Z"
   },
   {
    "duration": 114,
    "start_time": "2025-01-28T01:30:42.188Z"
   },
   {
    "duration": 64,
    "start_time": "2025-01-28T01:30:42.305Z"
   },
   {
    "duration": 74,
    "start_time": "2025-01-28T01:30:42.370Z"
   },
   {
    "duration": 205,
    "start_time": "2025-01-28T01:30:42.446Z"
   },
   {
    "duration": 108,
    "start_time": "2025-01-28T01:30:42.654Z"
   },
   {
    "duration": 177,
    "start_time": "2025-01-28T01:30:42.764Z"
   },
   {
    "duration": 72,
    "start_time": "2025-01-28T01:30:42.943Z"
   },
   {
    "duration": 215,
    "start_time": "2025-01-28T01:30:43.016Z"
   },
   {
    "duration": 84,
    "start_time": "2025-01-28T01:30:43.233Z"
   },
   {
    "duration": 141,
    "start_time": "2025-01-28T01:30:43.320Z"
   },
   {
    "duration": 179,
    "start_time": "2025-01-28T01:30:43.462Z"
   },
   {
    "duration": 100,
    "start_time": "2025-01-28T01:30:43.643Z"
   },
   {
    "duration": 45,
    "start_time": "2025-01-28T01:30:43.745Z"
   },
   {
    "duration": 96,
    "start_time": "2025-01-28T01:30:43.794Z"
   },
   {
    "duration": 226,
    "start_time": "2025-01-28T01:30:43.892Z"
   },
   {
    "duration": 6,
    "start_time": "2025-01-28T01:30:44.119Z"
   },
   {
    "duration": 52,
    "start_time": "2025-01-28T01:30:44.127Z"
   },
   {
    "duration": 503,
    "start_time": "2025-01-28T01:30:44.181Z"
   },
   {
    "duration": 195,
    "start_time": "2025-01-28T01:30:44.686Z"
   },
   {
    "duration": 5102,
    "start_time": "2025-01-28T01:30:44.883Z"
   },
   {
    "duration": 52,
    "start_time": "2025-01-28T01:30:49.987Z"
   },
   {
    "duration": 5001,
    "start_time": "2025-01-28T04:12:34.940Z"
   },
   {
    "duration": 364838,
    "start_time": "2025-01-28T04:20:13.419Z"
   },
   {
    "duration": 368238,
    "start_time": "2025-01-28T05:11:54.958Z"
   },
   {
    "duration": 4204,
    "start_time": "2025-01-28T05:20:53.608Z"
   },
   {
    "duration": 186,
    "start_time": "2025-01-28T05:22:16.528Z"
   },
   {
    "duration": 12,
    "start_time": "2025-01-28T05:22:30.246Z"
   },
   {
    "duration": 9,
    "start_time": "2025-01-28T05:52:08.366Z"
   },
   {
    "duration": 672,
    "start_time": "2025-01-28T05:52:42.511Z"
   },
   {
    "duration": 64654,
    "start_time": "2025-01-28T05:54:58.796Z"
   },
   {
    "duration": 76,
    "start_time": "2025-01-28T05:56:03.452Z"
   },
   {
    "duration": 1049,
    "start_time": "2025-01-28T05:56:47.668Z"
   },
   {
    "duration": 406,
    "start_time": "2025-01-28T05:56:48.720Z"
   },
   {
    "duration": 96,
    "start_time": "2025-01-28T05:56:49.128Z"
   },
   {
    "duration": 389,
    "start_time": "2025-01-28T05:56:49.225Z"
   },
   {
    "duration": 18,
    "start_time": "2025-01-28T05:56:49.617Z"
   },
   {
    "duration": 477,
    "start_time": "2025-01-28T05:56:49.636Z"
   },
   {
    "duration": 1521,
    "start_time": "2025-01-28T05:56:50.115Z"
   },
   {
    "duration": 163,
    "start_time": "2025-01-28T05:56:51.638Z"
   },
   {
    "duration": 55,
    "start_time": "2025-01-28T05:56:51.804Z"
   },
   {
    "duration": 58,
    "start_time": "2025-01-28T05:56:51.861Z"
   },
   {
    "duration": 13,
    "start_time": "2025-01-28T05:56:51.921Z"
   },
   {
    "duration": 78,
    "start_time": "2025-01-28T05:56:51.935Z"
   },
   {
    "duration": 135,
    "start_time": "2025-01-28T05:56:52.015Z"
   },
   {
    "duration": 105,
    "start_time": "2025-01-28T05:56:52.154Z"
   },
   {
    "duration": 122,
    "start_time": "2025-01-28T05:56:52.260Z"
   },
   {
    "duration": 72,
    "start_time": "2025-01-28T05:56:52.384Z"
   },
   {
    "duration": 77,
    "start_time": "2025-01-28T05:56:52.459Z"
   },
   {
    "duration": 198,
    "start_time": "2025-01-28T05:56:52.538Z"
   },
   {
    "duration": 108,
    "start_time": "2025-01-28T05:56:52.738Z"
   },
   {
    "duration": 194,
    "start_time": "2025-01-28T05:56:52.848Z"
   },
   {
    "duration": 75,
    "start_time": "2025-01-28T05:56:53.044Z"
   },
   {
    "duration": 220,
    "start_time": "2025-01-28T05:56:53.121Z"
   },
   {
    "duration": 69,
    "start_time": "2025-01-28T05:56:53.343Z"
   },
   {
    "duration": 141,
    "start_time": "2025-01-28T05:56:53.413Z"
   },
   {
    "duration": 179,
    "start_time": "2025-01-28T05:56:53.556Z"
   },
   {
    "duration": 98,
    "start_time": "2025-01-28T05:56:53.737Z"
   },
   {
    "duration": 45,
    "start_time": "2025-01-28T05:56:53.836Z"
   },
   {
    "duration": 94,
    "start_time": "2025-01-28T05:56:53.883Z"
   },
   {
    "duration": 226,
    "start_time": "2025-01-28T05:56:53.978Z"
   },
   {
    "duration": 10,
    "start_time": "2025-01-28T05:56:54.206Z"
   },
   {
    "duration": 57,
    "start_time": "2025-01-28T05:56:54.217Z"
   },
   {
    "duration": 534,
    "start_time": "2025-01-28T05:56:54.275Z"
   },
   {
    "duration": 174,
    "start_time": "2025-01-28T05:56:54.811Z"
   },
   {
    "duration": 4999,
    "start_time": "2025-01-28T05:56:54.987Z"
   },
   {
    "duration": 354005,
    "start_time": "2025-01-28T05:56:59.988Z"
   },
   {
    "duration": 2120,
    "start_time": "2025-01-28T06:02:53.995Z"
   },
   {
    "duration": 12,
    "start_time": "2025-01-28T06:02:56.118Z"
   },
   {
    "duration": 83,
    "start_time": "2025-01-28T06:02:56.132Z"
   },
   {
    "duration": 798,
    "start_time": "2025-01-28T06:02:56.217Z"
   },
   {
    "duration": 160,
    "start_time": "2025-01-28T06:02:57.017Z"
   },
   {
    "duration": 0,
    "start_time": "2025-01-28T06:02:57.179Z"
   },
   {
    "duration": 336,
    "start_time": "2025-01-28T06:24:13.966Z"
   },
   {
    "duration": 109548,
    "start_time": "2025-01-28T06:25:25.712Z"
   },
   {
    "duration": 91,
    "start_time": "2025-01-28T06:42:54.177Z"
   },
   {
    "duration": 108940,
    "start_time": "2025-01-28T06:43:52.688Z"
   },
   {
    "duration": 110284,
    "start_time": "2025-01-28T06:47:57.170Z"
   },
   {
    "duration": 2839,
    "start_time": "2025-01-29T05:00:08.807Z"
   },
   {
    "duration": 454,
    "start_time": "2025-01-29T05:00:11.649Z"
   },
   {
    "duration": 100,
    "start_time": "2025-01-29T05:00:12.106Z"
   },
   {
    "duration": 383,
    "start_time": "2025-01-29T05:00:12.213Z"
   },
   {
    "duration": 24,
    "start_time": "2025-01-29T05:00:12.598Z"
   },
   {
    "duration": 479,
    "start_time": "2025-01-29T05:00:12.623Z"
   },
   {
    "duration": 1500,
    "start_time": "2025-01-29T05:00:13.104Z"
   },
   {
    "duration": 197,
    "start_time": "2025-01-29T05:00:14.606Z"
   },
   {
    "duration": 62,
    "start_time": "2025-01-29T05:00:14.804Z"
   },
   {
    "duration": 67,
    "start_time": "2025-01-29T05:00:14.869Z"
   },
   {
    "duration": 12,
    "start_time": "2025-01-29T05:00:14.938Z"
   },
   {
    "duration": 83,
    "start_time": "2025-01-29T05:00:14.952Z"
   },
   {
    "duration": 138,
    "start_time": "2025-01-29T05:00:15.037Z"
   },
   {
    "duration": 114,
    "start_time": "2025-01-29T05:00:15.178Z"
   },
   {
    "duration": 120,
    "start_time": "2025-01-29T05:00:15.294Z"
   },
   {
    "duration": 65,
    "start_time": "2025-01-29T05:00:15.417Z"
   },
   {
    "duration": 74,
    "start_time": "2025-01-29T05:00:15.484Z"
   },
   {
    "duration": 187,
    "start_time": "2025-01-29T05:00:15.560Z"
   },
   {
    "duration": 110,
    "start_time": "2025-01-29T05:00:15.749Z"
   },
   {
    "duration": 185,
    "start_time": "2025-01-29T05:00:15.861Z"
   },
   {
    "duration": 78,
    "start_time": "2025-01-29T05:00:16.048Z"
   },
   {
    "duration": 202,
    "start_time": "2025-01-29T05:00:16.128Z"
   },
   {
    "duration": 83,
    "start_time": "2025-01-29T05:00:16.332Z"
   },
   {
    "duration": 147,
    "start_time": "2025-01-29T05:00:16.416Z"
   },
   {
    "duration": 177,
    "start_time": "2025-01-29T05:00:16.564Z"
   },
   {
    "duration": 111,
    "start_time": "2025-01-29T05:00:16.743Z"
   },
   {
    "duration": 44,
    "start_time": "2025-01-29T05:00:16.856Z"
   },
   {
    "duration": 85,
    "start_time": "2025-01-29T05:00:16.914Z"
   },
   {
    "duration": 223,
    "start_time": "2025-01-29T05:00:17.001Z"
   },
   {
    "duration": 7,
    "start_time": "2025-01-29T05:00:17.226Z"
   },
   {
    "duration": 56,
    "start_time": "2025-01-29T05:00:17.235Z"
   },
   {
    "duration": 527,
    "start_time": "2025-01-29T05:00:17.293Z"
   },
   {
    "duration": 266,
    "start_time": "2025-01-29T05:00:17.822Z"
   },
   {
    "duration": 4952,
    "start_time": "2025-01-29T05:00:18.090Z"
   },
   {
    "duration": 355477,
    "start_time": "2025-01-29T05:00:23.044Z"
   },
   {
    "duration": 2094,
    "start_time": "2025-01-29T05:06:18.523Z"
   },
   {
    "duration": 13,
    "start_time": "2025-01-29T05:06:20.619Z"
   },
   {
    "duration": 11,
    "start_time": "2025-01-29T05:06:20.711Z"
   },
   {
    "duration": 109733,
    "start_time": "2025-01-29T05:06:20.724Z"
   },
   {
    "duration": 359,
    "start_time": "2025-01-29T05:08:10.459Z"
   },
   {
    "duration": 50,
    "start_time": "2025-01-29T05:08:10.820Z"
   },
   {
    "duration": 5,
    "start_time": "2025-01-29T05:35:43.997Z"
   },
   {
    "duration": 100,
    "start_time": "2025-01-29T05:35:50.131Z"
   },
   {
    "duration": 27,
    "start_time": "2025-01-29T05:38:37.681Z"
   },
   {
    "duration": 3,
    "start_time": "2025-01-29T05:40:35.015Z"
   },
   {
    "duration": 662,
    "start_time": "2025-01-29T05:48:45.677Z"
   },
   {
    "duration": 84927,
    "start_time": "2025-01-29T06:01:48.909Z"
   },
   {
    "duration": 85160,
    "start_time": "2025-01-29T06:04:08.866Z"
   },
   {
    "duration": 73,
    "start_time": "2025-01-29T06:13:53.239Z"
   },
   {
    "duration": 46,
    "start_time": "2025-01-29T06:14:06.423Z"
   },
   {
    "duration": 86584,
    "start_time": "2025-01-29T06:16:53.528Z"
   },
   {
    "duration": 84934,
    "start_time": "2025-01-29T06:21:12.204Z"
   },
   {
    "duration": 1019,
    "start_time": "2025-01-29T06:23:07.979Z"
   },
   {
    "duration": 417,
    "start_time": "2025-01-29T06:23:09.000Z"
   },
   {
    "duration": 102,
    "start_time": "2025-01-29T06:23:09.418Z"
   },
   {
    "duration": 367,
    "start_time": "2025-01-29T06:23:09.522Z"
   },
   {
    "duration": 26,
    "start_time": "2025-01-29T06:23:09.892Z"
   },
   {
    "duration": 460,
    "start_time": "2025-01-29T06:23:09.919Z"
   },
   {
    "duration": 1512,
    "start_time": "2025-01-29T06:23:10.380Z"
   },
   {
    "duration": 155,
    "start_time": "2025-01-29T06:23:11.894Z"
   },
   {
    "duration": 61,
    "start_time": "2025-01-29T06:23:12.051Z"
   },
   {
    "duration": 49,
    "start_time": "2025-01-29T06:23:12.114Z"
   },
   {
    "duration": 12,
    "start_time": "2025-01-29T06:23:12.165Z"
   },
   {
    "duration": 91,
    "start_time": "2025-01-29T06:23:12.179Z"
   },
   {
    "duration": 132,
    "start_time": "2025-01-29T06:23:12.272Z"
   },
   {
    "duration": 100,
    "start_time": "2025-01-29T06:23:12.412Z"
   },
   {
    "duration": 114,
    "start_time": "2025-01-29T06:23:12.514Z"
   },
   {
    "duration": 64,
    "start_time": "2025-01-29T06:23:12.630Z"
   },
   {
    "duration": 71,
    "start_time": "2025-01-29T06:23:12.696Z"
   },
   {
    "duration": 175,
    "start_time": "2025-01-29T06:23:12.769Z"
   },
   {
    "duration": 128,
    "start_time": "2025-01-29T06:23:12.945Z"
   },
   {
    "duration": 182,
    "start_time": "2025-01-29T06:23:13.075Z"
   },
   {
    "duration": 96,
    "start_time": "2025-01-29T06:23:13.259Z"
   },
   {
    "duration": 179,
    "start_time": "2025-01-29T06:23:13.357Z"
   },
   {
    "duration": 37,
    "start_time": "2025-01-29T06:23:13.538Z"
   },
   {
    "duration": 168,
    "start_time": "2025-01-29T06:23:13.577Z"
   },
   {
    "duration": 187,
    "start_time": "2025-01-29T06:23:13.747Z"
   },
   {
    "duration": 93,
    "start_time": "2025-01-29T06:23:13.936Z"
   },
   {
    "duration": 47,
    "start_time": "2025-01-29T06:23:14.030Z"
   },
   {
    "duration": 98,
    "start_time": "2025-01-29T06:23:14.079Z"
   },
   {
    "duration": 223,
    "start_time": "2025-01-29T06:23:14.179Z"
   },
   {
    "duration": 10,
    "start_time": "2025-01-29T06:23:14.404Z"
   },
   {
    "duration": 49,
    "start_time": "2025-01-29T06:23:14.416Z"
   },
   {
    "duration": 512,
    "start_time": "2025-01-29T06:23:14.467Z"
   },
   {
    "duration": 179,
    "start_time": "2025-01-29T06:23:14.981Z"
   },
   {
    "duration": 4973,
    "start_time": "2025-01-29T06:23:15.162Z"
   },
   {
    "duration": 352744,
    "start_time": "2025-01-29T06:23:20.138Z"
   },
   {
    "duration": 2059,
    "start_time": "2025-01-29T06:29:12.884Z"
   },
   {
    "duration": 78,
    "start_time": "2025-01-29T06:29:14.944Z"
   },
   {
    "duration": 11,
    "start_time": "2025-01-29T06:29:15.025Z"
   },
   {
    "duration": 108913,
    "start_time": "2025-01-29T06:29:15.113Z"
   },
   {
    "duration": 97,
    "start_time": "2025-01-29T06:31:04.027Z"
   },
   {
    "duration": 24,
    "start_time": "2025-01-29T06:31:04.128Z"
   },
   {
    "duration": 2,
    "start_time": "2025-01-29T06:31:04.154Z"
   },
   {
    "duration": 85359,
    "start_time": "2025-01-29T06:31:04.158Z"
   },
   {
    "duration": 10,
    "start_time": "2025-01-29T06:32:29.519Z"
   },
   {
    "duration": 81817,
    "start_time": "2025-01-29T06:39:41.696Z"
   },
   {
    "duration": 82211,
    "start_time": "2025-01-29T06:43:57.603Z"
   },
   {
    "duration": 82178,
    "start_time": "2025-01-29T06:47:33.735Z"
   },
   {
    "duration": 83012,
    "start_time": "2025-01-29T06:51:12.417Z"
   },
   {
    "duration": 1071,
    "start_time": "2025-01-29T06:55:16.272Z"
   },
   {
    "duration": 410,
    "start_time": "2025-01-29T06:55:17.345Z"
   },
   {
    "duration": 90,
    "start_time": "2025-01-29T06:55:17.756Z"
   },
   {
    "duration": 402,
    "start_time": "2025-01-29T06:55:17.849Z"
   },
   {
    "duration": 20,
    "start_time": "2025-01-29T06:55:18.252Z"
   },
   {
    "duration": 466,
    "start_time": "2025-01-29T06:55:18.273Z"
   },
   {
    "duration": 1479,
    "start_time": "2025-01-29T06:55:18.741Z"
   },
   {
    "duration": 161,
    "start_time": "2025-01-29T06:55:20.222Z"
   },
   {
    "duration": 59,
    "start_time": "2025-01-29T06:55:20.385Z"
   },
   {
    "duration": 49,
    "start_time": "2025-01-29T06:55:20.448Z"
   },
   {
    "duration": 13,
    "start_time": "2025-01-29T06:55:20.511Z"
   },
   {
    "duration": 66,
    "start_time": "2025-01-29T06:55:20.526Z"
   },
   {
    "duration": 147,
    "start_time": "2025-01-29T06:55:20.595Z"
   },
   {
    "duration": 100,
    "start_time": "2025-01-29T06:55:20.743Z"
   },
   {
    "duration": 115,
    "start_time": "2025-01-29T06:55:20.845Z"
   },
   {
    "duration": 72,
    "start_time": "2025-01-29T06:55:20.962Z"
   },
   {
    "duration": 62,
    "start_time": "2025-01-29T06:55:21.036Z"
   },
   {
    "duration": 226,
    "start_time": "2025-01-29T06:55:21.100Z"
   },
   {
    "duration": 109,
    "start_time": "2025-01-29T06:55:21.327Z"
   },
   {
    "duration": 198,
    "start_time": "2025-01-29T06:55:21.438Z"
   },
   {
    "duration": 74,
    "start_time": "2025-01-29T06:55:21.638Z"
   },
   {
    "duration": 217,
    "start_time": "2025-01-29T06:55:21.714Z"
   },
   {
    "duration": 38,
    "start_time": "2025-01-29T06:55:21.933Z"
   },
   {
    "duration": 179,
    "start_time": "2025-01-29T06:55:21.973Z"
   },
   {
    "duration": 171,
    "start_time": "2025-01-29T06:55:22.154Z"
   },
   {
    "duration": 94,
    "start_time": "2025-01-29T06:55:22.327Z"
   },
   {
    "duration": 44,
    "start_time": "2025-01-29T06:55:22.423Z"
   },
   {
    "duration": 97,
    "start_time": "2025-01-29T06:55:22.472Z"
   },
   {
    "duration": 220,
    "start_time": "2025-01-29T06:55:22.571Z"
   },
   {
    "duration": 5,
    "start_time": "2025-01-29T06:55:22.794Z"
   },
   {
    "duration": 50,
    "start_time": "2025-01-29T06:55:22.812Z"
   },
   {
    "duration": 511,
    "start_time": "2025-01-29T06:55:22.864Z"
   },
   {
    "duration": 168,
    "start_time": "2025-01-29T06:55:23.377Z"
   },
   {
    "duration": 5020,
    "start_time": "2025-01-29T06:55:23.547Z"
   },
   {
    "duration": 134454,
    "start_time": "2025-01-29T06:55:28.569Z"
   },
   {
    "duration": 2087,
    "start_time": "2025-01-29T06:57:43.025Z"
   },
   {
    "duration": 16,
    "start_time": "2025-01-29T06:57:45.115Z"
   },
   {
    "duration": 219,
    "start_time": "2025-01-29T06:57:45.133Z"
   },
   {
    "duration": 30,
    "start_time": "2025-01-29T06:57:45.353Z"
   },
   {
    "duration": 88,
    "start_time": "2025-01-29T06:57:45.385Z"
   },
   {
    "duration": 0,
    "start_time": "2025-01-29T06:57:45.475Z"
   },
   {
    "duration": 0,
    "start_time": "2025-01-29T06:57:45.476Z"
   },
   {
    "duration": 1029,
    "start_time": "2025-01-29T06:57:54.897Z"
   },
   {
    "duration": 414,
    "start_time": "2025-01-29T06:57:55.928Z"
   },
   {
    "duration": 100,
    "start_time": "2025-01-29T06:57:56.344Z"
   },
   {
    "duration": 375,
    "start_time": "2025-01-29T06:57:56.446Z"
   },
   {
    "duration": 18,
    "start_time": "2025-01-29T06:57:56.823Z"
   },
   {
    "duration": 469,
    "start_time": "2025-01-29T06:57:56.842Z"
   },
   {
    "duration": 1503,
    "start_time": "2025-01-29T06:57:57.313Z"
   },
   {
    "duration": 163,
    "start_time": "2025-01-29T06:57:58.818Z"
   },
   {
    "duration": 58,
    "start_time": "2025-01-29T06:57:58.983Z"
   },
   {
    "duration": 50,
    "start_time": "2025-01-29T06:57:59.044Z"
   },
   {
    "duration": 25,
    "start_time": "2025-01-29T06:57:59.096Z"
   },
   {
    "duration": 66,
    "start_time": "2025-01-29T06:57:59.123Z"
   },
   {
    "duration": 147,
    "start_time": "2025-01-29T06:57:59.191Z"
   },
   {
    "duration": 103,
    "start_time": "2025-01-29T06:57:59.340Z"
   },
   {
    "duration": 117,
    "start_time": "2025-01-29T06:57:59.445Z"
   },
   {
    "duration": 80,
    "start_time": "2025-01-29T06:57:59.564Z"
   },
   {
    "duration": 67,
    "start_time": "2025-01-29T06:57:59.645Z"
   },
   {
    "duration": 208,
    "start_time": "2025-01-29T06:57:59.714Z"
   },
   {
    "duration": 113,
    "start_time": "2025-01-29T06:57:59.924Z"
   },
   {
    "duration": 197,
    "start_time": "2025-01-29T06:58:00.039Z"
   },
   {
    "duration": 74,
    "start_time": "2025-01-29T06:58:00.238Z"
   },
   {
    "duration": 228,
    "start_time": "2025-01-29T06:58:00.313Z"
   },
   {
    "duration": 39,
    "start_time": "2025-01-29T06:58:00.542Z"
   },
   {
    "duration": 169,
    "start_time": "2025-01-29T06:58:00.583Z"
   },
   {
    "duration": 180,
    "start_time": "2025-01-29T06:58:00.753Z"
   },
   {
    "duration": 93,
    "start_time": "2025-01-29T06:58:00.935Z"
   },
   {
    "duration": 45,
    "start_time": "2025-01-29T06:58:01.030Z"
   },
   {
    "duration": 98,
    "start_time": "2025-01-29T06:58:01.078Z"
   },
   {
    "duration": 226,
    "start_time": "2025-01-29T06:58:01.177Z"
   },
   {
    "duration": 10,
    "start_time": "2025-01-29T06:58:01.405Z"
   },
   {
    "duration": 54,
    "start_time": "2025-01-29T06:58:01.416Z"
   },
   {
    "duration": 508,
    "start_time": "2025-01-29T06:58:01.472Z"
   },
   {
    "duration": 173,
    "start_time": "2025-01-29T06:58:01.981Z"
   },
   {
    "duration": 4974,
    "start_time": "2025-01-29T06:58:02.155Z"
   },
   {
    "duration": 2088,
    "start_time": "2025-01-29T06:58:07.131Z"
   },
   {
    "duration": 91,
    "start_time": "2025-01-29T06:58:09.221Z"
   },
   {
    "duration": 168,
    "start_time": "2025-01-29T06:58:09.314Z"
   },
   {
    "duration": 42,
    "start_time": "2025-01-29T06:58:09.484Z"
   },
   {
    "duration": 326,
    "start_time": "2025-01-29T06:58:09.527Z"
   },
   {
    "duration": 0,
    "start_time": "2025-01-29T06:58:09.855Z"
   },
   {
    "duration": 0,
    "start_time": "2025-01-29T06:58:09.856Z"
   },
   {
    "duration": 5,
    "start_time": "2025-01-29T07:00:03.551Z"
   },
   {
    "duration": 3,
    "start_time": "2025-01-29T07:00:09.981Z"
   },
   {
    "duration": 1039,
    "start_time": "2025-01-29T07:01:24.870Z"
   },
   {
    "duration": 435,
    "start_time": "2025-01-29T07:01:25.911Z"
   },
   {
    "duration": 115,
    "start_time": "2025-01-29T07:01:26.348Z"
   },
   {
    "duration": 371,
    "start_time": "2025-01-29T07:01:26.465Z"
   },
   {
    "duration": 17,
    "start_time": "2025-01-29T07:01:26.838Z"
   },
   {
    "duration": 481,
    "start_time": "2025-01-29T07:01:26.857Z"
   },
   {
    "duration": 1492,
    "start_time": "2025-01-29T07:01:27.340Z"
   },
   {
    "duration": 163,
    "start_time": "2025-01-29T07:01:28.834Z"
   },
   {
    "duration": 60,
    "start_time": "2025-01-29T07:01:28.999Z"
   },
   {
    "duration": 62,
    "start_time": "2025-01-29T07:01:29.063Z"
   },
   {
    "duration": 12,
    "start_time": "2025-01-29T07:01:29.127Z"
   },
   {
    "duration": 78,
    "start_time": "2025-01-29T07:01:29.141Z"
   },
   {
    "duration": 133,
    "start_time": "2025-01-29T07:01:29.221Z"
   },
   {
    "duration": 106,
    "start_time": "2025-01-29T07:01:29.355Z"
   },
   {
    "duration": 115,
    "start_time": "2025-01-29T07:01:29.462Z"
   },
   {
    "duration": 72,
    "start_time": "2025-01-29T07:01:29.579Z"
   },
   {
    "duration": 68,
    "start_time": "2025-01-29T07:01:29.653Z"
   },
   {
    "duration": 211,
    "start_time": "2025-01-29T07:01:29.723Z"
   },
   {
    "duration": 113,
    "start_time": "2025-01-29T07:01:29.936Z"
   },
   {
    "duration": 195,
    "start_time": "2025-01-29T07:01:30.051Z"
   },
   {
    "duration": 75,
    "start_time": "2025-01-29T07:01:30.248Z"
   },
   {
    "duration": 215,
    "start_time": "2025-01-29T07:01:30.325Z"
   },
   {
    "duration": 40,
    "start_time": "2025-01-29T07:01:30.542Z"
   },
   {
    "duration": 165,
    "start_time": "2025-01-29T07:01:30.584Z"
   },
   {
    "duration": 177,
    "start_time": "2025-01-29T07:01:30.751Z"
   },
   {
    "duration": 95,
    "start_time": "2025-01-29T07:01:30.930Z"
   },
   {
    "duration": 44,
    "start_time": "2025-01-29T07:01:31.027Z"
   },
   {
    "duration": 102,
    "start_time": "2025-01-29T07:01:31.075Z"
   },
   {
    "duration": 223,
    "start_time": "2025-01-29T07:01:31.179Z"
   },
   {
    "duration": 11,
    "start_time": "2025-01-29T07:01:31.403Z"
   },
   {
    "duration": 49,
    "start_time": "2025-01-29T07:01:31.416Z"
   },
   {
    "duration": 497,
    "start_time": "2025-01-29T07:01:31.467Z"
   },
   {
    "duration": 169,
    "start_time": "2025-01-29T07:01:31.966Z"
   },
   {
    "duration": 4952,
    "start_time": "2025-01-29T07:01:32.138Z"
   },
   {
    "duration": 2128,
    "start_time": "2025-01-29T07:01:37.092Z"
   },
   {
    "duration": 91,
    "start_time": "2025-01-29T07:01:39.221Z"
   },
   {
    "duration": 15,
    "start_time": "2025-01-29T07:01:39.313Z"
   },
   {
    "duration": 168,
    "start_time": "2025-01-29T07:01:39.330Z"
   },
   {
    "duration": 42,
    "start_time": "2025-01-29T07:01:39.499Z"
   },
   {
    "duration": 3,
    "start_time": "2025-01-29T07:01:39.543Z"
   },
   {
    "duration": 84780,
    "start_time": "2025-01-29T07:01:39.548Z"
   },
   {
    "duration": 11,
    "start_time": "2025-01-29T07:03:04.330Z"
   },
   {
    "duration": 84283,
    "start_time": "2025-01-29T07:04:10.653Z"
   }
  ],
  "kernelspec": {
   "display_name": "Python 3 (ipykernel)",
   "language": "python",
   "name": "python3"
  },
  "language_info": {
   "codemirror_mode": {
    "name": "ipython",
    "version": 3
   },
   "file_extension": ".py",
   "mimetype": "text/x-python",
   "name": "python",
   "nbconvert_exporter": "python",
   "pygments_lexer": "ipython3",
   "version": "3.9.19"
  },
  "toc": {
   "base_numbering": 1,
   "nav_menu": {},
   "number_sections": true,
   "sideBar": true,
   "skip_h1_title": true,
   "title_cell": "Table of Contents",
   "title_sidebar": "Contents",
   "toc_cell": false,
   "toc_position": {},
   "toc_section_display": true,
   "toc_window_display": false
  }
 },
 "nbformat": 4,
 "nbformat_minor": 2
}
