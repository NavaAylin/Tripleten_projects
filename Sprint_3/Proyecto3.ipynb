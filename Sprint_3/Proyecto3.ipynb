{
 "cells": [
  {
   "cell_type": "markdown",
   "id": "eb3a82f7",
   "metadata": {},
   "source": [
    "Hola Aylin!\n",
    "\n",
    "Soy **Patricio Requena** 👋. Es un placer ser el revisor de tu proyecto el día de hoy!\n",
    "\n",
    "Revisaré tu proyecto detenidamente con el objetivo de ayudarte a mejorar y perfeccionar tus habilidades. Durante mi revisión, identificaré áreas donde puedas hacer mejoras en tu código, señalando específicamente qué y cómo podrías ajustar para optimizar el rendimiento y la claridad de tu proyecto. Además, es importante para mí destacar los aspectos que has manejado excepcionalmente bien. Reconocer tus fortalezas te ayudará a entender qué técnicas y métodos están funcionando a tu favor y cómo puedes aplicarlos en futuras tareas. \n",
    "\n",
    "_**Recuerda que al final de este notebook encontrarás un comentario general de mi parte**_, empecemos!\n",
    "\n",
    "Encontrarás mis comentarios dentro de cajas verdes, amarillas o rojas, ⚠️ **por favor, no muevas, modifiques o borres mis comentarios** ⚠️:\n",
    "\n",
    "\n",
    "<div class=\"alert alert-block alert-success\">\n",
    "<b>Comentario del revisor</b> <a class=“tocSkip”></a>\n",
    "Si todo está perfecto.\n",
    "</div>\n",
    "\n",
    "<div class=\"alert alert-block alert-warning\">\n",
    "<b>Comentario del revisor</b> <a class=“tocSkip”></a>\n",
    "Si tu código está bien pero se puede mejorar o hay algún detalle que le hace falta.\n",
    "</div>\n",
    "\n",
    "<div class=\"alert alert-block alert-danger\">\n",
    "<b>Comentario del revisor</b> <a class=“tocSkip”></a>\n",
    "Si de pronto hace falta algo o existe algún problema con tu código o conclusiones.\n",
    "</div>\n",
    "\n",
    "Puedes responderme de esta forma:\n",
    "<div class=\"alert alert-block alert-info\">\n",
    "<b>Respuesta del estudiante</b> <a class=“tocSkip”></a>\n",
    "</div>\n",
    "\n",
    "</br>"
   ]
  },
  {
   "cell_type": "markdown",
   "id": "3Xg_RQfnafXz",
   "metadata": {
    "id": "3Xg_RQfnafXz"
   },
   "source": [
    "# ¡Llena ese carrito!"
   ]
  },
  {
   "cell_type": "markdown",
   "id": "mhIvmmkW414q",
   "metadata": {
    "id": "mhIvmmkW414q"
   },
   "source": [
    "# Introducción\n",
    "\n",
    "Instacart es una plataforma de entregas de comestibles donde la clientela puede registrar un pedido y hacer que se lo entreguen, similar a Uber Eats y Door Dash.\n",
    "El conjunto de datos que te hemos proporcionado tiene modificaciones del original. Redujimos el tamaño del conjunto para que tus cálculos se hicieran más rápido e introdujimos valores ausentes y duplicados. Tuvimos cuidado de conservar las distribuciones de los datos originales cuando hicimos los cambios.\n",
    "\n",
    "Debes completar tres pasos. Para cada uno de ellos, escribe una breve introducción que refleje con claridad cómo pretendes resolver cada paso, y escribe párrafos explicatorios que justifiquen tus decisiones al tiempo que avanzas en tu solución.  También escribe una conclusión que resuma tus hallazgos y elecciones.\n"
   ]
  },
  {
   "cell_type": "markdown",
   "id": "3MbyzpOQZ5Or",
   "metadata": {
    "id": "3MbyzpOQZ5Or"
   },
   "source": [
    "## Diccionario de datos\n",
    "\n",
    "Hay cinco tablas en el conjunto de datos, y tendrás que usarlas todas para hacer el preprocesamiento de datos y el análisis exploratorio de datos. A continuación se muestra un diccionario de datos que enumera las columnas de cada tabla y describe los datos que contienen.\n",
    "\n",
    "- `instacart_orders.csv`: cada fila corresponde a un pedido en la aplicación Instacart.\n",
    "    - `'order_id'`: número de ID que identifica de manera única cada pedido.\n",
    "    - `'user_id'`: número de ID que identifica de manera única la cuenta de cada cliente.\n",
    "    - `'order_number'`: el número de veces que este cliente ha hecho un pedido.\n",
    "    - `'order_dow'`: día de la semana en que se hizo el pedido (0 si es domingo).\n",
    "    - `'order_hour_of_day'`: hora del día en que se hizo el pedido.\n",
    "    - `'days_since_prior_order'`: número de días transcurridos desde que este cliente hizo su pedido anterior.\n",
    "- `products.csv`: cada fila corresponde a un producto único que pueden comprar los clientes.\n",
    "    - `'product_id'`: número ID que identifica de manera única cada producto.\n",
    "    - `'product_name'`: nombre del producto.\n",
    "    - `'aisle_id'`: número ID que identifica de manera única cada categoría de pasillo de víveres.\n",
    "    - `'department_id'`: número ID que identifica de manera única cada departamento de víveres.\n",
    "- `order_products.csv`: cada fila corresponde a un artículo pedido en un pedido.\n",
    "    - `'order_id'`: número de ID que identifica de manera única cada pedido.\n",
    "    - `'product_id'`: número ID que identifica de manera única cada producto.\n",
    "    - `'add_to_cart_order'`: el orden secuencial en el que se añadió cada artículo en el carrito.\n",
    "    - `'reordered'`: 0 si el cliente nunca ha pedido este producto antes, 1 si lo ha pedido.\n",
    "- `aisles.csv`\n",
    "    - `'aisle_id'`: número ID que identifica de manera única cada categoría de pasillo de víveres.\n",
    "    - `'aisle'`: nombre del pasillo.\n",
    "- `departments.csv`\n",
    "    - `'department_id'`: número ID que identifica de manera única cada departamento de víveres.\n",
    "    - `'department'`: nombre del departamento."
   ]
  },
  {
   "cell_type": "markdown",
   "id": "n3Ha_cNSZ8lK",
   "metadata": {
    "id": "n3Ha_cNSZ8lK"
   },
   "source": [
    "# Paso 1. Descripción de los datos\n",
    "\n",
    "Lee los archivos de datos (`/datasets/instacart_orders.csv`, `/datasets/products.csv`, `/datasets/aisles.csv`, `/datasets/departments.csv` y `/datasets/order_products.csv`) con `pd.read_csv()` usando los parámetros adecuados para leer los datos correctamente. Verifica la información para cada DataFrame creado.\n"
   ]
  },
  {
   "cell_type": "markdown",
   "id": "OmlQPLlyaAfR",
   "metadata": {
    "id": "OmlQPLlyaAfR"
   },
   "source": [
    "## Plan de solución\n",
    "\n",
    "Escribe aquí tu plan de solución para el Paso 1. Descripción de los datos."
   ]
  },
  {
   "cell_type": "code",
   "execution_count": 1,
   "id": "fbf1adab",
   "metadata": {
    "id": "fbf1adab"
   },
   "outputs": [],
   "source": [
    "# importar librerías\n",
    "import pandas as pd\n",
    "import numpy as np\n",
    "from matplotlib import pyplot as plt"
   ]
  },
  {
   "cell_type": "code",
   "execution_count": 2,
   "id": "ad36396d",
   "metadata": {
    "id": "ad36396d"
   },
   "outputs": [],
   "source": [
    "# leer conjuntos de datos en los DataFrames\n",
    "orders= pd.read_csv('/datasets/instacart_orders.csv',sep=';')\n",
    "products= pd.read_csv('/datasets/products.csv',sep=';')\n",
    "aisles= pd.read_csv('/datasets/aisles.csv',sep=';')\n",
    "dptos= pd.read_csv('/datasets/departments.csv',sep=';')\n",
    "order_products= pd.read_csv('/datasets/order_products.csv', sep=';')\n"
   ]
  },
  {
   "cell_type": "markdown",
   "id": "578b0990",
   "metadata": {},
   "source": [
    "<div class=\"alert alert-block alert-success\">\n",
    "<b>Comentario del revisor (1ra Iteracion)</b> <a class=“tocSkip”></a>\n",
    "\n",
    "Buen trabajo importando las librerías y cargando tus datos en celdas diferentes\n",
    "</div>"
   ]
  },
  {
   "cell_type": "code",
   "execution_count": 3,
   "id": "ad6a1efa",
   "metadata": {
    "id": "ad6a1efa"
   },
   "outputs": [
    {
     "name": "stdout",
     "output_type": "stream",
     "text": [
      "<class 'pandas.core.frame.DataFrame'>\n",
      "RangeIndex: 478967 entries, 0 to 478966\n",
      "Data columns (total 6 columns):\n",
      " #   Column                  Non-Null Count   Dtype  \n",
      "---  ------                  --------------   -----  \n",
      " 0   order_id                478967 non-null  int64  \n",
      " 1   user_id                 478967 non-null  int64  \n",
      " 2   order_number            478967 non-null  int64  \n",
      " 3   order_dow               478967 non-null  int64  \n",
      " 4   order_hour_of_day       478967 non-null  int64  \n",
      " 5   days_since_prior_order  450148 non-null  float64\n",
      "dtypes: float64(1), int64(5)\n",
      "memory usage: 21.9 MB\n"
     ]
    }
   ],
   "source": [
    "# mostrar información del DataFrame\n",
    "orders.info()"
   ]
  },
  {
   "cell_type": "code",
   "execution_count": 4,
   "id": "5b8d1458",
   "metadata": {},
   "outputs": [
    {
     "data": {
      "text/html": [
       "<div>\n",
       "<style scoped>\n",
       "    .dataframe tbody tr th:only-of-type {\n",
       "        vertical-align: middle;\n",
       "    }\n",
       "\n",
       "    .dataframe tbody tr th {\n",
       "        vertical-align: top;\n",
       "    }\n",
       "\n",
       "    .dataframe thead th {\n",
       "        text-align: right;\n",
       "    }\n",
       "</style>\n",
       "<table border=\"1\" class=\"dataframe\">\n",
       "  <thead>\n",
       "    <tr style=\"text-align: right;\">\n",
       "      <th></th>\n",
       "      <th>order_id</th>\n",
       "      <th>user_id</th>\n",
       "      <th>order_number</th>\n",
       "      <th>order_dow</th>\n",
       "      <th>order_hour_of_day</th>\n",
       "      <th>days_since_prior_order</th>\n",
       "    </tr>\n",
       "  </thead>\n",
       "  <tbody>\n",
       "    <tr>\n",
       "      <th>count</th>\n",
       "      <td>4.789670e+05</td>\n",
       "      <td>478967.000000</td>\n",
       "      <td>478967.000000</td>\n",
       "      <td>478967.000000</td>\n",
       "      <td>478967.000000</td>\n",
       "      <td>450148.000000</td>\n",
       "    </tr>\n",
       "    <tr>\n",
       "      <th>mean</th>\n",
       "      <td>1.709947e+06</td>\n",
       "      <td>102966.537475</td>\n",
       "      <td>17.157808</td>\n",
       "      <td>2.775058</td>\n",
       "      <td>13.446676</td>\n",
       "      <td>11.101751</td>\n",
       "    </tr>\n",
       "    <tr>\n",
       "      <th>std</th>\n",
       "      <td>9.869480e+05</td>\n",
       "      <td>59525.328991</td>\n",
       "      <td>17.704688</td>\n",
       "      <td>2.045869</td>\n",
       "      <td>4.224986</td>\n",
       "      <td>9.189975</td>\n",
       "    </tr>\n",
       "    <tr>\n",
       "      <th>min</th>\n",
       "      <td>4.000000e+00</td>\n",
       "      <td>2.000000</td>\n",
       "      <td>1.000000</td>\n",
       "      <td>0.000000</td>\n",
       "      <td>0.000000</td>\n",
       "      <td>0.000000</td>\n",
       "    </tr>\n",
       "    <tr>\n",
       "      <th>25%</th>\n",
       "      <td>8.564685e+05</td>\n",
       "      <td>51414.000000</td>\n",
       "      <td>5.000000</td>\n",
       "      <td>1.000000</td>\n",
       "      <td>10.000000</td>\n",
       "      <td>4.000000</td>\n",
       "    </tr>\n",
       "    <tr>\n",
       "      <th>50%</th>\n",
       "      <td>1.709522e+06</td>\n",
       "      <td>102633.000000</td>\n",
       "      <td>11.000000</td>\n",
       "      <td>3.000000</td>\n",
       "      <td>13.000000</td>\n",
       "      <td>7.000000</td>\n",
       "    </tr>\n",
       "    <tr>\n",
       "      <th>75%</th>\n",
       "      <td>2.562990e+06</td>\n",
       "      <td>154419.000000</td>\n",
       "      <td>23.000000</td>\n",
       "      <td>5.000000</td>\n",
       "      <td>16.000000</td>\n",
       "      <td>15.000000</td>\n",
       "    </tr>\n",
       "    <tr>\n",
       "      <th>max</th>\n",
       "      <td>3.421079e+06</td>\n",
       "      <td>206209.000000</td>\n",
       "      <td>100.000000</td>\n",
       "      <td>6.000000</td>\n",
       "      <td>23.000000</td>\n",
       "      <td>30.000000</td>\n",
       "    </tr>\n",
       "  </tbody>\n",
       "</table>\n",
       "</div>"
      ],
      "text/plain": [
       "           order_id        user_id   order_number      order_dow  \\\n",
       "count  4.789670e+05  478967.000000  478967.000000  478967.000000   \n",
       "mean   1.709947e+06  102966.537475      17.157808       2.775058   \n",
       "std    9.869480e+05   59525.328991      17.704688       2.045869   \n",
       "min    4.000000e+00       2.000000       1.000000       0.000000   \n",
       "25%    8.564685e+05   51414.000000       5.000000       1.000000   \n",
       "50%    1.709522e+06  102633.000000      11.000000       3.000000   \n",
       "75%    2.562990e+06  154419.000000      23.000000       5.000000   \n",
       "max    3.421079e+06  206209.000000     100.000000       6.000000   \n",
       "\n",
       "       order_hour_of_day  days_since_prior_order  \n",
       "count      478967.000000           450148.000000  \n",
       "mean           13.446676               11.101751  \n",
       "std             4.224986                9.189975  \n",
       "min             0.000000                0.000000  \n",
       "25%            10.000000                4.000000  \n",
       "50%            13.000000                7.000000  \n",
       "75%            16.000000               15.000000  \n",
       "max            23.000000               30.000000  "
      ]
     },
     "execution_count": 4,
     "metadata": {},
     "output_type": "execute_result"
    }
   ],
   "source": [
    "orders.describe()"
   ]
  },
  {
   "cell_type": "code",
   "execution_count": 5,
   "id": "9dd46031",
   "metadata": {},
   "outputs": [
    {
     "data": {
      "text/html": [
       "<div>\n",
       "<style scoped>\n",
       "    .dataframe tbody tr th:only-of-type {\n",
       "        vertical-align: middle;\n",
       "    }\n",
       "\n",
       "    .dataframe tbody tr th {\n",
       "        vertical-align: top;\n",
       "    }\n",
       "\n",
       "    .dataframe thead th {\n",
       "        text-align: right;\n",
       "    }\n",
       "</style>\n",
       "<table border=\"1\" class=\"dataframe\">\n",
       "  <thead>\n",
       "    <tr style=\"text-align: right;\">\n",
       "      <th></th>\n",
       "      <th>order_id</th>\n",
       "      <th>user_id</th>\n",
       "      <th>order_number</th>\n",
       "      <th>order_dow</th>\n",
       "      <th>order_hour_of_day</th>\n",
       "      <th>days_since_prior_order</th>\n",
       "    </tr>\n",
       "  </thead>\n",
       "  <tbody>\n",
       "    <tr>\n",
       "      <th>0</th>\n",
       "      <td>1515936</td>\n",
       "      <td>183418</td>\n",
       "      <td>11</td>\n",
       "      <td>6</td>\n",
       "      <td>13</td>\n",
       "      <td>30.0</td>\n",
       "    </tr>\n",
       "    <tr>\n",
       "      <th>1</th>\n",
       "      <td>1690866</td>\n",
       "      <td>163593</td>\n",
       "      <td>5</td>\n",
       "      <td>5</td>\n",
       "      <td>12</td>\n",
       "      <td>9.0</td>\n",
       "    </tr>\n",
       "    <tr>\n",
       "      <th>2</th>\n",
       "      <td>1454967</td>\n",
       "      <td>39980</td>\n",
       "      <td>4</td>\n",
       "      <td>5</td>\n",
       "      <td>19</td>\n",
       "      <td>2.0</td>\n",
       "    </tr>\n",
       "    <tr>\n",
       "      <th>3</th>\n",
       "      <td>1768857</td>\n",
       "      <td>82516</td>\n",
       "      <td>56</td>\n",
       "      <td>0</td>\n",
       "      <td>20</td>\n",
       "      <td>10.0</td>\n",
       "    </tr>\n",
       "    <tr>\n",
       "      <th>4</th>\n",
       "      <td>3007858</td>\n",
       "      <td>196724</td>\n",
       "      <td>2</td>\n",
       "      <td>4</td>\n",
       "      <td>12</td>\n",
       "      <td>17.0</td>\n",
       "    </tr>\n",
       "  </tbody>\n",
       "</table>\n",
       "</div>"
      ],
      "text/plain": [
       "   order_id  user_id  order_number  order_dow  order_hour_of_day  \\\n",
       "0   1515936   183418            11          6                 13   \n",
       "1   1690866   163593             5          5                 12   \n",
       "2   1454967    39980             4          5                 19   \n",
       "3   1768857    82516            56          0                 20   \n",
       "4   3007858   196724             2          4                 12   \n",
       "\n",
       "   days_since_prior_order  \n",
       "0                    30.0  \n",
       "1                     9.0  \n",
       "2                     2.0  \n",
       "3                    10.0  \n",
       "4                    17.0  "
      ]
     },
     "execution_count": 5,
     "metadata": {},
     "output_type": "execute_result"
    }
   ],
   "source": [
    "orders.head()"
   ]
  },
  {
   "cell_type": "code",
   "execution_count": 6,
   "id": "5130e05e",
   "metadata": {
    "id": "5130e05e"
   },
   "outputs": [
    {
     "name": "stdout",
     "output_type": "stream",
     "text": [
      "<class 'pandas.core.frame.DataFrame'>\n",
      "RangeIndex: 49694 entries, 0 to 49693\n",
      "Data columns (total 4 columns):\n",
      " #   Column         Non-Null Count  Dtype \n",
      "---  ------         --------------  ----- \n",
      " 0   product_id     49694 non-null  int64 \n",
      " 1   product_name   48436 non-null  object\n",
      " 2   aisle_id       49694 non-null  int64 \n",
      " 3   department_id  49694 non-null  int64 \n",
      "dtypes: int64(3), object(1)\n",
      "memory usage: 1.5+ MB\n"
     ]
    }
   ],
   "source": [
    "# mostrar información del DataFrame\n",
    "products.info()"
   ]
  },
  {
   "cell_type": "code",
   "execution_count": 7,
   "id": "4706dcc4",
   "metadata": {},
   "outputs": [
    {
     "data": {
      "text/html": [
       "<div>\n",
       "<style scoped>\n",
       "    .dataframe tbody tr th:only-of-type {\n",
       "        vertical-align: middle;\n",
       "    }\n",
       "\n",
       "    .dataframe tbody tr th {\n",
       "        vertical-align: top;\n",
       "    }\n",
       "\n",
       "    .dataframe thead th {\n",
       "        text-align: right;\n",
       "    }\n",
       "</style>\n",
       "<table border=\"1\" class=\"dataframe\">\n",
       "  <thead>\n",
       "    <tr style=\"text-align: right;\">\n",
       "      <th></th>\n",
       "      <th>product_id</th>\n",
       "      <th>aisle_id</th>\n",
       "      <th>department_id</th>\n",
       "    </tr>\n",
       "  </thead>\n",
       "  <tbody>\n",
       "    <tr>\n",
       "      <th>count</th>\n",
       "      <td>49694.000000</td>\n",
       "      <td>49694.000000</td>\n",
       "      <td>49694.000000</td>\n",
       "    </tr>\n",
       "    <tr>\n",
       "      <th>mean</th>\n",
       "      <td>24847.500000</td>\n",
       "      <td>67.773192</td>\n",
       "      <td>11.728478</td>\n",
       "    </tr>\n",
       "    <tr>\n",
       "      <th>std</th>\n",
       "      <td>14345.566475</td>\n",
       "      <td>38.317265</td>\n",
       "      <td>5.850314</td>\n",
       "    </tr>\n",
       "    <tr>\n",
       "      <th>min</th>\n",
       "      <td>1.000000</td>\n",
       "      <td>1.000000</td>\n",
       "      <td>1.000000</td>\n",
       "    </tr>\n",
       "    <tr>\n",
       "      <th>25%</th>\n",
       "      <td>12424.250000</td>\n",
       "      <td>35.000000</td>\n",
       "      <td>7.000000</td>\n",
       "    </tr>\n",
       "    <tr>\n",
       "      <th>50%</th>\n",
       "      <td>24847.500000</td>\n",
       "      <td>69.000000</td>\n",
       "      <td>13.000000</td>\n",
       "    </tr>\n",
       "    <tr>\n",
       "      <th>75%</th>\n",
       "      <td>37270.750000</td>\n",
       "      <td>100.000000</td>\n",
       "      <td>17.000000</td>\n",
       "    </tr>\n",
       "    <tr>\n",
       "      <th>max</th>\n",
       "      <td>49694.000000</td>\n",
       "      <td>134.000000</td>\n",
       "      <td>21.000000</td>\n",
       "    </tr>\n",
       "  </tbody>\n",
       "</table>\n",
       "</div>"
      ],
      "text/plain": [
       "         product_id      aisle_id  department_id\n",
       "count  49694.000000  49694.000000   49694.000000\n",
       "mean   24847.500000     67.773192      11.728478\n",
       "std    14345.566475     38.317265       5.850314\n",
       "min        1.000000      1.000000       1.000000\n",
       "25%    12424.250000     35.000000       7.000000\n",
       "50%    24847.500000     69.000000      13.000000\n",
       "75%    37270.750000    100.000000      17.000000\n",
       "max    49694.000000    134.000000      21.000000"
      ]
     },
     "execution_count": 7,
     "metadata": {},
     "output_type": "execute_result"
    }
   ],
   "source": [
    "products.describe()"
   ]
  },
  {
   "cell_type": "code",
   "execution_count": 8,
   "id": "5edc2ac3",
   "metadata": {},
   "outputs": [
    {
     "data": {
      "text/html": [
       "<div>\n",
       "<style scoped>\n",
       "    .dataframe tbody tr th:only-of-type {\n",
       "        vertical-align: middle;\n",
       "    }\n",
       "\n",
       "    .dataframe tbody tr th {\n",
       "        vertical-align: top;\n",
       "    }\n",
       "\n",
       "    .dataframe thead th {\n",
       "        text-align: right;\n",
       "    }\n",
       "</style>\n",
       "<table border=\"1\" class=\"dataframe\">\n",
       "  <thead>\n",
       "    <tr style=\"text-align: right;\">\n",
       "      <th></th>\n",
       "      <th>product_id</th>\n",
       "      <th>product_name</th>\n",
       "      <th>aisle_id</th>\n",
       "      <th>department_id</th>\n",
       "    </tr>\n",
       "  </thead>\n",
       "  <tbody>\n",
       "    <tr>\n",
       "      <th>0</th>\n",
       "      <td>1</td>\n",
       "      <td>Chocolate Sandwich Cookies</td>\n",
       "      <td>61</td>\n",
       "      <td>19</td>\n",
       "    </tr>\n",
       "    <tr>\n",
       "      <th>1</th>\n",
       "      <td>2</td>\n",
       "      <td>All-Seasons Salt</td>\n",
       "      <td>104</td>\n",
       "      <td>13</td>\n",
       "    </tr>\n",
       "    <tr>\n",
       "      <th>2</th>\n",
       "      <td>3</td>\n",
       "      <td>Robust Golden Unsweetened Oolong Tea</td>\n",
       "      <td>94</td>\n",
       "      <td>7</td>\n",
       "    </tr>\n",
       "    <tr>\n",
       "      <th>3</th>\n",
       "      <td>4</td>\n",
       "      <td>Smart Ones Classic Favorites Mini Rigatoni Wit...</td>\n",
       "      <td>38</td>\n",
       "      <td>1</td>\n",
       "    </tr>\n",
       "    <tr>\n",
       "      <th>4</th>\n",
       "      <td>5</td>\n",
       "      <td>Green Chile Anytime Sauce</td>\n",
       "      <td>5</td>\n",
       "      <td>13</td>\n",
       "    </tr>\n",
       "  </tbody>\n",
       "</table>\n",
       "</div>"
      ],
      "text/plain": [
       "   product_id                                       product_name  aisle_id  \\\n",
       "0           1                         Chocolate Sandwich Cookies        61   \n",
       "1           2                                   All-Seasons Salt       104   \n",
       "2           3               Robust Golden Unsweetened Oolong Tea        94   \n",
       "3           4  Smart Ones Classic Favorites Mini Rigatoni Wit...        38   \n",
       "4           5                          Green Chile Anytime Sauce         5   \n",
       "\n",
       "   department_id  \n",
       "0             19  \n",
       "1             13  \n",
       "2              7  \n",
       "3              1  \n",
       "4             13  "
      ]
     },
     "execution_count": 8,
     "metadata": {},
     "output_type": "execute_result"
    }
   ],
   "source": [
    "products.head()"
   ]
  },
  {
   "cell_type": "code",
   "execution_count": 9,
   "id": "d8370c05",
   "metadata": {
    "id": "d8370c05"
   },
   "outputs": [
    {
     "name": "stdout",
     "output_type": "stream",
     "text": [
      "<class 'pandas.core.frame.DataFrame'>\n",
      "RangeIndex: 134 entries, 0 to 133\n",
      "Data columns (total 2 columns):\n",
      " #   Column    Non-Null Count  Dtype \n",
      "---  ------    --------------  ----- \n",
      " 0   aisle_id  134 non-null    int64 \n",
      " 1   aisle     134 non-null    object\n",
      "dtypes: int64(1), object(1)\n",
      "memory usage: 2.2+ KB\n"
     ]
    }
   ],
   "source": [
    "# mostrar información del DataFrame\n",
    "aisles.info()"
   ]
  },
  {
   "cell_type": "code",
   "execution_count": 10,
   "id": "6694f700",
   "metadata": {},
   "outputs": [
    {
     "data": {
      "text/html": [
       "<div>\n",
       "<style scoped>\n",
       "    .dataframe tbody tr th:only-of-type {\n",
       "        vertical-align: middle;\n",
       "    }\n",
       "\n",
       "    .dataframe tbody tr th {\n",
       "        vertical-align: top;\n",
       "    }\n",
       "\n",
       "    .dataframe thead th {\n",
       "        text-align: right;\n",
       "    }\n",
       "</style>\n",
       "<table border=\"1\" class=\"dataframe\">\n",
       "  <thead>\n",
       "    <tr style=\"text-align: right;\">\n",
       "      <th></th>\n",
       "      <th>aisle_id</th>\n",
       "    </tr>\n",
       "  </thead>\n",
       "  <tbody>\n",
       "    <tr>\n",
       "      <th>count</th>\n",
       "      <td>134.000000</td>\n",
       "    </tr>\n",
       "    <tr>\n",
       "      <th>mean</th>\n",
       "      <td>67.500000</td>\n",
       "    </tr>\n",
       "    <tr>\n",
       "      <th>std</th>\n",
       "      <td>38.826537</td>\n",
       "    </tr>\n",
       "    <tr>\n",
       "      <th>min</th>\n",
       "      <td>1.000000</td>\n",
       "    </tr>\n",
       "    <tr>\n",
       "      <th>25%</th>\n",
       "      <td>34.250000</td>\n",
       "    </tr>\n",
       "    <tr>\n",
       "      <th>50%</th>\n",
       "      <td>67.500000</td>\n",
       "    </tr>\n",
       "    <tr>\n",
       "      <th>75%</th>\n",
       "      <td>100.750000</td>\n",
       "    </tr>\n",
       "    <tr>\n",
       "      <th>max</th>\n",
       "      <td>134.000000</td>\n",
       "    </tr>\n",
       "  </tbody>\n",
       "</table>\n",
       "</div>"
      ],
      "text/plain": [
       "         aisle_id\n",
       "count  134.000000\n",
       "mean    67.500000\n",
       "std     38.826537\n",
       "min      1.000000\n",
       "25%     34.250000\n",
       "50%     67.500000\n",
       "75%    100.750000\n",
       "max    134.000000"
      ]
     },
     "execution_count": 10,
     "metadata": {},
     "output_type": "execute_result"
    }
   ],
   "source": [
    "aisles.describe()"
   ]
  },
  {
   "cell_type": "code",
   "execution_count": 11,
   "id": "53e89ab9",
   "metadata": {},
   "outputs": [
    {
     "data": {
      "text/html": [
       "<div>\n",
       "<style scoped>\n",
       "    .dataframe tbody tr th:only-of-type {\n",
       "        vertical-align: middle;\n",
       "    }\n",
       "\n",
       "    .dataframe tbody tr th {\n",
       "        vertical-align: top;\n",
       "    }\n",
       "\n",
       "    .dataframe thead th {\n",
       "        text-align: right;\n",
       "    }\n",
       "</style>\n",
       "<table border=\"1\" class=\"dataframe\">\n",
       "  <thead>\n",
       "    <tr style=\"text-align: right;\">\n",
       "      <th></th>\n",
       "      <th>aisle_id</th>\n",
       "      <th>aisle</th>\n",
       "    </tr>\n",
       "  </thead>\n",
       "  <tbody>\n",
       "    <tr>\n",
       "      <th>0</th>\n",
       "      <td>1</td>\n",
       "      <td>prepared soups salads</td>\n",
       "    </tr>\n",
       "    <tr>\n",
       "      <th>1</th>\n",
       "      <td>2</td>\n",
       "      <td>specialty cheeses</td>\n",
       "    </tr>\n",
       "    <tr>\n",
       "      <th>2</th>\n",
       "      <td>3</td>\n",
       "      <td>energy granola bars</td>\n",
       "    </tr>\n",
       "    <tr>\n",
       "      <th>3</th>\n",
       "      <td>4</td>\n",
       "      <td>instant foods</td>\n",
       "    </tr>\n",
       "    <tr>\n",
       "      <th>4</th>\n",
       "      <td>5</td>\n",
       "      <td>marinades meat preparation</td>\n",
       "    </tr>\n",
       "  </tbody>\n",
       "</table>\n",
       "</div>"
      ],
      "text/plain": [
       "   aisle_id                       aisle\n",
       "0         1       prepared soups salads\n",
       "1         2           specialty cheeses\n",
       "2         3         energy granola bars\n",
       "3         4               instant foods\n",
       "4         5  marinades meat preparation"
      ]
     },
     "execution_count": 11,
     "metadata": {},
     "output_type": "execute_result"
    }
   ],
   "source": [
    "aisles.head()"
   ]
  },
  {
   "cell_type": "code",
   "execution_count": 12,
   "id": "59e2090f",
   "metadata": {
    "id": "59e2090f"
   },
   "outputs": [
    {
     "name": "stdout",
     "output_type": "stream",
     "text": [
      "<class 'pandas.core.frame.DataFrame'>\n",
      "RangeIndex: 21 entries, 0 to 20\n",
      "Data columns (total 2 columns):\n",
      " #   Column         Non-Null Count  Dtype \n",
      "---  ------         --------------  ----- \n",
      " 0   department_id  21 non-null     int64 \n",
      " 1   department     21 non-null     object\n",
      "dtypes: int64(1), object(1)\n",
      "memory usage: 464.0+ bytes\n"
     ]
    }
   ],
   "source": [
    "# mostrar información del DataFrame\n",
    "dptos.info()"
   ]
  },
  {
   "cell_type": "code",
   "execution_count": 13,
   "id": "785b5643",
   "metadata": {},
   "outputs": [
    {
     "data": {
      "text/html": [
       "<div>\n",
       "<style scoped>\n",
       "    .dataframe tbody tr th:only-of-type {\n",
       "        vertical-align: middle;\n",
       "    }\n",
       "\n",
       "    .dataframe tbody tr th {\n",
       "        vertical-align: top;\n",
       "    }\n",
       "\n",
       "    .dataframe thead th {\n",
       "        text-align: right;\n",
       "    }\n",
       "</style>\n",
       "<table border=\"1\" class=\"dataframe\">\n",
       "  <thead>\n",
       "    <tr style=\"text-align: right;\">\n",
       "      <th></th>\n",
       "      <th>department_id</th>\n",
       "    </tr>\n",
       "  </thead>\n",
       "  <tbody>\n",
       "    <tr>\n",
       "      <th>count</th>\n",
       "      <td>21.000000</td>\n",
       "    </tr>\n",
       "    <tr>\n",
       "      <th>mean</th>\n",
       "      <td>11.000000</td>\n",
       "    </tr>\n",
       "    <tr>\n",
       "      <th>std</th>\n",
       "      <td>6.204837</td>\n",
       "    </tr>\n",
       "    <tr>\n",
       "      <th>min</th>\n",
       "      <td>1.000000</td>\n",
       "    </tr>\n",
       "    <tr>\n",
       "      <th>25%</th>\n",
       "      <td>6.000000</td>\n",
       "    </tr>\n",
       "    <tr>\n",
       "      <th>50%</th>\n",
       "      <td>11.000000</td>\n",
       "    </tr>\n",
       "    <tr>\n",
       "      <th>75%</th>\n",
       "      <td>16.000000</td>\n",
       "    </tr>\n",
       "    <tr>\n",
       "      <th>max</th>\n",
       "      <td>21.000000</td>\n",
       "    </tr>\n",
       "  </tbody>\n",
       "</table>\n",
       "</div>"
      ],
      "text/plain": [
       "       department_id\n",
       "count      21.000000\n",
       "mean       11.000000\n",
       "std         6.204837\n",
       "min         1.000000\n",
       "25%         6.000000\n",
       "50%        11.000000\n",
       "75%        16.000000\n",
       "max        21.000000"
      ]
     },
     "execution_count": 13,
     "metadata": {},
     "output_type": "execute_result"
    }
   ],
   "source": [
    "dptos.describe()"
   ]
  },
  {
   "cell_type": "code",
   "execution_count": 14,
   "id": "c60029a7",
   "metadata": {},
   "outputs": [
    {
     "data": {
      "text/html": [
       "<div>\n",
       "<style scoped>\n",
       "    .dataframe tbody tr th:only-of-type {\n",
       "        vertical-align: middle;\n",
       "    }\n",
       "\n",
       "    .dataframe tbody tr th {\n",
       "        vertical-align: top;\n",
       "    }\n",
       "\n",
       "    .dataframe thead th {\n",
       "        text-align: right;\n",
       "    }\n",
       "</style>\n",
       "<table border=\"1\" class=\"dataframe\">\n",
       "  <thead>\n",
       "    <tr style=\"text-align: right;\">\n",
       "      <th></th>\n",
       "      <th>department_id</th>\n",
       "      <th>department</th>\n",
       "    </tr>\n",
       "  </thead>\n",
       "  <tbody>\n",
       "    <tr>\n",
       "      <th>0</th>\n",
       "      <td>1</td>\n",
       "      <td>frozen</td>\n",
       "    </tr>\n",
       "    <tr>\n",
       "      <th>1</th>\n",
       "      <td>2</td>\n",
       "      <td>other</td>\n",
       "    </tr>\n",
       "    <tr>\n",
       "      <th>2</th>\n",
       "      <td>3</td>\n",
       "      <td>bakery</td>\n",
       "    </tr>\n",
       "    <tr>\n",
       "      <th>3</th>\n",
       "      <td>4</td>\n",
       "      <td>produce</td>\n",
       "    </tr>\n",
       "    <tr>\n",
       "      <th>4</th>\n",
       "      <td>5</td>\n",
       "      <td>alcohol</td>\n",
       "    </tr>\n",
       "  </tbody>\n",
       "</table>\n",
       "</div>"
      ],
      "text/plain": [
       "   department_id department\n",
       "0              1     frozen\n",
       "1              2      other\n",
       "2              3     bakery\n",
       "3              4    produce\n",
       "4              5    alcohol"
      ]
     },
     "execution_count": 14,
     "metadata": {},
     "output_type": "execute_result"
    }
   ],
   "source": [
    "dptos.head()"
   ]
  },
  {
   "cell_type": "code",
   "execution_count": 15,
   "id": "6fc81694",
   "metadata": {
    "id": "6fc81694"
   },
   "outputs": [
    {
     "name": "stdout",
     "output_type": "stream",
     "text": [
      "<class 'pandas.core.frame.DataFrame'>\n",
      "RangeIndex: 4545007 entries, 0 to 4545006\n",
      "Data columns (total 4 columns):\n",
      " #   Column             Non-Null Count    Dtype  \n",
      "---  ------             --------------    -----  \n",
      " 0   order_id           4545007 non-null  int64  \n",
      " 1   product_id         4545007 non-null  int64  \n",
      " 2   add_to_cart_order  4544171 non-null  float64\n",
      " 3   reordered          4545007 non-null  int64  \n",
      "dtypes: float64(1), int64(3)\n",
      "memory usage: 138.7 MB\n"
     ]
    }
   ],
   "source": [
    "# mostrar información del DataFrame\n",
    "order_products.info(show_counts=True)"
   ]
  },
  {
   "cell_type": "code",
   "execution_count": 16,
   "id": "810acef0",
   "metadata": {},
   "outputs": [
    {
     "data": {
      "text/html": [
       "<div>\n",
       "<style scoped>\n",
       "    .dataframe tbody tr th:only-of-type {\n",
       "        vertical-align: middle;\n",
       "    }\n",
       "\n",
       "    .dataframe tbody tr th {\n",
       "        vertical-align: top;\n",
       "    }\n",
       "\n",
       "    .dataframe thead th {\n",
       "        text-align: right;\n",
       "    }\n",
       "</style>\n",
       "<table border=\"1\" class=\"dataframe\">\n",
       "  <thead>\n",
       "    <tr style=\"text-align: right;\">\n",
       "      <th></th>\n",
       "      <th>order_id</th>\n",
       "      <th>product_id</th>\n",
       "      <th>add_to_cart_order</th>\n",
       "      <th>reordered</th>\n",
       "    </tr>\n",
       "  </thead>\n",
       "  <tbody>\n",
       "    <tr>\n",
       "      <th>count</th>\n",
       "      <td>4.545007e+06</td>\n",
       "      <td>4.545007e+06</td>\n",
       "      <td>4.544171e+06</td>\n",
       "      <td>4.545007e+06</td>\n",
       "    </tr>\n",
       "    <tr>\n",
       "      <th>mean</th>\n",
       "      <td>1.711166e+06</td>\n",
       "      <td>2.558084e+04</td>\n",
       "      <td>8.351669e+00</td>\n",
       "      <td>5.905025e-01</td>\n",
       "    </tr>\n",
       "    <tr>\n",
       "      <th>std</th>\n",
       "      <td>9.850955e+05</td>\n",
       "      <td>1.409552e+04</td>\n",
       "      <td>7.080368e+00</td>\n",
       "      <td>4.917411e-01</td>\n",
       "    </tr>\n",
       "    <tr>\n",
       "      <th>min</th>\n",
       "      <td>4.000000e+00</td>\n",
       "      <td>1.000000e+00</td>\n",
       "      <td>1.000000e+00</td>\n",
       "      <td>0.000000e+00</td>\n",
       "    </tr>\n",
       "    <tr>\n",
       "      <th>25%</th>\n",
       "      <td>8.608170e+05</td>\n",
       "      <td>1.353500e+04</td>\n",
       "      <td>3.000000e+00</td>\n",
       "      <td>0.000000e+00</td>\n",
       "    </tr>\n",
       "    <tr>\n",
       "      <th>50%</th>\n",
       "      <td>1.711530e+06</td>\n",
       "      <td>2.527200e+04</td>\n",
       "      <td>6.000000e+00</td>\n",
       "      <td>1.000000e+00</td>\n",
       "    </tr>\n",
       "    <tr>\n",
       "      <th>75%</th>\n",
       "      <td>2.561311e+06</td>\n",
       "      <td>3.793500e+04</td>\n",
       "      <td>1.100000e+01</td>\n",
       "      <td>1.000000e+00</td>\n",
       "    </tr>\n",
       "    <tr>\n",
       "      <th>max</th>\n",
       "      <td>3.421079e+06</td>\n",
       "      <td>4.969400e+04</td>\n",
       "      <td>6.400000e+01</td>\n",
       "      <td>1.000000e+00</td>\n",
       "    </tr>\n",
       "  </tbody>\n",
       "</table>\n",
       "</div>"
      ],
      "text/plain": [
       "           order_id    product_id  add_to_cart_order     reordered\n",
       "count  4.545007e+06  4.545007e+06       4.544171e+06  4.545007e+06\n",
       "mean   1.711166e+06  2.558084e+04       8.351669e+00  5.905025e-01\n",
       "std    9.850955e+05  1.409552e+04       7.080368e+00  4.917411e-01\n",
       "min    4.000000e+00  1.000000e+00       1.000000e+00  0.000000e+00\n",
       "25%    8.608170e+05  1.353500e+04       3.000000e+00  0.000000e+00\n",
       "50%    1.711530e+06  2.527200e+04       6.000000e+00  1.000000e+00\n",
       "75%    2.561311e+06  3.793500e+04       1.100000e+01  1.000000e+00\n",
       "max    3.421079e+06  4.969400e+04       6.400000e+01  1.000000e+00"
      ]
     },
     "execution_count": 16,
     "metadata": {},
     "output_type": "execute_result"
    }
   ],
   "source": [
    "order_products.describe()"
   ]
  },
  {
   "cell_type": "code",
   "execution_count": 17,
   "id": "2ec880dc",
   "metadata": {},
   "outputs": [
    {
     "data": {
      "text/html": [
       "<div>\n",
       "<style scoped>\n",
       "    .dataframe tbody tr th:only-of-type {\n",
       "        vertical-align: middle;\n",
       "    }\n",
       "\n",
       "    .dataframe tbody tr th {\n",
       "        vertical-align: top;\n",
       "    }\n",
       "\n",
       "    .dataframe thead th {\n",
       "        text-align: right;\n",
       "    }\n",
       "</style>\n",
       "<table border=\"1\" class=\"dataframe\">\n",
       "  <thead>\n",
       "    <tr style=\"text-align: right;\">\n",
       "      <th></th>\n",
       "      <th>order_id</th>\n",
       "      <th>product_id</th>\n",
       "      <th>add_to_cart_order</th>\n",
       "      <th>reordered</th>\n",
       "    </tr>\n",
       "  </thead>\n",
       "  <tbody>\n",
       "    <tr>\n",
       "      <th>0</th>\n",
       "      <td>2141543</td>\n",
       "      <td>11440</td>\n",
       "      <td>17.0</td>\n",
       "      <td>0</td>\n",
       "    </tr>\n",
       "    <tr>\n",
       "      <th>1</th>\n",
       "      <td>567889</td>\n",
       "      <td>1560</td>\n",
       "      <td>1.0</td>\n",
       "      <td>1</td>\n",
       "    </tr>\n",
       "    <tr>\n",
       "      <th>2</th>\n",
       "      <td>2261212</td>\n",
       "      <td>26683</td>\n",
       "      <td>1.0</td>\n",
       "      <td>1</td>\n",
       "    </tr>\n",
       "    <tr>\n",
       "      <th>3</th>\n",
       "      <td>491251</td>\n",
       "      <td>8670</td>\n",
       "      <td>35.0</td>\n",
       "      <td>1</td>\n",
       "    </tr>\n",
       "    <tr>\n",
       "      <th>4</th>\n",
       "      <td>2571142</td>\n",
       "      <td>1940</td>\n",
       "      <td>5.0</td>\n",
       "      <td>1</td>\n",
       "    </tr>\n",
       "  </tbody>\n",
       "</table>\n",
       "</div>"
      ],
      "text/plain": [
       "   order_id  product_id  add_to_cart_order  reordered\n",
       "0   2141543       11440               17.0          0\n",
       "1    567889        1560                1.0          1\n",
       "2   2261212       26683                1.0          1\n",
       "3    491251        8670               35.0          1\n",
       "4   2571142        1940                5.0          1"
      ]
     },
     "execution_count": 17,
     "metadata": {},
     "output_type": "execute_result"
    }
   ],
   "source": [
    "order_products.head()"
   ]
  },
  {
   "cell_type": "markdown",
   "id": "ad4e05b4",
   "metadata": {},
   "source": [
    "<div class=\"alert alert-block alert-warning\">\n",
    "<b>Comentario del revisor (1ra Iteracion)</b> <a class=“tocSkip”></a>\n",
    "\n",
    "Muy buen trabajo con la exploración inicial de tus datos. Te recomiendo también agregar `.head()` y `.describe()` para que tengas más conocimiento de los datos que manejarás\n",
    "</div>"
   ]
  },
  {
   "cell_type": "markdown",
   "id": "9ed3330f",
   "metadata": {},
   "source": [
    "<div class=\"alert alert-block alert-info\">\n",
    "<b> Claro, lo he agreado en todos los DF's para que sea más visible la información :)\n",
    "    </b> <a class=“tocSkip”></a>\n",
    "</div>"
   ]
  },
  {
   "cell_type": "markdown",
   "id": "082bb9e0",
   "metadata": {},
   "source": [
    "<div class=\"alert alert-block alert-success\">\n",
    "<b>Comentario del revisor (2da Iteracion)</b> <a class=“tocSkip”></a>\n",
    "\n",
    "Excelente, buen trabajo aplicando los cambios\n",
    "</div>"
   ]
  },
  {
   "cell_type": "markdown",
   "id": "t75BD19oaR5f",
   "metadata": {
    "id": "t75BD19oaR5f"
   },
   "source": [
    "## Conclusiones\n",
    "\n",
    "Escribe aquí tus conclusiones intermedias sobre el Paso 1. Descripción de los datos.\n",
    "\n",
    "\n",
    "Los DataFrames; ins_order, products, y order_products, tienen una columna con valores nulos y Order Products por la cantidas de filas que almacena no le es posible tener la información de acuerdo a '.info()' así que se le pone un atributo nuevo.\n"
   ]
  },
  {
   "cell_type": "markdown",
   "id": "8RJHqxVmaVsF",
   "metadata": {
    "id": "8RJHqxVmaVsF"
   },
   "source": [
    "# Paso 2. Preprocesamiento de los datos\n",
    "\n",
    "Preprocesa los datos de la siguiente manera:\n",
    "\n",
    "- Verifica y corrige los tipos de datos (por ejemplo, asegúrate de que las columnas de ID sean números enteros).\n",
    "- Identifica y completa los valores ausentes.\n",
    "- Identifica y elimina los valores duplicados.\n",
    "\n",
    "Asegúrate de explicar qué tipos de valores ausentes y duplicados encontraste, cómo los completaste o eliminaste y por qué usaste esos métodos. ¿Por qué crees que estos valores ausentes y duplicados pueden haber estado presentes en el conjunto de datos?"
   ]
  },
  {
   "cell_type": "markdown",
   "id": "p6poABZQaZYb",
   "metadata": {
    "id": "p6poABZQaZYb"
   },
   "source": [
    "## Plan de solución\n",
    "\n",
    "Escribe aquí tu plan para el Paso 2. Preprocesamiento de los datos.\n",
    "\n",
    "\n",
    "Buscar, encontrar y eliminar los valores duplicados así como más adelante rellenar algunos valores ausentes."
   ]
  },
  {
   "cell_type": "markdown",
   "id": "07357848-dc64-4156-9cc3-01ff4365226d",
   "metadata": {
    "id": "07357848-dc64-4156-9cc3-01ff4365226d"
   },
   "source": [
    "## Encuentra y elimina los valores duplicados (y describe cómo tomaste tus decisiones)."
   ]
  },
  {
   "cell_type": "markdown",
   "id": "f179f0a9",
   "metadata": {
    "id": "f179f0a9"
   },
   "source": [
    "### `orders` data frame"
   ]
  },
  {
   "cell_type": "code",
   "execution_count": 18,
   "id": "b99297a5-405a-463d-8535-9adc3da4ad74",
   "metadata": {
    "id": "b99297a5-405a-463d-8535-9adc3da4ad74"
   },
   "outputs": [
    {
     "data": {
      "text/plain": [
       "15"
      ]
     },
     "execution_count": 18,
     "metadata": {},
     "output_type": "execute_result"
    }
   ],
   "source": [
    "# Revisa si hay pedidos duplicados\n",
    "orders.duplicated().sum()\n"
   ]
  },
  {
   "cell_type": "code",
   "execution_count": 19,
   "id": "7021fd3d",
   "metadata": {},
   "outputs": [
    {
     "data": {
      "text/html": [
       "<div>\n",
       "<style scoped>\n",
       "    .dataframe tbody tr th:only-of-type {\n",
       "        vertical-align: middle;\n",
       "    }\n",
       "\n",
       "    .dataframe tbody tr th {\n",
       "        vertical-align: top;\n",
       "    }\n",
       "\n",
       "    .dataframe thead th {\n",
       "        text-align: right;\n",
       "    }\n",
       "</style>\n",
       "<table border=\"1\" class=\"dataframe\">\n",
       "  <thead>\n",
       "    <tr style=\"text-align: right;\">\n",
       "      <th></th>\n",
       "      <th>order_id</th>\n",
       "      <th>user_id</th>\n",
       "      <th>order_number</th>\n",
       "      <th>order_dow</th>\n",
       "      <th>order_hour_of_day</th>\n",
       "      <th>days_since_prior_order</th>\n",
       "    </tr>\n",
       "  </thead>\n",
       "  <tbody>\n",
       "    <tr>\n",
       "      <th>354993</th>\n",
       "      <td>391768</td>\n",
       "      <td>57671</td>\n",
       "      <td>19</td>\n",
       "      <td>3</td>\n",
       "      <td>2</td>\n",
       "      <td>10.0</td>\n",
       "    </tr>\n",
       "    <tr>\n",
       "      <th>371905</th>\n",
       "      <td>391768</td>\n",
       "      <td>57671</td>\n",
       "      <td>19</td>\n",
       "      <td>3</td>\n",
       "      <td>2</td>\n",
       "      <td>10.0</td>\n",
       "    </tr>\n",
       "    <tr>\n",
       "      <th>119251</th>\n",
       "      <td>408114</td>\n",
       "      <td>68324</td>\n",
       "      <td>4</td>\n",
       "      <td>3</td>\n",
       "      <td>2</td>\n",
       "      <td>18.0</td>\n",
       "    </tr>\n",
       "    <tr>\n",
       "      <th>321100</th>\n",
       "      <td>408114</td>\n",
       "      <td>68324</td>\n",
       "      <td>4</td>\n",
       "      <td>3</td>\n",
       "      <td>2</td>\n",
       "      <td>18.0</td>\n",
       "    </tr>\n",
       "    <tr>\n",
       "      <th>394347</th>\n",
       "      <td>467134</td>\n",
       "      <td>63189</td>\n",
       "      <td>21</td>\n",
       "      <td>3</td>\n",
       "      <td>2</td>\n",
       "      <td>2.0</td>\n",
       "    </tr>\n",
       "    <tr>\n",
       "      <th>250626</th>\n",
       "      <td>467134</td>\n",
       "      <td>63189</td>\n",
       "      <td>21</td>\n",
       "      <td>3</td>\n",
       "      <td>2</td>\n",
       "      <td>2.0</td>\n",
       "    </tr>\n",
       "    <tr>\n",
       "      <th>99462</th>\n",
       "      <td>794638</td>\n",
       "      <td>50898</td>\n",
       "      <td>24</td>\n",
       "      <td>3</td>\n",
       "      <td>2</td>\n",
       "      <td>2.0</td>\n",
       "    </tr>\n",
       "    <tr>\n",
       "      <th>145574</th>\n",
       "      <td>794638</td>\n",
       "      <td>50898</td>\n",
       "      <td>24</td>\n",
       "      <td>3</td>\n",
       "      <td>2</td>\n",
       "      <td>2.0</td>\n",
       "    </tr>\n",
       "    <tr>\n",
       "      <th>311713</th>\n",
       "      <td>1021560</td>\n",
       "      <td>53767</td>\n",
       "      <td>3</td>\n",
       "      <td>3</td>\n",
       "      <td>2</td>\n",
       "      <td>9.0</td>\n",
       "    </tr>\n",
       "    <tr>\n",
       "      <th>242618</th>\n",
       "      <td>1021560</td>\n",
       "      <td>53767</td>\n",
       "      <td>3</td>\n",
       "      <td>3</td>\n",
       "      <td>2</td>\n",
       "      <td>9.0</td>\n",
       "    </tr>\n",
       "    <tr>\n",
       "      <th>164581</th>\n",
       "      <td>1112182</td>\n",
       "      <td>202304</td>\n",
       "      <td>84</td>\n",
       "      <td>3</td>\n",
       "      <td>2</td>\n",
       "      <td>6.0</td>\n",
       "    </tr>\n",
       "    <tr>\n",
       "      <th>273805</th>\n",
       "      <td>1112182</td>\n",
       "      <td>202304</td>\n",
       "      <td>84</td>\n",
       "      <td>3</td>\n",
       "      <td>2</td>\n",
       "      <td>6.0</td>\n",
       "    </tr>\n",
       "    <tr>\n",
       "      <th>314427</th>\n",
       "      <td>1286742</td>\n",
       "      <td>183220</td>\n",
       "      <td>48</td>\n",
       "      <td>3</td>\n",
       "      <td>2</td>\n",
       "      <td>4.0</td>\n",
       "    </tr>\n",
       "    <tr>\n",
       "      <th>411408</th>\n",
       "      <td>1286742</td>\n",
       "      <td>183220</td>\n",
       "      <td>48</td>\n",
       "      <td>3</td>\n",
       "      <td>2</td>\n",
       "      <td>4.0</td>\n",
       "    </tr>\n",
       "    <tr>\n",
       "      <th>266232</th>\n",
       "      <td>1782114</td>\n",
       "      <td>106752</td>\n",
       "      <td>1</td>\n",
       "      <td>3</td>\n",
       "      <td>2</td>\n",
       "      <td>NaN</td>\n",
       "    </tr>\n",
       "    <tr>\n",
       "      <th>200059</th>\n",
       "      <td>1782114</td>\n",
       "      <td>106752</td>\n",
       "      <td>1</td>\n",
       "      <td>3</td>\n",
       "      <td>2</td>\n",
       "      <td>NaN</td>\n",
       "    </tr>\n",
       "    <tr>\n",
       "      <th>230807</th>\n",
       "      <td>1918001</td>\n",
       "      <td>188546</td>\n",
       "      <td>14</td>\n",
       "      <td>3</td>\n",
       "      <td>2</td>\n",
       "      <td>16.0</td>\n",
       "    </tr>\n",
       "    <tr>\n",
       "      <th>30371</th>\n",
       "      <td>1918001</td>\n",
       "      <td>188546</td>\n",
       "      <td>14</td>\n",
       "      <td>3</td>\n",
       "      <td>2</td>\n",
       "      <td>16.0</td>\n",
       "    </tr>\n",
       "    <tr>\n",
       "      <th>257934</th>\n",
       "      <td>1919531</td>\n",
       "      <td>191501</td>\n",
       "      <td>32</td>\n",
       "      <td>3</td>\n",
       "      <td>2</td>\n",
       "      <td>7.0</td>\n",
       "    </tr>\n",
       "    <tr>\n",
       "      <th>323900</th>\n",
       "      <td>1919531</td>\n",
       "      <td>191501</td>\n",
       "      <td>32</td>\n",
       "      <td>3</td>\n",
       "      <td>2</td>\n",
       "      <td>7.0</td>\n",
       "    </tr>\n",
       "    <tr>\n",
       "      <th>441599</th>\n",
       "      <td>2125197</td>\n",
       "      <td>14050</td>\n",
       "      <td>48</td>\n",
       "      <td>3</td>\n",
       "      <td>2</td>\n",
       "      <td>3.0</td>\n",
       "    </tr>\n",
       "    <tr>\n",
       "      <th>204042</th>\n",
       "      <td>2125197</td>\n",
       "      <td>14050</td>\n",
       "      <td>48</td>\n",
       "      <td>3</td>\n",
       "      <td>2</td>\n",
       "      <td>3.0</td>\n",
       "    </tr>\n",
       "    <tr>\n",
       "      <th>223105</th>\n",
       "      <td>2160484</td>\n",
       "      <td>107525</td>\n",
       "      <td>16</td>\n",
       "      <td>3</td>\n",
       "      <td>2</td>\n",
       "      <td>30.0</td>\n",
       "    </tr>\n",
       "    <tr>\n",
       "      <th>215294</th>\n",
       "      <td>2160484</td>\n",
       "      <td>107525</td>\n",
       "      <td>16</td>\n",
       "      <td>3</td>\n",
       "      <td>2</td>\n",
       "      <td>30.0</td>\n",
       "    </tr>\n",
       "    <tr>\n",
       "      <th>324868</th>\n",
       "      <td>2232988</td>\n",
       "      <td>82565</td>\n",
       "      <td>1</td>\n",
       "      <td>3</td>\n",
       "      <td>2</td>\n",
       "      <td>NaN</td>\n",
       "    </tr>\n",
       "    <tr>\n",
       "      <th>345917</th>\n",
       "      <td>2232988</td>\n",
       "      <td>82565</td>\n",
       "      <td>1</td>\n",
       "      <td>3</td>\n",
       "      <td>2</td>\n",
       "      <td>NaN</td>\n",
       "    </tr>\n",
       "    <tr>\n",
       "      <th>415163</th>\n",
       "      <td>2282673</td>\n",
       "      <td>86751</td>\n",
       "      <td>49</td>\n",
       "      <td>3</td>\n",
       "      <td>2</td>\n",
       "      <td>2.0</td>\n",
       "    </tr>\n",
       "    <tr>\n",
       "      <th>259636</th>\n",
       "      <td>2282673</td>\n",
       "      <td>86751</td>\n",
       "      <td>49</td>\n",
       "      <td>3</td>\n",
       "      <td>2</td>\n",
       "      <td>2.0</td>\n",
       "    </tr>\n",
       "    <tr>\n",
       "      <th>142258</th>\n",
       "      <td>2845099</td>\n",
       "      <td>31189</td>\n",
       "      <td>11</td>\n",
       "      <td>3</td>\n",
       "      <td>2</td>\n",
       "      <td>7.0</td>\n",
       "    </tr>\n",
       "    <tr>\n",
       "      <th>284038</th>\n",
       "      <td>2845099</td>\n",
       "      <td>31189</td>\n",
       "      <td>11</td>\n",
       "      <td>3</td>\n",
       "      <td>2</td>\n",
       "      <td>7.0</td>\n",
       "    </tr>\n",
       "  </tbody>\n",
       "</table>\n",
       "</div>"
      ],
      "text/plain": [
       "        order_id  user_id  order_number  order_dow  order_hour_of_day  \\\n",
       "354993    391768    57671            19          3                  2   \n",
       "371905    391768    57671            19          3                  2   \n",
       "119251    408114    68324             4          3                  2   \n",
       "321100    408114    68324             4          3                  2   \n",
       "394347    467134    63189            21          3                  2   \n",
       "250626    467134    63189            21          3                  2   \n",
       "99462     794638    50898            24          3                  2   \n",
       "145574    794638    50898            24          3                  2   \n",
       "311713   1021560    53767             3          3                  2   \n",
       "242618   1021560    53767             3          3                  2   \n",
       "164581   1112182   202304            84          3                  2   \n",
       "273805   1112182   202304            84          3                  2   \n",
       "314427   1286742   183220            48          3                  2   \n",
       "411408   1286742   183220            48          3                  2   \n",
       "266232   1782114   106752             1          3                  2   \n",
       "200059   1782114   106752             1          3                  2   \n",
       "230807   1918001   188546            14          3                  2   \n",
       "30371    1918001   188546            14          3                  2   \n",
       "257934   1919531   191501            32          3                  2   \n",
       "323900   1919531   191501            32          3                  2   \n",
       "441599   2125197    14050            48          3                  2   \n",
       "204042   2125197    14050            48          3                  2   \n",
       "223105   2160484   107525            16          3                  2   \n",
       "215294   2160484   107525            16          3                  2   \n",
       "324868   2232988    82565             1          3                  2   \n",
       "345917   2232988    82565             1          3                  2   \n",
       "415163   2282673    86751            49          3                  2   \n",
       "259636   2282673    86751            49          3                  2   \n",
       "142258   2845099    31189            11          3                  2   \n",
       "284038   2845099    31189            11          3                  2   \n",
       "\n",
       "        days_since_prior_order  \n",
       "354993                    10.0  \n",
       "371905                    10.0  \n",
       "119251                    18.0  \n",
       "321100                    18.0  \n",
       "394347                     2.0  \n",
       "250626                     2.0  \n",
       "99462                      2.0  \n",
       "145574                     2.0  \n",
       "311713                     9.0  \n",
       "242618                     9.0  \n",
       "164581                     6.0  \n",
       "273805                     6.0  \n",
       "314427                     4.0  \n",
       "411408                     4.0  \n",
       "266232                     NaN  \n",
       "200059                     NaN  \n",
       "230807                    16.0  \n",
       "30371                     16.0  \n",
       "257934                     7.0  \n",
       "323900                     7.0  \n",
       "441599                     3.0  \n",
       "204042                     3.0  \n",
       "223105                    30.0  \n",
       "215294                    30.0  \n",
       "324868                     NaN  \n",
       "345917                     NaN  \n",
       "415163                     2.0  \n",
       "259636                     2.0  \n",
       "142258                     7.0  \n",
       "284038                     7.0  "
      ]
     },
     "execution_count": 19,
     "metadata": {},
     "output_type": "execute_result"
    }
   ],
   "source": [
    "orders[orders.duplicated(keep=False)].sort_values(by='order_id')"
   ]
  },
  {
   "cell_type": "markdown",
   "id": "PEkwUX_gvt5A",
   "metadata": {
    "id": "PEkwUX_gvt5A"
   },
   "source": [
    "¿Tienes líneas duplicadas? Si sí, ¿qué tienen en común?\n",
    "\n",
    "Sí, son filas completamente idénticas."
   ]
  },
  {
   "cell_type": "code",
   "execution_count": 20,
   "id": "0d44de5d",
   "metadata": {
    "id": "0d44de5d"
   },
   "outputs": [
    {
     "data": {
      "text/html": [
       "<div>\n",
       "<style scoped>\n",
       "    .dataframe tbody tr th:only-of-type {\n",
       "        vertical-align: middle;\n",
       "    }\n",
       "\n",
       "    .dataframe tbody tr th {\n",
       "        vertical-align: top;\n",
       "    }\n",
       "\n",
       "    .dataframe thead th {\n",
       "        text-align: right;\n",
       "    }\n",
       "</style>\n",
       "<table border=\"1\" class=\"dataframe\">\n",
       "  <thead>\n",
       "    <tr style=\"text-align: right;\">\n",
       "      <th></th>\n",
       "      <th>order_id</th>\n",
       "      <th>user_id</th>\n",
       "      <th>order_number</th>\n",
       "      <th>order_dow</th>\n",
       "      <th>order_hour_of_day</th>\n",
       "      <th>days_since_prior_order</th>\n",
       "    </tr>\n",
       "  </thead>\n",
       "  <tbody>\n",
       "    <tr>\n",
       "      <th>4838</th>\n",
       "      <td>2766110</td>\n",
       "      <td>162084</td>\n",
       "      <td>41</td>\n",
       "      <td>3</td>\n",
       "      <td>2</td>\n",
       "      <td>16.0</td>\n",
       "    </tr>\n",
       "    <tr>\n",
       "      <th>5156</th>\n",
       "      <td>2190225</td>\n",
       "      <td>138285</td>\n",
       "      <td>18</td>\n",
       "      <td>3</td>\n",
       "      <td>2</td>\n",
       "      <td>11.0</td>\n",
       "    </tr>\n",
       "    <tr>\n",
       "      <th>15506</th>\n",
       "      <td>553049</td>\n",
       "      <td>58599</td>\n",
       "      <td>13</td>\n",
       "      <td>3</td>\n",
       "      <td>2</td>\n",
       "      <td>7.0</td>\n",
       "    </tr>\n",
       "    <tr>\n",
       "      <th>18420</th>\n",
       "      <td>382357</td>\n",
       "      <td>120200</td>\n",
       "      <td>19</td>\n",
       "      <td>3</td>\n",
       "      <td>2</td>\n",
       "      <td>11.0</td>\n",
       "    </tr>\n",
       "    <tr>\n",
       "      <th>24691</th>\n",
       "      <td>690242</td>\n",
       "      <td>77357</td>\n",
       "      <td>2</td>\n",
       "      <td>3</td>\n",
       "      <td>2</td>\n",
       "      <td>9.0</td>\n",
       "    </tr>\n",
       "    <tr>\n",
       "      <th>...</th>\n",
       "      <td>...</td>\n",
       "      <td>...</td>\n",
       "      <td>...</td>\n",
       "      <td>...</td>\n",
       "      <td>...</td>\n",
       "      <td>...</td>\n",
       "    </tr>\n",
       "    <tr>\n",
       "      <th>457013</th>\n",
       "      <td>3384021</td>\n",
       "      <td>14881</td>\n",
       "      <td>6</td>\n",
       "      <td>3</td>\n",
       "      <td>2</td>\n",
       "      <td>30.0</td>\n",
       "    </tr>\n",
       "    <tr>\n",
       "      <th>458816</th>\n",
       "      <td>910166</td>\n",
       "      <td>164782</td>\n",
       "      <td>18</td>\n",
       "      <td>3</td>\n",
       "      <td>2</td>\n",
       "      <td>4.0</td>\n",
       "    </tr>\n",
       "    <tr>\n",
       "      <th>459635</th>\n",
       "      <td>1680532</td>\n",
       "      <td>106435</td>\n",
       "      <td>6</td>\n",
       "      <td>3</td>\n",
       "      <td>2</td>\n",
       "      <td>21.0</td>\n",
       "    </tr>\n",
       "    <tr>\n",
       "      <th>468324</th>\n",
       "      <td>222962</td>\n",
       "      <td>54979</td>\n",
       "      <td>59</td>\n",
       "      <td>3</td>\n",
       "      <td>2</td>\n",
       "      <td>3.0</td>\n",
       "    </tr>\n",
       "    <tr>\n",
       "      <th>477526</th>\n",
       "      <td>2592344</td>\n",
       "      <td>46860</td>\n",
       "      <td>38</td>\n",
       "      <td>3</td>\n",
       "      <td>2</td>\n",
       "      <td>3.0</td>\n",
       "    </tr>\n",
       "  </tbody>\n",
       "</table>\n",
       "<p>121 rows × 6 columns</p>\n",
       "</div>"
      ],
      "text/plain": [
       "        order_id  user_id  order_number  order_dow  order_hour_of_day  \\\n",
       "4838     2766110   162084            41          3                  2   \n",
       "5156     2190225   138285            18          3                  2   \n",
       "15506     553049    58599            13          3                  2   \n",
       "18420     382357   120200            19          3                  2   \n",
       "24691     690242    77357             2          3                  2   \n",
       "...          ...      ...           ...        ...                ...   \n",
       "457013   3384021    14881             6          3                  2   \n",
       "458816    910166   164782            18          3                  2   \n",
       "459635   1680532   106435             6          3                  2   \n",
       "468324    222962    54979            59          3                  2   \n",
       "477526   2592344    46860            38          3                  2   \n",
       "\n",
       "        days_since_prior_order  \n",
       "4838                      16.0  \n",
       "5156                      11.0  \n",
       "15506                      7.0  \n",
       "18420                     11.0  \n",
       "24691                      9.0  \n",
       "...                        ...  \n",
       "457013                    30.0  \n",
       "458816                     4.0  \n",
       "459635                    21.0  \n",
       "468324                     3.0  \n",
       "477526                     3.0  \n",
       "\n",
       "[121 rows x 6 columns]"
      ]
     },
     "execution_count": 20,
     "metadata": {},
     "output_type": "execute_result"
    }
   ],
   "source": [
    "# Basándote en tus hallazgos,\n",
    "# Verifica todos los pedidos que se hicieron el miércoles a las 2:00 a.m.\n",
    "\n",
    "orders[((orders['order_dow'] == 3) & (orders['order_hour_of_day']==2))]\n",
    "\n"
   ]
  },
  {
   "cell_type": "markdown",
   "id": "vu2OWyoqwOx5",
   "metadata": {
    "id": "vu2OWyoqwOx5"
   },
   "source": [
    "¿Qué sugiere este resultado?\n",
    "\n",
    "El miercoles a las 2 hubo algúna falla con el programa ya que justo en este día y hora realizó los 15 duplicados."
   ]
  },
  {
   "cell_type": "markdown",
   "id": "b1984bfb",
   "metadata": {},
   "source": [
    "<div class=\"alert alert-block alert-success\">\n",
    "<b>Comentario del revisor (1ra Iteracion)</b> <a class=“tocSkip”></a>\n",
    "\n",
    "Realizaste un buen trabajo con los duplicados aplicando el filtro\n",
    "</div>"
   ]
  },
  {
   "cell_type": "code",
   "execution_count": 21,
   "id": "480563c7",
   "metadata": {
    "id": "480563c7"
   },
   "outputs": [],
   "source": [
    "# Elimina los pedidos duplicados\n",
    "orders=orders.drop_duplicates()"
   ]
  },
  {
   "cell_type": "code",
   "execution_count": 22,
   "id": "0b2396a2",
   "metadata": {
    "id": "0b2396a2"
   },
   "outputs": [
    {
     "data": {
      "text/plain": [
       "0"
      ]
     },
     "execution_count": 22,
     "metadata": {},
     "output_type": "execute_result"
    }
   ],
   "source": [
    "# Vuelve a verificar si hay filas duplicadas\n",
    "orders.duplicated().sum()\n"
   ]
  },
  {
   "cell_type": "code",
   "execution_count": 23,
   "id": "f6113ef1",
   "metadata": {
    "id": "f6113ef1"
   },
   "outputs": [
    {
     "data": {
      "text/plain": [
       "0"
      ]
     },
     "execution_count": 23,
     "metadata": {},
     "output_type": "execute_result"
    }
   ],
   "source": [
    "# Vuelve a verificar únicamente si hay IDs duplicados de pedidos\n",
    "orders['order_id'].duplicated().sum()"
   ]
  },
  {
   "cell_type": "markdown",
   "id": "5e8905ae",
   "metadata": {
    "id": "5e8905ae"
   },
   "source": [
    "Describe brevemente tus hallazgos y lo que hiciste con ellos\n",
    "\n",
    "De acuerdo a los 15 duplicados del miercoles a las 2am se borró su duplicado y se volvió a comprobar para verificar que no haya ningún duplicado"
   ]
  },
  {
   "cell_type": "markdown",
   "id": "45e6bc46",
   "metadata": {
    "id": "45e6bc46"
   },
   "source": [
    "### `products` data frame"
   ]
  },
  {
   "cell_type": "code",
   "execution_count": 24,
   "id": "5f526b5b-8175-46fa-a0fd-441767d50e64",
   "metadata": {
    "id": "5f526b5b-8175-46fa-a0fd-441767d50e64"
   },
   "outputs": [
    {
     "data": {
      "text/plain": [
       "0"
      ]
     },
     "execution_count": 24,
     "metadata": {},
     "output_type": "execute_result"
    }
   ],
   "source": [
    "# Verifica si hay filas totalmente duplicadas\n",
    "products.duplicated().sum()\n"
   ]
  },
  {
   "cell_type": "code",
   "execution_count": 25,
   "id": "88daa4f4",
   "metadata": {
    "id": "88daa4f4"
   },
   "outputs": [
    {
     "data": {
      "text/plain": [
       "49673"
      ]
     },
     "execution_count": 25,
     "metadata": {},
     "output_type": "execute_result"
    }
   ],
   "source": [
    "# Revisa únicamente si hay ID de departamentos duplicados\n",
    "products['department_id'].duplicated().sum()\n"
   ]
  },
  {
   "cell_type": "code",
   "execution_count": 26,
   "id": "c773f0bf",
   "metadata": {
    "id": "c773f0bf"
   },
   "outputs": [
    {
     "data": {
      "text/plain": [
       "1361"
      ]
     },
     "execution_count": 26,
     "metadata": {},
     "output_type": "execute_result"
    }
   ],
   "source": [
    "# Revisa únicamente si hay nombres duplicados de productos (convierte los nombres a letras mayúsculas para compararlos mejor)\n",
    "products['product_name'].str.upper().duplicated().sum()"
   ]
  },
  {
   "cell_type": "code",
   "execution_count": 27,
   "id": "01efd02e",
   "metadata": {
    "id": "01efd02e"
   },
   "outputs": [
    {
     "data": {
      "text/plain": [
       "104"
      ]
     },
     "execution_count": 27,
     "metadata": {},
     "output_type": "execute_result"
    }
   ],
   "source": [
    "# Revisa si hay nombres duplicados de productos no faltantes\n",
    "products[products['product_name'].notna()]['product_name'].str.upper().duplicated().sum()"
   ]
  },
  {
   "cell_type": "markdown",
   "id": "9da8d293",
   "metadata": {
    "id": "9da8d293"
   },
   "source": [
    "Describe brevemente tus hallazgos y lo que hiciste con ellos.\n",
    "\n",
    "Hay departamentos duplicados ya que cada producto puede estar en el mismo departamento pero no quiere decir que sea el mismo en cuanto características y esto ultimo aplica para los duplicados de 'product_id' y justo en el paso anterior se revisan los productos que tengan valores No nulos por lo que el número se reduce"
   ]
  },
  {
   "cell_type": "markdown",
   "id": "23e200da",
   "metadata": {},
   "source": [
    "<div class=\"alert alert-block alert-success\">\n",
    "<b>Comentario del revisor (1ra Iteracion)</b> <a class=“tocSkip”></a>\n",
    "\n",
    "Realizaste un buen trabajo con los duplicados\n",
    "</div>"
   ]
  },
  {
   "cell_type": "markdown",
   "id": "60f30db1",
   "metadata": {
    "id": "60f30db1"
   },
   "source": [
    "### `departments` data frame"
   ]
  },
  {
   "cell_type": "code",
   "execution_count": 28,
   "id": "fb410ad4-0fbf-4b80-bb09-23fdea79afe3",
   "metadata": {
    "id": "fb410ad4-0fbf-4b80-bb09-23fdea79afe3"
   },
   "outputs": [
    {
     "data": {
      "text/plain": [
       "0"
      ]
     },
     "execution_count": 28,
     "metadata": {},
     "output_type": "execute_result"
    }
   ],
   "source": [
    "# Revisa si hay filas totalmente duplicadas\n",
    "\n",
    "dptos.duplicated().sum()"
   ]
  },
  {
   "cell_type": "code",
   "execution_count": 29,
   "id": "332b12bb",
   "metadata": {
    "id": "332b12bb"
   },
   "outputs": [
    {
     "data": {
      "text/plain": [
       "0"
      ]
     },
     "execution_count": 29,
     "metadata": {},
     "output_type": "execute_result"
    }
   ],
   "source": [
    "# Revisa únicamente si hay IDs duplicadas de productos\n",
    "dptos['department_id'].duplicated().sum()"
   ]
  },
  {
   "cell_type": "markdown",
   "id": "bd30d78e",
   "metadata": {
    "id": "bd30d78e"
   },
   "source": [
    "Describe brevemente tus hallazgos y lo que hiciste con ellos.\n",
    "\n",
    "En este caso está bien que no haya duplicados ya que este DF solo contiene los departamentos unicos que existen en la tienda."
   ]
  },
  {
   "cell_type": "markdown",
   "id": "889349c1",
   "metadata": {
    "id": "889349c1"
   },
   "source": [
    "### `aisles` data frame"
   ]
  },
  {
   "cell_type": "code",
   "execution_count": 30,
   "id": "9da89fb9-4679-40f5-ad0d-c34df753a3f8",
   "metadata": {
    "id": "9da89fb9-4679-40f5-ad0d-c34df753a3f8"
   },
   "outputs": [
    {
     "data": {
      "text/plain": [
       "0"
      ]
     },
     "execution_count": 30,
     "metadata": {},
     "output_type": "execute_result"
    }
   ],
   "source": [
    "# Revisa si hay filas totalmente duplicadas\n",
    "aisles.duplicated().sum()"
   ]
  },
  {
   "cell_type": "code",
   "execution_count": 31,
   "id": "da7c2822",
   "metadata": {
    "id": "da7c2822"
   },
   "outputs": [
    {
     "data": {
      "text/plain": [
       "0"
      ]
     },
     "execution_count": 31,
     "metadata": {},
     "output_type": "execute_result"
    }
   ],
   "source": [
    "# Revisa únicamente si hay IDs duplicadas de productos\n",
    "aisles['aisle_id'].duplicated().sum()"
   ]
  },
  {
   "cell_type": "markdown",
   "id": "ac63826f",
   "metadata": {
    "id": "ac63826f"
   },
   "source": [
    "Describe brevemente tus hallazgos y lo que hiciste con ellos.\n",
    "\n",
    "También, no hay duplicados (o no debería) porque son solamente los pasillos a los que pertenecen los productos."
   ]
  },
  {
   "cell_type": "markdown",
   "id": "274cd06a",
   "metadata": {
    "id": "274cd06a"
   },
   "source": [
    "### `order_products` data frame"
   ]
  },
  {
   "cell_type": "code",
   "execution_count": 32,
   "id": "52326689-84a8-4b8f-a881-7c68780f62c9",
   "metadata": {
    "id": "52326689-84a8-4b8f-a881-7c68780f62c9"
   },
   "outputs": [
    {
     "data": {
      "text/plain": [
       "0"
      ]
     },
     "execution_count": 32,
     "metadata": {},
     "output_type": "execute_result"
    }
   ],
   "source": [
    "# Revisa si hay filas totalmente duplicadas\n",
    "order_products.duplicated().sum()"
   ]
  },
  {
   "cell_type": "code",
   "execution_count": 33,
   "id": "7b861391",
   "metadata": {
    "id": "7b861391"
   },
   "outputs": [
    {
     "data": {
      "text/plain": [
       "0"
      ]
     },
     "execution_count": 33,
     "metadata": {},
     "output_type": "execute_result"
    }
   ],
   "source": [
    "# Vuelve a verificar si hay cualquier otro duplicado engañoso\n",
    "order_products[['order_id', 'product_id']].duplicated().sum()"
   ]
  },
  {
   "cell_type": "markdown",
   "id": "86c9b4dc",
   "metadata": {},
   "source": [
    "<div class=\"alert alert-block alert-success\">\n",
    "<b>Comentario del revisor (1era Iteracion)</b> <a class=“tocSkip”></a>\n",
    "\n",
    "Buen trabajo con el dataset de `aisles`, `departments`, y `order_products`!\n",
    "</div>"
   ]
  },
  {
   "cell_type": "markdown",
   "id": "0b890492",
   "metadata": {
    "id": "0b890492"
   },
   "source": [
    "Describe brevemente tus hallazgos y lo que hiciste con ellos.\n",
    "\n",
    "En combinación de esas dos columnas no debería de haber ningún duplicado ya que no es solo la orden única al realizar un pedido sino es justo la combinación para el producto, y de haberlo, se deberían eliminar ya que sería otra falla en el sistema, en este caso no hay problemas."
   ]
  },
  {
   "cell_type": "markdown",
   "id": "1e46de76",
   "metadata": {
    "id": "1e46de76"
   },
   "source": [
    "## Encuentra y elimina los valores ausentes\n",
    "\n",
    "Al trabajar con valores duplicados, pudimos observar que también nos falta investigar valores ausentes:\n",
    "\n",
    "* La columna `'product_name'` de la tabla products.\n",
    "* La columna `'days_since_prior_order'` de la tabla orders.\n",
    "* La columna `'add_to_cart_order'` de la tabla order_productos."
   ]
  },
  {
   "cell_type": "markdown",
   "id": "c0aebd78",
   "metadata": {
    "id": "c0aebd78"
   },
   "source": [
    "### `products` data frame"
   ]
  },
  {
   "cell_type": "code",
   "execution_count": 34,
   "id": "fe4a8b0f",
   "metadata": {
    "id": "fe4a8b0f"
   },
   "outputs": [
    {
     "data": {
      "text/html": [
       "<div>\n",
       "<style scoped>\n",
       "    .dataframe tbody tr th:only-of-type {\n",
       "        vertical-align: middle;\n",
       "    }\n",
       "\n",
       "    .dataframe tbody tr th {\n",
       "        vertical-align: top;\n",
       "    }\n",
       "\n",
       "    .dataframe thead th {\n",
       "        text-align: right;\n",
       "    }\n",
       "</style>\n",
       "<table border=\"1\" class=\"dataframe\">\n",
       "  <thead>\n",
       "    <tr style=\"text-align: right;\">\n",
       "      <th></th>\n",
       "      <th>product_id</th>\n",
       "      <th>product_name</th>\n",
       "      <th>aisle_id</th>\n",
       "      <th>department_id</th>\n",
       "    </tr>\n",
       "  </thead>\n",
       "  <tbody>\n",
       "    <tr>\n",
       "      <th>37</th>\n",
       "      <td>38</td>\n",
       "      <td>NaN</td>\n",
       "      <td>100</td>\n",
       "      <td>21</td>\n",
       "    </tr>\n",
       "    <tr>\n",
       "      <th>71</th>\n",
       "      <td>72</td>\n",
       "      <td>NaN</td>\n",
       "      <td>100</td>\n",
       "      <td>21</td>\n",
       "    </tr>\n",
       "    <tr>\n",
       "      <th>109</th>\n",
       "      <td>110</td>\n",
       "      <td>NaN</td>\n",
       "      <td>100</td>\n",
       "      <td>21</td>\n",
       "    </tr>\n",
       "    <tr>\n",
       "      <th>296</th>\n",
       "      <td>297</td>\n",
       "      <td>NaN</td>\n",
       "      <td>100</td>\n",
       "      <td>21</td>\n",
       "    </tr>\n",
       "    <tr>\n",
       "      <th>416</th>\n",
       "      <td>417</td>\n",
       "      <td>NaN</td>\n",
       "      <td>100</td>\n",
       "      <td>21</td>\n",
       "    </tr>\n",
       "    <tr>\n",
       "      <th>...</th>\n",
       "      <td>...</td>\n",
       "      <td>...</td>\n",
       "      <td>...</td>\n",
       "      <td>...</td>\n",
       "    </tr>\n",
       "    <tr>\n",
       "      <th>49552</th>\n",
       "      <td>49553</td>\n",
       "      <td>NaN</td>\n",
       "      <td>100</td>\n",
       "      <td>21</td>\n",
       "    </tr>\n",
       "    <tr>\n",
       "      <th>49574</th>\n",
       "      <td>49575</td>\n",
       "      <td>NaN</td>\n",
       "      <td>100</td>\n",
       "      <td>21</td>\n",
       "    </tr>\n",
       "    <tr>\n",
       "      <th>49640</th>\n",
       "      <td>49641</td>\n",
       "      <td>NaN</td>\n",
       "      <td>100</td>\n",
       "      <td>21</td>\n",
       "    </tr>\n",
       "    <tr>\n",
       "      <th>49663</th>\n",
       "      <td>49664</td>\n",
       "      <td>NaN</td>\n",
       "      <td>100</td>\n",
       "      <td>21</td>\n",
       "    </tr>\n",
       "    <tr>\n",
       "      <th>49668</th>\n",
       "      <td>49669</td>\n",
       "      <td>NaN</td>\n",
       "      <td>100</td>\n",
       "      <td>21</td>\n",
       "    </tr>\n",
       "  </tbody>\n",
       "</table>\n",
       "<p>1258 rows × 4 columns</p>\n",
       "</div>"
      ],
      "text/plain": [
       "       product_id product_name  aisle_id  department_id\n",
       "37             38          NaN       100             21\n",
       "71             72          NaN       100             21\n",
       "109           110          NaN       100             21\n",
       "296           297          NaN       100             21\n",
       "416           417          NaN       100             21\n",
       "...           ...          ...       ...            ...\n",
       "49552       49553          NaN       100             21\n",
       "49574       49575          NaN       100             21\n",
       "49640       49641          NaN       100             21\n",
       "49663       49664          NaN       100             21\n",
       "49668       49669          NaN       100             21\n",
       "\n",
       "[1258 rows x 4 columns]"
      ]
     },
     "execution_count": 34,
     "metadata": {},
     "output_type": "execute_result"
    }
   ],
   "source": [
    "# Encuentra los valores ausentes en la columna 'product_name'\n",
    "products[products['product_name'].isna()]"
   ]
  },
  {
   "cell_type": "markdown",
   "id": "-A6x1AbJhjkp",
   "metadata": {
    "id": "-A6x1AbJhjkp"
   },
   "source": [
    "Describe brevemente cuáles son tus hallazgos.\n",
    "\n",
    "Hay 1258 valores ausentes de acuerdo a la columna 'product_name'"
   ]
  },
  {
   "cell_type": "code",
   "execution_count": 35,
   "id": "e96167bc",
   "metadata": {
    "id": "e96167bc"
   },
   "outputs": [
    {
     "data": {
      "text/plain": [
       "100    1258\n",
       "Name: aisle_id, dtype: int64"
      ]
     },
     "execution_count": 35,
     "metadata": {},
     "output_type": "execute_result"
    }
   ],
   "source": [
    "#  ¿Todos los nombres de productos ausentes están relacionados con el pasillo con ID 100?\n",
    "products[products['product_name'].isna()]['aisle_id'].value_counts()"
   ]
  },
  {
   "cell_type": "markdown",
   "id": "WRpIfXRphpSL",
   "metadata": {
    "id": "WRpIfXRphpSL"
   },
   "source": [
    "Describe brevemente cuáles son tus hallazgos.\n",
    "\n",
    "Efectivamentes, todos los valores ausentes son en este pasillo de haber más, se vería reflejado en el resultado al haber usado '.value_counts()'"
   ]
  },
  {
   "cell_type": "code",
   "execution_count": 36,
   "id": "8fd0a541",
   "metadata": {
    "id": "8fd0a541"
   },
   "outputs": [
    {
     "data": {
      "text/plain": [
       "array([21])"
      ]
     },
     "execution_count": 36,
     "metadata": {},
     "output_type": "execute_result"
    }
   ],
   "source": [
    "# ¿Todos los nombres de productos ausentes están relacionados con el departamento con ID 21?\n",
    "products[products['product_name'].isna()]['department_id'].unique()"
   ]
  },
  {
   "cell_type": "markdown",
   "id": "qDpdYn1Fht_I",
   "metadata": {
    "id": "qDpdYn1Fht_I"
   },
   "source": [
    "Describe brevemente cuáles son tus hallazgos.\n",
    "\n",
    "Ningún nombre está relacionado con el pasillo ID 21"
   ]
  },
  {
   "cell_type": "code",
   "execution_count": 37,
   "id": "325c3464",
   "metadata": {
    "id": "325c3464"
   },
   "outputs": [],
   "source": [
    "# Usa las tablas department y aisle para revisar los datos del pasillo con ID 100 y el departamento con ID 21."
   ]
  },
  {
   "cell_type": "markdown",
   "id": "nqhSTUPhhvEJ",
   "metadata": {
    "id": "nqhSTUPhhvEJ"
   },
   "source": [
    "Describe brevemente cuáles son tus hallazgos.\n",
    "\n",
    "En ambos casos el ID de ese departamento y ese pasillo no está asignado a nada "
   ]
  },
  {
   "cell_type": "code",
   "execution_count": 38,
   "id": "8adcff43",
   "metadata": {},
   "outputs": [
    {
     "data": {
      "text/html": [
       "<div>\n",
       "<style scoped>\n",
       "    .dataframe tbody tr th:only-of-type {\n",
       "        vertical-align: middle;\n",
       "    }\n",
       "\n",
       "    .dataframe tbody tr th {\n",
       "        vertical-align: top;\n",
       "    }\n",
       "\n",
       "    .dataframe thead th {\n",
       "        text-align: right;\n",
       "    }\n",
       "</style>\n",
       "<table border=\"1\" class=\"dataframe\">\n",
       "  <thead>\n",
       "    <tr style=\"text-align: right;\">\n",
       "      <th></th>\n",
       "      <th>department_id</th>\n",
       "      <th>department</th>\n",
       "    </tr>\n",
       "  </thead>\n",
       "  <tbody>\n",
       "    <tr>\n",
       "      <th>20</th>\n",
       "      <td>21</td>\n",
       "      <td>missing</td>\n",
       "    </tr>\n",
       "  </tbody>\n",
       "</table>\n",
       "</div>"
      ],
      "text/plain": [
       "    department_id department\n",
       "20             21    missing"
      ]
     },
     "execution_count": 38,
     "metadata": {},
     "output_type": "execute_result"
    }
   ],
   "source": [
    "dptos[dptos['department_id']==21]"
   ]
  },
  {
   "cell_type": "code",
   "execution_count": 39,
   "id": "3f4cedef",
   "metadata": {},
   "outputs": [
    {
     "data": {
      "text/html": [
       "<div>\n",
       "<style scoped>\n",
       "    .dataframe tbody tr th:only-of-type {\n",
       "        vertical-align: middle;\n",
       "    }\n",
       "\n",
       "    .dataframe tbody tr th {\n",
       "        vertical-align: top;\n",
       "    }\n",
       "\n",
       "    .dataframe thead th {\n",
       "        text-align: right;\n",
       "    }\n",
       "</style>\n",
       "<table border=\"1\" class=\"dataframe\">\n",
       "  <thead>\n",
       "    <tr style=\"text-align: right;\">\n",
       "      <th></th>\n",
       "      <th>aisle_id</th>\n",
       "      <th>aisle</th>\n",
       "    </tr>\n",
       "  </thead>\n",
       "  <tbody>\n",
       "    <tr>\n",
       "      <th>99</th>\n",
       "      <td>100</td>\n",
       "      <td>missing</td>\n",
       "    </tr>\n",
       "  </tbody>\n",
       "</table>\n",
       "</div>"
      ],
      "text/plain": [
       "    aisle_id    aisle\n",
       "99       100  missing"
      ]
     },
     "execution_count": 39,
     "metadata": {},
     "output_type": "execute_result"
    }
   ],
   "source": [
    "aisles[aisles['aisle_id']== 100]"
   ]
  },
  {
   "cell_type": "code",
   "execution_count": 40,
   "id": "6b295120",
   "metadata": {
    "id": "6b295120"
   },
   "outputs": [],
   "source": [
    "# Completa los nombres de productos ausentes con 'Unknown'\n",
    "products['product_name'] = products['product_name'].fillna('Unknown')"
   ]
  },
  {
   "cell_type": "code",
   "execution_count": 41,
   "id": "1aa774b1",
   "metadata": {},
   "outputs": [
    {
     "data": {
      "text/html": [
       "<div>\n",
       "<style scoped>\n",
       "    .dataframe tbody tr th:only-of-type {\n",
       "        vertical-align: middle;\n",
       "    }\n",
       "\n",
       "    .dataframe tbody tr th {\n",
       "        vertical-align: top;\n",
       "    }\n",
       "\n",
       "    .dataframe thead th {\n",
       "        text-align: right;\n",
       "    }\n",
       "</style>\n",
       "<table border=\"1\" class=\"dataframe\">\n",
       "  <thead>\n",
       "    <tr style=\"text-align: right;\">\n",
       "      <th></th>\n",
       "      <th>product_id</th>\n",
       "      <th>product_name</th>\n",
       "      <th>aisle_id</th>\n",
       "      <th>department_id</th>\n",
       "    </tr>\n",
       "  </thead>\n",
       "  <tbody>\n",
       "  </tbody>\n",
       "</table>\n",
       "</div>"
      ],
      "text/plain": [
       "Empty DataFrame\n",
       "Columns: [product_id, product_name, aisle_id, department_id]\n",
       "Index: []"
      ]
     },
     "execution_count": 41,
     "metadata": {},
     "output_type": "execute_result"
    }
   ],
   "source": [
    "products[products['product_name'].isna()]"
   ]
  },
  {
   "cell_type": "markdown",
   "id": "fc70e5ad",
   "metadata": {
    "id": "fc70e5ad"
   },
   "source": [
    "Describe brevemente tus hallazgos y lo que hiciste con ellos.\n",
    "\n",
    "Usando fillna se reemplazaron los valores ausentes y como comprobación puse una línea mas para obtener valores ausentes si hubieran de acuerdo a 'product_name'"
   ]
  },
  {
   "cell_type": "markdown",
   "id": "a3ce8026",
   "metadata": {},
   "source": [
    "<div class=\"alert alert-block alert-success\">\n",
    "<b>Comentario del revisor (1era Iteracion)</b> <a class=“tocSkip”></a>\n",
    "\n",
    "Muy buen trabajo! Encontraste los valores ausentes y llegaste a las conclusiones adecuadas\n",
    "</div>"
   ]
  },
  {
   "cell_type": "markdown",
   "id": "7eb45c86",
   "metadata": {
    "id": "7eb45c86"
   },
   "source": [
    "### `orders` data frame"
   ]
  },
  {
   "cell_type": "code",
   "execution_count": 42,
   "id": "93e41d96",
   "metadata": {
    "id": "93e41d96"
   },
   "outputs": [
    {
     "data": {
      "text/html": [
       "<div>\n",
       "<style scoped>\n",
       "    .dataframe tbody tr th:only-of-type {\n",
       "        vertical-align: middle;\n",
       "    }\n",
       "\n",
       "    .dataframe tbody tr th {\n",
       "        vertical-align: top;\n",
       "    }\n",
       "\n",
       "    .dataframe thead th {\n",
       "        text-align: right;\n",
       "    }\n",
       "</style>\n",
       "<table border=\"1\" class=\"dataframe\">\n",
       "  <thead>\n",
       "    <tr style=\"text-align: right;\">\n",
       "      <th></th>\n",
       "      <th>order_id</th>\n",
       "      <th>user_id</th>\n",
       "      <th>order_number</th>\n",
       "      <th>order_dow</th>\n",
       "      <th>order_hour_of_day</th>\n",
       "      <th>days_since_prior_order</th>\n",
       "    </tr>\n",
       "  </thead>\n",
       "  <tbody>\n",
       "    <tr>\n",
       "      <th>28</th>\n",
       "      <td>133707</td>\n",
       "      <td>182261</td>\n",
       "      <td>1</td>\n",
       "      <td>3</td>\n",
       "      <td>10</td>\n",
       "      <td>NaN</td>\n",
       "    </tr>\n",
       "    <tr>\n",
       "      <th>96</th>\n",
       "      <td>787445</td>\n",
       "      <td>25685</td>\n",
       "      <td>1</td>\n",
       "      <td>6</td>\n",
       "      <td>18</td>\n",
       "      <td>NaN</td>\n",
       "    </tr>\n",
       "    <tr>\n",
       "      <th>100</th>\n",
       "      <td>294410</td>\n",
       "      <td>111449</td>\n",
       "      <td>1</td>\n",
       "      <td>0</td>\n",
       "      <td>19</td>\n",
       "      <td>NaN</td>\n",
       "    </tr>\n",
       "    <tr>\n",
       "      <th>103</th>\n",
       "      <td>2869915</td>\n",
       "      <td>123958</td>\n",
       "      <td>1</td>\n",
       "      <td>4</td>\n",
       "      <td>16</td>\n",
       "      <td>NaN</td>\n",
       "    </tr>\n",
       "    <tr>\n",
       "      <th>104</th>\n",
       "      <td>2521921</td>\n",
       "      <td>42286</td>\n",
       "      <td>1</td>\n",
       "      <td>3</td>\n",
       "      <td>18</td>\n",
       "      <td>NaN</td>\n",
       "    </tr>\n",
       "    <tr>\n",
       "      <th>...</th>\n",
       "      <td>...</td>\n",
       "      <td>...</td>\n",
       "      <td>...</td>\n",
       "      <td>...</td>\n",
       "      <td>...</td>\n",
       "      <td>...</td>\n",
       "    </tr>\n",
       "    <tr>\n",
       "      <th>478895</th>\n",
       "      <td>2589657</td>\n",
       "      <td>205028</td>\n",
       "      <td>1</td>\n",
       "      <td>0</td>\n",
       "      <td>16</td>\n",
       "      <td>NaN</td>\n",
       "    </tr>\n",
       "    <tr>\n",
       "      <th>478896</th>\n",
       "      <td>2222353</td>\n",
       "      <td>141211</td>\n",
       "      <td>1</td>\n",
       "      <td>2</td>\n",
       "      <td>13</td>\n",
       "      <td>NaN</td>\n",
       "    </tr>\n",
       "    <tr>\n",
       "      <th>478922</th>\n",
       "      <td>2272807</td>\n",
       "      <td>204154</td>\n",
       "      <td>1</td>\n",
       "      <td>1</td>\n",
       "      <td>15</td>\n",
       "      <td>NaN</td>\n",
       "    </tr>\n",
       "    <tr>\n",
       "      <th>478926</th>\n",
       "      <td>2499542</td>\n",
       "      <td>68810</td>\n",
       "      <td>1</td>\n",
       "      <td>4</td>\n",
       "      <td>19</td>\n",
       "      <td>NaN</td>\n",
       "    </tr>\n",
       "    <tr>\n",
       "      <th>478945</th>\n",
       "      <td>1387033</td>\n",
       "      <td>22496</td>\n",
       "      <td>1</td>\n",
       "      <td>5</td>\n",
       "      <td>14</td>\n",
       "      <td>NaN</td>\n",
       "    </tr>\n",
       "  </tbody>\n",
       "</table>\n",
       "<p>28817 rows × 6 columns</p>\n",
       "</div>"
      ],
      "text/plain": [
       "        order_id  user_id  order_number  order_dow  order_hour_of_day  \\\n",
       "28        133707   182261             1          3                 10   \n",
       "96        787445    25685             1          6                 18   \n",
       "100       294410   111449             1          0                 19   \n",
       "103      2869915   123958             1          4                 16   \n",
       "104      2521921    42286             1          3                 18   \n",
       "...          ...      ...           ...        ...                ...   \n",
       "478895   2589657   205028             1          0                 16   \n",
       "478896   2222353   141211             1          2                 13   \n",
       "478922   2272807   204154             1          1                 15   \n",
       "478926   2499542    68810             1          4                 19   \n",
       "478945   1387033    22496             1          5                 14   \n",
       "\n",
       "        days_since_prior_order  \n",
       "28                         NaN  \n",
       "96                         NaN  \n",
       "100                        NaN  \n",
       "103                        NaN  \n",
       "104                        NaN  \n",
       "...                        ...  \n",
       "478895                     NaN  \n",
       "478896                     NaN  \n",
       "478922                     NaN  \n",
       "478926                     NaN  \n",
       "478945                     NaN  \n",
       "\n",
       "[28817 rows x 6 columns]"
      ]
     },
     "execution_count": 42,
     "metadata": {},
     "output_type": "execute_result"
    }
   ],
   "source": [
    "# Encuentra los valores ausentes\n",
    "orders[orders['days_since_prior_order'].isna()]"
   ]
  },
  {
   "cell_type": "code",
   "execution_count": 43,
   "id": "166e5a86",
   "metadata": {
    "id": "166e5a86"
   },
   "outputs": [
    {
     "data": {
      "text/html": [
       "<div>\n",
       "<style scoped>\n",
       "    .dataframe tbody tr th:only-of-type {\n",
       "        vertical-align: middle;\n",
       "    }\n",
       "\n",
       "    .dataframe tbody tr th {\n",
       "        vertical-align: top;\n",
       "    }\n",
       "\n",
       "    .dataframe thead th {\n",
       "        text-align: right;\n",
       "    }\n",
       "</style>\n",
       "<table border=\"1\" class=\"dataframe\">\n",
       "  <thead>\n",
       "    <tr style=\"text-align: right;\">\n",
       "      <th></th>\n",
       "      <th>order_id</th>\n",
       "      <th>user_id</th>\n",
       "      <th>order_number</th>\n",
       "      <th>order_dow</th>\n",
       "      <th>order_hour_of_day</th>\n",
       "      <th>days_since_prior_order</th>\n",
       "    </tr>\n",
       "  </thead>\n",
       "  <tbody>\n",
       "    <tr>\n",
       "      <th>28</th>\n",
       "      <td>133707</td>\n",
       "      <td>182261</td>\n",
       "      <td>1</td>\n",
       "      <td>3</td>\n",
       "      <td>10</td>\n",
       "      <td>NaN</td>\n",
       "    </tr>\n",
       "    <tr>\n",
       "      <th>96</th>\n",
       "      <td>787445</td>\n",
       "      <td>25685</td>\n",
       "      <td>1</td>\n",
       "      <td>6</td>\n",
       "      <td>18</td>\n",
       "      <td>NaN</td>\n",
       "    </tr>\n",
       "    <tr>\n",
       "      <th>100</th>\n",
       "      <td>294410</td>\n",
       "      <td>111449</td>\n",
       "      <td>1</td>\n",
       "      <td>0</td>\n",
       "      <td>19</td>\n",
       "      <td>NaN</td>\n",
       "    </tr>\n",
       "    <tr>\n",
       "      <th>103</th>\n",
       "      <td>2869915</td>\n",
       "      <td>123958</td>\n",
       "      <td>1</td>\n",
       "      <td>4</td>\n",
       "      <td>16</td>\n",
       "      <td>NaN</td>\n",
       "    </tr>\n",
       "    <tr>\n",
       "      <th>104</th>\n",
       "      <td>2521921</td>\n",
       "      <td>42286</td>\n",
       "      <td>1</td>\n",
       "      <td>3</td>\n",
       "      <td>18</td>\n",
       "      <td>NaN</td>\n",
       "    </tr>\n",
       "    <tr>\n",
       "      <th>...</th>\n",
       "      <td>...</td>\n",
       "      <td>...</td>\n",
       "      <td>...</td>\n",
       "      <td>...</td>\n",
       "      <td>...</td>\n",
       "      <td>...</td>\n",
       "    </tr>\n",
       "    <tr>\n",
       "      <th>478895</th>\n",
       "      <td>2589657</td>\n",
       "      <td>205028</td>\n",
       "      <td>1</td>\n",
       "      <td>0</td>\n",
       "      <td>16</td>\n",
       "      <td>NaN</td>\n",
       "    </tr>\n",
       "    <tr>\n",
       "      <th>478896</th>\n",
       "      <td>2222353</td>\n",
       "      <td>141211</td>\n",
       "      <td>1</td>\n",
       "      <td>2</td>\n",
       "      <td>13</td>\n",
       "      <td>NaN</td>\n",
       "    </tr>\n",
       "    <tr>\n",
       "      <th>478922</th>\n",
       "      <td>2272807</td>\n",
       "      <td>204154</td>\n",
       "      <td>1</td>\n",
       "      <td>1</td>\n",
       "      <td>15</td>\n",
       "      <td>NaN</td>\n",
       "    </tr>\n",
       "    <tr>\n",
       "      <th>478926</th>\n",
       "      <td>2499542</td>\n",
       "      <td>68810</td>\n",
       "      <td>1</td>\n",
       "      <td>4</td>\n",
       "      <td>19</td>\n",
       "      <td>NaN</td>\n",
       "    </tr>\n",
       "    <tr>\n",
       "      <th>478945</th>\n",
       "      <td>1387033</td>\n",
       "      <td>22496</td>\n",
       "      <td>1</td>\n",
       "      <td>5</td>\n",
       "      <td>14</td>\n",
       "      <td>NaN</td>\n",
       "    </tr>\n",
       "  </tbody>\n",
       "</table>\n",
       "<p>28817 rows × 6 columns</p>\n",
       "</div>"
      ],
      "text/plain": [
       "        order_id  user_id  order_number  order_dow  order_hour_of_day  \\\n",
       "28        133707   182261             1          3                 10   \n",
       "96        787445    25685             1          6                 18   \n",
       "100       294410   111449             1          0                 19   \n",
       "103      2869915   123958             1          4                 16   \n",
       "104      2521921    42286             1          3                 18   \n",
       "...          ...      ...           ...        ...                ...   \n",
       "478895   2589657   205028             1          0                 16   \n",
       "478896   2222353   141211             1          2                 13   \n",
       "478922   2272807   204154             1          1                 15   \n",
       "478926   2499542    68810             1          4                 19   \n",
       "478945   1387033    22496             1          5                 14   \n",
       "\n",
       "        days_since_prior_order  \n",
       "28                         NaN  \n",
       "96                         NaN  \n",
       "100                        NaN  \n",
       "103                        NaN  \n",
       "104                        NaN  \n",
       "...                        ...  \n",
       "478895                     NaN  \n",
       "478896                     NaN  \n",
       "478922                     NaN  \n",
       "478926                     NaN  \n",
       "478945                     NaN  \n",
       "\n",
       "[28817 rows x 6 columns]"
      ]
     },
     "execution_count": 43,
     "metadata": {},
     "output_type": "execute_result"
    }
   ],
   "source": [
    "# ¿Hay algún valor ausente que no sea el primer pedido del cliente?\n",
    "orders[orders['order_number'] == 1]"
   ]
  },
  {
   "cell_type": "code",
   "execution_count": 44,
   "id": "91b6fdb0",
   "metadata": {},
   "outputs": [
    {
     "data": {
      "text/plain": [
       "order_id                  0\n",
       "user_id                   0\n",
       "order_number              0\n",
       "order_dow                 0\n",
       "order_hour_of_day         0\n",
       "days_since_prior_order    0\n",
       "dtype: int64"
      ]
     },
     "execution_count": 44,
     "metadata": {},
     "output_type": "execute_result"
    }
   ],
   "source": [
    "orders[orders['order_number'] >=2].isna().sum()"
   ]
  },
  {
   "cell_type": "markdown",
   "id": "4e23d089",
   "metadata": {
    "id": "4e23d089"
   },
   "source": [
    "Describe brevemente tus hallazgos y lo que hiciste con ellos.\n",
    "\n",
    "Realmente no hay que reemplazar valores ya que se trata de valores que eventualmente se actualizarán porque aún no se han realizado pedidos por parte del cliente así que sí, esos valores NaN están relacionados al primer pedido del cliente"
   ]
  },
  {
   "cell_type": "markdown",
   "id": "4dfca561",
   "metadata": {},
   "source": [
    "<div class=\"alert alert-block alert-success\">\n",
    "<b>Comentario del revisor (1era Iteracion)</b> <a class=“tocSkip”></a>\n",
    "\n",
    "Muy buen trabajo! Encontraste los valores ausentes analizaste de forma correcta respecto a si son en la primer orden\n",
    "</div>"
   ]
  },
  {
   "cell_type": "markdown",
   "id": "69dc9ca4",
   "metadata": {
    "id": "69dc9ca4"
   },
   "source": [
    "### `order_products` data frame"
   ]
  },
  {
   "cell_type": "code",
   "execution_count": 45,
   "id": "b8240253",
   "metadata": {
    "id": "b8240253"
   },
   "outputs": [
    {
     "data": {
      "text/html": [
       "<div>\n",
       "<style scoped>\n",
       "    .dataframe tbody tr th:only-of-type {\n",
       "        vertical-align: middle;\n",
       "    }\n",
       "\n",
       "    .dataframe tbody tr th {\n",
       "        vertical-align: top;\n",
       "    }\n",
       "\n",
       "    .dataframe thead th {\n",
       "        text-align: right;\n",
       "    }\n",
       "</style>\n",
       "<table border=\"1\" class=\"dataframe\">\n",
       "  <thead>\n",
       "    <tr style=\"text-align: right;\">\n",
       "      <th></th>\n",
       "      <th>order_id</th>\n",
       "      <th>product_id</th>\n",
       "      <th>add_to_cart_order</th>\n",
       "      <th>reordered</th>\n",
       "    </tr>\n",
       "  </thead>\n",
       "  <tbody>\n",
       "    <tr>\n",
       "      <th>737</th>\n",
       "      <td>2449164</td>\n",
       "      <td>5068</td>\n",
       "      <td>NaN</td>\n",
       "      <td>0</td>\n",
       "    </tr>\n",
       "    <tr>\n",
       "      <th>9926</th>\n",
       "      <td>1968313</td>\n",
       "      <td>43867</td>\n",
       "      <td>NaN</td>\n",
       "      <td>0</td>\n",
       "    </tr>\n",
       "    <tr>\n",
       "      <th>14394</th>\n",
       "      <td>2926893</td>\n",
       "      <td>11688</td>\n",
       "      <td>NaN</td>\n",
       "      <td>0</td>\n",
       "    </tr>\n",
       "    <tr>\n",
       "      <th>16418</th>\n",
       "      <td>1717990</td>\n",
       "      <td>4142</td>\n",
       "      <td>NaN</td>\n",
       "      <td>0</td>\n",
       "    </tr>\n",
       "    <tr>\n",
       "      <th>30114</th>\n",
       "      <td>1959075</td>\n",
       "      <td>42828</td>\n",
       "      <td>NaN</td>\n",
       "      <td>1</td>\n",
       "    </tr>\n",
       "    <tr>\n",
       "      <th>...</th>\n",
       "      <td>...</td>\n",
       "      <td>...</td>\n",
       "      <td>...</td>\n",
       "      <td>...</td>\n",
       "    </tr>\n",
       "    <tr>\n",
       "      <th>4505662</th>\n",
       "      <td>1800005</td>\n",
       "      <td>7411</td>\n",
       "      <td>NaN</td>\n",
       "      <td>0</td>\n",
       "    </tr>\n",
       "    <tr>\n",
       "      <th>4511400</th>\n",
       "      <td>1633337</td>\n",
       "      <td>260</td>\n",
       "      <td>NaN</td>\n",
       "      <td>0</td>\n",
       "    </tr>\n",
       "    <tr>\n",
       "      <th>4517562</th>\n",
       "      <td>404157</td>\n",
       "      <td>9517</td>\n",
       "      <td>NaN</td>\n",
       "      <td>0</td>\n",
       "    </tr>\n",
       "    <tr>\n",
       "      <th>4534112</th>\n",
       "      <td>1673227</td>\n",
       "      <td>17835</td>\n",
       "      <td>NaN</td>\n",
       "      <td>0</td>\n",
       "    </tr>\n",
       "    <tr>\n",
       "      <th>4535739</th>\n",
       "      <td>1832957</td>\n",
       "      <td>17949</td>\n",
       "      <td>NaN</td>\n",
       "      <td>1</td>\n",
       "    </tr>\n",
       "  </tbody>\n",
       "</table>\n",
       "<p>836 rows × 4 columns</p>\n",
       "</div>"
      ],
      "text/plain": [
       "         order_id  product_id  add_to_cart_order  reordered\n",
       "737       2449164        5068                NaN          0\n",
       "9926      1968313       43867                NaN          0\n",
       "14394     2926893       11688                NaN          0\n",
       "16418     1717990        4142                NaN          0\n",
       "30114     1959075       42828                NaN          1\n",
       "...           ...         ...                ...        ...\n",
       "4505662   1800005        7411                NaN          0\n",
       "4511400   1633337         260                NaN          0\n",
       "4517562    404157        9517                NaN          0\n",
       "4534112   1673227       17835                NaN          0\n",
       "4535739   1832957       17949                NaN          1\n",
       "\n",
       "[836 rows x 4 columns]"
      ]
     },
     "execution_count": 45,
     "metadata": {},
     "output_type": "execute_result"
    }
   ],
   "source": [
    "# Encuentra los valores ausentes\n",
    "order_products[order_products['add_to_cart_order'].isna()]"
   ]
  },
  {
   "cell_type": "code",
   "execution_count": 46,
   "id": "9a78e5ee",
   "metadata": {
    "id": "9a78e5ee"
   },
   "outputs": [
    {
     "data": {
      "text/plain": [
       "1.0"
      ]
     },
     "execution_count": 46,
     "metadata": {},
     "output_type": "execute_result"
    }
   ],
   "source": [
    "# ¿Cuáles son los valores mínimos y máximos en esta columna?\n",
    "order_products['add_to_cart_order'].min()"
   ]
  },
  {
   "cell_type": "code",
   "execution_count": 47,
   "id": "ed4c7379",
   "metadata": {
    "scrolled": true
   },
   "outputs": [
    {
     "data": {
      "text/plain": [
       "64.0"
      ]
     },
     "execution_count": 47,
     "metadata": {},
     "output_type": "execute_result"
    }
   ],
   "source": [
    "order_products['add_to_cart_order'].max()"
   ]
  },
  {
   "cell_type": "markdown",
   "id": "4c1dde33",
   "metadata": {},
   "source": [
    "<div class=\"alert alert-block alert-success\">\n",
    "<b>Comentario del revisor (1era Iteracion)</b> <a class=“tocSkip”></a>\n",
    "\n",
    "Buen trabajo con el cálculo del valor máximo y mínimo\n",
    "</div>"
   ]
  },
  {
   "cell_type": "markdown",
   "id": "-Z2Ja215jW78",
   "metadata": {
    "id": "-Z2Ja215jW78"
   },
   "source": [
    "Describe brevemente cuáles son tus hallazgos.\n",
    "\n",
    "De acuerdo a los resultados parece que el máximo de productos agregados son 64 pero hay que comprobarlo."
   ]
  },
  {
   "cell_type": "code",
   "execution_count": 48,
   "id": "ab9d0c2b",
   "metadata": {
    "id": "ab9d0c2b"
   },
   "outputs": [],
   "source": [
    "# Guarda todas las IDs de pedidos que tengan un valor ausente en 'add_to_cart_order'\n",
    "orders_id_nan = order_products[order_products['add_to_cart_order'].isna()]['order_id']"
   ]
  },
  {
   "cell_type": "code",
   "execution_count": 49,
   "id": "54c31695",
   "metadata": {
    "id": "54c31695"
   },
   "outputs": [],
   "source": [
    "# ¿Todos los pedidos con valores ausentes tienen más de 64 productos?\n",
    "# Agrupa todos los pedidos con datos ausentes por su ID de pedido.\n",
    "# Cuenta el número de 'product_id' en cada pedido y revisa el valor mínimo del conteo.\n"
   ]
  },
  {
   "cell_type": "code",
   "execution_count": 50,
   "id": "5e46e585",
   "metadata": {},
   "outputs": [],
   "source": [
    "prod_per_order =order_products[order_products['order_id'].isin(orders_id_nan)]\n"
   ]
  },
  {
   "cell_type": "code",
   "execution_count": 51,
   "id": "fe3c99c0",
   "metadata": {},
   "outputs": [],
   "source": [
    "size = (prod_per_order.groupby('order_id').size())"
   ]
  },
  {
   "cell_type": "code",
   "execution_count": 52,
   "id": "452a4125",
   "metadata": {},
   "outputs": [
    {
     "data": {
      "text/plain": [
       "65"
      ]
     },
     "execution_count": 52,
     "metadata": {},
     "output_type": "execute_result"
    }
   ],
   "source": [
    "size.min()"
   ]
  },
  {
   "cell_type": "markdown",
   "id": "p9V6pddtjglj",
   "metadata": {
    "id": "p9V6pddtjglj"
   },
   "source": [
    "Describe brevemente cuáles son tus hallazgos.\n",
    "\n",
    "De acuerdo a las líneas de código creadas hallé que todas esas órdenes tienen más de 64 productos, el sistema por alguna razón falla y no hace el registro completo"
   ]
  },
  {
   "cell_type": "markdown",
   "id": "71e42b26",
   "metadata": {},
   "source": [
    "<div class=\"alert alert-block alert-success\">\n",
    "<b>Comentario del revisor (1era Iteracion)</b> <a class=“tocSkip”></a>\n",
    "\n",
    "Buen trabajo filtrando por las ordenes con valores ausentes y analizando si tienen más de 64 productos\n",
    "</div>"
   ]
  },
  {
   "cell_type": "code",
   "execution_count": 53,
   "id": "7a987d08",
   "metadata": {
    "id": "7a987d08"
   },
   "outputs": [],
   "source": [
    "# Remplaza los valores ausentes en la columna 'add_to_cart? con 999 y convierte la columna al tipo entero.\n",
    "\n",
    "order_products['add_to_cart_order'] = order_products['add_to_cart_order'].fillna(999).astype(int)"
   ]
  },
  {
   "cell_type": "markdown",
   "id": "fea4bcc7",
   "metadata": {
    "id": "fea4bcc7"
   },
   "source": [
    "Describe brevemente tus hallazgos y lo que hiciste con ellos.\n",
    "\n",
    "Ocupar fillna para realizar el reemplazo de valores ausentes y convertirlo a un entero "
   ]
  },
  {
   "cell_type": "markdown",
   "id": "RnplPFY1gSrb",
   "metadata": {
    "id": "RnplPFY1gSrb"
   },
   "source": [
    "## Conclusiones\n",
    "\n",
    "Escribe aquí tus conclusiones intermedias sobre el Paso 2. Preprocesamiento de los datos\n",
    "\n",
    "En un general, se eliminaron filas completamente duplicadas y se rellenaron valores ausentes con elementos que se puedan reconocer así no sea yo directamente la que vea la info sepa de qué se trata. Ya en esta ultima parte se hizo un análisis a fondo sobre los productos con valores ausentes a qué estaban relacionados exactamente, no solo asumir que eran 64 el máximo, y también era obligatorio indagar más puesto que son muchos más datos y sería imposible revisar uno por uno o por secciones. \n"
   ]
  },
  {
   "cell_type": "markdown",
   "id": "UjrOIwTcz3ri",
   "metadata": {
    "id": "UjrOIwTcz3ri"
   },
   "source": [
    "# Paso 3. Análisis de los datos\n",
    "\n",
    "Una vez los datos estén procesados y listos, haz el siguiente análisis:"
   ]
  },
  {
   "cell_type": "markdown",
   "id": "2a667c98",
   "metadata": {
    "id": "turkish-kidney"
   },
   "source": [
    "# [A] Fácil (deben completarse todos para aprobar)\n",
    "\n",
    "1. Verifica que los valores en las columnas `'order_hour_of_day'` y `'order_dow'` en la tabla orders sean razonables (es decir, `'order_hour_of_day'` oscile entre 0 y 23 y `'order_dow'` oscile entre 0 y 6).\n",
    "2. Crea un gráfico que muestre el número de personas que hacen pedidos dependiendo de la hora del día.\n",
    "3. Crea un gráfico que muestre qué día de la semana la gente hace sus compras.\n",
    "4. Crea un gráfico que muestre el tiempo que la gente espera hasta hacer su siguiente pedido, y comenta sobre los valores mínimos y máximos."
   ]
  },
  {
   "cell_type": "markdown",
   "id": "short-capability",
   "metadata": {
    "id": "short-capability"
   },
   "source": [
    "### [A1] Verifica que los valores sean sensibles"
   ]
  },
  {
   "cell_type": "code",
   "execution_count": 54,
   "id": "growing-fruit",
   "metadata": {
    "id": "growing-fruit"
   },
   "outputs": [
    {
     "data": {
      "text/html": [
       "<div>\n",
       "<style scoped>\n",
       "    .dataframe tbody tr th:only-of-type {\n",
       "        vertical-align: middle;\n",
       "    }\n",
       "\n",
       "    .dataframe tbody tr th {\n",
       "        vertical-align: top;\n",
       "    }\n",
       "\n",
       "    .dataframe thead th {\n",
       "        text-align: right;\n",
       "    }\n",
       "</style>\n",
       "<table border=\"1\" class=\"dataframe\">\n",
       "  <thead>\n",
       "    <tr style=\"text-align: right;\">\n",
       "      <th></th>\n",
       "      <th>order_id</th>\n",
       "      <th>user_id</th>\n",
       "      <th>order_number</th>\n",
       "      <th>order_dow</th>\n",
       "      <th>days_since_prior_order</th>\n",
       "    </tr>\n",
       "    <tr>\n",
       "      <th>order_hour_of_day</th>\n",
       "      <th></th>\n",
       "      <th></th>\n",
       "      <th></th>\n",
       "      <th></th>\n",
       "      <th></th>\n",
       "    </tr>\n",
       "  </thead>\n",
       "  <tbody>\n",
       "    <tr>\n",
       "      <th>0</th>\n",
       "      <td>3180</td>\n",
       "      <td>3180</td>\n",
       "      <td>3180</td>\n",
       "      <td>3180</td>\n",
       "      <td>2963</td>\n",
       "    </tr>\n",
       "    <tr>\n",
       "      <th>1</th>\n",
       "      <td>1763</td>\n",
       "      <td>1763</td>\n",
       "      <td>1763</td>\n",
       "      <td>1763</td>\n",
       "      <td>1673</td>\n",
       "    </tr>\n",
       "    <tr>\n",
       "      <th>2</th>\n",
       "      <td>989</td>\n",
       "      <td>989</td>\n",
       "      <td>989</td>\n",
       "      <td>989</td>\n",
       "      <td>928</td>\n",
       "    </tr>\n",
       "    <tr>\n",
       "      <th>3</th>\n",
       "      <td>770</td>\n",
       "      <td>770</td>\n",
       "      <td>770</td>\n",
       "      <td>770</td>\n",
       "      <td>719</td>\n",
       "    </tr>\n",
       "    <tr>\n",
       "      <th>4</th>\n",
       "      <td>765</td>\n",
       "      <td>765</td>\n",
       "      <td>765</td>\n",
       "      <td>765</td>\n",
       "      <td>711</td>\n",
       "    </tr>\n",
       "    <tr>\n",
       "      <th>5</th>\n",
       "      <td>1371</td>\n",
       "      <td>1371</td>\n",
       "      <td>1371</td>\n",
       "      <td>1371</td>\n",
       "      <td>1282</td>\n",
       "    </tr>\n",
       "    <tr>\n",
       "      <th>6</th>\n",
       "      <td>4215</td>\n",
       "      <td>4215</td>\n",
       "      <td>4215</td>\n",
       "      <td>4215</td>\n",
       "      <td>3997</td>\n",
       "    </tr>\n",
       "    <tr>\n",
       "      <th>7</th>\n",
       "      <td>13043</td>\n",
       "      <td>13043</td>\n",
       "      <td>13043</td>\n",
       "      <td>13043</td>\n",
       "      <td>12402</td>\n",
       "    </tr>\n",
       "    <tr>\n",
       "      <th>8</th>\n",
       "      <td>25024</td>\n",
       "      <td>25024</td>\n",
       "      <td>25024</td>\n",
       "      <td>25024</td>\n",
       "      <td>23717</td>\n",
       "    </tr>\n",
       "    <tr>\n",
       "      <th>9</th>\n",
       "      <td>35896</td>\n",
       "      <td>35896</td>\n",
       "      <td>35896</td>\n",
       "      <td>35896</td>\n",
       "      <td>33865</td>\n",
       "    </tr>\n",
       "    <tr>\n",
       "      <th>10</th>\n",
       "      <td>40578</td>\n",
       "      <td>40578</td>\n",
       "      <td>40578</td>\n",
       "      <td>40578</td>\n",
       "      <td>38271</td>\n",
       "    </tr>\n",
       "    <tr>\n",
       "      <th>11</th>\n",
       "      <td>40032</td>\n",
       "      <td>40032</td>\n",
       "      <td>40032</td>\n",
       "      <td>40032</td>\n",
       "      <td>37589</td>\n",
       "    </tr>\n",
       "    <tr>\n",
       "      <th>12</th>\n",
       "      <td>38034</td>\n",
       "      <td>38034</td>\n",
       "      <td>38034</td>\n",
       "      <td>38034</td>\n",
       "      <td>35706</td>\n",
       "    </tr>\n",
       "    <tr>\n",
       "      <th>13</th>\n",
       "      <td>39007</td>\n",
       "      <td>39007</td>\n",
       "      <td>39007</td>\n",
       "      <td>39007</td>\n",
       "      <td>36643</td>\n",
       "    </tr>\n",
       "    <tr>\n",
       "      <th>14</th>\n",
       "      <td>39631</td>\n",
       "      <td>39631</td>\n",
       "      <td>39631</td>\n",
       "      <td>39631</td>\n",
       "      <td>37339</td>\n",
       "    </tr>\n",
       "    <tr>\n",
       "      <th>15</th>\n",
       "      <td>39789</td>\n",
       "      <td>39789</td>\n",
       "      <td>39789</td>\n",
       "      <td>39789</td>\n",
       "      <td>37340</td>\n",
       "    </tr>\n",
       "    <tr>\n",
       "      <th>16</th>\n",
       "      <td>38112</td>\n",
       "      <td>38112</td>\n",
       "      <td>38112</td>\n",
       "      <td>38112</td>\n",
       "      <td>35647</td>\n",
       "    </tr>\n",
       "    <tr>\n",
       "      <th>17</th>\n",
       "      <td>31930</td>\n",
       "      <td>31930</td>\n",
       "      <td>31930</td>\n",
       "      <td>31930</td>\n",
       "      <td>29897</td>\n",
       "    </tr>\n",
       "    <tr>\n",
       "      <th>18</th>\n",
       "      <td>25510</td>\n",
       "      <td>25510</td>\n",
       "      <td>25510</td>\n",
       "      <td>25510</td>\n",
       "      <td>23851</td>\n",
       "    </tr>\n",
       "    <tr>\n",
       "      <th>19</th>\n",
       "      <td>19547</td>\n",
       "      <td>19547</td>\n",
       "      <td>19547</td>\n",
       "      <td>19547</td>\n",
       "      <td>18267</td>\n",
       "    </tr>\n",
       "    <tr>\n",
       "      <th>20</th>\n",
       "      <td>14624</td>\n",
       "      <td>14624</td>\n",
       "      <td>14624</td>\n",
       "      <td>14624</td>\n",
       "      <td>13718</td>\n",
       "    </tr>\n",
       "    <tr>\n",
       "      <th>21</th>\n",
       "      <td>11019</td>\n",
       "      <td>11019</td>\n",
       "      <td>11019</td>\n",
       "      <td>11019</td>\n",
       "      <td>10341</td>\n",
       "    </tr>\n",
       "    <tr>\n",
       "      <th>22</th>\n",
       "      <td>8512</td>\n",
       "      <td>8512</td>\n",
       "      <td>8512</td>\n",
       "      <td>8512</td>\n",
       "      <td>8012</td>\n",
       "    </tr>\n",
       "    <tr>\n",
       "      <th>23</th>\n",
       "      <td>5611</td>\n",
       "      <td>5611</td>\n",
       "      <td>5611</td>\n",
       "      <td>5611</td>\n",
       "      <td>5257</td>\n",
       "    </tr>\n",
       "  </tbody>\n",
       "</table>\n",
       "</div>"
      ],
      "text/plain": [
       "                   order_id  user_id  order_number  order_dow  \\\n",
       "order_hour_of_day                                               \n",
       "0                      3180     3180          3180       3180   \n",
       "1                      1763     1763          1763       1763   \n",
       "2                       989      989           989        989   \n",
       "3                       770      770           770        770   \n",
       "4                       765      765           765        765   \n",
       "5                      1371     1371          1371       1371   \n",
       "6                      4215     4215          4215       4215   \n",
       "7                     13043    13043         13043      13043   \n",
       "8                     25024    25024         25024      25024   \n",
       "9                     35896    35896         35896      35896   \n",
       "10                    40578    40578         40578      40578   \n",
       "11                    40032    40032         40032      40032   \n",
       "12                    38034    38034         38034      38034   \n",
       "13                    39007    39007         39007      39007   \n",
       "14                    39631    39631         39631      39631   \n",
       "15                    39789    39789         39789      39789   \n",
       "16                    38112    38112         38112      38112   \n",
       "17                    31930    31930         31930      31930   \n",
       "18                    25510    25510         25510      25510   \n",
       "19                    19547    19547         19547      19547   \n",
       "20                    14624    14624         14624      14624   \n",
       "21                    11019    11019         11019      11019   \n",
       "22                     8512     8512          8512       8512   \n",
       "23                     5611     5611          5611       5611   \n",
       "\n",
       "                   days_since_prior_order  \n",
       "order_hour_of_day                          \n",
       "0                                    2963  \n",
       "1                                    1673  \n",
       "2                                     928  \n",
       "3                                     719  \n",
       "4                                     711  \n",
       "5                                    1282  \n",
       "6                                    3997  \n",
       "7                                   12402  \n",
       "8                                   23717  \n",
       "9                                   33865  \n",
       "10                                  38271  \n",
       "11                                  37589  \n",
       "12                                  35706  \n",
       "13                                  36643  \n",
       "14                                  37339  \n",
       "15                                  37340  \n",
       "16                                  35647  \n",
       "17                                  29897  \n",
       "18                                  23851  \n",
       "19                                  18267  \n",
       "20                                  13718  \n",
       "21                                  10341  \n",
       "22                                   8012  \n",
       "23                                   5257  "
      ]
     },
     "execution_count": 54,
     "metadata": {},
     "output_type": "execute_result"
    }
   ],
   "source": [
    "orders.groupby('order_hour_of_day').count()"
   ]
  },
  {
   "cell_type": "code",
   "execution_count": 55,
   "id": "accessory-malaysia",
   "metadata": {
    "id": "accessory-malaysia",
    "scrolled": true
   },
   "outputs": [
    {
     "data": {
      "text/html": [
       "<div>\n",
       "<style scoped>\n",
       "    .dataframe tbody tr th:only-of-type {\n",
       "        vertical-align: middle;\n",
       "    }\n",
       "\n",
       "    .dataframe tbody tr th {\n",
       "        vertical-align: top;\n",
       "    }\n",
       "\n",
       "    .dataframe thead th {\n",
       "        text-align: right;\n",
       "    }\n",
       "</style>\n",
       "<table border=\"1\" class=\"dataframe\">\n",
       "  <thead>\n",
       "    <tr style=\"text-align: right;\">\n",
       "      <th></th>\n",
       "      <th>order_id</th>\n",
       "      <th>user_id</th>\n",
       "      <th>order_number</th>\n",
       "      <th>order_hour_of_day</th>\n",
       "      <th>days_since_prior_order</th>\n",
       "    </tr>\n",
       "    <tr>\n",
       "      <th>order_dow</th>\n",
       "      <th></th>\n",
       "      <th></th>\n",
       "      <th></th>\n",
       "      <th></th>\n",
       "      <th></th>\n",
       "    </tr>\n",
       "  </thead>\n",
       "  <tbody>\n",
       "    <tr>\n",
       "      <th>0</th>\n",
       "      <td>84090</td>\n",
       "      <td>84090</td>\n",
       "      <td>84090</td>\n",
       "      <td>84090</td>\n",
       "      <td>78749</td>\n",
       "    </tr>\n",
       "    <tr>\n",
       "      <th>1</th>\n",
       "      <td>82185</td>\n",
       "      <td>82185</td>\n",
       "      <td>82185</td>\n",
       "      <td>82185</td>\n",
       "      <td>77269</td>\n",
       "    </tr>\n",
       "    <tr>\n",
       "      <th>2</th>\n",
       "      <td>65833</td>\n",
       "      <td>65833</td>\n",
       "      <td>65833</td>\n",
       "      <td>65833</td>\n",
       "      <td>61925</td>\n",
       "    </tr>\n",
       "    <tr>\n",
       "      <th>3</th>\n",
       "      <td>60897</td>\n",
       "      <td>60897</td>\n",
       "      <td>60897</td>\n",
       "      <td>60897</td>\n",
       "      <td>57271</td>\n",
       "    </tr>\n",
       "    <tr>\n",
       "      <th>4</th>\n",
       "      <td>59810</td>\n",
       "      <td>59810</td>\n",
       "      <td>59810</td>\n",
       "      <td>59810</td>\n",
       "      <td>56395</td>\n",
       "    </tr>\n",
       "    <tr>\n",
       "      <th>5</th>\n",
       "      <td>63488</td>\n",
       "      <td>63488</td>\n",
       "      <td>63488</td>\n",
       "      <td>63488</td>\n",
       "      <td>59907</td>\n",
       "    </tr>\n",
       "    <tr>\n",
       "      <th>6</th>\n",
       "      <td>62649</td>\n",
       "      <td>62649</td>\n",
       "      <td>62649</td>\n",
       "      <td>62649</td>\n",
       "      <td>58619</td>\n",
       "    </tr>\n",
       "  </tbody>\n",
       "</table>\n",
       "</div>"
      ],
      "text/plain": [
       "           order_id  user_id  order_number  order_hour_of_day  \\\n",
       "order_dow                                                       \n",
       "0             84090    84090         84090              84090   \n",
       "1             82185    82185         82185              82185   \n",
       "2             65833    65833         65833              65833   \n",
       "3             60897    60897         60897              60897   \n",
       "4             59810    59810         59810              59810   \n",
       "5             63488    63488         63488              63488   \n",
       "6             62649    62649         62649              62649   \n",
       "\n",
       "           days_since_prior_order  \n",
       "order_dow                          \n",
       "0                           78749  \n",
       "1                           77269  \n",
       "2                           61925  \n",
       "3                           57271  \n",
       "4                           56395  \n",
       "5                           59907  \n",
       "6                           58619  "
      ]
     },
     "execution_count": 55,
     "metadata": {},
     "output_type": "execute_result"
    }
   ],
   "source": [
    "orders.groupby('order_dow').count()"
   ]
  },
  {
   "cell_type": "markdown",
   "id": "hmR2GNQ6lCsX",
   "metadata": {
    "id": "hmR2GNQ6lCsX"
   },
   "source": [
    "Ambos valores son sensibles ya que consideran el rango de tiempo adecuado"
   ]
  },
  {
   "cell_type": "code",
   "execution_count": 56,
   "id": "477e337d",
   "metadata": {},
   "outputs": [
    {
     "data": {
      "text/plain": [
       "[0, 1, 2, 3, 4, 5, 6]"
      ]
     },
     "execution_count": 56,
     "metadata": {},
     "output_type": "execute_result"
    }
   ],
   "source": [
    "unique_order_dow =orders['order_dow'].unique()\n",
    "sorted_unique_order_dow = sorted(unique_order_dow)\n",
    "sorted_unique_order_dow"
   ]
  },
  {
   "cell_type": "code",
   "execution_count": 57,
   "id": "3658ee13",
   "metadata": {},
   "outputs": [
    {
     "data": {
      "text/plain": [
       "[0,\n",
       " 1,\n",
       " 2,\n",
       " 3,\n",
       " 4,\n",
       " 5,\n",
       " 6,\n",
       " 7,\n",
       " 8,\n",
       " 9,\n",
       " 10,\n",
       " 11,\n",
       " 12,\n",
       " 13,\n",
       " 14,\n",
       " 15,\n",
       " 16,\n",
       " 17,\n",
       " 18,\n",
       " 19,\n",
       " 20,\n",
       " 21,\n",
       " 22,\n",
       " 23]"
      ]
     },
     "execution_count": 57,
     "metadata": {},
     "output_type": "execute_result"
    }
   ],
   "source": [
    "unique_order_hday= orders['order_hour_of_day'].unique()\n",
    "sorted_unique_order_hday= sorted (unique_order_hday)\n",
    "sorted_unique_order_hday"
   ]
  },
  {
   "cell_type": "markdown",
   "id": "f623f4bf",
   "metadata": {},
   "source": [
    "<div class=\"alert alert-block alert-success\">\n",
    "<b>Comentario del revisor (1era Iteracion)</b> <a class=“tocSkip”></a>\n",
    "\n",
    "Buen trabajo! Otra forma con la que podrías determinar es aplicando `.unique()` y te devolverá una lista de los valores únicos en esa columna\n",
    "</div>"
   ]
  },
  {
   "cell_type": "markdown",
   "id": "4b9fcf3c",
   "metadata": {},
   "source": [
    "<div class=\"alert alert-block alert-info\">\n",
    "<b>Gracias, aumenté líneas que dan el mismo resultado pero con .unique() para ver la otra forma de llegar al resultado</b> <a class=“tocSkip”></a>\n",
    "</div>"
   ]
  },
  {
   "cell_type": "markdown",
   "id": "a6743a70",
   "metadata": {
    "id": "a6743a70"
   },
   "source": [
    "### [A2] Para cada hora del día, ¿cuántas personas hacen órdenes?"
   ]
  },
  {
   "cell_type": "code",
   "execution_count": 58,
   "id": "a36cca27",
   "metadata": {
    "id": "a36cca27"
   },
   "outputs": [
    {
     "data": {
      "text/plain": [
       "<AxesSubplot:xlabel='order_hour_of_day'>"
      ]
     },
     "execution_count": 58,
     "metadata": {},
     "output_type": "execute_result"
    },
    {
     "data": {
      "image/png": "[encoded data removed]",
      "text/plain": [
       "<Figure size 640x480 with 1 Axes>"
      ]
     },
     "metadata": {},
     "output_type": "display_data"
    }
   ],
   "source": [
    "orders.groupby('order_hour_of_day')['order_id'].count().plot(kind='bar', color= 'purple', grid= True)"
   ]
  },
  {
   "cell_type": "markdown",
   "id": "11270eed",
   "metadata": {
    "id": "11270eed"
   },
   "source": [
    "De las 9 a las 16 horas es cuando más las personas realizan pedidos "
   ]
  },
  {
   "cell_type": "markdown",
   "id": "d25fb7e3",
   "metadata": {},
   "source": [
    "<div class=\"alert alert-block alert-success\">\n",
    "<b>Comentario del revisor (1era Iteracion)</b> <a class=“tocSkip”></a>\n",
    "\n",
    "Muy bien hecho y con una conclusión acertada!\n",
    "</div>"
   ]
  },
  {
   "cell_type": "markdown",
   "id": "documented-command",
   "metadata": {
    "id": "documented-command"
   },
   "source": [
    "### [A3] ¿Qué día de la semana compran víveres las personas?"
   ]
  },
  {
   "cell_type": "code",
   "execution_count": 59,
   "id": "chief-digit",
   "metadata": {
    "id": "chief-digit"
   },
   "outputs": [
    {
     "data": {
      "text/plain": [
       "<AxesSubplot:xlabel='order_dow'>"
      ]
     },
     "execution_count": 59,
     "metadata": {},
     "output_type": "execute_result"
    },
    {
     "data": {
      "image/png": "[encoded data removed]",
      "text/plain": [
       "<Figure size 640x480 with 1 Axes>"
      ]
     },
     "metadata": {},
     "output_type": "display_data"
    }
   ],
   "source": [
    "orders.groupby('order_dow')['order_id'].count().plot(kind='bar', color= 'purple', grid= True)"
   ]
  },
  {
   "cell_type": "markdown",
   "id": "dominant-lightning",
   "metadata": {
    "id": "dominant-lightning"
   },
   "source": [
    "Las personas suelen realizar sus compras el día domingo y lunes, pero durante la semana se mantienen numeros estables "
   ]
  },
  {
   "cell_type": "markdown",
   "id": "6cb73a2d",
   "metadata": {},
   "source": [
    "<div class=\"alert alert-block alert-success\">\n",
    "<b>Comentario del revisor (1era Iteracion)</b> <a class=“tocSkip”></a>\n",
    "\n",
    "Muy bien hecho y con una conclusión acertada!\n",
    "</div>"
   ]
  },
  {
   "cell_type": "markdown",
   "id": "cutting-concert",
   "metadata": {
    "id": "cutting-concert"
   },
   "source": [
    "### [A4] ¿Cuánto tiempo esperan las personas hasta hacer otro pedido? Comenta sobre los valores mínimos y máximos."
   ]
  },
  {
   "cell_type": "code",
   "execution_count": 60,
   "id": "c231f523",
   "metadata": {
    "id": "c231f523"
   },
   "outputs": [
    {
     "data": {
      "text/plain": [
       "<AxesSubplot:xlabel='days_since_prior_order'>"
      ]
     },
     "execution_count": 60,
     "metadata": {},
     "output_type": "execute_result"
    },
    {
     "data": {
      "image/png": "[encoded data removed]",
      "text/plain": [
       "<Figure size 640x480 with 1 Axes>"
      ]
     },
     "metadata": {},
     "output_type": "display_data"
    }
   ],
   "source": [
    "#Crea un gráfico que muestre el tiempo que la gente espera hasta hacer su siguiente pedido, y comenta sobre los valores mínimos y máximos.order\n",
    "filtered_orders = orders[orders['days_since_prior_order'] < 30]\n",
    "filtered_orders.groupby('days_since_prior_order')['order_id'].count().plot(kind='bar', color= 'purple', grid=True)"
   ]
  },
  {
   "cell_type": "markdown",
   "id": "discrete-vertex",
   "metadata": {
    "id": "discrete-vertex"
   },
   "source": [
    "Seguro que hay personas que piden más allá de los 30 días pero como ya no se considera relevante según los datos, se decidió que cualquier orden más allá de 30 días transcurridos se coloca en este día."
   ]
  },
  {
   "cell_type": "markdown",
   "id": "384200ad",
   "metadata": {},
   "source": [
    "<div class=\"alert alert-block alert-warning\">\n",
    "<b>Comentario del revisor (1era Iteracion)</b> <a class=“tocSkip”></a>\n",
    "\n",
    "Buen trabajo y buena conclusión, pero ¿No te parece que el valor en los 30 días es muy alto? Esto podría tratarse de un error generar los datos por lo que te recomendaría quitarlo para no distorcinar tu gráfica\n",
    "</div>"
   ]
  },
  {
   "cell_type": "markdown",
   "id": "6ed4966a",
   "metadata": {},
   "source": [
    "<div class=\"alert alert-block alert-info\">\n",
    "<b>Cierto, ya de esta forma se obtiene ua gráfica que se podría presentar y se entiende mejor </b> <a class=“tocSkip”></a>\n",
    "</div>"
   ]
  },
  {
   "cell_type": "markdown",
   "id": "009b72b9",
   "metadata": {},
   "source": [
    "<div class=\"alert alert-block alert-success\">\n",
    "<b>Comentario del revisor (2da Iteracion)</b> <a class=“tocSkip”></a>\n",
    "\n",
    "Me alegro que lo hayas entendido, buen trabajo!\n",
    "</div>"
   ]
  },
  {
   "cell_type": "markdown",
   "id": "tight-staff",
   "metadata": {
    "id": "tight-staff"
   },
   "source": [
    "# [B] Intermedio (deben completarse todos para aprobar)\n",
    "\n",
    "1. ¿Existe alguna diferencia entre las distribuciones `'order_hour_of_day'` de los miércoles y los sábados? Traza gráficos de barra de `'order_hour_of_day'` para ambos días en la misma figura y describe las diferencias que observes.\n",
    "2. Grafica la distribución para el número de órdenes que hacen los clientes (es decir, cuántos clientes hicieron solo 1 pedido, cuántos hicieron 2, cuántos 3, y así sucesivamente...).\n",
    "3. ¿Cuáles son los 20 principales productos que se piden con más frecuencia (muestra su identificación y nombre)?"
   ]
  },
  {
   "cell_type": "markdown",
   "id": "packed-classic",
   "metadata": {
    "id": "packed-classic"
   },
   "source": [
    "### [B1] Diferencia entre miércoles y sábados para  `'order_hour_of_day'`. Traza gráficos de barra para los dos días y describe las diferencias que veas."
   ]
  },
  {
   "cell_type": "code",
   "execution_count": 61,
   "id": "d89b8403",
   "metadata": {
    "id": "d89b8403"
   },
   "outputs": [
    {
     "data": {
      "text/plain": [
       "<AxesSubplot:xlabel='order_hour_of_day'>"
      ]
     },
     "execution_count": 61,
     "metadata": {},
     "output_type": "execute_result"
    },
    {
     "data": {
      "image/png": "[encoded data removed]",
      "text/plain": [
       "<Figure size 640x480 with 1 Axes>"
      ]
     },
     "metadata": {},
     "output_type": "display_data"
    }
   ],
   "source": [
    "(\n",
    "    orders\n",
    "    .query('(order_dow == 6) or (order_dow== 3)')\n",
    "    .pivot_table(index='order_hour_of_day', columns='order_dow', values='order_id', aggfunc='count')\n",
    "    .plot(kind='bar', grid=True)\n",
    ")"
   ]
  },
  {
   "cell_type": "markdown",
   "id": "06c7f754",
   "metadata": {
    "id": "94e54e8a"
   },
   "source": [
    "En miércoles 9, 10, 15 y 16horas y a la par el sábado 11-16horas, son sus horas más fuertes de pedidos pero el sábado es el día en que más se realizan "
   ]
  },
  {
   "cell_type": "markdown",
   "id": "e3891143",
   "metadata": {
    "id": "e3891143"
   },
   "source": [
    "### [B2] ¿Cuál es la distribución para el número de pedidos por cliente?"
   ]
  },
  {
   "cell_type": "code",
   "execution_count": 62,
   "id": "d8c26c23",
   "metadata": {
    "id": "d8c26c23"
   },
   "outputs": [
    {
     "data": {
      "text/plain": [
       "<AxesSubplot:ylabel='Frequency'>"
      ]
     },
     "execution_count": 62,
     "metadata": {},
     "output_type": "execute_result"
    },
    {
     "data": {
      "image/png": "[encoded data removed]",
      "text/plain": [
       "<Figure size 640x480 with 1 Axes>"
      ]
     },
     "metadata": {},
     "output_type": "display_data"
    }
   ],
   "source": [
    "orders.groupby('user_id')['order_id'].count().plot(kind='hist', color= 'purple', bins=30)"
   ]
  },
  {
   "cell_type": "markdown",
   "id": "d2eff7d5",
   "metadata": {
    "id": "d2eff7d5"
   },
   "source": [
    "Lo usual es que los usuarios realizan 1-2 pedidos y de ahí van disminuyendo los usuarios que realizan varios pedidos."
   ]
  },
  {
   "cell_type": "markdown",
   "id": "094a4665",
   "metadata": {},
   "source": [
    "<div class=\"alert alert-block alert-success\">\n",
    "<b>Comentario del revisor (1era Iteracion)</b> <a class=“tocSkip”></a>\n",
    "\n",
    "Buen trabajo con las visualizaciones, cada una bastante clara y con una conclusión acertada!\n",
    "</div>"
   ]
  },
  {
   "cell_type": "markdown",
   "id": "54a0319c",
   "metadata": {
    "id": "54a0319c"
   },
   "source": [
    "### [B3] ¿Cuáles son los 20 productos más populares (muestra su ID y nombre)?"
   ]
  },
  {
   "cell_type": "code",
   "execution_count": 63,
   "id": "exterior-arizona",
   "metadata": {
    "id": "exterior-arizona",
    "scrolled": true
   },
   "outputs": [
    {
     "data": {
      "text/html": [
       "<div>\n",
       "<style scoped>\n",
       "    .dataframe tbody tr th:only-of-type {\n",
       "        vertical-align: middle;\n",
       "    }\n",
       "\n",
       "    .dataframe tbody tr th {\n",
       "        vertical-align: top;\n",
       "    }\n",
       "\n",
       "    .dataframe thead th {\n",
       "        text-align: right;\n",
       "    }\n",
       "</style>\n",
       "<table border=\"1\" class=\"dataframe\">\n",
       "  <thead>\n",
       "    <tr style=\"text-align: right;\">\n",
       "      <th></th>\n",
       "      <th>order_id</th>\n",
       "      <th>product_id</th>\n",
       "      <th>add_to_cart_order</th>\n",
       "      <th>reordered</th>\n",
       "      <th>product_name</th>\n",
       "      <th>aisle_id</th>\n",
       "      <th>department_id</th>\n",
       "    </tr>\n",
       "  </thead>\n",
       "  <tbody>\n",
       "    <tr>\n",
       "      <th>2195657</th>\n",
       "      <td>1030175</td>\n",
       "      <td>2452</td>\n",
       "      <td>6</td>\n",
       "      <td>1</td>\n",
       "      <td>Naturals Chicken Nuggets</td>\n",
       "      <td>129</td>\n",
       "      <td>1</td>\n",
       "    </tr>\n",
       "    <tr>\n",
       "      <th>3585195</th>\n",
       "      <td>2019870</td>\n",
       "      <td>877</td>\n",
       "      <td>7</td>\n",
       "      <td>1</td>\n",
       "      <td>Ultra-Filtered Whole Milk</td>\n",
       "      <td>84</td>\n",
       "      <td>16</td>\n",
       "    </tr>\n",
       "    <tr>\n",
       "      <th>3317056</th>\n",
       "      <td>3282875</td>\n",
       "      <td>22594</td>\n",
       "      <td>5</td>\n",
       "      <td>0</td>\n",
       "      <td>Quattro Formaggi Four Cheeses Pizza</td>\n",
       "      <td>13</td>\n",
       "      <td>20</td>\n",
       "    </tr>\n",
       "    <tr>\n",
       "      <th>1107150</th>\n",
       "      <td>43755</td>\n",
       "      <td>19660</td>\n",
       "      <td>1</td>\n",
       "      <td>1</td>\n",
       "      <td>Spring Water</td>\n",
       "      <td>115</td>\n",
       "      <td>7</td>\n",
       "    </tr>\n",
       "    <tr>\n",
       "      <th>3950307</th>\n",
       "      <td>338364</td>\n",
       "      <td>32931</td>\n",
       "      <td>25</td>\n",
       "      <td>1</td>\n",
       "      <td>Egg Challah Rolls</td>\n",
       "      <td>43</td>\n",
       "      <td>3</td>\n",
       "    </tr>\n",
       "    <tr>\n",
       "      <th>282185</th>\n",
       "      <td>948449</td>\n",
       "      <td>8277</td>\n",
       "      <td>1</td>\n",
       "      <td>1</td>\n",
       "      <td>Apple Honeycrisp Organic</td>\n",
       "      <td>24</td>\n",
       "      <td>4</td>\n",
       "    </tr>\n",
       "    <tr>\n",
       "      <th>153149</th>\n",
       "      <td>2772123</td>\n",
       "      <td>21903</td>\n",
       "      <td>4</td>\n",
       "      <td>1</td>\n",
       "      <td>Organic Baby Spinach</td>\n",
       "      <td>123</td>\n",
       "      <td>4</td>\n",
       "    </tr>\n",
       "    <tr>\n",
       "      <th>2431717</th>\n",
       "      <td>2829224</td>\n",
       "      <td>14715</td>\n",
       "      <td>1</td>\n",
       "      <td>1</td>\n",
       "      <td>Coconut Water</td>\n",
       "      <td>98</td>\n",
       "      <td>7</td>\n",
       "    </tr>\n",
       "    <tr>\n",
       "      <th>33727</th>\n",
       "      <td>1179481</td>\n",
       "      <td>10017</td>\n",
       "      <td>4</td>\n",
       "      <td>1</td>\n",
       "      <td>Tilapia Filet</td>\n",
       "      <td>39</td>\n",
       "      <td>12</td>\n",
       "    </tr>\n",
       "    <tr>\n",
       "      <th>2269320</th>\n",
       "      <td>619034</td>\n",
       "      <td>23734</td>\n",
       "      <td>4</td>\n",
       "      <td>1</td>\n",
       "      <td>Sour Cream</td>\n",
       "      <td>108</td>\n",
       "      <td>16</td>\n",
       "    </tr>\n",
       "  </tbody>\n",
       "</table>\n",
       "</div>"
      ],
      "text/plain": [
       "         order_id  product_id  add_to_cart_order  reordered  \\\n",
       "2195657   1030175        2452                  6          1   \n",
       "3585195   2019870         877                  7          1   \n",
       "3317056   3282875       22594                  5          0   \n",
       "1107150     43755       19660                  1          1   \n",
       "3950307    338364       32931                 25          1   \n",
       "282185     948449        8277                  1          1   \n",
       "153149    2772123       21903                  4          1   \n",
       "2431717   2829224       14715                  1          1   \n",
       "33727     1179481       10017                  4          1   \n",
       "2269320    619034       23734                  4          1   \n",
       "\n",
       "                                product_name  aisle_id  department_id  \n",
       "2195657             Naturals Chicken Nuggets       129              1  \n",
       "3585195            Ultra-Filtered Whole Milk        84             16  \n",
       "3317056  Quattro Formaggi Four Cheeses Pizza        13             20  \n",
       "1107150                         Spring Water       115              7  \n",
       "3950307                    Egg Challah Rolls        43              3  \n",
       "282185              Apple Honeycrisp Organic        24              4  \n",
       "153149                  Organic Baby Spinach       123              4  \n",
       "2431717                        Coconut Water        98              7  \n",
       "33727                          Tilapia Filet        39             12  \n",
       "2269320                           Sour Cream       108             16  "
      ]
     },
     "execution_count": 63,
     "metadata": {},
     "output_type": "execute_result"
    }
   ],
   "source": [
    "order_prod_named = pd.merge(\n",
    "    order_products, \n",
    "    products,\n",
    "    on= 'product_id'\n",
    "\n",
    ")\n",
    "order_prod_named.sample(10)"
   ]
  },
  {
   "cell_type": "code",
   "execution_count": 64,
   "id": "universal-facial",
   "metadata": {
    "id": "universal-facial"
   },
   "outputs": [
    {
     "data": {
      "text/html": [
       "<div>\n",
       "<style scoped>\n",
       "    .dataframe tbody tr th:only-of-type {\n",
       "        vertical-align: middle;\n",
       "    }\n",
       "\n",
       "    .dataframe tbody tr th {\n",
       "        vertical-align: top;\n",
       "    }\n",
       "\n",
       "    .dataframe thead th {\n",
       "        text-align: right;\n",
       "    }\n",
       "</style>\n",
       "<table border=\"1\" class=\"dataframe\">\n",
       "  <thead>\n",
       "    <tr style=\"text-align: right;\">\n",
       "      <th></th>\n",
       "      <th>product_id</th>\n",
       "      <th>product_name</th>\n",
       "      <th>total_orders</th>\n",
       "    </tr>\n",
       "  </thead>\n",
       "  <tbody>\n",
       "    <tr>\n",
       "      <th>22808</th>\n",
       "      <td>24852</td>\n",
       "      <td>Banana</td>\n",
       "      <td>66050</td>\n",
       "    </tr>\n",
       "    <tr>\n",
       "      <th>12025</th>\n",
       "      <td>13176</td>\n",
       "      <td>Bag of Organic Bananas</td>\n",
       "      <td>53297</td>\n",
       "    </tr>\n",
       "    <tr>\n",
       "      <th>19370</th>\n",
       "      <td>21137</td>\n",
       "      <td>Organic Strawberries</td>\n",
       "      <td>37039</td>\n",
       "    </tr>\n",
       "    <tr>\n",
       "      <th>20077</th>\n",
       "      <td>21903</td>\n",
       "      <td>Organic Baby Spinach</td>\n",
       "      <td>33971</td>\n",
       "    </tr>\n",
       "    <tr>\n",
       "      <th>43271</th>\n",
       "      <td>47209</td>\n",
       "      <td>Organic Hass Avocado</td>\n",
       "      <td>29773</td>\n",
       "    </tr>\n",
       "    <tr>\n",
       "      <th>43788</th>\n",
       "      <td>47766</td>\n",
       "      <td>Organic Avocado</td>\n",
       "      <td>24689</td>\n",
       "    </tr>\n",
       "    <tr>\n",
       "      <th>43663</th>\n",
       "      <td>47626</td>\n",
       "      <td>Large Lemon</td>\n",
       "      <td>21495</td>\n",
       "    </tr>\n",
       "    <tr>\n",
       "      <th>15364</th>\n",
       "      <td>16797</td>\n",
       "      <td>Strawberries</td>\n",
       "      <td>20018</td>\n",
       "    </tr>\n",
       "    <tr>\n",
       "      <th>24047</th>\n",
       "      <td>26209</td>\n",
       "      <td>Limes</td>\n",
       "      <td>19690</td>\n",
       "    </tr>\n",
       "    <tr>\n",
       "      <th>25556</th>\n",
       "      <td>27845</td>\n",
       "      <td>Organic Whole Milk</td>\n",
       "      <td>19600</td>\n",
       "    </tr>\n",
       "    <tr>\n",
       "      <th>25666</th>\n",
       "      <td>27966</td>\n",
       "      <td>Organic Raspberries</td>\n",
       "      <td>19197</td>\n",
       "    </tr>\n",
       "    <tr>\n",
       "      <th>21025</th>\n",
       "      <td>22935</td>\n",
       "      <td>Organic Yellow Onion</td>\n",
       "      <td>15898</td>\n",
       "    </tr>\n",
       "    <tr>\n",
       "      <th>22908</th>\n",
       "      <td>24964</td>\n",
       "      <td>Organic Garlic</td>\n",
       "      <td>15292</td>\n",
       "    </tr>\n",
       "    <tr>\n",
       "      <th>41244</th>\n",
       "      <td>45007</td>\n",
       "      <td>Organic Zucchini</td>\n",
       "      <td>14584</td>\n",
       "    </tr>\n",
       "    <tr>\n",
       "      <th>35996</th>\n",
       "      <td>39275</td>\n",
       "      <td>Organic Blueberries</td>\n",
       "      <td>13879</td>\n",
       "    </tr>\n",
       "    <tr>\n",
       "      <th>45561</th>\n",
       "      <td>49683</td>\n",
       "      <td>Cucumber Kirby</td>\n",
       "      <td>13675</td>\n",
       "    </tr>\n",
       "    <tr>\n",
       "      <th>25889</th>\n",
       "      <td>28204</td>\n",
       "      <td>Organic Fuji Apple</td>\n",
       "      <td>12544</td>\n",
       "    </tr>\n",
       "    <tr>\n",
       "      <th>5375</th>\n",
       "      <td>5876</td>\n",
       "      <td>Organic Lemon</td>\n",
       "      <td>12232</td>\n",
       "    </tr>\n",
       "    <tr>\n",
       "      <th>7543</th>\n",
       "      <td>8277</td>\n",
       "      <td>Apple Honeycrisp Organic</td>\n",
       "      <td>11993</td>\n",
       "    </tr>\n",
       "    <tr>\n",
       "      <th>37301</th>\n",
       "      <td>40706</td>\n",
       "      <td>Organic Grape Tomatoes</td>\n",
       "      <td>11781</td>\n",
       "    </tr>\n",
       "  </tbody>\n",
       "</table>\n",
       "</div>"
      ],
      "text/plain": [
       "       product_id              product_name  total_orders\n",
       "22808       24852                    Banana         66050\n",
       "12025       13176    Bag of Organic Bananas         53297\n",
       "19370       21137      Organic Strawberries         37039\n",
       "20077       21903      Organic Baby Spinach         33971\n",
       "43271       47209      Organic Hass Avocado         29773\n",
       "43788       47766           Organic Avocado         24689\n",
       "43663       47626               Large Lemon         21495\n",
       "15364       16797              Strawberries         20018\n",
       "24047       26209                     Limes         19690\n",
       "25556       27845        Organic Whole Milk         19600\n",
       "25666       27966       Organic Raspberries         19197\n",
       "21025       22935      Organic Yellow Onion         15898\n",
       "22908       24964            Organic Garlic         15292\n",
       "41244       45007          Organic Zucchini         14584\n",
       "35996       39275       Organic Blueberries         13879\n",
       "45561       49683            Cucumber Kirby         13675\n",
       "25889       28204        Organic Fuji Apple         12544\n",
       "5375         5876             Organic Lemon         12232\n",
       "7543         8277  Apple Honeycrisp Organic         11993\n",
       "37301       40706    Organic Grape Tomatoes         11781"
      ]
     },
     "execution_count": 64,
     "metadata": {},
     "output_type": "execute_result"
    }
   ],
   "source": [
    "top_20_products = order_prod_named.groupby(['product_id', 'product_name'])['order_id'].count().reset_index(name='total_orders')\n",
    "top_20_products = top_20_products.sort_values(by='total_orders', ascending=False)\n",
    "top_20_products.head(20)"
   ]
  },
  {
   "cell_type": "code",
   "execution_count": 65,
   "id": "55596ed9",
   "metadata": {},
   "outputs": [
    {
     "data": {
      "image/png": "[encoded data removed]",
      "text/plain": [
       "<Figure size 1000x600 with 1 Axes>"
      ]
     },
     "metadata": {},
     "output_type": "display_data"
    }
   ],
   "source": [
    "top_20_products= top_20_products.head(20)\n",
    "top_20_products.plot(kind='bar', x='product_id', y='total_orders', color='purple', legend=False, figsize=(10, 6))\n",
    "plt.ylabel('Total de pedidos')\n",
    "plt.xlabel('ID del producto')\n",
    "plt.title('Top 20 productos')\n",
    "plt.show()"
   ]
  },
  {
   "cell_type": "markdown",
   "id": "7df00f47",
   "metadata": {
    "id": "7df00f47"
   },
   "source": [
    "Se necesitó unir dos DF's para poder realizar este paso y en base a sus coincidencias de product_id, se trabajó en el siguiente paso con lo necesario, se creo una nueva columna para poder visualizar el recuento de pedidos de cada producto y se concluye que los plátanos son el producto más pedido."
   ]
  },
  {
   "cell_type": "markdown",
   "id": "3404f181",
   "metadata": {},
   "source": [
    "<div class=\"alert alert-block alert-danger\">\n",
    "<b>Comentario del revisor (1era Iteracion)</b> <a class=“tocSkip”></a>\n",
    "\n",
    "Buen trabajo buscando los productos más vendidos! Te recomendaría agregar una gráfica de barras donde se vea el nombre del producto y ID para poder compararlo de manera más visual.\n",
    "</div>"
   ]
  },
  {
   "cell_type": "markdown",
   "id": "19518cfe",
   "metadata": {},
   "source": [
    "<div class=\"alert alert-block alert-info\">\n",
    "<b> Gracias, por cierto, para este caso sería más atractivo si pusiera la gráfica de barras del ID de produsto más pedido hasta arriba y de manera descendente (en el eje Y)? Lo vi en un ejemplo, pero tuve dudas. </b> <a class=“tocSkip”></a>\n",
    "</div>"
   ]
  },
  {
   "cell_type": "markdown",
   "id": "789e432f",
   "metadata": {},
   "source": [
    "<div class=\"alert alert-block alert-success\">\n",
    "<b>Comentario del revisor (2da Iteracion)</b> <a class=“tocSkip”></a>\n",
    "\n",
    "Buen trabajo con los cambios! Realmente en este caso podías escoger el orden que consideres mejor siempre y cuando sigan un orden ya sea de izquierda a derecha o viceversa. Por otro lado, si la gráfica fuese relacionado con algo respecto al tiempo cómo por ejemplo con los años en el eje X y el último año tiene la barra más grande te conviene mostrar esa barra al lado derecho porque estaríamos mostrando un crecimiento a través del tiempo.\n",
    "</div>"
   ]
  },
  {
   "cell_type": "markdown",
   "id": "gross-theme",
   "metadata": {
    "id": "gross-theme"
   },
   "source": [
    "# [C] Difícil (deben completarse todos para aprobar)\n",
    "\n",
    "1. ¿Cuántos artículos suelen comprar las personas en un pedido? ¿Cómo es la distribución?\n",
    "2. ¿Cuáles son los 20 principales artículos que vuelven a pedirse con mayor frecuencia (muestra sus nombres e IDs de los productos)?\n",
    "3. Para cada producto, ¿cuál es la tasa de repetición del pedido (número de repeticiones de pedido/total de pedidos?\n",
    "4. Para cada cliente, ¿qué proporción de los productos que pidió ya los había pedido? Calcula la tasa de repetición de pedido para cada usuario en lugar de para cada producto.\n",
    "5. ¿Cuáles son los 20 principales artículos que la gente pone primero en sus carritos (muestra las IDs de los productos, sus nombres, y el número de veces en que fueron el primer artículo en añadirse al carrito)?"
   ]
  },
  {
   "cell_type": "markdown",
   "id": "romantic-deposit",
   "metadata": {
    "id": "romantic-deposit"
   },
   "source": [
    "### [C1] ¿Cuántos artículos compran normalmente las personas en un pedido? ¿Cómo es la distribución?"
   ]
  },
  {
   "cell_type": "code",
   "execution_count": 66,
   "id": "virtual-punch",
   "metadata": {
    "id": "virtual-punch"
   },
   "outputs": [
    {
     "data": {
      "text/plain": [
       "<AxesSubplot:ylabel='Frequency'>"
      ]
     },
     "execution_count": 66,
     "metadata": {},
     "output_type": "execute_result"
    },
    {
     "data": {
      "image/png": "[encoded data removed]",
      "text/plain": [
       "<Figure size 640x480 with 1 Axes>"
      ]
     },
     "metadata": {},
     "output_type": "display_data"
    }
   ],
   "source": [
    "order_products.groupby('order_id')['product_id'].count().plot(kind='hist', color='purple', bins= 50)"
   ]
  },
  {
   "cell_type": "markdown",
   "id": "designed-mortality",
   "metadata": {
    "id": "designed-mortality"
   },
   "source": [
    "Usualmente se suelen pedir 2 productos en cada orden."
   ]
  },
  {
   "cell_type": "markdown",
   "id": "45cbfa85",
   "metadata": {},
   "source": [
    "<div class=\"alert alert-block alert-success\">\n",
    "<b>Comentario del revisor (1era Iteracion)</b> <a class=“tocSkip”></a>\n",
    "\n",
    "Muy buen trabajo con la visualización y conclusión!\n",
    "</div>"
   ]
  },
  {
   "cell_type": "markdown",
   "id": "5e6b5537",
   "metadata": {
    "id": "5e6b5537"
   },
   "source": [
    "### [C2] ¿Cuáles son los 20 principales artículos que vuelven a pedirse con mayor frecuencia (muestra sus nombres e IDs de los productos)?"
   ]
  },
  {
   "cell_type": "code",
   "execution_count": 67,
   "id": "9374e55a",
   "metadata": {
    "id": "9374e55a"
   },
   "outputs": [
    {
     "data": {
      "text/plain": [
       "product_id  product_name            \n",
       "24852       Banana                      55763\n",
       "13176       Bag of Organic Bananas      44450\n",
       "21137       Organic Strawberries        28639\n",
       "21903       Organic Baby Spinach        26233\n",
       "47209       Organic Hass Avocado        23629\n",
       "47766       Organic Avocado             18743\n",
       "27845       Organic Whole Milk          16251\n",
       "47626       Large Lemon                 15044\n",
       "27966       Organic Raspberries         14748\n",
       "16797       Strawberries                13945\n",
       "26209       Limes                       13327\n",
       "22935       Organic Yellow Onion        11145\n",
       "24964       Organic Garlic              10411\n",
       "45007       Organic Zucchini            10076\n",
       "49683       Cucumber Kirby               9538\n",
       "28204       Organic Fuji Apple           8989\n",
       "8277        Apple Honeycrisp Organic     8836\n",
       "39275       Organic Blueberries          8799\n",
       "5876        Organic Lemon                8412\n",
       "49235       Organic Half & Half          8389\n",
       "Name: reordered, dtype: int64"
      ]
     },
     "execution_count": 67,
     "metadata": {},
     "output_type": "execute_result"
    }
   ],
   "source": [
    "freq_prod =order_prod_named.groupby(['product_id', 'product_name'])['reordered'].sum()\n",
    "freq_prod= freq_prod.sort_values(ascending=False).head(20)\n",
    "freq_prod"
   ]
  },
  {
   "cell_type": "code",
   "execution_count": 68,
   "id": "2b734154",
   "metadata": {},
   "outputs": [
    {
     "data": {
      "image/png": "[encoded data removed]",
      "text/plain": [
       "<Figure size 900x600 with 1 Axes>"
      ]
     },
     "metadata": {},
     "output_type": "display_data"
    }
   ],
   "source": [
    "freq_prod = freq_prod.head(20)\n",
    "freq_prod.plot(kind='bar', x='product_id', y='freq_prod', rot=84, color='purple', legend=False, figsize=(9, 6))\n",
    "plt.ylabel('Total de artículos reordenados')\n",
    "plt.xlabel('Producto')\n",
    "plt.title('Top 20 productos reordenados')\n",
    "plt.show()"
   ]
  },
  {
   "cell_type": "markdown",
   "id": "80e70c74",
   "metadata": {
    "id": "80e70c74"
   },
   "source": [
    "Se puede apreciar en la tabla que los plátanos son el producto que indiscutiblemente se vuelve a reordenar y en general frutas y verduras."
   ]
  },
  {
   "cell_type": "markdown",
   "id": "91e2c8b6",
   "metadata": {},
   "source": [
    "<div class=\"alert alert-block alert-warning\">\n",
    "<b>Comentario del revisor (1era Iteracion)</b> <a class=“tocSkip”></a>\n",
    "\n",
    "Buen trabajo calculando los productos que se piden con más frecuencia. Cómo recomendación siempre que tengas este tipo de ejercicios donde se necesita hacer un conteo y luego una comparación puedes incluir una gráfica de barras.\n",
    "</div>"
   ]
  },
  {
   "cell_type": "markdown",
   "id": "15dfd4d9",
   "metadata": {},
   "source": [
    "<div class=\"alert alert-block alert-info\">\n",
    "<b> Perfecto, la información se aprecia y se transmite de mejor forma. Gracias </b> <a class=“tocSkip”></a>\n",
    "</div>"
   ]
  },
  {
   "cell_type": "markdown",
   "id": "736b19c7",
   "metadata": {},
   "source": [
    "<div class=\"alert alert-block alert-success\">\n",
    "<b>Comentario del revisor (2da Iteracion)</b> <a class=“tocSkip”></a>\n",
    "\n",
    "No hay de que! Buen trabajo\n",
    "</div>"
   ]
  },
  {
   "cell_type": "markdown",
   "id": "9d312b14",
   "metadata": {
    "id": "9d312b14"
   },
   "source": [
    "### [C3] Para cada producto, ¿cuál es la proporción de las veces que se pide y que se vuelve a pedir?"
   ]
  },
  {
   "cell_type": "code",
   "execution_count": 69,
   "id": "8ae9f4b1",
   "metadata": {
    "id": "8ae9f4b1"
   },
   "outputs": [],
   "source": [
    "normal_order= order_prod_named[order_prod_named['reordered'] == 0].groupby('product_id').size()"
   ]
  },
  {
   "cell_type": "code",
   "execution_count": 70,
   "id": "103e7fe1",
   "metadata": {
    "id": "103e7fe1"
   },
   "outputs": [],
   "source": [
    "reordered = order_prod_named[order_prod_named['reordered'] == 1].groupby('product_id').size()"
   ]
  },
  {
   "cell_type": "code",
   "execution_count": 71,
   "id": "social-individual",
   "metadata": {
    "id": "social-individual"
   },
   "outputs": [
    {
     "data": {
      "text/plain": [
       "product_id\n",
       "1        0.564286\n",
       "2             NaN\n",
       "3        0.738095\n",
       "4        0.510204\n",
       "7        0.500000\n",
       "           ...   \n",
       "49690    0.800000\n",
       "49691    0.430556\n",
       "49692    0.416667\n",
       "49693    0.440000\n",
       "49694    0.333333\n",
       "Length: 45573, dtype: float64"
      ]
     },
     "execution_count": 71,
     "metadata": {},
     "output_type": "execute_result"
    }
   ],
   "source": [
    "prop_reordered= reordered / (normal_order + reordered)\n",
    "prop_reordered"
   ]
  },
  {
   "cell_type": "markdown",
   "id": "I10dEIAyldcO",
   "metadata": {
    "id": "I10dEIAyldcO"
   },
   "source": [
    "Este es el promedio de las veces que se piden los productos de nuevo y justo aqui podemos visualizar que el prod con ID 2 solo ha sido comprado de manera única mientras que (al menos los que se pueden visualizar) los demás han sido reordenados en varias ocasiones."
   ]
  },
  {
   "cell_type": "code",
   "execution_count": 72,
   "id": "e0246468",
   "metadata": {},
   "outputs": [
    {
     "data": {
      "text/plain": [
       "0.5905025008762362"
      ]
     },
     "execution_count": 72,
     "metadata": {},
     "output_type": "execute_result"
    }
   ],
   "source": [
    "order_prod_named['reordered'].mean()"
   ]
  },
  {
   "cell_type": "markdown",
   "id": "5c7e564a",
   "metadata": {},
   "source": [
    "<div class=\"alert alert-block alert-success\">\n",
    "<b>Comentario del revisor (1era Iteracion)</b> <a class=“tocSkip”></a>\n",
    "\n",
    "Buen trabajo con el cálculo! También podrías aplicar `.mean()` a la columna reordered puesto que al ser valores de 1 y 0, si tienes 5 valores con 1 y 5 con 0, al sacar la media obtendrás 0.5 cómo la proporción lo cual es lo correcto ya que la mitad de las veces se volvió a reordenar en este ejemplo.\n",
    "</div>"
   ]
  },
  {
   "cell_type": "markdown",
   "id": "ebc650f6",
   "metadata": {},
   "source": [
    "<div class=\"alert alert-block alert-info\">\n",
    "<b> Vale, entonces para esta respuesta ¿se necesitaba un número global y con esa línea bastaba? Gracias, si entendí tu punto :)</b> <a class=“tocSkip”></a>\n",
    "</div>"
   ]
  },
  {
   "cell_type": "markdown",
   "id": "457c4b5b",
   "metadata": {},
   "source": [
    "<div class=\"alert alert-block alert-success\">\n",
    "<b>Comentario del revisor (2da Iteracion)</b> <a class=“tocSkip”></a>\n",
    "\n",
    "Quizá no me hice entender bien, una disculpa, el `.mean()` podías aplicarlo luego de hacer la agrupación por `product_id` cómo lo hiciste donde aplicaste `.size()` solo que sería una sola línea con la agrupación y obtendrías el mismo resultado que en tu variable `prop_reordered`\n",
    "</div>"
   ]
  },
  {
   "cell_type": "markdown",
   "id": "subject-boxing",
   "metadata": {
    "id": "subject-boxing"
   },
   "source": [
    "### [C4] Para cada cliente, ¿qué proporción de sus productos ya los había pedido?"
   ]
  },
  {
   "cell_type": "code",
   "execution_count": 73,
   "id": "21d28aa6",
   "metadata": {
    "id": "8892e4b4"
   },
   "outputs": [
    {
     "data": {
      "text/html": [
       "<div>\n",
       "<style scoped>\n",
       "    .dataframe tbody tr th:only-of-type {\n",
       "        vertical-align: middle;\n",
       "    }\n",
       "\n",
       "    .dataframe tbody tr th {\n",
       "        vertical-align: top;\n",
       "    }\n",
       "\n",
       "    .dataframe thead th {\n",
       "        text-align: right;\n",
       "    }\n",
       "</style>\n",
       "<table border=\"1\" class=\"dataframe\">\n",
       "  <thead>\n",
       "    <tr style=\"text-align: right;\">\n",
       "      <th></th>\n",
       "      <th>order_id</th>\n",
       "      <th>user_id</th>\n",
       "      <th>order_number</th>\n",
       "      <th>order_dow</th>\n",
       "      <th>order_hour_of_day</th>\n",
       "      <th>days_since_prior_order</th>\n",
       "      <th>product_id</th>\n",
       "      <th>add_to_cart_order</th>\n",
       "      <th>reordered</th>\n",
       "    </tr>\n",
       "  </thead>\n",
       "  <tbody>\n",
       "    <tr>\n",
       "      <th>0</th>\n",
       "      <td>1515936</td>\n",
       "      <td>183418</td>\n",
       "      <td>11</td>\n",
       "      <td>6</td>\n",
       "      <td>13</td>\n",
       "      <td>30.0</td>\n",
       "      <td>19048</td>\n",
       "      <td>1</td>\n",
       "      <td>1</td>\n",
       "    </tr>\n",
       "    <tr>\n",
       "      <th>1</th>\n",
       "      <td>1515936</td>\n",
       "      <td>183418</td>\n",
       "      <td>11</td>\n",
       "      <td>6</td>\n",
       "      <td>13</td>\n",
       "      <td>30.0</td>\n",
       "      <td>47766</td>\n",
       "      <td>3</td>\n",
       "      <td>1</td>\n",
       "    </tr>\n",
       "    <tr>\n",
       "      <th>2</th>\n",
       "      <td>1515936</td>\n",
       "      <td>183418</td>\n",
       "      <td>11</td>\n",
       "      <td>6</td>\n",
       "      <td>13</td>\n",
       "      <td>30.0</td>\n",
       "      <td>45066</td>\n",
       "      <td>9</td>\n",
       "      <td>0</td>\n",
       "    </tr>\n",
       "    <tr>\n",
       "      <th>3</th>\n",
       "      <td>1515936</td>\n",
       "      <td>183418</td>\n",
       "      <td>11</td>\n",
       "      <td>6</td>\n",
       "      <td>13</td>\n",
       "      <td>30.0</td>\n",
       "      <td>24082</td>\n",
       "      <td>11</td>\n",
       "      <td>0</td>\n",
       "    </tr>\n",
       "    <tr>\n",
       "      <th>4</th>\n",
       "      <td>1515936</td>\n",
       "      <td>183418</td>\n",
       "      <td>11</td>\n",
       "      <td>6</td>\n",
       "      <td>13</td>\n",
       "      <td>30.0</td>\n",
       "      <td>24363</td>\n",
       "      <td>4</td>\n",
       "      <td>0</td>\n",
       "    </tr>\n",
       "  </tbody>\n",
       "</table>\n",
       "</div>"
      ],
      "text/plain": [
       "   order_id  user_id  order_number  order_dow  order_hour_of_day  \\\n",
       "0   1515936   183418            11          6                 13   \n",
       "1   1515936   183418            11          6                 13   \n",
       "2   1515936   183418            11          6                 13   \n",
       "3   1515936   183418            11          6                 13   \n",
       "4   1515936   183418            11          6                 13   \n",
       "\n",
       "   days_since_prior_order  product_id  add_to_cart_order  reordered  \n",
       "0                    30.0       19048                  1          1  \n",
       "1                    30.0       47766                  3          1  \n",
       "2                    30.0       45066                  9          0  \n",
       "3                    30.0       24082                 11          0  \n",
       "4                    30.0       24363                  4          0  "
      ]
     },
     "execution_count": 73,
     "metadata": {},
     "output_type": "execute_result"
    }
   ],
   "source": [
    "prop_clients = pd.merge(\n",
    "    orders, \n",
    "    order_products,\n",
    "    \n",
    ")\n",
    "prop_clients.head()"
   ]
  },
  {
   "cell_type": "code",
   "execution_count": 74,
   "id": "cf3de395",
   "metadata": {},
   "outputs": [
    {
     "data": {
      "text/plain": [
       "user_id\n",
       "2         0.038462\n",
       "4         0.000000\n",
       "5         0.666667\n",
       "6         0.000000\n",
       "7         0.928571\n",
       "            ...   \n",
       "206203    0.222222\n",
       "206206    0.714286\n",
       "206207    0.891304\n",
       "206208    0.696000\n",
       "206209    0.320000\n",
       "Name: reordered, Length: 149626, dtype: float64"
      ]
     },
     "execution_count": 74,
     "metadata": {},
     "output_type": "execute_result"
    }
   ],
   "source": [
    "prop_clients.groupby('user_id')['reordered'].mean()"
   ]
  },
  {
   "cell_type": "markdown",
   "id": "BgJSvXDsleXz",
   "metadata": {
    "id": "BgJSvXDsleXz"
   },
   "source": [
    "Se puede apreciar a groso modo, que los últimos usuarios suelen pedir más los productos que ya habían pedido con anterioridad "
   ]
  },
  {
   "cell_type": "markdown",
   "id": "6df73e6f",
   "metadata": {},
   "source": [
    "<div class=\"alert alert-block alert-success\">\n",
    "<b>Comentario del revisor (1era Iteracion)</b> <a class=“tocSkip”></a>\n",
    "\n",
    "Muy buen trabajo con la uníon de los datasets y el cálculo de la proporción\n",
    "</div>"
   ]
  },
  {
   "cell_type": "markdown",
   "id": "92d35137",
   "metadata": {
    "id": "92d35137"
   },
   "source": [
    "### [C5] ¿Cuáles son los 20 principales artículos que las personas ponen primero en sus carritos?"
   ]
  },
  {
   "cell_type": "code",
   "execution_count": 80,
   "id": "1c5f42dd",
   "metadata": {
    "scrolled": true
   },
   "outputs": [
    {
     "data": {
      "text/plain": [
       "product_id\n",
       "24852    15562\n",
       "13176    11026\n",
       "27845     4363\n",
       "21137     3946\n",
       "47209     3390\n",
       "21903     3336\n",
       "47766     3044\n",
       "19660     2336\n",
       "16797     2308\n",
       "27966     2024\n",
       "44632     1914\n",
       "49235     1797\n",
       "47626     1737\n",
       "196       1733\n",
       "38689     1397\n",
       "26209     1370\n",
       "12341     1340\n",
       "5785      1310\n",
       "27086     1309\n",
       "43352     1246\n",
       "Name: order_id, dtype: int64"
      ]
     },
     "execution_count": 80,
     "metadata": {},
     "output_type": "execute_result"
    }
   ],
   "source": [
    "prod= order_products[order_products['add_to_cart_order']==1]\n",
    "prod_counts= prod.groupby('product_id')['order_id'].count().sort_values(ascending=False)\n",
    "prod_counts.head(20)"
   ]
  },
  {
   "cell_type": "code",
   "execution_count": 92,
   "id": "043542e0",
   "metadata": {},
   "outputs": [
    {
     "data": {
      "image/png": "[encoded data removed]",
      "text/plain": [
       "<Figure size 900x600 with 1 Axes>"
      ]
     },
     "metadata": {},
     "output_type": "display_data"
    }
   ],
   "source": [
    "prod_counts= prod.groupby('product_id')['order_id'].count().sort_values(ascending=False)\n",
    "prod_counts = prod_counts.head(20)\n",
    "\n",
    "#Esta linea fue la que investigué \n",
    "prod_counts = prod_counts.reset_index()\n",
    "\n",
    "# Para saber qué columna tiene la info y no se confunda\n",
    "prod_counts.rename(columns={'order_id': 'total_orders'}, inplace=True)\n",
    "\n",
    "# Hice un merge para acceder a los nombres de los productos\n",
    "prod_counts = prod_counts.merge(products, on='product_id', how='left')\n",
    "\n",
    "prod_counts.plot(kind='bar',x='product_name', y='total_orders', color='purple', figsize=(9, 6), legend=False)\n",
    "plt.ylabel('Total de artículos')\n",
    "plt.xlabel('Producto')\n",
    "plt.title('Top 20 productos agregados primero')\n",
    "plt.xticks(rotation=84)\n",
    "plt.show()"
   ]
  },
  {
   "cell_type": "markdown",
   "id": "28ce9872",
   "metadata": {
    "id": "28ce9872"
   },
   "source": [
    "Aquí estamos mostrando los primeros 20 articulos que se añadieron al carrito, no sabemos su nombre pero sabemos su ID."
   ]
  },
  {
   "cell_type": "markdown",
   "id": "f431d19c",
   "metadata": {},
   "source": [
    "<div class=\"alert alert-block alert-warning\">\n",
    "<b>Comentario del revisor (1era Iteracion)</b> <a class=“tocSkip”></a>\n",
    "\n",
    "Muy buen trabajo con el cálculo y conclusión! También podrías incluir una gráfica de barras donde muestre nombre y ID para mejorar la comprensión del análisis.\n",
    "</div>"
   ]
  },
  {
   "cell_type": "markdown",
   "id": "7d9a5f60",
   "metadata": {},
   "source": [
    "<div class=\"alert alert-block alert-info\">\n",
    "<b> Perfecto, en este paso como se hizo un filtro antes y necesitaba el nombre del producto pero al mismo tiempo estab trabajando con un Series sí pedí ayuda y también en el cambio de nombre de la columna ya que no comprendía porque se tenía que hacer. Gracias</b> <a class=“tocSkip”></a>\n",
    "</div>"
   ]
  },
  {
   "cell_type": "markdown",
   "id": "uITbFCEoDosC",
   "metadata": {
    "id": "uITbFCEoDosC"
   },
   "source": [
    "### Conclusion general del proyecto:"
   ]
  },
  {
   "cell_type": "markdown",
   "id": "3d9a95a2",
   "metadata": {
    "id": "Nk-4GS7mDwqY"
   },
   "source": [
    "Este proyecto ya es más acercado a la realidad de lo que veremos en un entorno de trabajo, por lo que se requiere trabajar con más de un archivo, los cuales trabajan en conjunto para dar info sobre un proceso completo.\n",
    "\n",
    "Como primer paso rápido es importante comprobar valores NaN, trabajar sobre las filas completamente duplicadas y e eliminaron para tener los datos necesarios para realizar los siguiente pasos. También, fue importante darse cuenta que puede haber fallas en el sistema y eso crea datos duplicados. Realizar también el llenado de lso valores ausentes fue importante para poder visualizar de manera fácil dónde se encontraban. Se trabajo DF por DF para obtener info sobre ciertos errores basado en la información previa.\n",
    "En la parte final, ya con los datos limpios se pueden realizar las gráficas pertinentes sobre todo para obtener info sobre los pedidos, los productos populares basados en las órdenes, en los clientes y así dar la info sobre qué conviene tener más en stock y por ejemplo sobre qué productos tener más en promoción o cuales descartar por completo ya que su consumo es muy bajo.\n"
   ]
  },
  {
   "cell_type": "markdown",
   "id": "357cfe15",
   "metadata": {},
   "source": [
    "<div class=\"alert alert-block alert-info\">\n",
    "<b>Comentario final (1ra Revision)</b> <a class=“tocSkip”></a>\n",
    "    \n",
    "\n",
    "Hiciste un buen trabajo Aylin! Redactaste muy buenas conclusiones a partir de las gráficas resultantes y el análisis en general, se nota tu conocimiento de las herramientas de manejo de datos cómo lo es pandas y la interpretación de los resultados.\n",
    "    \n",
    "    \n",
    "Te felicito por el trabajo realizado, realmente son pocos los puntos a cambiar para que tu proyecto esté completo, estoy seguro que en tu siguiente iteración lo habrás logrado.\n",
    "    \n",
    "\n",
    "Te he ido dejando mis comentarios y recomendacioens sobre algunos puntos que espero te sirvan para tu siguiente iteracion y tus próximos proyectos.\n",
    "    \n",
    "Un saludo!\n",
    "</div>"
   ]
  },
  {
   "cell_type": "markdown",
   "id": "8d11ca9c",
   "metadata": {},
   "source": [
    "<div class=\"alert alert-block alert-success\">\n",
    "<b>Comentario final (2da Revision)</b> <a class=“tocSkip”></a>\n",
    "    \n",
    "\n",
    "Muy buen trabajo con los cambios Aylin! Dejaste mucho más pulido tu proyecto, te felicito. Te he dejado algunos comentarios resolviendo algunas de las dudas que habías planteado, espero se entienda y te sirva en tus próximos proyectos. Pero en sí, tu proyecto ya estaría completo.\n",
    "    \n",
    "Un saludo!\n",
    "</div>"
   ]
  }
 ],
 "metadata": {
  "ExecuteTimeLog": [
   {
    "duration": 347,
    "start_time": "2024-05-16T18:29:47.888Z"
   },
   {
    "duration": 4552,
    "start_time": "2024-05-16T18:29:58.109Z"
   },
   {
    "duration": 1939,
    "start_time": "2024-05-16T18:30:02.664Z"
   },
   {
    "duration": 23,
    "start_time": "2024-05-16T18:30:04.606Z"
   },
   {
    "duration": 20,
    "start_time": "2024-05-16T18:30:04.635Z"
   },
   {
    "duration": 17,
    "start_time": "2024-05-16T18:30:04.659Z"
   },
   {
    "duration": 62,
    "start_time": "2024-05-16T18:30:04.680Z"
   },
   {
    "duration": 42,
    "start_time": "2024-05-16T18:30:04.746Z"
   },
   {
    "duration": 235,
    "start_time": "2024-05-16T18:30:04.792Z"
   },
   {
    "duration": 242,
    "start_time": "2024-05-16T18:30:05.031Z"
   },
   {
    "duration": 20,
    "start_time": "2024-05-16T18:30:05.280Z"
   },
   {
    "duration": 234,
    "start_time": "2024-05-16T18:30:05.303Z"
   },
   {
    "duration": 196,
    "start_time": "2024-05-16T18:30:05.540Z"
   },
   {
    "duration": 61,
    "start_time": "2024-05-16T18:30:05.739Z"
   },
   {
    "duration": 30,
    "start_time": "2024-05-16T18:30:05.825Z"
   },
   {
    "duration": 9,
    "start_time": "2024-05-16T18:30:05.859Z"
   },
   {
    "duration": 72,
    "start_time": "2024-05-16T18:30:05.871Z"
   },
   {
    "duration": 43,
    "start_time": "2024-05-16T18:30:05.947Z"
   },
   {
    "duration": 33,
    "start_time": "2024-05-16T18:30:05.993Z"
   },
   {
    "duration": 7,
    "start_time": "2024-05-16T18:30:06.029Z"
   },
   {
    "duration": 8,
    "start_time": "2024-05-16T18:30:06.040Z"
   },
   {
    "duration": 7,
    "start_time": "2024-05-16T18:30:06.052Z"
   },
   {
    "duration": 1733,
    "start_time": "2024-05-16T18:30:06.063Z"
   },
   {
    "duration": 1446,
    "start_time": "2024-05-16T18:30:07.799Z"
   },
   {
    "duration": 20,
    "start_time": "2024-05-16T18:30:09.248Z"
   },
   {
    "duration": 12,
    "start_time": "2024-05-16T18:30:09.272Z"
   },
   {
    "duration": 51,
    "start_time": "2024-05-16T18:30:09.287Z"
   },
   {
    "duration": 4,
    "start_time": "2024-05-16T18:30:09.341Z"
   },
   {
    "duration": 13,
    "start_time": "2024-05-16T18:30:09.360Z"
   },
   {
    "duration": 49,
    "start_time": "2024-05-16T18:30:09.377Z"
   },
   {
    "duration": 12,
    "start_time": "2024-05-16T18:30:09.430Z"
   },
   {
    "duration": 13,
    "start_time": "2024-05-16T18:30:09.446Z"
   },
   {
    "duration": 21,
    "start_time": "2024-05-16T18:30:09.462Z"
   },
   {
    "duration": 58,
    "start_time": "2024-05-16T18:30:09.486Z"
   },
   {
    "duration": 30,
    "start_time": "2024-05-16T18:30:09.547Z"
   },
   {
    "duration": 68,
    "start_time": "2024-05-16T18:30:09.581Z"
   },
   {
    "duration": 31,
    "start_time": "2024-05-16T18:30:09.652Z"
   },
   {
    "duration": 58,
    "start_time": "2024-05-16T18:30:09.687Z"
   },
   {
    "duration": 10,
    "start_time": "2024-05-16T18:30:09.748Z"
   },
   {
    "duration": 4,
    "start_time": "2024-05-16T18:30:09.761Z"
   },
   {
    "duration": 77,
    "start_time": "2024-05-16T18:30:09.768Z"
   },
   {
    "duration": 7,
    "start_time": "2024-05-16T18:30:09.848Z"
   },
   {
    "duration": 13,
    "start_time": "2024-05-16T18:30:09.859Z"
   },
   {
    "duration": 76,
    "start_time": "2024-05-16T18:30:09.876Z"
   },
   {
    "duration": 31,
    "start_time": "2024-05-16T18:30:09.955Z"
   },
   {
    "duration": 57,
    "start_time": "2024-05-16T18:30:09.990Z"
   },
   {
    "duration": 455,
    "start_time": "2024-05-16T18:30:10.050Z"
   },
   {
    "duration": 240,
    "start_time": "2024-05-16T18:30:10.509Z"
   },
   {
    "duration": 415,
    "start_time": "2024-05-16T18:30:10.752Z"
   },
   {
    "duration": 476,
    "start_time": "2024-05-16T18:30:11.172Z"
   },
   {
    "duration": 325,
    "start_time": "2024-05-16T18:30:11.652Z"
   },
   {
    "duration": 2225,
    "start_time": "2024-05-16T18:30:11.981Z"
   },
   {
    "duration": 838,
    "start_time": "2024-05-16T18:30:14.209Z"
   },
   {
    "duration": 923,
    "start_time": "2024-05-16T18:30:15.053Z"
   },
   {
    "duration": 827,
    "start_time": "2024-05-16T18:30:15.979Z"
   },
   {
    "duration": 221,
    "start_time": "2024-05-16T18:30:16.809Z"
   },
   {
    "duration": 265,
    "start_time": "2024-05-16T18:30:17.033Z"
   },
   {
    "duration": 26,
    "start_time": "2024-05-16T18:30:17.301Z"
   },
   {
    "duration": 197,
    "start_time": "2024-05-16T18:30:17.330Z"
   },
   {
    "duration": 2096,
    "start_time": "2024-05-16T18:32:43.286Z"
   },
   {
    "duration": 2199,
    "start_time": "2024-05-16T18:32:55.471Z"
   },
   {
    "duration": 2194,
    "start_time": "2024-05-16T18:33:11.164Z"
   },
   {
    "duration": 2301,
    "start_time": "2024-05-16T18:39:07.834Z"
   },
   {
    "duration": 2007,
    "start_time": "2024-05-16T18:39:20.131Z"
   },
   {
    "duration": 2558,
    "start_time": "2024-05-16T18:42:45.692Z"
   },
   {
    "duration": 238,
    "start_time": "2024-05-16T18:43:49.811Z"
   },
   {
    "duration": 558,
    "start_time": "2024-05-16T18:52:41.620Z"
   },
   {
    "duration": 44,
    "start_time": "2024-05-16T18:53:03.620Z"
   },
   {
    "duration": 168,
    "start_time": "2024-05-16T18:53:15.657Z"
   },
   {
    "duration": 203,
    "start_time": "2024-05-16T18:53:31.462Z"
   },
   {
    "duration": 196,
    "start_time": "2024-05-16T18:53:38.838Z"
   },
   {
    "duration": 204,
    "start_time": "2024-05-16T18:53:56.171Z"
   },
   {
    "duration": 7,
    "start_time": "2024-05-16T18:54:10.671Z"
   },
   {
    "duration": 8,
    "start_time": "2024-05-16T18:54:15.211Z"
   },
   {
    "duration": 3,
    "start_time": "2024-05-16T18:57:02.994Z"
   },
   {
    "duration": 5,
    "start_time": "2024-05-16T18:57:06.334Z"
   },
   {
    "duration": 9,
    "start_time": "2024-05-16T19:02:44.810Z"
   },
   {
    "duration": 11,
    "start_time": "2024-05-16T19:02:48.934Z"
   },
   {
    "duration": 486,
    "start_time": "2024-05-16T19:04:41.582Z"
   },
   {
    "duration": 29,
    "start_time": "2024-05-16T19:05:47.095Z"
   },
   {
    "duration": 515,
    "start_time": "2024-05-16T19:05:57.819Z"
   },
   {
    "duration": 61,
    "start_time": "2024-05-16T19:07:30.252Z"
   },
   {
    "duration": 63,
    "start_time": "2024-05-16T19:07:44.454Z"
   },
   {
    "duration": 64,
    "start_time": "2024-05-16T19:07:49.043Z"
   },
   {
    "duration": 72,
    "start_time": "2024-05-16T19:09:32.917Z"
   },
   {
    "duration": 697,
    "start_time": "2024-05-16T20:27:38.388Z"
   },
   {
    "duration": 1741,
    "start_time": "2024-05-16T20:27:39.089Z"
   },
   {
    "duration": 22,
    "start_time": "2024-05-16T20:27:40.834Z"
   },
   {
    "duration": 20,
    "start_time": "2024-05-16T20:27:40.862Z"
   },
   {
    "duration": 50,
    "start_time": "2024-05-16T20:27:40.886Z"
   },
   {
    "duration": 16,
    "start_time": "2024-05-16T20:27:40.940Z"
   },
   {
    "duration": 77,
    "start_time": "2024-05-16T20:27:40.959Z"
   },
   {
    "duration": 198,
    "start_time": "2024-05-16T20:27:41.040Z"
   },
   {
    "duration": 234,
    "start_time": "2024-05-16T20:27:41.241Z"
   },
   {
    "duration": 20,
    "start_time": "2024-05-16T20:27:41.481Z"
   },
   {
    "duration": 229,
    "start_time": "2024-05-16T20:27:41.505Z"
   },
   {
    "duration": 195,
    "start_time": "2024-05-16T20:27:41.737Z"
   },
   {
    "duration": 58,
    "start_time": "2024-05-16T20:27:41.935Z"
   },
   {
    "duration": 55,
    "start_time": "2024-05-16T20:27:41.997Z"
   },
   {
    "duration": 9,
    "start_time": "2024-05-16T20:27:42.057Z"
   },
   {
    "duration": 72,
    "start_time": "2024-05-16T20:27:42.070Z"
   },
   {
    "duration": 43,
    "start_time": "2024-05-16T20:27:42.146Z"
   },
   {
    "duration": 34,
    "start_time": "2024-05-16T20:27:42.192Z"
   },
   {
    "duration": 8,
    "start_time": "2024-05-16T20:27:42.229Z"
   },
   {
    "duration": 9,
    "start_time": "2024-05-16T20:27:42.239Z"
   },
   {
    "duration": 7,
    "start_time": "2024-05-16T20:27:42.252Z"
   },
   {
    "duration": 1464,
    "start_time": "2024-05-16T20:27:42.263Z"
   },
   {
    "duration": 1263,
    "start_time": "2024-05-16T20:27:43.730Z"
   },
   {
    "duration": 31,
    "start_time": "2024-05-16T20:27:44.996Z"
   },
   {
    "duration": 12,
    "start_time": "2024-05-16T20:27:45.030Z"
   },
   {
    "duration": 11,
    "start_time": "2024-05-16T20:27:45.046Z"
   },
   {
    "duration": 4,
    "start_time": "2024-05-16T20:27:45.060Z"
   },
   {
    "duration": 55,
    "start_time": "2024-05-16T20:27:45.074Z"
   },
   {
    "duration": 12,
    "start_time": "2024-05-16T20:27:45.133Z"
   },
   {
    "duration": 10,
    "start_time": "2024-05-16T20:27:45.149Z"
   },
   {
    "duration": 12,
    "start_time": "2024-05-16T20:27:45.163Z"
   },
   {
    "duration": 66,
    "start_time": "2024-05-16T20:27:45.178Z"
   },
   {
    "duration": 20,
    "start_time": "2024-05-16T20:27:45.248Z"
   },
   {
    "duration": 67,
    "start_time": "2024-05-16T20:27:45.272Z"
   },
   {
    "duration": 29,
    "start_time": "2024-05-16T20:27:45.342Z"
   },
   {
    "duration": 60,
    "start_time": "2024-05-16T20:27:45.374Z"
   },
   {
    "duration": 33,
    "start_time": "2024-05-16T20:27:45.438Z"
   },
   {
    "duration": 9,
    "start_time": "2024-05-16T20:27:45.478Z"
   },
   {
    "duration": 36,
    "start_time": "2024-05-16T20:27:45.491Z"
   },
   {
    "duration": 37,
    "start_time": "2024-05-16T20:27:45.531Z"
   },
   {
    "duration": 6,
    "start_time": "2024-05-16T20:27:45.571Z"
   },
   {
    "duration": 7,
    "start_time": "2024-05-16T20:27:45.580Z"
   },
   {
    "duration": 45,
    "start_time": "2024-05-16T20:27:45.626Z"
   },
   {
    "duration": 60,
    "start_time": "2024-05-16T20:27:45.674Z"
   },
   {
    "duration": 31,
    "start_time": "2024-05-16T20:27:45.737Z"
   },
   {
    "duration": 393,
    "start_time": "2024-05-16T20:27:45.771Z"
   },
   {
    "duration": 234,
    "start_time": "2024-05-16T20:27:46.167Z"
   },
   {
    "duration": 429,
    "start_time": "2024-05-16T20:27:46.405Z"
   },
   {
    "duration": 448,
    "start_time": "2024-05-16T20:27:46.838Z"
   },
   {
    "duration": 325,
    "start_time": "2024-05-16T20:27:47.289Z"
   },
   {
    "duration": 1545,
    "start_time": "2024-05-16T20:27:47.617Z"
   },
   {
    "duration": 873,
    "start_time": "2024-05-16T20:27:49.165Z"
   },
   {
    "duration": 894,
    "start_time": "2024-05-16T20:27:50.041Z"
   },
   {
    "duration": 830,
    "start_time": "2024-05-16T20:27:50.938Z"
   },
   {
    "duration": 211,
    "start_time": "2024-05-16T20:27:51.771Z"
   },
   {
    "duration": 265,
    "start_time": "2024-05-16T20:27:51.985Z"
   },
   {
    "duration": 16,
    "start_time": "2024-05-16T20:27:52.253Z"
   },
   {
    "duration": 1513,
    "start_time": "2024-05-16T20:27:52.273Z"
   },
   {
    "duration": 231,
    "start_time": "2024-05-16T20:27:53.789Z"
   },
   {
    "duration": 135,
    "start_time": "2024-05-16T20:27:54.028Z"
   },
   {
    "duration": 10,
    "start_time": "2024-05-16T20:36:31.010Z"
   },
   {
    "duration": 4533,
    "start_time": "2024-05-17T22:22:49.524Z"
   },
   {
    "duration": 1643,
    "start_time": "2024-05-17T22:22:54.062Z"
   },
   {
    "duration": 34,
    "start_time": "2024-05-17T22:22:55.708Z"
   },
   {
    "duration": 19,
    "start_time": "2024-05-17T22:22:55.745Z"
   },
   {
    "duration": 16,
    "start_time": "2024-05-17T22:22:55.770Z"
   },
   {
    "duration": 49,
    "start_time": "2024-05-17T22:22:55.789Z"
   },
   {
    "duration": 41,
    "start_time": "2024-05-17T22:22:55.842Z"
   },
   {
    "duration": 185,
    "start_time": "2024-05-17T22:22:55.886Z"
   },
   {
    "duration": 199,
    "start_time": "2024-05-17T22:22:56.075Z"
   },
   {
    "duration": 20,
    "start_time": "2024-05-17T22:22:56.278Z"
   },
   {
    "duration": 202,
    "start_time": "2024-05-17T22:22:56.302Z"
   },
   {
    "duration": 168,
    "start_time": "2024-05-17T22:22:56.507Z"
   },
   {
    "duration": 59,
    "start_time": "2024-05-17T22:22:56.678Z"
   },
   {
    "duration": 22,
    "start_time": "2024-05-17T22:22:56.744Z"
   },
   {
    "duration": 7,
    "start_time": "2024-05-17T22:22:56.769Z"
   },
   {
    "duration": 64,
    "start_time": "2024-05-17T22:22:56.782Z"
   },
   {
    "duration": 47,
    "start_time": "2024-05-17T22:22:56.849Z"
   },
   {
    "duration": 32,
    "start_time": "2024-05-17T22:22:56.899Z"
   },
   {
    "duration": 7,
    "start_time": "2024-05-17T22:22:56.938Z"
   },
   {
    "duration": 8,
    "start_time": "2024-05-17T22:22:56.950Z"
   },
   {
    "duration": 10,
    "start_time": "2024-05-17T22:22:56.962Z"
   },
   {
    "duration": 1373,
    "start_time": "2024-05-17T22:22:56.975Z"
   },
   {
    "duration": 1168,
    "start_time": "2024-05-17T22:22:58.352Z"
   },
   {
    "duration": 24,
    "start_time": "2024-05-17T22:22:59.523Z"
   },
   {
    "duration": 11,
    "start_time": "2024-05-17T22:22:59.550Z"
   },
   {
    "duration": 10,
    "start_time": "2024-05-17T22:22:59.564Z"
   },
   {
    "duration": 4,
    "start_time": "2024-05-17T22:22:59.577Z"
   },
   {
    "duration": 53,
    "start_time": "2024-05-17T22:22:59.584Z"
   },
   {
    "duration": 9,
    "start_time": "2024-05-17T22:22:59.640Z"
   },
   {
    "duration": 9,
    "start_time": "2024-05-17T22:22:59.653Z"
   },
   {
    "duration": 12,
    "start_time": "2024-05-17T22:22:59.666Z"
   },
   {
    "duration": 67,
    "start_time": "2024-05-17T22:22:59.681Z"
   },
   {
    "duration": 19,
    "start_time": "2024-05-17T22:22:59.751Z"
   },
   {
    "duration": 24,
    "start_time": "2024-05-17T22:22:59.773Z"
   },
   {
    "duration": 28,
    "start_time": "2024-05-17T22:22:59.832Z"
   },
   {
    "duration": 28,
    "start_time": "2024-05-17T22:22:59.864Z"
   },
   {
    "duration": 60,
    "start_time": "2024-05-17T22:22:59.894Z"
   },
   {
    "duration": 9,
    "start_time": "2024-05-17T22:22:59.956Z"
   },
   {
    "duration": 4,
    "start_time": "2024-05-17T22:22:59.968Z"
   },
   {
    "duration": 69,
    "start_time": "2024-05-17T22:22:59.974Z"
   },
   {
    "duration": 5,
    "start_time": "2024-05-17T22:23:00.052Z"
   },
   {
    "duration": 7,
    "start_time": "2024-05-17T22:23:00.060Z"
   },
   {
    "duration": 68,
    "start_time": "2024-05-17T22:23:00.073Z"
   },
   {
    "duration": 34,
    "start_time": "2024-05-17T22:23:00.144Z"
   },
   {
    "duration": 52,
    "start_time": "2024-05-17T22:23:00.181Z"
   },
   {
    "duration": 383,
    "start_time": "2024-05-17T22:23:00.236Z"
   },
   {
    "duration": 260,
    "start_time": "2024-05-17T22:23:00.630Z"
   },
   {
    "duration": 389,
    "start_time": "2024-05-17T22:23:00.895Z"
   },
   {
    "duration": 472,
    "start_time": "2024-05-17T22:23:01.287Z"
   },
   {
    "duration": 327,
    "start_time": "2024-05-17T22:23:01.768Z"
   },
   {
    "duration": 1481,
    "start_time": "2024-05-17T22:23:02.098Z"
   },
   {
    "duration": 808,
    "start_time": "2024-05-17T22:23:03.582Z"
   },
   {
    "duration": 819,
    "start_time": "2024-05-17T22:23:04.394Z"
   },
   {
    "duration": 810,
    "start_time": "2024-05-17T22:23:05.216Z"
   },
   {
    "duration": 205,
    "start_time": "2024-05-17T22:23:06.031Z"
   },
   {
    "duration": 259,
    "start_time": "2024-05-17T22:23:06.239Z"
   },
   {
    "duration": 13,
    "start_time": "2024-05-17T22:23:06.500Z"
   },
   {
    "duration": 1500,
    "start_time": "2024-05-17T22:23:06.516Z"
   },
   {
    "duration": 230,
    "start_time": "2024-05-17T22:23:08.019Z"
   },
   {
    "duration": 137,
    "start_time": "2024-05-17T22:23:08.252Z"
   },
   {
    "duration": 162,
    "start_time": "2024-05-17T22:24:10.860Z"
   },
   {
    "duration": 148,
    "start_time": "2024-05-17T22:24:20.810Z"
   },
   {
    "duration": 149,
    "start_time": "2024-05-17T22:24:28.043Z"
   },
   {
    "duration": 17,
    "start_time": "2024-05-17T22:24:34.501Z"
   },
   {
    "duration": 138,
    "start_time": "2024-05-17T22:24:42.200Z"
   },
   {
    "duration": 136,
    "start_time": "2024-05-17T22:24:47.266Z"
   },
   {
    "duration": 154,
    "start_time": "2024-05-17T22:25:22.732Z"
   },
   {
    "duration": 136,
    "start_time": "2024-05-17T22:25:27.293Z"
   },
   {
    "duration": 13,
    "start_time": "2024-05-17T22:26:34.559Z"
   },
   {
    "duration": 24,
    "start_time": "2024-05-17T22:27:00.582Z"
   },
   {
    "duration": 10,
    "start_time": "2024-05-17T22:27:11.204Z"
   },
   {
    "duration": 361,
    "start_time": "2024-05-17T22:27:26.083Z"
   },
   {
    "duration": 13,
    "start_time": "2024-05-17T22:27:31.139Z"
   },
   {
    "duration": 21,
    "start_time": "2024-05-17T22:27:33.214Z"
   },
   {
    "duration": 773,
    "start_time": "2024-05-17T22:27:43.326Z"
   },
   {
    "duration": 1755,
    "start_time": "2024-05-17T22:27:44.104Z"
   },
   {
    "duration": 23,
    "start_time": "2024-05-17T22:27:45.862Z"
   },
   {
    "duration": 180,
    "start_time": "2024-05-17T22:27:45.889Z"
   },
   {
    "duration": 13,
    "start_time": "2024-05-17T22:27:46.075Z"
   },
   {
    "duration": 40,
    "start_time": "2024-05-17T22:27:46.092Z"
   },
   {
    "duration": 26,
    "start_time": "2024-05-17T22:27:46.138Z"
   },
   {
    "duration": 13,
    "start_time": "2024-05-17T22:27:46.170Z"
   },
   {
    "duration": 15,
    "start_time": "2024-05-17T22:27:46.186Z"
   },
   {
    "duration": 432,
    "start_time": "2024-05-17T22:27:46.232Z"
   },
   {
    "duration": 0,
    "start_time": "2024-05-17T22:27:46.671Z"
   },
   {
    "duration": 0,
    "start_time": "2024-05-17T22:27:46.673Z"
   },
   {
    "duration": 0,
    "start_time": "2024-05-17T22:27:46.677Z"
   },
   {
    "duration": 0,
    "start_time": "2024-05-17T22:27:46.681Z"
   },
   {
    "duration": 0,
    "start_time": "2024-05-17T22:27:46.684Z"
   },
   {
    "duration": 0,
    "start_time": "2024-05-17T22:27:46.687Z"
   },
   {
    "duration": 0,
    "start_time": "2024-05-17T22:27:46.689Z"
   },
   {
    "duration": 0,
    "start_time": "2024-05-17T22:27:46.691Z"
   },
   {
    "duration": 0,
    "start_time": "2024-05-17T22:27:46.694Z"
   },
   {
    "duration": 1,
    "start_time": "2024-05-17T22:27:46.731Z"
   },
   {
    "duration": 0,
    "start_time": "2024-05-17T22:27:46.735Z"
   },
   {
    "duration": 0,
    "start_time": "2024-05-17T22:27:46.737Z"
   },
   {
    "duration": 0,
    "start_time": "2024-05-17T22:27:46.739Z"
   },
   {
    "duration": 0,
    "start_time": "2024-05-17T22:27:46.741Z"
   },
   {
    "duration": 0,
    "start_time": "2024-05-17T22:27:46.742Z"
   },
   {
    "duration": 0,
    "start_time": "2024-05-17T22:27:46.744Z"
   },
   {
    "duration": 0,
    "start_time": "2024-05-17T22:27:46.746Z"
   },
   {
    "duration": 0,
    "start_time": "2024-05-17T22:27:46.748Z"
   },
   {
    "duration": 0,
    "start_time": "2024-05-17T22:27:46.749Z"
   },
   {
    "duration": 0,
    "start_time": "2024-05-17T22:27:46.752Z"
   },
   {
    "duration": 0,
    "start_time": "2024-05-17T22:27:46.754Z"
   },
   {
    "duration": 0,
    "start_time": "2024-05-17T22:27:46.756Z"
   },
   {
    "duration": 0,
    "start_time": "2024-05-17T22:27:46.758Z"
   },
   {
    "duration": 0,
    "start_time": "2024-05-17T22:27:46.759Z"
   },
   {
    "duration": 0,
    "start_time": "2024-05-17T22:27:46.762Z"
   },
   {
    "duration": 0,
    "start_time": "2024-05-17T22:27:46.765Z"
   },
   {
    "duration": 0,
    "start_time": "2024-05-17T22:27:46.768Z"
   },
   {
    "duration": 0,
    "start_time": "2024-05-17T22:27:46.772Z"
   },
   {
    "duration": 0,
    "start_time": "2024-05-17T22:27:46.831Z"
   },
   {
    "duration": 0,
    "start_time": "2024-05-17T22:27:46.833Z"
   },
   {
    "duration": 0,
    "start_time": "2024-05-17T22:27:46.835Z"
   },
   {
    "duration": 0,
    "start_time": "2024-05-17T22:27:46.838Z"
   },
   {
    "duration": 0,
    "start_time": "2024-05-17T22:27:46.841Z"
   },
   {
    "duration": 0,
    "start_time": "2024-05-17T22:27:46.843Z"
   },
   {
    "duration": 0,
    "start_time": "2024-05-17T22:27:46.846Z"
   },
   {
    "duration": 0,
    "start_time": "2024-05-17T22:27:46.848Z"
   },
   {
    "duration": 0,
    "start_time": "2024-05-17T22:27:46.850Z"
   },
   {
    "duration": 0,
    "start_time": "2024-05-17T22:27:46.852Z"
   },
   {
    "duration": 0,
    "start_time": "2024-05-17T22:27:46.854Z"
   },
   {
    "duration": 0,
    "start_time": "2024-05-17T22:27:46.857Z"
   },
   {
    "duration": 0,
    "start_time": "2024-05-17T22:27:46.860Z"
   },
   {
    "duration": 0,
    "start_time": "2024-05-17T22:27:46.864Z"
   },
   {
    "duration": 0,
    "start_time": "2024-05-17T22:27:46.866Z"
   },
   {
    "duration": 0,
    "start_time": "2024-05-17T22:27:46.869Z"
   },
   {
    "duration": 0,
    "start_time": "2024-05-17T22:27:46.871Z"
   },
   {
    "duration": 0,
    "start_time": "2024-05-17T22:27:46.933Z"
   },
   {
    "duration": 0,
    "start_time": "2024-05-17T22:27:46.935Z"
   },
   {
    "duration": 0,
    "start_time": "2024-05-17T22:27:46.937Z"
   },
   {
    "duration": 0,
    "start_time": "2024-05-17T22:27:46.939Z"
   },
   {
    "duration": 0,
    "start_time": "2024-05-17T22:27:46.942Z"
   },
   {
    "duration": 0,
    "start_time": "2024-05-17T22:27:46.944Z"
   },
   {
    "duration": 0,
    "start_time": "2024-05-17T22:27:46.945Z"
   },
   {
    "duration": 0,
    "start_time": "2024-05-17T22:27:46.949Z"
   },
   {
    "duration": 0,
    "start_time": "2024-05-17T22:27:46.952Z"
   },
   {
    "duration": 0,
    "start_time": "2024-05-17T22:27:46.954Z"
   },
   {
    "duration": 23,
    "start_time": "2024-05-17T22:28:14.371Z"
   },
   {
    "duration": 12,
    "start_time": "2024-05-17T22:28:23.620Z"
   },
   {
    "duration": 22,
    "start_time": "2024-05-17T22:28:29.085Z"
   },
   {
    "duration": 21,
    "start_time": "2024-05-17T22:28:36.542Z"
   },
   {
    "duration": 12,
    "start_time": "2024-05-17T22:28:47.443Z"
   },
   {
    "duration": 15,
    "start_time": "2024-05-17T22:29:02.164Z"
   },
   {
    "duration": 10,
    "start_time": "2024-05-17T22:29:15.859Z"
   },
   {
    "duration": 824,
    "start_time": "2024-05-17T22:29:31.978Z"
   },
   {
    "duration": 11,
    "start_time": "2024-05-17T22:29:43.204Z"
   },
   {
    "duration": 21,
    "start_time": "2024-05-17T22:29:58.215Z"
   },
   {
    "duration": 22,
    "start_time": "2024-05-17T22:30:03.573Z"
   },
   {
    "duration": 22,
    "start_time": "2024-05-17T22:30:40.658Z"
   },
   {
    "duration": 13,
    "start_time": "2024-05-17T22:30:47.222Z"
   },
   {
    "duration": 15,
    "start_time": "2024-05-17T22:31:00.414Z"
   },
   {
    "duration": 22,
    "start_time": "2024-05-17T22:31:30.264Z"
   },
   {
    "duration": 9,
    "start_time": "2024-05-17T22:32:04.995Z"
   },
   {
    "duration": 9,
    "start_time": "2024-05-17T22:32:22.796Z"
   },
   {
    "duration": 726,
    "start_time": "2024-05-17T22:32:29.229Z"
   },
   {
    "duration": 1546,
    "start_time": "2024-05-17T22:32:29.958Z"
   },
   {
    "duration": 26,
    "start_time": "2024-05-17T22:32:31.507Z"
   },
   {
    "duration": 153,
    "start_time": "2024-05-17T22:32:31.537Z"
   },
   {
    "duration": 12,
    "start_time": "2024-05-17T22:32:31.694Z"
   },
   {
    "duration": 15,
    "start_time": "2024-05-17T22:32:31.730Z"
   },
   {
    "duration": 31,
    "start_time": "2024-05-17T22:32:31.748Z"
   },
   {
    "duration": 13,
    "start_time": "2024-05-17T22:32:31.783Z"
   },
   {
    "duration": 17,
    "start_time": "2024-05-17T22:32:31.830Z"
   },
   {
    "duration": 20,
    "start_time": "2024-05-17T22:32:31.854Z"
   },
   {
    "duration": 15,
    "start_time": "2024-05-17T22:32:31.879Z"
   },
   {
    "duration": 48,
    "start_time": "2024-05-17T22:32:31.897Z"
   },
   {
    "duration": 16,
    "start_time": "2024-05-17T22:32:31.949Z"
   },
   {
    "duration": 11,
    "start_time": "2024-05-17T22:32:31.969Z"
   },
   {
    "duration": 86,
    "start_time": "2024-05-17T22:32:31.983Z"
   },
   {
    "duration": 795,
    "start_time": "2024-05-17T22:32:32.072Z"
   },
   {
    "duration": 11,
    "start_time": "2024-05-17T22:32:32.870Z"
   },
   {
    "duration": 179,
    "start_time": "2024-05-17T22:32:32.885Z"
   },
   {
    "duration": 219,
    "start_time": "2024-05-17T22:32:33.070Z"
   },
   {
    "duration": 19,
    "start_time": "2024-05-17T22:32:33.292Z"
   },
   {
    "duration": 183,
    "start_time": "2024-05-17T22:32:33.330Z"
   },
   {
    "duration": 169,
    "start_time": "2024-05-17T22:32:33.516Z"
   },
   {
    "duration": 59,
    "start_time": "2024-05-17T22:32:33.688Z"
   },
   {
    "duration": 22,
    "start_time": "2024-05-17T22:32:33.750Z"
   },
   {
    "duration": 7,
    "start_time": "2024-05-17T22:32:33.775Z"
   },
   {
    "duration": 68,
    "start_time": "2024-05-17T22:32:33.784Z"
   },
   {
    "duration": 41,
    "start_time": "2024-05-17T22:32:33.855Z"
   },
   {
    "duration": 26,
    "start_time": "2024-05-17T22:32:33.905Z"
   },
   {
    "duration": 6,
    "start_time": "2024-05-17T22:32:33.935Z"
   },
   {
    "duration": 7,
    "start_time": "2024-05-17T22:32:33.945Z"
   },
   {
    "duration": 6,
    "start_time": "2024-05-17T22:32:33.956Z"
   },
   {
    "duration": 1371,
    "start_time": "2024-05-17T22:32:33.966Z"
   },
   {
    "duration": 1201,
    "start_time": "2024-05-17T22:32:35.341Z"
   },
   {
    "duration": 21,
    "start_time": "2024-05-17T22:32:36.547Z"
   },
   {
    "duration": 13,
    "start_time": "2024-05-17T22:32:36.571Z"
   },
   {
    "duration": 46,
    "start_time": "2024-05-17T22:32:36.588Z"
   },
   {
    "duration": 3,
    "start_time": "2024-05-17T22:32:36.638Z"
   },
   {
    "duration": 10,
    "start_time": "2024-05-17T22:32:36.645Z"
   },
   {
    "duration": 10,
    "start_time": "2024-05-17T22:32:36.658Z"
   },
   {
    "duration": 10,
    "start_time": "2024-05-17T22:32:36.671Z"
   },
   {
    "duration": 11,
    "start_time": "2024-05-17T22:32:36.732Z"
   },
   {
    "duration": 18,
    "start_time": "2024-05-17T22:32:36.746Z"
   },
   {
    "duration": 18,
    "start_time": "2024-05-17T22:32:36.767Z"
   },
   {
    "duration": 59,
    "start_time": "2024-05-17T22:32:36.788Z"
   },
   {
    "duration": 28,
    "start_time": "2024-05-17T22:32:36.851Z"
   },
   {
    "duration": 55,
    "start_time": "2024-05-17T22:32:36.882Z"
   },
   {
    "duration": 28,
    "start_time": "2024-05-17T22:32:36.940Z"
   },
   {
    "duration": 9,
    "start_time": "2024-05-17T22:32:36.972Z"
   },
   {
    "duration": 4,
    "start_time": "2024-05-17T22:32:36.983Z"
   },
   {
    "duration": 75,
    "start_time": "2024-05-17T22:32:36.990Z"
   },
   {
    "duration": 5,
    "start_time": "2024-05-17T22:32:37.068Z"
   },
   {
    "duration": 5,
    "start_time": "2024-05-17T22:32:37.077Z"
   },
   {
    "duration": 71,
    "start_time": "2024-05-17T22:32:37.086Z"
   },
   {
    "duration": 35,
    "start_time": "2024-05-17T22:32:37.160Z"
   },
   {
    "duration": 53,
    "start_time": "2024-05-17T22:32:37.197Z"
   },
   {
    "duration": 365,
    "start_time": "2024-05-17T22:32:37.252Z"
   },
   {
    "duration": 236,
    "start_time": "2024-05-17T22:32:37.620Z"
   },
   {
    "duration": 395,
    "start_time": "2024-05-17T22:32:37.859Z"
   },
   {
    "duration": 437,
    "start_time": "2024-05-17T22:32:38.257Z"
   },
   {
    "duration": 333,
    "start_time": "2024-05-17T22:32:38.697Z"
   },
   {
    "duration": 1459,
    "start_time": "2024-05-17T22:32:39.033Z"
   },
   {
    "duration": 813,
    "start_time": "2024-05-17T22:32:40.496Z"
   },
   {
    "duration": 835,
    "start_time": "2024-05-17T22:32:41.313Z"
   },
   {
    "duration": 798,
    "start_time": "2024-05-17T22:32:42.151Z"
   },
   {
    "duration": 207,
    "start_time": "2024-05-17T22:32:42.952Z"
   },
   {
    "duration": 262,
    "start_time": "2024-05-17T22:32:43.161Z"
   },
   {
    "duration": 18,
    "start_time": "2024-05-17T22:32:43.425Z"
   },
   {
    "duration": 1471,
    "start_time": "2024-05-17T22:32:43.446Z"
   },
   {
    "duration": 218,
    "start_time": "2024-05-17T22:32:44.920Z"
   },
   {
    "duration": 131,
    "start_time": "2024-05-17T22:32:45.141Z"
   },
   {
    "duration": 7,
    "start_time": "2024-05-17T22:33:21.381Z"
   },
   {
    "duration": 592,
    "start_time": "2024-05-17T22:39:01.502Z"
   },
   {
    "duration": 10,
    "start_time": "2024-05-17T22:40:26.528Z"
   },
   {
    "duration": 25,
    "start_time": "2024-05-17T22:40:35.496Z"
   },
   {
    "duration": 8,
    "start_time": "2024-05-17T22:41:01.480Z"
   },
   {
    "duration": 7,
    "start_time": "2024-05-17T22:41:03.982Z"
   },
   {
    "duration": 12,
    "start_time": "2024-05-17T22:41:46.391Z"
   },
   {
    "duration": 26,
    "start_time": "2024-05-17T22:41:49.223Z"
   },
   {
    "duration": 25,
    "start_time": "2024-05-17T22:42:14.944Z"
   },
   {
    "duration": 10,
    "start_time": "2024-05-17T22:42:34.607Z"
   },
   {
    "duration": 10,
    "start_time": "2024-05-17T22:43:58.976Z"
   },
   {
    "duration": 678,
    "start_time": "2024-05-17T22:46:19.692Z"
   },
   {
    "duration": 1553,
    "start_time": "2024-05-17T22:46:20.374Z"
   },
   {
    "duration": 18,
    "start_time": "2024-05-17T22:46:21.931Z"
   },
   {
    "duration": 171,
    "start_time": "2024-05-17T22:46:21.953Z"
   },
   {
    "duration": 12,
    "start_time": "2024-05-17T22:46:22.129Z"
   },
   {
    "duration": 17,
    "start_time": "2024-05-17T22:46:22.145Z"
   },
   {
    "duration": 24,
    "start_time": "2024-05-17T22:46:22.164Z"
   },
   {
    "duration": 53,
    "start_time": "2024-05-17T22:46:22.191Z"
   },
   {
    "duration": 14,
    "start_time": "2024-05-17T22:46:22.248Z"
   },
   {
    "duration": 15,
    "start_time": "2024-05-17T22:46:22.267Z"
   },
   {
    "duration": 48,
    "start_time": "2024-05-17T22:46:22.285Z"
   },
   {
    "duration": 15,
    "start_time": "2024-05-17T22:46:22.337Z"
   },
   {
    "duration": 18,
    "start_time": "2024-05-17T22:46:22.355Z"
   },
   {
    "duration": 16,
    "start_time": "2024-05-17T22:46:22.376Z"
   },
   {
    "duration": 42,
    "start_time": "2024-05-17T22:46:22.431Z"
   },
   {
    "duration": 795,
    "start_time": "2024-05-17T22:46:22.477Z"
   },
   {
    "duration": 11,
    "start_time": "2024-05-17T22:46:23.275Z"
   },
   {
    "duration": 174,
    "start_time": "2024-05-17T22:46:23.289Z"
   },
   {
    "duration": 214,
    "start_time": "2024-05-17T22:46:23.466Z"
   },
   {
    "duration": 19,
    "start_time": "2024-05-17T22:46:23.683Z"
   },
   {
    "duration": 194,
    "start_time": "2024-05-17T22:46:23.705Z"
   },
   {
    "duration": 172,
    "start_time": "2024-05-17T22:46:23.902Z"
   },
   {
    "duration": 57,
    "start_time": "2024-05-17T22:46:24.076Z"
   },
   {
    "duration": 22,
    "start_time": "2024-05-17T22:46:24.136Z"
   },
   {
    "duration": 7,
    "start_time": "2024-05-17T22:46:24.161Z"
   },
   {
    "duration": 69,
    "start_time": "2024-05-17T22:46:24.172Z"
   },
   {
    "duration": 41,
    "start_time": "2024-05-17T22:46:24.244Z"
   },
   {
    "duration": 35,
    "start_time": "2024-05-17T22:46:24.295Z"
   },
   {
    "duration": 7,
    "start_time": "2024-05-17T22:46:24.333Z"
   },
   {
    "duration": 8,
    "start_time": "2024-05-17T22:46:24.344Z"
   },
   {
    "duration": 6,
    "start_time": "2024-05-17T22:46:24.358Z"
   },
   {
    "duration": 1368,
    "start_time": "2024-05-17T22:46:24.366Z"
   },
   {
    "duration": 1183,
    "start_time": "2024-05-17T22:46:25.737Z"
   },
   {
    "duration": 21,
    "start_time": "2024-05-17T22:46:26.930Z"
   },
   {
    "duration": 13,
    "start_time": "2024-05-17T22:46:26.955Z"
   },
   {
    "duration": 13,
    "start_time": "2024-05-17T22:46:26.971Z"
   },
   {
    "duration": 44,
    "start_time": "2024-05-17T22:46:26.987Z"
   },
   {
    "duration": 11,
    "start_time": "2024-05-17T22:46:27.035Z"
   },
   {
    "duration": 10,
    "start_time": "2024-05-17T22:46:27.049Z"
   },
   {
    "duration": 11,
    "start_time": "2024-05-17T22:46:27.062Z"
   },
   {
    "duration": 12,
    "start_time": "2024-05-17T22:46:27.076Z"
   },
   {
    "duration": 19,
    "start_time": "2024-05-17T22:46:27.132Z"
   },
   {
    "duration": 19,
    "start_time": "2024-05-17T22:46:27.154Z"
   },
   {
    "duration": 66,
    "start_time": "2024-05-17T22:46:27.176Z"
   },
   {
    "duration": 28,
    "start_time": "2024-05-17T22:46:27.245Z"
   },
   {
    "duration": 55,
    "start_time": "2024-05-17T22:46:27.276Z"
   },
   {
    "duration": 27,
    "start_time": "2024-05-17T22:46:27.334Z"
   },
   {
    "duration": 9,
    "start_time": "2024-05-17T22:46:27.365Z"
   },
   {
    "duration": 4,
    "start_time": "2024-05-17T22:46:27.376Z"
   },
   {
    "duration": 74,
    "start_time": "2024-05-17T22:46:27.382Z"
   },
   {
    "duration": 6,
    "start_time": "2024-05-17T22:46:27.458Z"
   },
   {
    "duration": 7,
    "start_time": "2024-05-17T22:46:27.468Z"
   },
   {
    "duration": 67,
    "start_time": "2024-05-17T22:46:27.478Z"
   },
   {
    "duration": 33,
    "start_time": "2024-05-17T22:46:27.548Z"
   },
   {
    "duration": 50,
    "start_time": "2024-05-17T22:46:27.584Z"
   },
   {
    "duration": 10,
    "start_time": "2024-05-17T22:46:27.637Z"
   },
   {
    "duration": 9,
    "start_time": "2024-05-17T22:46:27.650Z"
   },
   {
    "duration": 409,
    "start_time": "2024-05-17T22:46:27.662Z"
   },
   {
    "duration": 230,
    "start_time": "2024-05-17T22:46:28.074Z"
   },
   {
    "duration": 394,
    "start_time": "2024-05-17T22:46:28.308Z"
   },
   {
    "duration": 440,
    "start_time": "2024-05-17T22:46:28.705Z"
   },
   {
    "duration": 310,
    "start_time": "2024-05-17T22:46:29.149Z"
   },
   {
    "duration": 1432,
    "start_time": "2024-05-17T22:46:29.463Z"
   },
   {
    "duration": 793,
    "start_time": "2024-05-17T22:46:30.898Z"
   },
   {
    "duration": 859,
    "start_time": "2024-05-17T22:46:31.694Z"
   },
   {
    "duration": 808,
    "start_time": "2024-05-17T22:46:32.556Z"
   },
   {
    "duration": 204,
    "start_time": "2024-05-17T22:46:33.367Z"
   },
   {
    "duration": 266,
    "start_time": "2024-05-17T22:46:33.574Z"
   },
   {
    "duration": 14,
    "start_time": "2024-05-17T22:46:33.842Z"
   },
   {
    "duration": 1439,
    "start_time": "2024-05-17T22:46:33.859Z"
   },
   {
    "duration": 207,
    "start_time": "2024-05-17T22:46:35.301Z"
   },
   {
    "duration": 137,
    "start_time": "2024-05-17T22:46:35.512Z"
   },
   {
    "duration": 375,
    "start_time": "2024-05-17T22:51:39.026Z"
   },
   {
    "duration": 7,
    "start_time": "2024-05-17T22:57:03.743Z"
   },
   {
    "duration": 392,
    "start_time": "2024-05-17T22:58:12.869Z"
   },
   {
    "duration": 697,
    "start_time": "2024-05-17T22:59:48.365Z"
   },
   {
    "duration": 1588,
    "start_time": "2024-05-17T22:59:49.066Z"
   },
   {
    "duration": 19,
    "start_time": "2024-05-17T22:59:50.657Z"
   },
   {
    "duration": 171,
    "start_time": "2024-05-17T22:59:50.679Z"
   },
   {
    "duration": 13,
    "start_time": "2024-05-17T22:59:50.858Z"
   },
   {
    "duration": 17,
    "start_time": "2024-05-17T22:59:50.876Z"
   },
   {
    "duration": 55,
    "start_time": "2024-05-17T22:59:50.897Z"
   },
   {
    "duration": 9,
    "start_time": "2024-05-17T22:59:50.955Z"
   },
   {
    "duration": 15,
    "start_time": "2024-05-17T22:59:50.968Z"
   },
   {
    "duration": 50,
    "start_time": "2024-05-17T22:59:50.986Z"
   },
   {
    "duration": 9,
    "start_time": "2024-05-17T22:59:51.040Z"
   },
   {
    "duration": 15,
    "start_time": "2024-05-17T22:59:51.053Z"
   },
   {
    "duration": 59,
    "start_time": "2024-05-17T22:59:51.071Z"
   },
   {
    "duration": 10,
    "start_time": "2024-05-17T22:59:51.136Z"
   },
   {
    "duration": 45,
    "start_time": "2024-05-17T22:59:51.149Z"
   },
   {
    "duration": 815,
    "start_time": "2024-05-17T22:59:51.198Z"
   },
   {
    "duration": 22,
    "start_time": "2024-05-17T22:59:52.015Z"
   },
   {
    "duration": 173,
    "start_time": "2024-05-17T22:59:52.041Z"
   },
   {
    "duration": 204,
    "start_time": "2024-05-17T22:59:52.217Z"
   },
   {
    "duration": 22,
    "start_time": "2024-05-17T22:59:52.432Z"
   },
   {
    "duration": 202,
    "start_time": "2024-05-17T22:59:52.457Z"
   },
   {
    "duration": 183,
    "start_time": "2024-05-17T22:59:52.662Z"
   },
   {
    "duration": 47,
    "start_time": "2024-05-17T22:59:52.848Z"
   },
   {
    "duration": 46,
    "start_time": "2024-05-17T22:59:52.898Z"
   },
   {
    "duration": 7,
    "start_time": "2024-05-17T22:59:52.947Z"
   },
   {
    "duration": 38,
    "start_time": "2024-05-17T22:59:52.957Z"
   },
   {
    "duration": 42,
    "start_time": "2024-05-17T22:59:53.030Z"
   },
   {
    "duration": 10,
    "start_time": "2024-05-17T22:59:53.076Z"
   },
   {
    "duration": 7,
    "start_time": "2024-05-17T22:59:53.089Z"
   },
   {
    "duration": 38,
    "start_time": "2024-05-17T22:59:53.099Z"
   },
   {
    "duration": 9,
    "start_time": "2024-05-17T22:59:53.141Z"
   },
   {
    "duration": 1390,
    "start_time": "2024-05-17T22:59:53.154Z"
   },
   {
    "duration": 1193,
    "start_time": "2024-05-17T22:59:54.547Z"
   },
   {
    "duration": 20,
    "start_time": "2024-05-17T22:59:55.743Z"
   },
   {
    "duration": 12,
    "start_time": "2024-05-17T22:59:55.766Z"
   },
   {
    "duration": 50,
    "start_time": "2024-05-17T22:59:55.781Z"
   },
   {
    "duration": 3,
    "start_time": "2024-05-17T22:59:55.834Z"
   },
   {
    "duration": 10,
    "start_time": "2024-05-17T22:59:55.841Z"
   },
   {
    "duration": 10,
    "start_time": "2024-05-17T22:59:55.854Z"
   },
   {
    "duration": 11,
    "start_time": "2024-05-17T22:59:55.867Z"
   },
   {
    "duration": 11,
    "start_time": "2024-05-17T22:59:55.930Z"
   },
   {
    "duration": 19,
    "start_time": "2024-05-17T22:59:55.945Z"
   },
   {
    "duration": 18,
    "start_time": "2024-05-17T22:59:55.967Z"
   },
   {
    "duration": 65,
    "start_time": "2024-05-17T22:59:55.988Z"
   },
   {
    "duration": 29,
    "start_time": "2024-05-17T22:59:56.056Z"
   },
   {
    "duration": 55,
    "start_time": "2024-05-17T22:59:56.088Z"
   },
   {
    "duration": 28,
    "start_time": "2024-05-17T22:59:56.147Z"
   },
   {
    "duration": 9,
    "start_time": "2024-05-17T22:59:56.177Z"
   },
   {
    "duration": 3,
    "start_time": "2024-05-17T22:59:56.189Z"
   },
   {
    "duration": 71,
    "start_time": "2024-05-17T22:59:56.194Z"
   },
   {
    "duration": 6,
    "start_time": "2024-05-17T22:59:56.267Z"
   },
   {
    "duration": 6,
    "start_time": "2024-05-17T22:59:56.277Z"
   },
   {
    "duration": 71,
    "start_time": "2024-05-17T22:59:56.287Z"
   },
   {
    "duration": 34,
    "start_time": "2024-05-17T22:59:56.361Z"
   },
   {
    "duration": 57,
    "start_time": "2024-05-17T22:59:56.397Z"
   },
   {
    "duration": 9,
    "start_time": "2024-05-17T22:59:56.457Z"
   },
   {
    "duration": 12,
    "start_time": "2024-05-17T22:59:56.469Z"
   },
   {
    "duration": 398,
    "start_time": "2024-05-17T22:59:56.484Z"
   },
   {
    "duration": 221,
    "start_time": "2024-05-17T22:59:56.885Z"
   },
   {
    "duration": 389,
    "start_time": "2024-05-17T22:59:57.109Z"
   },
   {
    "duration": 469,
    "start_time": "2024-05-17T22:59:57.501Z"
   },
   {
    "duration": 306,
    "start_time": "2024-05-17T22:59:57.973Z"
   },
   {
    "duration": 1480,
    "start_time": "2024-05-17T22:59:58.282Z"
   },
   {
    "duration": 792,
    "start_time": "2024-05-17T22:59:59.765Z"
   },
   {
    "duration": 931,
    "start_time": "2024-05-17T23:01:25.915Z"
   },
   {
    "duration": 2116,
    "start_time": "2024-05-17T23:01:26.852Z"
   },
   {
    "duration": 19,
    "start_time": "2024-05-17T23:01:28.972Z"
   },
   {
    "duration": 189,
    "start_time": "2024-05-17T23:01:28.997Z"
   },
   {
    "duration": 16,
    "start_time": "2024-05-17T23:01:29.190Z"
   },
   {
    "duration": 21,
    "start_time": "2024-05-17T23:01:29.230Z"
   },
   {
    "duration": 28,
    "start_time": "2024-05-17T23:01:29.254Z"
   },
   {
    "duration": 45,
    "start_time": "2024-05-17T23:01:29.286Z"
   },
   {
    "duration": 17,
    "start_time": "2024-05-17T23:01:29.334Z"
   },
   {
    "duration": 18,
    "start_time": "2024-05-17T23:01:29.357Z"
   },
   {
    "duration": 13,
    "start_time": "2024-05-17T23:01:29.378Z"
   },
   {
    "duration": 14,
    "start_time": "2024-05-17T23:01:29.431Z"
   },
   {
    "duration": 15,
    "start_time": "2024-05-17T23:01:29.449Z"
   },
   {
    "duration": 10,
    "start_time": "2024-05-17T23:01:29.470Z"
   },
   {
    "duration": 75,
    "start_time": "2024-05-17T23:01:29.483Z"
   },
   {
    "duration": 801,
    "start_time": "2024-05-17T23:01:29.561Z"
   },
   {
    "duration": 12,
    "start_time": "2024-05-17T23:01:30.367Z"
   },
   {
    "duration": 199,
    "start_time": "2024-05-17T23:01:30.386Z"
   },
   {
    "duration": 215,
    "start_time": "2024-05-17T23:01:30.589Z"
   },
   {
    "duration": 36,
    "start_time": "2024-05-17T23:01:30.808Z"
   },
   {
    "duration": 204,
    "start_time": "2024-05-17T23:01:30.847Z"
   },
   {
    "duration": 201,
    "start_time": "2024-05-17T23:01:31.054Z"
   },
   {
    "duration": 99,
    "start_time": "2024-05-17T23:01:31.258Z"
   },
   {
    "duration": 49,
    "start_time": "2024-05-17T23:01:31.361Z"
   },
   {
    "duration": 11,
    "start_time": "2024-05-17T23:01:31.434Z"
   },
   {
    "duration": 120,
    "start_time": "2024-05-17T23:01:31.448Z"
   },
   {
    "duration": 61,
    "start_time": "2024-05-17T23:01:31.572Z"
   },
   {
    "duration": 7,
    "start_time": "2024-05-17T23:01:31.643Z"
   },
   {
    "duration": 8,
    "start_time": "2024-05-17T23:01:31.653Z"
   },
   {
    "duration": 9,
    "start_time": "2024-05-17T23:01:31.668Z"
   },
   {
    "duration": 13,
    "start_time": "2024-05-17T23:01:31.681Z"
   },
   {
    "duration": 1411,
    "start_time": "2024-05-17T23:01:31.732Z"
   },
   {
    "duration": 1185,
    "start_time": "2024-05-17T23:01:33.147Z"
   },
   {
    "duration": 35,
    "start_time": "2024-05-17T23:01:34.338Z"
   },
   {
    "duration": 18,
    "start_time": "2024-05-17T23:01:34.375Z"
   },
   {
    "duration": 12,
    "start_time": "2024-05-17T23:01:34.397Z"
   },
   {
    "duration": 4,
    "start_time": "2024-05-17T23:01:34.433Z"
   },
   {
    "duration": 10,
    "start_time": "2024-05-17T23:01:34.440Z"
   },
   {
    "duration": 11,
    "start_time": "2024-05-17T23:01:34.453Z"
   },
   {
    "duration": 12,
    "start_time": "2024-05-17T23:01:34.466Z"
   },
   {
    "duration": 59,
    "start_time": "2024-05-17T23:01:34.481Z"
   },
   {
    "duration": 19,
    "start_time": "2024-05-17T23:01:34.543Z"
   },
   {
    "duration": 18,
    "start_time": "2024-05-17T23:01:34.565Z"
   },
   {
    "duration": 63,
    "start_time": "2024-05-17T23:01:34.586Z"
   },
   {
    "duration": 28,
    "start_time": "2024-05-17T23:01:34.652Z"
   },
   {
    "duration": 57,
    "start_time": "2024-05-17T23:01:34.682Z"
   },
   {
    "duration": 29,
    "start_time": "2024-05-17T23:01:34.741Z"
   },
   {
    "duration": 9,
    "start_time": "2024-05-17T23:01:34.772Z"
   },
   {
    "duration": 3,
    "start_time": "2024-05-17T23:01:34.784Z"
   },
   {
    "duration": 75,
    "start_time": "2024-05-17T23:01:34.790Z"
   },
   {
    "duration": 6,
    "start_time": "2024-05-17T23:01:34.870Z"
   },
   {
    "duration": 7,
    "start_time": "2024-05-17T23:01:34.879Z"
   },
   {
    "duration": 73,
    "start_time": "2024-05-17T23:01:34.890Z"
   },
   {
    "duration": 32,
    "start_time": "2024-05-17T23:01:34.966Z"
   },
   {
    "duration": 52,
    "start_time": "2024-05-17T23:01:35.001Z"
   },
   {
    "duration": 9,
    "start_time": "2024-05-17T23:01:35.056Z"
   },
   {
    "duration": 11,
    "start_time": "2024-05-17T23:01:35.068Z"
   },
   {
    "duration": 389,
    "start_time": "2024-05-17T23:01:35.082Z"
   },
   {
    "duration": 240,
    "start_time": "2024-05-17T23:01:35.474Z"
   },
   {
    "duration": 402,
    "start_time": "2024-05-17T23:01:35.718Z"
   },
   {
    "duration": 443,
    "start_time": "2024-05-17T23:01:36.123Z"
   },
   {
    "duration": 308,
    "start_time": "2024-05-17T23:01:36.569Z"
   },
   {
    "duration": 1524,
    "start_time": "2024-05-17T23:01:36.880Z"
   },
   {
    "duration": 799,
    "start_time": "2024-05-17T23:01:38.407Z"
   },
   {
    "duration": 686,
    "start_time": "2024-05-17T23:14:23.870Z"
   },
   {
    "duration": 1587,
    "start_time": "2024-05-17T23:14:24.560Z"
   },
   {
    "duration": 18,
    "start_time": "2024-05-17T23:14:26.152Z"
   },
   {
    "duration": 165,
    "start_time": "2024-05-17T23:14:26.174Z"
   },
   {
    "duration": 11,
    "start_time": "2024-05-17T23:14:26.343Z"
   },
   {
    "duration": 17,
    "start_time": "2024-05-17T23:14:26.357Z"
   },
   {
    "duration": 63,
    "start_time": "2024-05-17T23:14:26.377Z"
   },
   {
    "duration": 10,
    "start_time": "2024-05-17T23:14:26.442Z"
   },
   {
    "duration": 13,
    "start_time": "2024-05-17T23:14:26.456Z"
   },
   {
    "duration": 54,
    "start_time": "2024-05-17T23:14:26.476Z"
   },
   {
    "duration": 10,
    "start_time": "2024-05-17T23:14:26.533Z"
   },
   {
    "duration": 26,
    "start_time": "2024-05-17T23:14:26.546Z"
   },
   {
    "duration": 15,
    "start_time": "2024-05-17T23:14:26.575Z"
   },
   {
    "duration": 9,
    "start_time": "2024-05-17T23:14:26.593Z"
   },
   {
    "duration": 39,
    "start_time": "2024-05-17T23:14:26.632Z"
   },
   {
    "duration": 804,
    "start_time": "2024-05-17T23:14:26.674Z"
   },
   {
    "duration": 10,
    "start_time": "2024-05-17T23:14:27.482Z"
   },
   {
    "duration": 172,
    "start_time": "2024-05-17T23:14:27.495Z"
   },
   {
    "duration": 201,
    "start_time": "2024-05-17T23:14:27.670Z"
   },
   {
    "duration": 20,
    "start_time": "2024-05-17T23:14:27.874Z"
   },
   {
    "duration": 204,
    "start_time": "2024-05-17T23:14:27.897Z"
   },
   {
    "duration": 176,
    "start_time": "2024-05-17T23:14:28.104Z"
   },
   {
    "duration": 64,
    "start_time": "2024-05-17T23:14:28.283Z"
   },
   {
    "duration": 30,
    "start_time": "2024-05-17T23:14:28.351Z"
   },
   {
    "duration": 10,
    "start_time": "2024-05-17T23:14:28.385Z"
   },
   {
    "duration": 62,
    "start_time": "2024-05-17T23:14:28.398Z"
   },
   {
    "duration": 42,
    "start_time": "2024-05-17T23:14:28.463Z"
   },
   {
    "duration": 8,
    "start_time": "2024-05-17T23:14:28.536Z"
   },
   {
    "duration": 7,
    "start_time": "2024-05-17T23:14:28.547Z"
   },
   {
    "duration": 9,
    "start_time": "2024-05-17T23:14:28.557Z"
   },
   {
    "duration": 7,
    "start_time": "2024-05-17T23:14:28.569Z"
   },
   {
    "duration": 1379,
    "start_time": "2024-05-17T23:14:28.578Z"
   },
   {
    "duration": 1227,
    "start_time": "2024-05-17T23:14:29.960Z"
   },
   {
    "duration": 20,
    "start_time": "2024-05-17T23:14:31.189Z"
   },
   {
    "duration": 16,
    "start_time": "2024-05-17T23:14:31.232Z"
   },
   {
    "duration": 13,
    "start_time": "2024-05-17T23:14:31.251Z"
   },
   {
    "duration": 5,
    "start_time": "2024-05-17T23:14:31.269Z"
   },
   {
    "duration": 10,
    "start_time": "2024-05-17T23:14:31.278Z"
   },
   {
    "duration": 9,
    "start_time": "2024-05-17T23:14:31.331Z"
   },
   {
    "duration": 8,
    "start_time": "2024-05-17T23:14:31.343Z"
   },
   {
    "duration": 12,
    "start_time": "2024-05-17T23:14:31.355Z"
   },
   {
    "duration": 19,
    "start_time": "2024-05-17T23:14:31.370Z"
   },
   {
    "duration": 19,
    "start_time": "2024-05-17T23:14:31.432Z"
   },
   {
    "duration": 24,
    "start_time": "2024-05-17T23:14:31.454Z"
   },
   {
    "duration": 65,
    "start_time": "2024-05-17T23:14:31.481Z"
   },
   {
    "duration": 28,
    "start_time": "2024-05-17T23:14:31.549Z"
   },
   {
    "duration": 52,
    "start_time": "2024-05-17T23:14:31.580Z"
   },
   {
    "duration": 8,
    "start_time": "2024-05-17T23:14:31.638Z"
   },
   {
    "duration": 3,
    "start_time": "2024-05-17T23:14:31.649Z"
   },
   {
    "duration": 40,
    "start_time": "2024-05-17T23:14:31.655Z"
   },
   {
    "duration": 35,
    "start_time": "2024-05-17T23:14:31.698Z"
   },
   {
    "duration": 8,
    "start_time": "2024-05-17T23:14:31.737Z"
   },
   {
    "duration": 48,
    "start_time": "2024-05-17T23:14:31.748Z"
   },
   {
    "duration": 67,
    "start_time": "2024-05-17T23:14:31.799Z"
   },
   {
    "duration": 32,
    "start_time": "2024-05-17T23:14:31.870Z"
   },
   {
    "duration": 11,
    "start_time": "2024-05-17T23:14:31.932Z"
   },
   {
    "duration": 11,
    "start_time": "2024-05-17T23:14:31.946Z"
   },
   {
    "duration": 419,
    "start_time": "2024-05-17T23:14:31.959Z"
   },
   {
    "duration": 233,
    "start_time": "2024-05-17T23:14:32.380Z"
   },
   {
    "duration": 419,
    "start_time": "2024-05-17T23:14:32.617Z"
   },
   {
    "duration": 445,
    "start_time": "2024-05-17T23:14:33.041Z"
   },
   {
    "duration": 313,
    "start_time": "2024-05-17T23:14:33.489Z"
   },
   {
    "duration": 1561,
    "start_time": "2024-05-17T23:14:33.805Z"
   },
   {
    "duration": 815,
    "start_time": "2024-05-17T23:14:35.369Z"
   },
   {
    "duration": 323,
    "start_time": "2024-05-17T23:14:36.187Z"
   },
   {
    "duration": 806,
    "start_time": "2024-05-17T23:14:36.513Z"
   },
   {
    "duration": 785,
    "start_time": "2024-05-17T23:14:37.322Z"
   },
   {
    "duration": 209,
    "start_time": "2024-05-17T23:14:38.110Z"
   },
   {
    "duration": 261,
    "start_time": "2024-05-17T23:14:38.322Z"
   },
   {
    "duration": 16,
    "start_time": "2024-05-17T23:14:38.586Z"
   },
   {
    "duration": 1512,
    "start_time": "2024-05-17T23:14:38.605Z"
   },
   {
    "duration": 234,
    "start_time": "2024-05-17T23:14:40.120Z"
   },
   {
    "duration": 219,
    "start_time": "2024-05-17T23:14:40.357Z"
   },
   {
    "duration": 387,
    "start_time": "2024-05-17T23:15:00.234Z"
   },
   {
    "duration": 331,
    "start_time": "2024-05-17T23:15:33.987Z"
   },
   {
    "duration": 335,
    "start_time": "2024-05-17T23:15:42.136Z"
   },
   {
    "duration": 321,
    "start_time": "2024-05-17T23:15:47.332Z"
   },
   {
    "duration": 317,
    "start_time": "2024-05-17T23:15:55.605Z"
   },
   {
    "duration": 393,
    "start_time": "2024-05-17T23:19:59.166Z"
   },
   {
    "duration": 365,
    "start_time": "2024-05-17T23:20:13.033Z"
   },
   {
    "duration": 324,
    "start_time": "2024-05-17T23:22:12.726Z"
   },
   {
    "duration": 332,
    "start_time": "2024-05-17T23:22:52.503Z"
   },
   {
    "duration": 4337,
    "start_time": "2024-05-18T21:10:12.876Z"
   },
   {
    "duration": 1647,
    "start_time": "2024-05-18T21:10:17.217Z"
   },
   {
    "duration": 18,
    "start_time": "2024-05-18T21:10:18.866Z"
   },
   {
    "duration": 162,
    "start_time": "2024-05-18T21:10:18.888Z"
   },
   {
    "duration": 11,
    "start_time": "2024-05-18T21:10:19.055Z"
   },
   {
    "duration": 17,
    "start_time": "2024-05-18T21:10:19.069Z"
   },
   {
    "duration": 25,
    "start_time": "2024-05-18T21:10:19.113Z"
   },
   {
    "duration": 9,
    "start_time": "2024-05-18T21:10:19.144Z"
   },
   {
    "duration": 14,
    "start_time": "2024-05-18T21:10:19.157Z"
   },
   {
    "duration": 48,
    "start_time": "2024-05-18T21:10:19.174Z"
   },
   {
    "duration": 9,
    "start_time": "2024-05-18T21:10:19.226Z"
   },
   {
    "duration": 14,
    "start_time": "2024-05-18T21:10:19.238Z"
   },
   {
    "duration": 59,
    "start_time": "2024-05-18T21:10:19.254Z"
   },
   {
    "duration": 10,
    "start_time": "2024-05-18T21:10:19.321Z"
   },
   {
    "duration": 42,
    "start_time": "2024-05-18T21:10:19.334Z"
   },
   {
    "duration": 797,
    "start_time": "2024-05-18T21:10:19.379Z"
   },
   {
    "duration": 11,
    "start_time": "2024-05-18T21:10:20.178Z"
   },
   {
    "duration": 163,
    "start_time": "2024-05-18T21:10:20.192Z"
   },
   {
    "duration": 222,
    "start_time": "2024-05-18T21:10:20.359Z"
   },
   {
    "duration": 31,
    "start_time": "2024-05-18T21:10:20.584Z"
   },
   {
    "duration": 180,
    "start_time": "2024-05-18T21:10:20.620Z"
   },
   {
    "duration": 175,
    "start_time": "2024-05-18T21:10:20.803Z"
   },
   {
    "duration": 60,
    "start_time": "2024-05-18T21:10:20.981Z"
   },
   {
    "duration": 23,
    "start_time": "2024-05-18T21:10:21.044Z"
   },
   {
    "duration": 7,
    "start_time": "2024-05-18T21:10:21.070Z"
   },
   {
    "duration": 65,
    "start_time": "2024-05-18T21:10:21.081Z"
   },
   {
    "duration": 43,
    "start_time": "2024-05-18T21:10:21.149Z"
   },
   {
    "duration": 7,
    "start_time": "2024-05-18T21:10:21.213Z"
   },
   {
    "duration": 6,
    "start_time": "2024-05-18T21:10:21.224Z"
   },
   {
    "duration": 8,
    "start_time": "2024-05-18T21:10:21.233Z"
   },
   {
    "duration": 7,
    "start_time": "2024-05-18T21:10:21.244Z"
   },
   {
    "duration": 1373,
    "start_time": "2024-05-18T21:10:21.254Z"
   },
   {
    "duration": 1239,
    "start_time": "2024-05-18T21:10:22.633Z"
   },
   {
    "duration": 40,
    "start_time": "2024-05-18T21:10:23.875Z"
   },
   {
    "duration": 14,
    "start_time": "2024-05-18T21:10:23.918Z"
   },
   {
    "duration": 13,
    "start_time": "2024-05-18T21:10:23.936Z"
   },
   {
    "duration": 4,
    "start_time": "2024-05-18T21:10:23.952Z"
   },
   {
    "duration": 54,
    "start_time": "2024-05-18T21:10:23.960Z"
   },
   {
    "duration": 13,
    "start_time": "2024-05-18T21:10:24.017Z"
   },
   {
    "duration": 11,
    "start_time": "2024-05-18T21:10:24.033Z"
   },
   {
    "duration": 15,
    "start_time": "2024-05-18T21:10:24.058Z"
   },
   {
    "duration": 57,
    "start_time": "2024-05-18T21:10:24.076Z"
   },
   {
    "duration": 23,
    "start_time": "2024-05-18T21:10:24.136Z"
   },
   {
    "duration": 70,
    "start_time": "2024-05-18T21:10:24.163Z"
   },
   {
    "duration": 46,
    "start_time": "2024-05-18T21:10:24.237Z"
   },
   {
    "duration": 55,
    "start_time": "2024-05-18T21:10:24.287Z"
   },
   {
    "duration": 40,
    "start_time": "2024-05-18T21:10:24.346Z"
   },
   {
    "duration": 30,
    "start_time": "2024-05-18T21:10:24.389Z"
   },
   {
    "duration": 4,
    "start_time": "2024-05-18T21:10:24.422Z"
   },
   {
    "duration": 42,
    "start_time": "2024-05-18T21:10:24.429Z"
   },
   {
    "duration": 41,
    "start_time": "2024-05-18T21:10:24.474Z"
   },
   {
    "duration": 6,
    "start_time": "2024-05-18T21:10:24.520Z"
   },
   {
    "duration": 47,
    "start_time": "2024-05-18T21:10:24.530Z"
   },
   {
    "duration": 62,
    "start_time": "2024-05-18T21:10:24.580Z"
   },
   {
    "duration": 37,
    "start_time": "2024-05-18T21:10:24.646Z"
   },
   {
    "duration": 41,
    "start_time": "2024-05-18T21:10:24.686Z"
   },
   {
    "duration": 19,
    "start_time": "2024-05-18T21:10:24.734Z"
   },
   {
    "duration": 467,
    "start_time": "2024-05-18T21:10:24.757Z"
   },
   {
    "duration": 266,
    "start_time": "2024-05-18T21:10:25.227Z"
   },
   {
    "duration": 430,
    "start_time": "2024-05-18T21:10:25.496Z"
   },
   {
    "duration": 503,
    "start_time": "2024-05-18T21:10:25.930Z"
   },
   {
    "duration": 314,
    "start_time": "2024-05-18T21:10:26.436Z"
   },
   {
    "duration": 1536,
    "start_time": "2024-05-18T21:10:26.754Z"
   },
   {
    "duration": 825,
    "start_time": "2024-05-18T21:10:28.293Z"
   },
   {
    "duration": 344,
    "start_time": "2024-05-18T21:10:29.121Z"
   },
   {
    "duration": 826,
    "start_time": "2024-05-18T21:10:29.469Z"
   },
   {
    "duration": 868,
    "start_time": "2024-05-18T21:10:30.299Z"
   },
   {
    "duration": 216,
    "start_time": "2024-05-18T21:10:31.170Z"
   },
   {
    "duration": 282,
    "start_time": "2024-05-18T21:10:31.389Z"
   },
   {
    "duration": 19,
    "start_time": "2024-05-18T21:10:31.674Z"
   },
   {
    "duration": 1464,
    "start_time": "2024-05-18T21:10:31.696Z"
   },
   {
    "duration": 228,
    "start_time": "2024-05-18T21:10:33.163Z"
   },
   {
    "duration": 131,
    "start_time": "2024-05-18T21:10:33.396Z"
   },
   {
    "duration": 9,
    "start_time": "2024-05-18T21:11:14.165Z"
   },
   {
    "duration": 6,
    "start_time": "2024-05-18T21:11:27.496Z"
   },
   {
    "duration": 162,
    "start_time": "2024-05-18T21:11:32.616Z"
   },
   {
    "duration": 733,
    "start_time": "2024-05-18T21:11:44.354Z"
   },
   {
    "duration": 1537,
    "start_time": "2024-05-18T21:11:45.090Z"
   },
   {
    "duration": 20,
    "start_time": "2024-05-18T21:11:46.630Z"
   },
   {
    "duration": 168,
    "start_time": "2024-05-18T21:11:46.655Z"
   },
   {
    "duration": 11,
    "start_time": "2024-05-18T21:11:46.826Z"
   },
   {
    "duration": 16,
    "start_time": "2024-05-18T21:11:46.841Z"
   },
   {
    "duration": 61,
    "start_time": "2024-05-18T21:11:46.860Z"
   },
   {
    "duration": 11,
    "start_time": "2024-05-18T21:11:46.924Z"
   },
   {
    "duration": 14,
    "start_time": "2024-05-18T21:11:46.938Z"
   },
   {
    "duration": 15,
    "start_time": "2024-05-18T21:11:46.959Z"
   },
   {
    "duration": 9,
    "start_time": "2024-05-18T21:11:47.013Z"
   },
   {
    "duration": 13,
    "start_time": "2024-05-18T21:11:47.025Z"
   },
   {
    "duration": 15,
    "start_time": "2024-05-18T21:11:47.041Z"
   },
   {
    "duration": 9,
    "start_time": "2024-05-18T21:11:47.060Z"
   },
   {
    "duration": 38,
    "start_time": "2024-05-18T21:11:47.114Z"
   },
   {
    "duration": 780,
    "start_time": "2024-05-18T21:11:47.155Z"
   },
   {
    "duration": 10,
    "start_time": "2024-05-18T21:11:47.939Z"
   },
   {
    "duration": 164,
    "start_time": "2024-05-18T21:11:47.952Z"
   },
   {
    "duration": 198,
    "start_time": "2024-05-18T21:11:48.118Z"
   },
   {
    "duration": 20,
    "start_time": "2024-05-18T21:11:48.319Z"
   },
   {
    "duration": 197,
    "start_time": "2024-05-18T21:11:48.342Z"
   },
   {
    "duration": 170,
    "start_time": "2024-05-18T21:11:48.542Z"
   },
   {
    "duration": 44,
    "start_time": "2024-05-18T21:11:48.714Z"
   },
   {
    "duration": 53,
    "start_time": "2024-05-18T21:11:48.761Z"
   },
   {
    "duration": 7,
    "start_time": "2024-05-18T21:11:48.818Z"
   },
   {
    "duration": 40,
    "start_time": "2024-05-18T21:11:48.828Z"
   },
   {
    "duration": 68,
    "start_time": "2024-05-18T21:11:48.871Z"
   },
   {
    "duration": 6,
    "start_time": "2024-05-18T21:11:48.948Z"
   },
   {
    "duration": 8,
    "start_time": "2024-05-18T21:11:48.958Z"
   },
   {
    "duration": 43,
    "start_time": "2024-05-18T21:11:48.969Z"
   },
   {
    "duration": 7,
    "start_time": "2024-05-18T21:11:49.015Z"
   },
   {
    "duration": 1337,
    "start_time": "2024-05-18T21:11:49.025Z"
   },
   {
    "duration": 1232,
    "start_time": "2024-05-18T21:11:50.364Z"
   },
   {
    "duration": 22,
    "start_time": "2024-05-18T21:11:51.599Z"
   },
   {
    "duration": 14,
    "start_time": "2024-05-18T21:11:51.624Z"
   },
   {
    "duration": 10,
    "start_time": "2024-05-18T21:11:51.640Z"
   },
   {
    "duration": 6,
    "start_time": "2024-05-18T21:11:51.653Z"
   },
   {
    "duration": 51,
    "start_time": "2024-05-18T21:11:51.661Z"
   },
   {
    "duration": 10,
    "start_time": "2024-05-18T21:11:51.715Z"
   },
   {
    "duration": 8,
    "start_time": "2024-05-18T21:11:51.729Z"
   },
   {
    "duration": 12,
    "start_time": "2024-05-18T21:11:51.740Z"
   },
   {
    "duration": 63,
    "start_time": "2024-05-18T21:11:51.755Z"
   },
   {
    "duration": 19,
    "start_time": "2024-05-18T21:11:51.821Z"
   },
   {
    "duration": 25,
    "start_time": "2024-05-18T21:11:51.843Z"
   },
   {
    "duration": 59,
    "start_time": "2024-05-18T21:11:51.871Z"
   },
   {
    "duration": 27,
    "start_time": "2024-05-18T21:11:51.934Z"
   },
   {
    "duration": 56,
    "start_time": "2024-05-18T21:11:51.964Z"
   },
   {
    "duration": 10,
    "start_time": "2024-05-18T21:11:52.023Z"
   },
   {
    "duration": 4,
    "start_time": "2024-05-18T21:11:52.036Z"
   },
   {
    "duration": 38,
    "start_time": "2024-05-18T21:11:52.042Z"
   },
   {
    "duration": 7,
    "start_time": "2024-05-18T21:11:52.113Z"
   },
   {
    "duration": 7,
    "start_time": "2024-05-18T21:11:52.123Z"
   },
   {
    "duration": 40,
    "start_time": "2024-05-18T21:11:52.134Z"
   },
   {
    "duration": 66,
    "start_time": "2024-05-18T21:11:52.177Z"
   },
   {
    "duration": 30,
    "start_time": "2024-05-18T21:11:52.246Z"
   },
   {
    "duration": 37,
    "start_time": "2024-05-18T21:11:52.279Z"
   },
   {
    "duration": 10,
    "start_time": "2024-05-18T21:11:52.319Z"
   },
   {
    "duration": 376,
    "start_time": "2024-05-18T21:11:52.332Z"
   },
   {
    "duration": 216,
    "start_time": "2024-05-18T21:11:52.713Z"
   },
   {
    "duration": 423,
    "start_time": "2024-05-18T21:11:52.932Z"
   },
   {
    "duration": 453,
    "start_time": "2024-05-18T21:11:53.361Z"
   },
   {
    "duration": 311,
    "start_time": "2024-05-18T21:11:53.817Z"
   },
   {
    "duration": 1426,
    "start_time": "2024-05-18T21:11:54.131Z"
   },
   {
    "duration": 788,
    "start_time": "2024-05-18T21:11:55.559Z"
   },
   {
    "duration": 162,
    "start_time": "2024-05-18T21:11:56.350Z"
   },
   {
    "duration": 0,
    "start_time": "2024-05-18T21:11:56.514Z"
   },
   {
    "duration": 0,
    "start_time": "2024-05-18T21:11:56.516Z"
   },
   {
    "duration": 0,
    "start_time": "2024-05-18T21:11:56.518Z"
   },
   {
    "duration": 0,
    "start_time": "2024-05-18T21:11:56.521Z"
   },
   {
    "duration": 0,
    "start_time": "2024-05-18T21:11:56.523Z"
   },
   {
    "duration": 0,
    "start_time": "2024-05-18T21:11:56.525Z"
   },
   {
    "duration": 0,
    "start_time": "2024-05-18T21:11:56.527Z"
   },
   {
    "duration": 0,
    "start_time": "2024-05-18T21:11:56.529Z"
   },
   {
    "duration": 282,
    "start_time": "2024-05-18T21:12:15.070Z"
   },
   {
    "duration": 608,
    "start_time": "2024-05-18T21:12:27.910Z"
   },
   {
    "duration": 482,
    "start_time": "2024-05-18T21:12:48.955Z"
   },
   {
    "duration": 480,
    "start_time": "2024-05-18T21:13:15.560Z"
   },
   {
    "duration": 713,
    "start_time": "2024-05-18T21:13:22.109Z"
   },
   {
    "duration": 1577,
    "start_time": "2024-05-18T21:13:22.826Z"
   },
   {
    "duration": 21,
    "start_time": "2024-05-18T21:13:24.407Z"
   },
   {
    "duration": 160,
    "start_time": "2024-05-18T21:13:24.432Z"
   },
   {
    "duration": 19,
    "start_time": "2024-05-18T21:13:24.595Z"
   },
   {
    "duration": 16,
    "start_time": "2024-05-18T21:13:24.617Z"
   },
   {
    "duration": 25,
    "start_time": "2024-05-18T21:13:24.636Z"
   },
   {
    "duration": 48,
    "start_time": "2024-05-18T21:13:24.664Z"
   },
   {
    "duration": 13,
    "start_time": "2024-05-18T21:13:24.715Z"
   },
   {
    "duration": 15,
    "start_time": "2024-05-18T21:13:24.734Z"
   },
   {
    "duration": 10,
    "start_time": "2024-05-18T21:13:24.752Z"
   },
   {
    "duration": 56,
    "start_time": "2024-05-18T21:13:24.765Z"
   },
   {
    "duration": 17,
    "start_time": "2024-05-18T21:13:24.824Z"
   },
   {
    "duration": 11,
    "start_time": "2024-05-18T21:13:24.847Z"
   },
   {
    "duration": 83,
    "start_time": "2024-05-18T21:13:24.861Z"
   },
   {
    "duration": 785,
    "start_time": "2024-05-18T21:13:24.948Z"
   },
   {
    "duration": 10,
    "start_time": "2024-05-18T21:13:25.736Z"
   },
   {
    "duration": 177,
    "start_time": "2024-05-18T21:13:25.749Z"
   },
   {
    "duration": 201,
    "start_time": "2024-05-18T21:13:25.929Z"
   },
   {
    "duration": 19,
    "start_time": "2024-05-18T21:13:26.133Z"
   },
   {
    "duration": 196,
    "start_time": "2024-05-18T21:13:26.155Z"
   },
   {
    "duration": 171,
    "start_time": "2024-05-18T21:13:26.354Z"
   },
   {
    "duration": 46,
    "start_time": "2024-05-18T21:13:26.527Z"
   },
   {
    "duration": 47,
    "start_time": "2024-05-18T21:13:26.576Z"
   },
   {
    "duration": 7,
    "start_time": "2024-05-18T21:13:26.625Z"
   },
   {
    "duration": 36,
    "start_time": "2024-05-18T21:13:26.636Z"
   },
   {
    "duration": 69,
    "start_time": "2024-05-18T21:13:26.675Z"
   },
   {
    "duration": 7,
    "start_time": "2024-05-18T21:13:26.754Z"
   },
   {
    "duration": 7,
    "start_time": "2024-05-18T21:13:26.764Z"
   },
   {
    "duration": 35,
    "start_time": "2024-05-18T21:13:26.777Z"
   },
   {
    "duration": 8,
    "start_time": "2024-05-18T21:13:26.815Z"
   },
   {
    "duration": 1347,
    "start_time": "2024-05-18T21:13:26.826Z"
   },
   {
    "duration": 1209,
    "start_time": "2024-05-18T21:13:28.186Z"
   },
   {
    "duration": 32,
    "start_time": "2024-05-18T21:13:29.398Z"
   },
   {
    "duration": 11,
    "start_time": "2024-05-18T21:13:29.433Z"
   },
   {
    "duration": 10,
    "start_time": "2024-05-18T21:13:29.447Z"
   },
   {
    "duration": 4,
    "start_time": "2024-05-18T21:13:29.460Z"
   },
   {
    "duration": 47,
    "start_time": "2024-05-18T21:13:29.467Z"
   },
   {
    "duration": 11,
    "start_time": "2024-05-18T21:13:29.518Z"
   },
   {
    "duration": 9,
    "start_time": "2024-05-18T21:13:29.532Z"
   },
   {
    "duration": 11,
    "start_time": "2024-05-18T21:13:29.544Z"
   },
   {
    "duration": 60,
    "start_time": "2024-05-18T21:13:29.557Z"
   },
   {
    "duration": 19,
    "start_time": "2024-05-18T21:13:29.620Z"
   },
   {
    "duration": 25,
    "start_time": "2024-05-18T21:13:29.642Z"
   },
   {
    "duration": 67,
    "start_time": "2024-05-18T21:13:29.669Z"
   },
   {
    "duration": 27,
    "start_time": "2024-05-18T21:13:29.740Z"
   },
   {
    "duration": 55,
    "start_time": "2024-05-18T21:13:29.770Z"
   },
   {
    "duration": 9,
    "start_time": "2024-05-18T21:13:29.828Z"
   },
   {
    "duration": 3,
    "start_time": "2024-05-18T21:13:29.840Z"
   },
   {
    "duration": 36,
    "start_time": "2024-05-18T21:13:29.846Z"
   },
   {
    "duration": 31,
    "start_time": "2024-05-18T21:13:29.884Z"
   },
   {
    "duration": 7,
    "start_time": "2024-05-18T21:13:29.918Z"
   },
   {
    "duration": 41,
    "start_time": "2024-05-18T21:13:29.928Z"
   },
   {
    "duration": 67,
    "start_time": "2024-05-18T21:13:29.972Z"
   },
   {
    "duration": 32,
    "start_time": "2024-05-18T21:13:30.042Z"
   },
   {
    "duration": 38,
    "start_time": "2024-05-18T21:13:30.077Z"
   },
   {
    "duration": 10,
    "start_time": "2024-05-18T21:13:30.118Z"
   },
   {
    "duration": 384,
    "start_time": "2024-05-18T21:13:30.131Z"
   },
   {
    "duration": 222,
    "start_time": "2024-05-18T21:13:30.518Z"
   },
   {
    "duration": 399,
    "start_time": "2024-05-18T21:13:30.743Z"
   },
   {
    "duration": 467,
    "start_time": "2024-05-18T21:13:31.145Z"
   },
   {
    "duration": 315,
    "start_time": "2024-05-18T21:13:31.615Z"
   },
   {
    "duration": 1451,
    "start_time": "2024-05-18T21:13:31.933Z"
   },
   {
    "duration": 816,
    "start_time": "2024-05-18T21:13:33.387Z"
   },
   {
    "duration": 504,
    "start_time": "2024-05-18T21:13:34.213Z"
   },
   {
    "duration": 857,
    "start_time": "2024-05-18T21:13:34.721Z"
   },
   {
    "duration": 786,
    "start_time": "2024-05-18T21:13:35.581Z"
   },
   {
    "duration": 198,
    "start_time": "2024-05-18T21:13:36.371Z"
   },
   {
    "duration": 272,
    "start_time": "2024-05-18T21:13:36.572Z"
   },
   {
    "duration": 15,
    "start_time": "2024-05-18T21:13:36.848Z"
   },
   {
    "duration": 1669,
    "start_time": "2024-05-18T21:13:36.867Z"
   },
   {
    "duration": 247,
    "start_time": "2024-05-18T21:13:38.539Z"
   },
   {
    "duration": 138,
    "start_time": "2024-05-18T21:13:38.790Z"
   },
   {
    "duration": 503,
    "start_time": "2024-05-18T21:13:39.396Z"
   },
   {
    "duration": 735,
    "start_time": "2024-05-18T21:13:44.899Z"
   },
   {
    "duration": 1547,
    "start_time": "2024-05-18T21:13:45.638Z"
   },
   {
    "duration": 27,
    "start_time": "2024-05-18T21:13:47.187Z"
   },
   {
    "duration": 159,
    "start_time": "2024-05-18T21:13:47.218Z"
   },
   {
    "duration": 13,
    "start_time": "2024-05-18T21:13:47.380Z"
   },
   {
    "duration": 17,
    "start_time": "2024-05-18T21:13:47.413Z"
   },
   {
    "duration": 24,
    "start_time": "2024-05-18T21:13:47.433Z"
   },
   {
    "duration": 10,
    "start_time": "2024-05-18T21:13:47.460Z"
   },
   {
    "duration": 51,
    "start_time": "2024-05-18T21:13:47.473Z"
   },
   {
    "duration": 15,
    "start_time": "2024-05-18T21:13:47.532Z"
   },
   {
    "duration": 11,
    "start_time": "2024-05-18T21:13:47.549Z"
   },
   {
    "duration": 54,
    "start_time": "2024-05-18T21:13:47.564Z"
   },
   {
    "duration": 15,
    "start_time": "2024-05-18T21:13:47.622Z"
   },
   {
    "duration": 9,
    "start_time": "2024-05-18T21:13:47.640Z"
   },
   {
    "duration": 81,
    "start_time": "2024-05-18T21:13:47.652Z"
   },
   {
    "duration": 770,
    "start_time": "2024-05-18T21:13:47.736Z"
   },
   {
    "duration": 10,
    "start_time": "2024-05-18T21:13:48.513Z"
   },
   {
    "duration": 153,
    "start_time": "2024-05-18T21:13:48.526Z"
   },
   {
    "duration": 187,
    "start_time": "2024-05-18T21:13:48.682Z"
   },
   {
    "duration": 19,
    "start_time": "2024-05-18T21:13:48.872Z"
   },
   {
    "duration": 185,
    "start_time": "2024-05-18T21:13:48.911Z"
   },
   {
    "duration": 174,
    "start_time": "2024-05-18T21:13:49.099Z"
   },
   {
    "duration": 56,
    "start_time": "2024-05-18T21:13:49.276Z"
   },
   {
    "duration": 25,
    "start_time": "2024-05-18T21:13:49.335Z"
   },
   {
    "duration": 8,
    "start_time": "2024-05-18T21:13:49.363Z"
   },
   {
    "duration": 66,
    "start_time": "2024-05-18T21:13:49.374Z"
   },
   {
    "duration": 41,
    "start_time": "2024-05-18T21:13:49.443Z"
   },
   {
    "duration": 7,
    "start_time": "2024-05-18T21:13:49.511Z"
   },
   {
    "duration": 7,
    "start_time": "2024-05-18T21:13:49.521Z"
   },
   {
    "duration": 8,
    "start_time": "2024-05-18T21:13:49.532Z"
   },
   {
    "duration": 7,
    "start_time": "2024-05-18T21:13:49.542Z"
   },
   {
    "duration": 1343,
    "start_time": "2024-05-18T21:13:49.552Z"
   },
   {
    "duration": 1184,
    "start_time": "2024-05-18T21:13:50.898Z"
   },
   {
    "duration": 30,
    "start_time": "2024-05-18T21:13:52.085Z"
   },
   {
    "duration": 12,
    "start_time": "2024-05-18T21:13:52.118Z"
   },
   {
    "duration": 11,
    "start_time": "2024-05-18T21:13:52.133Z"
   },
   {
    "duration": 3,
    "start_time": "2024-05-18T21:13:52.147Z"
   },
   {
    "duration": 58,
    "start_time": "2024-05-18T21:13:52.154Z"
   },
   {
    "duration": 10,
    "start_time": "2024-05-18T21:13:52.215Z"
   },
   {
    "duration": 9,
    "start_time": "2024-05-18T21:13:52.228Z"
   },
   {
    "duration": 14,
    "start_time": "2024-05-18T21:13:52.240Z"
   },
   {
    "duration": 63,
    "start_time": "2024-05-18T21:13:52.258Z"
   },
   {
    "duration": 18,
    "start_time": "2024-05-18T21:13:52.327Z"
   },
   {
    "duration": 24,
    "start_time": "2024-05-18T21:13:52.348Z"
   },
   {
    "duration": 60,
    "start_time": "2024-05-18T21:13:52.376Z"
   },
   {
    "duration": 28,
    "start_time": "2024-05-18T21:13:52.439Z"
   },
   {
    "duration": 51,
    "start_time": "2024-05-18T21:13:52.470Z"
   },
   {
    "duration": 10,
    "start_time": "2024-05-18T21:13:52.524Z"
   },
   {
    "duration": 4,
    "start_time": "2024-05-18T21:13:52.536Z"
   },
   {
    "duration": 38,
    "start_time": "2024-05-18T21:13:52.542Z"
   },
   {
    "duration": 5,
    "start_time": "2024-05-18T21:13:52.613Z"
   },
   {
    "duration": 6,
    "start_time": "2024-05-18T21:13:52.622Z"
   },
   {
    "duration": 38,
    "start_time": "2024-05-18T21:13:52.631Z"
   },
   {
    "duration": 60,
    "start_time": "2024-05-18T21:13:52.672Z"
   },
   {
    "duration": 31,
    "start_time": "2024-05-18T21:13:52.735Z"
   },
   {
    "duration": 9,
    "start_time": "2024-05-18T21:13:52.769Z"
   },
   {
    "duration": 11,
    "start_time": "2024-05-18T21:13:52.813Z"
   },
   {
    "duration": 394,
    "start_time": "2024-05-18T21:13:52.827Z"
   },
   {
    "duration": 245,
    "start_time": "2024-05-18T21:13:53.223Z"
   },
   {
    "duration": 399,
    "start_time": "2024-05-18T21:13:53.471Z"
   },
   {
    "duration": 439,
    "start_time": "2024-05-18T21:13:53.873Z"
   },
   {
    "duration": 327,
    "start_time": "2024-05-18T21:13:54.314Z"
   },
   {
    "duration": 1435,
    "start_time": "2024-05-18T21:13:54.644Z"
   },
   {
    "duration": 804,
    "start_time": "2024-05-18T21:13:56.083Z"
   },
   {
    "duration": 501,
    "start_time": "2024-05-18T21:13:56.890Z"
   },
   {
    "duration": 855,
    "start_time": "2024-05-18T21:13:57.394Z"
   },
   {
    "duration": 818,
    "start_time": "2024-05-18T21:13:58.253Z"
   },
   {
    "duration": 195,
    "start_time": "2024-05-18T21:13:59.077Z"
   },
   {
    "duration": 259,
    "start_time": "2024-05-18T21:13:59.275Z"
   },
   {
    "duration": 13,
    "start_time": "2024-05-18T21:13:59.537Z"
   },
   {
    "duration": 1464,
    "start_time": "2024-05-18T21:13:59.553Z"
   },
   {
    "duration": 216,
    "start_time": "2024-05-18T21:14:01.020Z"
   },
   {
    "duration": 134,
    "start_time": "2024-05-18T21:14:01.239Z"
   },
   {
    "duration": 710,
    "start_time": "2024-05-18T21:14:24.571Z"
   },
   {
    "duration": 1544,
    "start_time": "2024-05-18T21:14:25.285Z"
   },
   {
    "duration": 18,
    "start_time": "2024-05-18T21:14:26.832Z"
   },
   {
    "duration": 161,
    "start_time": "2024-05-18T21:14:26.857Z"
   },
   {
    "duration": 12,
    "start_time": "2024-05-18T21:14:27.021Z"
   },
   {
    "duration": 19,
    "start_time": "2024-05-18T21:14:27.036Z"
   },
   {
    "duration": 57,
    "start_time": "2024-05-18T21:14:27.057Z"
   },
   {
    "duration": 10,
    "start_time": "2024-05-18T21:14:27.117Z"
   },
   {
    "duration": 14,
    "start_time": "2024-05-18T21:14:27.131Z"
   },
   {
    "duration": 16,
    "start_time": "2024-05-18T21:14:27.151Z"
   },
   {
    "duration": 51,
    "start_time": "2024-05-18T21:14:27.170Z"
   },
   {
    "duration": 13,
    "start_time": "2024-05-18T21:14:27.224Z"
   },
   {
    "duration": 21,
    "start_time": "2024-05-18T21:14:27.240Z"
   },
   {
    "duration": 10,
    "start_time": "2024-05-18T21:14:27.264Z"
   },
   {
    "duration": 41,
    "start_time": "2024-05-18T21:14:27.313Z"
   },
   {
    "duration": 789,
    "start_time": "2024-05-18T21:14:27.358Z"
   },
   {
    "duration": 11,
    "start_time": "2024-05-18T21:14:28.150Z"
   },
   {
    "duration": 162,
    "start_time": "2024-05-18T21:14:28.164Z"
   },
   {
    "duration": 198,
    "start_time": "2024-05-18T21:14:28.329Z"
   },
   {
    "duration": 23,
    "start_time": "2024-05-18T21:14:28.529Z"
   },
   {
    "duration": 213,
    "start_time": "2024-05-18T21:14:28.555Z"
   },
   {
    "duration": 190,
    "start_time": "2024-05-18T21:14:28.770Z"
   },
   {
    "duration": 73,
    "start_time": "2024-05-18T21:14:28.963Z"
   },
   {
    "duration": 29,
    "start_time": "2024-05-18T21:14:29.040Z"
   },
   {
    "duration": 8,
    "start_time": "2024-05-18T21:14:29.072Z"
   },
   {
    "duration": 40,
    "start_time": "2024-05-18T21:14:29.112Z"
   },
   {
    "duration": 70,
    "start_time": "2024-05-18T21:14:29.155Z"
   },
   {
    "duration": 7,
    "start_time": "2024-05-18T21:14:29.236Z"
   },
   {
    "duration": 8,
    "start_time": "2024-05-18T21:14:29.246Z"
   },
   {
    "duration": 8,
    "start_time": "2024-05-18T21:14:29.258Z"
   },
   {
    "duration": 47,
    "start_time": "2024-05-18T21:14:29.269Z"
   },
   {
    "duration": 1412,
    "start_time": "2024-05-18T21:14:29.320Z"
   },
   {
    "duration": 1273,
    "start_time": "2024-05-18T21:14:30.735Z"
   },
   {
    "duration": 21,
    "start_time": "2024-05-18T21:14:32.010Z"
   },
   {
    "duration": 11,
    "start_time": "2024-05-18T21:14:32.034Z"
   },
   {
    "duration": 10,
    "start_time": "2024-05-18T21:14:32.048Z"
   },
   {
    "duration": 4,
    "start_time": "2024-05-18T21:14:32.061Z"
   },
   {
    "duration": 15,
    "start_time": "2024-05-18T21:14:32.113Z"
   },
   {
    "duration": 10,
    "start_time": "2024-05-18T21:14:32.132Z"
   },
   {
    "duration": 9,
    "start_time": "2024-05-18T21:14:32.145Z"
   },
   {
    "duration": 15,
    "start_time": "2024-05-18T21:14:32.156Z"
   },
   {
    "duration": 63,
    "start_time": "2024-05-18T21:14:32.173Z"
   },
   {
    "duration": 23,
    "start_time": "2024-05-18T21:14:32.239Z"
   },
   {
    "duration": 56,
    "start_time": "2024-05-18T21:14:32.265Z"
   },
   {
    "duration": 32,
    "start_time": "2024-05-18T21:14:32.324Z"
   },
   {
    "duration": 59,
    "start_time": "2024-05-18T21:14:32.360Z"
   },
   {
    "duration": 27,
    "start_time": "2024-05-18T21:14:32.422Z"
   },
   {
    "duration": 9,
    "start_time": "2024-05-18T21:14:32.452Z"
   },
   {
    "duration": 4,
    "start_time": "2024-05-18T21:14:32.464Z"
   },
   {
    "duration": 82,
    "start_time": "2024-05-18T21:14:32.471Z"
   },
   {
    "duration": 15,
    "start_time": "2024-05-18T21:14:32.556Z"
   },
   {
    "duration": 6,
    "start_time": "2024-05-18T21:14:32.576Z"
   },
   {
    "duration": 57,
    "start_time": "2024-05-18T21:14:32.585Z"
   },
   {
    "duration": 40,
    "start_time": "2024-05-18T21:14:32.646Z"
   },
   {
    "duration": 48,
    "start_time": "2024-05-18T21:14:32.689Z"
   },
   {
    "duration": 10,
    "start_time": "2024-05-18T21:14:32.739Z"
   },
   {
    "duration": 13,
    "start_time": "2024-05-18T21:14:32.752Z"
   },
   {
    "duration": 471,
    "start_time": "2024-05-18T21:14:32.771Z"
   },
   {
    "duration": 311,
    "start_time": "2024-05-18T21:14:33.245Z"
   },
   {
    "duration": 514,
    "start_time": "2024-05-18T21:14:33.563Z"
   },
   {
    "duration": 479,
    "start_time": "2024-05-18T21:14:34.080Z"
   },
   {
    "duration": 340,
    "start_time": "2024-05-18T21:14:34.561Z"
   },
   {
    "duration": 1464,
    "start_time": "2024-05-18T21:14:34.903Z"
   },
   {
    "duration": 798,
    "start_time": "2024-05-18T21:14:36.370Z"
   },
   {
    "duration": 517,
    "start_time": "2024-05-18T21:14:37.171Z"
   },
   {
    "duration": 863,
    "start_time": "2024-05-18T21:14:37.692Z"
   },
   {
    "duration": 919,
    "start_time": "2024-05-18T21:14:38.558Z"
   },
   {
    "duration": 235,
    "start_time": "2024-05-18T21:14:39.480Z"
   },
   {
    "duration": 292,
    "start_time": "2024-05-18T21:14:39.721Z"
   },
   {
    "duration": 16,
    "start_time": "2024-05-18T21:14:40.016Z"
   },
   {
    "duration": 1632,
    "start_time": "2024-05-18T21:14:40.035Z"
   },
   {
    "duration": 236,
    "start_time": "2024-05-18T21:14:41.669Z"
   },
   {
    "duration": 125,
    "start_time": "2024-05-18T21:14:41.911Z"
   },
   {
    "duration": 312,
    "start_time": "2024-05-18T21:16:25.078Z"
   },
   {
    "duration": 373,
    "start_time": "2024-05-18T21:18:08.101Z"
   },
   {
    "duration": 346,
    "start_time": "2024-05-18T21:18:18.384Z"
   },
   {
    "duration": 353,
    "start_time": "2024-05-18T21:18:41.050Z"
   },
   {
    "duration": 1507,
    "start_time": "2024-05-18T21:18:59.228Z"
   },
   {
    "duration": 349,
    "start_time": "2024-05-18T21:19:45.942Z"
   },
   {
    "duration": 330,
    "start_time": "2024-05-18T21:21:06.649Z"
   },
   {
    "duration": 450,
    "start_time": "2024-05-18T21:21:12.882Z"
   },
   {
    "duration": 1816,
    "start_time": "2024-05-18T21:26:36.425Z"
   },
   {
    "duration": 754,
    "start_time": "2024-05-18T21:27:23.974Z"
   },
   {
    "duration": 772,
    "start_time": "2024-05-18T21:31:03.610Z"
   },
   {
    "duration": 441,
    "start_time": "2024-05-18T21:31:07.156Z"
   },
   {
    "duration": 461,
    "start_time": "2024-05-18T21:31:50.476Z"
   },
   {
    "duration": 406,
    "start_time": "2024-05-18T21:32:31.037Z"
   },
   {
    "duration": 449,
    "start_time": "2024-05-18T21:32:38.525Z"
   },
   {
    "duration": 425,
    "start_time": "2024-05-18T21:32:49.042Z"
   },
   {
    "duration": 8,
    "start_time": "2024-05-18T21:32:58.268Z"
   },
   {
    "duration": 416,
    "start_time": "2024-05-18T21:33:01.457Z"
   },
   {
    "duration": 463,
    "start_time": "2024-05-18T21:33:07.713Z"
   },
   {
    "duration": 436,
    "start_time": "2024-05-18T21:33:13.793Z"
   },
   {
    "duration": 422,
    "start_time": "2024-05-18T21:33:21.065Z"
   },
   {
    "duration": 477,
    "start_time": "2024-05-18T21:33:29.310Z"
   },
   {
    "duration": 426,
    "start_time": "2024-05-18T21:34:02.543Z"
   },
   {
    "duration": 438,
    "start_time": "2024-05-18T21:34:56.974Z"
   },
   {
    "duration": 12,
    "start_time": "2024-05-18T21:43:42.309Z"
   },
   {
    "duration": 410,
    "start_time": "2024-05-18T21:47:19.746Z"
   },
   {
    "duration": 967,
    "start_time": "2024-05-18T21:50:09.650Z"
   },
   {
    "duration": 681,
    "start_time": "2024-05-18T22:06:56.548Z"
   },
   {
    "duration": 1554,
    "start_time": "2024-05-18T22:06:57.232Z"
   },
   {
    "duration": 26,
    "start_time": "2024-05-18T22:06:58.789Z"
   },
   {
    "duration": 162,
    "start_time": "2024-05-18T22:06:58.819Z"
   },
   {
    "duration": 12,
    "start_time": "2024-05-18T22:06:58.985Z"
   },
   {
    "duration": 18,
    "start_time": "2024-05-18T22:06:59.013Z"
   },
   {
    "duration": 29,
    "start_time": "2024-05-18T22:06:59.034Z"
   },
   {
    "duration": 45,
    "start_time": "2024-05-18T22:06:59.071Z"
   },
   {
    "duration": 16,
    "start_time": "2024-05-18T22:06:59.121Z"
   },
   {
    "duration": 15,
    "start_time": "2024-05-18T22:06:59.141Z"
   },
   {
    "duration": 10,
    "start_time": "2024-05-18T22:06:59.161Z"
   },
   {
    "duration": 15,
    "start_time": "2024-05-18T22:06:59.214Z"
   },
   {
    "duration": 17,
    "start_time": "2024-05-18T22:06:59.233Z"
   },
   {
    "duration": 12,
    "start_time": "2024-05-18T22:06:59.258Z"
   },
   {
    "duration": 78,
    "start_time": "2024-05-18T22:06:59.273Z"
   },
   {
    "duration": 821,
    "start_time": "2024-05-18T22:06:59.355Z"
   },
   {
    "duration": 10,
    "start_time": "2024-05-18T22:07:00.179Z"
   },
   {
    "duration": 165,
    "start_time": "2024-05-18T22:07:00.193Z"
   },
   {
    "duration": 201,
    "start_time": "2024-05-18T22:07:00.361Z"
   },
   {
    "duration": 22,
    "start_time": "2024-05-18T22:07:00.564Z"
   },
   {
    "duration": 198,
    "start_time": "2024-05-18T22:07:00.589Z"
   },
   {
    "duration": 188,
    "start_time": "2024-05-18T22:07:00.790Z"
   },
   {
    "duration": 59,
    "start_time": "2024-05-18T22:07:00.981Z"
   },
   {
    "duration": 24,
    "start_time": "2024-05-18T22:07:01.043Z"
   },
   {
    "duration": 7,
    "start_time": "2024-05-18T22:07:01.070Z"
   },
   {
    "duration": 65,
    "start_time": "2024-05-18T22:07:01.080Z"
   },
   {
    "duration": 64,
    "start_time": "2024-05-18T22:07:01.148Z"
   },
   {
    "duration": 8,
    "start_time": "2024-05-18T22:07:01.214Z"
   },
   {
    "duration": 6,
    "start_time": "2024-05-18T22:07:01.225Z"
   },
   {
    "duration": 8,
    "start_time": "2024-05-18T22:07:01.234Z"
   },
   {
    "duration": 6,
    "start_time": "2024-05-18T22:07:01.245Z"
   },
   {
    "duration": 1370,
    "start_time": "2024-05-18T22:07:01.255Z"
   },
   {
    "duration": 1190,
    "start_time": "2024-05-18T22:07:02.628Z"
   },
   {
    "duration": 26,
    "start_time": "2024-05-18T22:07:03.821Z"
   },
   {
    "duration": 15,
    "start_time": "2024-05-18T22:07:03.850Z"
   },
   {
    "duration": 44,
    "start_time": "2024-05-18T22:07:03.871Z"
   },
   {
    "duration": 5,
    "start_time": "2024-05-18T22:07:03.918Z"
   },
   {
    "duration": 14,
    "start_time": "2024-05-18T22:07:03.926Z"
   },
   {
    "duration": 9,
    "start_time": "2024-05-18T22:07:03.944Z"
   },
   {
    "duration": 9,
    "start_time": "2024-05-18T22:07:03.957Z"
   },
   {
    "duration": 15,
    "start_time": "2024-05-18T22:07:04.013Z"
   },
   {
    "duration": 18,
    "start_time": "2024-05-18T22:07:04.031Z"
   },
   {
    "duration": 18,
    "start_time": "2024-05-18T22:07:04.052Z"
   },
   {
    "duration": 66,
    "start_time": "2024-05-18T22:07:04.073Z"
   },
   {
    "duration": 30,
    "start_time": "2024-05-18T22:07:04.143Z"
   },
   {
    "duration": 60,
    "start_time": "2024-05-18T22:07:04.176Z"
   },
   {
    "duration": 28,
    "start_time": "2024-05-18T22:07:04.239Z"
   },
   {
    "duration": 9,
    "start_time": "2024-05-18T22:07:04.270Z"
   },
   {
    "duration": 30,
    "start_time": "2024-05-18T22:07:04.282Z"
   },
   {
    "duration": 38,
    "start_time": "2024-05-18T22:07:04.315Z"
   },
   {
    "duration": 6,
    "start_time": "2024-05-18T22:07:04.356Z"
   },
   {
    "duration": 6,
    "start_time": "2024-05-18T22:07:04.365Z"
   },
   {
    "duration": 76,
    "start_time": "2024-05-18T22:07:04.374Z"
   },
   {
    "duration": 34,
    "start_time": "2024-05-18T22:07:04.452Z"
   },
   {
    "duration": 52,
    "start_time": "2024-05-18T22:07:04.490Z"
   },
   {
    "duration": 10,
    "start_time": "2024-05-18T22:07:04.545Z"
   },
   {
    "duration": 10,
    "start_time": "2024-05-18T22:07:04.558Z"
   },
   {
    "duration": 387,
    "start_time": "2024-05-18T22:07:04.571Z"
   },
   {
    "duration": 231,
    "start_time": "2024-05-18T22:07:04.961Z"
   },
   {
    "duration": 392,
    "start_time": "2024-05-18T22:07:05.195Z"
   },
   {
    "duration": 436,
    "start_time": "2024-05-18T22:07:05.591Z"
   },
   {
    "duration": 314,
    "start_time": "2024-05-18T22:07:06.031Z"
   },
   {
    "duration": 1445,
    "start_time": "2024-05-18T22:07:06.349Z"
   },
   {
    "duration": 803,
    "start_time": "2024-05-18T22:07:07.797Z"
   },
   {
    "duration": 342,
    "start_time": "2024-05-18T22:07:08.603Z"
   },
   {
    "duration": 798,
    "start_time": "2024-05-18T22:07:08.948Z"
   },
   {
    "duration": 789,
    "start_time": "2024-05-18T22:07:09.749Z"
   },
   {
    "duration": 512,
    "start_time": "2024-05-18T22:07:10.541Z"
   },
   {
    "duration": 201,
    "start_time": "2024-05-18T22:07:11.056Z"
   },
   {
    "duration": 260,
    "start_time": "2024-05-18T22:07:11.260Z"
   },
   {
    "duration": 16,
    "start_time": "2024-05-18T22:07:11.524Z"
   },
   {
    "duration": 12,
    "start_time": "2024-05-18T22:07:11.543Z"
   },
   {
    "duration": 1458,
    "start_time": "2024-05-18T22:07:11.558Z"
   },
   {
    "duration": 216,
    "start_time": "2024-05-18T22:07:13.019Z"
   },
   {
    "duration": 134,
    "start_time": "2024-05-18T22:07:13.237Z"
   },
   {
    "duration": 1422,
    "start_time": "2024-05-18T22:07:13.374Z"
   },
   {
    "duration": 28,
    "start_time": "2024-05-18T22:09:03.803Z"
   },
   {
    "duration": 690,
    "start_time": "2024-05-18T22:09:20.750Z"
   },
   {
    "duration": 1560,
    "start_time": "2024-05-18T22:09:21.443Z"
   },
   {
    "duration": 29,
    "start_time": "2024-05-18T22:09:23.006Z"
   },
   {
    "duration": 166,
    "start_time": "2024-05-18T22:09:23.042Z"
   },
   {
    "duration": 13,
    "start_time": "2024-05-18T22:09:23.215Z"
   },
   {
    "duration": 16,
    "start_time": "2024-05-18T22:09:23.231Z"
   },
   {
    "duration": 25,
    "start_time": "2024-05-18T22:09:23.250Z"
   },
   {
    "duration": 18,
    "start_time": "2024-05-18T22:09:23.315Z"
   },
   {
    "duration": 13,
    "start_time": "2024-05-18T22:09:23.336Z"
   },
   {
    "duration": 14,
    "start_time": "2024-05-18T22:09:23.356Z"
   },
   {
    "duration": 42,
    "start_time": "2024-05-18T22:09:23.374Z"
   },
   {
    "duration": 19,
    "start_time": "2024-05-18T22:09:23.420Z"
   },
   {
    "duration": 17,
    "start_time": "2024-05-18T22:09:23.441Z"
   },
   {
    "duration": 10,
    "start_time": "2024-05-18T22:09:23.460Z"
   },
   {
    "duration": 41,
    "start_time": "2024-05-18T22:09:23.511Z"
   },
   {
    "duration": 794,
    "start_time": "2024-05-18T22:09:23.555Z"
   },
   {
    "duration": 13,
    "start_time": "2024-05-18T22:09:24.352Z"
   },
   {
    "duration": 164,
    "start_time": "2024-05-18T22:09:24.367Z"
   },
   {
    "duration": 191,
    "start_time": "2024-05-18T22:09:24.534Z"
   },
   {
    "duration": 24,
    "start_time": "2024-05-18T22:09:24.728Z"
   },
   {
    "duration": 220,
    "start_time": "2024-05-18T22:09:24.755Z"
   },
   {
    "duration": 189,
    "start_time": "2024-05-18T22:09:24.978Z"
   },
   {
    "duration": 60,
    "start_time": "2024-05-18T22:09:25.170Z"
   },
   {
    "duration": 24,
    "start_time": "2024-05-18T22:09:25.233Z"
   },
   {
    "duration": 8,
    "start_time": "2024-05-18T22:09:25.260Z"
   },
   {
    "duration": 66,
    "start_time": "2024-05-18T22:09:25.271Z"
   },
   {
    "duration": 72,
    "start_time": "2024-05-18T22:09:25.340Z"
   },
   {
    "duration": 14,
    "start_time": "2024-05-18T22:09:25.425Z"
   },
   {
    "duration": 7,
    "start_time": "2024-05-18T22:09:25.445Z"
   },
   {
    "duration": 8,
    "start_time": "2024-05-18T22:09:25.456Z"
   },
   {
    "duration": 8,
    "start_time": "2024-05-18T22:09:25.468Z"
   },
   {
    "duration": 1476,
    "start_time": "2024-05-18T22:09:25.512Z"
   },
   {
    "duration": 1242,
    "start_time": "2024-05-18T22:09:26.996Z"
   },
   {
    "duration": 20,
    "start_time": "2024-05-18T22:09:28.242Z"
   },
   {
    "duration": 13,
    "start_time": "2024-05-18T22:09:28.265Z"
   },
   {
    "duration": 41,
    "start_time": "2024-05-18T22:09:28.281Z"
   },
   {
    "duration": 4,
    "start_time": "2024-05-18T22:09:28.326Z"
   },
   {
    "duration": 12,
    "start_time": "2024-05-18T22:09:28.333Z"
   },
   {
    "duration": 13,
    "start_time": "2024-05-18T22:09:28.348Z"
   },
   {
    "duration": 54,
    "start_time": "2024-05-18T22:09:28.364Z"
   },
   {
    "duration": 11,
    "start_time": "2024-05-18T22:09:28.422Z"
   },
   {
    "duration": 19,
    "start_time": "2024-05-18T22:09:28.436Z"
   },
   {
    "duration": 61,
    "start_time": "2024-05-18T22:09:28.458Z"
   },
   {
    "duration": 25,
    "start_time": "2024-05-18T22:09:28.522Z"
   },
   {
    "duration": 63,
    "start_time": "2024-05-18T22:09:28.550Z"
   },
   {
    "duration": 29,
    "start_time": "2024-05-18T22:09:28.616Z"
   },
   {
    "duration": 30,
    "start_time": "2024-05-18T22:09:28.648Z"
   },
   {
    "duration": 11,
    "start_time": "2024-05-18T22:09:28.713Z"
   },
   {
    "duration": 4,
    "start_time": "2024-05-18T22:09:28.728Z"
   },
   {
    "duration": 42,
    "start_time": "2024-05-18T22:09:28.734Z"
   },
   {
    "duration": 8,
    "start_time": "2024-05-18T22:09:28.812Z"
   },
   {
    "duration": 8,
    "start_time": "2024-05-18T22:09:28.824Z"
   },
   {
    "duration": 77,
    "start_time": "2024-05-18T22:09:28.835Z"
   },
   {
    "duration": 39,
    "start_time": "2024-05-18T22:09:28.916Z"
   },
   {
    "duration": 67,
    "start_time": "2024-05-18T22:09:28.969Z"
   },
   {
    "duration": 11,
    "start_time": "2024-05-18T22:09:29.040Z"
   },
   {
    "duration": 12,
    "start_time": "2024-05-18T22:09:29.055Z"
   },
   {
    "duration": 509,
    "start_time": "2024-05-18T22:09:29.070Z"
   },
   {
    "duration": 262,
    "start_time": "2024-05-18T22:09:29.582Z"
   },
   {
    "duration": 420,
    "start_time": "2024-05-18T22:09:29.847Z"
   },
   {
    "duration": 472,
    "start_time": "2024-05-18T22:09:30.270Z"
   },
   {
    "duration": 322,
    "start_time": "2024-05-18T22:09:30.746Z"
   },
   {
    "duration": 1431,
    "start_time": "2024-05-18T22:09:31.071Z"
   },
   {
    "duration": 841,
    "start_time": "2024-05-18T22:09:32.505Z"
   },
   {
    "duration": 368,
    "start_time": "2024-05-18T22:09:33.349Z"
   },
   {
    "duration": 882,
    "start_time": "2024-05-18T22:09:33.720Z"
   },
   {
    "duration": 820,
    "start_time": "2024-05-18T22:09:34.605Z"
   },
   {
    "duration": 518,
    "start_time": "2024-05-18T22:09:35.427Z"
   },
   {
    "duration": 193,
    "start_time": "2024-05-18T22:09:35.948Z"
   },
   {
    "duration": 265,
    "start_time": "2024-05-18T22:09:36.144Z"
   },
   {
    "duration": 15,
    "start_time": "2024-05-18T22:09:36.412Z"
   },
   {
    "duration": 11,
    "start_time": "2024-05-18T22:09:36.430Z"
   },
   {
    "duration": 1473,
    "start_time": "2024-05-18T22:09:36.444Z"
   },
   {
    "duration": 244,
    "start_time": "2024-05-18T22:09:37.920Z"
   },
   {
    "duration": 138,
    "start_time": "2024-05-18T22:09:38.166Z"
   },
   {
    "duration": 156,
    "start_time": "2024-05-18T22:09:38.313Z"
   },
   {
    "duration": 689,
    "start_time": "2024-05-18T22:13:05.544Z"
   },
   {
    "duration": 1567,
    "start_time": "2024-05-18T22:13:06.237Z"
   },
   {
    "duration": 22,
    "start_time": "2024-05-18T22:13:07.806Z"
   },
   {
    "duration": 160,
    "start_time": "2024-05-18T22:13:07.830Z"
   },
   {
    "duration": 17,
    "start_time": "2024-05-18T22:13:07.996Z"
   },
   {
    "duration": 16,
    "start_time": "2024-05-18T22:13:08.016Z"
   },
   {
    "duration": 25,
    "start_time": "2024-05-18T22:13:08.035Z"
   },
   {
    "duration": 50,
    "start_time": "2024-05-18T22:13:08.063Z"
   },
   {
    "duration": 13,
    "start_time": "2024-05-18T22:13:08.116Z"
   },
   {
    "duration": 17,
    "start_time": "2024-05-18T22:13:08.132Z"
   },
   {
    "duration": 10,
    "start_time": "2024-05-18T22:13:08.151Z"
   },
   {
    "duration": 52,
    "start_time": "2024-05-18T22:13:08.164Z"
   },
   {
    "duration": 16,
    "start_time": "2024-05-18T22:13:08.219Z"
   },
   {
    "duration": 10,
    "start_time": "2024-05-18T22:13:08.243Z"
   },
   {
    "duration": 78,
    "start_time": "2024-05-18T22:13:08.257Z"
   },
   {
    "duration": 777,
    "start_time": "2024-05-18T22:13:08.339Z"
   },
   {
    "duration": 11,
    "start_time": "2024-05-18T22:13:09.119Z"
   },
   {
    "duration": 182,
    "start_time": "2024-05-18T22:13:09.135Z"
   },
   {
    "duration": 248,
    "start_time": "2024-05-18T22:13:09.320Z"
   },
   {
    "duration": 22,
    "start_time": "2024-05-18T22:13:09.571Z"
   },
   {
    "duration": 215,
    "start_time": "2024-05-18T22:13:09.613Z"
   },
   {
    "duration": 179,
    "start_time": "2024-05-18T22:13:09.831Z"
   },
   {
    "duration": 49,
    "start_time": "2024-05-18T22:13:10.013Z"
   },
   {
    "duration": 46,
    "start_time": "2024-05-18T22:13:10.066Z"
   },
   {
    "duration": 7,
    "start_time": "2024-05-18T22:13:10.115Z"
   },
   {
    "duration": 40,
    "start_time": "2024-05-18T22:13:10.125Z"
   },
   {
    "duration": 82,
    "start_time": "2024-05-18T22:13:10.168Z"
   },
   {
    "duration": 13,
    "start_time": "2024-05-18T22:13:10.254Z"
   },
   {
    "duration": 12,
    "start_time": "2024-05-18T22:13:10.270Z"
   },
   {
    "duration": 28,
    "start_time": "2024-05-18T22:13:10.285Z"
   },
   {
    "duration": 9,
    "start_time": "2024-05-18T22:13:10.316Z"
   },
   {
    "duration": 1351,
    "start_time": "2024-05-18T22:13:10.329Z"
   },
   {
    "duration": 1165,
    "start_time": "2024-05-18T22:13:11.683Z"
   },
   {
    "duration": 23,
    "start_time": "2024-05-18T22:13:12.852Z"
   },
   {
    "duration": 36,
    "start_time": "2024-05-18T22:13:12.878Z"
   },
   {
    "duration": 10,
    "start_time": "2024-05-18T22:13:12.917Z"
   },
   {
    "duration": 3,
    "start_time": "2024-05-18T22:13:12.930Z"
   },
   {
    "duration": 10,
    "start_time": "2024-05-18T22:13:12.936Z"
   },
   {
    "duration": 10,
    "start_time": "2024-05-18T22:13:12.949Z"
   },
   {
    "duration": 58,
    "start_time": "2024-05-18T22:13:12.962Z"
   },
   {
    "duration": 17,
    "start_time": "2024-05-18T22:13:13.036Z"
   },
   {
    "duration": 19,
    "start_time": "2024-05-18T22:13:13.057Z"
   },
   {
    "duration": 40,
    "start_time": "2024-05-18T22:13:13.079Z"
   },
   {
    "duration": 27,
    "start_time": "2024-05-18T22:13:13.121Z"
   },
   {
    "duration": 29,
    "start_time": "2024-05-18T22:13:13.151Z"
   },
   {
    "duration": 29,
    "start_time": "2024-05-18T22:13:13.214Z"
   },
   {
    "duration": 27,
    "start_time": "2024-05-18T22:13:13.246Z"
   },
   {
    "duration": 42,
    "start_time": "2024-05-18T22:13:13.276Z"
   },
   {
    "duration": 4,
    "start_time": "2024-05-18T22:13:13.322Z"
   },
   {
    "duration": 39,
    "start_time": "2024-05-18T22:13:13.329Z"
   },
   {
    "duration": 6,
    "start_time": "2024-05-18T22:13:13.370Z"
   },
   {
    "duration": 10,
    "start_time": "2024-05-18T22:13:13.413Z"
   },
   {
    "duration": 40,
    "start_time": "2024-05-18T22:13:13.425Z"
   },
   {
    "duration": 59,
    "start_time": "2024-05-18T22:13:13.468Z"
   },
   {
    "duration": 32,
    "start_time": "2024-05-18T22:13:13.530Z"
   },
   {
    "duration": 10,
    "start_time": "2024-05-18T22:13:13.565Z"
   },
   {
    "duration": 45,
    "start_time": "2024-05-18T22:13:13.577Z"
   },
   {
    "duration": 397,
    "start_time": "2024-05-18T22:13:13.625Z"
   },
   {
    "duration": 229,
    "start_time": "2024-05-18T22:13:14.025Z"
   },
   {
    "duration": 413,
    "start_time": "2024-05-18T22:13:14.261Z"
   },
   {
    "duration": 464,
    "start_time": "2024-05-18T22:13:14.677Z"
   },
   {
    "duration": 307,
    "start_time": "2024-05-18T22:13:15.144Z"
   },
   {
    "duration": 1445,
    "start_time": "2024-05-18T22:13:15.454Z"
   },
   {
    "duration": 800,
    "start_time": "2024-05-18T22:13:16.902Z"
   },
   {
    "duration": 338,
    "start_time": "2024-05-18T22:13:17.705Z"
   },
   {
    "duration": 806,
    "start_time": "2024-05-18T22:13:18.046Z"
   },
   {
    "duration": 793,
    "start_time": "2024-05-18T22:13:18.855Z"
   },
   {
    "duration": 514,
    "start_time": "2024-05-18T22:13:19.651Z"
   },
   {
    "duration": 190,
    "start_time": "2024-05-18T22:13:20.168Z"
   },
   {
    "duration": 250,
    "start_time": "2024-05-18T22:13:20.362Z"
   },
   {
    "duration": 16,
    "start_time": "2024-05-18T22:13:20.614Z"
   },
   {
    "duration": 11,
    "start_time": "2024-05-18T22:13:20.632Z"
   },
   {
    "duration": 1475,
    "start_time": "2024-05-18T22:13:20.645Z"
   },
   {
    "duration": 213,
    "start_time": "2024-05-18T22:13:22.122Z"
   },
   {
    "duration": 132,
    "start_time": "2024-05-18T22:13:22.339Z"
   },
   {
    "duration": 1255,
    "start_time": "2024-05-18T22:13:22.474Z"
   },
   {
    "duration": 416,
    "start_time": "2024-05-18T22:14:48.396Z"
   },
   {
    "duration": 126,
    "start_time": "2024-05-18T22:15:07.137Z"
   },
   {
    "duration": 710,
    "start_time": "2024-05-18T22:19:44.583Z"
   },
   {
    "duration": 1556,
    "start_time": "2024-05-18T22:19:45.296Z"
   },
   {
    "duration": 19,
    "start_time": "2024-05-18T22:19:46.855Z"
   },
   {
    "duration": 166,
    "start_time": "2024-05-18T22:19:46.878Z"
   },
   {
    "duration": 12,
    "start_time": "2024-05-18T22:19:47.047Z"
   },
   {
    "duration": 17,
    "start_time": "2024-05-18T22:19:47.062Z"
   },
   {
    "duration": 24,
    "start_time": "2024-05-18T22:19:47.114Z"
   },
   {
    "duration": 10,
    "start_time": "2024-05-18T22:19:47.141Z"
   },
   {
    "duration": 14,
    "start_time": "2024-05-18T22:19:47.154Z"
   },
   {
    "duration": 15,
    "start_time": "2024-05-18T22:19:47.212Z"
   },
   {
    "duration": 9,
    "start_time": "2024-05-18T22:19:47.230Z"
   },
   {
    "duration": 14,
    "start_time": "2024-05-18T22:19:47.242Z"
   },
   {
    "duration": 56,
    "start_time": "2024-05-18T22:19:47.259Z"
   },
   {
    "duration": 12,
    "start_time": "2024-05-18T22:19:47.318Z"
   },
   {
    "duration": 41,
    "start_time": "2024-05-18T22:19:47.332Z"
   },
   {
    "duration": 796,
    "start_time": "2024-05-18T22:19:47.375Z"
   },
   {
    "duration": 11,
    "start_time": "2024-05-18T22:19:48.173Z"
   },
   {
    "duration": 166,
    "start_time": "2024-05-18T22:19:48.187Z"
   },
   {
    "duration": 194,
    "start_time": "2024-05-18T22:19:48.356Z"
   },
   {
    "duration": 19,
    "start_time": "2024-05-18T22:19:48.553Z"
   },
   {
    "duration": 190,
    "start_time": "2024-05-18T22:19:48.575Z"
   },
   {
    "duration": 185,
    "start_time": "2024-05-18T22:19:48.768Z"
   },
   {
    "duration": 43,
    "start_time": "2024-05-18T22:19:48.956Z"
   },
   {
    "duration": 23,
    "start_time": "2024-05-18T22:19:49.013Z"
   },
   {
    "duration": 7,
    "start_time": "2024-05-18T22:19:49.039Z"
   },
   {
    "duration": 67,
    "start_time": "2024-05-18T22:19:49.049Z"
   },
   {
    "duration": 41,
    "start_time": "2024-05-18T22:19:49.119Z"
   },
   {
    "duration": 7,
    "start_time": "2024-05-18T22:19:49.170Z"
   },
   {
    "duration": 35,
    "start_time": "2024-05-18T22:19:49.180Z"
   },
   {
    "duration": 6,
    "start_time": "2024-05-18T22:19:49.218Z"
   },
   {
    "duration": 6,
    "start_time": "2024-05-18T22:19:49.227Z"
   },
   {
    "duration": 1355,
    "start_time": "2024-05-18T22:19:49.236Z"
   },
   {
    "duration": 1190,
    "start_time": "2024-05-18T22:19:50.594Z"
   },
   {
    "duration": 32,
    "start_time": "2024-05-18T22:19:51.787Z"
   },
   {
    "duration": 12,
    "start_time": "2024-05-18T22:19:51.822Z"
   },
   {
    "duration": 9,
    "start_time": "2024-05-18T22:19:51.837Z"
   },
   {
    "duration": 3,
    "start_time": "2024-05-18T22:19:51.850Z"
   },
   {
    "duration": 10,
    "start_time": "2024-05-18T22:19:51.857Z"
   },
   {
    "duration": 14,
    "start_time": "2024-05-18T22:19:51.912Z"
   },
   {
    "duration": 9,
    "start_time": "2024-05-18T22:19:51.929Z"
   },
   {
    "duration": 12,
    "start_time": "2024-05-18T22:19:51.941Z"
   },
   {
    "duration": 57,
    "start_time": "2024-05-18T22:19:51.957Z"
   },
   {
    "duration": 23,
    "start_time": "2024-05-18T22:19:52.016Z"
   },
   {
    "duration": 25,
    "start_time": "2024-05-18T22:19:52.043Z"
   },
   {
    "duration": 71,
    "start_time": "2024-05-18T22:19:52.073Z"
   },
   {
    "duration": 36,
    "start_time": "2024-05-18T22:19:52.148Z"
   },
   {
    "duration": 50,
    "start_time": "2024-05-18T22:19:52.187Z"
   },
   {
    "duration": 10,
    "start_time": "2024-05-18T22:19:52.240Z"
   },
   {
    "duration": 4,
    "start_time": "2024-05-18T22:19:52.252Z"
   },
   {
    "duration": 68,
    "start_time": "2024-05-18T22:19:52.259Z"
   },
   {
    "duration": 5,
    "start_time": "2024-05-18T22:19:52.330Z"
   },
   {
    "duration": 6,
    "start_time": "2024-05-18T22:19:52.338Z"
   },
   {
    "duration": 72,
    "start_time": "2024-05-18T22:19:52.347Z"
   },
   {
    "duration": 36,
    "start_time": "2024-05-18T22:19:52.421Z"
   },
   {
    "duration": 53,
    "start_time": "2024-05-18T22:19:52.460Z"
   },
   {
    "duration": 9,
    "start_time": "2024-05-18T22:19:52.516Z"
   },
   {
    "duration": 10,
    "start_time": "2024-05-18T22:19:52.527Z"
   },
   {
    "duration": 388,
    "start_time": "2024-05-18T22:19:52.540Z"
   },
   {
    "duration": 239,
    "start_time": "2024-05-18T22:19:52.931Z"
   },
   {
    "duration": 410,
    "start_time": "2024-05-18T22:19:53.173Z"
   },
   {
    "duration": 451,
    "start_time": "2024-05-18T22:19:53.586Z"
   },
   {
    "duration": 319,
    "start_time": "2024-05-18T22:19:54.040Z"
   },
   {
    "duration": 1422,
    "start_time": "2024-05-18T22:19:54.363Z"
   },
   {
    "duration": 797,
    "start_time": "2024-05-18T22:19:55.788Z"
   },
   {
    "duration": 346,
    "start_time": "2024-05-18T22:19:56.588Z"
   },
   {
    "duration": 799,
    "start_time": "2024-05-18T22:19:56.936Z"
   },
   {
    "duration": 765,
    "start_time": "2024-05-18T22:19:57.738Z"
   },
   {
    "duration": 559,
    "start_time": "2024-05-18T22:19:58.506Z"
   },
   {
    "duration": 200,
    "start_time": "2024-05-18T22:19:59.069Z"
   },
   {
    "duration": 263,
    "start_time": "2024-05-18T22:19:59.272Z"
   },
   {
    "duration": 14,
    "start_time": "2024-05-18T22:19:59.538Z"
   },
   {
    "duration": 11,
    "start_time": "2024-05-18T22:19:59.556Z"
   },
   {
    "duration": 1456,
    "start_time": "2024-05-18T22:19:59.570Z"
   },
   {
    "duration": 210,
    "start_time": "2024-05-18T22:20:01.029Z"
   },
   {
    "duration": 129,
    "start_time": "2024-05-18T22:20:01.242Z"
   },
   {
    "duration": 442,
    "start_time": "2024-05-18T22:20:01.374Z"
   },
   {
    "duration": 1256,
    "start_time": "2024-05-18T22:20:13.382Z"
   },
   {
    "duration": 442,
    "start_time": "2024-05-18T22:20:30.900Z"
   },
   {
    "duration": 129,
    "start_time": "2024-05-18T22:21:24.706Z"
   },
   {
    "duration": 67,
    "start_time": "2024-05-18T22:21:30.115Z"
   },
   {
    "duration": 108,
    "start_time": "2024-05-18T22:21:35.018Z"
   },
   {
    "duration": 421,
    "start_time": "2024-05-18T22:21:39.626Z"
   },
   {
    "duration": 7,
    "start_time": "2024-05-18T22:27:50.298Z"
   },
   {
    "duration": 62,
    "start_time": "2024-05-18T22:27:54.928Z"
   },
   {
    "duration": 594,
    "start_time": "2024-05-18T22:29:18.575Z"
   },
   {
    "duration": 684,
    "start_time": "2024-05-18T22:29:42.828Z"
   },
   {
    "duration": 439,
    "start_time": "2024-05-18T22:30:23.278Z"
   },
   {
    "duration": 417,
    "start_time": "2024-05-18T22:31:40.495Z"
   },
   {
    "duration": 423,
    "start_time": "2024-05-18T22:32:31.173Z"
   },
   {
    "duration": 425,
    "start_time": "2024-05-18T22:33:16.614Z"
   },
   {
    "duration": 416,
    "start_time": "2024-05-18T22:33:29.520Z"
   },
   {
    "duration": 418,
    "start_time": "2024-05-18T22:34:41.610Z"
   },
   {
    "duration": 7,
    "start_time": "2024-05-18T22:36:34.708Z"
   }
  ],
  "colab": {
   "provenance": []
  },
  "kernelspec": {
   "display_name": "Python 3 (ipykernel)",
   "language": "python",
   "name": "python3"
  },
  "language_info": {
   "codemirror_mode": {
    "name": "ipython",
    "version": 3
   },
   "file_extension": ".py",
   "mimetype": "text/x-python",
   "name": "python",
   "nbconvert_exporter": "python",
   "pygments_lexer": "ipython3",
   "version": "3.9.19"
  },
  "toc": {
   "base_numbering": 1,
   "nav_menu": {},
   "number_sections": true,
   "sideBar": true,
   "skip_h1_title": true,
   "title_cell": "Table of Contents",
   "title_sidebar": "Contents",
   "toc_cell": false,
   "toc_position": {},
   "toc_section_display": true,
   "toc_window_display": false
  },
  "vscode": {
   "interpreter": {
    "hash": "01a7be9ec63e704a62cefc5fe7a4756944464ee731be31632bdf42a4cb4688cf"
   }
  }
 },
 "nbformat": 4,
 "nbformat_minor": 5
}
