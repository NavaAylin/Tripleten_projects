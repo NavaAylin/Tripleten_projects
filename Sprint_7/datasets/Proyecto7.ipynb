{
 "cells": [
  {
   "cell_type": "markdown",
   "metadata": {},
   "source": [
    "# ¡Hola Aylin!\n",
    "\n",
    "Mi nombre es Ezequiel Ferrario, soy code reviewer en Tripleten y tengo el agrado de revisar el proyecto que entregaste.\n",
    "\n",
    "Para simular la dinámica de un ambiente de trabajo, si veo algún error, en primer instancia solo los señalaré, dándote la oportunidad de encontrarlos y corregirlos por tu cuenta. En un trabajo real, el líder de tu equipo hará una dinámica similar. En caso de que no puedas resolver la tarea, te daré una información más precisa en la próxima revisión.\n",
    "\n",
    "Encontrarás mis comentarios más abajo - **por favor, no los muevas, no los modifiques ni los borres**.\n",
    "\n",
    "¿Cómo lo voy a hacer? Voy a leer detenidamente cada una de las implementaciones que has llevado a cabo para cumplir con lo solicitado. Verás los comentarios de esta forma:\n",
    "\n",
    "<div class=\"alert alert-block alert-success\">\n",
    "<b>Comentario del revisor</b> <a class=\"tocSkip\"></a>\n",
    "\n",
    "Si todo está perfecto.\n",
    "</div>\n",
    "\n",
    "\n",
    "<div class=\"alert alert-block alert-warning\">\n",
    "<b>Comentario del revisor</b> <a class=\"tocSkip\"></a>\n",
    "\n",
    "Si tu código está bien pero se puede mejorar o hay algún detalle que le hace falta. Se aceptan uno o dos comentarios de este tipo en el borrador, pero si hay más, deberá hacer las correcciones. Es como una tarea de prueba al solicitar un trabajo: muchos pequeños errores pueden hacer que un candidato sea rechazado.\n",
    "</div>\n",
    "\n",
    "<div class=\"alert alert-block alert-danger\">\n",
    "\n",
    "<b>Comentario del revisor</b> <a class=\"tocSkip\"></a>\n",
    "\n",
    "Si de pronto hace falta algo o existe algún problema con tu código o conclusiones.\n",
    "</div>\n",
    "\n",
    "Puedes responderme de esta forma:\n",
    "\n",
    "<div class=\"alert alert-block alert-info\">\n",
    "<b>Respuesta del estudiante</b> <a class=\"tocSkip\"></a>\n",
    "\n",
    "Hola, muchas gracias por tus comentarios y la revisión.        \n",
    "</div>\n",
    "\n",
    "¡Empecemos!"
   ]
  },
  {
   "cell_type": "markdown",
   "metadata": {},
   "source": [
    "---------------\n",
    "\n",
    "<div class=\"alert alert-block alert-danger\">\n",
    "<b>Comentario general #1</b> <a class=\"tocSkip\"></a>\n",
    "\n",
    "Aylin, hiciste un muy buen proyecto.\n",
    "\n",
    "Abarcaste las explolraciones de buena forma y luego los graficos con sus conclusiones fue excelente.\n",
    "\n",
    "Sobre estos puntos faltaria un detalle por abarcar que es la exploracion de uno de los datasets y ordenar la carga de datasets.\n",
    "\n",
    "La prueba estadistica esta muy bien planteada pero faltaria constatar un parametro.\n",
    "\n",
    "Asi, espero tu correccion para finalizar este gran trabajo.\n",
    "\n",
    "Saludos.</div>\n",
    "\n",
    "--------------\n",
    "\n",
    "<div class=\"alert alert-block alert-success\">\n",
    "<b>Comentario general #2</b> <a class=\"tocSkip\"></a>\n",
    "\n",
    "Aylin, las correcciones fueron excelentes.\n",
    "\n",
    "Abarcaste todos los puntos de muy buena manera y me encanto tanto la exploracion del ultimo dataset como la prueba de Levene.\n",
    "\n",
    "Hiciste un excelente proyecto y es por eso que pasa a estar **aprobado**.\n",
    "\n",
    "Exitos en lo que viene, saludos.</div>\n",
    "\n",
    "------"
   ]
  },
  {
   "cell_type": "markdown",
   "metadata": {},
   "source": [
    "<div class=\"alert alert-block alert-danger\">\n",
    "\n",
    "<b>Comentario del revisor</b> <a class=\"tocSkip\"></a>\n",
    "\n",
    "Hace una tabla de contenidos que este  linkeada a las secciones (al clickear debe llevarnos a esa seccion) de esta manera es mas facil desplazarse.\n",
    "\n",
    "Como consejo, si realizas bien todas las secciones (con su respectivo #) podes generarlo automáticamente desde jupyter lab. Para hacerlo, en la pestaña de herramientas de jupyter lab clickeas en el **botón de los puntos y barras**  (Table of contents) te generara automáticamente una tabla de contenidos linkeable y estética. A la **derecha** del seleccionador del tipo de celda (code/markdown)</div>\n",
    "\n",
    "<div class=\"alert alert-block alert-success\">\n",
    "\n",
    "<b>Comentario del revisor #2</b> <a class=\"tocSkip\"></a>\n",
    "\n",
    "Corregido, muy bien.</div>"
   ]
  },
  {
   "cell_type": "markdown",
   "metadata": {},
   "source": [
    "# Proyecto Sprint 8: Análisis de datos de Zuber una nueva empresa de viajes."
   ]
  },
  {
   "cell_type": "markdown",
   "metadata": {},
   "source": [
    "# Contenido <a id='back'></a>\n",
    "\n",
    "* [Introducción](#intro)\n",
    "* [Objetivo](#objetivo)\n",
    "* [Análisis exploratorio](#analisis_expl)\n",
    "* [Importación de librerías](#imp_lib)\n",
    "* [Importación de datasets](#imp_data)\n",
    "* [Análisis de la tabla de Company - Trips](#analisis_ct)\n",
    "    * [Información en general de la tabla Company - Trips](#inf_gen_ct)\n",
    "    * [Tipo de datos adecuado](#ideal_data)\n",
    "    * [Valores duplicados de la tabla de Company - Trips](#dup_values_ct)\n",
    "* [Análisis de la tabla Dropoff - Average Trips](#analisis_da)\n",
    "    * [Información en general de la tabla Dropoff - Average Trips](#info_gen_da)\n",
    "    * [Valores duplicados de la tabla de Dropoff - Average Trips](#dup_values_da)\n",
    "* [Análisis de la tabla Duration AVG - Weather](#analisis_dw)\n",
    "    * [Tipo de datos adecuado](#ideal_data_dw)\n",
    "    * [ Valores duplicados de la tabla de Duration AVG - Weather](#dup_values_dw)\n",
    "* [Identificar los 10 principales barrios en términos de finalización](#top_neighborhoods)\n",
    "* [Gráficos: empresas de taxis y número de viajes, los 10 barrios principales por número de finalizaciones](#top_comp)\n",
    "* [Conclusiones basadas en cada gráfico y explicar los resultados](#conc_graph)\n",
    "* [Prueba de Hipótesis](#hip_test)\n",
    "* [Conclusion](#conclusion)\n"
   ]
  },
  {
   "cell_type": "markdown",
   "metadata": {},
   "source": [
    "# Introducción <a id='intro'></a>"
   ]
  },
  {
   "cell_type": "markdown",
   "metadata": {},
   "source": [
    "La empresa que nos contrató quiere encontrar patrones que le ayuden a analizar la respuesta de sus usuarios ante condiciones meteorológicas u otras situaciones externas así como sus preferencias que ayuden a potenciar sus viajes."
   ]
  },
  {
   "cell_type": "markdown",
   "metadata": {},
   "source": [
    "# Objetivo <a id='objetivo'></a>"
   ]
  },
  {
   "cell_type": "markdown",
   "metadata": {},
   "source": [
    "El objetivo de este análisis es utilizar los datos disponibles para determinar si los factores climatológicos hacen la diferencia para la realizacion de un viaje así como ver cuales empresas son las que más generan viajes. Toto esto nos ayudará a comprender mejor el comportamiento de los pasajeros."
   ]
  },
  {
   "cell_type": "markdown",
   "metadata": {},
   "source": [
    "# Análisis exploratorio <a id='analisis_expl'></a>\n",
    "\n",
    "En el siguiente apartado se observarán a detalle los datos con los que se está trabajando. Bajo las siguiente situaciones se realizarán cambios:\n",
    "\n",
    "-Datos nulos\n",
    "\n",
    "-Filas repetidas.\n",
    "\n",
    "-Datos que impidan realizar el análisis por el formato en el que vienen."
   ]
  },
  {
   "cell_type": "markdown",
   "metadata": {},
   "source": [
    "## Importación de librerías<a id='imp_lib'></a>"
   ]
  },
  {
   "cell_type": "code",
   "execution_count": 1,
   "metadata": {},
   "outputs": [],
   "source": [
    "import pandas as pd\n",
    "import numpy as np\n",
    "import seaborn as sns\n",
    "from matplotlib import pyplot as plt\n",
    "from scipy.stats import ttest_ind\n",
    "from scipy.stats import levene"
   ]
  },
  {
   "cell_type": "markdown",
   "metadata": {},
   "source": [
    "<div class=\"alert alert-block alert-danger\">\n",
    "\n",
    "<b>Comentario del revisor</b> <a class=\"tocSkip\"></a>\n",
    "\n",
    "Crea una celda y dedicala exclusivamente a la carga de datasets, por lo que debes cargar **todos** los datasets existentes en esa celda. Esto debido a que constituye una buena practica, ya que al comienzo del notebook ya estaria todo ejecutado y ante cualquier cambio lo tenemos de facil acceso.</div>\n",
    "\n",
    "<div class=\"alert alert-block alert-success\">\n",
    "\n",
    "<b>Comentario del revisor #2</b> <a class=\"tocSkip\"></a>\n",
    "\n",
    "Corregido, excelente.</div>"
   ]
  },
  {
   "cell_type": "markdown",
   "metadata": {},
   "source": [
    "<div class=\"alert alert-block alert-info\">\n",
    "<b>Perfecto, aquí ya dividí las librerías y a continuación la carga de datasets </b> <a class=\"tocSkip\"></a>"
   ]
  },
  {
   "cell_type": "markdown",
   "metadata": {},
   "source": [
    "## Importación de datasets<a id='imp_data'></a>"
   ]
  },
  {
   "cell_type": "code",
   "execution_count": 2,
   "metadata": {},
   "outputs": [],
   "source": [
    "company_trips = pd.read_csv('/datasets/project_sql_result_01.csv')\n",
    "dropoff_average = pd.read_csv('/datasets/project_sql_result_04.csv')\n",
    "dur_avg = pd.read_csv('/datasets/project_sql_result_07.csv')"
   ]
  },
  {
   "cell_type": "markdown",
   "metadata": {},
   "source": [
    "## Análisis de la tabla de Company - Trips<a id='analisis_ct'></a>"
   ]
  },
  {
   "cell_type": "markdown",
   "metadata": {},
   "source": [
    "### Información en general de la tabla Company - Trips<a id='inf_gen_ct'></a>"
   ]
  },
  {
   "cell_type": "code",
   "execution_count": 3,
   "metadata": {},
   "outputs": [
    {
     "data": {
      "text/html": [
       "<div>\n",
       "<style scoped>\n",
       "    .dataframe tbody tr th:only-of-type {\n",
       "        vertical-align: middle;\n",
       "    }\n",
       "\n",
       "    .dataframe tbody tr th {\n",
       "        vertical-align: top;\n",
       "    }\n",
       "\n",
       "    .dataframe thead th {\n",
       "        text-align: right;\n",
       "    }\n",
       "</style>\n",
       "<table border=\"1\" class=\"dataframe\">\n",
       "  <thead>\n",
       "    <tr style=\"text-align: right;\">\n",
       "      <th></th>\n",
       "      <th>company_name</th>\n",
       "      <th>trips_amount</th>\n",
       "    </tr>\n",
       "  </thead>\n",
       "  <tbody>\n",
       "    <tr>\n",
       "      <th>0</th>\n",
       "      <td>Flash Cab</td>\n",
       "      <td>19558</td>\n",
       "    </tr>\n",
       "    <tr>\n",
       "      <th>1</th>\n",
       "      <td>Taxi Affiliation Services</td>\n",
       "      <td>11422</td>\n",
       "    </tr>\n",
       "    <tr>\n",
       "      <th>2</th>\n",
       "      <td>Medallion Leasing</td>\n",
       "      <td>10367</td>\n",
       "    </tr>\n",
       "    <tr>\n",
       "      <th>3</th>\n",
       "      <td>Yellow Cab</td>\n",
       "      <td>9888</td>\n",
       "    </tr>\n",
       "    <tr>\n",
       "      <th>4</th>\n",
       "      <td>Taxi Affiliation Service Yellow</td>\n",
       "      <td>9299</td>\n",
       "    </tr>\n",
       "  </tbody>\n",
       "</table>\n",
       "</div>"
      ],
      "text/plain": [
       "                      company_name  trips_amount\n",
       "0                        Flash Cab         19558\n",
       "1        Taxi Affiliation Services         11422\n",
       "2                Medallion Leasing         10367\n",
       "3                       Yellow Cab          9888\n",
       "4  Taxi Affiliation Service Yellow          9299"
      ]
     },
     "execution_count": 3,
     "metadata": {},
     "output_type": "execute_result"
    }
   ],
   "source": [
    "company_trips.head()"
   ]
  },
  {
   "cell_type": "markdown",
   "metadata": {},
   "source": [
    "<div class=\"alert alert-block alert-danger\">\n",
    "\n",
    "<b>Comentario del revisor</b> <a class=\"tocSkip\"></a>\n",
    "\n",
    "Carga este dataset en la celda correspondiente (La del inicio). Esto es considerado una  buena practica ya que siempre queremos tener al principio todo cargado por si hay que hacer una modificacion en el futuro.</div>\n",
    "\n",
    "<div class=\"alert alert-block alert-success\">\n",
    "\n",
    "<b>Comentario del revisor #2</b> <a class=\"tocSkip\"></a>\n",
    "\n",
    "Corregido.</div>"
   ]
  },
  {
   "cell_type": "markdown",
   "metadata": {},
   "source": [
    "<div class=\"alert alert-block alert-info\">\n",
    "<b>Listo :) </b> <a class=\"tocSkip\"></a>"
   ]
  },
  {
   "cell_type": "code",
   "execution_count": 4,
   "metadata": {},
   "outputs": [
    {
     "data": {
      "text/html": [
       "<div>\n",
       "<style scoped>\n",
       "    .dataframe tbody tr th:only-of-type {\n",
       "        vertical-align: middle;\n",
       "    }\n",
       "\n",
       "    .dataframe tbody tr th {\n",
       "        vertical-align: top;\n",
       "    }\n",
       "\n",
       "    .dataframe thead th {\n",
       "        text-align: right;\n",
       "    }\n",
       "</style>\n",
       "<table border=\"1\" class=\"dataframe\">\n",
       "  <thead>\n",
       "    <tr style=\"text-align: right;\">\n",
       "      <th></th>\n",
       "      <th>trips_amount</th>\n",
       "    </tr>\n",
       "  </thead>\n",
       "  <tbody>\n",
       "    <tr>\n",
       "      <th>count</th>\n",
       "      <td>64.000000</td>\n",
       "    </tr>\n",
       "    <tr>\n",
       "      <th>mean</th>\n",
       "      <td>2145.484375</td>\n",
       "    </tr>\n",
       "    <tr>\n",
       "      <th>std</th>\n",
       "      <td>3812.310186</td>\n",
       "    </tr>\n",
       "    <tr>\n",
       "      <th>min</th>\n",
       "      <td>2.000000</td>\n",
       "    </tr>\n",
       "    <tr>\n",
       "      <th>25%</th>\n",
       "      <td>20.750000</td>\n",
       "    </tr>\n",
       "    <tr>\n",
       "      <th>50%</th>\n",
       "      <td>178.500000</td>\n",
       "    </tr>\n",
       "    <tr>\n",
       "      <th>75%</th>\n",
       "      <td>2106.500000</td>\n",
       "    </tr>\n",
       "    <tr>\n",
       "      <th>max</th>\n",
       "      <td>19558.000000</td>\n",
       "    </tr>\n",
       "  </tbody>\n",
       "</table>\n",
       "</div>"
      ],
      "text/plain": [
       "       trips_amount\n",
       "count     64.000000\n",
       "mean    2145.484375\n",
       "std     3812.310186\n",
       "min        2.000000\n",
       "25%       20.750000\n",
       "50%      178.500000\n",
       "75%     2106.500000\n",
       "max    19558.000000"
      ]
     },
     "execution_count": 4,
     "metadata": {},
     "output_type": "execute_result"
    }
   ],
   "source": [
    "company_trips.describe()"
   ]
  },
  {
   "cell_type": "markdown",
   "metadata": {},
   "source": [
    "<span style='color:green'> De acuerdo a los datos se puede apreciar que debe haber una compañía la cual está teniendo problemas, ya que hay 1 de todas que solo tiene 2 viajes en estos días </span>"
   ]
  },
  {
   "cell_type": "code",
   "execution_count": 5,
   "metadata": {},
   "outputs": [
    {
     "name": "stdout",
     "output_type": "stream",
     "text": [
      "<class 'pandas.core.frame.DataFrame'>\n",
      "RangeIndex: 64 entries, 0 to 63\n",
      "Data columns (total 2 columns):\n",
      " #   Column        Non-Null Count  Dtype \n",
      "---  ------        --------------  ----- \n",
      " 0   company_name  64 non-null     object\n",
      " 1   trips_amount  64 non-null     int64 \n",
      "dtypes: int64(1), object(1)\n",
      "memory usage: 1.1+ KB\n"
     ]
    }
   ],
   "source": [
    "company_trips.info()"
   ]
  },
  {
   "cell_type": "markdown",
   "metadata": {},
   "source": [
    "<span style='color:green'> No hay valores ausentes, solo hay que darle un mejor formato a la columna 'trips_amount' para que sean más exactos los cálculos. </span>"
   ]
  },
  {
   "cell_type": "markdown",
   "metadata": {},
   "source": [
    "### Tipo de datos adecuado <a id='ideal_data'></a>"
   ]
  },
  {
   "cell_type": "code",
   "execution_count": 6,
   "metadata": {},
   "outputs": [
    {
     "data": {
      "text/plain": [
       "company_name    object\n",
       "trips_amount     int64\n",
       "dtype: object"
      ]
     },
     "execution_count": 6,
     "metadata": {},
     "output_type": "execute_result"
    }
   ],
   "source": [
    "#int64 --> float64\n",
    "company_trips.dtypes"
   ]
  },
  {
   "cell_type": "code",
   "execution_count": 7,
   "metadata": {},
   "outputs": [
    {
     "data": {
      "text/plain": [
       "company_name     object\n",
       "trips_amount    float64\n",
       "dtype: object"
      ]
     },
     "execution_count": 7,
     "metadata": {},
     "output_type": "execute_result"
    }
   ],
   "source": [
    "company_trips['trips_amount'] = company_trips['trips_amount'].astype(float)\n",
    "company_trips.dtypes"
   ]
  },
  {
   "cell_type": "markdown",
   "metadata": {},
   "source": [
    "<span style='color:green'> Listo, la columna es mejor trabajarla de este modo ya que puede ser más exacta</span>"
   ]
  },
  {
   "cell_type": "markdown",
   "metadata": {},
   "source": [
    "### Valores duplicados de la tabla de Company - Trips<a id='dup_values_ct'></a>"
   ]
  },
  {
   "cell_type": "code",
   "execution_count": 8,
   "metadata": {},
   "outputs": [
    {
     "name": "stdout",
     "output_type": "stream",
     "text": [
      "<class 'pandas.core.frame.DataFrame'>\n",
      "Int64Index: 0 entries\n",
      "Data columns (total 2 columns):\n",
      " #   Column        Non-Null Count  Dtype  \n",
      "---  ------        --------------  -----  \n",
      " 0   company_name  0 non-null      object \n",
      " 1   trips_amount  0 non-null      float64\n",
      "dtypes: float64(1), object(1)\n",
      "memory usage: 0.0+ bytes\n"
     ]
    }
   ],
   "source": [
    "dup_values_ct = company_trips[company_trips.duplicated()]\n",
    "dup_values_ct.info()\n"
   ]
  },
  {
   "cell_type": "markdown",
   "metadata": {},
   "source": [
    "<div class=\"alert alert-block alert-success\">\n",
    "\n",
    "<b>Comentario del revisor</b> <a class=\"tocSkip\"></a>\n",
    "\n",
    "Excelente exploracion inicial.</div>"
   ]
  },
  {
   "cell_type": "markdown",
   "metadata": {},
   "source": [
    "## Análisis de la tabla Dropoff - Average Trips <a id='analisis_da'></a>"
   ]
  },
  {
   "cell_type": "markdown",
   "metadata": {},
   "source": [
    "### Información en general de la tabla Dropoff - Average Trips<a id='info_gen_da'></a>"
   ]
  },
  {
   "cell_type": "code",
   "execution_count": 9,
   "metadata": {},
   "outputs": [
    {
     "data": {
      "text/html": [
       "<div>\n",
       "<style scoped>\n",
       "    .dataframe tbody tr th:only-of-type {\n",
       "        vertical-align: middle;\n",
       "    }\n",
       "\n",
       "    .dataframe tbody tr th {\n",
       "        vertical-align: top;\n",
       "    }\n",
       "\n",
       "    .dataframe thead th {\n",
       "        text-align: right;\n",
       "    }\n",
       "</style>\n",
       "<table border=\"1\" class=\"dataframe\">\n",
       "  <thead>\n",
       "    <tr style=\"text-align: right;\">\n",
       "      <th></th>\n",
       "      <th>dropoff_location_name</th>\n",
       "      <th>average_trips</th>\n",
       "    </tr>\n",
       "  </thead>\n",
       "  <tbody>\n",
       "    <tr>\n",
       "      <th>0</th>\n",
       "      <td>Loop</td>\n",
       "      <td>10727.466667</td>\n",
       "    </tr>\n",
       "    <tr>\n",
       "      <th>1</th>\n",
       "      <td>River North</td>\n",
       "      <td>9523.666667</td>\n",
       "    </tr>\n",
       "    <tr>\n",
       "      <th>2</th>\n",
       "      <td>Streeterville</td>\n",
       "      <td>6664.666667</td>\n",
       "    </tr>\n",
       "    <tr>\n",
       "      <th>3</th>\n",
       "      <td>West Loop</td>\n",
       "      <td>5163.666667</td>\n",
       "    </tr>\n",
       "    <tr>\n",
       "      <th>4</th>\n",
       "      <td>O'Hare</td>\n",
       "      <td>2546.900000</td>\n",
       "    </tr>\n",
       "  </tbody>\n",
       "</table>\n",
       "</div>"
      ],
      "text/plain": [
       "  dropoff_location_name  average_trips\n",
       "0                  Loop   10727.466667\n",
       "1           River North    9523.666667\n",
       "2         Streeterville    6664.666667\n",
       "3             West Loop    5163.666667\n",
       "4                O'Hare    2546.900000"
      ]
     },
     "execution_count": 9,
     "metadata": {},
     "output_type": "execute_result"
    }
   ],
   "source": [
    "dropoff_average.head()"
   ]
  },
  {
   "cell_type": "markdown",
   "metadata": {},
   "source": [
    "<div class=\"alert alert-block alert-danger\">\n",
    "\n",
    "<b>Comentario del revisor</b> <a class=\"tocSkip\"></a>\n",
    "\n",
    "Carga este dataset en la celda correspondiente (La del inicio). Esto es considerado una  buena practica ya que siempre queremos tener al principio todo cargado por si hay que hacer una modificacion en el futuro.</div>\n",
    "\n",
    "\n",
    "<div class=\"alert alert-block alert-success\">\n",
    "\n",
    "<b>Comentario del revisor #2</b> <a class=\"tocSkip\"></a>\n",
    "\n",
    "Corregido, perfecto.</div>"
   ]
  },
  {
   "cell_type": "markdown",
   "metadata": {},
   "source": [
    "<div class=\"alert alert-block alert-info\">\n",
    "<b>Listo :) </b> <a class=\"tocSkip\"></a>"
   ]
  },
  {
   "cell_type": "code",
   "execution_count": 10,
   "metadata": {},
   "outputs": [
    {
     "data": {
      "text/html": [
       "<div>\n",
       "<style scoped>\n",
       "    .dataframe tbody tr th:only-of-type {\n",
       "        vertical-align: middle;\n",
       "    }\n",
       "\n",
       "    .dataframe tbody tr th {\n",
       "        vertical-align: top;\n",
       "    }\n",
       "\n",
       "    .dataframe thead th {\n",
       "        text-align: right;\n",
       "    }\n",
       "</style>\n",
       "<table border=\"1\" class=\"dataframe\">\n",
       "  <thead>\n",
       "    <tr style=\"text-align: right;\">\n",
       "      <th></th>\n",
       "      <th>average_trips</th>\n",
       "    </tr>\n",
       "  </thead>\n",
       "  <tbody>\n",
       "    <tr>\n",
       "      <th>count</th>\n",
       "      <td>94.000000</td>\n",
       "    </tr>\n",
       "    <tr>\n",
       "      <th>mean</th>\n",
       "      <td>599.953728</td>\n",
       "    </tr>\n",
       "    <tr>\n",
       "      <th>std</th>\n",
       "      <td>1714.591098</td>\n",
       "    </tr>\n",
       "    <tr>\n",
       "      <th>min</th>\n",
       "      <td>1.800000</td>\n",
       "    </tr>\n",
       "    <tr>\n",
       "      <th>25%</th>\n",
       "      <td>14.266667</td>\n",
       "    </tr>\n",
       "    <tr>\n",
       "      <th>50%</th>\n",
       "      <td>52.016667</td>\n",
       "    </tr>\n",
       "    <tr>\n",
       "      <th>75%</th>\n",
       "      <td>298.858333</td>\n",
       "    </tr>\n",
       "    <tr>\n",
       "      <th>max</th>\n",
       "      <td>10727.466667</td>\n",
       "    </tr>\n",
       "  </tbody>\n",
       "</table>\n",
       "</div>"
      ],
      "text/plain": [
       "       average_trips\n",
       "count      94.000000\n",
       "mean      599.953728\n",
       "std      1714.591098\n",
       "min         1.800000\n",
       "25%        14.266667\n",
       "50%        52.016667\n",
       "75%       298.858333\n",
       "max     10727.466667"
      ]
     },
     "execution_count": 10,
     "metadata": {},
     "output_type": "execute_result"
    }
   ],
   "source": [
    "dropoff_average.describe()"
   ]
  },
  {
   "cell_type": "code",
   "execution_count": 11,
   "metadata": {},
   "outputs": [
    {
     "name": "stdout",
     "output_type": "stream",
     "text": [
      "<class 'pandas.core.frame.DataFrame'>\n",
      "RangeIndex: 94 entries, 0 to 93\n",
      "Data columns (total 2 columns):\n",
      " #   Column                 Non-Null Count  Dtype  \n",
      "---  ------                 --------------  -----  \n",
      " 0   dropoff_location_name  94 non-null     object \n",
      " 1   average_trips          94 non-null     float64\n",
      "dtypes: float64(1), object(1)\n",
      "memory usage: 1.6+ KB\n"
     ]
    }
   ],
   "source": [
    "dropoff_average.info()"
   ]
  },
  {
   "cell_type": "markdown",
   "metadata": {},
   "source": [
    "<span style='color:green'> No hay valores ausentes, y considero que el tipo de datos es adecuado para el siguiente análisis </span>"
   ]
  },
  {
   "cell_type": "markdown",
   "metadata": {},
   "source": [
    "### Valores duplicados de la tabla de Dropoff - Average Trips <a id='dup_values_da'></a>"
   ]
  },
  {
   "cell_type": "code",
   "execution_count": 12,
   "metadata": {},
   "outputs": [
    {
     "name": "stdout",
     "output_type": "stream",
     "text": [
      "<class 'pandas.core.frame.DataFrame'>\n",
      "Int64Index: 0 entries\n",
      "Data columns (total 2 columns):\n",
      " #   Column                 Non-Null Count  Dtype  \n",
      "---  ------                 --------------  -----  \n",
      " 0   dropoff_location_name  0 non-null      object \n",
      " 1   average_trips          0 non-null      float64\n",
      "dtypes: float64(1), object(1)\n",
      "memory usage: 0.0+ bytes\n"
     ]
    }
   ],
   "source": [
    "dup_values_da = dropoff_average[dropoff_average.duplicated()]\n",
    "dup_values_da.info()"
   ]
  },
  {
   "cell_type": "markdown",
   "metadata": {},
   "source": [
    "[Volver a Contenidos](#back)"
   ]
  },
  {
   "cell_type": "markdown",
   "metadata": {},
   "source": [
    "<span style='color:green'> No existen filas duplicadas. </span>"
   ]
  },
  {
   "cell_type": "markdown",
   "metadata": {},
   "source": [
    "<div class=\"alert alert-block alert-success\">\n",
    "\n",
    "<b>Comentario del revisor</b> <a class=\"tocSkip\"></a>\n",
    "\n",
    "Muy bueno.</div>"
   ]
  },
  {
   "cell_type": "markdown",
   "metadata": {},
   "source": [
    "## Análisis de la tabla Duration AVG - Weather <a id='analisis_dw'></a>"
   ]
  },
  {
   "cell_type": "code",
   "execution_count": 13,
   "metadata": {},
   "outputs": [
    {
     "data": {
      "text/html": [
       "<div>\n",
       "<style scoped>\n",
       "    .dataframe tbody tr th:only-of-type {\n",
       "        vertical-align: middle;\n",
       "    }\n",
       "\n",
       "    .dataframe tbody tr th {\n",
       "        vertical-align: top;\n",
       "    }\n",
       "\n",
       "    .dataframe thead th {\n",
       "        text-align: right;\n",
       "    }\n",
       "</style>\n",
       "<table border=\"1\" class=\"dataframe\">\n",
       "  <thead>\n",
       "    <tr style=\"text-align: right;\">\n",
       "      <th></th>\n",
       "      <th>start_ts</th>\n",
       "      <th>weather_conditions</th>\n",
       "      <th>duration_seconds</th>\n",
       "    </tr>\n",
       "  </thead>\n",
       "  <tbody>\n",
       "    <tr>\n",
       "      <th>0</th>\n",
       "      <td>2017-11-25 16:00:00</td>\n",
       "      <td>Good</td>\n",
       "      <td>2410.0</td>\n",
       "    </tr>\n",
       "    <tr>\n",
       "      <th>1</th>\n",
       "      <td>2017-11-25 14:00:00</td>\n",
       "      <td>Good</td>\n",
       "      <td>1920.0</td>\n",
       "    </tr>\n",
       "    <tr>\n",
       "      <th>2</th>\n",
       "      <td>2017-11-25 12:00:00</td>\n",
       "      <td>Good</td>\n",
       "      <td>1543.0</td>\n",
       "    </tr>\n",
       "    <tr>\n",
       "      <th>3</th>\n",
       "      <td>2017-11-04 10:00:00</td>\n",
       "      <td>Good</td>\n",
       "      <td>2512.0</td>\n",
       "    </tr>\n",
       "    <tr>\n",
       "      <th>4</th>\n",
       "      <td>2017-11-11 07:00:00</td>\n",
       "      <td>Good</td>\n",
       "      <td>1440.0</td>\n",
       "    </tr>\n",
       "  </tbody>\n",
       "</table>\n",
       "</div>"
      ],
      "text/plain": [
       "              start_ts weather_conditions  duration_seconds\n",
       "0  2017-11-25 16:00:00               Good            2410.0\n",
       "1  2017-11-25 14:00:00               Good            1920.0\n",
       "2  2017-11-25 12:00:00               Good            1543.0\n",
       "3  2017-11-04 10:00:00               Good            2512.0\n",
       "4  2017-11-11 07:00:00               Good            1440.0"
      ]
     },
     "execution_count": 13,
     "metadata": {},
     "output_type": "execute_result"
    }
   ],
   "source": [
    "dur_avg.head()"
   ]
  },
  {
   "cell_type": "code",
   "execution_count": 14,
   "metadata": {},
   "outputs": [
    {
     "data": {
      "text/html": [
       "<div>\n",
       "<style scoped>\n",
       "    .dataframe tbody tr th:only-of-type {\n",
       "        vertical-align: middle;\n",
       "    }\n",
       "\n",
       "    .dataframe tbody tr th {\n",
       "        vertical-align: top;\n",
       "    }\n",
       "\n",
       "    .dataframe thead th {\n",
       "        text-align: right;\n",
       "    }\n",
       "</style>\n",
       "<table border=\"1\" class=\"dataframe\">\n",
       "  <thead>\n",
       "    <tr style=\"text-align: right;\">\n",
       "      <th></th>\n",
       "      <th>duration_seconds</th>\n",
       "    </tr>\n",
       "  </thead>\n",
       "  <tbody>\n",
       "    <tr>\n",
       "      <th>count</th>\n",
       "      <td>1068.000000</td>\n",
       "    </tr>\n",
       "    <tr>\n",
       "      <th>mean</th>\n",
       "      <td>2071.731273</td>\n",
       "    </tr>\n",
       "    <tr>\n",
       "      <th>std</th>\n",
       "      <td>769.461125</td>\n",
       "    </tr>\n",
       "    <tr>\n",
       "      <th>min</th>\n",
       "      <td>0.000000</td>\n",
       "    </tr>\n",
       "    <tr>\n",
       "      <th>25%</th>\n",
       "      <td>1438.250000</td>\n",
       "    </tr>\n",
       "    <tr>\n",
       "      <th>50%</th>\n",
       "      <td>1980.000000</td>\n",
       "    </tr>\n",
       "    <tr>\n",
       "      <th>75%</th>\n",
       "      <td>2580.000000</td>\n",
       "    </tr>\n",
       "    <tr>\n",
       "      <th>max</th>\n",
       "      <td>7440.000000</td>\n",
       "    </tr>\n",
       "  </tbody>\n",
       "</table>\n",
       "</div>"
      ],
      "text/plain": [
       "       duration_seconds\n",
       "count       1068.000000\n",
       "mean        2071.731273\n",
       "std          769.461125\n",
       "min            0.000000\n",
       "25%         1438.250000\n",
       "50%         1980.000000\n",
       "75%         2580.000000\n",
       "max         7440.000000"
      ]
     },
     "execution_count": 14,
     "metadata": {},
     "output_type": "execute_result"
    }
   ],
   "source": [
    "dur_avg.describe()"
   ]
  },
  {
   "cell_type": "markdown",
   "metadata": {},
   "source": [
    "<span style='color:green'> En este caso tenemos como valor minimo '0' lo que podría indicar que el pasajero canceló el viaje al momento de que hubiera sido aceptado </span>"
   ]
  },
  {
   "cell_type": "code",
   "execution_count": 15,
   "metadata": {},
   "outputs": [
    {
     "name": "stdout",
     "output_type": "stream",
     "text": [
      "<class 'pandas.core.frame.DataFrame'>\n",
      "RangeIndex: 1068 entries, 0 to 1067\n",
      "Data columns (total 3 columns):\n",
      " #   Column              Non-Null Count  Dtype  \n",
      "---  ------              --------------  -----  \n",
      " 0   start_ts            1068 non-null   object \n",
      " 1   weather_conditions  1068 non-null   object \n",
      " 2   duration_seconds    1068 non-null   float64\n",
      "dtypes: float64(1), object(2)\n",
      "memory usage: 25.2+ KB\n"
     ]
    }
   ],
   "source": [
    "dur_avg.info()"
   ]
  },
  {
   "cell_type": "markdown",
   "metadata": {},
   "source": [
    "<span style='color:green'> No hay datos nulos pero la 'start_ts' sería mejor darle el formato apropiado</span>"
   ]
  },
  {
   "cell_type": "markdown",
   "metadata": {},
   "source": [
    "### Tipo de datos adecuado <a id='ideal_data_dw'></a>"
   ]
  },
  {
   "cell_type": "code",
   "execution_count": 16,
   "metadata": {},
   "outputs": [],
   "source": [
    "dur_avg['start_ts'] = pd.to_datetime(dur_avg['start_ts'], format = '%Y %m %d %H:%M:%S')"
   ]
  },
  {
   "cell_type": "code",
   "execution_count": 17,
   "metadata": {},
   "outputs": [
    {
     "name": "stdout",
     "output_type": "stream",
     "text": [
      "<class 'pandas.core.frame.DataFrame'>\n",
      "RangeIndex: 1068 entries, 0 to 1067\n",
      "Data columns (total 3 columns):\n",
      " #   Column              Non-Null Count  Dtype         \n",
      "---  ------              --------------  -----         \n",
      " 0   start_ts            1068 non-null   datetime64[ns]\n",
      " 1   weather_conditions  1068 non-null   object        \n",
      " 2   duration_seconds    1068 non-null   float64       \n",
      "dtypes: datetime64[ns](1), float64(1), object(1)\n",
      "memory usage: 25.2+ KB\n"
     ]
    }
   ],
   "source": [
    "dur_avg.info()"
   ]
  },
  {
   "cell_type": "markdown",
   "metadata": {},
   "source": [
    "<span style='color:green'> Ahora sí, ya todos los datos cuentan con el tipo de datos ideales para trabajar sobre ellos </span>"
   ]
  },
  {
   "cell_type": "markdown",
   "metadata": {},
   "source": [
    "### Valores duplicados de la tabla de Duration AVG - Weather <a id='dup_values_dw'></a>"
   ]
  },
  {
   "cell_type": "code",
   "execution_count": 18,
   "metadata": {},
   "outputs": [
    {
     "name": "stdout",
     "output_type": "stream",
     "text": [
      "<class 'pandas.core.frame.DataFrame'>\n",
      "Int64Index: 197 entries, 62 to 1066\n",
      "Data columns (total 3 columns):\n",
      " #   Column              Non-Null Count  Dtype         \n",
      "---  ------              --------------  -----         \n",
      " 0   start_ts            197 non-null    datetime64[ns]\n",
      " 1   weather_conditions  197 non-null    object        \n",
      " 2   duration_seconds    197 non-null    float64       \n",
      "dtypes: datetime64[ns](1), float64(1), object(1)\n",
      "memory usage: 6.2+ KB\n"
     ]
    }
   ],
   "source": [
    "dup_values_dw = dur_avg[dur_avg.duplicated()]\n",
    "dup_values_dw.info()"
   ]
  },
  {
   "cell_type": "code",
   "execution_count": 19,
   "metadata": {},
   "outputs": [],
   "source": [
    "dur_avg = dur_avg.drop_duplicates()"
   ]
  },
  {
   "cell_type": "code",
   "execution_count": 20,
   "metadata": {},
   "outputs": [
    {
     "name": "stdout",
     "output_type": "stream",
     "text": [
      "<class 'pandas.core.frame.DataFrame'>\n",
      "Int64Index: 871 entries, 0 to 1067\n",
      "Data columns (total 3 columns):\n",
      " #   Column              Non-Null Count  Dtype         \n",
      "---  ------              --------------  -----         \n",
      " 0   start_ts            871 non-null    datetime64[ns]\n",
      " 1   weather_conditions  871 non-null    object        \n",
      " 2   duration_seconds    871 non-null    float64       \n",
      "dtypes: datetime64[ns](1), float64(1), object(1)\n",
      "memory usage: 27.2+ KB\n"
     ]
    }
   ],
   "source": [
    "dur_avg.info()"
   ]
  },
  {
   "cell_type": "markdown",
   "metadata": {},
   "source": [
    "<span style='color:green'> Nos muestra que hay 197 duplicados, como en esta tabla no contamos con una columna de ID que nos pudiera ayudar a identificar si es del mismo pasajero, en este caso decido sí eliminar los duplicados ya que podrían afectar a los cálculos posteriores  </span>"
   ]
  },
  {
   "cell_type": "markdown",
   "metadata": {},
   "source": [
    "[Volver a Contenidos](#back)"
   ]
  },
  {
   "cell_type": "markdown",
   "metadata": {},
   "source": [
    "<div class=\"alert alert-block alert-danger\">\n",
    "\n",
    "<b>Comentario del revisor</b> <a class=\"tocSkip\"></a>\n",
    "\n",
    "**Para el dataset `dur_avg`**:\n",
    "\n",
    "<div class=\"alert alert-block alert-danger\">\n",
    "\n",
    "<b>Comentario del revisor</b> <a class=\"tocSkip\"></a>\n",
    "\n",
    "Falta utilizar el metodo info(), a traves de el extrae informacion importante y dejala reflejado en un analisis de *markdown*.</div>\n",
    "\n",
    "<div class=\"alert alert-block alert-danger\">\n",
    "\n",
    "<b>Comentario del revisor</b> <a class=\"tocSkip\"></a>\n",
    "\n",
    "Explora las primeras filas con el head()</div>\n",
    "\n",
    "<div class=\"alert alert-block alert-danger\">\n",
    "\n",
    "<b>Comentario del revisor</b> <a class=\"tocSkip\"></a>\n",
    "\n",
    "Recorda utilizar el metodo describe() para una exploracion rapida inicial de aquellas variables numéricas. Siempre es necesario realizarlo ya que de forma rápida tenemos un panorama muy bueno de que nos espera e incluso encontraremos inconsistencias si estas existiencen.\n",
    "Describí al respecto lo que ves. </div>\n",
    "\n",
    "<div class=\"alert alert-block alert-danger\">\n",
    "\n",
    "<b>Comentario del revisor</b> <a class=\"tocSkip\"></a>\n",
    "\n",
    "Verifica si existen duplicados </div>\n",
    "\n",
    "<div class=\"alert alert-block alert-danger\">\n",
    "\n",
    "<b>Comentario del revisor</b> <a class=\"tocSkip\"></a>\n",
    "\n",
    "Deja una descripcion de lo observado en este dataset en cuanto a como se compone, si hay errores o no  (nulos, duplicados, etc) y que informacion nos provee. Este punto es muy importante porque resumiremos con un analisis en **markdown** sobre como esta compuesto el dataset y sus variables mas importante. </div></div>\n",
    "    \n",
    "    \n",
    "    \n",
    "<div class=\"alert alert-block alert-success\">\n",
    "\n",
    "<b>Comentario del revisor #2</b> <a class=\"tocSkip\"></a>\n",
    "\n",
    "Corregido, excelente exploracion de este dataset.</div>"
   ]
  },
  {
   "cell_type": "markdown",
   "metadata": {},
   "source": [
    "<div class=\"alert alert-block alert-info\">\n",
    "<b>Listo :) </b> <a class=\"tocSkip\"></a>"
   ]
  },
  {
   "cell_type": "markdown",
   "metadata": {},
   "source": [
    "## Identificar los 10 principales barrios en términos de finalización<a id='top_neighborhoods'></a>"
   ]
  },
  {
   "cell_type": "code",
   "execution_count": 21,
   "metadata": {},
   "outputs": [
    {
     "data": {
      "image/png": "[encoded data removed]",
      "text/plain": [
       "<Figure size 1400x600 with 1 Axes>"
      ]
     },
     "metadata": {},
     "output_type": "display_data"
    }
   ],
   "source": [
    "top10_neighborhoods = dropoff_average.sort_values(by='average_trips', ascending=False).head(10)\n",
    "plt.figure(figsize= (14,6))\n",
    "sns.barplot(data= top10_neighborhoods, x='dropoff_location_name', y= 'average_trips')\n",
    "plt.title('Top 10 neighborhoods')\n",
    "plt.show()"
   ]
  },
  {
   "cell_type": "markdown",
   "metadata": {},
   "source": [
    "<span style='color:green'> </span>"
   ]
  },
  {
   "cell_type": "markdown",
   "metadata": {},
   "source": [
    "<span style='color:green'> Loop, River North, Streeterville y West Loop son los 4 lugares donde se dejan a más pasajeros pero de ahí en fuera para los demás barrios se ve un descenso muy claro y que si lo vemos de otra forma podría ser un mercado el cual se podría aprovechar y ver con el área de marketing para hacer campañas para que estos sitios puedan agendar más viajes y a su vez estos indicativos de barrios donde se deja a la gente pueda mejorar </span>"
   ]
  },
  {
   "cell_type": "markdown",
   "metadata": {},
   "source": [
    "<div class=\"alert alert-block alert-success\">\n",
    "\n",
    "<b>Comentario del revisor</b> <a class=\"tocSkip\"></a>\n",
    "\n",
    "Muy buenas observaciones.</div>"
   ]
  },
  {
   "cell_type": "markdown",
   "metadata": {},
   "source": [
    "## Gráficos: empresas de taxis y número de viajes, los 10 barrios principales por número de finalizaciones<a id='top_comp'></a>\n"
   ]
  },
  {
   "cell_type": "code",
   "execution_count": 22,
   "metadata": {},
   "outputs": [
    {
     "data": {
      "image/png": "[encoded data removed]",
      "text/plain": [
       "<Figure size 1400x600 with 1 Axes>"
      ]
     },
     "metadata": {},
     "output_type": "display_data"
    }
   ],
   "source": [
    "top10_companies = company_trips.sort_values(by='trips_amount', ascending=False).head(10)\n",
    "plt.figure(figsize= (14,6))\n",
    "sns.barplot(data= top10_companies, x='company_name', y= 'trips_amount')\n",
    "plt.title('Top 10 companies')\n",
    "plt.xticks(rotation=45)\n",
    "plt.show()"
   ]
  },
  {
   "cell_type": "markdown",
   "metadata": {},
   "source": [
    "<span style='color:green'> La empresa Flash Cab es la que definitivamente está teniendo aciertos en toda su empresa porque después de esta la tendencia es de 12500 viajes hacia abajo </span>"
   ]
  },
  {
   "cell_type": "markdown",
   "metadata": {},
   "source": [
    "<div class=\"alert alert-block alert-success\">\n",
    "\n",
    "<b>Comentario del revisor</b> <a class=\"tocSkip\"></a>\n",
    "\n",
    "Beun grafico.</div>"
   ]
  },
  {
   "cell_type": "markdown",
   "metadata": {},
   "source": [
    "## Conclusiones basadas en cada gráfico y explicar los resultados<a id='conc_graph'></a>"
   ]
  },
  {
   "cell_type": "markdown",
   "metadata": {},
   "source": [
    "<span style='color:green'> La empresa Flash Cab es la principal que se debería de analizar a fondo tanto sus campañas de marketing como su app para visualizar que características le son más agradables a los usuarios y como empresa que se adentra en este mercado poder ofrecer un servicio que se logre diferenciar de las 64 más que ofrecen servicios de este tipo. De igual forma, ver el tipo de mercado en los siguientes 7 barrios que le siguen en la gráfica, ya que seguramente en los primeros 4, Flash Cab es la que tiene mayor peso.  </span>"
   ]
  },
  {
   "cell_type": "markdown",
   "metadata": {},
   "source": [
    "[Volver a Contenidos](#back)"
   ]
  },
  {
   "cell_type": "markdown",
   "metadata": {},
   "source": [
    "# Prueba de Hipótesis<a id='hip_test'></a>"
   ]
  },
  {
   "cell_type": "markdown",
   "metadata": {},
   "source": [
    "<span style='color:green'> \n",
    "    Hipótesis nula: Hay una diferencia significativa en la duración promedio de los viajes entre los días lluviosos y no lluviosos.\n",
    "    \n",
    "Hipótesis alternativa: Hay una diferencia significativa en la duración promedio de los viajes entre los días lluviosos y no lluviosos. </span>"
   ]
  },
  {
   "cell_type": "code",
   "execution_count": 23,
   "metadata": {},
   "outputs": [
    {
     "name": "stdout",
     "output_type": "stream",
     "text": [
      "Las varianzas son iguales. Podemos usar equal_var=True.\n"
     ]
    }
   ],
   "source": [
    "stat_levene, p_levene = levene(\n",
    "    dur_avg.query(\"weather_conditions == 'Bad'\")[\"duration_seconds\"],\n",
    "    dur_avg.query(\"weather_conditions == 'Good'\")[\"duration_seconds\"]\n",
    ")\n",
    "alpha = 0.05\n",
    "if p_levene < alpha:\n",
    "    print(\"Las varianzas no son iguales. Usaremos equal_var=False.\")\n",
    "else:\n",
    "    print(\"Las varianzas son iguales. Podemos usar equal_var=True.\")"
   ]
  },
  {
   "cell_type": "code",
   "execution_count": 24,
   "metadata": {},
   "outputs": [
    {
     "name": "stdout",
     "output_type": "stream",
     "text": [
      "Rechazamos la hipótesis nula. Hay una diferencia significativa en la duración promedio de los viajes entre los días lluviosos y no lluviosos.\n"
     ]
    }
   ],
   "source": [
    "stat, p_value = ttest_ind(\n",
    "    dur_avg.query(\"weather_conditions == 'Bad'\")[\"duration_seconds\"],\n",
    "    dur_avg.query(\"weather_conditions == 'Good'\")[\"duration_seconds\"],\n",
    "    equal_var=True\n",
    "     \n",
    ")\n",
    "alpha = 0.05\n",
    "if p_value < alpha:\n",
    "    print(\"Rechazamos la hipótesis nula. Hay una diferencia significativa en la duración promedio de los viajes entre los días lluviosos y no lluviosos.\")\n",
    "else:\n",
    "    print(\"No podemos rechazar la hipótesis nula. No hay evidencia suficiente para afirmar que hay una diferencia en la duración promedio de los viajes entre los días lluviosos y no lluviosos.\")\n"
   ]
  },
  {
   "cell_type": "markdown",
   "metadata": {},
   "source": [
    "<div class=\"alert alert-block alert-danger\">\n",
    "<b>Comentario del revisor</b> <a class=\"tocSkip\"></a>\n",
    "\n",
    "El parametro equal_var es muy importante para este tipo de pruebas y en este caso no lo utilizas.\n",
    "\n",
    "Observamos dos opciones, una, si las varianzas para cada conjunto son diferentes (False). Si fueran iguales (True), puede que el resultado cambie, ya que se calcula de forma diferente. Mas que nada cuando la distribucion de las muestras son desiguales (como en este caso).\n",
    "\n",
    "Por esto es importante, cuando realizamos esta prueba (t student). Confirmar si las varianzas son iguales o no para ambos conjuntos. Para esto se realizan **pruebas estadisticas** (Por ejemplo, **Levene**) para identificar si son iguales o no las varianzas.\n",
    "\n",
    "Al realizarla ajusta el parametro si fuera necesario y si cambian los resultados modifica la conclusion.</div>\n",
    "\n",
    "<div class=\"alert alert-block alert-success\">\n",
    "\n",
    "<b>Comentario del revisor #2</b> <a class=\"tocSkip\"></a>\n",
    "\n",
    "Corregido, excelente uso de Levene.</div>"
   ]
  },
  {
   "cell_type": "markdown",
   "metadata": {},
   "source": [
    "<div class=\"alert alert-block alert-danger\">\n",
    "\n",
    "<b>Comentario del revisor</b> <a class=\"tocSkip\"></a>\n",
    "\n",
    "Carga este dataset en la celda correspondiente (La del inicio). Esto es considerado una  buena practica ya que siempre queremos tener al principio todo cargado por si hay que hacer una modificacion en el futuro.</div>\n",
    "\n",
    "<div class=\"alert alert-block alert-success\">\n",
    "\n",
    "<b>Comentario del revisor #2</b> <a class=\"tocSkip\"></a>\n",
    "\n",
    "Corregido.</div>"
   ]
  },
  {
   "cell_type": "markdown",
   "metadata": {},
   "source": [
    "<div class=\"alert alert-block alert-warning\">\n",
    "<b>Comentario del revisor</b> <a class=\"tocSkip\"></a>\n",
    "\n",
    "Simplemente a modo de consejo, cuando realizamos este tipo de prueba, los outliers pueden modificarla. Por lo que generalmente se recomienda tratarlos antes  de realizar la prueba.\n",
    "</div>"
   ]
  },
  {
   "cell_type": "markdown",
   "metadata": {},
   "source": [
    "<span style='color:green'> Al realizar primero la prueba de Levene, se concluye que las varianzas son iguales y por lo tanto el parámetro de 'equal_var' se ocupará como True y también utilice una prueba T independiente para la duración promedio de los viajes y ver si el promedio es diferente y al mismo tiempo establecí el nivel de significancia común en este tipo de pruebas para saber si hay la suficiente para rechazar o aceptar nuestra hipótesis, que en nuestro caso sí se rechaza porque sí hay una diferencia significativa en el promedio de tiempo de los viajes dependiendo del tiempo</span>"
   ]
  },
  {
   "cell_type": "markdown",
   "metadata": {},
   "source": [
    "<div class=\"alert alert-block alert-info\">\n",
    "<b>Listo, añadí la prueba de Levene </b> <a class=\"tocSkip\"></a>"
   ]
  },
  {
   "cell_type": "markdown",
   "metadata": {},
   "source": [
    "# Conclusion<a id='conclusion'></a>"
   ]
  },
  {
   "cell_type": "markdown",
   "metadata": {},
   "source": [
    "<span style='color:green'> En conjunto con los datos obtenido de la parte de SQL se concluye que los viajes aumentan cuando las condiciones climatológicas están peor. Así como los demás barrios de Chicago que se pueden aprovechar para realizar campañas personalizadas y crear mercado para nuestra nueva empresa ya que también la principal competencia que es Flash Cab es la que tiene demasiada presencia y como es una empresa que comienza, el barrio de Loop no sería el principal para empezar.  </span>"
   ]
  },
  {
   "cell_type": "markdown",
   "metadata": {},
   "source": [
    "[Volver a Contenidos](#back)"
   ]
  },
  {
   "cell_type": "markdown",
   "metadata": {},
   "source": [
    "<div class=\"alert alert-block alert-success\">\n",
    "<b>Comentario del revisor</b> <a class=\"tocSkip\"></a>\n",
    "\n",
    "Buena conclusion.</div>"
   ]
  },
  {
   "cell_type": "markdown",
   "metadata": {},
   "source": [
    "<div class=\"alert alert-block alert-info\">\n",
    "<b>Te agradezco mucho todas las sugerencias Ezequiel! </b> <a class=\"tocSkip\"></a>"
   ]
  },
  {
   "cell_type": "code",
   "execution_count": null,
   "metadata": {},
   "outputs": [],
   "source": []
  }
 ],
 "metadata": {
  "ExecuteTimeLog": [
   {
    "duration": 2515,
    "start_time": "2024-10-22T05:43:54.623Z"
   },
   {
    "duration": 11,
    "start_time": "2024-10-22T05:44:08.774Z"
   },
   {
    "duration": 11,
    "start_time": "2024-10-22T05:44:16.154Z"
   },
   {
    "duration": 2602,
    "start_time": "2024-10-22T21:56:42.019Z"
   },
   {
    "duration": 281,
    "start_time": "2024-10-22T21:56:44.623Z"
   },
   {
    "duration": 6,
    "start_time": "2024-10-22T21:56:54.640Z"
   },
   {
    "duration": 6,
    "start_time": "2024-10-22T21:57:18.201Z"
   },
   {
    "duration": 11,
    "start_time": "2024-10-22T21:57:41.891Z"
   },
   {
    "duration": 9,
    "start_time": "2024-10-22T21:57:46.298Z"
   },
   {
    "duration": 15,
    "start_time": "2024-10-22T21:59:44.951Z"
   },
   {
    "duration": 4,
    "start_time": "2024-10-22T21:59:47.611Z"
   },
   {
    "duration": 134,
    "start_time": "2024-10-22T22:09:37.684Z"
   },
   {
    "duration": 4,
    "start_time": "2024-10-22T22:10:00.298Z"
   },
   {
    "duration": 8,
    "start_time": "2024-10-22T22:10:08.784Z"
   },
   {
    "duration": 14,
    "start_time": "2024-10-22T22:11:04.580Z"
   },
   {
    "duration": 11,
    "start_time": "2024-10-22T22:11:13.165Z"
   },
   {
    "duration": 17,
    "start_time": "2024-10-22T22:11:24.673Z"
   },
   {
    "duration": 9,
    "start_time": "2024-10-22T22:11:29.452Z"
   },
   {
    "duration": 327,
    "start_time": "2024-10-22T22:12:18.227Z"
   },
   {
    "duration": 129,
    "start_time": "2024-10-22T22:13:29.575Z"
   },
   {
    "duration": 8,
    "start_time": "2024-10-22T22:13:36.366Z"
   },
   {
    "duration": 790,
    "start_time": "2024-10-22T22:13:43.874Z"
   },
   {
    "duration": 9,
    "start_time": "2024-10-22T22:13:44.667Z"
   },
   {
    "duration": 14,
    "start_time": "2024-10-22T22:13:44.678Z"
   },
   {
    "duration": 4,
    "start_time": "2024-10-22T22:13:44.694Z"
   },
   {
    "duration": 6,
    "start_time": "2024-10-22T22:13:44.701Z"
   },
   {
    "duration": 9,
    "start_time": "2024-10-22T22:13:44.708Z"
   },
   {
    "duration": 125,
    "start_time": "2024-10-22T22:16:59.054Z"
   },
   {
    "duration": 6,
    "start_time": "2024-10-22T22:17:18.015Z"
   },
   {
    "duration": 5,
    "start_time": "2024-10-22T22:17:22.720Z"
   },
   {
    "duration": 5,
    "start_time": "2024-10-22T22:17:40.234Z"
   },
   {
    "duration": 6,
    "start_time": "2024-10-22T22:17:48.559Z"
   },
   {
    "duration": 5,
    "start_time": "2024-10-22T22:17:59.067Z"
   },
   {
    "duration": 11,
    "start_time": "2024-10-22T22:19:24.013Z"
   },
   {
    "duration": 10,
    "start_time": "2024-10-22T22:19:38.144Z"
   },
   {
    "duration": 14,
    "start_time": "2024-10-22T22:19:48.396Z"
   },
   {
    "duration": 3,
    "start_time": "2024-10-22T22:22:05.174Z"
   },
   {
    "duration": 11,
    "start_time": "2024-10-22T22:22:05.845Z"
   },
   {
    "duration": 9,
    "start_time": "2024-10-22T22:29:10.409Z"
   },
   {
    "duration": 10,
    "start_time": "2024-10-22T22:29:17.210Z"
   },
   {
    "duration": 4,
    "start_time": "2024-10-23T03:16:05.648Z"
   },
   {
    "duration": 9,
    "start_time": "2024-10-23T03:16:13.615Z"
   },
   {
    "duration": 812,
    "start_time": "2024-10-23T03:17:03.766Z"
   },
   {
    "duration": 17,
    "start_time": "2024-10-23T03:17:04.580Z"
   },
   {
    "duration": 10,
    "start_time": "2024-10-23T03:17:04.598Z"
   },
   {
    "duration": 9,
    "start_time": "2024-10-23T03:17:04.610Z"
   },
   {
    "duration": 4,
    "start_time": "2024-10-23T03:17:04.620Z"
   },
   {
    "duration": 148,
    "start_time": "2024-10-23T03:17:04.626Z"
   },
   {
    "duration": 0,
    "start_time": "2024-10-23T03:17:04.776Z"
   },
   {
    "duration": 0,
    "start_time": "2024-10-23T03:17:04.777Z"
   },
   {
    "duration": 0,
    "start_time": "2024-10-23T03:17:04.778Z"
   },
   {
    "duration": 0,
    "start_time": "2024-10-23T03:17:04.779Z"
   },
   {
    "duration": 0,
    "start_time": "2024-10-23T03:17:04.780Z"
   },
   {
    "duration": 15,
    "start_time": "2024-10-23T03:17:39.626Z"
   },
   {
    "duration": 7,
    "start_time": "2024-10-23T03:17:43.713Z"
   },
   {
    "duration": 14,
    "start_time": "2024-10-23T03:17:51.651Z"
   },
   {
    "duration": 6,
    "start_time": "2024-10-23T03:17:55.674Z"
   },
   {
    "duration": 8,
    "start_time": "2024-10-23T03:18:06.255Z"
   },
   {
    "duration": 12,
    "start_time": "2024-10-23T03:18:08.085Z"
   },
   {
    "duration": 6,
    "start_time": "2024-10-23T03:18:11.751Z"
   },
   {
    "duration": 10,
    "start_time": "2024-10-23T03:18:19.879Z"
   },
   {
    "duration": 4,
    "start_time": "2024-10-23T03:18:24.694Z"
   },
   {
    "duration": 10,
    "start_time": "2024-10-23T03:18:26.248Z"
   },
   {
    "duration": 11,
    "start_time": "2024-10-23T03:26:06.845Z"
   },
   {
    "duration": 10,
    "start_time": "2024-10-23T03:26:07.098Z"
   },
   {
    "duration": 9,
    "start_time": "2024-10-23T03:26:08.711Z"
   },
   {
    "duration": 7,
    "start_time": "2024-10-23T03:26:13.477Z"
   },
   {
    "duration": 801,
    "start_time": "2024-10-23T03:26:19.102Z"
   },
   {
    "duration": 11,
    "start_time": "2024-10-23T03:26:19.905Z"
   },
   {
    "duration": 9,
    "start_time": "2024-10-23T03:26:19.918Z"
   },
   {
    "duration": 8,
    "start_time": "2024-10-23T03:26:19.930Z"
   },
   {
    "duration": 4,
    "start_time": "2024-10-23T03:26:19.939Z"
   },
   {
    "duration": 6,
    "start_time": "2024-10-23T03:26:19.945Z"
   },
   {
    "duration": 36,
    "start_time": "2024-10-23T03:26:19.953Z"
   },
   {
    "duration": 6,
    "start_time": "2024-10-23T03:26:19.990Z"
   },
   {
    "duration": 11,
    "start_time": "2024-10-23T03:26:19.998Z"
   },
   {
    "duration": 4,
    "start_time": "2024-10-23T03:26:20.012Z"
   },
   {
    "duration": 9,
    "start_time": "2024-10-23T03:26:20.018Z"
   },
   {
    "duration": 5,
    "start_time": "2024-10-23T03:27:35.583Z"
   },
   {
    "duration": 11,
    "start_time": "2024-10-23T03:28:56.293Z"
   },
   {
    "duration": 9,
    "start_time": "2024-10-23T03:29:08.618Z"
   },
   {
    "duration": 13,
    "start_time": "2024-10-23T03:31:28.214Z"
   },
   {
    "duration": 9,
    "start_time": "2024-10-23T03:31:31.115Z"
   },
   {
    "duration": 9,
    "start_time": "2024-10-23T03:34:11.726Z"
   },
   {
    "duration": 5,
    "start_time": "2024-10-23T03:35:38.179Z"
   },
   {
    "duration": 520,
    "start_time": "2024-10-23T03:36:44.440Z"
   },
   {
    "duration": 33,
    "start_time": "2024-10-23T03:37:28.724Z"
   },
   {
    "duration": 5,
    "start_time": "2024-10-23T03:38:43.605Z"
   },
   {
    "duration": 8,
    "start_time": "2024-10-23T03:39:50.305Z"
   },
   {
    "duration": 4,
    "start_time": "2024-10-23T03:39:57.904Z"
   },
   {
    "duration": 9,
    "start_time": "2024-10-23T03:40:10.562Z"
   },
   {
    "duration": 805,
    "start_time": "2024-10-23T03:40:38.524Z"
   },
   {
    "duration": 10,
    "start_time": "2024-10-23T03:40:39.332Z"
   },
   {
    "duration": 10,
    "start_time": "2024-10-23T03:40:39.344Z"
   },
   {
    "duration": 8,
    "start_time": "2024-10-23T03:40:39.356Z"
   },
   {
    "duration": 22,
    "start_time": "2024-10-23T03:40:39.366Z"
   },
   {
    "duration": 5,
    "start_time": "2024-10-23T03:40:39.390Z"
   },
   {
    "duration": 8,
    "start_time": "2024-10-23T03:40:39.396Z"
   },
   {
    "duration": 9,
    "start_time": "2024-10-23T03:40:39.406Z"
   },
   {
    "duration": 8,
    "start_time": "2024-10-23T03:40:39.417Z"
   },
   {
    "duration": 9,
    "start_time": "2024-10-23T04:26:00.149Z"
   },
   {
    "duration": 9,
    "start_time": "2024-10-23T04:26:38.415Z"
   },
   {
    "duration": 5,
    "start_time": "2024-10-23T04:29:03.185Z"
   },
   {
    "duration": 8,
    "start_time": "2024-10-23T04:29:51.829Z"
   },
   {
    "duration": 2,
    "start_time": "2024-10-23T04:36:39.963Z"
   },
   {
    "duration": 343,
    "start_time": "2024-10-23T04:38:29.347Z"
   },
   {
    "duration": 6,
    "start_time": "2024-10-23T04:41:06.770Z"
   },
   {
    "duration": 4,
    "start_time": "2024-10-23T04:41:21.754Z"
   },
   {
    "duration": 512,
    "start_time": "2024-10-23T04:42:13.596Z"
   },
   {
    "duration": 887,
    "start_time": "2024-10-23T04:42:48.018Z"
   },
   {
    "duration": 112,
    "start_time": "2024-10-23T04:44:13.698Z"
   },
   {
    "duration": 109,
    "start_time": "2024-10-23T04:44:27.193Z"
   },
   {
    "duration": 210,
    "start_time": "2024-10-23T04:54:31.500Z"
   },
   {
    "duration": 19,
    "start_time": "2024-10-23T05:43:37.802Z"
   },
   {
    "duration": 159,
    "start_time": "2024-10-23T05:43:55.767Z"
   },
   {
    "duration": 161,
    "start_time": "2024-10-23T05:46:26.189Z"
   },
   {
    "duration": 797,
    "start_time": "2024-10-23T05:47:11.409Z"
   },
   {
    "duration": 11,
    "start_time": "2024-10-23T05:47:12.209Z"
   },
   {
    "duration": 9,
    "start_time": "2024-10-23T05:47:12.222Z"
   },
   {
    "duration": 7,
    "start_time": "2024-10-23T05:47:12.233Z"
   },
   {
    "duration": 5,
    "start_time": "2024-10-23T05:47:12.241Z"
   },
   {
    "duration": 5,
    "start_time": "2024-10-23T05:47:12.248Z"
   },
   {
    "duration": 38,
    "start_time": "2024-10-23T05:47:12.255Z"
   },
   {
    "duration": 8,
    "start_time": "2024-10-23T05:47:12.295Z"
   },
   {
    "duration": 8,
    "start_time": "2024-10-23T05:47:12.305Z"
   },
   {
    "duration": 8,
    "start_time": "2024-10-23T05:47:12.315Z"
   },
   {
    "duration": 8,
    "start_time": "2024-10-23T05:47:12.324Z"
   },
   {
    "duration": 3,
    "start_time": "2024-10-23T05:47:12.333Z"
   },
   {
    "duration": 317,
    "start_time": "2024-10-23T05:47:12.337Z"
   },
   {
    "duration": 4,
    "start_time": "2024-10-23T05:47:38.357Z"
   },
   {
    "duration": 17,
    "start_time": "2024-10-23T05:47:43.022Z"
   },
   {
    "duration": 835,
    "start_time": "2024-10-23T05:47:48.929Z"
   },
   {
    "duration": 20,
    "start_time": "2024-10-23T05:47:49.767Z"
   },
   {
    "duration": 8,
    "start_time": "2024-10-23T05:47:49.788Z"
   },
   {
    "duration": 7,
    "start_time": "2024-10-23T05:47:49.799Z"
   },
   {
    "duration": 4,
    "start_time": "2024-10-23T05:47:49.809Z"
   },
   {
    "duration": 5,
    "start_time": "2024-10-23T05:47:49.814Z"
   },
   {
    "duration": 8,
    "start_time": "2024-10-23T05:47:49.820Z"
   },
   {
    "duration": 8,
    "start_time": "2024-10-23T05:47:49.830Z"
   },
   {
    "duration": 8,
    "start_time": "2024-10-23T05:47:49.840Z"
   },
   {
    "duration": 9,
    "start_time": "2024-10-23T05:47:49.886Z"
   },
   {
    "duration": 8,
    "start_time": "2024-10-23T05:47:49.896Z"
   },
   {
    "duration": 2,
    "start_time": "2024-10-23T05:47:49.906Z"
   },
   {
    "duration": 4,
    "start_time": "2024-10-23T05:47:49.909Z"
   },
   {
    "duration": 311,
    "start_time": "2024-10-23T05:47:49.917Z"
   },
   {
    "duration": 4,
    "start_time": "2024-10-23T05:47:58.908Z"
   },
   {
    "duration": 162,
    "start_time": "2024-10-23T05:47:59.879Z"
   },
   {
    "duration": 164,
    "start_time": "2024-10-23T05:48:25.186Z"
   },
   {
    "duration": 145,
    "start_time": "2024-10-23T05:48:35.706Z"
   },
   {
    "duration": 166,
    "start_time": "2024-10-23T05:48:45.013Z"
   },
   {
    "duration": 183,
    "start_time": "2024-10-23T06:00:31.689Z"
   },
   {
    "duration": 208,
    "start_time": "2024-10-23T06:03:00.459Z"
   },
   {
    "duration": 7,
    "start_time": "2024-10-23T06:05:53.188Z"
   },
   {
    "duration": 192,
    "start_time": "2024-10-23T06:10:46.168Z"
   },
   {
    "duration": 751,
    "start_time": "2024-10-23T06:10:56.860Z"
   },
   {
    "duration": 11,
    "start_time": "2024-10-23T06:10:57.613Z"
   },
   {
    "duration": 9,
    "start_time": "2024-10-23T06:10:57.626Z"
   },
   {
    "duration": 9,
    "start_time": "2024-10-23T06:10:57.637Z"
   },
   {
    "duration": 5,
    "start_time": "2024-10-23T06:10:57.649Z"
   },
   {
    "duration": 33,
    "start_time": "2024-10-23T06:10:57.656Z"
   },
   {
    "duration": 8,
    "start_time": "2024-10-23T06:10:57.691Z"
   },
   {
    "duration": 9,
    "start_time": "2024-10-23T06:10:57.701Z"
   },
   {
    "duration": 9,
    "start_time": "2024-10-23T06:10:57.711Z"
   },
   {
    "duration": 8,
    "start_time": "2024-10-23T06:10:57.722Z"
   },
   {
    "duration": 7,
    "start_time": "2024-10-23T06:10:57.732Z"
   },
   {
    "duration": 214,
    "start_time": "2024-10-23T06:10:57.741Z"
   },
   {
    "duration": 230,
    "start_time": "2024-10-23T06:10:57.957Z"
   },
   {
    "duration": 4,
    "start_time": "2024-10-23T06:12:14.659Z"
   },
   {
    "duration": 267,
    "start_time": "2024-10-23T06:32:10.372Z"
   },
   {
    "duration": 15,
    "start_time": "2024-10-23T06:32:22.768Z"
   },
   {
    "duration": 11,
    "start_time": "2024-10-23T06:32:32.159Z"
   },
   {
    "duration": 4,
    "start_time": "2024-10-23T06:33:18.291Z"
   },
   {
    "duration": 4,
    "start_time": "2024-10-23T06:33:23.639Z"
   },
   {
    "duration": 10,
    "start_time": "2024-10-23T06:33:29.864Z"
   },
   {
    "duration": 10,
    "start_time": "2024-10-23T06:33:51.052Z"
   },
   {
    "duration": 20,
    "start_time": "2024-10-23T06:34:30.408Z"
   },
   {
    "duration": 22,
    "start_time": "2024-10-23T06:37:27.210Z"
   },
   {
    "duration": 10,
    "start_time": "2024-10-23T06:37:36.710Z"
   },
   {
    "duration": 10,
    "start_time": "2024-10-23T06:39:11.212Z"
   },
   {
    "duration": 801,
    "start_time": "2024-10-23T06:40:53.222Z"
   },
   {
    "duration": 11,
    "start_time": "2024-10-23T06:40:54.025Z"
   },
   {
    "duration": 8,
    "start_time": "2024-10-23T06:40:54.038Z"
   },
   {
    "duration": 7,
    "start_time": "2024-10-23T06:40:54.049Z"
   },
   {
    "duration": 4,
    "start_time": "2024-10-23T06:40:54.058Z"
   },
   {
    "duration": 5,
    "start_time": "2024-10-23T06:40:54.087Z"
   },
   {
    "duration": 7,
    "start_time": "2024-10-23T06:40:54.094Z"
   },
   {
    "duration": 8,
    "start_time": "2024-10-23T06:40:54.103Z"
   },
   {
    "duration": 8,
    "start_time": "2024-10-23T06:40:54.113Z"
   },
   {
    "duration": 8,
    "start_time": "2024-10-23T06:40:54.123Z"
   },
   {
    "duration": 7,
    "start_time": "2024-10-23T06:40:54.132Z"
   },
   {
    "duration": 204,
    "start_time": "2024-10-23T06:40:54.141Z"
   },
   {
    "duration": 224,
    "start_time": "2024-10-23T06:40:54.347Z"
   },
   {
    "duration": 10,
    "start_time": "2024-10-23T06:40:54.573Z"
   },
   {
    "duration": 815,
    "start_time": "2024-10-23T06:47:49.491Z"
   },
   {
    "duration": 10,
    "start_time": "2024-10-23T06:47:50.308Z"
   },
   {
    "duration": 9,
    "start_time": "2024-10-23T06:47:50.320Z"
   },
   {
    "duration": 7,
    "start_time": "2024-10-23T06:47:50.331Z"
   },
   {
    "duration": 4,
    "start_time": "2024-10-23T06:47:50.341Z"
   },
   {
    "duration": 4,
    "start_time": "2024-10-23T06:47:50.347Z"
   },
   {
    "duration": 40,
    "start_time": "2024-10-23T06:47:50.353Z"
   },
   {
    "duration": 8,
    "start_time": "2024-10-23T06:47:50.395Z"
   },
   {
    "duration": 9,
    "start_time": "2024-10-23T06:47:50.405Z"
   },
   {
    "duration": 8,
    "start_time": "2024-10-23T06:47:50.416Z"
   },
   {
    "duration": 7,
    "start_time": "2024-10-23T06:47:50.425Z"
   },
   {
    "duration": 196,
    "start_time": "2024-10-23T06:47:50.434Z"
   },
   {
    "duration": 222,
    "start_time": "2024-10-23T06:47:50.633Z"
   },
   {
    "duration": 10,
    "start_time": "2024-10-23T06:47:50.857Z"
   },
   {
    "duration": 786,
    "start_time": "2024-10-23T06:48:37.775Z"
   },
   {
    "duration": 14,
    "start_time": "2024-10-23T06:48:38.563Z"
   },
   {
    "duration": 11,
    "start_time": "2024-10-23T06:48:38.580Z"
   },
   {
    "duration": 8,
    "start_time": "2024-10-23T06:48:38.595Z"
   },
   {
    "duration": 4,
    "start_time": "2024-10-23T06:48:38.606Z"
   },
   {
    "duration": 5,
    "start_time": "2024-10-23T06:48:38.612Z"
   },
   {
    "duration": 8,
    "start_time": "2024-10-23T06:48:38.619Z"
   },
   {
    "duration": 8,
    "start_time": "2024-10-23T06:48:38.628Z"
   },
   {
    "duration": 50,
    "start_time": "2024-10-23T06:48:38.637Z"
   },
   {
    "duration": 7,
    "start_time": "2024-10-23T06:48:38.690Z"
   },
   {
    "duration": 7,
    "start_time": "2024-10-23T06:48:38.699Z"
   },
   {
    "duration": 183,
    "start_time": "2024-10-23T06:48:38.708Z"
   },
   {
    "duration": 230,
    "start_time": "2024-10-23T06:48:38.893Z"
   },
   {
    "duration": 9,
    "start_time": "2024-10-23T06:48:39.125Z"
   },
   {
    "duration": 9,
    "start_time": "2024-10-23T16:03:32.454Z"
   },
   {
    "duration": 2613,
    "start_time": "2024-10-24T03:31:27.232Z"
   },
   {
    "duration": 15,
    "start_time": "2024-10-24T03:31:29.848Z"
   },
   {
    "duration": 10,
    "start_time": "2024-10-24T03:31:29.865Z"
   },
   {
    "duration": 8,
    "start_time": "2024-10-24T03:31:29.878Z"
   },
   {
    "duration": 5,
    "start_time": "2024-10-24T03:31:29.888Z"
   },
   {
    "duration": 5,
    "start_time": "2024-10-24T03:31:29.894Z"
   },
   {
    "duration": 43,
    "start_time": "2024-10-24T03:31:29.901Z"
   },
   {
    "duration": 11,
    "start_time": "2024-10-24T03:31:29.946Z"
   },
   {
    "duration": 8,
    "start_time": "2024-10-24T03:31:29.959Z"
   },
   {
    "duration": 8,
    "start_time": "2024-10-24T03:31:29.970Z"
   },
   {
    "duration": 8,
    "start_time": "2024-10-24T03:31:29.979Z"
   },
   {
    "duration": 197,
    "start_time": "2024-10-24T03:31:29.989Z"
   },
   {
    "duration": 221,
    "start_time": "2024-10-24T03:31:30.190Z"
   },
   {
    "duration": 13,
    "start_time": "2024-10-24T03:31:30.413Z"
   },
   {
    "duration": 839,
    "start_time": "2024-10-24T03:55:07.257Z"
   },
   {
    "duration": 15,
    "start_time": "2024-10-24T03:55:08.098Z"
   },
   {
    "duration": 8,
    "start_time": "2024-10-24T03:55:08.114Z"
   },
   {
    "duration": 9,
    "start_time": "2024-10-24T03:55:08.125Z"
   },
   {
    "duration": 8,
    "start_time": "2024-10-24T03:55:08.143Z"
   },
   {
    "duration": 4,
    "start_time": "2024-10-24T03:55:08.154Z"
   },
   {
    "duration": 5,
    "start_time": "2024-10-24T03:55:08.160Z"
   },
   {
    "duration": 8,
    "start_time": "2024-10-24T03:55:08.166Z"
   },
   {
    "duration": 6,
    "start_time": "2024-10-24T03:55:08.176Z"
   },
   {
    "duration": 9,
    "start_time": "2024-10-24T03:55:08.184Z"
   },
   {
    "duration": 53,
    "start_time": "2024-10-24T03:55:08.194Z"
   },
   {
    "duration": 8,
    "start_time": "2024-10-24T03:55:08.249Z"
   },
   {
    "duration": 198,
    "start_time": "2024-10-24T03:55:08.259Z"
   },
   {
    "duration": 226,
    "start_time": "2024-10-24T03:55:08.461Z"
   },
   {
    "duration": 9,
    "start_time": "2024-10-24T03:55:08.689Z"
   },
   {
    "duration": 7,
    "start_time": "2024-10-24T04:31:31.772Z"
   },
   {
    "duration": 10,
    "start_time": "2024-10-24T04:31:55.036Z"
   },
   {
    "duration": 8,
    "start_time": "2024-10-24T04:32:02.636Z"
   },
   {
    "duration": 354,
    "start_time": "2024-10-24T04:40:51.715Z"
   },
   {
    "duration": 4,
    "start_time": "2024-10-24T04:42:11.240Z"
   },
   {
    "duration": 11,
    "start_time": "2024-10-24T04:42:29.424Z"
   },
   {
    "duration": 6,
    "start_time": "2024-10-24T04:43:05.906Z"
   },
   {
    "duration": 6,
    "start_time": "2024-10-24T04:44:19.507Z"
   },
   {
    "duration": 9,
    "start_time": "2024-10-24T04:47:08.639Z"
   },
   {
    "duration": 9,
    "start_time": "2024-10-24T04:47:29.799Z"
   },
   {
    "duration": 5,
    "start_time": "2024-10-24T04:48:53.633Z"
   },
   {
    "duration": 5,
    "start_time": "2024-10-24T04:49:01.244Z"
   },
   {
    "duration": 9,
    "start_time": "2024-10-24T04:49:07.515Z"
   },
   {
    "duration": 832,
    "start_time": "2024-10-24T04:49:55.903Z"
   },
   {
    "duration": 17,
    "start_time": "2024-10-24T04:49:56.737Z"
   },
   {
    "duration": 9,
    "start_time": "2024-10-24T04:49:56.755Z"
   },
   {
    "duration": 9,
    "start_time": "2024-10-24T04:49:56.766Z"
   },
   {
    "duration": 8,
    "start_time": "2024-10-24T04:49:56.778Z"
   },
   {
    "duration": 5,
    "start_time": "2024-10-24T04:49:56.787Z"
   },
   {
    "duration": 5,
    "start_time": "2024-10-24T04:49:56.793Z"
   },
   {
    "duration": 7,
    "start_time": "2024-10-24T04:49:56.800Z"
   },
   {
    "duration": 35,
    "start_time": "2024-10-24T04:49:56.809Z"
   },
   {
    "duration": 8,
    "start_time": "2024-10-24T04:49:56.846Z"
   },
   {
    "duration": 8,
    "start_time": "2024-10-24T04:49:56.856Z"
   },
   {
    "duration": 7,
    "start_time": "2024-10-24T04:49:56.866Z"
   },
   {
    "duration": 7,
    "start_time": "2024-10-24T04:49:56.874Z"
   },
   {
    "duration": 8,
    "start_time": "2024-10-24T04:49:56.885Z"
   },
   {
    "duration": 49,
    "start_time": "2024-10-24T04:49:56.894Z"
   },
   {
    "duration": 4,
    "start_time": "2024-10-24T04:49:56.945Z"
   },
   {
    "duration": 9,
    "start_time": "2024-10-24T04:49:56.951Z"
   },
   {
    "duration": 9,
    "start_time": "2024-10-24T04:49:56.962Z"
   },
   {
    "duration": 4,
    "start_time": "2024-10-24T04:49:56.972Z"
   },
   {
    "duration": 9,
    "start_time": "2024-10-24T04:49:56.978Z"
   },
   {
    "duration": 206,
    "start_time": "2024-10-24T04:49:56.988Z"
   },
   {
    "duration": 227,
    "start_time": "2024-10-24T04:49:57.196Z"
   },
   {
    "duration": 8,
    "start_time": "2024-10-24T04:49:57.425Z"
   },
   {
    "duration": 7,
    "start_time": "2024-10-24T04:50:57.309Z"
   },
   {
    "duration": 7,
    "start_time": "2024-10-24T04:51:52.015Z"
   },
   {
    "duration": 824,
    "start_time": "2024-10-24T04:58:05.870Z"
   },
   {
    "duration": 13,
    "start_time": "2024-10-24T04:58:06.696Z"
   },
   {
    "duration": 8,
    "start_time": "2024-10-24T04:58:06.710Z"
   },
   {
    "duration": 24,
    "start_time": "2024-10-24T04:58:06.720Z"
   },
   {
    "duration": 8,
    "start_time": "2024-10-24T04:58:06.745Z"
   },
   {
    "duration": 4,
    "start_time": "2024-10-24T04:58:06.755Z"
   },
   {
    "duration": 4,
    "start_time": "2024-10-24T04:58:06.761Z"
   },
   {
    "duration": 7,
    "start_time": "2024-10-24T04:58:06.768Z"
   },
   {
    "duration": 6,
    "start_time": "2024-10-24T04:58:06.777Z"
   },
   {
    "duration": 8,
    "start_time": "2024-10-24T04:58:06.786Z"
   },
   {
    "duration": 53,
    "start_time": "2024-10-24T04:58:06.795Z"
   },
   {
    "duration": 8,
    "start_time": "2024-10-24T04:58:06.850Z"
   },
   {
    "duration": 6,
    "start_time": "2024-10-24T04:58:06.860Z"
   },
   {
    "duration": 10,
    "start_time": "2024-10-24T04:58:06.868Z"
   },
   {
    "duration": 8,
    "start_time": "2024-10-24T04:58:06.879Z"
   },
   {
    "duration": 4,
    "start_time": "2024-10-24T04:58:06.889Z"
   },
   {
    "duration": 8,
    "start_time": "2024-10-24T04:58:06.894Z"
   },
   {
    "duration": 46,
    "start_time": "2024-10-24T04:58:06.904Z"
   },
   {
    "duration": 4,
    "start_time": "2024-10-24T04:58:06.952Z"
   },
   {
    "duration": 8,
    "start_time": "2024-10-24T04:58:06.958Z"
   },
   {
    "duration": 189,
    "start_time": "2024-10-24T04:58:06.968Z"
   },
   {
    "duration": 227,
    "start_time": "2024-10-24T04:58:07.160Z"
   },
   {
    "duration": 8,
    "start_time": "2024-10-24T04:58:07.389Z"
   },
   {
    "duration": 8,
    "start_time": "2024-10-24T04:58:31.149Z"
   },
   {
    "duration": 8,
    "start_time": "2024-10-24T05:03:16.405Z"
   },
   {
    "duration": 7,
    "start_time": "2024-10-24T05:03:17.102Z"
   },
   {
    "duration": 764,
    "start_time": "2024-10-24T05:03:21.106Z"
   },
   {
    "duration": 16,
    "start_time": "2024-10-24T05:03:21.872Z"
   },
   {
    "duration": 8,
    "start_time": "2024-10-24T05:03:21.890Z"
   },
   {
    "duration": 9,
    "start_time": "2024-10-24T05:03:21.900Z"
   },
   {
    "duration": 10,
    "start_time": "2024-10-24T05:03:21.911Z"
   },
   {
    "duration": 23,
    "start_time": "2024-10-24T05:03:21.923Z"
   },
   {
    "duration": 5,
    "start_time": "2024-10-24T05:03:21.950Z"
   },
   {
    "duration": 11,
    "start_time": "2024-10-24T05:03:21.957Z"
   },
   {
    "duration": 6,
    "start_time": "2024-10-24T05:03:21.970Z"
   },
   {
    "duration": 9,
    "start_time": "2024-10-24T05:03:21.979Z"
   },
   {
    "duration": 7,
    "start_time": "2024-10-24T05:03:21.989Z"
   },
   {
    "duration": 7,
    "start_time": "2024-10-24T05:03:21.998Z"
   },
   {
    "duration": 43,
    "start_time": "2024-10-24T05:03:22.007Z"
   },
   {
    "duration": 10,
    "start_time": "2024-10-24T05:03:22.051Z"
   },
   {
    "duration": 8,
    "start_time": "2024-10-24T05:03:22.062Z"
   },
   {
    "duration": 4,
    "start_time": "2024-10-24T05:03:22.071Z"
   },
   {
    "duration": 7,
    "start_time": "2024-10-24T05:03:22.077Z"
   },
   {
    "duration": 9,
    "start_time": "2024-10-24T05:03:22.085Z"
   },
   {
    "duration": 4,
    "start_time": "2024-10-24T05:03:22.096Z"
   },
   {
    "duration": 48,
    "start_time": "2024-10-24T05:03:22.101Z"
   },
   {
    "duration": 170,
    "start_time": "2024-10-24T05:03:22.150Z"
   },
   {
    "duration": 226,
    "start_time": "2024-10-24T05:03:22.322Z"
   },
   {
    "duration": 268,
    "start_time": "2024-10-24T05:03:22.550Z"
   },
   {
    "duration": 0,
    "start_time": "2024-10-24T05:03:22.819Z"
   },
   {
    "duration": 799,
    "start_time": "2024-10-24T05:03:51.472Z"
   },
   {
    "duration": 12,
    "start_time": "2024-10-24T05:03:52.273Z"
   },
   {
    "duration": 10,
    "start_time": "2024-10-24T05:03:52.288Z"
   },
   {
    "duration": 11,
    "start_time": "2024-10-24T05:03:52.300Z"
   },
   {
    "duration": 9,
    "start_time": "2024-10-24T05:03:52.314Z"
   },
   {
    "duration": 24,
    "start_time": "2024-10-24T05:03:52.324Z"
   },
   {
    "duration": 4,
    "start_time": "2024-10-24T05:03:52.350Z"
   },
   {
    "duration": 8,
    "start_time": "2024-10-24T05:03:52.356Z"
   },
   {
    "duration": 5,
    "start_time": "2024-10-24T05:03:52.366Z"
   },
   {
    "duration": 9,
    "start_time": "2024-10-24T05:03:52.373Z"
   },
   {
    "duration": 8,
    "start_time": "2024-10-24T05:03:52.383Z"
   },
   {
    "duration": 8,
    "start_time": "2024-10-24T05:03:52.392Z"
   },
   {
    "duration": 8,
    "start_time": "2024-10-24T05:03:52.443Z"
   },
   {
    "duration": 9,
    "start_time": "2024-10-24T05:03:52.454Z"
   },
   {
    "duration": 9,
    "start_time": "2024-10-24T05:03:52.464Z"
   },
   {
    "duration": 5,
    "start_time": "2024-10-24T05:03:52.474Z"
   },
   {
    "duration": 8,
    "start_time": "2024-10-24T05:03:52.480Z"
   },
   {
    "duration": 9,
    "start_time": "2024-10-24T05:03:52.489Z"
   },
   {
    "duration": 45,
    "start_time": "2024-10-24T05:03:52.499Z"
   },
   {
    "duration": 8,
    "start_time": "2024-10-24T05:03:52.546Z"
   },
   {
    "duration": 184,
    "start_time": "2024-10-24T05:03:52.556Z"
   },
   {
    "duration": 224,
    "start_time": "2024-10-24T05:03:52.743Z"
   },
   {
    "duration": 9,
    "start_time": "2024-10-24T05:03:52.971Z"
   },
   {
    "duration": 7,
    "start_time": "2024-10-24T05:03:52.982Z"
   },
   {
    "duration": 8,
    "start_time": "2024-10-24T05:04:03.934Z"
   },
   {
    "duration": 797,
    "start_time": "2024-10-24T05:04:09.309Z"
   },
   {
    "duration": 11,
    "start_time": "2024-10-24T05:04:10.109Z"
   },
   {
    "duration": 8,
    "start_time": "2024-10-24T05:04:10.122Z"
   },
   {
    "duration": 19,
    "start_time": "2024-10-24T05:04:10.132Z"
   },
   {
    "duration": 7,
    "start_time": "2024-10-24T05:04:10.154Z"
   },
   {
    "duration": 5,
    "start_time": "2024-10-24T05:04:10.163Z"
   },
   {
    "duration": 5,
    "start_time": "2024-10-24T05:04:10.170Z"
   },
   {
    "duration": 8,
    "start_time": "2024-10-24T05:04:10.177Z"
   },
   {
    "duration": 7,
    "start_time": "2024-10-24T05:04:10.186Z"
   },
   {
    "duration": 8,
    "start_time": "2024-10-24T05:04:10.196Z"
   },
   {
    "duration": 8,
    "start_time": "2024-10-24T05:04:10.243Z"
   },
   {
    "duration": 8,
    "start_time": "2024-10-24T05:04:10.253Z"
   },
   {
    "duration": 7,
    "start_time": "2024-10-24T05:04:10.263Z"
   },
   {
    "duration": 8,
    "start_time": "2024-10-24T05:04:10.274Z"
   },
   {
    "duration": 7,
    "start_time": "2024-10-24T05:04:10.284Z"
   },
   {
    "duration": 4,
    "start_time": "2024-10-24T05:04:10.293Z"
   },
   {
    "duration": 50,
    "start_time": "2024-10-24T05:04:10.299Z"
   },
   {
    "duration": 9,
    "start_time": "2024-10-24T05:04:10.351Z"
   },
   {
    "duration": 4,
    "start_time": "2024-10-24T05:04:10.362Z"
   },
   {
    "duration": 8,
    "start_time": "2024-10-24T05:04:10.368Z"
   },
   {
    "duration": 207,
    "start_time": "2024-10-24T05:04:10.378Z"
   },
   {
    "duration": 224,
    "start_time": "2024-10-24T05:04:10.587Z"
   },
   {
    "duration": 8,
    "start_time": "2024-10-24T05:04:10.813Z"
   },
   {
    "duration": 7,
    "start_time": "2024-10-24T05:04:10.823Z"
   },
   {
    "duration": 797,
    "start_time": "2024-10-24T05:47:11.120Z"
   },
   {
    "duration": 13,
    "start_time": "2024-10-24T05:47:11.919Z"
   },
   {
    "duration": 12,
    "start_time": "2024-10-24T05:47:11.934Z"
   },
   {
    "duration": 9,
    "start_time": "2024-10-24T05:47:11.947Z"
   },
   {
    "duration": 8,
    "start_time": "2024-10-24T05:47:11.958Z"
   },
   {
    "duration": 5,
    "start_time": "2024-10-24T05:47:11.967Z"
   },
   {
    "duration": 4,
    "start_time": "2024-10-24T05:47:11.974Z"
   },
   {
    "duration": 8,
    "start_time": "2024-10-24T05:47:11.979Z"
   },
   {
    "duration": 6,
    "start_time": "2024-10-24T05:47:11.989Z"
   },
   {
    "duration": 46,
    "start_time": "2024-10-24T05:47:11.999Z"
   },
   {
    "duration": 9,
    "start_time": "2024-10-24T05:47:12.047Z"
   },
   {
    "duration": 9,
    "start_time": "2024-10-24T05:47:12.058Z"
   },
   {
    "duration": 6,
    "start_time": "2024-10-24T05:47:12.069Z"
   },
   {
    "duration": 9,
    "start_time": "2024-10-24T05:47:12.077Z"
   },
   {
    "duration": 9,
    "start_time": "2024-10-24T05:47:12.087Z"
   },
   {
    "duration": 46,
    "start_time": "2024-10-24T05:47:12.097Z"
   },
   {
    "duration": 10,
    "start_time": "2024-10-24T05:47:12.145Z"
   },
   {
    "duration": 9,
    "start_time": "2024-10-24T05:47:12.157Z"
   },
   {
    "duration": 3,
    "start_time": "2024-10-24T05:47:12.168Z"
   },
   {
    "duration": 8,
    "start_time": "2024-10-24T05:47:12.173Z"
   },
   {
    "duration": 197,
    "start_time": "2024-10-24T05:47:12.182Z"
   },
   {
    "duration": 196,
    "start_time": "2024-10-24T05:47:12.380Z"
   },
   {
    "duration": 8,
    "start_time": "2024-10-24T05:47:12.577Z"
   },
   {
    "duration": 7,
    "start_time": "2024-10-24T05:47:12.587Z"
   },
   {
    "duration": 770,
    "start_time": "2024-10-24T05:47:36.518Z"
   },
   {
    "duration": 11,
    "start_time": "2024-10-24T05:47:37.290Z"
   },
   {
    "duration": 8,
    "start_time": "2024-10-24T05:47:37.302Z"
   },
   {
    "duration": 9,
    "start_time": "2024-10-24T05:47:37.311Z"
   },
   {
    "duration": 24,
    "start_time": "2024-10-24T05:47:37.323Z"
   },
   {
    "duration": 5,
    "start_time": "2024-10-24T05:47:37.348Z"
   },
   {
    "duration": 5,
    "start_time": "2024-10-24T05:47:37.354Z"
   },
   {
    "duration": 7,
    "start_time": "2024-10-24T05:47:37.362Z"
   },
   {
    "duration": 6,
    "start_time": "2024-10-24T05:47:37.370Z"
   },
   {
    "duration": 9,
    "start_time": "2024-10-24T05:47:37.378Z"
   },
   {
    "duration": 7,
    "start_time": "2024-10-24T05:47:37.389Z"
   },
   {
    "duration": 60,
    "start_time": "2024-10-24T05:47:37.398Z"
   },
   {
    "duration": 7,
    "start_time": "2024-10-24T05:47:37.460Z"
   },
   {
    "duration": 9,
    "start_time": "2024-10-24T05:47:37.470Z"
   },
   {
    "duration": 8,
    "start_time": "2024-10-24T05:47:37.480Z"
   },
   {
    "duration": 4,
    "start_time": "2024-10-24T05:47:37.490Z"
   },
   {
    "duration": 9,
    "start_time": "2024-10-24T05:47:37.495Z"
   },
   {
    "duration": 36,
    "start_time": "2024-10-24T05:47:37.507Z"
   },
   {
    "duration": 5,
    "start_time": "2024-10-24T05:47:37.545Z"
   },
   {
    "duration": 8,
    "start_time": "2024-10-24T05:47:37.552Z"
   },
   {
    "duration": 184,
    "start_time": "2024-10-24T05:47:37.563Z"
   },
   {
    "duration": 202,
    "start_time": "2024-10-24T05:47:37.749Z"
   },
   {
    "duration": 8,
    "start_time": "2024-10-24T05:47:37.953Z"
   },
   {
    "duration": 7,
    "start_time": "2024-10-24T05:47:37.963Z"
   },
   {
    "duration": 811,
    "start_time": "2024-10-24T05:59:01.788Z"
   },
   {
    "duration": 14,
    "start_time": "2024-10-24T05:59:02.601Z"
   },
   {
    "duration": 9,
    "start_time": "2024-10-24T05:59:02.616Z"
   },
   {
    "duration": 15,
    "start_time": "2024-10-24T05:59:02.628Z"
   },
   {
    "duration": 7,
    "start_time": "2024-10-24T05:59:02.645Z"
   },
   {
    "duration": 4,
    "start_time": "2024-10-24T05:59:02.654Z"
   },
   {
    "duration": 4,
    "start_time": "2024-10-24T05:59:02.660Z"
   },
   {
    "duration": 8,
    "start_time": "2024-10-24T05:59:02.666Z"
   },
   {
    "duration": 6,
    "start_time": "2024-10-24T05:59:02.675Z"
   },
   {
    "duration": 8,
    "start_time": "2024-10-24T05:59:02.685Z"
   },
   {
    "duration": 51,
    "start_time": "2024-10-24T05:59:02.695Z"
   },
   {
    "duration": 7,
    "start_time": "2024-10-24T05:59:02.748Z"
   },
   {
    "duration": 7,
    "start_time": "2024-10-24T05:59:02.757Z"
   },
   {
    "duration": 8,
    "start_time": "2024-10-24T05:59:02.765Z"
   },
   {
    "duration": 7,
    "start_time": "2024-10-24T05:59:02.775Z"
   },
   {
    "duration": 4,
    "start_time": "2024-10-24T05:59:02.784Z"
   },
   {
    "duration": 9,
    "start_time": "2024-10-24T05:59:02.790Z"
   },
   {
    "duration": 48,
    "start_time": "2024-10-24T05:59:02.800Z"
   },
   {
    "duration": 4,
    "start_time": "2024-10-24T05:59:02.850Z"
   },
   {
    "duration": 9,
    "start_time": "2024-10-24T05:59:02.856Z"
   },
   {
    "duration": 190,
    "start_time": "2024-10-24T05:59:02.866Z"
   },
   {
    "duration": 204,
    "start_time": "2024-10-24T05:59:03.058Z"
   },
   {
    "duration": 10,
    "start_time": "2024-10-24T05:59:03.263Z"
   },
   {
    "duration": 7,
    "start_time": "2024-10-24T05:59:03.274Z"
   }
  ],
  "kernelspec": {
   "display_name": "Python 3 (ipykernel)",
   "language": "python",
   "name": "python3"
  },
  "language_info": {
   "codemirror_mode": {
    "name": "ipython",
    "version": 3
   },
   "file_extension": ".py",
   "mimetype": "text/x-python",
   "name": "python",
   "nbconvert_exporter": "python",
   "pygments_lexer": "ipython3",
   "version": "3.9.19"
  },
  "toc": {
   "base_numbering": 1,
   "nav_menu": {},
   "number_sections": true,
   "sideBar": true,
   "skip_h1_title": true,
   "title_cell": "Table of Contents",
   "title_sidebar": "Contents",
   "toc_cell": false,
   "toc_position": {},
   "toc_section_display": true,
   "toc_window_display": false
  }
 },
 "nbformat": 4,
 "nbformat_minor": 2
}
