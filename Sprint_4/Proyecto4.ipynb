{
 "cells": [
  {
   "cell_type": "markdown",
   "metadata": {},
   "source": [
    "¡Hola!\n",
    "\n",
    "Mi nombre es Tonatiuh Cruz. Me complace revisar tu proyecto hoy.\n",
    "\n",
    "Al identificar cualquier error inicialmente, simplemente los destacaré. Te animo a localizar y abordar los problemas de forma independiente como parte de tu preparación para un rol como data-scientist. En un entorno profesional, tu líder de equipo seguiría un enfoque similar. Si encuentras la tarea desafiante, proporcionaré una pista más específica en la próxima iteración.\n",
    "\n",
    "Encontrarás mis comentarios a continuación - **por favor no los muevas, modifiques o elimines**.\n",
    "\n",
    "Puedes encontrar mis comentarios en cajas verdes, amarillas o rojas como esta:\n",
    "\n",
    "<div class=\"alert alert-block alert-success\">\n",
    "<b>Comentario del revisor</b> <a class=\"tocSkip\"></a>\n",
    "\n",
    "Éxito. Todo está hecho correctamente.\n",
    "</div>\n",
    "\n",
    "<div class=\"alert alert-block alert-warning\">\n",
    "<b>Comentario del revisor</b> <a class=\"tocSkip\"></a>\n",
    "\n",
    "Observaciones. Algunas recomendaciones.\n",
    "</div>\n",
    "\n",
    "<div class=\"alert alert-block alert-danger\">\n",
    "<b>Comentario del revisor</b> <a class=\"tocSkip\"></a>\n",
    "\n",
    "Necesita corrección. El bloque requiere algunas correcciones. El trabajo no puede ser aceptado con comentarios en rojo.\n",
    "</div>\n",
    "\n",
    "Puedes responderme utilizando esto:\n",
    "\n",
    "<div class=\"alert alert-block alert-info\">\n",
    "<b>Respuesta del estudiante.</b> <a class=\"tocSkip\"></a>"
   ]
  },
  {
   "cell_type": "markdown",
   "metadata": {
    "id": "3rYiDeEH0q0f"
   },
   "source": [
    "# ¿Cuál es la mejor tarifa?\n",
    "\n",
    "Trabajas como analista para el operador de telecomunicaciones Megaline. La empresa ofrece a sus clientes dos tarifas de prepago, Surf y Ultimate. El departamento comercial quiere saber cuál de las tarifas genera más ingresos para poder ajustar el presupuesto de publicidad.\n",
    "\n",
    "Vas a realizar un análisis preliminar de las tarifas basado en una selección de clientes relativamente pequeña. Tendrás los datos de 500 clientes de Megaline: quiénes son los clientes, de dónde son, qué tarifa usan, así como la cantidad de llamadas que hicieron y los mensajes de texto que enviaron en 2018. Tu trabajo es analizar el comportamiento de los clientes y determinar qué tarifa de prepago genera más ingresos."
   ]
  },
  {
   "cell_type": "markdown",
   "metadata": {
    "id": "VNddPNRQ0q0w"
   },
   "source": [
    "[Te proporcionamos algunos comentarios para orientarte mientras completas este proyecto. Pero debes asegurarte de eliminar todos los comentarios entre corchetes antes de entregar tu proyecto.]\n",
    "\n",
    "[Antes de sumergirte en el análisis de datos, explica por tu propia cuenta el propósito del proyecto y las acciones que planeas realizar.]\n",
    "\n",
    "[Ten en cuenta que estudiar, modificar y analizar datos es un proceso iterativo. Es normal volver a los pasos anteriores y corregirlos/ampliarlos para permitir nuevos pasos.]"
   ]
  },
  {
   "cell_type": "markdown",
   "metadata": {},
   "source": [
    "El prósito principal del proyecto es claro, el cliente está interesado en saber a qué plan de prepago le debe de dar más publicidad de primera mano para ver cuál de los dos se potencializa y probablemente ver si se sigue invirtiendo en el otro plan, modificarlo o lo que sea necesario y que sea de provecho para la empresa   "
   ]
  },
  {
   "cell_type": "markdown",
   "metadata": {
    "id": "MQi4IPy70q0y"
   },
   "source": [
    "## Inicialización"
   ]
  },
  {
   "cell_type": "code",
   "execution_count": 1,
   "metadata": {
    "id": "MtYIuBxu0q0z"
   },
   "outputs": [],
   "source": [
    "# Cargar todas las librerías\n",
    "from scipy import stats as st\n",
    "import seaborn as sns\n",
    "import pandas as pd\n",
    "import numpy as np\n",
    "import math\n",
    "from matplotlib import pyplot as plt\n"
   ]
  },
  {
   "cell_type": "markdown",
   "metadata": {},
   "source": [
    "<div class=\"alert alert-block alert-warning\">\n",
    "<b>Comentario revisor</b> <a class=\"tocSkip\"></a>\n",
    "\n",
    "\n",
    "Recomiendo cargar la libreria math. De esta manera, puedes realizar redondeos con otros métodos. \n",
    "</div>"
   ]
  },
  {
   "cell_type": "markdown",
   "metadata": {},
   "source": [
    "<div class=\"alert alert-block alert-info\">\n",
    "<b>Listo, está cargada :)</b> <a class=\"tocSkip\"></a>"
   ]
  },
  {
   "cell_type": "markdown",
   "metadata": {},
   "source": [
    "<div class=\"alert alert-block alert-success\">\n",
    "<b>Comentario del revisor</b> <a class=\"tocSkip\"></a>\n",
    "\n",
    "Muy buen trabajo con los ajustes!\n",
    "</div>"
   ]
  },
  {
   "cell_type": "markdown",
   "metadata": {
    "id": "4ysWWC5i0q00"
   },
   "source": [
    "## Cargar datos"
   ]
  },
  {
   "cell_type": "code",
   "execution_count": 2,
   "metadata": {
    "id": "CCqPW7rS0q01"
   },
   "outputs": [],
   "source": [
    "# Carga los archivos de datos en diferentes DataFrames\n",
    "users = pd.read_csv('/datasets/megaline_users.csv', sep= ',')\n",
    "calls = pd.read_csv('/datasets/megaline_calls.csv', sep= ',')\n",
    "messages = pd.read_csv('/datasets/megaline_messages.csv', sep= ',')\n",
    "internet = pd.read_csv('/datasets/megaline_internet.csv', sep= ',')\n",
    "plans = pd.read_csv('/datasets/megaline_plans.csv', sep= ',')\n"
   ]
  },
  {
   "cell_type": "markdown",
   "metadata": {},
   "source": [
    "<div class=\"alert alert-block alert-success\">\n",
    "<b>Comentario del revisor:</b> <a class=\"tocSkip\"></a>\n",
    "    \n",
    "Has realizado un excelente trabajo al importar los datos y las bibliotecas necesarias.\n",
    "\n",
    "</div>"
   ]
  },
  {
   "cell_type": "markdown",
   "metadata": {
    "id": "69qqoJ3r0q01"
   },
   "source": [
    "## Preparar los datos"
   ]
  },
  {
   "cell_type": "markdown",
   "metadata": {
    "id": "vUuZw80S0q01"
   },
   "source": [
    "Se prepararon los datos para ser leídos, y se empezó con un general '.info()' y un .head() para saber con qué datos estamos trabajando."
   ]
  },
  {
   "cell_type": "markdown",
   "metadata": {
    "id": "ohBhimvH0q01"
   },
   "source": [
    "## Tarifas"
   ]
  },
  {
   "cell_type": "code",
   "execution_count": 3,
   "metadata": {
    "id": "GptqP3Q40q02"
   },
   "outputs": [
    {
     "name": "stdout",
     "output_type": "stream",
     "text": [
      "<class 'pandas.core.frame.DataFrame'>\n",
      "RangeIndex: 2 entries, 0 to 1\n",
      "Data columns (total 8 columns):\n",
      " #   Column                 Non-Null Count  Dtype  \n",
      "---  ------                 --------------  -----  \n",
      " 0   messages_included      2 non-null      int64  \n",
      " 1   mb_per_month_included  2 non-null      int64  \n",
      " 2   minutes_included       2 non-null      int64  \n",
      " 3   usd_monthly_pay        2 non-null      int64  \n",
      " 4   usd_per_gb             2 non-null      int64  \n",
      " 5   usd_per_message        2 non-null      float64\n",
      " 6   usd_per_minute         2 non-null      float64\n",
      " 7   plan_name              2 non-null      object \n",
      "dtypes: float64(2), int64(5), object(1)\n",
      "memory usage: 256.0+ bytes\n"
     ]
    }
   ],
   "source": [
    "# Imprime la información general/resumida sobre el DataFrame de las tarifas\n",
    "plans.info()\n"
   ]
  },
  {
   "cell_type": "code",
   "execution_count": 4,
   "metadata": {
    "id": "64xzjwL70q02"
   },
   "outputs": [
    {
     "data": {
      "text/html": [
       "<div>\n",
       "<style scoped>\n",
       "    .dataframe tbody tr th:only-of-type {\n",
       "        vertical-align: middle;\n",
       "    }\n",
       "\n",
       "    .dataframe tbody tr th {\n",
       "        vertical-align: top;\n",
       "    }\n",
       "\n",
       "    .dataframe thead th {\n",
       "        text-align: right;\n",
       "    }\n",
       "</style>\n",
       "<table border=\"1\" class=\"dataframe\">\n",
       "  <thead>\n",
       "    <tr style=\"text-align: right;\">\n",
       "      <th></th>\n",
       "      <th>messages_included</th>\n",
       "      <th>mb_per_month_included</th>\n",
       "      <th>minutes_included</th>\n",
       "      <th>usd_monthly_pay</th>\n",
       "      <th>usd_per_gb</th>\n",
       "      <th>usd_per_message</th>\n",
       "      <th>usd_per_minute</th>\n",
       "      <th>plan_name</th>\n",
       "    </tr>\n",
       "  </thead>\n",
       "  <tbody>\n",
       "    <tr>\n",
       "      <th>0</th>\n",
       "      <td>50</td>\n",
       "      <td>15360</td>\n",
       "      <td>500</td>\n",
       "      <td>20</td>\n",
       "      <td>10</td>\n",
       "      <td>0.03</td>\n",
       "      <td>0.03</td>\n",
       "      <td>surf</td>\n",
       "    </tr>\n",
       "    <tr>\n",
       "      <th>1</th>\n",
       "      <td>1000</td>\n",
       "      <td>30720</td>\n",
       "      <td>3000</td>\n",
       "      <td>70</td>\n",
       "      <td>7</td>\n",
       "      <td>0.01</td>\n",
       "      <td>0.01</td>\n",
       "      <td>ultimate</td>\n",
       "    </tr>\n",
       "  </tbody>\n",
       "</table>\n",
       "</div>"
      ],
      "text/plain": [
       "   messages_included  mb_per_month_included  minutes_included  \\\n",
       "0                 50                  15360               500   \n",
       "1               1000                  30720              3000   \n",
       "\n",
       "   usd_monthly_pay  usd_per_gb  usd_per_message  usd_per_minute plan_name  \n",
       "0               20          10             0.03            0.03      surf  \n",
       "1               70           7             0.01            0.01  ultimate  "
      ]
     },
     "execution_count": 4,
     "metadata": {},
     "output_type": "execute_result"
    }
   ],
   "source": [
    "# Imprime una muestra de los datos para las tarifas\n",
    "plans.head()"
   ]
  },
  {
   "cell_type": "markdown",
   "metadata": {
    "id": "mEc_3_hs0q02"
   },
   "source": [
    "Es un DF que tiene 8 columnas y 2 filas, más la de encabezado. No tiene datos ausentes y es la descripción a detalle de los dos planes de los que se requiere al final sacar conclusiones.\n",
    "\n",
    "Es necesario convertir la columna 'mb_per_month_included' a GB ya que así es como se cobrará el excedente.\n"
   ]
  },
  {
   "cell_type": "markdown",
   "metadata": {
    "id": "R3C05i1l0q03"
   },
   "source": [
    "## Corregir datos"
   ]
  },
  {
   "cell_type": "code",
   "execution_count": 5,
   "metadata": {},
   "outputs": [
    {
     "data": {
      "text/html": [
       "<div>\n",
       "<style scoped>\n",
       "    .dataframe tbody tr th:only-of-type {\n",
       "        vertical-align: middle;\n",
       "    }\n",
       "\n",
       "    .dataframe tbody tr th {\n",
       "        vertical-align: top;\n",
       "    }\n",
       "\n",
       "    .dataframe thead th {\n",
       "        text-align: right;\n",
       "    }\n",
       "</style>\n",
       "<table border=\"1\" class=\"dataframe\">\n",
       "  <thead>\n",
       "    <tr style=\"text-align: right;\">\n",
       "      <th></th>\n",
       "      <th>messages_included</th>\n",
       "      <th>mb_per_month_included</th>\n",
       "      <th>minutes_included</th>\n",
       "      <th>usd_monthly_pay</th>\n",
       "      <th>usd_per_gb</th>\n",
       "      <th>usd_per_message</th>\n",
       "      <th>usd_per_minute</th>\n",
       "      <th>plan_name</th>\n",
       "    </tr>\n",
       "  </thead>\n",
       "  <tbody>\n",
       "    <tr>\n",
       "      <th>0</th>\n",
       "      <td>50</td>\n",
       "      <td>15.0</td>\n",
       "      <td>500</td>\n",
       "      <td>20</td>\n",
       "      <td>10</td>\n",
       "      <td>0.03</td>\n",
       "      <td>0.03</td>\n",
       "      <td>surf</td>\n",
       "    </tr>\n",
       "    <tr>\n",
       "      <th>1</th>\n",
       "      <td>1000</td>\n",
       "      <td>30.0</td>\n",
       "      <td>3000</td>\n",
       "      <td>70</td>\n",
       "      <td>7</td>\n",
       "      <td>0.01</td>\n",
       "      <td>0.01</td>\n",
       "      <td>ultimate</td>\n",
       "    </tr>\n",
       "  </tbody>\n",
       "</table>\n",
       "</div>"
      ],
      "text/plain": [
       "   messages_included  mb_per_month_included  minutes_included  \\\n",
       "0                 50                   15.0               500   \n",
       "1               1000                   30.0              3000   \n",
       "\n",
       "   usd_monthly_pay  usd_per_gb  usd_per_message  usd_per_minute plan_name  \n",
       "0               20          10             0.03            0.03      surf  \n",
       "1               70           7             0.01            0.01  ultimate  "
      ]
     },
     "execution_count": 5,
     "metadata": {},
     "output_type": "execute_result"
    }
   ],
   "source": [
    "plans ['mb_per_month_included'] = plans ['mb_per_month_included']/1024\n",
    "plans.head()"
   ]
  },
  {
   "cell_type": "markdown",
   "metadata": {
    "id": "LJir7bml0q03"
   },
   "source": [
    "## Enriquecer los datos"
   ]
  },
  {
   "cell_type": "markdown",
   "metadata": {
    "id": "gfcIEuXV0q04"
   },
   "source": [
    "\n",
    "<div class=\"alert alert-block alert-warning\">\n",
    "<b>Comentario Revisor</b> <a class=\"tocSkip\"></a>\n",
    "\n",
    "Muy buen trabajo, solamente te sugiero que en este apartado menciones un poco sobre la transformación que se debe realizar de megabytes a gigabytes. \n",
    "</div>"
   ]
  },
  {
   "cell_type": "markdown",
   "metadata": {},
   "source": [
    "<div class=\"alert alert-block alert-info\">\n",
    "<b>Vale, lo agrego</b> <a class=\"tocSkip\"></a>"
   ]
  },
  {
   "cell_type": "markdown",
   "metadata": {},
   "source": [
    "<div class=\"alert alert-block alert-success\">\n",
    "<b>Comentario del revisor</b> <a class=\"tocSkip\"></a>\n",
    "\n",
    "Muy buen trabajo con los ajustes!\n",
    "</div>"
   ]
  },
  {
   "cell_type": "markdown",
   "metadata": {
    "id": "1n2X6WXf0q04"
   },
   "source": [
    "## Usuarios/as"
   ]
  },
  {
   "cell_type": "code",
   "execution_count": 6,
   "metadata": {
    "id": "2NgjWFqx0q05"
   },
   "outputs": [
    {
     "name": "stdout",
     "output_type": "stream",
     "text": [
      "<class 'pandas.core.frame.DataFrame'>\n",
      "RangeIndex: 500 entries, 0 to 499\n",
      "Data columns (total 8 columns):\n",
      " #   Column      Non-Null Count  Dtype \n",
      "---  ------      --------------  ----- \n",
      " 0   user_id     500 non-null    int64 \n",
      " 1   first_name  500 non-null    object\n",
      " 2   last_name   500 non-null    object\n",
      " 3   age         500 non-null    int64 \n",
      " 4   city        500 non-null    object\n",
      " 5   reg_date    500 non-null    object\n",
      " 6   plan        500 non-null    object\n",
      " 7   churn_date  34 non-null     object\n",
      "dtypes: int64(2), object(6)\n",
      "memory usage: 31.4+ KB\n"
     ]
    }
   ],
   "source": [
    "# Imprime la información general/resumida sobre el DataFrame de usuarios\n",
    "users.info()\n"
   ]
  },
  {
   "cell_type": "code",
   "execution_count": 7,
   "metadata": {
    "id": "1IN1L9uh0q05"
   },
   "outputs": [
    {
     "data": {
      "text/html": [
       "<div>\n",
       "<style scoped>\n",
       "    .dataframe tbody tr th:only-of-type {\n",
       "        vertical-align: middle;\n",
       "    }\n",
       "\n",
       "    .dataframe tbody tr th {\n",
       "        vertical-align: top;\n",
       "    }\n",
       "\n",
       "    .dataframe thead th {\n",
       "        text-align: right;\n",
       "    }\n",
       "</style>\n",
       "<table border=\"1\" class=\"dataframe\">\n",
       "  <thead>\n",
       "    <tr style=\"text-align: right;\">\n",
       "      <th></th>\n",
       "      <th>user_id</th>\n",
       "      <th>first_name</th>\n",
       "      <th>last_name</th>\n",
       "      <th>age</th>\n",
       "      <th>city</th>\n",
       "      <th>reg_date</th>\n",
       "      <th>plan</th>\n",
       "      <th>churn_date</th>\n",
       "    </tr>\n",
       "  </thead>\n",
       "  <tbody>\n",
       "    <tr>\n",
       "      <th>367</th>\n",
       "      <td>1367</td>\n",
       "      <td>Minh</td>\n",
       "      <td>Fischer</td>\n",
       "      <td>18</td>\n",
       "      <td>Baltimore-Columbia-Towson, MD MSA</td>\n",
       "      <td>2018-07-23</td>\n",
       "      <td>surf</td>\n",
       "      <td>NaN</td>\n",
       "    </tr>\n",
       "    <tr>\n",
       "      <th>328</th>\n",
       "      <td>1328</td>\n",
       "      <td>Tamesha</td>\n",
       "      <td>Huber</td>\n",
       "      <td>20</td>\n",
       "      <td>Minneapolis-St. Paul-Bloomington, MN-WI MSA</td>\n",
       "      <td>2018-02-10</td>\n",
       "      <td>surf</td>\n",
       "      <td>NaN</td>\n",
       "    </tr>\n",
       "    <tr>\n",
       "      <th>437</th>\n",
       "      <td>1437</td>\n",
       "      <td>Louis</td>\n",
       "      <td>Neal</td>\n",
       "      <td>42</td>\n",
       "      <td>Dallas-Fort Worth-Arlington, TX MSA</td>\n",
       "      <td>2018-11-12</td>\n",
       "      <td>surf</td>\n",
       "      <td>NaN</td>\n",
       "    </tr>\n",
       "    <tr>\n",
       "      <th>157</th>\n",
       "      <td>1157</td>\n",
       "      <td>Luciano</td>\n",
       "      <td>Sheppard</td>\n",
       "      <td>63</td>\n",
       "      <td>Los Angeles-Long Beach-Anaheim, CA MSA</td>\n",
       "      <td>2018-07-02</td>\n",
       "      <td>surf</td>\n",
       "      <td>NaN</td>\n",
       "    </tr>\n",
       "    <tr>\n",
       "      <th>98</th>\n",
       "      <td>1098</td>\n",
       "      <td>Collin</td>\n",
       "      <td>Sims</td>\n",
       "      <td>33</td>\n",
       "      <td>Albany-Schenectady-Troy, NY MSA</td>\n",
       "      <td>2018-08-14</td>\n",
       "      <td>surf</td>\n",
       "      <td>NaN</td>\n",
       "    </tr>\n",
       "    <tr>\n",
       "      <th>145</th>\n",
       "      <td>1145</td>\n",
       "      <td>Venice</td>\n",
       "      <td>Brooks</td>\n",
       "      <td>29</td>\n",
       "      <td>San Jose-Sunnyvale-Santa Clara, CA MSA</td>\n",
       "      <td>2018-04-12</td>\n",
       "      <td>surf</td>\n",
       "      <td>NaN</td>\n",
       "    </tr>\n",
       "    <tr>\n",
       "      <th>172</th>\n",
       "      <td>1172</td>\n",
       "      <td>Weldon</td>\n",
       "      <td>Robinson</td>\n",
       "      <td>72</td>\n",
       "      <td>Boston-Cambridge-Newton, MA-NH MSA</td>\n",
       "      <td>2018-03-30</td>\n",
       "      <td>surf</td>\n",
       "      <td>2018-11-29</td>\n",
       "    </tr>\n",
       "    <tr>\n",
       "      <th>130</th>\n",
       "      <td>1130</td>\n",
       "      <td>Clarence</td>\n",
       "      <td>Cunningham</td>\n",
       "      <td>27</td>\n",
       "      <td>Philadelphia-Camden-Wilmington, PA-NJ-DE-MD MSA</td>\n",
       "      <td>2018-05-17</td>\n",
       "      <td>surf</td>\n",
       "      <td>NaN</td>\n",
       "    </tr>\n",
       "    <tr>\n",
       "      <th>190</th>\n",
       "      <td>1190</td>\n",
       "      <td>Troy</td>\n",
       "      <td>Hutchinson</td>\n",
       "      <td>56</td>\n",
       "      <td>Virginia Beach-Norfolk-Newport News, VA-NC MSA</td>\n",
       "      <td>2018-08-01</td>\n",
       "      <td>ultimate</td>\n",
       "      <td>NaN</td>\n",
       "    </tr>\n",
       "    <tr>\n",
       "      <th>77</th>\n",
       "      <td>1077</td>\n",
       "      <td>Chau</td>\n",
       "      <td>Webster</td>\n",
       "      <td>23</td>\n",
       "      <td>Charlotte-Concord-Gastonia, NC-SC MSA</td>\n",
       "      <td>2018-01-14</td>\n",
       "      <td>ultimate</td>\n",
       "      <td>NaN</td>\n",
       "    </tr>\n",
       "  </tbody>\n",
       "</table>\n",
       "</div>"
      ],
      "text/plain": [
       "     user_id first_name   last_name  age  \\\n",
       "367     1367       Minh     Fischer   18   \n",
       "328     1328    Tamesha       Huber   20   \n",
       "437     1437      Louis        Neal   42   \n",
       "157     1157    Luciano    Sheppard   63   \n",
       "98      1098     Collin        Sims   33   \n",
       "145     1145     Venice      Brooks   29   \n",
       "172     1172     Weldon    Robinson   72   \n",
       "130     1130   Clarence  Cunningham   27   \n",
       "190     1190       Troy  Hutchinson   56   \n",
       "77      1077       Chau     Webster   23   \n",
       "\n",
       "                                                city    reg_date      plan  \\\n",
       "367                Baltimore-Columbia-Towson, MD MSA  2018-07-23      surf   \n",
       "328      Minneapolis-St. Paul-Bloomington, MN-WI MSA  2018-02-10      surf   \n",
       "437              Dallas-Fort Worth-Arlington, TX MSA  2018-11-12      surf   \n",
       "157           Los Angeles-Long Beach-Anaheim, CA MSA  2018-07-02      surf   \n",
       "98                   Albany-Schenectady-Troy, NY MSA  2018-08-14      surf   \n",
       "145           San Jose-Sunnyvale-Santa Clara, CA MSA  2018-04-12      surf   \n",
       "172               Boston-Cambridge-Newton, MA-NH MSA  2018-03-30      surf   \n",
       "130  Philadelphia-Camden-Wilmington, PA-NJ-DE-MD MSA  2018-05-17      surf   \n",
       "190   Virginia Beach-Norfolk-Newport News, VA-NC MSA  2018-08-01  ultimate   \n",
       "77             Charlotte-Concord-Gastonia, NC-SC MSA  2018-01-14  ultimate   \n",
       "\n",
       "     churn_date  \n",
       "367         NaN  \n",
       "328         NaN  \n",
       "437         NaN  \n",
       "157         NaN  \n",
       "98          NaN  \n",
       "145         NaN  \n",
       "172  2018-11-29  \n",
       "130         NaN  \n",
       "190         NaN  \n",
       "77          NaN  "
      ]
     },
     "execution_count": 7,
     "metadata": {},
     "output_type": "execute_result"
    }
   ],
   "source": [
    "# Imprime una muestra de datos para usuarios\n",
    "users.sample(10, random_state=23454)"
   ]
  },
  {
   "cell_type": "markdown",
   "metadata": {},
   "source": [
    "Existen valores NaN y la columna 'reg_date' requiere que se le de el formato adecuado de acuerdo a la documentación."
   ]
  },
  {
   "cell_type": "markdown",
   "metadata": {
    "id": "BX5FQh_I0q06"
   },
   "source": [
    "### Corregir los datos"
   ]
  },
  {
   "cell_type": "markdown",
   "metadata": {
    "id": "8OdKMwJv0q06"
   },
   "source": [
    "Resetee la columna con la fecha y también la columna con la fecha de las bajas, para darle el formato adecuado según requerimientos y agregué un .head() para comprobar que estuviera bien."
   ]
  },
  {
   "cell_type": "code",
   "execution_count": 8,
   "metadata": {
    "id": "yUqX-K0C0q07"
   },
   "outputs": [],
   "source": [
    "users['reg_date'] = pd.to_datetime(users['reg_date'])\n",
    "\n",
    "users['reg_date'] = users['reg_date'].dt.strftime('%d-%m-%y')"
   ]
  },
  {
   "cell_type": "code",
   "execution_count": 9,
   "metadata": {},
   "outputs": [],
   "source": [
    "users['churn_date'] = pd.to_datetime(users['churn_date'])\n",
    "users['churn_date'] = users['churn_date'].dt.strftime('%d-%m-%y')"
   ]
  },
  {
   "cell_type": "code",
   "execution_count": 10,
   "metadata": {},
   "outputs": [
    {
     "data": {
      "text/html": [
       "<div>\n",
       "<style scoped>\n",
       "    .dataframe tbody tr th:only-of-type {\n",
       "        vertical-align: middle;\n",
       "    }\n",
       "\n",
       "    .dataframe tbody tr th {\n",
       "        vertical-align: top;\n",
       "    }\n",
       "\n",
       "    .dataframe thead th {\n",
       "        text-align: right;\n",
       "    }\n",
       "</style>\n",
       "<table border=\"1\" class=\"dataframe\">\n",
       "  <thead>\n",
       "    <tr style=\"text-align: right;\">\n",
       "      <th></th>\n",
       "      <th>user_id</th>\n",
       "      <th>first_name</th>\n",
       "      <th>last_name</th>\n",
       "      <th>age</th>\n",
       "      <th>city</th>\n",
       "      <th>reg_date</th>\n",
       "      <th>plan</th>\n",
       "      <th>churn_date</th>\n",
       "    </tr>\n",
       "  </thead>\n",
       "  <tbody>\n",
       "    <tr>\n",
       "      <th>0</th>\n",
       "      <td>1000</td>\n",
       "      <td>Anamaria</td>\n",
       "      <td>Bauer</td>\n",
       "      <td>45</td>\n",
       "      <td>Atlanta-Sandy Springs-Roswell, GA MSA</td>\n",
       "      <td>24-12-18</td>\n",
       "      <td>ultimate</td>\n",
       "      <td>NaN</td>\n",
       "    </tr>\n",
       "    <tr>\n",
       "      <th>1</th>\n",
       "      <td>1001</td>\n",
       "      <td>Mickey</td>\n",
       "      <td>Wilkerson</td>\n",
       "      <td>28</td>\n",
       "      <td>Seattle-Tacoma-Bellevue, WA MSA</td>\n",
       "      <td>13-08-18</td>\n",
       "      <td>surf</td>\n",
       "      <td>NaN</td>\n",
       "    </tr>\n",
       "    <tr>\n",
       "      <th>2</th>\n",
       "      <td>1002</td>\n",
       "      <td>Carlee</td>\n",
       "      <td>Hoffman</td>\n",
       "      <td>36</td>\n",
       "      <td>Las Vegas-Henderson-Paradise, NV MSA</td>\n",
       "      <td>21-10-18</td>\n",
       "      <td>surf</td>\n",
       "      <td>NaN</td>\n",
       "    </tr>\n",
       "    <tr>\n",
       "      <th>3</th>\n",
       "      <td>1003</td>\n",
       "      <td>Reynaldo</td>\n",
       "      <td>Jenkins</td>\n",
       "      <td>52</td>\n",
       "      <td>Tulsa, OK MSA</td>\n",
       "      <td>28-01-18</td>\n",
       "      <td>surf</td>\n",
       "      <td>NaN</td>\n",
       "    </tr>\n",
       "    <tr>\n",
       "      <th>4</th>\n",
       "      <td>1004</td>\n",
       "      <td>Leonila</td>\n",
       "      <td>Thompson</td>\n",
       "      <td>40</td>\n",
       "      <td>Seattle-Tacoma-Bellevue, WA MSA</td>\n",
       "      <td>23-05-18</td>\n",
       "      <td>surf</td>\n",
       "      <td>NaN</td>\n",
       "    </tr>\n",
       "    <tr>\n",
       "      <th>5</th>\n",
       "      <td>1005</td>\n",
       "      <td>Livia</td>\n",
       "      <td>Shields</td>\n",
       "      <td>31</td>\n",
       "      <td>Dallas-Fort Worth-Arlington, TX MSA</td>\n",
       "      <td>29-11-18</td>\n",
       "      <td>surf</td>\n",
       "      <td>NaN</td>\n",
       "    </tr>\n",
       "    <tr>\n",
       "      <th>6</th>\n",
       "      <td>1006</td>\n",
       "      <td>Jesusa</td>\n",
       "      <td>Bradford</td>\n",
       "      <td>73</td>\n",
       "      <td>San Francisco-Oakland-Berkeley, CA MSA</td>\n",
       "      <td>27-11-18</td>\n",
       "      <td>ultimate</td>\n",
       "      <td>18-12-18</td>\n",
       "    </tr>\n",
       "    <tr>\n",
       "      <th>7</th>\n",
       "      <td>1007</td>\n",
       "      <td>Eusebio</td>\n",
       "      <td>Welch</td>\n",
       "      <td>42</td>\n",
       "      <td>Grand Rapids-Kentwood, MI MSA</td>\n",
       "      <td>11-07-18</td>\n",
       "      <td>surf</td>\n",
       "      <td>NaN</td>\n",
       "    </tr>\n",
       "    <tr>\n",
       "      <th>8</th>\n",
       "      <td>1008</td>\n",
       "      <td>Emely</td>\n",
       "      <td>Hoffman</td>\n",
       "      <td>53</td>\n",
       "      <td>Orlando-Kissimmee-Sanford, FL MSA</td>\n",
       "      <td>03-08-18</td>\n",
       "      <td>ultimate</td>\n",
       "      <td>NaN</td>\n",
       "    </tr>\n",
       "    <tr>\n",
       "      <th>9</th>\n",
       "      <td>1009</td>\n",
       "      <td>Gerry</td>\n",
       "      <td>Little</td>\n",
       "      <td>19</td>\n",
       "      <td>San Jose-Sunnyvale-Santa Clara, CA MSA</td>\n",
       "      <td>22-04-18</td>\n",
       "      <td>surf</td>\n",
       "      <td>NaN</td>\n",
       "    </tr>\n",
       "    <tr>\n",
       "      <th>10</th>\n",
       "      <td>1010</td>\n",
       "      <td>Wilber</td>\n",
       "      <td>Blair</td>\n",
       "      <td>52</td>\n",
       "      <td>Dallas-Fort Worth-Arlington, TX MSA</td>\n",
       "      <td>09-03-18</td>\n",
       "      <td>surf</td>\n",
       "      <td>NaN</td>\n",
       "    </tr>\n",
       "    <tr>\n",
       "      <th>11</th>\n",
       "      <td>1011</td>\n",
       "      <td>Halina</td>\n",
       "      <td>Henry</td>\n",
       "      <td>73</td>\n",
       "      <td>Cleveland-Elyria, OH MSA</td>\n",
       "      <td>18-01-18</td>\n",
       "      <td>ultimate</td>\n",
       "      <td>NaN</td>\n",
       "    </tr>\n",
       "  </tbody>\n",
       "</table>\n",
       "</div>"
      ],
      "text/plain": [
       "    user_id first_name  last_name  age  \\\n",
       "0      1000   Anamaria      Bauer   45   \n",
       "1      1001     Mickey  Wilkerson   28   \n",
       "2      1002     Carlee    Hoffman   36   \n",
       "3      1003   Reynaldo    Jenkins   52   \n",
       "4      1004    Leonila   Thompson   40   \n",
       "5      1005      Livia    Shields   31   \n",
       "6      1006     Jesusa   Bradford   73   \n",
       "7      1007    Eusebio      Welch   42   \n",
       "8      1008      Emely    Hoffman   53   \n",
       "9      1009      Gerry     Little   19   \n",
       "10     1010     Wilber      Blair   52   \n",
       "11     1011     Halina      Henry   73   \n",
       "\n",
       "                                      city  reg_date      plan churn_date  \n",
       "0    Atlanta-Sandy Springs-Roswell, GA MSA  24-12-18  ultimate        NaN  \n",
       "1          Seattle-Tacoma-Bellevue, WA MSA  13-08-18      surf        NaN  \n",
       "2     Las Vegas-Henderson-Paradise, NV MSA  21-10-18      surf        NaN  \n",
       "3                            Tulsa, OK MSA  28-01-18      surf        NaN  \n",
       "4          Seattle-Tacoma-Bellevue, WA MSA  23-05-18      surf        NaN  \n",
       "5      Dallas-Fort Worth-Arlington, TX MSA  29-11-18      surf        NaN  \n",
       "6   San Francisco-Oakland-Berkeley, CA MSA  27-11-18  ultimate   18-12-18  \n",
       "7            Grand Rapids-Kentwood, MI MSA  11-07-18      surf        NaN  \n",
       "8        Orlando-Kissimmee-Sanford, FL MSA  03-08-18  ultimate        NaN  \n",
       "9   San Jose-Sunnyvale-Santa Clara, CA MSA  22-04-18      surf        NaN  \n",
       "10     Dallas-Fort Worth-Arlington, TX MSA  09-03-18      surf        NaN  \n",
       "11                Cleveland-Elyria, OH MSA  18-01-18  ultimate        NaN  "
      ]
     },
     "execution_count": 10,
     "metadata": {},
     "output_type": "execute_result"
    }
   ],
   "source": [
    "users.head(12)"
   ]
  },
  {
   "cell_type": "markdown",
   "metadata": {
    "id": "ycwuARJp0q07"
   },
   "source": [
    "### Enriquecer los datos"
   ]
  },
  {
   "cell_type": "code",
   "execution_count": 11,
   "metadata": {
    "id": "iq0AaBS90q08"
   },
   "outputs": [
    {
     "data": {
      "text/plain": [
       "0"
      ]
     },
     "execution_count": 11,
     "metadata": {},
     "output_type": "execute_result"
    }
   ],
   "source": [
    "#Veriqué que de casualidad no hubiera duplicados\n",
    "users.duplicated().sum() "
   ]
  },
  {
   "cell_type": "code",
   "execution_count": 12,
   "metadata": {},
   "outputs": [
    {
     "data": {
      "text/html": [
       "<div>\n",
       "<style scoped>\n",
       "    .dataframe tbody tr th:only-of-type {\n",
       "        vertical-align: middle;\n",
       "    }\n",
       "\n",
       "    .dataframe tbody tr th {\n",
       "        vertical-align: top;\n",
       "    }\n",
       "\n",
       "    .dataframe thead th {\n",
       "        text-align: right;\n",
       "    }\n",
       "</style>\n",
       "<table border=\"1\" class=\"dataframe\">\n",
       "  <thead>\n",
       "    <tr style=\"text-align: right;\">\n",
       "      <th></th>\n",
       "      <th>user_id</th>\n",
       "      <th>first_name</th>\n",
       "      <th>last_name</th>\n",
       "      <th>age</th>\n",
       "      <th>city</th>\n",
       "      <th>reg_date</th>\n",
       "      <th>plan</th>\n",
       "      <th>churn_date</th>\n",
       "    </tr>\n",
       "  </thead>\n",
       "  <tbody>\n",
       "    <tr>\n",
       "      <th>0</th>\n",
       "      <td>1000</td>\n",
       "      <td>Anamaria</td>\n",
       "      <td>Bauer</td>\n",
       "      <td>45</td>\n",
       "      <td>Atlanta-Sandy Springs-Roswell, GA MSA</td>\n",
       "      <td>24-12-18</td>\n",
       "      <td>ultimate</td>\n",
       "      <td>NaN</td>\n",
       "    </tr>\n",
       "    <tr>\n",
       "      <th>1</th>\n",
       "      <td>1001</td>\n",
       "      <td>Mickey</td>\n",
       "      <td>Wilkerson</td>\n",
       "      <td>28</td>\n",
       "      <td>Seattle-Tacoma-Bellevue, WA MSA</td>\n",
       "      <td>13-08-18</td>\n",
       "      <td>surf</td>\n",
       "      <td>NaN</td>\n",
       "    </tr>\n",
       "    <tr>\n",
       "      <th>2</th>\n",
       "      <td>1002</td>\n",
       "      <td>Carlee</td>\n",
       "      <td>Hoffman</td>\n",
       "      <td>36</td>\n",
       "      <td>Las Vegas-Henderson-Paradise, NV MSA</td>\n",
       "      <td>21-10-18</td>\n",
       "      <td>surf</td>\n",
       "      <td>NaN</td>\n",
       "    </tr>\n",
       "    <tr>\n",
       "      <th>3</th>\n",
       "      <td>1003</td>\n",
       "      <td>Reynaldo</td>\n",
       "      <td>Jenkins</td>\n",
       "      <td>52</td>\n",
       "      <td>Tulsa, OK MSA</td>\n",
       "      <td>28-01-18</td>\n",
       "      <td>surf</td>\n",
       "      <td>NaN</td>\n",
       "    </tr>\n",
       "    <tr>\n",
       "      <th>4</th>\n",
       "      <td>1004</td>\n",
       "      <td>Leonila</td>\n",
       "      <td>Thompson</td>\n",
       "      <td>40</td>\n",
       "      <td>Seattle-Tacoma-Bellevue, WA MSA</td>\n",
       "      <td>23-05-18</td>\n",
       "      <td>surf</td>\n",
       "      <td>NaN</td>\n",
       "    </tr>\n",
       "    <tr>\n",
       "      <th>...</th>\n",
       "      <td>...</td>\n",
       "      <td>...</td>\n",
       "      <td>...</td>\n",
       "      <td>...</td>\n",
       "      <td>...</td>\n",
       "      <td>...</td>\n",
       "      <td>...</td>\n",
       "      <td>...</td>\n",
       "    </tr>\n",
       "    <tr>\n",
       "      <th>495</th>\n",
       "      <td>1495</td>\n",
       "      <td>Fidel</td>\n",
       "      <td>Sharpe</td>\n",
       "      <td>67</td>\n",
       "      <td>New York-Newark-Jersey City, NY-NJ-PA MSA</td>\n",
       "      <td>04-09-18</td>\n",
       "      <td>surf</td>\n",
       "      <td>NaN</td>\n",
       "    </tr>\n",
       "    <tr>\n",
       "      <th>496</th>\n",
       "      <td>1496</td>\n",
       "      <td>Ariel</td>\n",
       "      <td>Shepherd</td>\n",
       "      <td>49</td>\n",
       "      <td>New Orleans-Metairie, LA MSA</td>\n",
       "      <td>20-02-18</td>\n",
       "      <td>surf</td>\n",
       "      <td>NaN</td>\n",
       "    </tr>\n",
       "    <tr>\n",
       "      <th>497</th>\n",
       "      <td>1497</td>\n",
       "      <td>Donte</td>\n",
       "      <td>Barrera</td>\n",
       "      <td>49</td>\n",
       "      <td>Los Angeles-Long Beach-Anaheim, CA MSA</td>\n",
       "      <td>10-12-18</td>\n",
       "      <td>ultimate</td>\n",
       "      <td>NaN</td>\n",
       "    </tr>\n",
       "    <tr>\n",
       "      <th>498</th>\n",
       "      <td>1498</td>\n",
       "      <td>Scot</td>\n",
       "      <td>Williamson</td>\n",
       "      <td>51</td>\n",
       "      <td>New York-Newark-Jersey City, NY-NJ-PA MSA</td>\n",
       "      <td>04-02-18</td>\n",
       "      <td>surf</td>\n",
       "      <td>NaN</td>\n",
       "    </tr>\n",
       "    <tr>\n",
       "      <th>499</th>\n",
       "      <td>1499</td>\n",
       "      <td>Shena</td>\n",
       "      <td>Dickson</td>\n",
       "      <td>37</td>\n",
       "      <td>Orlando-Kissimmee-Sanford, FL MSA</td>\n",
       "      <td>06-05-18</td>\n",
       "      <td>surf</td>\n",
       "      <td>NaN</td>\n",
       "    </tr>\n",
       "  </tbody>\n",
       "</table>\n",
       "<p>466 rows × 8 columns</p>\n",
       "</div>"
      ],
      "text/plain": [
       "     user_id first_name   last_name  age  \\\n",
       "0       1000   Anamaria       Bauer   45   \n",
       "1       1001     Mickey   Wilkerson   28   \n",
       "2       1002     Carlee     Hoffman   36   \n",
       "3       1003   Reynaldo     Jenkins   52   \n",
       "4       1004    Leonila    Thompson   40   \n",
       "..       ...        ...         ...  ...   \n",
       "495     1495      Fidel      Sharpe   67   \n",
       "496     1496      Ariel    Shepherd   49   \n",
       "497     1497      Donte     Barrera   49   \n",
       "498     1498       Scot  Williamson   51   \n",
       "499     1499      Shena     Dickson   37   \n",
       "\n",
       "                                          city  reg_date      plan churn_date  \n",
       "0        Atlanta-Sandy Springs-Roswell, GA MSA  24-12-18  ultimate        NaN  \n",
       "1              Seattle-Tacoma-Bellevue, WA MSA  13-08-18      surf        NaN  \n",
       "2         Las Vegas-Henderson-Paradise, NV MSA  21-10-18      surf        NaN  \n",
       "3                                Tulsa, OK MSA  28-01-18      surf        NaN  \n",
       "4              Seattle-Tacoma-Bellevue, WA MSA  23-05-18      surf        NaN  \n",
       "..                                         ...       ...       ...        ...  \n",
       "495  New York-Newark-Jersey City, NY-NJ-PA MSA  04-09-18      surf        NaN  \n",
       "496               New Orleans-Metairie, LA MSA  20-02-18      surf        NaN  \n",
       "497     Los Angeles-Long Beach-Anaheim, CA MSA  10-12-18  ultimate        NaN  \n",
       "498  New York-Newark-Jersey City, NY-NJ-PA MSA  04-02-18      surf        NaN  \n",
       "499          Orlando-Kissimmee-Sanford, FL MSA  06-05-18      surf        NaN  \n",
       "\n",
       "[466 rows x 8 columns]"
      ]
     },
     "execution_count": 12,
     "metadata": {},
     "output_type": "execute_result"
    }
   ],
   "source": [
    "#Verificar los datos ausentes \n",
    "users[users['churn_date'].isna()]"
   ]
  },
  {
   "cell_type": "code",
   "execution_count": 13,
   "metadata": {},
   "outputs": [],
   "source": [
    "#Rellenar los datos ausentes.\n",
    "users['churn_date'] = users['churn_date'].fillna('in_use') "
   ]
  },
  {
   "cell_type": "code",
   "execution_count": 14,
   "metadata": {},
   "outputs": [
    {
     "data": {
      "text/html": [
       "<div>\n",
       "<style scoped>\n",
       "    .dataframe tbody tr th:only-of-type {\n",
       "        vertical-align: middle;\n",
       "    }\n",
       "\n",
       "    .dataframe tbody tr th {\n",
       "        vertical-align: top;\n",
       "    }\n",
       "\n",
       "    .dataframe thead th {\n",
       "        text-align: right;\n",
       "    }\n",
       "</style>\n",
       "<table border=\"1\" class=\"dataframe\">\n",
       "  <thead>\n",
       "    <tr style=\"text-align: right;\">\n",
       "      <th></th>\n",
       "      <th>user_id</th>\n",
       "      <th>first_name</th>\n",
       "      <th>last_name</th>\n",
       "      <th>age</th>\n",
       "      <th>city</th>\n",
       "      <th>reg_date</th>\n",
       "      <th>plan</th>\n",
       "      <th>churn_date</th>\n",
       "    </tr>\n",
       "  </thead>\n",
       "  <tbody>\n",
       "    <tr>\n",
       "      <th>0</th>\n",
       "      <td>1000</td>\n",
       "      <td>Anamaria</td>\n",
       "      <td>Bauer</td>\n",
       "      <td>45</td>\n",
       "      <td>Atlanta-Sandy Springs-Roswell, GA MSA</td>\n",
       "      <td>24-12-18</td>\n",
       "      <td>ultimate</td>\n",
       "      <td>in_use</td>\n",
       "    </tr>\n",
       "    <tr>\n",
       "      <th>1</th>\n",
       "      <td>1001</td>\n",
       "      <td>Mickey</td>\n",
       "      <td>Wilkerson</td>\n",
       "      <td>28</td>\n",
       "      <td>Seattle-Tacoma-Bellevue, WA MSA</td>\n",
       "      <td>13-08-18</td>\n",
       "      <td>surf</td>\n",
       "      <td>in_use</td>\n",
       "    </tr>\n",
       "    <tr>\n",
       "      <th>2</th>\n",
       "      <td>1002</td>\n",
       "      <td>Carlee</td>\n",
       "      <td>Hoffman</td>\n",
       "      <td>36</td>\n",
       "      <td>Las Vegas-Henderson-Paradise, NV MSA</td>\n",
       "      <td>21-10-18</td>\n",
       "      <td>surf</td>\n",
       "      <td>in_use</td>\n",
       "    </tr>\n",
       "    <tr>\n",
       "      <th>3</th>\n",
       "      <td>1003</td>\n",
       "      <td>Reynaldo</td>\n",
       "      <td>Jenkins</td>\n",
       "      <td>52</td>\n",
       "      <td>Tulsa, OK MSA</td>\n",
       "      <td>28-01-18</td>\n",
       "      <td>surf</td>\n",
       "      <td>in_use</td>\n",
       "    </tr>\n",
       "    <tr>\n",
       "      <th>4</th>\n",
       "      <td>1004</td>\n",
       "      <td>Leonila</td>\n",
       "      <td>Thompson</td>\n",
       "      <td>40</td>\n",
       "      <td>Seattle-Tacoma-Bellevue, WA MSA</td>\n",
       "      <td>23-05-18</td>\n",
       "      <td>surf</td>\n",
       "      <td>in_use</td>\n",
       "    </tr>\n",
       "    <tr>\n",
       "      <th>5</th>\n",
       "      <td>1005</td>\n",
       "      <td>Livia</td>\n",
       "      <td>Shields</td>\n",
       "      <td>31</td>\n",
       "      <td>Dallas-Fort Worth-Arlington, TX MSA</td>\n",
       "      <td>29-11-18</td>\n",
       "      <td>surf</td>\n",
       "      <td>in_use</td>\n",
       "    </tr>\n",
       "    <tr>\n",
       "      <th>6</th>\n",
       "      <td>1006</td>\n",
       "      <td>Jesusa</td>\n",
       "      <td>Bradford</td>\n",
       "      <td>73</td>\n",
       "      <td>San Francisco-Oakland-Berkeley, CA MSA</td>\n",
       "      <td>27-11-18</td>\n",
       "      <td>ultimate</td>\n",
       "      <td>18-12-18</td>\n",
       "    </tr>\n",
       "    <tr>\n",
       "      <th>7</th>\n",
       "      <td>1007</td>\n",
       "      <td>Eusebio</td>\n",
       "      <td>Welch</td>\n",
       "      <td>42</td>\n",
       "      <td>Grand Rapids-Kentwood, MI MSA</td>\n",
       "      <td>11-07-18</td>\n",
       "      <td>surf</td>\n",
       "      <td>in_use</td>\n",
       "    </tr>\n",
       "    <tr>\n",
       "      <th>8</th>\n",
       "      <td>1008</td>\n",
       "      <td>Emely</td>\n",
       "      <td>Hoffman</td>\n",
       "      <td>53</td>\n",
       "      <td>Orlando-Kissimmee-Sanford, FL MSA</td>\n",
       "      <td>03-08-18</td>\n",
       "      <td>ultimate</td>\n",
       "      <td>in_use</td>\n",
       "    </tr>\n",
       "    <tr>\n",
       "      <th>9</th>\n",
       "      <td>1009</td>\n",
       "      <td>Gerry</td>\n",
       "      <td>Little</td>\n",
       "      <td>19</td>\n",
       "      <td>San Jose-Sunnyvale-Santa Clara, CA MSA</td>\n",
       "      <td>22-04-18</td>\n",
       "      <td>surf</td>\n",
       "      <td>in_use</td>\n",
       "    </tr>\n",
       "    <tr>\n",
       "      <th>10</th>\n",
       "      <td>1010</td>\n",
       "      <td>Wilber</td>\n",
       "      <td>Blair</td>\n",
       "      <td>52</td>\n",
       "      <td>Dallas-Fort Worth-Arlington, TX MSA</td>\n",
       "      <td>09-03-18</td>\n",
       "      <td>surf</td>\n",
       "      <td>in_use</td>\n",
       "    </tr>\n",
       "    <tr>\n",
       "      <th>11</th>\n",
       "      <td>1011</td>\n",
       "      <td>Halina</td>\n",
       "      <td>Henry</td>\n",
       "      <td>73</td>\n",
       "      <td>Cleveland-Elyria, OH MSA</td>\n",
       "      <td>18-01-18</td>\n",
       "      <td>ultimate</td>\n",
       "      <td>in_use</td>\n",
       "    </tr>\n",
       "  </tbody>\n",
       "</table>\n",
       "</div>"
      ],
      "text/plain": [
       "    user_id first_name  last_name  age  \\\n",
       "0      1000   Anamaria      Bauer   45   \n",
       "1      1001     Mickey  Wilkerson   28   \n",
       "2      1002     Carlee    Hoffman   36   \n",
       "3      1003   Reynaldo    Jenkins   52   \n",
       "4      1004    Leonila   Thompson   40   \n",
       "5      1005      Livia    Shields   31   \n",
       "6      1006     Jesusa   Bradford   73   \n",
       "7      1007    Eusebio      Welch   42   \n",
       "8      1008      Emely    Hoffman   53   \n",
       "9      1009      Gerry     Little   19   \n",
       "10     1010     Wilber      Blair   52   \n",
       "11     1011     Halina      Henry   73   \n",
       "\n",
       "                                      city  reg_date      plan churn_date  \n",
       "0    Atlanta-Sandy Springs-Roswell, GA MSA  24-12-18  ultimate     in_use  \n",
       "1          Seattle-Tacoma-Bellevue, WA MSA  13-08-18      surf     in_use  \n",
       "2     Las Vegas-Henderson-Paradise, NV MSA  21-10-18      surf     in_use  \n",
       "3                            Tulsa, OK MSA  28-01-18      surf     in_use  \n",
       "4          Seattle-Tacoma-Bellevue, WA MSA  23-05-18      surf     in_use  \n",
       "5      Dallas-Fort Worth-Arlington, TX MSA  29-11-18      surf     in_use  \n",
       "6   San Francisco-Oakland-Berkeley, CA MSA  27-11-18  ultimate   18-12-18  \n",
       "7            Grand Rapids-Kentwood, MI MSA  11-07-18      surf     in_use  \n",
       "8        Orlando-Kissimmee-Sanford, FL MSA  03-08-18  ultimate     in_use  \n",
       "9   San Jose-Sunnyvale-Santa Clara, CA MSA  22-04-18      surf     in_use  \n",
       "10     Dallas-Fort Worth-Arlington, TX MSA  09-03-18      surf     in_use  \n",
       "11                Cleveland-Elyria, OH MSA  18-01-18  ultimate     in_use  "
      ]
     },
     "execution_count": 14,
     "metadata": {},
     "output_type": "execute_result"
    }
   ],
   "source": [
    "users.head(12)"
   ]
  },
  {
   "cell_type": "markdown",
   "metadata": {},
   "source": [
    "Verifiqué que no hubiera filas duplicadas y rellené con una etiqueta de 'in_use' para que fuera reconocible qué estaba pasando con esa línea."
   ]
  },
  {
   "cell_type": "markdown",
   "metadata": {
    "id": "o7MeKCid0q08"
   },
   "source": [
    "## Llamadas"
   ]
  },
  {
   "cell_type": "code",
   "execution_count": 15,
   "metadata": {
    "id": "6dDlnoDm0q08"
   },
   "outputs": [
    {
     "name": "stdout",
     "output_type": "stream",
     "text": [
      "<class 'pandas.core.frame.DataFrame'>\n",
      "RangeIndex: 137735 entries, 0 to 137734\n",
      "Data columns (total 4 columns):\n",
      " #   Column     Non-Null Count   Dtype  \n",
      "---  ------     --------------   -----  \n",
      " 0   id         137735 non-null  object \n",
      " 1   user_id    137735 non-null  int64  \n",
      " 2   call_date  137735 non-null  object \n",
      " 3   duration   137735 non-null  float64\n",
      "dtypes: float64(1), int64(1), object(2)\n",
      "memory usage: 4.2+ MB\n"
     ]
    }
   ],
   "source": [
    "# Imprime la información general/resumida sobre el DataFrame de las llamadas\n",
    "calls.info()"
   ]
  },
  {
   "cell_type": "code",
   "execution_count": 16,
   "metadata": {
    "id": "kuh1vlNB0q09"
   },
   "outputs": [
    {
     "data": {
      "text/html": [
       "<div>\n",
       "<style scoped>\n",
       "    .dataframe tbody tr th:only-of-type {\n",
       "        vertical-align: middle;\n",
       "    }\n",
       "\n",
       "    .dataframe tbody tr th {\n",
       "        vertical-align: top;\n",
       "    }\n",
       "\n",
       "    .dataframe thead th {\n",
       "        text-align: right;\n",
       "    }\n",
       "</style>\n",
       "<table border=\"1\" class=\"dataframe\">\n",
       "  <thead>\n",
       "    <tr style=\"text-align: right;\">\n",
       "      <th></th>\n",
       "      <th>id</th>\n",
       "      <th>user_id</th>\n",
       "      <th>call_date</th>\n",
       "      <th>duration</th>\n",
       "    </tr>\n",
       "  </thead>\n",
       "  <tbody>\n",
       "    <tr>\n",
       "      <th>137058</th>\n",
       "      <td>1497_423</td>\n",
       "      <td>1497</td>\n",
       "      <td>2018-12-21</td>\n",
       "      <td>4.51</td>\n",
       "    </tr>\n",
       "    <tr>\n",
       "      <th>131014</th>\n",
       "      <td>1470_463</td>\n",
       "      <td>1470</td>\n",
       "      <td>2018-12-24</td>\n",
       "      <td>8.76</td>\n",
       "    </tr>\n",
       "    <tr>\n",
       "      <th>37138</th>\n",
       "      <td>1140_422</td>\n",
       "      <td>1140</td>\n",
       "      <td>2018-09-21</td>\n",
       "      <td>4.72</td>\n",
       "    </tr>\n",
       "    <tr>\n",
       "      <th>88220</th>\n",
       "      <td>1324_268</td>\n",
       "      <td>1324</td>\n",
       "      <td>2018-04-28</td>\n",
       "      <td>6.60</td>\n",
       "    </tr>\n",
       "    <tr>\n",
       "      <th>133936</th>\n",
       "      <td>1487_45</td>\n",
       "      <td>1487</td>\n",
       "      <td>2018-12-24</td>\n",
       "      <td>0.00</td>\n",
       "    </tr>\n",
       "    <tr>\n",
       "      <th>21372</th>\n",
       "      <td>1079_85</td>\n",
       "      <td>1079</td>\n",
       "      <td>2018-10-01</td>\n",
       "      <td>6.01</td>\n",
       "    </tr>\n",
       "    <tr>\n",
       "      <th>11851</th>\n",
       "      <td>1052_70</td>\n",
       "      <td>1052</td>\n",
       "      <td>2018-12-06</td>\n",
       "      <td>3.45</td>\n",
       "    </tr>\n",
       "    <tr>\n",
       "      <th>91105</th>\n",
       "      <td>1328_735</td>\n",
       "      <td>1328</td>\n",
       "      <td>2018-07-17</td>\n",
       "      <td>4.70</td>\n",
       "    </tr>\n",
       "    <tr>\n",
       "      <th>124532</th>\n",
       "      <td>1440_48</td>\n",
       "      <td>1440</td>\n",
       "      <td>2018-11-01</td>\n",
       "      <td>6.77</td>\n",
       "    </tr>\n",
       "    <tr>\n",
       "      <th>107190</th>\n",
       "      <td>1380_388</td>\n",
       "      <td>1380</td>\n",
       "      <td>2018-11-12</td>\n",
       "      <td>14.76</td>\n",
       "    </tr>\n",
       "  </tbody>\n",
       "</table>\n",
       "</div>"
      ],
      "text/plain": [
       "              id  user_id   call_date  duration\n",
       "137058  1497_423     1497  2018-12-21      4.51\n",
       "131014  1470_463     1470  2018-12-24      8.76\n",
       "37138   1140_422     1140  2018-09-21      4.72\n",
       "88220   1324_268     1324  2018-04-28      6.60\n",
       "133936   1487_45     1487  2018-12-24      0.00\n",
       "21372    1079_85     1079  2018-10-01      6.01\n",
       "11851    1052_70     1052  2018-12-06      3.45\n",
       "91105   1328_735     1328  2018-07-17      4.70\n",
       "124532   1440_48     1440  2018-11-01      6.77\n",
       "107190  1380_388     1380  2018-11-12     14.76"
      ]
     },
     "execution_count": 16,
     "metadata": {},
     "output_type": "execute_result"
    }
   ],
   "source": [
    "# Imprime una muestra de datos para las llamadas\n",
    "calls.sample(10, random_state=23454)"
   ]
  },
  {
   "cell_type": "markdown",
   "metadata": {
    "id": "DOAxYJSx0q09"
   },
   "source": [
    "Tenemos un DF que contiene todos sus datos llenos, 'id' para que el proceso de datos sea más eficiente, requiero quitar el '_' y convertirlo a 'int64'. Eso sí, por generalizar la info cambiaré la fecha para estandarizarla con la DF de 'users'."
   ]
  },
  {
   "cell_type": "markdown",
   "metadata": {
    "id": "S7hzxmbX0q0-"
   },
   "source": [
    "### Corregir los datos"
   ]
  },
  {
   "cell_type": "code",
   "execution_count": 17,
   "metadata": {
    "id": "S2r8xA4f0q0-"
   },
   "outputs": [],
   "source": [
    "#Estandarización de fecha\n",
    "calls['call_date'] = pd.to_datetime(calls['call_date'])"
   ]
  },
  {
   "cell_type": "markdown",
   "metadata": {
    "id": "KrMgTrlG0q0_"
   },
   "source": [
    "### Enriquecer los datos"
   ]
  },
  {
   "cell_type": "code",
   "execution_count": 18,
   "metadata": {},
   "outputs": [],
   "source": [
    "#Conversión de datos de 'id'\n",
    "calls['id'] = calls['id'].str.replace('_','')\n",
    "calls['id'] = calls['id'].astype('int')"
   ]
  },
  {
   "cell_type": "code",
   "execution_count": 19,
   "metadata": {},
   "outputs": [
    {
     "data": {
      "text/plain": [
       "id                    int64\n",
       "user_id               int64\n",
       "call_date    datetime64[ns]\n",
       "duration            float64\n",
       "dtype: object"
      ]
     },
     "execution_count": 19,
     "metadata": {},
     "output_type": "execute_result"
    }
   ],
   "source": [
    "calls.dtypes"
   ]
  },
  {
   "cell_type": "code",
   "execution_count": 20,
   "metadata": {
    "id": "a9MbmEvE0q0_"
   },
   "outputs": [
    {
     "data": {
      "text/plain": [
       "0"
      ]
     },
     "execution_count": 20,
     "metadata": {},
     "output_type": "execute_result"
    }
   ],
   "source": [
    "#Verificar que no haya duplicados\n",
    "calls.duplicated().sum()"
   ]
  },
  {
   "cell_type": "markdown",
   "metadata": {},
   "source": [
    "<div class=\"alert alert-block alert-warning\">\n",
    "<b>Comentario Revisor</b> <a class=\"tocSkip\"></a>\n",
    "\n",
    "Qué podríamos decir hasta el momento de las llamadas que tienen una duración de 0?\n",
    "</div>"
   ]
  },
  {
   "cell_type": "markdown",
   "metadata": {},
   "source": [
    "<div class=\"alert alert-block alert-info\">\n",
    "<b>Se podría inferir que la llamada se efectuó, se fue directamente al buzón de llamadas, fallas en la red o algún problema tal vez más relacionado con el usuario más que con Megaline</b> <a class=\"tocSkip\"></a>"
   ]
  },
  {
   "cell_type": "markdown",
   "metadata": {},
   "source": [
    "<div class=\"alert alert-block alert-success\">\n",
    "<b>Comentario del revisor</b> <a class=\"tocSkip\"></a>\n",
    "\n",
    "Muy buen trabajo con los ajustes!\n",
    "</div>"
   ]
  },
  {
   "cell_type": "markdown",
   "metadata": {
    "id": "mOUZSi180q0_"
   },
   "source": [
    "## Mensajes"
   ]
  },
  {
   "cell_type": "code",
   "execution_count": 21,
   "metadata": {
    "id": "R-bYJpdV0q1A"
   },
   "outputs": [
    {
     "name": "stdout",
     "output_type": "stream",
     "text": [
      "<class 'pandas.core.frame.DataFrame'>\n",
      "RangeIndex: 76051 entries, 0 to 76050\n",
      "Data columns (total 3 columns):\n",
      " #   Column        Non-Null Count  Dtype \n",
      "---  ------        --------------  ----- \n",
      " 0   id            76051 non-null  object\n",
      " 1   user_id       76051 non-null  int64 \n",
      " 2   message_date  76051 non-null  object\n",
      "dtypes: int64(1), object(2)\n",
      "memory usage: 1.7+ MB\n"
     ]
    }
   ],
   "source": [
    "# Imprime la información general/resumida sobre el DataFrame de los mensajes\n",
    "messages.info()\n"
   ]
  },
  {
   "cell_type": "code",
   "execution_count": 22,
   "metadata": {
    "id": "mCEl2iGE0q1A"
   },
   "outputs": [
    {
     "data": {
      "text/html": [
       "<div>\n",
       "<style scoped>\n",
       "    .dataframe tbody tr th:only-of-type {\n",
       "        vertical-align: middle;\n",
       "    }\n",
       "\n",
       "    .dataframe tbody tr th {\n",
       "        vertical-align: top;\n",
       "    }\n",
       "\n",
       "    .dataframe thead th {\n",
       "        text-align: right;\n",
       "    }\n",
       "</style>\n",
       "<table border=\"1\" class=\"dataframe\">\n",
       "  <thead>\n",
       "    <tr style=\"text-align: right;\">\n",
       "      <th></th>\n",
       "      <th>id</th>\n",
       "      <th>user_id</th>\n",
       "      <th>message_date</th>\n",
       "    </tr>\n",
       "  </thead>\n",
       "  <tbody>\n",
       "    <tr>\n",
       "      <th>7491</th>\n",
       "      <td>1059_373</td>\n",
       "      <td>1059</td>\n",
       "      <td>2018-07-23</td>\n",
       "    </tr>\n",
       "    <tr>\n",
       "      <th>49900</th>\n",
       "      <td>1328_858</td>\n",
       "      <td>1328</td>\n",
       "      <td>2018-05-22</td>\n",
       "    </tr>\n",
       "    <tr>\n",
       "      <th>56125</th>\n",
       "      <td>1355_140</td>\n",
       "      <td>1355</td>\n",
       "      <td>2018-11-14</td>\n",
       "    </tr>\n",
       "    <tr>\n",
       "      <th>18894</th>\n",
       "      <td>1122_123</td>\n",
       "      <td>1122</td>\n",
       "      <td>2018-06-08</td>\n",
       "    </tr>\n",
       "    <tr>\n",
       "      <th>24561</th>\n",
       "      <td>1145_416</td>\n",
       "      <td>1145</td>\n",
       "      <td>2018-10-18</td>\n",
       "    </tr>\n",
       "    <tr>\n",
       "      <th>45543</th>\n",
       "      <td>1312_27</td>\n",
       "      <td>1312</td>\n",
       "      <td>2018-06-25</td>\n",
       "    </tr>\n",
       "    <tr>\n",
       "      <th>22896</th>\n",
       "      <td>1137_288</td>\n",
       "      <td>1137</td>\n",
       "      <td>2018-12-13</td>\n",
       "    </tr>\n",
       "    <tr>\n",
       "      <th>18485</th>\n",
       "      <td>1120_300</td>\n",
       "      <td>1120</td>\n",
       "      <td>2018-12-05</td>\n",
       "    </tr>\n",
       "    <tr>\n",
       "      <th>22706</th>\n",
       "      <td>1136_90</td>\n",
       "      <td>1136</td>\n",
       "      <td>2018-12-06</td>\n",
       "    </tr>\n",
       "    <tr>\n",
       "      <th>13328</th>\n",
       "      <td>1088_321</td>\n",
       "      <td>1088</td>\n",
       "      <td>2018-05-29</td>\n",
       "    </tr>\n",
       "  </tbody>\n",
       "</table>\n",
       "</div>"
      ],
      "text/plain": [
       "             id  user_id message_date\n",
       "7491   1059_373     1059   2018-07-23\n",
       "49900  1328_858     1328   2018-05-22\n",
       "56125  1355_140     1355   2018-11-14\n",
       "18894  1122_123     1122   2018-06-08\n",
       "24561  1145_416     1145   2018-10-18\n",
       "45543   1312_27     1312   2018-06-25\n",
       "22896  1137_288     1137   2018-12-13\n",
       "18485  1120_300     1120   2018-12-05\n",
       "22706   1136_90     1136   2018-12-06\n",
       "13328  1088_321     1088   2018-05-29"
      ]
     },
     "execution_count": 22,
     "metadata": {},
     "output_type": "execute_result"
    }
   ],
   "source": [
    "# Imprime una muestra de datos para los mensajes\n",
    "messages.sample(10, random_state=34564)\n"
   ]
  },
  {
   "cell_type": "markdown",
   "metadata": {
    "id": "04xDj7KH0q1A"
   },
   "source": [
    "Considero que los tipos de datos corresponden a los datos que se manejan, solo hay que estandarizar la fecha."
   ]
  },
  {
   "cell_type": "markdown",
   "metadata": {
    "id": "Sprfak900q1B"
   },
   "source": [
    "### Corregir los datos"
   ]
  },
  {
   "cell_type": "code",
   "execution_count": 23,
   "metadata": {
    "id": "vsllvkoa0q1B"
   },
   "outputs": [],
   "source": [
    "messages['message_date'] = pd.to_datetime (messages['message_date'])"
   ]
  },
  {
   "cell_type": "markdown",
   "metadata": {},
   "source": [
    "En este caso solo hace falta darle el formato 'to_datetime' a la columna, ya que se modificará más tarde"
   ]
  },
  {
   "cell_type": "markdown",
   "metadata": {
    "id": "HvLid7iD0q1B"
   },
   "source": [
    "### Enriquecer los datos"
   ]
  },
  {
   "cell_type": "code",
   "execution_count": 24,
   "metadata": {},
   "outputs": [
    {
     "data": {
      "text/plain": [
       "id                       int64\n",
       "user_id                  int64\n",
       "message_date    datetime64[ns]\n",
       "dtype: object"
      ]
     },
     "execution_count": 24,
     "metadata": {},
     "output_type": "execute_result"
    }
   ],
   "source": [
    "#Conversión de datos de 'id'\n",
    "messages['id'] = messages['id'].str.replace('_','')\n",
    "messages['id'] =messages['id'].astype(int)\n",
    "messages.dtypes"
   ]
  },
  {
   "cell_type": "code",
   "execution_count": 25,
   "metadata": {},
   "outputs": [
    {
     "data": {
      "text/html": [
       "<div>\n",
       "<style scoped>\n",
       "    .dataframe tbody tr th:only-of-type {\n",
       "        vertical-align: middle;\n",
       "    }\n",
       "\n",
       "    .dataframe tbody tr th {\n",
       "        vertical-align: top;\n",
       "    }\n",
       "\n",
       "    .dataframe thead th {\n",
       "        text-align: right;\n",
       "    }\n",
       "</style>\n",
       "<table border=\"1\" class=\"dataframe\">\n",
       "  <thead>\n",
       "    <tr style=\"text-align: right;\">\n",
       "      <th></th>\n",
       "      <th>id</th>\n",
       "      <th>user_id</th>\n",
       "      <th>message_date</th>\n",
       "    </tr>\n",
       "  </thead>\n",
       "  <tbody>\n",
       "    <tr>\n",
       "      <th>54878</th>\n",
       "      <td>1346387</td>\n",
       "      <td>1346</td>\n",
       "      <td>2018-06-03</td>\n",
       "    </tr>\n",
       "    <tr>\n",
       "      <th>2592</th>\n",
       "      <td>1028515</td>\n",
       "      <td>1028</td>\n",
       "      <td>2018-08-12</td>\n",
       "    </tr>\n",
       "    <tr>\n",
       "      <th>43686</th>\n",
       "      <td>129058</td>\n",
       "      <td>1290</td>\n",
       "      <td>2018-11-27</td>\n",
       "    </tr>\n",
       "    <tr>\n",
       "      <th>67572</th>\n",
       "      <td>1438138</td>\n",
       "      <td>1438</td>\n",
       "      <td>2018-12-26</td>\n",
       "    </tr>\n",
       "    <tr>\n",
       "      <th>32863</th>\n",
       "      <td>120458</td>\n",
       "      <td>1204</td>\n",
       "      <td>2018-12-04</td>\n",
       "    </tr>\n",
       "    <tr>\n",
       "      <th>60472</th>\n",
       "      <td>1381585</td>\n",
       "      <td>1381</td>\n",
       "      <td>2018-12-25</td>\n",
       "    </tr>\n",
       "    <tr>\n",
       "      <th>55918</th>\n",
       "      <td>135451</td>\n",
       "      <td>1354</td>\n",
       "      <td>2018-10-29</td>\n",
       "    </tr>\n",
       "    <tr>\n",
       "      <th>42130</th>\n",
       "      <td>127225</td>\n",
       "      <td>1272</td>\n",
       "      <td>2018-12-19</td>\n",
       "    </tr>\n",
       "    <tr>\n",
       "      <th>64799</th>\n",
       "      <td>141415</td>\n",
       "      <td>1414</td>\n",
       "      <td>2018-12-13</td>\n",
       "    </tr>\n",
       "    <tr>\n",
       "      <th>15375</th>\n",
       "      <td>1101432</td>\n",
       "      <td>1101</td>\n",
       "      <td>2018-08-01</td>\n",
       "    </tr>\n",
       "  </tbody>\n",
       "</table>\n",
       "</div>"
      ],
      "text/plain": [
       "            id  user_id message_date\n",
       "54878  1346387     1346   2018-06-03\n",
       "2592   1028515     1028   2018-08-12\n",
       "43686   129058     1290   2018-11-27\n",
       "67572  1438138     1438   2018-12-26\n",
       "32863   120458     1204   2018-12-04\n",
       "60472  1381585     1381   2018-12-25\n",
       "55918   135451     1354   2018-10-29\n",
       "42130   127225     1272   2018-12-19\n",
       "64799   141415     1414   2018-12-13\n",
       "15375  1101432     1101   2018-08-01"
      ]
     },
     "execution_count": 25,
     "metadata": {},
     "output_type": "execute_result"
    }
   ],
   "source": [
    "messages.sample(10,random_state=3456)"
   ]
  },
  {
   "cell_type": "code",
   "execution_count": 26,
   "metadata": {
    "id": "8nhPFKIe0q1C"
   },
   "outputs": [
    {
     "data": {
      "text/plain": [
       "0"
      ]
     },
     "execution_count": 26,
     "metadata": {},
     "output_type": "execute_result"
    }
   ],
   "source": [
    "#Verificar que no haya duplicados\n",
    "messages.duplicated().sum()"
   ]
  },
  {
   "cell_type": "markdown",
   "metadata": {
    "id": "bStkaxn40q1C"
   },
   "source": [
    "## Internet"
   ]
  },
  {
   "cell_type": "code",
   "execution_count": 27,
   "metadata": {
    "id": "e-Uz5qyn0q1C"
   },
   "outputs": [
    {
     "name": "stdout",
     "output_type": "stream",
     "text": [
      "<class 'pandas.core.frame.DataFrame'>\n",
      "RangeIndex: 104825 entries, 0 to 104824\n",
      "Data columns (total 4 columns):\n",
      " #   Column        Non-Null Count   Dtype  \n",
      "---  ------        --------------   -----  \n",
      " 0   id            104825 non-null  object \n",
      " 1   user_id       104825 non-null  int64  \n",
      " 2   session_date  104825 non-null  object \n",
      " 3   mb_used       104825 non-null  float64\n",
      "dtypes: float64(1), int64(1), object(2)\n",
      "memory usage: 3.2+ MB\n"
     ]
    }
   ],
   "source": [
    "# Imprime la información general/resumida sobre el DataFrame de internet\n",
    "internet.info()\n"
   ]
  },
  {
   "cell_type": "code",
   "execution_count": 28,
   "metadata": {
    "id": "9r3x_XLw0q1C"
   },
   "outputs": [
    {
     "data": {
      "text/html": [
       "<div>\n",
       "<style scoped>\n",
       "    .dataframe tbody tr th:only-of-type {\n",
       "        vertical-align: middle;\n",
       "    }\n",
       "\n",
       "    .dataframe tbody tr th {\n",
       "        vertical-align: top;\n",
       "    }\n",
       "\n",
       "    .dataframe thead th {\n",
       "        text-align: right;\n",
       "    }\n",
       "</style>\n",
       "<table border=\"1\" class=\"dataframe\">\n",
       "  <thead>\n",
       "    <tr style=\"text-align: right;\">\n",
       "      <th></th>\n",
       "      <th>id</th>\n",
       "      <th>user_id</th>\n",
       "      <th>session_date</th>\n",
       "      <th>mb_used</th>\n",
       "    </tr>\n",
       "  </thead>\n",
       "  <tbody>\n",
       "    <tr>\n",
       "      <th>39529</th>\n",
       "      <td>1178_58</td>\n",
       "      <td>1178</td>\n",
       "      <td>2018-12-05</td>\n",
       "      <td>1043.00</td>\n",
       "    </tr>\n",
       "    <tr>\n",
       "      <th>59803</th>\n",
       "      <td>1268_472</td>\n",
       "      <td>1268</td>\n",
       "      <td>2018-10-01</td>\n",
       "      <td>347.03</td>\n",
       "    </tr>\n",
       "    <tr>\n",
       "      <th>67627</th>\n",
       "      <td>1313_301</td>\n",
       "      <td>1313</td>\n",
       "      <td>2018-09-29</td>\n",
       "      <td>236.62</td>\n",
       "    </tr>\n",
       "    <tr>\n",
       "      <th>28390</th>\n",
       "      <td>1130_175</td>\n",
       "      <td>1130</td>\n",
       "      <td>2018-10-02</td>\n",
       "      <td>134.93</td>\n",
       "    </tr>\n",
       "    <tr>\n",
       "      <th>68928</th>\n",
       "      <td>1321_402</td>\n",
       "      <td>1321</td>\n",
       "      <td>2018-12-22</td>\n",
       "      <td>539.08</td>\n",
       "    </tr>\n",
       "    <tr>\n",
       "      <th>32784</th>\n",
       "      <td>1147_431</td>\n",
       "      <td>1147</td>\n",
       "      <td>2018-06-18</td>\n",
       "      <td>767.27</td>\n",
       "    </tr>\n",
       "    <tr>\n",
       "      <th>19671</th>\n",
       "      <td>1088_515</td>\n",
       "      <td>1088</td>\n",
       "      <td>2018-09-20</td>\n",
       "      <td>553.54</td>\n",
       "    </tr>\n",
       "    <tr>\n",
       "      <th>18676</th>\n",
       "      <td>1083_247</td>\n",
       "      <td>1083</td>\n",
       "      <td>2018-12-01</td>\n",
       "      <td>136.08</td>\n",
       "    </tr>\n",
       "    <tr>\n",
       "      <th>69636</th>\n",
       "      <td>1325_38</td>\n",
       "      <td>1325</td>\n",
       "      <td>2018-12-02</td>\n",
       "      <td>670.48</td>\n",
       "    </tr>\n",
       "    <tr>\n",
       "      <th>66660</th>\n",
       "      <td>1311_425</td>\n",
       "      <td>1311</td>\n",
       "      <td>2018-10-25</td>\n",
       "      <td>284.40</td>\n",
       "    </tr>\n",
       "  </tbody>\n",
       "</table>\n",
       "</div>"
      ],
      "text/plain": [
       "             id  user_id session_date  mb_used\n",
       "39529   1178_58     1178   2018-12-05  1043.00\n",
       "59803  1268_472     1268   2018-10-01   347.03\n",
       "67627  1313_301     1313   2018-09-29   236.62\n",
       "28390  1130_175     1130   2018-10-02   134.93\n",
       "68928  1321_402     1321   2018-12-22   539.08\n",
       "32784  1147_431     1147   2018-06-18   767.27\n",
       "19671  1088_515     1088   2018-09-20   553.54\n",
       "18676  1083_247     1083   2018-12-01   136.08\n",
       "69636   1325_38     1325   2018-12-02   670.48\n",
       "66660  1311_425     1311   2018-10-25   284.40"
      ]
     },
     "execution_count": 28,
     "metadata": {},
     "output_type": "execute_result"
    }
   ],
   "source": [
    "# Imprime una muestra de datos para el tráfico de internet\n",
    "internet.sample(10, random_state=435)\n"
   ]
  },
  {
   "cell_type": "markdown",
   "metadata": {},
   "source": [
    "No hay datos nulos, se debe estandarizar la fecha en el DF y se deben de convertir los datos de 'id'. "
   ]
  },
  {
   "cell_type": "markdown",
   "metadata": {
    "id": "yA0tkPFg0q1D"
   },
   "source": [
    "### Corregir los datos"
   ]
  },
  {
   "cell_type": "markdown",
   "metadata": {
    "id": "zlZMuIEK0q1D"
   },
   "source": [
    "[Corrige los problemas obvios con los datos basándote en las observaciones iniciales.]"
   ]
  },
  {
   "cell_type": "code",
   "execution_count": 29,
   "metadata": {
    "id": "zVeanzdd0q1E"
   },
   "outputs": [
    {
     "data": {
      "text/html": [
       "<div>\n",
       "<style scoped>\n",
       "    .dataframe tbody tr th:only-of-type {\n",
       "        vertical-align: middle;\n",
       "    }\n",
       "\n",
       "    .dataframe tbody tr th {\n",
       "        vertical-align: top;\n",
       "    }\n",
       "\n",
       "    .dataframe thead th {\n",
       "        text-align: right;\n",
       "    }\n",
       "</style>\n",
       "<table border=\"1\" class=\"dataframe\">\n",
       "  <thead>\n",
       "    <tr style=\"text-align: right;\">\n",
       "      <th></th>\n",
       "      <th>id</th>\n",
       "      <th>user_id</th>\n",
       "      <th>session_date</th>\n",
       "      <th>mb_used</th>\n",
       "    </tr>\n",
       "  </thead>\n",
       "  <tbody>\n",
       "    <tr>\n",
       "      <th>0</th>\n",
       "      <td>1000_13</td>\n",
       "      <td>1000</td>\n",
       "      <td>2018-12-29</td>\n",
       "      <td>89.86</td>\n",
       "    </tr>\n",
       "    <tr>\n",
       "      <th>1</th>\n",
       "      <td>1000_204</td>\n",
       "      <td>1000</td>\n",
       "      <td>2018-12-31</td>\n",
       "      <td>0.00</td>\n",
       "    </tr>\n",
       "    <tr>\n",
       "      <th>2</th>\n",
       "      <td>1000_379</td>\n",
       "      <td>1000</td>\n",
       "      <td>2018-12-28</td>\n",
       "      <td>660.40</td>\n",
       "    </tr>\n",
       "    <tr>\n",
       "      <th>3</th>\n",
       "      <td>1000_413</td>\n",
       "      <td>1000</td>\n",
       "      <td>2018-12-26</td>\n",
       "      <td>270.99</td>\n",
       "    </tr>\n",
       "    <tr>\n",
       "      <th>4</th>\n",
       "      <td>1000_442</td>\n",
       "      <td>1000</td>\n",
       "      <td>2018-12-27</td>\n",
       "      <td>880.22</td>\n",
       "    </tr>\n",
       "  </tbody>\n",
       "</table>\n",
       "</div>"
      ],
      "text/plain": [
       "         id  user_id session_date  mb_used\n",
       "0   1000_13     1000   2018-12-29    89.86\n",
       "1  1000_204     1000   2018-12-31     0.00\n",
       "2  1000_379     1000   2018-12-28   660.40\n",
       "3  1000_413     1000   2018-12-26   270.99\n",
       "4  1000_442     1000   2018-12-27   880.22"
      ]
     },
     "execution_count": 29,
     "metadata": {},
     "output_type": "execute_result"
    }
   ],
   "source": [
    "internet ['session_date'] = pd.to_datetime(internet ['session_date'])\n",
    "internet.head()"
   ]
  },
  {
   "cell_type": "markdown",
   "metadata": {
    "id": "e8_mLF4a0q1E"
   },
   "source": [
    "### Enriquecer los datos"
   ]
  },
  {
   "cell_type": "code",
   "execution_count": 30,
   "metadata": {},
   "outputs": [
    {
     "data": {
      "text/plain": [
       "id                       int64\n",
       "user_id                  int64\n",
       "session_date    datetime64[ns]\n",
       "mb_used                float64\n",
       "dtype: object"
      ]
     },
     "execution_count": 30,
     "metadata": {},
     "output_type": "execute_result"
    }
   ],
   "source": [
    "#Conversión de columna 'id'\n",
    "internet['id'] = internet['id'].str.replace('_','')\n",
    "internet['id'] = internet['id'].astype(int)\n",
    "internet.dtypes"
   ]
  },
  {
   "cell_type": "code",
   "execution_count": 31,
   "metadata": {},
   "outputs": [
    {
     "data": {
      "text/html": [
       "<div>\n",
       "<style scoped>\n",
       "    .dataframe tbody tr th:only-of-type {\n",
       "        vertical-align: middle;\n",
       "    }\n",
       "\n",
       "    .dataframe tbody tr th {\n",
       "        vertical-align: top;\n",
       "    }\n",
       "\n",
       "    .dataframe thead th {\n",
       "        text-align: right;\n",
       "    }\n",
       "</style>\n",
       "<table border=\"1\" class=\"dataframe\">\n",
       "  <thead>\n",
       "    <tr style=\"text-align: right;\">\n",
       "      <th></th>\n",
       "      <th>id</th>\n",
       "      <th>user_id</th>\n",
       "      <th>session_date</th>\n",
       "      <th>mb_used</th>\n",
       "    </tr>\n",
       "  </thead>\n",
       "  <tbody>\n",
       "    <tr>\n",
       "      <th>83135</th>\n",
       "      <td>138833</td>\n",
       "      <td>1388</td>\n",
       "      <td>2018-12-20</td>\n",
       "      <td>328.38</td>\n",
       "    </tr>\n",
       "    <tr>\n",
       "      <th>26651</th>\n",
       "      <td>1123146</td>\n",
       "      <td>1123</td>\n",
       "      <td>2018-07-10</td>\n",
       "      <td>336.37</td>\n",
       "    </tr>\n",
       "    <tr>\n",
       "      <th>88936</th>\n",
       "      <td>1409305</td>\n",
       "      <td>1409</td>\n",
       "      <td>2018-11-13</td>\n",
       "      <td>430.28</td>\n",
       "    </tr>\n",
       "    <tr>\n",
       "      <th>32337</th>\n",
       "      <td>1146299</td>\n",
       "      <td>1146</td>\n",
       "      <td>2018-11-26</td>\n",
       "      <td>208.69</td>\n",
       "    </tr>\n",
       "    <tr>\n",
       "      <th>21155</th>\n",
       "      <td>1098193</td>\n",
       "      <td>1098</td>\n",
       "      <td>2018-12-06</td>\n",
       "      <td>266.70</td>\n",
       "    </tr>\n",
       "    <tr>\n",
       "      <th>23069</th>\n",
       "      <td>1106338</td>\n",
       "      <td>1106</td>\n",
       "      <td>2018-07-30</td>\n",
       "      <td>162.97</td>\n",
       "    </tr>\n",
       "    <tr>\n",
       "      <th>69326</th>\n",
       "      <td>132440</td>\n",
       "      <td>1324</td>\n",
       "      <td>2018-05-16</td>\n",
       "      <td>149.19</td>\n",
       "    </tr>\n",
       "  </tbody>\n",
       "</table>\n",
       "</div>"
      ],
      "text/plain": [
       "            id  user_id session_date  mb_used\n",
       "83135   138833     1388   2018-12-20   328.38\n",
       "26651  1123146     1123   2018-07-10   336.37\n",
       "88936  1409305     1409   2018-11-13   430.28\n",
       "32337  1146299     1146   2018-11-26   208.69\n",
       "21155  1098193     1098   2018-12-06   266.70\n",
       "23069  1106338     1106   2018-07-30   162.97\n",
       "69326   132440     1324   2018-05-16   149.19"
      ]
     },
     "execution_count": 31,
     "metadata": {},
     "output_type": "execute_result"
    }
   ],
   "source": [
    "internet.sample(7,random_state=4565)"
   ]
  },
  {
   "cell_type": "code",
   "execution_count": 32,
   "metadata": {
    "id": "xhNdn2tE0q1E"
   },
   "outputs": [
    {
     "data": {
      "text/plain": [
       "0"
      ]
     },
     "execution_count": 32,
     "metadata": {},
     "output_type": "execute_result"
    }
   ],
   "source": [
    "#Verificar que no haya duplicados \n",
    "internet.duplicated().sum()"
   ]
  },
  {
   "cell_type": "code",
   "execution_count": 33,
   "metadata": {},
   "outputs": [
    {
     "data": {
      "text/html": [
       "<div>\n",
       "<style scoped>\n",
       "    .dataframe tbody tr th:only-of-type {\n",
       "        vertical-align: middle;\n",
       "    }\n",
       "\n",
       "    .dataframe tbody tr th {\n",
       "        vertical-align: top;\n",
       "    }\n",
       "\n",
       "    .dataframe thead th {\n",
       "        text-align: right;\n",
       "    }\n",
       "</style>\n",
       "<table border=\"1\" class=\"dataframe\">\n",
       "  <thead>\n",
       "    <tr style=\"text-align: right;\">\n",
       "      <th></th>\n",
       "      <th>id</th>\n",
       "      <th>user_id</th>\n",
       "      <th>session_date</th>\n",
       "      <th>mb_used</th>\n",
       "    </tr>\n",
       "  </thead>\n",
       "  <tbody>\n",
       "    <tr>\n",
       "      <th>0</th>\n",
       "      <td>100013</td>\n",
       "      <td>1000</td>\n",
       "      <td>2018-12-29</td>\n",
       "      <td>0.087754</td>\n",
       "    </tr>\n",
       "    <tr>\n",
       "      <th>1</th>\n",
       "      <td>1000204</td>\n",
       "      <td>1000</td>\n",
       "      <td>2018-12-31</td>\n",
       "      <td>0.000000</td>\n",
       "    </tr>\n",
       "    <tr>\n",
       "      <th>2</th>\n",
       "      <td>1000379</td>\n",
       "      <td>1000</td>\n",
       "      <td>2018-12-28</td>\n",
       "      <td>0.644922</td>\n",
       "    </tr>\n",
       "    <tr>\n",
       "      <th>3</th>\n",
       "      <td>1000413</td>\n",
       "      <td>1000</td>\n",
       "      <td>2018-12-26</td>\n",
       "      <td>0.264639</td>\n",
       "    </tr>\n",
       "    <tr>\n",
       "      <th>4</th>\n",
       "      <td>1000442</td>\n",
       "      <td>1000</td>\n",
       "      <td>2018-12-27</td>\n",
       "      <td>0.859590</td>\n",
       "    </tr>\n",
       "  </tbody>\n",
       "</table>\n",
       "</div>"
      ],
      "text/plain": [
       "        id  user_id session_date   mb_used\n",
       "0   100013     1000   2018-12-29  0.087754\n",
       "1  1000204     1000   2018-12-31  0.000000\n",
       "2  1000379     1000   2018-12-28  0.644922\n",
       "3  1000413     1000   2018-12-26  0.264639\n",
       "4  1000442     1000   2018-12-27  0.859590"
      ]
     },
     "execution_count": 33,
     "metadata": {},
     "output_type": "execute_result"
    }
   ],
   "source": [
    "internet['mb_used'] = internet['mb_used']/1024\n",
    "internet.head()"
   ]
  },
  {
   "cell_type": "markdown",
   "metadata": {},
   "source": [
    "<div class=\"alert alert-block alert-warning\">\n",
    "<b>Comentario revisor</b> <a class=\"tocSkip\"></a>\n",
    "\n",
    "\n",
    "Te recomiendo solamente comentar que cuando agrupemos los datos vamos a tener que redondear hacia arriba lo valores de la transformación de mbegabyter a gigabyte, para este ejercicio debemos hacer el redondeo superior dado que se cobra el costo extra en cuanto se pasa de los límites.Por lo que es necesario hacer la transformación de mb a gb y después hacer el redondeo.  \n",
    "</div>"
   ]
  },
  {
   "cell_type": "markdown",
   "metadata": {},
   "source": [
    "<div class=\"alert alert-block alert-info\">\n",
    "<b>Vale, lo entiendo, igual el redondeo lo hice en la función que tengo más abajo para poder realizar el cálculo correctamente </b> <a class=\"tocSkip\"></a>"
   ]
  },
  {
   "cell_type": "markdown",
   "metadata": {},
   "source": [
    "<div class=\"alert alert-block alert-success\">\n",
    "<b>Comentario del revisor</b> <a class=\"tocSkip\"></a>\n",
    "\n",
    "Muy buen trabajo con los ajustes!\n",
    "</div>"
   ]
  },
  {
   "cell_type": "markdown",
   "metadata": {
    "id": "3UA2cqIW0q1E"
   },
   "source": [
    "## Estudiar las condiciones de las tarifas"
   ]
  },
  {
   "cell_type": "code",
   "execution_count": 34,
   "metadata": {
    "id": "i409op8p0q1F"
   },
   "outputs": [
    {
     "data": {
      "text/html": [
       "<div>\n",
       "<style scoped>\n",
       "    .dataframe tbody tr th:only-of-type {\n",
       "        vertical-align: middle;\n",
       "    }\n",
       "\n",
       "    .dataframe tbody tr th {\n",
       "        vertical-align: top;\n",
       "    }\n",
       "\n",
       "    .dataframe thead th {\n",
       "        text-align: right;\n",
       "    }\n",
       "</style>\n",
       "<table border=\"1\" class=\"dataframe\">\n",
       "  <thead>\n",
       "    <tr style=\"text-align: right;\">\n",
       "      <th></th>\n",
       "      <th>messages_included</th>\n",
       "      <th>mb_per_month_included</th>\n",
       "      <th>minutes_included</th>\n",
       "      <th>usd_monthly_pay</th>\n",
       "      <th>usd_per_gb</th>\n",
       "      <th>usd_per_message</th>\n",
       "      <th>usd_per_minute</th>\n",
       "      <th>plan_name</th>\n",
       "    </tr>\n",
       "  </thead>\n",
       "  <tbody>\n",
       "    <tr>\n",
       "      <th>0</th>\n",
       "      <td>50</td>\n",
       "      <td>15.0</td>\n",
       "      <td>500</td>\n",
       "      <td>20</td>\n",
       "      <td>10</td>\n",
       "      <td>0.03</td>\n",
       "      <td>0.03</td>\n",
       "      <td>surf</td>\n",
       "    </tr>\n",
       "    <tr>\n",
       "      <th>1</th>\n",
       "      <td>1000</td>\n",
       "      <td>30.0</td>\n",
       "      <td>3000</td>\n",
       "      <td>70</td>\n",
       "      <td>7</td>\n",
       "      <td>0.01</td>\n",
       "      <td>0.01</td>\n",
       "      <td>ultimate</td>\n",
       "    </tr>\n",
       "  </tbody>\n",
       "</table>\n",
       "</div>"
      ],
      "text/plain": [
       "   messages_included  mb_per_month_included  minutes_included  \\\n",
       "0                 50                   15.0               500   \n",
       "1               1000                   30.0              3000   \n",
       "\n",
       "   usd_monthly_pay  usd_per_gb  usd_per_message  usd_per_minute plan_name  \n",
       "0               20          10             0.03            0.03      surf  \n",
       "1               70           7             0.01            0.01  ultimate  "
      ]
     },
     "execution_count": 34,
     "metadata": {},
     "output_type": "execute_result"
    }
   ],
   "source": [
    "# Imprime las condiciones de la tarifa y asegúrate de que te quedan claras\n",
    "plans.head()\n"
   ]
  },
  {
   "cell_type": "markdown",
   "metadata": {
    "id": "hMR1tP5d0q1F"
   },
   "source": [
    "## Agregar datos por usuario\n"
   ]
  },
  {
   "cell_type": "code",
   "execution_count": 35,
   "metadata": {
    "id": "A332cedB0q1G"
   },
   "outputs": [
    {
     "data": {
      "text/html": [
       "<div>\n",
       "<style scoped>\n",
       "    .dataframe tbody tr th:only-of-type {\n",
       "        vertical-align: middle;\n",
       "    }\n",
       "\n",
       "    .dataframe tbody tr th {\n",
       "        vertical-align: top;\n",
       "    }\n",
       "\n",
       "    .dataframe thead th {\n",
       "        text-align: right;\n",
       "    }\n",
       "</style>\n",
       "<table border=\"1\" class=\"dataframe\">\n",
       "  <thead>\n",
       "    <tr style=\"text-align: right;\">\n",
       "      <th></th>\n",
       "      <th>user_id</th>\n",
       "      <th>month_year</th>\n",
       "      <th>num_calls</th>\n",
       "    </tr>\n",
       "  </thead>\n",
       "  <tbody>\n",
       "    <tr>\n",
       "      <th>0</th>\n",
       "      <td>1000</td>\n",
       "      <td>2018-12</td>\n",
       "      <td>16</td>\n",
       "    </tr>\n",
       "    <tr>\n",
       "      <th>1</th>\n",
       "      <td>1001</td>\n",
       "      <td>2018-08</td>\n",
       "      <td>27</td>\n",
       "    </tr>\n",
       "    <tr>\n",
       "      <th>2</th>\n",
       "      <td>1001</td>\n",
       "      <td>2018-09</td>\n",
       "      <td>49</td>\n",
       "    </tr>\n",
       "    <tr>\n",
       "      <th>3</th>\n",
       "      <td>1001</td>\n",
       "      <td>2018-10</td>\n",
       "      <td>65</td>\n",
       "    </tr>\n",
       "    <tr>\n",
       "      <th>4</th>\n",
       "      <td>1001</td>\n",
       "      <td>2018-11</td>\n",
       "      <td>64</td>\n",
       "    </tr>\n",
       "    <tr>\n",
       "      <th>...</th>\n",
       "      <td>...</td>\n",
       "      <td>...</td>\n",
       "      <td>...</td>\n",
       "    </tr>\n",
       "    <tr>\n",
       "      <th>2253</th>\n",
       "      <td>1498</td>\n",
       "      <td>2018-12</td>\n",
       "      <td>39</td>\n",
       "    </tr>\n",
       "    <tr>\n",
       "      <th>2254</th>\n",
       "      <td>1499</td>\n",
       "      <td>2018-09</td>\n",
       "      <td>41</td>\n",
       "    </tr>\n",
       "    <tr>\n",
       "      <th>2255</th>\n",
       "      <td>1499</td>\n",
       "      <td>2018-10</td>\n",
       "      <td>53</td>\n",
       "    </tr>\n",
       "    <tr>\n",
       "      <th>2256</th>\n",
       "      <td>1499</td>\n",
       "      <td>2018-11</td>\n",
       "      <td>45</td>\n",
       "    </tr>\n",
       "    <tr>\n",
       "      <th>2257</th>\n",
       "      <td>1499</td>\n",
       "      <td>2018-12</td>\n",
       "      <td>65</td>\n",
       "    </tr>\n",
       "  </tbody>\n",
       "</table>\n",
       "<p>2258 rows × 3 columns</p>\n",
       "</div>"
      ],
      "text/plain": [
       "      user_id month_year  num_calls\n",
       "0        1000    2018-12         16\n",
       "1        1001    2018-08         27\n",
       "2        1001    2018-09         49\n",
       "3        1001    2018-10         65\n",
       "4        1001    2018-11         64\n",
       "...       ...        ...        ...\n",
       "2253     1498    2018-12         39\n",
       "2254     1499    2018-09         41\n",
       "2255     1499    2018-10         53\n",
       "2256     1499    2018-11         45\n",
       "2257     1499    2018-12         65\n",
       "\n",
       "[2258 rows x 3 columns]"
      ]
     },
     "execution_count": 35,
     "metadata": {},
     "output_type": "execute_result"
    }
   ],
   "source": [
    "# Calcula el número de llamadas hechas por cada usuario al mes. Guarda el resultado.\n",
    "calls['call_date'] = pd.to_datetime(calls['call_date'])\n",
    "calls['month_year'] = calls['call_date'].dt.to_period('M')\n",
    "\n",
    "#Nuevo DF \n",
    "calls_per_month = calls.groupby(['user_id','month_year']).size().reset_index(name='num_calls')\n",
    "calls_per_month"
   ]
  },
  {
   "cell_type": "markdown",
   "metadata": {},
   "source": [
    "\n",
    "<div class=\"alert alert-block alert-warning\">\n",
    "\n",
    "<b>Comentario revisor</b> <a class=\"tocSkip\"></a>\n",
    "\n",
    "Si bien es correcta la forma de agrupar para sacar la duración de las llamadas por cada ususario, para proximas ocasiones puedes hacer uso de la siguiente forma:\n",
    "    \n",
    "    pivot_calls = calls.pivot_table(index=['user_id', 'month'],\n",
    "                                values=['duration'],\n",
    "                                aggfunc=['sum','count']).reset_index()\n",
    "\n",
    "</div>\n",
    "\n"
   ]
  },
  {
   "cell_type": "markdown",
   "metadata": {},
   "source": [
    "<div class=\"alert alert-block alert-info\">\n",
    "<b>Gracias!! La verdad no se me había ocurrido esa opción!</b> <a class=\"tocSkip\"></a>"
   ]
  },
  {
   "cell_type": "code",
   "execution_count": 36,
   "metadata": {},
   "outputs": [
    {
     "data": {
      "text/html": [
       "<div>\n",
       "<style scoped>\n",
       "    .dataframe tbody tr th:only-of-type {\n",
       "        vertical-align: middle;\n",
       "    }\n",
       "\n",
       "    .dataframe tbody tr th {\n",
       "        vertical-align: top;\n",
       "    }\n",
       "\n",
       "    .dataframe thead th {\n",
       "        text-align: right;\n",
       "    }\n",
       "</style>\n",
       "<table border=\"1\" class=\"dataframe\">\n",
       "  <thead>\n",
       "    <tr style=\"text-align: right;\">\n",
       "      <th></th>\n",
       "      <th>id</th>\n",
       "      <th>user_id</th>\n",
       "      <th>call_date</th>\n",
       "      <th>duration</th>\n",
       "      <th>month_year</th>\n",
       "    </tr>\n",
       "  </thead>\n",
       "  <tbody>\n",
       "    <tr>\n",
       "      <th>0</th>\n",
       "      <td>100093</td>\n",
       "      <td>1000</td>\n",
       "      <td>2018-12-27</td>\n",
       "      <td>8.52</td>\n",
       "      <td>2018-12</td>\n",
       "    </tr>\n",
       "    <tr>\n",
       "      <th>1</th>\n",
       "      <td>1000145</td>\n",
       "      <td>1000</td>\n",
       "      <td>2018-12-27</td>\n",
       "      <td>13.66</td>\n",
       "      <td>2018-12</td>\n",
       "    </tr>\n",
       "    <tr>\n",
       "      <th>2</th>\n",
       "      <td>1000247</td>\n",
       "      <td>1000</td>\n",
       "      <td>2018-12-27</td>\n",
       "      <td>14.48</td>\n",
       "      <td>2018-12</td>\n",
       "    </tr>\n",
       "    <tr>\n",
       "      <th>3</th>\n",
       "      <td>1000309</td>\n",
       "      <td>1000</td>\n",
       "      <td>2018-12-28</td>\n",
       "      <td>5.76</td>\n",
       "      <td>2018-12</td>\n",
       "    </tr>\n",
       "    <tr>\n",
       "      <th>4</th>\n",
       "      <td>1000380</td>\n",
       "      <td>1000</td>\n",
       "      <td>2018-12-30</td>\n",
       "      <td>4.22</td>\n",
       "      <td>2018-12</td>\n",
       "    </tr>\n",
       "    <tr>\n",
       "      <th>...</th>\n",
       "      <td>...</td>\n",
       "      <td>...</td>\n",
       "      <td>...</td>\n",
       "      <td>...</td>\n",
       "      <td>...</td>\n",
       "    </tr>\n",
       "    <tr>\n",
       "      <th>137730</th>\n",
       "      <td>1499199</td>\n",
       "      <td>1499</td>\n",
       "      <td>2018-11-21</td>\n",
       "      <td>8.72</td>\n",
       "      <td>2018-11</td>\n",
       "    </tr>\n",
       "    <tr>\n",
       "      <th>137731</th>\n",
       "      <td>1499200</td>\n",
       "      <td>1499</td>\n",
       "      <td>2018-10-20</td>\n",
       "      <td>10.89</td>\n",
       "      <td>2018-10</td>\n",
       "    </tr>\n",
       "    <tr>\n",
       "      <th>137732</th>\n",
       "      <td>1499201</td>\n",
       "      <td>1499</td>\n",
       "      <td>2018-09-21</td>\n",
       "      <td>8.12</td>\n",
       "      <td>2018-09</td>\n",
       "    </tr>\n",
       "    <tr>\n",
       "      <th>137733</th>\n",
       "      <td>1499202</td>\n",
       "      <td>1499</td>\n",
       "      <td>2018-10-10</td>\n",
       "      <td>0.37</td>\n",
       "      <td>2018-10</td>\n",
       "    </tr>\n",
       "    <tr>\n",
       "      <th>137734</th>\n",
       "      <td>1499203</td>\n",
       "      <td>1499</td>\n",
       "      <td>2018-12-29</td>\n",
       "      <td>13.86</td>\n",
       "      <td>2018-12</td>\n",
       "    </tr>\n",
       "  </tbody>\n",
       "</table>\n",
       "<p>137735 rows × 5 columns</p>\n",
       "</div>"
      ],
      "text/plain": [
       "             id  user_id  call_date  duration month_year\n",
       "0        100093     1000 2018-12-27      8.52    2018-12\n",
       "1       1000145     1000 2018-12-27     13.66    2018-12\n",
       "2       1000247     1000 2018-12-27     14.48    2018-12\n",
       "3       1000309     1000 2018-12-28      5.76    2018-12\n",
       "4       1000380     1000 2018-12-30      4.22    2018-12\n",
       "...         ...      ...        ...       ...        ...\n",
       "137730  1499199     1499 2018-11-21      8.72    2018-11\n",
       "137731  1499200     1499 2018-10-20     10.89    2018-10\n",
       "137732  1499201     1499 2018-09-21      8.12    2018-09\n",
       "137733  1499202     1499 2018-10-10      0.37    2018-10\n",
       "137734  1499203     1499 2018-12-29     13.86    2018-12\n",
       "\n",
       "[137735 rows x 5 columns]"
      ]
     },
     "execution_count": 36,
     "metadata": {},
     "output_type": "execute_result"
    }
   ],
   "source": [
    "#Verificación de la columna nueva en DF calls\n",
    "calls"
   ]
  },
  {
   "cell_type": "code",
   "execution_count": 37,
   "metadata": {
    "id": "aw2cmuql0q1G"
   },
   "outputs": [
    {
     "data": {
      "text/html": [
       "<div>\n",
       "<style scoped>\n",
       "    .dataframe tbody tr th:only-of-type {\n",
       "        vertical-align: middle;\n",
       "    }\n",
       "\n",
       "    .dataframe tbody tr th {\n",
       "        vertical-align: top;\n",
       "    }\n",
       "\n",
       "    .dataframe thead th {\n",
       "        text-align: right;\n",
       "    }\n",
       "</style>\n",
       "<table border=\"1\" class=\"dataframe\">\n",
       "  <thead>\n",
       "    <tr style=\"text-align: right;\">\n",
       "      <th></th>\n",
       "      <th>user_id</th>\n",
       "      <th>month_year</th>\n",
       "      <th>min_per_user</th>\n",
       "    </tr>\n",
       "  </thead>\n",
       "  <tbody>\n",
       "    <tr>\n",
       "      <th>0</th>\n",
       "      <td>1000</td>\n",
       "      <td>2018-12</td>\n",
       "      <td>116.83</td>\n",
       "    </tr>\n",
       "    <tr>\n",
       "      <th>1</th>\n",
       "      <td>1001</td>\n",
       "      <td>2018-08</td>\n",
       "      <td>171.14</td>\n",
       "    </tr>\n",
       "    <tr>\n",
       "      <th>2</th>\n",
       "      <td>1001</td>\n",
       "      <td>2018-09</td>\n",
       "      <td>297.69</td>\n",
       "    </tr>\n",
       "    <tr>\n",
       "      <th>3</th>\n",
       "      <td>1001</td>\n",
       "      <td>2018-10</td>\n",
       "      <td>374.11</td>\n",
       "    </tr>\n",
       "    <tr>\n",
       "      <th>4</th>\n",
       "      <td>1001</td>\n",
       "      <td>2018-11</td>\n",
       "      <td>404.59</td>\n",
       "    </tr>\n",
       "    <tr>\n",
       "      <th>...</th>\n",
       "      <td>...</td>\n",
       "      <td>...</td>\n",
       "      <td>...</td>\n",
       "    </tr>\n",
       "    <tr>\n",
       "      <th>2253</th>\n",
       "      <td>1498</td>\n",
       "      <td>2018-12</td>\n",
       "      <td>324.77</td>\n",
       "    </tr>\n",
       "    <tr>\n",
       "      <th>2254</th>\n",
       "      <td>1499</td>\n",
       "      <td>2018-09</td>\n",
       "      <td>330.37</td>\n",
       "    </tr>\n",
       "    <tr>\n",
       "      <th>2255</th>\n",
       "      <td>1499</td>\n",
       "      <td>2018-10</td>\n",
       "      <td>363.28</td>\n",
       "    </tr>\n",
       "    <tr>\n",
       "      <th>2256</th>\n",
       "      <td>1499</td>\n",
       "      <td>2018-11</td>\n",
       "      <td>288.56</td>\n",
       "    </tr>\n",
       "    <tr>\n",
       "      <th>2257</th>\n",
       "      <td>1499</td>\n",
       "      <td>2018-12</td>\n",
       "      <td>468.10</td>\n",
       "    </tr>\n",
       "  </tbody>\n",
       "</table>\n",
       "<p>2258 rows × 3 columns</p>\n",
       "</div>"
      ],
      "text/plain": [
       "      user_id month_year  min_per_user\n",
       "0        1000    2018-12        116.83\n",
       "1        1001    2018-08        171.14\n",
       "2        1001    2018-09        297.69\n",
       "3        1001    2018-10        374.11\n",
       "4        1001    2018-11        404.59\n",
       "...       ...        ...           ...\n",
       "2253     1498    2018-12        324.77\n",
       "2254     1499    2018-09        330.37\n",
       "2255     1499    2018-10        363.28\n",
       "2256     1499    2018-11        288.56\n",
       "2257     1499    2018-12        468.10\n",
       "\n",
       "[2258 rows x 3 columns]"
      ]
     },
     "execution_count": 37,
     "metadata": {},
     "output_type": "execute_result"
    }
   ],
   "source": [
    "# Calcula la cantidad de minutos usados por cada usuario al mes. Guarda el resultado.\n",
    "#Nuevo DF \n",
    "min_month = calls.groupby(['user_id','month_year'])['duration'].sum().reset_index(name='min_per_user')\n",
    "min_month"
   ]
  },
  {
   "cell_type": "code",
   "execution_count": 38,
   "metadata": {
    "id": "CcQvNHn60q1G"
   },
   "outputs": [
    {
     "data": {
      "text/html": [
       "<div>\n",
       "<style scoped>\n",
       "    .dataframe tbody tr th:only-of-type {\n",
       "        vertical-align: middle;\n",
       "    }\n",
       "\n",
       "    .dataframe tbody tr th {\n",
       "        vertical-align: top;\n",
       "    }\n",
       "\n",
       "    .dataframe thead th {\n",
       "        text-align: right;\n",
       "    }\n",
       "</style>\n",
       "<table border=\"1\" class=\"dataframe\">\n",
       "  <thead>\n",
       "    <tr style=\"text-align: right;\">\n",
       "      <th></th>\n",
       "      <th>user_id</th>\n",
       "      <th>month_year</th>\n",
       "      <th>msj_per_user</th>\n",
       "    </tr>\n",
       "  </thead>\n",
       "  <tbody>\n",
       "    <tr>\n",
       "      <th>0</th>\n",
       "      <td>1000</td>\n",
       "      <td>2018-12</td>\n",
       "      <td>11</td>\n",
       "    </tr>\n",
       "    <tr>\n",
       "      <th>1</th>\n",
       "      <td>1001</td>\n",
       "      <td>2018-08</td>\n",
       "      <td>30</td>\n",
       "    </tr>\n",
       "    <tr>\n",
       "      <th>2</th>\n",
       "      <td>1001</td>\n",
       "      <td>2018-09</td>\n",
       "      <td>44</td>\n",
       "    </tr>\n",
       "    <tr>\n",
       "      <th>3</th>\n",
       "      <td>1001</td>\n",
       "      <td>2018-10</td>\n",
       "      <td>53</td>\n",
       "    </tr>\n",
       "    <tr>\n",
       "      <th>4</th>\n",
       "      <td>1001</td>\n",
       "      <td>2018-11</td>\n",
       "      <td>36</td>\n",
       "    </tr>\n",
       "    <tr>\n",
       "      <th>...</th>\n",
       "      <td>...</td>\n",
       "      <td>...</td>\n",
       "      <td>...</td>\n",
       "    </tr>\n",
       "    <tr>\n",
       "      <th>1801</th>\n",
       "      <td>1496</td>\n",
       "      <td>2018-09</td>\n",
       "      <td>21</td>\n",
       "    </tr>\n",
       "    <tr>\n",
       "      <th>1802</th>\n",
       "      <td>1496</td>\n",
       "      <td>2018-10</td>\n",
       "      <td>18</td>\n",
       "    </tr>\n",
       "    <tr>\n",
       "      <th>1803</th>\n",
       "      <td>1496</td>\n",
       "      <td>2018-11</td>\n",
       "      <td>13</td>\n",
       "    </tr>\n",
       "    <tr>\n",
       "      <th>1804</th>\n",
       "      <td>1496</td>\n",
       "      <td>2018-12</td>\n",
       "      <td>11</td>\n",
       "    </tr>\n",
       "    <tr>\n",
       "      <th>1805</th>\n",
       "      <td>1497</td>\n",
       "      <td>2018-12</td>\n",
       "      <td>50</td>\n",
       "    </tr>\n",
       "  </tbody>\n",
       "</table>\n",
       "<p>1806 rows × 3 columns</p>\n",
       "</div>"
      ],
      "text/plain": [
       "      user_id month_year  msj_per_user\n",
       "0        1000    2018-12            11\n",
       "1        1001    2018-08            30\n",
       "2        1001    2018-09            44\n",
       "3        1001    2018-10            53\n",
       "4        1001    2018-11            36\n",
       "...       ...        ...           ...\n",
       "1801     1496    2018-09            21\n",
       "1802     1496    2018-10            18\n",
       "1803     1496    2018-11            13\n",
       "1804     1496    2018-12            11\n",
       "1805     1497    2018-12            50\n",
       "\n",
       "[1806 rows x 3 columns]"
      ]
     },
     "execution_count": 38,
     "metadata": {},
     "output_type": "execute_result"
    }
   ],
   "source": [
    "# Calcula el número de mensajes enviados por cada usuario al mes. Guarda el resultado.\n",
    "messages['message_date'] = pd.to_datetime(messages['message_date'])\n",
    "messages['month_year'] = messages['message_date'].dt.to_period('M')\n",
    "#messages['message_date'] = messages['message_date'].dt.strftime('%d-%m-%y')\n",
    "\n",
    "#Nuevo DF \n",
    "messages_per_month = messages.groupby (['user_id','month_year']).size().reset_index(name='msj_per_user')\n",
    "messages_per_month"
   ]
  },
  {
   "cell_type": "code",
   "execution_count": 39,
   "metadata": {
    "id": "H1AqN2eG0q1H"
   },
   "outputs": [
    {
     "data": {
      "text/html": [
       "<div>\n",
       "<style scoped>\n",
       "    .dataframe tbody tr th:only-of-type {\n",
       "        vertical-align: middle;\n",
       "    }\n",
       "\n",
       "    .dataframe tbody tr th {\n",
       "        vertical-align: top;\n",
       "    }\n",
       "\n",
       "    .dataframe thead th {\n",
       "        text-align: right;\n",
       "    }\n",
       "</style>\n",
       "<table border=\"1\" class=\"dataframe\">\n",
       "  <thead>\n",
       "    <tr style=\"text-align: right;\">\n",
       "      <th></th>\n",
       "      <th>user_id</th>\n",
       "      <th>month_year</th>\n",
       "      <th>traffic_per_gb</th>\n",
       "    </tr>\n",
       "  </thead>\n",
       "  <tbody>\n",
       "    <tr>\n",
       "      <th>0</th>\n",
       "      <td>1000</td>\n",
       "      <td>2018-12</td>\n",
       "      <td>1.856904</td>\n",
       "    </tr>\n",
       "    <tr>\n",
       "      <th>1</th>\n",
       "      <td>1001</td>\n",
       "      <td>2018-08</td>\n",
       "      <td>6.756982</td>\n",
       "    </tr>\n",
       "    <tr>\n",
       "      <th>2</th>\n",
       "      <td>1001</td>\n",
       "      <td>2018-09</td>\n",
       "      <td>13.002754</td>\n",
       "    </tr>\n",
       "    <tr>\n",
       "      <th>3</th>\n",
       "      <td>1001</td>\n",
       "      <td>2018-10</td>\n",
       "      <td>21.807119</td>\n",
       "    </tr>\n",
       "    <tr>\n",
       "      <th>4</th>\n",
       "      <td>1001</td>\n",
       "      <td>2018-11</td>\n",
       "      <td>18.070605</td>\n",
       "    </tr>\n",
       "    <tr>\n",
       "      <th>...</th>\n",
       "      <td>...</td>\n",
       "      <td>...</td>\n",
       "      <td>...</td>\n",
       "    </tr>\n",
       "    <tr>\n",
       "      <th>2272</th>\n",
       "      <td>1498</td>\n",
       "      <td>2018-12</td>\n",
       "      <td>22.595400</td>\n",
       "    </tr>\n",
       "    <tr>\n",
       "      <th>2273</th>\n",
       "      <td>1499</td>\n",
       "      <td>2018-09</td>\n",
       "      <td>12.680430</td>\n",
       "    </tr>\n",
       "    <tr>\n",
       "      <th>2274</th>\n",
       "      <td>1499</td>\n",
       "      <td>2018-10</td>\n",
       "      <td>19.035576</td>\n",
       "    </tr>\n",
       "    <tr>\n",
       "      <th>2275</th>\n",
       "      <td>1499</td>\n",
       "      <td>2018-11</td>\n",
       "      <td>16.419756</td>\n",
       "    </tr>\n",
       "    <tr>\n",
       "      <th>2276</th>\n",
       "      <td>1499</td>\n",
       "      <td>2018-12</td>\n",
       "      <td>21.542197</td>\n",
       "    </tr>\n",
       "  </tbody>\n",
       "</table>\n",
       "<p>2277 rows × 3 columns</p>\n",
       "</div>"
      ],
      "text/plain": [
       "      user_id month_year  traffic_per_gb\n",
       "0        1000    2018-12        1.856904\n",
       "1        1001    2018-08        6.756982\n",
       "2        1001    2018-09       13.002754\n",
       "3        1001    2018-10       21.807119\n",
       "4        1001    2018-11       18.070605\n",
       "...       ...        ...             ...\n",
       "2272     1498    2018-12       22.595400\n",
       "2273     1499    2018-09       12.680430\n",
       "2274     1499    2018-10       19.035576\n",
       "2275     1499    2018-11       16.419756\n",
       "2276     1499    2018-12       21.542197\n",
       "\n",
       "[2277 rows x 3 columns]"
      ]
     },
     "execution_count": 39,
     "metadata": {},
     "output_type": "execute_result"
    }
   ],
   "source": [
    "# Calcula el volumen del tráfico de Internet usado por cada usuario al mes. Guarda el resultado.\n",
    "internet['session_date'] = pd.to_datetime(internet['session_date'])\n",
    "internet['month_year'] = internet['session_date'].dt.to_period('M')\n",
    "#internet['session_date'] = internet['session_date'].dt.strftime('%d-%m-%y')\n",
    "\n",
    "#Nuevo DF \n",
    "traffic_internet_month = internet.groupby(['user_id','month_year'])['mb_used'].sum().reset_index(name='traffic_per_gb')\n",
    "traffic_internet_month\n"
   ]
  },
  {
   "cell_type": "code",
   "execution_count": 40,
   "metadata": {
    "id": "FW99ykyf0q1H"
   },
   "outputs": [
    {
     "data": {
      "text/html": [
       "<div>\n",
       "<style scoped>\n",
       "    .dataframe tbody tr th:only-of-type {\n",
       "        vertical-align: middle;\n",
       "    }\n",
       "\n",
       "    .dataframe tbody tr th {\n",
       "        vertical-align: top;\n",
       "    }\n",
       "\n",
       "    .dataframe thead th {\n",
       "        text-align: right;\n",
       "    }\n",
       "</style>\n",
       "<table border=\"1\" class=\"dataframe\">\n",
       "  <thead>\n",
       "    <tr style=\"text-align: right;\">\n",
       "      <th></th>\n",
       "      <th>user_id</th>\n",
       "      <th>month_year</th>\n",
       "      <th>num_calls</th>\n",
       "      <th>min_per_user</th>\n",
       "      <th>msj_per_user</th>\n",
       "      <th>traffic_per_gb</th>\n",
       "    </tr>\n",
       "  </thead>\n",
       "  <tbody>\n",
       "    <tr>\n",
       "      <th>0</th>\n",
       "      <td>1000</td>\n",
       "      <td>2018-12</td>\n",
       "      <td>16.0</td>\n",
       "      <td>116.83</td>\n",
       "      <td>11.0</td>\n",
       "      <td>1.856904</td>\n",
       "    </tr>\n",
       "    <tr>\n",
       "      <th>5</th>\n",
       "      <td>1001</td>\n",
       "      <td>2018-12</td>\n",
       "      <td>56.0</td>\n",
       "      <td>392.93</td>\n",
       "      <td>44.0</td>\n",
       "      <td>18.915215</td>\n",
       "    </tr>\n",
       "    <tr>\n",
       "      <th>4</th>\n",
       "      <td>1001</td>\n",
       "      <td>2018-11</td>\n",
       "      <td>64.0</td>\n",
       "      <td>404.59</td>\n",
       "      <td>36.0</td>\n",
       "      <td>18.070605</td>\n",
       "    </tr>\n",
       "    <tr>\n",
       "      <th>3</th>\n",
       "      <td>1001</td>\n",
       "      <td>2018-10</td>\n",
       "      <td>65.0</td>\n",
       "      <td>374.11</td>\n",
       "      <td>53.0</td>\n",
       "      <td>21.807119</td>\n",
       "    </tr>\n",
       "    <tr>\n",
       "      <th>2</th>\n",
       "      <td>1001</td>\n",
       "      <td>2018-09</td>\n",
       "      <td>49.0</td>\n",
       "      <td>297.69</td>\n",
       "      <td>44.0</td>\n",
       "      <td>13.002754</td>\n",
       "    </tr>\n",
       "    <tr>\n",
       "      <th>...</th>\n",
       "      <td>...</td>\n",
       "      <td>...</td>\n",
       "      <td>...</td>\n",
       "      <td>...</td>\n",
       "      <td>...</td>\n",
       "      <td>...</td>\n",
       "    </tr>\n",
       "    <tr>\n",
       "      <th>2243</th>\n",
       "      <td>1498</td>\n",
       "      <td>2018-02</td>\n",
       "      <td>37.0</td>\n",
       "      <td>231.87</td>\n",
       "      <td>NaN</td>\n",
       "      <td>19.357461</td>\n",
       "    </tr>\n",
       "    <tr>\n",
       "      <th>2257</th>\n",
       "      <td>1499</td>\n",
       "      <td>2018-12</td>\n",
       "      <td>65.0</td>\n",
       "      <td>468.10</td>\n",
       "      <td>NaN</td>\n",
       "      <td>21.542197</td>\n",
       "    </tr>\n",
       "    <tr>\n",
       "      <th>2256</th>\n",
       "      <td>1499</td>\n",
       "      <td>2018-11</td>\n",
       "      <td>45.0</td>\n",
       "      <td>288.56</td>\n",
       "      <td>NaN</td>\n",
       "      <td>16.419756</td>\n",
       "    </tr>\n",
       "    <tr>\n",
       "      <th>2255</th>\n",
       "      <td>1499</td>\n",
       "      <td>2018-10</td>\n",
       "      <td>53.0</td>\n",
       "      <td>363.28</td>\n",
       "      <td>NaN</td>\n",
       "      <td>19.035576</td>\n",
       "    </tr>\n",
       "    <tr>\n",
       "      <th>2254</th>\n",
       "      <td>1499</td>\n",
       "      <td>2018-09</td>\n",
       "      <td>41.0</td>\n",
       "      <td>330.37</td>\n",
       "      <td>NaN</td>\n",
       "      <td>12.680430</td>\n",
       "    </tr>\n",
       "  </tbody>\n",
       "</table>\n",
       "<p>2293 rows × 6 columns</p>\n",
       "</div>"
      ],
      "text/plain": [
       "      user_id month_year  num_calls  min_per_user  msj_per_user  \\\n",
       "0        1000    2018-12       16.0        116.83          11.0   \n",
       "5        1001    2018-12       56.0        392.93          44.0   \n",
       "4        1001    2018-11       64.0        404.59          36.0   \n",
       "3        1001    2018-10       65.0        374.11          53.0   \n",
       "2        1001    2018-09       49.0        297.69          44.0   \n",
       "...       ...        ...        ...           ...           ...   \n",
       "2243     1498    2018-02       37.0        231.87           NaN   \n",
       "2257     1499    2018-12       65.0        468.10           NaN   \n",
       "2256     1499    2018-11       45.0        288.56           NaN   \n",
       "2255     1499    2018-10       53.0        363.28           NaN   \n",
       "2254     1499    2018-09       41.0        330.37           NaN   \n",
       "\n",
       "      traffic_per_gb  \n",
       "0           1.856904  \n",
       "5          18.915215  \n",
       "4          18.070605  \n",
       "3          21.807119  \n",
       "2          13.002754  \n",
       "...              ...  \n",
       "2243       19.357461  \n",
       "2257       21.542197  \n",
       "2256       16.419756  \n",
       "2255       19.035576  \n",
       "2254       12.680430  \n",
       "\n",
       "[2293 rows x 6 columns]"
      ]
     },
     "execution_count": 40,
     "metadata": {},
     "output_type": "execute_result"
    }
   ],
   "source": [
    "# Fusiona los datos de llamadas, minutos, mensajes e Internet con base en user_id y month\n",
    "data_fussion = pd.merge(\n",
    "    calls_per_month,\n",
    "    min_month,\n",
    "    on=['user_id','month_year'],\n",
    "    how='outer'\n",
    ")\n",
    "\n",
    "data_fussion = pd.merge(\n",
    "    data_fussion,\n",
    "    messages_per_month,\n",
    "    on=['user_id','month_year'],\n",
    "    how='outer'\n",
    ")\n",
    "\n",
    "data_fussion = pd.merge(\n",
    "   data_fussion,\n",
    "   traffic_internet_month,\n",
    "   on=['user_id','month_year'],\n",
    "    how='outer'\n",
    ") \n",
    "data_fussion_sorted = data_fussion.sort_values(by=['user_id','month_year'],ascending=[True, False])\n",
    "data_fussion_sorted"
   ]
  },
  {
   "cell_type": "markdown",
   "metadata": {},
   "source": [
    "<div class=\"alert alert-block alert-success\">\n",
    "<b>Comentario del revisor</b> <a class=\"tocSkip\"></a>\n",
    "\n",
    "Muy buen trabajo!! el merge es correcto para unir todas las bases trabajadas.\n",
    "    \n",
    "</div>"
   ]
  },
  {
   "cell_type": "code",
   "execution_count": 41,
   "metadata": {},
   "outputs": [
    {
     "data": {
      "text/plain": [
       "user_id             0\n",
       "month_year          0\n",
       "num_calls          35\n",
       "min_per_user       35\n",
       "msj_per_user      487\n",
       "traffic_per_gb     16\n",
       "dtype: int64"
      ]
     },
     "execution_count": 41,
     "metadata": {},
     "output_type": "execute_result"
    }
   ],
   "source": [
    "#Verificación de celdas con Nulos\n",
    "data_fussion_sorted.isna().sum()"
   ]
  },
  {
   "cell_type": "code",
   "execution_count": 42,
   "metadata": {},
   "outputs": [
    {
     "data": {
      "text/html": [
       "<div>\n",
       "<style scoped>\n",
       "    .dataframe tbody tr th:only-of-type {\n",
       "        vertical-align: middle;\n",
       "    }\n",
       "\n",
       "    .dataframe tbody tr th {\n",
       "        vertical-align: top;\n",
       "    }\n",
       "\n",
       "    .dataframe thead th {\n",
       "        text-align: right;\n",
       "    }\n",
       "</style>\n",
       "<table border=\"1\" class=\"dataframe\">\n",
       "  <thead>\n",
       "    <tr style=\"text-align: right;\">\n",
       "      <th></th>\n",
       "      <th>user_id</th>\n",
       "      <th>month_year</th>\n",
       "      <th>num_calls</th>\n",
       "      <th>min_per_user</th>\n",
       "      <th>msj_per_user</th>\n",
       "      <th>traffic_per_gb</th>\n",
       "    </tr>\n",
       "  </thead>\n",
       "  <tbody>\n",
       "    <tr>\n",
       "      <th>0</th>\n",
       "      <td>1000</td>\n",
       "      <td>2018-12</td>\n",
       "      <td>16.0</td>\n",
       "      <td>116.83</td>\n",
       "      <td>11.0</td>\n",
       "      <td>1.856904</td>\n",
       "    </tr>\n",
       "    <tr>\n",
       "      <th>5</th>\n",
       "      <td>1001</td>\n",
       "      <td>2018-12</td>\n",
       "      <td>56.0</td>\n",
       "      <td>392.93</td>\n",
       "      <td>44.0</td>\n",
       "      <td>18.915215</td>\n",
       "    </tr>\n",
       "    <tr>\n",
       "      <th>4</th>\n",
       "      <td>1001</td>\n",
       "      <td>2018-11</td>\n",
       "      <td>64.0</td>\n",
       "      <td>404.59</td>\n",
       "      <td>36.0</td>\n",
       "      <td>18.070605</td>\n",
       "    </tr>\n",
       "    <tr>\n",
       "      <th>3</th>\n",
       "      <td>1001</td>\n",
       "      <td>2018-10</td>\n",
       "      <td>65.0</td>\n",
       "      <td>374.11</td>\n",
       "      <td>53.0</td>\n",
       "      <td>21.807119</td>\n",
       "    </tr>\n",
       "    <tr>\n",
       "      <th>2</th>\n",
       "      <td>1001</td>\n",
       "      <td>2018-09</td>\n",
       "      <td>49.0</td>\n",
       "      <td>297.69</td>\n",
       "      <td>44.0</td>\n",
       "      <td>13.002754</td>\n",
       "    </tr>\n",
       "    <tr>\n",
       "      <th>...</th>\n",
       "      <td>...</td>\n",
       "      <td>...</td>\n",
       "      <td>...</td>\n",
       "      <td>...</td>\n",
       "      <td>...</td>\n",
       "      <td>...</td>\n",
       "    </tr>\n",
       "    <tr>\n",
       "      <th>2243</th>\n",
       "      <td>1498</td>\n",
       "      <td>2018-02</td>\n",
       "      <td>37.0</td>\n",
       "      <td>231.87</td>\n",
       "      <td>0.0</td>\n",
       "      <td>19.357461</td>\n",
       "    </tr>\n",
       "    <tr>\n",
       "      <th>2257</th>\n",
       "      <td>1499</td>\n",
       "      <td>2018-12</td>\n",
       "      <td>65.0</td>\n",
       "      <td>468.10</td>\n",
       "      <td>0.0</td>\n",
       "      <td>21.542197</td>\n",
       "    </tr>\n",
       "    <tr>\n",
       "      <th>2256</th>\n",
       "      <td>1499</td>\n",
       "      <td>2018-11</td>\n",
       "      <td>45.0</td>\n",
       "      <td>288.56</td>\n",
       "      <td>0.0</td>\n",
       "      <td>16.419756</td>\n",
       "    </tr>\n",
       "    <tr>\n",
       "      <th>2255</th>\n",
       "      <td>1499</td>\n",
       "      <td>2018-10</td>\n",
       "      <td>53.0</td>\n",
       "      <td>363.28</td>\n",
       "      <td>0.0</td>\n",
       "      <td>19.035576</td>\n",
       "    </tr>\n",
       "    <tr>\n",
       "      <th>2254</th>\n",
       "      <td>1499</td>\n",
       "      <td>2018-09</td>\n",
       "      <td>41.0</td>\n",
       "      <td>330.37</td>\n",
       "      <td>0.0</td>\n",
       "      <td>12.680430</td>\n",
       "    </tr>\n",
       "  </tbody>\n",
       "</table>\n",
       "<p>2293 rows × 6 columns</p>\n",
       "</div>"
      ],
      "text/plain": [
       "      user_id month_year  num_calls  min_per_user  msj_per_user  \\\n",
       "0        1000    2018-12       16.0        116.83          11.0   \n",
       "5        1001    2018-12       56.0        392.93          44.0   \n",
       "4        1001    2018-11       64.0        404.59          36.0   \n",
       "3        1001    2018-10       65.0        374.11          53.0   \n",
       "2        1001    2018-09       49.0        297.69          44.0   \n",
       "...       ...        ...        ...           ...           ...   \n",
       "2243     1498    2018-02       37.0        231.87           0.0   \n",
       "2257     1499    2018-12       65.0        468.10           0.0   \n",
       "2256     1499    2018-11       45.0        288.56           0.0   \n",
       "2255     1499    2018-10       53.0        363.28           0.0   \n",
       "2254     1499    2018-09       41.0        330.37           0.0   \n",
       "\n",
       "      traffic_per_gb  \n",
       "0           1.856904  \n",
       "5          18.915215  \n",
       "4          18.070605  \n",
       "3          21.807119  \n",
       "2          13.002754  \n",
       "...              ...  \n",
       "2243       19.357461  \n",
       "2257       21.542197  \n",
       "2256       16.419756  \n",
       "2255       19.035576  \n",
       "2254       12.680430  \n",
       "\n",
       "[2293 rows x 6 columns]"
      ]
     },
     "execution_count": 42,
     "metadata": {},
     "output_type": "execute_result"
    }
   ],
   "source": [
    "#Creación de bucle para rellenar los NaN\n",
    "fill_cols = ['num_calls','min_per_user','msj_per_user','traffic_per_gb']\n",
    "\n",
    "for cols in fill_cols:\n",
    "    data_fussion_sorted[cols].fillna(0, inplace=True)\n",
    "    \n",
    "data_fussion_sorted"
   ]
  },
  {
   "cell_type": "code",
   "execution_count": 43,
   "metadata": {},
   "outputs": [
    {
     "data": {
      "text/html": [
       "<div>\n",
       "<style scoped>\n",
       "    .dataframe tbody tr th:only-of-type {\n",
       "        vertical-align: middle;\n",
       "    }\n",
       "\n",
       "    .dataframe tbody tr th {\n",
       "        vertical-align: top;\n",
       "    }\n",
       "\n",
       "    .dataframe thead th {\n",
       "        text-align: right;\n",
       "    }\n",
       "</style>\n",
       "<table border=\"1\" class=\"dataframe\">\n",
       "  <thead>\n",
       "    <tr style=\"text-align: right;\">\n",
       "      <th></th>\n",
       "      <th>user_id</th>\n",
       "      <th>month_year</th>\n",
       "      <th>num_calls</th>\n",
       "      <th>min_per_user</th>\n",
       "      <th>msj_per_user</th>\n",
       "      <th>traffic_per_gb</th>\n",
       "      <th>first_name</th>\n",
       "      <th>last_name</th>\n",
       "      <th>age</th>\n",
       "      <th>city</th>\n",
       "      <th>reg_date</th>\n",
       "      <th>plan</th>\n",
       "      <th>churn_date</th>\n",
       "    </tr>\n",
       "  </thead>\n",
       "  <tbody>\n",
       "    <tr>\n",
       "      <th>0</th>\n",
       "      <td>1000</td>\n",
       "      <td>2018-12</td>\n",
       "      <td>16.0</td>\n",
       "      <td>116.83</td>\n",
       "      <td>11.0</td>\n",
       "      <td>1.856904</td>\n",
       "      <td>Anamaria</td>\n",
       "      <td>Bauer</td>\n",
       "      <td>45</td>\n",
       "      <td>Atlanta-Sandy Springs-Roswell, GA MSA</td>\n",
       "      <td>24-12-18</td>\n",
       "      <td>ultimate</td>\n",
       "      <td>in_use</td>\n",
       "    </tr>\n",
       "    <tr>\n",
       "      <th>1</th>\n",
       "      <td>1001</td>\n",
       "      <td>2018-12</td>\n",
       "      <td>56.0</td>\n",
       "      <td>392.93</td>\n",
       "      <td>44.0</td>\n",
       "      <td>18.915215</td>\n",
       "      <td>Mickey</td>\n",
       "      <td>Wilkerson</td>\n",
       "      <td>28</td>\n",
       "      <td>Seattle-Tacoma-Bellevue, WA MSA</td>\n",
       "      <td>13-08-18</td>\n",
       "      <td>surf</td>\n",
       "      <td>in_use</td>\n",
       "    </tr>\n",
       "    <tr>\n",
       "      <th>2</th>\n",
       "      <td>1001</td>\n",
       "      <td>2018-11</td>\n",
       "      <td>64.0</td>\n",
       "      <td>404.59</td>\n",
       "      <td>36.0</td>\n",
       "      <td>18.070605</td>\n",
       "      <td>Mickey</td>\n",
       "      <td>Wilkerson</td>\n",
       "      <td>28</td>\n",
       "      <td>Seattle-Tacoma-Bellevue, WA MSA</td>\n",
       "      <td>13-08-18</td>\n",
       "      <td>surf</td>\n",
       "      <td>in_use</td>\n",
       "    </tr>\n",
       "    <tr>\n",
       "      <th>3</th>\n",
       "      <td>1001</td>\n",
       "      <td>2018-10</td>\n",
       "      <td>65.0</td>\n",
       "      <td>374.11</td>\n",
       "      <td>53.0</td>\n",
       "      <td>21.807119</td>\n",
       "      <td>Mickey</td>\n",
       "      <td>Wilkerson</td>\n",
       "      <td>28</td>\n",
       "      <td>Seattle-Tacoma-Bellevue, WA MSA</td>\n",
       "      <td>13-08-18</td>\n",
       "      <td>surf</td>\n",
       "      <td>in_use</td>\n",
       "    </tr>\n",
       "    <tr>\n",
       "      <th>4</th>\n",
       "      <td>1001</td>\n",
       "      <td>2018-09</td>\n",
       "      <td>49.0</td>\n",
       "      <td>297.69</td>\n",
       "      <td>44.0</td>\n",
       "      <td>13.002754</td>\n",
       "      <td>Mickey</td>\n",
       "      <td>Wilkerson</td>\n",
       "      <td>28</td>\n",
       "      <td>Seattle-Tacoma-Bellevue, WA MSA</td>\n",
       "      <td>13-08-18</td>\n",
       "      <td>surf</td>\n",
       "      <td>in_use</td>\n",
       "    </tr>\n",
       "  </tbody>\n",
       "</table>\n",
       "</div>"
      ],
      "text/plain": [
       "   user_id month_year  num_calls  min_per_user  msj_per_user  traffic_per_gb  \\\n",
       "0     1000    2018-12       16.0        116.83          11.0        1.856904   \n",
       "1     1001    2018-12       56.0        392.93          44.0       18.915215   \n",
       "2     1001    2018-11       64.0        404.59          36.0       18.070605   \n",
       "3     1001    2018-10       65.0        374.11          53.0       21.807119   \n",
       "4     1001    2018-09       49.0        297.69          44.0       13.002754   \n",
       "\n",
       "  first_name  last_name  age                                   city  reg_date  \\\n",
       "0   Anamaria      Bauer   45  Atlanta-Sandy Springs-Roswell, GA MSA  24-12-18   \n",
       "1     Mickey  Wilkerson   28        Seattle-Tacoma-Bellevue, WA MSA  13-08-18   \n",
       "2     Mickey  Wilkerson   28        Seattle-Tacoma-Bellevue, WA MSA  13-08-18   \n",
       "3     Mickey  Wilkerson   28        Seattle-Tacoma-Bellevue, WA MSA  13-08-18   \n",
       "4     Mickey  Wilkerson   28        Seattle-Tacoma-Bellevue, WA MSA  13-08-18   \n",
       "\n",
       "       plan churn_date  \n",
       "0  ultimate     in_use  \n",
       "1      surf     in_use  \n",
       "2      surf     in_use  \n",
       "3      surf     in_use  \n",
       "4      surf     in_use  "
      ]
     },
     "execution_count": 43,
     "metadata": {},
     "output_type": "execute_result"
    }
   ],
   "source": [
    "#Añade información del plan\n",
    "data_with_user_info= pd.merge(data_fussion_sorted,\n",
    "                              users,\n",
    "                              on='user_id',\n",
    "                              how='left'\n",
    "                              \n",
    ")\n",
    "data_with_user_info.head()"
   ]
  },
  {
   "cell_type": "code",
   "execution_count": 44,
   "metadata": {
    "id": "0dNOXHag0q1H"
   },
   "outputs": [
    {
     "data": {
      "text/html": [
       "<div>\n",
       "<style scoped>\n",
       "    .dataframe tbody tr th:only-of-type {\n",
       "        vertical-align: middle;\n",
       "    }\n",
       "\n",
       "    .dataframe tbody tr th {\n",
       "        vertical-align: top;\n",
       "    }\n",
       "\n",
       "    .dataframe thead th {\n",
       "        text-align: right;\n",
       "    }\n",
       "</style>\n",
       "<table border=\"1\" class=\"dataframe\">\n",
       "  <thead>\n",
       "    <tr style=\"text-align: right;\">\n",
       "      <th></th>\n",
       "      <th>user_id</th>\n",
       "      <th>month_year</th>\n",
       "      <th>num_calls</th>\n",
       "      <th>min_per_user</th>\n",
       "      <th>msj_per_user</th>\n",
       "      <th>traffic_per_gb</th>\n",
       "      <th>first_name</th>\n",
       "      <th>last_name</th>\n",
       "      <th>age</th>\n",
       "      <th>city</th>\n",
       "      <th>reg_date</th>\n",
       "      <th>churn_date</th>\n",
       "      <th>messages_included</th>\n",
       "      <th>mb_per_month_included</th>\n",
       "      <th>minutes_included</th>\n",
       "      <th>usd_monthly_pay</th>\n",
       "      <th>usd_per_gb</th>\n",
       "      <th>usd_per_message</th>\n",
       "      <th>usd_per_minute</th>\n",
       "      <th>plan_name</th>\n",
       "    </tr>\n",
       "  </thead>\n",
       "  <tbody>\n",
       "    <tr>\n",
       "      <th>0</th>\n",
       "      <td>1000</td>\n",
       "      <td>2018-12</td>\n",
       "      <td>16.0</td>\n",
       "      <td>116.83</td>\n",
       "      <td>11.0</td>\n",
       "      <td>1.856904</td>\n",
       "      <td>Anamaria</td>\n",
       "      <td>Bauer</td>\n",
       "      <td>45</td>\n",
       "      <td>Atlanta-Sandy Springs-Roswell, GA MSA</td>\n",
       "      <td>24-12-18</td>\n",
       "      <td>in_use</td>\n",
       "      <td>1000</td>\n",
       "      <td>30.0</td>\n",
       "      <td>3000</td>\n",
       "      <td>70</td>\n",
       "      <td>7</td>\n",
       "      <td>0.01</td>\n",
       "      <td>0.01</td>\n",
       "      <td>ultimate</td>\n",
       "    </tr>\n",
       "    <tr>\n",
       "      <th>720</th>\n",
       "      <td>1001</td>\n",
       "      <td>2018-12</td>\n",
       "      <td>56.0</td>\n",
       "      <td>392.93</td>\n",
       "      <td>44.0</td>\n",
       "      <td>18.915215</td>\n",
       "      <td>Mickey</td>\n",
       "      <td>Wilkerson</td>\n",
       "      <td>28</td>\n",
       "      <td>Seattle-Tacoma-Bellevue, WA MSA</td>\n",
       "      <td>13-08-18</td>\n",
       "      <td>in_use</td>\n",
       "      <td>50</td>\n",
       "      <td>15.0</td>\n",
       "      <td>500</td>\n",
       "      <td>20</td>\n",
       "      <td>10</td>\n",
       "      <td>0.03</td>\n",
       "      <td>0.03</td>\n",
       "      <td>surf</td>\n",
       "    </tr>\n",
       "    <tr>\n",
       "      <th>721</th>\n",
       "      <td>1001</td>\n",
       "      <td>2018-11</td>\n",
       "      <td>64.0</td>\n",
       "      <td>404.59</td>\n",
       "      <td>36.0</td>\n",
       "      <td>18.070605</td>\n",
       "      <td>Mickey</td>\n",
       "      <td>Wilkerson</td>\n",
       "      <td>28</td>\n",
       "      <td>Seattle-Tacoma-Bellevue, WA MSA</td>\n",
       "      <td>13-08-18</td>\n",
       "      <td>in_use</td>\n",
       "      <td>50</td>\n",
       "      <td>15.0</td>\n",
       "      <td>500</td>\n",
       "      <td>20</td>\n",
       "      <td>10</td>\n",
       "      <td>0.03</td>\n",
       "      <td>0.03</td>\n",
       "      <td>surf</td>\n",
       "    </tr>\n",
       "    <tr>\n",
       "      <th>722</th>\n",
       "      <td>1001</td>\n",
       "      <td>2018-10</td>\n",
       "      <td>65.0</td>\n",
       "      <td>374.11</td>\n",
       "      <td>53.0</td>\n",
       "      <td>21.807119</td>\n",
       "      <td>Mickey</td>\n",
       "      <td>Wilkerson</td>\n",
       "      <td>28</td>\n",
       "      <td>Seattle-Tacoma-Bellevue, WA MSA</td>\n",
       "      <td>13-08-18</td>\n",
       "      <td>in_use</td>\n",
       "      <td>50</td>\n",
       "      <td>15.0</td>\n",
       "      <td>500</td>\n",
       "      <td>20</td>\n",
       "      <td>10</td>\n",
       "      <td>0.03</td>\n",
       "      <td>0.03</td>\n",
       "      <td>surf</td>\n",
       "    </tr>\n",
       "    <tr>\n",
       "      <th>723</th>\n",
       "      <td>1001</td>\n",
       "      <td>2018-09</td>\n",
       "      <td>49.0</td>\n",
       "      <td>297.69</td>\n",
       "      <td>44.0</td>\n",
       "      <td>13.002754</td>\n",
       "      <td>Mickey</td>\n",
       "      <td>Wilkerson</td>\n",
       "      <td>28</td>\n",
       "      <td>Seattle-Tacoma-Bellevue, WA MSA</td>\n",
       "      <td>13-08-18</td>\n",
       "      <td>in_use</td>\n",
       "      <td>50</td>\n",
       "      <td>15.0</td>\n",
       "      <td>500</td>\n",
       "      <td>20</td>\n",
       "      <td>10</td>\n",
       "      <td>0.03</td>\n",
       "      <td>0.03</td>\n",
       "      <td>surf</td>\n",
       "    </tr>\n",
       "  </tbody>\n",
       "</table>\n",
       "</div>"
      ],
      "text/plain": [
       "     user_id month_year  num_calls  min_per_user  msj_per_user  \\\n",
       "0       1000    2018-12       16.0        116.83          11.0   \n",
       "720     1001    2018-12       56.0        392.93          44.0   \n",
       "721     1001    2018-11       64.0        404.59          36.0   \n",
       "722     1001    2018-10       65.0        374.11          53.0   \n",
       "723     1001    2018-09       49.0        297.69          44.0   \n",
       "\n",
       "     traffic_per_gb first_name  last_name  age  \\\n",
       "0          1.856904   Anamaria      Bauer   45   \n",
       "720       18.915215     Mickey  Wilkerson   28   \n",
       "721       18.070605     Mickey  Wilkerson   28   \n",
       "722       21.807119     Mickey  Wilkerson   28   \n",
       "723       13.002754     Mickey  Wilkerson   28   \n",
       "\n",
       "                                      city  reg_date churn_date  \\\n",
       "0    Atlanta-Sandy Springs-Roswell, GA MSA  24-12-18     in_use   \n",
       "720        Seattle-Tacoma-Bellevue, WA MSA  13-08-18     in_use   \n",
       "721        Seattle-Tacoma-Bellevue, WA MSA  13-08-18     in_use   \n",
       "722        Seattle-Tacoma-Bellevue, WA MSA  13-08-18     in_use   \n",
       "723        Seattle-Tacoma-Bellevue, WA MSA  13-08-18     in_use   \n",
       "\n",
       "     messages_included  mb_per_month_included  minutes_included  \\\n",
       "0                 1000                   30.0              3000   \n",
       "720                 50                   15.0               500   \n",
       "721                 50                   15.0               500   \n",
       "722                 50                   15.0               500   \n",
       "723                 50                   15.0               500   \n",
       "\n",
       "     usd_monthly_pay  usd_per_gb  usd_per_message  usd_per_minute plan_name  \n",
       "0                 70           7             0.01            0.01  ultimate  \n",
       "720               20          10             0.03            0.03      surf  \n",
       "721               20          10             0.03            0.03      surf  \n",
       "722               20          10             0.03            0.03      surf  \n",
       "723               20          10             0.03            0.03      surf  "
      ]
     },
     "execution_count": 44,
     "metadata": {},
     "output_type": "execute_result"
    }
   ],
   "source": [
    "# Añade la información de la tarifa\n",
    "data_with_plans = pd.merge(\n",
    "    data_with_user_info,\n",
    "    plans,\n",
    "    right_on= 'plan_name',\n",
    "    left_on='plan'\n",
    ")\n",
    "data_with_plans.drop('plan', axis='columns',inplace=True)\n",
    "data_with_plans_s = data_with_plans.sort_values(by=['user_id','month_year'],ascending=[True, False])\n",
    "data_with_plans_s.head()\n",
    "\n"
   ]
  },
  {
   "cell_type": "code",
   "execution_count": 45,
   "metadata": {
    "id": "5FGCf_c60q1I"
   },
   "outputs": [
    {
     "data": {
      "text/html": [
       "<div>\n",
       "<style scoped>\n",
       "    .dataframe tbody tr th:only-of-type {\n",
       "        vertical-align: middle;\n",
       "    }\n",
       "\n",
       "    .dataframe tbody tr th {\n",
       "        vertical-align: top;\n",
       "    }\n",
       "\n",
       "    .dataframe thead th {\n",
       "        text-align: right;\n",
       "    }\n",
       "</style>\n",
       "<table border=\"1\" class=\"dataframe\">\n",
       "  <thead>\n",
       "    <tr style=\"text-align: right;\">\n",
       "      <th></th>\n",
       "      <th>user_id</th>\n",
       "      <th>month_year</th>\n",
       "      <th>num_calls</th>\n",
       "      <th>min_per_user</th>\n",
       "      <th>msj_per_user</th>\n",
       "      <th>traffic_per_gb</th>\n",
       "      <th>first_name</th>\n",
       "      <th>last_name</th>\n",
       "      <th>age</th>\n",
       "      <th>city</th>\n",
       "      <th>...</th>\n",
       "      <th>churn_date</th>\n",
       "      <th>messages_included</th>\n",
       "      <th>mb_per_month_included</th>\n",
       "      <th>minutes_included</th>\n",
       "      <th>usd_monthly_pay</th>\n",
       "      <th>usd_per_gb</th>\n",
       "      <th>usd_per_message</th>\n",
       "      <th>usd_per_minute</th>\n",
       "      <th>plan_name</th>\n",
       "      <th>monthly_charges</th>\n",
       "    </tr>\n",
       "  </thead>\n",
       "  <tbody>\n",
       "    <tr>\n",
       "      <th>0</th>\n",
       "      <td>1000</td>\n",
       "      <td>2018-12</td>\n",
       "      <td>16.0</td>\n",
       "      <td>116.83</td>\n",
       "      <td>11.0</td>\n",
       "      <td>1.856904</td>\n",
       "      <td>Anamaria</td>\n",
       "      <td>Bauer</td>\n",
       "      <td>45</td>\n",
       "      <td>Atlanta-Sandy Springs-Roswell, GA MSA</td>\n",
       "      <td>...</td>\n",
       "      <td>in_use</td>\n",
       "      <td>1000</td>\n",
       "      <td>30.0</td>\n",
       "      <td>3000</td>\n",
       "      <td>70</td>\n",
       "      <td>7</td>\n",
       "      <td>0.01</td>\n",
       "      <td>0.01</td>\n",
       "      <td>ultimate</td>\n",
       "      <td>70.00</td>\n",
       "    </tr>\n",
       "    <tr>\n",
       "      <th>720</th>\n",
       "      <td>1001</td>\n",
       "      <td>2018-12</td>\n",
       "      <td>56.0</td>\n",
       "      <td>392.93</td>\n",
       "      <td>44.0</td>\n",
       "      <td>18.915215</td>\n",
       "      <td>Mickey</td>\n",
       "      <td>Wilkerson</td>\n",
       "      <td>28</td>\n",
       "      <td>Seattle-Tacoma-Bellevue, WA MSA</td>\n",
       "      <td>...</td>\n",
       "      <td>in_use</td>\n",
       "      <td>50</td>\n",
       "      <td>15.0</td>\n",
       "      <td>500</td>\n",
       "      <td>20</td>\n",
       "      <td>10</td>\n",
       "      <td>0.03</td>\n",
       "      <td>0.03</td>\n",
       "      <td>surf</td>\n",
       "      <td>60.00</td>\n",
       "    </tr>\n",
       "    <tr>\n",
       "      <th>721</th>\n",
       "      <td>1001</td>\n",
       "      <td>2018-11</td>\n",
       "      <td>64.0</td>\n",
       "      <td>404.59</td>\n",
       "      <td>36.0</td>\n",
       "      <td>18.070605</td>\n",
       "      <td>Mickey</td>\n",
       "      <td>Wilkerson</td>\n",
       "      <td>28</td>\n",
       "      <td>Seattle-Tacoma-Bellevue, WA MSA</td>\n",
       "      <td>...</td>\n",
       "      <td>in_use</td>\n",
       "      <td>50</td>\n",
       "      <td>15.0</td>\n",
       "      <td>500</td>\n",
       "      <td>20</td>\n",
       "      <td>10</td>\n",
       "      <td>0.03</td>\n",
       "      <td>0.03</td>\n",
       "      <td>surf</td>\n",
       "      <td>60.00</td>\n",
       "    </tr>\n",
       "    <tr>\n",
       "      <th>722</th>\n",
       "      <td>1001</td>\n",
       "      <td>2018-10</td>\n",
       "      <td>65.0</td>\n",
       "      <td>374.11</td>\n",
       "      <td>53.0</td>\n",
       "      <td>21.807119</td>\n",
       "      <td>Mickey</td>\n",
       "      <td>Wilkerson</td>\n",
       "      <td>28</td>\n",
       "      <td>Seattle-Tacoma-Bellevue, WA MSA</td>\n",
       "      <td>...</td>\n",
       "      <td>in_use</td>\n",
       "      <td>50</td>\n",
       "      <td>15.0</td>\n",
       "      <td>500</td>\n",
       "      <td>20</td>\n",
       "      <td>10</td>\n",
       "      <td>0.03</td>\n",
       "      <td>0.03</td>\n",
       "      <td>surf</td>\n",
       "      <td>90.09</td>\n",
       "    </tr>\n",
       "    <tr>\n",
       "      <th>723</th>\n",
       "      <td>1001</td>\n",
       "      <td>2018-09</td>\n",
       "      <td>49.0</td>\n",
       "      <td>297.69</td>\n",
       "      <td>44.0</td>\n",
       "      <td>13.002754</td>\n",
       "      <td>Mickey</td>\n",
       "      <td>Wilkerson</td>\n",
       "      <td>28</td>\n",
       "      <td>Seattle-Tacoma-Bellevue, WA MSA</td>\n",
       "      <td>...</td>\n",
       "      <td>in_use</td>\n",
       "      <td>50</td>\n",
       "      <td>15.0</td>\n",
       "      <td>500</td>\n",
       "      <td>20</td>\n",
       "      <td>10</td>\n",
       "      <td>0.03</td>\n",
       "      <td>0.03</td>\n",
       "      <td>surf</td>\n",
       "      <td>20.00</td>\n",
       "    </tr>\n",
       "    <tr>\n",
       "      <th>...</th>\n",
       "      <td>...</td>\n",
       "      <td>...</td>\n",
       "      <td>...</td>\n",
       "      <td>...</td>\n",
       "      <td>...</td>\n",
       "      <td>...</td>\n",
       "      <td>...</td>\n",
       "      <td>...</td>\n",
       "      <td>...</td>\n",
       "      <td>...</td>\n",
       "      <td>...</td>\n",
       "      <td>...</td>\n",
       "      <td>...</td>\n",
       "      <td>...</td>\n",
       "      <td>...</td>\n",
       "      <td>...</td>\n",
       "      <td>...</td>\n",
       "      <td>...</td>\n",
       "      <td>...</td>\n",
       "      <td>...</td>\n",
       "      <td>...</td>\n",
       "    </tr>\n",
       "    <tr>\n",
       "      <th>2288</th>\n",
       "      <td>1498</td>\n",
       "      <td>2018-02</td>\n",
       "      <td>37.0</td>\n",
       "      <td>231.87</td>\n",
       "      <td>0.0</td>\n",
       "      <td>19.357461</td>\n",
       "      <td>Scot</td>\n",
       "      <td>Williamson</td>\n",
       "      <td>51</td>\n",
       "      <td>New York-Newark-Jersey City, NY-NJ-PA MSA</td>\n",
       "      <td>...</td>\n",
       "      <td>in_use</td>\n",
       "      <td>50</td>\n",
       "      <td>15.0</td>\n",
       "      <td>500</td>\n",
       "      <td>20</td>\n",
       "      <td>10</td>\n",
       "      <td>0.03</td>\n",
       "      <td>0.03</td>\n",
       "      <td>surf</td>\n",
       "      <td>70.00</td>\n",
       "    </tr>\n",
       "    <tr>\n",
       "      <th>2289</th>\n",
       "      <td>1499</td>\n",
       "      <td>2018-12</td>\n",
       "      <td>65.0</td>\n",
       "      <td>468.10</td>\n",
       "      <td>0.0</td>\n",
       "      <td>21.542197</td>\n",
       "      <td>Shena</td>\n",
       "      <td>Dickson</td>\n",
       "      <td>37</td>\n",
       "      <td>Orlando-Kissimmee-Sanford, FL MSA</td>\n",
       "      <td>...</td>\n",
       "      <td>in_use</td>\n",
       "      <td>50</td>\n",
       "      <td>15.0</td>\n",
       "      <td>500</td>\n",
       "      <td>20</td>\n",
       "      <td>10</td>\n",
       "      <td>0.03</td>\n",
       "      <td>0.03</td>\n",
       "      <td>surf</td>\n",
       "      <td>90.00</td>\n",
       "    </tr>\n",
       "    <tr>\n",
       "      <th>2290</th>\n",
       "      <td>1499</td>\n",
       "      <td>2018-11</td>\n",
       "      <td>45.0</td>\n",
       "      <td>288.56</td>\n",
       "      <td>0.0</td>\n",
       "      <td>16.419756</td>\n",
       "      <td>Shena</td>\n",
       "      <td>Dickson</td>\n",
       "      <td>37</td>\n",
       "      <td>Orlando-Kissimmee-Sanford, FL MSA</td>\n",
       "      <td>...</td>\n",
       "      <td>in_use</td>\n",
       "      <td>50</td>\n",
       "      <td>15.0</td>\n",
       "      <td>500</td>\n",
       "      <td>20</td>\n",
       "      <td>10</td>\n",
       "      <td>0.03</td>\n",
       "      <td>0.03</td>\n",
       "      <td>surf</td>\n",
       "      <td>40.00</td>\n",
       "    </tr>\n",
       "    <tr>\n",
       "      <th>2291</th>\n",
       "      <td>1499</td>\n",
       "      <td>2018-10</td>\n",
       "      <td>53.0</td>\n",
       "      <td>363.28</td>\n",
       "      <td>0.0</td>\n",
       "      <td>19.035576</td>\n",
       "      <td>Shena</td>\n",
       "      <td>Dickson</td>\n",
       "      <td>37</td>\n",
       "      <td>Orlando-Kissimmee-Sanford, FL MSA</td>\n",
       "      <td>...</td>\n",
       "      <td>in_use</td>\n",
       "      <td>50</td>\n",
       "      <td>15.0</td>\n",
       "      <td>500</td>\n",
       "      <td>20</td>\n",
       "      <td>10</td>\n",
       "      <td>0.03</td>\n",
       "      <td>0.03</td>\n",
       "      <td>surf</td>\n",
       "      <td>70.00</td>\n",
       "    </tr>\n",
       "    <tr>\n",
       "      <th>2292</th>\n",
       "      <td>1499</td>\n",
       "      <td>2018-09</td>\n",
       "      <td>41.0</td>\n",
       "      <td>330.37</td>\n",
       "      <td>0.0</td>\n",
       "      <td>12.680430</td>\n",
       "      <td>Shena</td>\n",
       "      <td>Dickson</td>\n",
       "      <td>37</td>\n",
       "      <td>Orlando-Kissimmee-Sanford, FL MSA</td>\n",
       "      <td>...</td>\n",
       "      <td>in_use</td>\n",
       "      <td>50</td>\n",
       "      <td>15.0</td>\n",
       "      <td>500</td>\n",
       "      <td>20</td>\n",
       "      <td>10</td>\n",
       "      <td>0.03</td>\n",
       "      <td>0.03</td>\n",
       "      <td>surf</td>\n",
       "      <td>20.00</td>\n",
       "    </tr>\n",
       "  </tbody>\n",
       "</table>\n",
       "<p>2293 rows × 21 columns</p>\n",
       "</div>"
      ],
      "text/plain": [
       "      user_id month_year  num_calls  min_per_user  msj_per_user  \\\n",
       "0        1000    2018-12       16.0        116.83          11.0   \n",
       "720      1001    2018-12       56.0        392.93          44.0   \n",
       "721      1001    2018-11       64.0        404.59          36.0   \n",
       "722      1001    2018-10       65.0        374.11          53.0   \n",
       "723      1001    2018-09       49.0        297.69          44.0   \n",
       "...       ...        ...        ...           ...           ...   \n",
       "2288     1498    2018-02       37.0        231.87           0.0   \n",
       "2289     1499    2018-12       65.0        468.10           0.0   \n",
       "2290     1499    2018-11       45.0        288.56           0.0   \n",
       "2291     1499    2018-10       53.0        363.28           0.0   \n",
       "2292     1499    2018-09       41.0        330.37           0.0   \n",
       "\n",
       "      traffic_per_gb first_name   last_name  age  \\\n",
       "0           1.856904   Anamaria       Bauer   45   \n",
       "720        18.915215     Mickey   Wilkerson   28   \n",
       "721        18.070605     Mickey   Wilkerson   28   \n",
       "722        21.807119     Mickey   Wilkerson   28   \n",
       "723        13.002754     Mickey   Wilkerson   28   \n",
       "...              ...        ...         ...  ...   \n",
       "2288       19.357461       Scot  Williamson   51   \n",
       "2289       21.542197      Shena     Dickson   37   \n",
       "2290       16.419756      Shena     Dickson   37   \n",
       "2291       19.035576      Shena     Dickson   37   \n",
       "2292       12.680430      Shena     Dickson   37   \n",
       "\n",
       "                                           city  ... churn_date  \\\n",
       "0         Atlanta-Sandy Springs-Roswell, GA MSA  ...     in_use   \n",
       "720             Seattle-Tacoma-Bellevue, WA MSA  ...     in_use   \n",
       "721             Seattle-Tacoma-Bellevue, WA MSA  ...     in_use   \n",
       "722             Seattle-Tacoma-Bellevue, WA MSA  ...     in_use   \n",
       "723             Seattle-Tacoma-Bellevue, WA MSA  ...     in_use   \n",
       "...                                         ...  ...        ...   \n",
       "2288  New York-Newark-Jersey City, NY-NJ-PA MSA  ...     in_use   \n",
       "2289          Orlando-Kissimmee-Sanford, FL MSA  ...     in_use   \n",
       "2290          Orlando-Kissimmee-Sanford, FL MSA  ...     in_use   \n",
       "2291          Orlando-Kissimmee-Sanford, FL MSA  ...     in_use   \n",
       "2292          Orlando-Kissimmee-Sanford, FL MSA  ...     in_use   \n",
       "\n",
       "     messages_included  mb_per_month_included  minutes_included  \\\n",
       "0                 1000                   30.0              3000   \n",
       "720                 50                   15.0               500   \n",
       "721                 50                   15.0               500   \n",
       "722                 50                   15.0               500   \n",
       "723                 50                   15.0               500   \n",
       "...                ...                    ...               ...   \n",
       "2288                50                   15.0               500   \n",
       "2289                50                   15.0               500   \n",
       "2290                50                   15.0               500   \n",
       "2291                50                   15.0               500   \n",
       "2292                50                   15.0               500   \n",
       "\n",
       "      usd_monthly_pay  usd_per_gb  usd_per_message  usd_per_minute  plan_name  \\\n",
       "0                  70           7             0.01            0.01   ultimate   \n",
       "720                20          10             0.03            0.03       surf   \n",
       "721                20          10             0.03            0.03       surf   \n",
       "722                20          10             0.03            0.03       surf   \n",
       "723                20          10             0.03            0.03       surf   \n",
       "...               ...         ...              ...             ...        ...   \n",
       "2288               20          10             0.03            0.03       surf   \n",
       "2289               20          10             0.03            0.03       surf   \n",
       "2290               20          10             0.03            0.03       surf   \n",
       "2291               20          10             0.03            0.03       surf   \n",
       "2292               20          10             0.03            0.03       surf   \n",
       "\n",
       "     monthly_charges  \n",
       "0              70.00  \n",
       "720            60.00  \n",
       "721            60.00  \n",
       "722            90.09  \n",
       "723            20.00  \n",
       "...              ...  \n",
       "2288           70.00  \n",
       "2289           90.00  \n",
       "2290           40.00  \n",
       "2291           70.00  \n",
       "2292           20.00  \n",
       "\n",
       "[2293 rows x 21 columns]"
      ]
     },
     "execution_count": 45,
     "metadata": {},
     "output_type": "execute_result"
    }
   ],
   "source": [
    "# Calcula el ingreso mensual para cada usuario \n",
    "def monthly_calc (row):\n",
    "    excess_min= max(0, row['min_per_user'] - row['minutes_included'])\n",
    "    excess_msj= max(0, row['msj_per_user']-row['messages_included'])\n",
    "    excess_mb = max(0, np.ceil((row['traffic_per_gb'] - row['mb_per_month_included'])))\n",
    "    \n",
    "    charge_min = excess_min * row['usd_per_minute']\n",
    "    charge_msj =  excess_msj * row['usd_per_message']\n",
    "    charge_mb = excess_mb * row['usd_per_gb']\n",
    "    \n",
    "    total_charge =  charge_min + charge_msj + charge_mb + row['usd_monthly_pay']\n",
    "    \n",
    "    return total_charge\n",
    "\n",
    "data_with_plans_s['monthly_charges'] = data_with_plans_s.apply(monthly_calc, axis=1)\n",
    "\n",
    "data_with_plans_s\n",
    "    "
   ]
  },
  {
   "cell_type": "markdown",
   "metadata": {
    "id": "-jtyHzJb0q1I"
   },
   "source": [
    "## Estudia el comportamiento de usuario"
   ]
  },
  {
   "cell_type": "markdown",
   "metadata": {
    "id": "vtW4CJEe0q1J"
   },
   "source": [
    "### Llamadas"
   ]
  },
  {
   "cell_type": "code",
   "execution_count": 46,
   "metadata": {
    "id": "Jf5v5--k0q1J"
   },
   "outputs": [
    {
     "data": {
      "image/png": "[encoded data removed]",
      "text/plain": [
       "<Figure size 800x400 with 1 Axes>"
      ]
     },
     "metadata": {},
     "output_type": "display_data"
    }
   ],
   "source": [
    "# Compara la duración promedio de llamadas por cada plan y por cada mes. Traza un gráfico de barras para visualizarla.\n",
    " \n",
    "avg_min_per_user = data_with_plans_s.groupby(['month_year', 'plan_name'])['min_per_user'].mean()\n",
    "plt.figure(figsize=(8, 4))\n",
    "avg_min_per_user.plot(kind='bar', color=['blue', 'orange'], legend=False)\n",
    "plt.title('Duración promedio de las llamadas en los dos planes')\n",
    "plt.xlabel('Planes')\n",
    "plt.ylabel('Duracion (min)')\n",
    "plt.show()"
   ]
  },
  {
   "cell_type": "code",
   "execution_count": 47,
   "metadata": {
    "id": "QoLqW1S_0q1J"
   },
   "outputs": [
    {
     "data": {
      "text/plain": [
       "<AxesSubplot:>"
      ]
     },
     "execution_count": 47,
     "metadata": {},
     "output_type": "execute_result"
    },
    {
     "data": {
      "image/png": "[encoded data removed]",
      "text/plain": [
       "<Figure size 800x400 with 1 Axes>"
      ]
     },
     "metadata": {},
     "output_type": "display_data"
    }
   ],
   "source": [
    "# Compara el número de minutos mensuales que necesitan los usuarios de cada plan. Traza un histograma.\n",
    "surf_behavior = data_with_plans_s.query('plan_name == \"surf\"')\n",
    "ultimate_behavior = data_with_plans_s.query('plan_name == \"ultimate\"')\n",
    "plt.figure(figsize=(8,4))\n",
    "surf_behavior ['min_per_user'].hist(bins=40,density=True)\n",
    "ultimate_behavior ['min_per_user'].hist(bins=40, density=True, color='orange', alpha=0.5)"
   ]
  },
  {
   "cell_type": "code",
   "execution_count": 48,
   "metadata": {
    "id": "oSndbAnt0q1K"
   },
   "outputs": [
    {
     "data": {
      "text/plain": [
       "month_year\n",
       "2018-01    192.840000\n",
       "2018-02    280.851111\n",
       "2018-03    310.970000\n",
       "2018-04    332.380000\n",
       "2018-05    377.053247\n",
       "2018-06    407.208866\n",
       "2018-07    424.523223\n",
       "2018-08    387.169630\n",
       "2018-09    390.992062\n",
       "2018-10    405.692363\n",
       "2018-11    399.599823\n",
       "2018-12    447.475283\n",
       "Freq: M, Name: min_per_user, dtype: float64"
      ]
     },
     "execution_count": 48,
     "metadata": {},
     "output_type": "execute_result"
    }
   ],
   "source": [
    "# Calcula la media y la varianza de la duración mensual de llamadas.\n",
    "#Promedio de llamada Surf\n",
    "surf_behavior = data_with_plans_s.query('plan_name == \"surf\"')\n",
    "prom_calls_duration_surf =surf_behavior.groupby(['month_year'])['min_per_user'].apply(np.mean)\n",
    "prom_calls_duration_surf\n"
   ]
  },
  {
   "cell_type": "code",
   "execution_count": 49,
   "metadata": {},
   "outputs": [
    {
     "data": {
      "text/plain": [
       "month_year\n",
       "2018-01     7397.720100\n",
       "2018-02    41741.528854\n",
       "2018-03    30437.782426\n",
       "2018-04    44703.353460\n",
       "2018-05    52590.936214\n",
       "2018-06    40338.468810\n",
       "2018-07    53984.314774\n",
       "2018-08    48315.962643\n",
       "2018-09    41366.162199\n",
       "2018-10    46534.251286\n",
       "2018-11    45942.170426\n",
       "2018-12    56804.054821\n",
       "Freq: M, Name: min_per_user, dtype: float64"
      ]
     },
     "execution_count": 49,
     "metadata": {},
     "output_type": "execute_result"
    }
   ],
   "source": [
    "#Varianza de Surf\n",
    "surf_behavior = data_with_plans_s.query('plan_name == \"surf\"')\n",
    "var_calls_duration_surf = surf_behavior.groupby('month_year')['min_per_user'].apply(np.var)\n",
    "var_calls_duration_surf"
   ]
  },
  {
   "cell_type": "code",
   "execution_count": 50,
   "metadata": {
    "id": "nZzoRUKc0q1K"
   },
   "outputs": [
    {
     "data": {
      "text/plain": [
       "Text(0.5, 1.0, 'Surf Plan')"
      ]
     },
     "execution_count": 50,
     "metadata": {},
     "output_type": "execute_result"
    },
    {
     "data": {
      "image/png": "[encoded data removed]",
      "text/plain": [
       "<Figure size 640x480 with 1 Axes>"
      ]
     },
     "metadata": {},
     "output_type": "display_data"
    }
   ],
   "source": [
    "# Traza un diagrama de caja para visualizar la distribución de la duración mensual de llamadas\n",
    "sns.boxplot(x='month_year', y='min_per_user', data=surf_behavior)\n",
    "plt.xticks(rotation=45)\n",
    "plt.title('Surf Plan')"
   ]
  },
  {
   "cell_type": "code",
   "execution_count": 51,
   "metadata": {},
   "outputs": [
    {
     "data": {
      "text/plain": [
       "month_year\n",
       "2018-01    183.162500\n",
       "2018-02    379.861429\n",
       "2018-03    285.701667\n",
       "2018-04    316.508095\n",
       "2018-05    383.664828\n",
       "2018-06    349.811064\n",
       "2018-07    403.767288\n",
       "2018-08    397.274789\n",
       "2018-09    413.287326\n",
       "2018-10    425.168019\n",
       "2018-11    420.477559\n",
       "2018-12    433.012583\n",
       "Freq: M, Name: min_per_user, dtype: float64"
      ]
     },
     "execution_count": 51,
     "metadata": {},
     "output_type": "execute_result"
    }
   ],
   "source": [
    "#Promedio de llamada Ultimate\n",
    "ultimate_behavior = data_with_plans_s.query('plan_name == \"ultimate\"')\n",
    "prom_calls_duration_ultimate =ultimate_behavior.groupby(['month_year'])['min_per_user'].apply(np.mean)\n",
    "prom_calls_duration_ultimate"
   ]
  },
  {
   "cell_type": "code",
   "execution_count": 52,
   "metadata": {},
   "outputs": [
    {
     "data": {
      "text/plain": [
       "month_year\n",
       "2018-01    11243.527469\n",
       "2018-02    58748.818584\n",
       "2018-03    49751.090814\n",
       "2018-04    29578.788092\n",
       "2018-05    37935.762287\n",
       "2018-06    37116.480503\n",
       "2018-07    63745.368874\n",
       "2018-08    47008.637462\n",
       "2018-09    50401.546147\n",
       "2018-10    47914.889842\n",
       "2018-11    53837.867938\n",
       "2018-12    55412.302160\n",
       "Freq: M, Name: min_per_user, dtype: float64"
      ]
     },
     "execution_count": 52,
     "metadata": {},
     "output_type": "execute_result"
    }
   ],
   "source": [
    "#Varianza de Ultimate \n",
    "ultimate_behavior = data_with_plans_s.query('plan_name == \"ultimate\"')\n",
    "var_calls_duration_surf = ultimate_behavior.groupby('month_year')['min_per_user'].apply(np.var)\n",
    "var_calls_duration_surf"
   ]
  },
  {
   "cell_type": "code",
   "execution_count": 53,
   "metadata": {},
   "outputs": [
    {
     "data": {
      "text/plain": [
       "Text(0.5, 1.0, 'Ultimate Plan')"
      ]
     },
     "execution_count": 53,
     "metadata": {},
     "output_type": "execute_result"
    },
    {
     "data": {
      "image/png": "[encoded data removed]",
      "text/plain": [
       "<Figure size 640x480 with 1 Axes>"
      ]
     },
     "metadata": {},
     "output_type": "display_data"
    }
   ],
   "source": [
    "sns.boxplot(x='month_year', y='min_per_user', data=ultimate_behavior)\n",
    "plt.xticks(rotation=45)\n",
    "plt.title('Ultimate Plan')"
   ]
  },
  {
   "cell_type": "markdown",
   "metadata": {
    "id": "r627zBO50q1K"
   },
   "source": [
    "Las principales diferencias es que en el plan de Ultimate hay menos dispersión en sus datos, al contrario Surf, que sus datos relacionados a minutos son mucho más dispersos y esto lo comprobamos con la varianza, que aunque en ambos resulta bastante en el boxplot podemos confirmar cuál de los 2 planes resulta tener más dispersión\n",
    "Eso sí, el plan de Ultimate es más consistente en que aproximadamente 400 min por mes se ocupan en su plan.\n",
    "\n",
    "En ambos casos ocupan menos minutos de los que se les proporcionan\n",
    "\n"
   ]
  },
  {
   "cell_type": "markdown",
   "metadata": {
    "id": "8idKy8Wh0q1L"
   },
   "source": [
    "### Mensajes"
   ]
  },
  {
   "cell_type": "code",
   "execution_count": 54,
   "metadata": {
    "id": "NXLxiTit0q1L"
   },
   "outputs": [
    {
     "data": {
      "image/png": "[encoded data removed]",
      "text/plain": [
       "<Figure size 800x400 with 1 Axes>"
      ]
     },
     "metadata": {},
     "output_type": "display_data"
    }
   ],
   "source": [
    "# Compara el número de mensajes que tienden a enviar cada mes los usuarios de cada plan\n",
    "msj_user = data_with_plans_s.groupby(['month_year', 'plan_name'])['msj_per_user'].mean()\n",
    "plt.figure(figsize=(8, 4))\n",
    "avg_min_per_user.plot(kind='bar', color=['blue', 'orange'], grid= True, legend=False)\n",
    "plt.title('Mensajes promedio en los dos planes')\n",
    "plt.xlabel('Planes')\n",
    "plt.ylabel('Mensajes enviados')\n",
    "plt.show()"
   ]
  },
  {
   "cell_type": "code",
   "execution_count": 55,
   "metadata": {},
   "outputs": [
    {
     "data": {
      "text/plain": [
       "<AxesSubplot:>"
      ]
     },
     "execution_count": 55,
     "metadata": {},
     "output_type": "execute_result"
    },
    {
     "data": {
      "image/png": "[encoded data removed]",
      "text/plain": [
       "<Figure size 800x400 with 1 Axes>"
      ]
     },
     "metadata": {},
     "output_type": "display_data"
    }
   ],
   "source": [
    "# Compara el mensajes mensuales que necesitan los usuarios de cada plan. Traza un histograma.\n",
    "surf_behavior = data_with_plans_s.query('plan_name == \"surf\"')\n",
    "ultimate_behavior = data_with_plans_s.query('plan_name == \"ultimate\"')\n",
    "plt.figure(figsize=(8,4))\n",
    "surf_behavior ['msj_per_user'].hist(bins=40, density=True)\n",
    "ultimate_behavior ['msj_per_user'].hist(bins=40,  density=True, color='orange', alpha=0.5)\n",
    "\n"
   ]
  },
  {
   "cell_type": "markdown",
   "metadata": {
    "id": "390SSL480q1M"
   },
   "source": [
    "En el plan de Ultimate sus usuarios no llegan ni cerca de los 1000 msj que se les da, el promedio ronda en los 30-50 mensajes por mes. Y son los usuarios que más reportan casos donde no ocupan sus mensajes incluídos.\n",
    "En el caso del plan Surf de aunque son varios los que tampoco ocupan sus mensajes a la par, también visualizamos que varios usuarios rebasan los 50msj que incluye su plan y eso aumenta el costo total mensual del usuario."
   ]
  },
  {
   "cell_type": "markdown",
   "metadata": {
    "id": "42YSypXz0q1M"
   },
   "source": [
    "### Internet"
   ]
  },
  {
   "cell_type": "code",
   "execution_count": 56,
   "metadata": {},
   "outputs": [
    {
     "data": {
      "image/png": "[encoded data removed]",
      "text/plain": [
       "<Figure size 800x400 with 1 Axes>"
      ]
     },
     "metadata": {},
     "output_type": "display_data"
    }
   ],
   "source": [
    "avg_mb_per_user = data_with_plans_s.groupby(['month_year', 'plan_name'])['traffic_per_gb'].mean()\n",
    "plt.figure(figsize=(8, 4))\n",
    "avg_mb_per_user.plot(kind='bar', color=['blue', 'orange'], legend=False, grid=True)\n",
    "plt.title('MB promedio usados en los dos planes')\n",
    "plt.xlabel('Planes')\n",
    "plt.show()"
   ]
  },
  {
   "cell_type": "code",
   "execution_count": 57,
   "metadata": {
    "id": "GRI_R7xF0q1L"
   },
   "outputs": [
    {
     "data": {
      "image/png": "[encoded data removed]",
      "text/plain": [
       "<Figure size 800x400 with 1 Axes>"
      ]
     },
     "metadata": {},
     "output_type": "display_data"
    }
   ],
   "source": [
    "# Compara la cantidad de tráfico de Internet consumido por usuarios por plan\n",
    "surf_behavior = data_with_plans_s.query('plan_name == \"surf\"')\n",
    "ultimate_behavior = data_with_plans_s.query('plan_name == \"ultimate\"')\n",
    "plt.figure(figsize=(8,4))\n",
    "surf_behavior ['traffic_per_gb'].hist(bins=65, density=True)\n",
    "ultimate_behavior ['traffic_per_gb'].hist(bins=65,density=True,   color='orange', alpha=0.5)\n",
    "plt.title('Densidad de los MB consumidos en cada plan')\n",
    "plt.xlabel('MB')\n",
    "plt.ylabel('Density')\n",
    "plt.show()\n"
   ]
  },
  {
   "cell_type": "code",
   "execution_count": 58,
   "metadata": {
    "id": "lSuKPtjh0q1M"
   },
   "outputs": [
    {
     "data": {
      "text/plain": [
       "month_year\n",
       "2018-01     8.697488\n",
       "2018-02    37.022026\n",
       "2018-03    62.254295\n",
       "2018-04    55.183451\n",
       "2018-05    57.867181\n",
       "2018-06    46.374187\n",
       "2018-07    61.180065\n",
       "2018-08    70.739526\n",
       "2018-09    48.687106\n",
       "2018-10    59.379682\n",
       "2018-11    54.334102\n",
       "2018-12    68.588762\n",
       "Freq: M, Name: traffic_per_gb, dtype: float64"
      ]
     },
     "execution_count": 58,
     "metadata": {},
     "output_type": "execute_result"
    }
   ],
   "source": [
    "#Varianza del internet en Surf\n",
    "surf_behavior_mb = data_with_plans_s.query('plan_name == \"surf\"')\n",
    "var_mb_duration_surf = surf_behavior_mb.groupby('month_year')['traffic_per_gb'].apply(np.var)\n",
    "var_mb_duration_surf"
   ]
  },
  {
   "cell_type": "code",
   "execution_count": 59,
   "metadata": {
    "id": "wnh8jYXi0q1N"
   },
   "outputs": [
    {
     "data": {
      "text/plain": [
       "month_year\n",
       "2018-01     11.726412\n",
       "2018-02     30.775694\n",
       "2018-03    122.684703\n",
       "2018-04     80.316278\n",
       "2018-05     52.291714\n",
       "2018-06     67.217167\n",
       "2018-07     64.143718\n",
       "2018-08     56.834904\n",
       "2018-09     46.506241\n",
       "2018-10     53.842149\n",
       "2018-11     54.489152\n",
       "2018-12     58.623782\n",
       "Freq: M, Name: traffic_per_gb, dtype: float64"
      ]
     },
     "execution_count": 59,
     "metadata": {},
     "output_type": "execute_result"
    }
   ],
   "source": [
    "#Varianza del internet en Ultimate\n",
    "ultimate_behavior_mb = data_with_plans_s.query('plan_name == \"ultimate\"')\n",
    "var_mb_duration_ultimate = ultimate_behavior_mb.groupby('month_year')['traffic_per_gb'].apply(np.var)\n",
    "var_mb_duration_ultimate"
   ]
  },
  {
   "cell_type": "code",
   "execution_count": 60,
   "metadata": {
    "id": "5VlyJ9ry0q1N"
   },
   "outputs": [
    {
     "data": {
      "text/plain": [
       "Text(0.5, 1.0, 'Surf Plan')"
      ]
     },
     "execution_count": 60,
     "metadata": {},
     "output_type": "execute_result"
    },
    {
     "data": {
      "image/png": "[encoded data removed]",
      "text/plain": [
       "<Figure size 640x480 with 1 Axes>"
      ]
     },
     "metadata": {},
     "output_type": "display_data"
    }
   ],
   "source": [
    "#BoxPlot Surf\n",
    "sns.boxplot(x='month_year', y='traffic_per_gb', data=surf_behavior_mb)\n",
    "plt.xticks(rotation=45)\n",
    "plt.title('Surf Plan')"
   ]
  },
  {
   "cell_type": "code",
   "execution_count": 61,
   "metadata": {},
   "outputs": [
    {
     "data": {
      "text/plain": [
       "Text(0.5, 1.0, 'Ultimate Plan')"
      ]
     },
     "execution_count": 61,
     "metadata": {},
     "output_type": "execute_result"
    },
    {
     "data": {
      "image/png": "[encoded data removed]",
      "text/plain": [
       "<Figure size 640x480 with 1 Axes>"
      ]
     },
     "metadata": {},
     "output_type": "display_data"
    }
   ],
   "source": [
    "#BoxPlot Ultimate\n",
    "sns.boxplot(x='month_year', y='traffic_per_gb', data=ultimate_behavior_mb)\n",
    "plt.xticks(rotation=45)\n",
    "plt.title('Ultimate Plan')"
   ]
  },
  {
   "cell_type": "markdown",
   "metadata": {
    "id": "UN9zwuMP0q1N"
   },
   "source": [
    "En el plan de Surf, aunque sus datos se encuentran dentro de los 15360Mb que se les dan, su promedio a partir de Julio comienza a ser más consistente. La gran mayoría de usuarios suelen rebasar estos Mb por lo que su gasto mensual incrementa.\n",
    "En el plan Ultimate sus datos son más consistentes respecto a los 30000Mb que se les proporcionan en Septiembre sus datos comienzan a ser más consistentes.\n",
    "En ambos casos sus mayores consumos se concentran en los 15000 y 18000Mb"
   ]
  },
  {
   "cell_type": "markdown",
   "metadata": {
    "id": "tCijq3260q1N"
   },
   "source": [
    "## Ingreso"
   ]
  },
  {
   "cell_type": "code",
   "execution_count": 62,
   "metadata": {},
   "outputs": [
    {
     "data": {
      "text/html": [
       "<div>\n",
       "<style scoped>\n",
       "    .dataframe tbody tr th:only-of-type {\n",
       "        vertical-align: middle;\n",
       "    }\n",
       "\n",
       "    .dataframe tbody tr th {\n",
       "        vertical-align: top;\n",
       "    }\n",
       "\n",
       "    .dataframe thead th {\n",
       "        text-align: right;\n",
       "    }\n",
       "</style>\n",
       "<table border=\"1\" class=\"dataframe\">\n",
       "  <thead>\n",
       "    <tr style=\"text-align: right;\">\n",
       "      <th></th>\n",
       "      <th>user_id</th>\n",
       "      <th>month_year</th>\n",
       "      <th>num_calls</th>\n",
       "      <th>min_per_user</th>\n",
       "      <th>msj_per_user</th>\n",
       "      <th>traffic_per_gb</th>\n",
       "      <th>first_name</th>\n",
       "      <th>last_name</th>\n",
       "      <th>age</th>\n",
       "      <th>city</th>\n",
       "      <th>...</th>\n",
       "      <th>churn_date</th>\n",
       "      <th>messages_included</th>\n",
       "      <th>mb_per_month_included</th>\n",
       "      <th>minutes_included</th>\n",
       "      <th>usd_monthly_pay</th>\n",
       "      <th>usd_per_gb</th>\n",
       "      <th>usd_per_message</th>\n",
       "      <th>usd_per_minute</th>\n",
       "      <th>plan_name</th>\n",
       "      <th>monthly_charges</th>\n",
       "    </tr>\n",
       "  </thead>\n",
       "  <tbody>\n",
       "    <tr>\n",
       "      <th>0</th>\n",
       "      <td>1000</td>\n",
       "      <td>2018-12</td>\n",
       "      <td>16.0</td>\n",
       "      <td>116.83</td>\n",
       "      <td>11.0</td>\n",
       "      <td>1.856904</td>\n",
       "      <td>Anamaria</td>\n",
       "      <td>Bauer</td>\n",
       "      <td>45</td>\n",
       "      <td>Atlanta-Sandy Springs-Roswell, GA MSA</td>\n",
       "      <td>...</td>\n",
       "      <td>in_use</td>\n",
       "      <td>1000</td>\n",
       "      <td>30.0</td>\n",
       "      <td>3000</td>\n",
       "      <td>70</td>\n",
       "      <td>7</td>\n",
       "      <td>0.01</td>\n",
       "      <td>0.01</td>\n",
       "      <td>ultimate</td>\n",
       "      <td>70.00</td>\n",
       "    </tr>\n",
       "    <tr>\n",
       "      <th>720</th>\n",
       "      <td>1001</td>\n",
       "      <td>2018-12</td>\n",
       "      <td>56.0</td>\n",
       "      <td>392.93</td>\n",
       "      <td>44.0</td>\n",
       "      <td>18.915215</td>\n",
       "      <td>Mickey</td>\n",
       "      <td>Wilkerson</td>\n",
       "      <td>28</td>\n",
       "      <td>Seattle-Tacoma-Bellevue, WA MSA</td>\n",
       "      <td>...</td>\n",
       "      <td>in_use</td>\n",
       "      <td>50</td>\n",
       "      <td>15.0</td>\n",
       "      <td>500</td>\n",
       "      <td>20</td>\n",
       "      <td>10</td>\n",
       "      <td>0.03</td>\n",
       "      <td>0.03</td>\n",
       "      <td>surf</td>\n",
       "      <td>60.00</td>\n",
       "    </tr>\n",
       "    <tr>\n",
       "      <th>721</th>\n",
       "      <td>1001</td>\n",
       "      <td>2018-11</td>\n",
       "      <td>64.0</td>\n",
       "      <td>404.59</td>\n",
       "      <td>36.0</td>\n",
       "      <td>18.070605</td>\n",
       "      <td>Mickey</td>\n",
       "      <td>Wilkerson</td>\n",
       "      <td>28</td>\n",
       "      <td>Seattle-Tacoma-Bellevue, WA MSA</td>\n",
       "      <td>...</td>\n",
       "      <td>in_use</td>\n",
       "      <td>50</td>\n",
       "      <td>15.0</td>\n",
       "      <td>500</td>\n",
       "      <td>20</td>\n",
       "      <td>10</td>\n",
       "      <td>0.03</td>\n",
       "      <td>0.03</td>\n",
       "      <td>surf</td>\n",
       "      <td>60.00</td>\n",
       "    </tr>\n",
       "    <tr>\n",
       "      <th>722</th>\n",
       "      <td>1001</td>\n",
       "      <td>2018-10</td>\n",
       "      <td>65.0</td>\n",
       "      <td>374.11</td>\n",
       "      <td>53.0</td>\n",
       "      <td>21.807119</td>\n",
       "      <td>Mickey</td>\n",
       "      <td>Wilkerson</td>\n",
       "      <td>28</td>\n",
       "      <td>Seattle-Tacoma-Bellevue, WA MSA</td>\n",
       "      <td>...</td>\n",
       "      <td>in_use</td>\n",
       "      <td>50</td>\n",
       "      <td>15.0</td>\n",
       "      <td>500</td>\n",
       "      <td>20</td>\n",
       "      <td>10</td>\n",
       "      <td>0.03</td>\n",
       "      <td>0.03</td>\n",
       "      <td>surf</td>\n",
       "      <td>90.09</td>\n",
       "    </tr>\n",
       "    <tr>\n",
       "      <th>723</th>\n",
       "      <td>1001</td>\n",
       "      <td>2018-09</td>\n",
       "      <td>49.0</td>\n",
       "      <td>297.69</td>\n",
       "      <td>44.0</td>\n",
       "      <td>13.002754</td>\n",
       "      <td>Mickey</td>\n",
       "      <td>Wilkerson</td>\n",
       "      <td>28</td>\n",
       "      <td>Seattle-Tacoma-Bellevue, WA MSA</td>\n",
       "      <td>...</td>\n",
       "      <td>in_use</td>\n",
       "      <td>50</td>\n",
       "      <td>15.0</td>\n",
       "      <td>500</td>\n",
       "      <td>20</td>\n",
       "      <td>10</td>\n",
       "      <td>0.03</td>\n",
       "      <td>0.03</td>\n",
       "      <td>surf</td>\n",
       "      <td>20.00</td>\n",
       "    </tr>\n",
       "  </tbody>\n",
       "</table>\n",
       "<p>5 rows × 21 columns</p>\n",
       "</div>"
      ],
      "text/plain": [
       "     user_id month_year  num_calls  min_per_user  msj_per_user  \\\n",
       "0       1000    2018-12       16.0        116.83          11.0   \n",
       "720     1001    2018-12       56.0        392.93          44.0   \n",
       "721     1001    2018-11       64.0        404.59          36.0   \n",
       "722     1001    2018-10       65.0        374.11          53.0   \n",
       "723     1001    2018-09       49.0        297.69          44.0   \n",
       "\n",
       "     traffic_per_gb first_name  last_name  age  \\\n",
       "0          1.856904   Anamaria      Bauer   45   \n",
       "720       18.915215     Mickey  Wilkerson   28   \n",
       "721       18.070605     Mickey  Wilkerson   28   \n",
       "722       21.807119     Mickey  Wilkerson   28   \n",
       "723       13.002754     Mickey  Wilkerson   28   \n",
       "\n",
       "                                      city  ... churn_date messages_included  \\\n",
       "0    Atlanta-Sandy Springs-Roswell, GA MSA  ...     in_use              1000   \n",
       "720        Seattle-Tacoma-Bellevue, WA MSA  ...     in_use                50   \n",
       "721        Seattle-Tacoma-Bellevue, WA MSA  ...     in_use                50   \n",
       "722        Seattle-Tacoma-Bellevue, WA MSA  ...     in_use                50   \n",
       "723        Seattle-Tacoma-Bellevue, WA MSA  ...     in_use                50   \n",
       "\n",
       "     mb_per_month_included  minutes_included  usd_monthly_pay  usd_per_gb  \\\n",
       "0                     30.0              3000               70           7   \n",
       "720                   15.0               500               20          10   \n",
       "721                   15.0               500               20          10   \n",
       "722                   15.0               500               20          10   \n",
       "723                   15.0               500               20          10   \n",
       "\n",
       "     usd_per_message  usd_per_minute  plan_name monthly_charges  \n",
       "0               0.01            0.01   ultimate           70.00  \n",
       "720             0.03            0.03       surf           60.00  \n",
       "721             0.03            0.03       surf           60.00  \n",
       "722             0.03            0.03       surf           90.09  \n",
       "723             0.03            0.03       surf           20.00  \n",
       "\n",
       "[5 rows x 21 columns]"
      ]
     },
     "execution_count": 62,
     "metadata": {},
     "output_type": "execute_result"
    }
   ],
   "source": [
    "data_with_plans_s.head()"
   ]
  },
  {
   "cell_type": "markdown",
   "metadata": {},
   "source": [
    "Como el cálculo lo había realizado líneas más arriba, procedí al análisis"
   ]
  },
  {
   "cell_type": "code",
   "execution_count": 63,
   "metadata": {
    "id": "tz-dq_V00q1O"
   },
   "outputs": [
    {
     "data": {
      "image/png": "[encoded data removed]",
      "text/plain": [
       "<Figure size 800x400 with 1 Axes>"
      ]
     },
     "metadata": {},
     "output_type": "display_data"
    }
   ],
   "source": [
    "avg_income_per_user = data_with_plans_s.groupby(['month_year', 'plan_name'])['monthly_charges'].mean()\n",
    "plt.figure(figsize=(8, 4))\n",
    "avg_income_per_user.plot(kind='bar', color=['blue', 'orange'], legend=False, grid=True)\n",
    "plt.title('Income promedio en los dos planes')\n",
    "plt.ylabel('Income (USD)')\n",
    "plt.xlabel('Plan')\n",
    "plt.show()"
   ]
  },
  {
   "cell_type": "code",
   "execution_count": 64,
   "metadata": {
    "id": "bYmwxyVh0q1P"
   },
   "outputs": [
    {
     "data": {
      "text/plain": [
       "month_year\n",
       "2018-01    70.000000\n",
       "2018-02    70.000000\n",
       "2018-03    74.666667\n",
       "2018-04    73.000000\n",
       "2018-05    70.724138\n",
       "2018-06    71.638298\n",
       "2018-07    71.898305\n",
       "2018-08    72.859155\n",
       "2018-09    72.034884\n",
       "2018-10    72.311321\n",
       "2018-11    71.708661\n",
       "2018-12    73.291391\n",
       "Freq: M, Name: monthly_charges, dtype: float64"
      ]
     },
     "execution_count": 64,
     "metadata": {},
     "output_type": "execute_result"
    }
   ],
   "source": [
    "#Promedio y Varianza para Ultimate\n",
    "ultimate_behavior_inc = data_with_plans_s.query('plan_name == \"ultimate\"')\n",
    "avg_inc_ultimate =ultimate_behavior_inc.groupby(['month_year'])['monthly_charges'].apply(np.mean)\n",
    "avg_inc_ultimate"
   ]
  },
  {
   "cell_type": "code",
   "execution_count": 65,
   "metadata": {},
   "outputs": [
    {
     "data": {
      "text/plain": [
       "month_year\n",
       "2018-01      0.000000\n",
       "2018-02      0.000000\n",
       "2018-03    133.388889\n",
       "2018-04    114.666667\n",
       "2018-05     14.682521\n",
       "2018-06     73.422363\n",
       "2018-07    102.701523\n",
       "2018-08    152.628050\n",
       "2018-09     75.056923\n",
       "2018-10    168.006853\n",
       "2018-11     93.922996\n",
       "2018-12    211.451515\n",
       "Freq: M, Name: monthly_charges, dtype: float64"
      ]
     },
     "execution_count": 65,
     "metadata": {},
     "output_type": "execute_result"
    }
   ],
   "source": [
    "ultimate_behavior_inc = data_with_plans_s.query('plan_name == \"ultimate\"')\n",
    "var_inc_surf = ultimate_behavior_inc.groupby('month_year')['monthly_charges'].apply(np.var)\n",
    "var_inc_surf "
   ]
  },
  {
   "cell_type": "code",
   "execution_count": 66,
   "metadata": {},
   "outputs": [
    {
     "data": {
      "text/plain": [
       "Text(0.5, 1.0, 'Ultimate Plan')"
      ]
     },
     "execution_count": 66,
     "metadata": {},
     "output_type": "execute_result"
    },
    {
     "data": {
      "image/png": "[encoded data removed]",
      "text/plain": [
       "<Figure size 640x480 with 1 Axes>"
      ]
     },
     "metadata": {},
     "output_type": "display_data"
    }
   ],
   "source": [
    "#BoxPlot Ultimate\n",
    "sns.boxplot(x='month_year', y='monthly_charges', data=ultimate_behavior_inc)\n",
    "plt.xticks(rotation=45)\n",
    "plt.title('Ultimate Plan')"
   ]
  },
  {
   "cell_type": "code",
   "execution_count": 67,
   "metadata": {},
   "outputs": [],
   "source": [
    "#Promedio y Varianza para Surf"
   ]
  },
  {
   "cell_type": "code",
   "execution_count": 68,
   "metadata": {},
   "outputs": [
    {
     "data": {
      "text/plain": [
       "month_year\n",
       "2018-01    20.000000\n",
       "2018-02    34.256733\n",
       "2018-03    45.790261\n",
       "2018-04    40.454700\n",
       "2018-05    47.235155\n",
       "2018-06    48.930735\n",
       "2018-07    62.221942\n",
       "2018-08    63.572562\n",
       "2018-09    57.948540\n",
       "2018-10    65.046710\n",
       "2018-11    57.628813\n",
       "2018-12    70.102687\n",
       "Freq: M, Name: monthly_charges, dtype: float64"
      ]
     },
     "execution_count": 68,
     "metadata": {},
     "output_type": "execute_result"
    }
   ],
   "source": [
    "surf_behavior_inc = data_with_plans_s.query('plan_name == \"surf\"')\n",
    "avg_inc_surf =surf_behavior_inc.groupby(['month_year'])['monthly_charges'].apply(np.mean)\n",
    "avg_inc_surf"
   ]
  },
  {
   "cell_type": "code",
   "execution_count": 69,
   "metadata": {},
   "outputs": [
    {
     "data": {
      "text/plain": [
       "month_year\n",
       "2018-01       0.000000\n",
       "2018-02     382.197340\n",
       "2018-03    1442.058659\n",
       "2018-04    1172.941840\n",
       "2018-05    1924.496754\n",
       "2018-06    1957.330835\n",
       "2018-07    2897.151805\n",
       "2018-08    3550.595437\n",
       "2018-09    2240.608705\n",
       "2018-10    3165.774383\n",
       "2018-11    2476.494916\n",
       "2018-12    4576.138234\n",
       "Freq: M, Name: monthly_charges, dtype: float64"
      ]
     },
     "execution_count": 69,
     "metadata": {},
     "output_type": "execute_result"
    }
   ],
   "source": [
    "surf_behavior_inc = data_with_plans_s.query('plan_name == \"surf\"')\n",
    "var_inc_surf = surf_behavior_inc.groupby('month_year')['monthly_charges'].apply(np.var)\n",
    "var_inc_surf"
   ]
  },
  {
   "cell_type": "code",
   "execution_count": 70,
   "metadata": {},
   "outputs": [
    {
     "data": {
      "text/plain": [
       "Text(0.5, 1.0, 'Surf Plan')"
      ]
     },
     "execution_count": 70,
     "metadata": {},
     "output_type": "execute_result"
    },
    {
     "data": {
      "image/png": "[encoded data removed]",
      "text/plain": [
       "<Figure size 640x480 with 1 Axes>"
      ]
     },
     "metadata": {},
     "output_type": "display_data"
    }
   ],
   "source": [
    "#BoxPlot Surf\n",
    "sns.boxplot(x='month_year', y='monthly_charges', data=surf_behavior_inc)\n",
    "plt.xticks(rotation=45)\n",
    "plt.title('Surf Plan')"
   ]
  },
  {
   "cell_type": "markdown",
   "metadata": {
    "id": "KAFidcXZ0q1P"
   },
   "source": [
    "Del plan Surf de hecho es del que se está obteniendo mayores ingresos ya que sus usuarios es común que rebasen lo que se les proporciona dentro del plan así que terminan pagando más allá del doble del pago del plan así como también hay varios usuarios que están dispersos fuera del plan.\n",
    "Por otro lado el plan Ultimate, también tiene usuarios que sobrepasan los parámetros del plan pero son pocos y la gran mayoria solo realizan el pago normal que son 70$"
   ]
  },
  {
   "cell_type": "markdown",
   "metadata": {},
   "source": [
    "<div class=\"alert alert-block alert-success\">\n",
    "<b>Comentario revisor</b> <a class=\"tocSkip\"></a>\n",
    "\n",
    " Muy buena prática la de usar distintos tipos de gráficas identificar algunos hallazgos y llegar a conclusiones. En este caso las gráficas de box-plots nos ayudan a identificar outiers que pueden sesgar nuestros resultados, especificamente las pruebas de hipótesis. Es por ello que con estás gráficas puedes complementar el análisis eliminando los valores atipicos. \n",
    "</div>"
   ]
  },
  {
   "cell_type": "markdown",
   "metadata": {
    "id": "ajJ7VKeI0q1Q"
   },
   "source": [
    "## Prueba las hipótesis estadísticas"
   ]
  },
  {
   "cell_type": "markdown",
   "metadata": {
    "id": "IQwa_hsh0q1Q"
   },
   "source": [
    "Hipótesis nula: Los ingresos son diferentes promedio procedentes de los usuarios de los planes de llamada Ultimate y Surf\n",
    "\n",
    "Hipótesis alternativa:Los ingresos no son diferentespromedio procedentes de los usuarios de los planes de llamada Ultimate y Surf\n",
    "\n",
    "Alfa= 5%"
   ]
  },
  {
   "cell_type": "code",
   "execution_count": 71,
   "metadata": {
    "id": "nFoPNlPq0q1R"
   },
   "outputs": [
    {
     "data": {
      "text/plain": [
       "Ttest_indResult(statistic=-8.228840784742438, pvalue=3.5320199509520717e-16)"
      ]
     },
     "execution_count": 71,
     "metadata": {},
     "output_type": "execute_result"
    }
   ],
   "source": [
    "# Prueba las hipótesis\n",
    "from scipy.stats import ttest_ind\n",
    "\n",
    "ttest_ind(\n",
    "    data_with_plans_s.query('plan_name == \"surf\"')['monthly_charges'],\n",
    "    data_with_plans_s.query('plan_name == \"ultimate\"')['monthly_charges'],\n",
    "    equal_var = False\n",
    ")\n"
   ]
  },
  {
   "cell_type": "markdown",
   "metadata": {},
   "source": [
    "\n",
    "<div class=\"alert alert-block alert-danger\">\n",
    "<b>Comentario Revisor</b> <a class=\"tocSkip\"></a>\n",
    "\n",
    "Te recomiendo que dentro de la función de stats.ttest_ind adiciones el elemento \"equal_var = False\" dado que para estos datos no podemos asegurar que las varianzas son iguales entre planes.\n",
    "</div>"
   ]
  },
  {
   "cell_type": "markdown",
   "metadata": {},
   "source": [
    "<div class=\"alert alert-block alert-info\">\n",
    "<b>Gracias! Lo he agregado tomando en cuenta lo que me mencionaste.</b> <a class=\"tocSkip\"></a>"
   ]
  },
  {
   "cell_type": "markdown",
   "metadata": {},
   "source": [
    "<div class=\"alert alert-block alert-success\">\n",
    "<b>Comentario del revisor</b> <a class=\"tocSkip\"></a>\n",
    "\n",
    "Muy buen trabajo con los ajustes!\n",
    "</div>"
   ]
  },
  {
   "cell_type": "markdown",
   "metadata": {
    "id": "tCcAruM60q1R"
   },
   "source": [
    "Se RECHAZA la hipotesis nula ya que los dos promedios de los planes son diferentes, hay suficiente evidencia para deshecharla."
   ]
  },
  {
   "cell_type": "markdown",
   "metadata": {
    "id": "LsBgitqj0q1R"
   },
   "source": [
    "Hipótesis nula:El ingreso promedio de los usuarios en el área de estados Nueva York-Nueva Jersey es diferente al de los usuarios de otras regiones.\n",
    "\n",
    "Hipótesis alternativa:El ingreso promedio de los usuarios en el área de estados Nueva York-Nueva Jersey no es diferente al de los usuarios de otras regiones.\n",
    "\n",
    "Alfa= 5%"
   ]
  },
  {
   "cell_type": "code",
   "execution_count": 72,
   "metadata": {
    "id": "Cqcj7wrZ0q1S"
   },
   "outputs": [
    {
     "data": {
      "text/plain": [
       "Ttest_indResult(statistic=-1.5476960348808966, pvalue=0.12206751357960303)"
      ]
     },
     "execution_count": 72,
     "metadata": {},
     "output_type": "execute_result"
    }
   ],
   "source": [
    "# Prueba las hipótesis\n",
    "ny_nj_cities = data_with_plans_s[data_with_plans_s['city'].str.contains(\"NY|NJ|PA\")]\n",
    "other_cities = data_with_plans_s[~data_with_plans_s['city'].str.contains(\"NY|NJ|PA\")]\n",
    "ny_nj_charges = ny_nj_cities['monthly_charges']\n",
    "other_cities_charges = other_cities['monthly_charges']\n",
    "ttest_result = ttest_ind(ny_nj_charges, other_cities_charges, equal_var = False)\n",
    "\n",
    "ttest_result"
   ]
  },
  {
   "cell_type": "markdown",
   "metadata": {},
   "source": [
    "\n",
    "<div class=\"alert alert-block alert-danger\">\n",
    "<b>Comentario Revisor</b> <a class=\"tocSkip\"></a>\n",
    "\n",
    "Te recomiendo que dentro de la función de stats.ttest_ind adiciones el elemento \"equal_var = False\" dado que para estos datos no podemos asegurar que las varianzas son iguales entre planes.\n",
    "</div>"
   ]
  },
  {
   "cell_type": "markdown",
   "metadata": {},
   "source": [
    "<div class=\"alert alert-block alert-info\">\n",
    "<b>Gracias! Lo agregué también. </b> <a class=\"tocSkip\"></a>"
   ]
  },
  {
   "cell_type": "markdown",
   "metadata": {},
   "source": [
    "<div class=\"alert alert-block alert-success\">\n",
    "<b>Comentario del revisor</b> <a class=\"tocSkip\"></a>\n",
    "\n",
    "Muy buen trabajo con los ajustes!\n",
    "</div>"
   ]
  },
  {
   "cell_type": "markdown",
   "metadata": {},
   "source": [
    "Se ACEPTA la hipótesis ya que representa el 12%, entonces el ingreso promedio de los usuarios de Nueva York-Nueva Jersey sí es diferente a las demás regiones"
   ]
  },
  {
   "cell_type": "markdown",
   "metadata": {
    "id": "bbTR8UQO0q1T"
   },
   "source": [
    "## Conclusión general\n",
    "\n",
    "[En esta sección final, enumera tus conclusiones importantes. Asegúrate de que estas abarquen todas las decisiones (suposiciones) importantes que adoptaste y que determinaron la forma elegida para procesar y analizar los datos.]\n",
    "\n",
    "Mi conclusión general es que el plan Surf genera más ingresos para Megaline, aparentemente es un plan de menor costo pero comparado con Ultimate, este último la gran mayoría de sus usuarios pagan solo lo que corresponde a su paquete e incluso el pago por rebasar la tarifa dada de GB en el paquete es menor que el de Surf.\n",
    "Una de las principales carácterísticas que lo vuelven un producto de valor para Megaline a Surf es que cuando el usuario rebasa los Mb proporcionados se redondea inmediatamente para realizar el cobro de 10$ y en la actualidad (o bien en 2018) el internet es uno de los productos más utilizados en el mundo.\n",
    "En cuanto al cobro realizado por la duración de llamadas igualmente el plan Surf ofrece 500min pero el usuario es común que sobrepase este límite e incluso se llega a comparar el uso de minutos sobre el tiempo al de Ultimate, en tanto a Ultimate sus usuarios en mayoría no llegan a ocupar los 3000 minutos que se ofrecen\n",
    "El producto menos utilizado son los mensajes ya que en ambos planes hay muchos que no hacen uso de ellos. En tanto a Surf, los usuarios que utulizan este servicio es común que sobrepasen el límite de 50msj y los de Ultimate no rebasan siquiera los 400 asi que los 1000 le quedan perfecto al usuario.\n"
   ]
  },
  {
   "cell_type": "markdown",
   "metadata": {},
   "source": [
    "\n",
    "<div class=\"alert alert-block alert-warning\">\n",
    "<b>Comentario revisor</b> <a class=\"tocSkip\"></a>\n",
    "\n",
    "En general creo que hiciste un muy buen trabajo con el proyecto, pudiste limpiar y trabajar las bases de datos de beuna manera, así como juntar la información. Además, considero que el análisis con las gráficas y con las pruebas de hipótesis es muy acertado. No obstante, recuerda que siempre podemos mejorar y te menciono algunos puntos que debes considerar:\n",
    "\n",
    "    \n",
    "*  verificar la  prueba de hipótesis\n",
    "</div>"
   ]
  },
  {
   "cell_type": "markdown",
   "metadata": {},
   "source": [
    "<div class=\"alert alert-block alert-info\">\n",
    "<b>Gracias por tu retroalimentación, igual cualquier otro detalle lo tomaré en cuenta! :) </b> <a class=\"tocSkip\"></a>"
   ]
  },
  {
   "cell_type": "markdown",
   "metadata": {},
   "source": [
    "<div class=\"alert alert-block alert-success\">\n",
    "<b>Comentario del revisor</b> <a class=\"tocSkip\"></a>\n",
    "\n",
    "Muy buen trabajo con los ajustes! Que sigas disfrutando los siguientes cursos!\n",
    "</div>"
   ]
  }
 ],
 "metadata": {
  "ExecuteTimeLog": [
   {
    "duration": 828,
    "start_time": "2021-11-16T09:21:11.304Z"
   },
   {
    "duration": 893,
    "start_time": "2021-11-16T09:21:17.728Z"
   },
   {
    "duration": 1150,
    "start_time": "2021-11-16T09:21:29.568Z"
   },
   {
    "duration": 3,
    "start_time": "2021-11-16T09:24:14.495Z"
   },
   {
    "duration": 120,
    "start_time": "2021-11-16T09:24:46.630Z"
   },
   {
    "duration": 3,
    "start_time": "2021-11-16T09:28:27.882Z"
   },
   {
    "duration": 4,
    "start_time": "2021-11-16T09:29:54.281Z"
   },
   {
    "duration": 3,
    "start_time": "2021-11-16T09:30:45.936Z"
   },
   {
    "duration": 4,
    "start_time": "2021-11-16T09:31:06.300Z"
   },
   {
    "duration": 113,
    "start_time": "2021-11-16T09:31:37.208Z"
   },
   {
    "duration": 143,
    "start_time": "2021-11-16T09:31:48.656Z"
   },
   {
    "duration": 98,
    "start_time": "2021-11-16T09:31:55.678Z"
   },
   {
    "duration": 3,
    "start_time": "2021-11-16T09:32:08.535Z"
   },
   {
    "duration": 111,
    "start_time": "2021-11-16T09:32:10.120Z"
   },
   {
    "duration": 3,
    "start_time": "2021-11-16T09:32:15.732Z"
   },
   {
    "duration": 4,
    "start_time": "2021-11-16T09:32:29.423Z"
   },
   {
    "duration": 3,
    "start_time": "2021-11-16T10:03:03.074Z"
   },
   {
    "duration": 3,
    "start_time": "2021-11-16T10:10:01.288Z"
   },
   {
    "duration": 3,
    "start_time": "2021-11-16T10:10:46.923Z"
   },
   {
    "duration": 121,
    "start_time": "2021-11-16T10:37:46.494Z"
   },
   {
    "duration": 125,
    "start_time": "2021-11-16T10:38:20.632Z"
   },
   {
    "duration": 112,
    "start_time": "2021-11-16T10:46:53.001Z"
   },
   {
    "duration": 110,
    "start_time": "2021-11-16T10:48:25.775Z"
   },
   {
    "duration": 3,
    "start_time": "2021-11-16T10:50:18.720Z"
   },
   {
    "duration": 4,
    "start_time": "2021-11-16T10:50:37.649Z"
   },
   {
    "duration": 2,
    "start_time": "2021-11-16T10:50:51.884Z"
   },
   {
    "duration": 3,
    "start_time": "2021-11-16T10:51:56.237Z"
   },
   {
    "duration": 101,
    "start_time": "2021-11-16T10:53:13.791Z"
   },
   {
    "duration": 3,
    "start_time": "2021-11-16T10:55:59.186Z"
   },
   {
    "duration": 3,
    "start_time": "2021-11-16T10:56:10.751Z"
   },
   {
    "duration": 3,
    "start_time": "2021-11-16T10:56:49.038Z"
   },
   {
    "duration": 3,
    "start_time": "2021-11-16T10:56:49.174Z"
   },
   {
    "duration": 4,
    "start_time": "2021-11-16T10:56:49.414Z"
   },
   {
    "duration": 3,
    "start_time": "2021-11-16T10:56:49.680Z"
   },
   {
    "duration": 3,
    "start_time": "2021-11-16T10:56:50.370Z"
   },
   {
    "duration": 114,
    "start_time": "2021-11-16T10:59:34.518Z"
   },
   {
    "duration": 3,
    "start_time": "2021-11-16T11:01:41.201Z"
   },
   {
    "duration": 116,
    "start_time": "2021-11-16T11:01:48.754Z"
   },
   {
    "duration": 3,
    "start_time": "2021-11-16T11:02:16.685Z"
   },
   {
    "duration": 3,
    "start_time": "2021-11-16T11:02:19.479Z"
   },
   {
    "duration": 3,
    "start_time": "2021-11-16T11:02:47.067Z"
   },
   {
    "duration": 3,
    "start_time": "2021-11-16T11:02:49.353Z"
   },
   {
    "duration": 3,
    "start_time": "2021-11-16T11:03:07.835Z"
   },
   {
    "duration": 3,
    "start_time": "2021-11-16T11:03:07.953Z"
   },
   {
    "duration": 112,
    "start_time": "2021-11-16T11:07:52.072Z"
   },
   {
    "duration": 187,
    "start_time": "2021-11-16T11:09:23.468Z"
   },
   {
    "duration": 4,
    "start_time": "2021-11-16T11:10:01.455Z"
   },
   {
    "duration": 3,
    "start_time": "2021-11-16T11:10:05.069Z"
   },
   {
    "duration": 4,
    "start_time": "2021-11-16T11:10:13.376Z"
   },
   {
    "duration": 3,
    "start_time": "2021-11-16T11:10:14.434Z"
   },
   {
    "duration": 3,
    "start_time": "2021-11-16T11:10:22.853Z"
   },
   {
    "duration": 4,
    "start_time": "2021-11-16T11:27:29.279Z"
   },
   {
    "duration": 4,
    "start_time": "2021-11-16T11:29:08.919Z"
   },
   {
    "duration": 118,
    "start_time": "2021-11-16T11:29:46.703Z"
   },
   {
    "duration": 437,
    "start_time": "2021-11-16T11:36:02.181Z"
   },
   {
    "duration": 157,
    "start_time": "2021-11-16T11:36:14.388Z"
   },
   {
    "duration": 207,
    "start_time": "2021-11-16T11:47:15.898Z"
   },
   {
    "duration": 3,
    "start_time": "2021-11-16T11:53:52.092Z"
   },
   {
    "duration": 3,
    "start_time": "2021-11-16T11:53:52.236Z"
   },
   {
    "duration": 3,
    "start_time": "2021-11-16T11:59:12.005Z"
   },
   {
    "duration": 112,
    "start_time": "2021-11-16T12:00:33.446Z"
   },
   {
    "duration": 3,
    "start_time": "2021-11-16T12:02:14.453Z"
   },
   {
    "duration": 3,
    "start_time": "2021-11-16T12:02:39.512Z"
   },
   {
    "duration": 106,
    "start_time": "2021-11-16T12:03:03.460Z"
   },
   {
    "duration": 3,
    "start_time": "2021-11-17T20:37:21.139Z"
   },
   {
    "duration": 3,
    "start_time": "2021-11-17T20:37:22.229Z"
   },
   {
    "duration": 3,
    "start_time": "2021-11-17T20:38:38.806Z"
   },
   {
    "duration": 3,
    "start_time": "2021-11-17T20:38:41.958Z"
   },
   {
    "duration": 3,
    "start_time": "2021-11-17T20:43:46.551Z"
   },
   {
    "duration": 4,
    "start_time": "2021-11-17T20:58:21.835Z"
   },
   {
    "duration": 3,
    "start_time": "2021-11-17T20:59:21.872Z"
   },
   {
    "duration": 4,
    "start_time": "2021-11-17T20:59:45.352Z"
   },
   {
    "duration": 4,
    "start_time": "2021-11-17T20:59:49.646Z"
   },
   {
    "duration": 159,
    "start_time": "2021-11-17T21:02:26.949Z"
   },
   {
    "duration": 3,
    "start_time": "2021-11-17T21:03:53.461Z"
   },
   {
    "duration": 3,
    "start_time": "2021-11-17T21:03:53.694Z"
   },
   {
    "duration": 3,
    "start_time": "2021-11-17T21:05:28.145Z"
   },
   {
    "duration": 116,
    "start_time": "2021-11-17T21:05:57.787Z"
   },
   {
    "duration": 3,
    "start_time": "2021-11-17T21:06:37.993Z"
   },
   {
    "duration": 3,
    "start_time": "2021-11-17T21:06:38.261Z"
   },
   {
    "duration": 3,
    "start_time": "2021-11-17T21:11:54.358Z"
   },
   {
    "duration": 3,
    "start_time": "2021-11-17T21:12:43.846Z"
   },
   {
    "duration": 4,
    "start_time": "2021-11-17T21:13:08.773Z"
   },
   {
    "duration": 3,
    "start_time": "2021-11-17T21:14:44.441Z"
   },
   {
    "duration": 3,
    "start_time": "2021-11-17T21:15:42.059Z"
   },
   {
    "duration": 4,
    "start_time": "2021-11-17T21:15:51.995Z"
   },
   {
    "duration": 3,
    "start_time": "2021-11-17T21:15:53.923Z"
   },
   {
    "duration": 3,
    "start_time": "2021-11-17T21:15:55.282Z"
   },
   {
    "duration": 3,
    "start_time": "2021-11-17T21:16:28.492Z"
   },
   {
    "duration": 3,
    "start_time": "2021-11-17T21:16:32.603Z"
   },
   {
    "duration": 3,
    "start_time": "2021-11-17T21:17:06.941Z"
   },
   {
    "duration": 98,
    "start_time": "2021-11-17T21:18:05.733Z"
   },
   {
    "duration": 4,
    "start_time": "2021-11-17T21:21:35.255Z"
   },
   {
    "duration": 3,
    "start_time": "2021-11-17T21:21:37.804Z"
   },
   {
    "duration": 4,
    "start_time": "2021-11-17T21:23:06.071Z"
   },
   {
    "duration": 3,
    "start_time": "2021-11-17T21:23:24.799Z"
   },
   {
    "duration": 3,
    "start_time": "2021-11-17T21:23:32.591Z"
   },
   {
    "duration": 98,
    "start_time": "2021-11-17T21:28:31.559Z"
   },
   {
    "duration": 3,
    "start_time": "2021-11-17T21:28:45.448Z"
   },
   {
    "duration": 3,
    "start_time": "2021-11-17T21:29:17.303Z"
   },
   {
    "duration": 3,
    "start_time": "2021-11-17T21:29:29.617Z"
   },
   {
    "duration": 3,
    "start_time": "2021-11-17T21:29:32.681Z"
   },
   {
    "duration": 3,
    "start_time": "2021-11-17T21:36:11.474Z"
   },
   {
    "duration": 3,
    "start_time": "2021-11-17T21:36:14.791Z"
   },
   {
    "duration": 3,
    "start_time": "2021-11-17T21:36:53.943Z"
   },
   {
    "duration": 3,
    "start_time": "2021-11-17T21:36:56.165Z"
   },
   {
    "duration": 4,
    "start_time": "2021-11-17T21:37:16.590Z"
   },
   {
    "duration": 3,
    "start_time": "2021-11-17T21:37:22.702Z"
   },
   {
    "duration": 4,
    "start_time": "2021-11-17T21:38:03.479Z"
   },
   {
    "duration": 3,
    "start_time": "2021-11-17T21:38:08.601Z"
   },
   {
    "duration": 3,
    "start_time": "2021-11-17T21:38:12.928Z"
   },
   {
    "duration": 3,
    "start_time": "2021-11-17T21:38:48.896Z"
   },
   {
    "duration": 2,
    "start_time": "2021-11-17T21:38:49.171Z"
   },
   {
    "duration": 4,
    "start_time": "2021-11-17T21:39:57.889Z"
   },
   {
    "duration": 3,
    "start_time": "2021-11-17T21:39:58.057Z"
   },
   {
    "duration": 3,
    "start_time": "2021-11-17T21:41:20.108Z"
   },
   {
    "duration": 3,
    "start_time": "2021-11-17T21:41:20.629Z"
   },
   {
    "duration": 3,
    "start_time": "2021-11-17T21:42:49.136Z"
   },
   {
    "duration": 3,
    "start_time": "2021-11-17T21:43:15.137Z"
   },
   {
    "duration": 4,
    "start_time": "2021-11-17T21:43:16.766Z"
   },
   {
    "duration": 4,
    "start_time": "2021-11-17T21:43:31.711Z"
   },
   {
    "duration": 3,
    "start_time": "2021-11-17T21:43:36.312Z"
   },
   {
    "duration": 4,
    "start_time": "2021-11-17T21:45:08.825Z"
   },
   {
    "duration": 4,
    "start_time": "2021-11-17T21:45:10.119Z"
   },
   {
    "duration": 4,
    "start_time": "2021-11-17T21:45:13.748Z"
   },
   {
    "duration": 3,
    "start_time": "2021-11-17T21:45:22.219Z"
   },
   {
    "duration": 3,
    "start_time": "2021-11-17T21:45:33.412Z"
   },
   {
    "duration": 2,
    "start_time": "2021-11-17T21:46:01.885Z"
   },
   {
    "duration": 3,
    "start_time": "2021-11-17T21:46:03.628Z"
   },
   {
    "duration": 107,
    "start_time": "2021-11-17T21:47:32.512Z"
   },
   {
    "duration": 103,
    "start_time": "2021-11-17T21:50:36.243Z"
   },
   {
    "duration": 3,
    "start_time": "2021-11-18T06:28:31.440Z"
   },
   {
    "duration": 3,
    "start_time": "2021-11-18T06:29:00.168Z"
   },
   {
    "duration": 3,
    "start_time": "2021-11-18T06:31:27.008Z"
   },
   {
    "duration": 2,
    "start_time": "2021-11-18T06:35:34.288Z"
   },
   {
    "duration": 2,
    "start_time": "2021-11-18T06:38:04.527Z"
   },
   {
    "duration": 4963,
    "start_time": "2024-06-01T00:53:15.275Z"
   },
   {
    "duration": 1248,
    "start_time": "2024-06-01T00:53:31.609Z"
   },
   {
    "duration": 132,
    "start_time": "2024-06-01T00:54:24.400Z"
   },
   {
    "duration": 136,
    "start_time": "2024-06-01T00:54:28.787Z"
   },
   {
    "duration": 154,
    "start_time": "2024-06-01T00:55:42.570Z"
   },
   {
    "duration": 1305,
    "start_time": "2024-06-01T00:56:04.806Z"
   },
   {
    "duration": 1191,
    "start_time": "2024-06-01T00:56:06.118Z"
   },
   {
    "duration": 0,
    "start_time": "2024-06-01T00:56:07.315Z"
   },
   {
    "duration": 0,
    "start_time": "2024-06-01T00:56:07.317Z"
   },
   {
    "duration": 0,
    "start_time": "2024-06-01T00:56:07.319Z"
   },
   {
    "duration": 0,
    "start_time": "2024-06-01T00:56:07.322Z"
   },
   {
    "duration": 1,
    "start_time": "2024-06-01T00:56:07.324Z"
   },
   {
    "duration": 0,
    "start_time": "2024-06-01T00:56:07.327Z"
   },
   {
    "duration": 0,
    "start_time": "2024-06-01T00:56:07.329Z"
   },
   {
    "duration": 0,
    "start_time": "2024-06-01T00:56:07.331Z"
   },
   {
    "duration": 0,
    "start_time": "2024-06-01T00:56:07.333Z"
   },
   {
    "duration": 0,
    "start_time": "2024-06-01T00:56:07.335Z"
   },
   {
    "duration": 0,
    "start_time": "2024-06-01T00:56:07.338Z"
   },
   {
    "duration": 0,
    "start_time": "2024-06-01T00:56:07.340Z"
   },
   {
    "duration": 0,
    "start_time": "2024-06-01T00:56:07.342Z"
   },
   {
    "duration": 0,
    "start_time": "2024-06-01T00:56:07.344Z"
   },
   {
    "duration": 0,
    "start_time": "2024-06-01T00:56:07.392Z"
   },
   {
    "duration": 0,
    "start_time": "2024-06-01T00:56:07.393Z"
   },
   {
    "duration": 0,
    "start_time": "2024-06-01T00:56:07.395Z"
   },
   {
    "duration": 0,
    "start_time": "2024-06-01T00:56:07.397Z"
   },
   {
    "duration": 0,
    "start_time": "2024-06-01T00:56:07.399Z"
   },
   {
    "duration": 0,
    "start_time": "2024-06-01T00:56:07.401Z"
   },
   {
    "duration": 0,
    "start_time": "2024-06-01T00:56:07.404Z"
   },
   {
    "duration": 1,
    "start_time": "2024-06-01T00:56:07.406Z"
   },
   {
    "duration": 1,
    "start_time": "2024-06-01T00:56:07.408Z"
   },
   {
    "duration": 0,
    "start_time": "2024-06-01T00:56:07.411Z"
   },
   {
    "duration": 0,
    "start_time": "2024-06-01T00:56:07.413Z"
   },
   {
    "duration": 0,
    "start_time": "2024-06-01T00:56:07.415Z"
   },
   {
    "duration": 10,
    "start_time": "2024-06-01T00:57:06.525Z"
   },
   {
    "duration": 527,
    "start_time": "2024-06-01T00:57:29.264Z"
   },
   {
    "duration": 303,
    "start_time": "2024-06-01T00:58:07.353Z"
   },
   {
    "duration": 1322,
    "start_time": "2024-06-01T00:58:23.038Z"
   },
   {
    "duration": 308,
    "start_time": "2024-06-01T00:58:24.367Z"
   },
   {
    "duration": 3,
    "start_time": "2024-06-01T00:58:24.679Z"
   },
   {
    "duration": 4,
    "start_time": "2024-06-01T00:58:24.690Z"
   },
   {
    "duration": 4,
    "start_time": "2024-06-01T00:58:24.696Z"
   },
   {
    "duration": 3,
    "start_time": "2024-06-01T00:58:24.703Z"
   },
   {
    "duration": 3,
    "start_time": "2024-06-01T00:58:24.710Z"
   },
   {
    "duration": 3,
    "start_time": "2024-06-01T00:58:24.716Z"
   },
   {
    "duration": 3,
    "start_time": "2024-06-01T00:58:24.723Z"
   },
   {
    "duration": 61,
    "start_time": "2024-06-01T00:58:24.733Z"
   },
   {
    "duration": 5,
    "start_time": "2024-06-01T00:58:24.798Z"
   },
   {
    "duration": 4,
    "start_time": "2024-06-01T00:58:24.806Z"
   },
   {
    "duration": 3,
    "start_time": "2024-06-01T00:58:24.814Z"
   },
   {
    "duration": 3,
    "start_time": "2024-06-01T00:58:24.821Z"
   },
   {
    "duration": 9,
    "start_time": "2024-06-01T00:58:24.827Z"
   },
   {
    "duration": 4,
    "start_time": "2024-06-01T00:58:24.840Z"
   },
   {
    "duration": 4,
    "start_time": "2024-06-01T00:58:24.854Z"
   },
   {
    "duration": 30,
    "start_time": "2024-06-01T00:58:24.862Z"
   },
   {
    "duration": 8,
    "start_time": "2024-06-01T00:58:24.897Z"
   },
   {
    "duration": 5,
    "start_time": "2024-06-01T00:58:24.909Z"
   },
   {
    "duration": 3,
    "start_time": "2024-06-01T00:58:24.918Z"
   },
   {
    "duration": 4,
    "start_time": "2024-06-01T00:58:24.925Z"
   },
   {
    "duration": 4,
    "start_time": "2024-06-01T00:58:24.932Z"
   },
   {
    "duration": 53,
    "start_time": "2024-06-01T00:58:24.939Z"
   },
   {
    "duration": 3,
    "start_time": "2024-06-01T00:58:24.996Z"
   },
   {
    "duration": 4,
    "start_time": "2024-06-01T00:58:25.003Z"
   },
   {
    "duration": 4,
    "start_time": "2024-06-01T00:58:25.011Z"
   },
   {
    "duration": 4,
    "start_time": "2024-06-01T00:58:25.024Z"
   },
   {
    "duration": 19,
    "start_time": "2024-06-01T01:11:54.370Z"
   },
   {
    "duration": 42,
    "start_time": "2024-06-01T01:12:30.365Z"
   },
   {
    "duration": 491,
    "start_time": "2024-06-01T01:13:06.949Z"
   },
   {
    "duration": 7,
    "start_time": "2024-06-01T01:13:09.616Z"
   },
   {
    "duration": 14,
    "start_time": "2024-06-01T01:13:13.977Z"
   },
   {
    "duration": 19,
    "start_time": "2024-06-01T01:13:19.395Z"
   },
   {
    "duration": 16,
    "start_time": "2024-06-01T01:14:03.833Z"
   },
   {
    "duration": 312,
    "start_time": "2024-06-01T04:38:27.703Z"
   },
   {
    "duration": 5016,
    "start_time": "2024-06-01T04:38:34.260Z"
   },
   {
    "duration": 423,
    "start_time": "2024-06-01T04:38:39.280Z"
   },
   {
    "duration": 18,
    "start_time": "2024-06-01T04:38:39.706Z"
   },
   {
    "duration": 18,
    "start_time": "2024-06-01T04:38:39.733Z"
   },
   {
    "duration": 519,
    "start_time": "2024-06-01T04:38:39.754Z"
   },
   {
    "duration": 0,
    "start_time": "2024-06-01T04:38:40.279Z"
   },
   {
    "duration": 0,
    "start_time": "2024-06-01T04:38:40.281Z"
   },
   {
    "duration": 0,
    "start_time": "2024-06-01T04:38:40.286Z"
   },
   {
    "duration": 0,
    "start_time": "2024-06-01T04:38:40.292Z"
   },
   {
    "duration": 0,
    "start_time": "2024-06-01T04:38:40.293Z"
   },
   {
    "duration": 0,
    "start_time": "2024-06-01T04:38:40.295Z"
   },
   {
    "duration": 0,
    "start_time": "2024-06-01T04:38:40.297Z"
   },
   {
    "duration": 0,
    "start_time": "2024-06-01T04:38:40.299Z"
   },
   {
    "duration": 0,
    "start_time": "2024-06-01T04:38:40.301Z"
   },
   {
    "duration": 0,
    "start_time": "2024-06-01T04:38:40.331Z"
   },
   {
    "duration": 0,
    "start_time": "2024-06-01T04:38:40.334Z"
   },
   {
    "duration": 0,
    "start_time": "2024-06-01T04:38:40.335Z"
   },
   {
    "duration": 0,
    "start_time": "2024-06-01T04:38:40.338Z"
   },
   {
    "duration": 0,
    "start_time": "2024-06-01T04:38:40.341Z"
   },
   {
    "duration": 0,
    "start_time": "2024-06-01T04:38:40.343Z"
   },
   {
    "duration": 0,
    "start_time": "2024-06-01T04:38:40.346Z"
   },
   {
    "duration": 0,
    "start_time": "2024-06-01T04:38:40.348Z"
   },
   {
    "duration": 0,
    "start_time": "2024-06-01T04:38:40.350Z"
   },
   {
    "duration": 0,
    "start_time": "2024-06-01T04:38:40.353Z"
   },
   {
    "duration": 0,
    "start_time": "2024-06-01T04:38:40.355Z"
   },
   {
    "duration": 1,
    "start_time": "2024-06-01T04:38:40.357Z"
   },
   {
    "duration": 0,
    "start_time": "2024-06-01T04:38:40.359Z"
   },
   {
    "duration": 0,
    "start_time": "2024-06-01T04:38:40.362Z"
   },
   {
    "duration": 0,
    "start_time": "2024-06-01T04:38:40.365Z"
   },
   {
    "duration": 30,
    "start_time": "2024-06-01T04:38:54.051Z"
   },
   {
    "duration": 29,
    "start_time": "2024-06-01T04:38:58.965Z"
   },
   {
    "duration": 17,
    "start_time": "2024-06-01T04:39:35.711Z"
   },
   {
    "duration": 20,
    "start_time": "2024-06-01T04:40:39.817Z"
   },
   {
    "duration": 14,
    "start_time": "2024-06-01T04:40:46.870Z"
   },
   {
    "duration": 13,
    "start_time": "2024-06-01T04:44:42.168Z"
   },
   {
    "duration": 1324,
    "start_time": "2024-06-01T04:44:50.162Z"
   },
   {
    "duration": 331,
    "start_time": "2024-06-01T04:44:51.490Z"
   },
   {
    "duration": 15,
    "start_time": "2024-06-01T04:44:51.824Z"
   },
   {
    "duration": 18,
    "start_time": "2024-06-01T04:44:51.842Z"
   },
   {
    "duration": 15,
    "start_time": "2024-06-01T04:44:51.864Z"
   },
   {
    "duration": 4,
    "start_time": "2024-06-01T04:44:51.882Z"
   },
   {
    "duration": 44,
    "start_time": "2024-06-01T04:44:51.889Z"
   },
   {
    "duration": 7,
    "start_time": "2024-06-01T04:44:51.939Z"
   },
   {
    "duration": 4,
    "start_time": "2024-06-01T04:44:51.952Z"
   },
   {
    "duration": 4,
    "start_time": "2024-06-01T04:44:51.960Z"
   },
   {
    "duration": 4,
    "start_time": "2024-06-01T04:44:51.968Z"
   },
   {
    "duration": 3,
    "start_time": "2024-06-01T04:44:51.976Z"
   },
   {
    "duration": 3,
    "start_time": "2024-06-01T04:44:52.033Z"
   },
   {
    "duration": 5,
    "start_time": "2024-06-01T04:44:52.056Z"
   },
   {
    "duration": 8,
    "start_time": "2024-06-01T04:44:52.069Z"
   },
   {
    "duration": 4,
    "start_time": "2024-06-01T04:44:52.079Z"
   },
   {
    "duration": 11,
    "start_time": "2024-06-01T04:44:52.089Z"
   },
   {
    "duration": 4,
    "start_time": "2024-06-01T04:44:52.104Z"
   },
   {
    "duration": 9,
    "start_time": "2024-06-01T04:44:52.140Z"
   },
   {
    "duration": 6,
    "start_time": "2024-06-01T04:44:52.152Z"
   },
   {
    "duration": 4,
    "start_time": "2024-06-01T04:44:52.162Z"
   },
   {
    "duration": 3,
    "start_time": "2024-06-01T04:44:52.171Z"
   },
   {
    "duration": 3,
    "start_time": "2024-06-01T04:44:52.178Z"
   },
   {
    "duration": 3,
    "start_time": "2024-06-01T04:44:52.185Z"
   },
   {
    "duration": 5,
    "start_time": "2024-06-01T04:44:52.193Z"
   },
   {
    "duration": 4,
    "start_time": "2024-06-01T04:44:52.203Z"
   },
   {
    "duration": 6,
    "start_time": "2024-06-01T04:44:52.235Z"
   },
   {
    "duration": 4,
    "start_time": "2024-06-01T04:44:52.247Z"
   },
   {
    "duration": 3,
    "start_time": "2024-06-01T04:44:52.255Z"
   },
   {
    "duration": 20,
    "start_time": "2024-06-01T04:45:22.928Z"
   },
   {
    "duration": 1304,
    "start_time": "2024-06-01T04:45:49.310Z"
   },
   {
    "duration": 305,
    "start_time": "2024-06-01T04:45:50.618Z"
   },
   {
    "duration": 17,
    "start_time": "2024-06-01T04:45:50.926Z"
   },
   {
    "duration": 17,
    "start_time": "2024-06-01T04:45:50.948Z"
   },
   {
    "duration": 4,
    "start_time": "2024-06-01T04:45:50.969Z"
   },
   {
    "duration": 3,
    "start_time": "2024-06-01T04:45:50.976Z"
   },
   {
    "duration": 7,
    "start_time": "2024-06-01T04:45:50.982Z"
   },
   {
    "duration": 39,
    "start_time": "2024-06-01T04:45:50.992Z"
   },
   {
    "duration": 5,
    "start_time": "2024-06-01T04:45:51.034Z"
   },
   {
    "duration": 3,
    "start_time": "2024-06-01T04:45:51.045Z"
   },
   {
    "duration": 4,
    "start_time": "2024-06-01T04:45:51.051Z"
   },
   {
    "duration": 4,
    "start_time": "2024-06-01T04:45:51.058Z"
   },
   {
    "duration": 4,
    "start_time": "2024-06-01T04:45:51.067Z"
   },
   {
    "duration": 3,
    "start_time": "2024-06-01T04:45:51.074Z"
   },
   {
    "duration": 51,
    "start_time": "2024-06-01T04:45:51.079Z"
   },
   {
    "duration": 4,
    "start_time": "2024-06-01T04:45:51.133Z"
   },
   {
    "duration": 4,
    "start_time": "2024-06-01T04:45:51.139Z"
   },
   {
    "duration": 3,
    "start_time": "2024-06-01T04:45:51.146Z"
   },
   {
    "duration": 2,
    "start_time": "2024-06-01T04:45:51.152Z"
   },
   {
    "duration": 4,
    "start_time": "2024-06-01T04:45:51.157Z"
   },
   {
    "duration": 3,
    "start_time": "2024-06-01T04:45:51.165Z"
   },
   {
    "duration": 4,
    "start_time": "2024-06-01T04:45:51.171Z"
   },
   {
    "duration": 4,
    "start_time": "2024-06-01T04:45:51.231Z"
   },
   {
    "duration": 3,
    "start_time": "2024-06-01T04:45:51.238Z"
   },
   {
    "duration": 7,
    "start_time": "2024-06-01T04:45:51.245Z"
   },
   {
    "duration": 4,
    "start_time": "2024-06-01T04:45:51.255Z"
   },
   {
    "duration": 4,
    "start_time": "2024-06-01T04:45:51.263Z"
   },
   {
    "duration": 4,
    "start_time": "2024-06-01T04:45:51.274Z"
   },
   {
    "duration": 15,
    "start_time": "2024-06-01T04:46:08.351Z"
   },
   {
    "duration": 1334,
    "start_time": "2024-06-01T04:47:02.644Z"
   },
   {
    "duration": 273,
    "start_time": "2024-06-01T04:47:03.984Z"
   },
   {
    "duration": 17,
    "start_time": "2024-06-01T04:47:04.260Z"
   },
   {
    "duration": 17,
    "start_time": "2024-06-01T04:47:04.281Z"
   },
   {
    "duration": 35,
    "start_time": "2024-06-01T04:47:04.302Z"
   },
   {
    "duration": 13,
    "start_time": "2024-06-01T04:47:04.343Z"
   },
   {
    "duration": 3,
    "start_time": "2024-06-01T04:47:04.360Z"
   },
   {
    "duration": 3,
    "start_time": "2024-06-01T04:47:04.367Z"
   },
   {
    "duration": 3,
    "start_time": "2024-06-01T04:47:04.374Z"
   },
   {
    "duration": 3,
    "start_time": "2024-06-01T04:47:04.386Z"
   },
   {
    "duration": 3,
    "start_time": "2024-06-01T04:47:04.437Z"
   },
   {
    "duration": 6,
    "start_time": "2024-06-01T04:47:04.444Z"
   },
   {
    "duration": 3,
    "start_time": "2024-06-01T04:47:04.453Z"
   },
   {
    "duration": 4,
    "start_time": "2024-06-01T04:47:04.459Z"
   },
   {
    "duration": 3,
    "start_time": "2024-06-01T04:47:04.467Z"
   },
   {
    "duration": 4,
    "start_time": "2024-06-01T04:47:04.473Z"
   },
   {
    "duration": 4,
    "start_time": "2024-06-01T04:47:04.479Z"
   },
   {
    "duration": 4,
    "start_time": "2024-06-01T04:47:04.532Z"
   },
   {
    "duration": 4,
    "start_time": "2024-06-01T04:47:04.538Z"
   },
   {
    "duration": 4,
    "start_time": "2024-06-01T04:47:04.545Z"
   },
   {
    "duration": 8,
    "start_time": "2024-06-01T04:47:04.551Z"
   },
   {
    "duration": 3,
    "start_time": "2024-06-01T04:47:04.562Z"
   },
   {
    "duration": 4,
    "start_time": "2024-06-01T04:47:04.569Z"
   },
   {
    "duration": 54,
    "start_time": "2024-06-01T04:47:04.576Z"
   },
   {
    "duration": 3,
    "start_time": "2024-06-01T04:47:04.634Z"
   },
   {
    "duration": 3,
    "start_time": "2024-06-01T04:47:04.640Z"
   },
   {
    "duration": 4,
    "start_time": "2024-06-01T04:47:04.646Z"
   },
   {
    "duration": 3,
    "start_time": "2024-06-01T04:47:04.657Z"
   },
   {
    "duration": 4,
    "start_time": "2024-06-01T04:47:04.662Z"
   },
   {
    "duration": 4,
    "start_time": "2024-06-01T04:47:04.669Z"
   },
   {
    "duration": 1433,
    "start_time": "2024-06-01T04:47:31.584Z"
   },
   {
    "duration": 281,
    "start_time": "2024-06-01T04:47:33.023Z"
   },
   {
    "duration": 30,
    "start_time": "2024-06-01T04:47:33.308Z"
   },
   {
    "duration": 22,
    "start_time": "2024-06-01T04:47:33.342Z"
   },
   {
    "duration": 21,
    "start_time": "2024-06-01T04:47:33.368Z"
   },
   {
    "duration": 12,
    "start_time": "2024-06-01T04:47:33.392Z"
   },
   {
    "duration": 5,
    "start_time": "2024-06-01T04:47:33.407Z"
   },
   {
    "duration": 17,
    "start_time": "2024-06-01T04:47:33.415Z"
   },
   {
    "duration": 4,
    "start_time": "2024-06-01T04:47:33.435Z"
   },
   {
    "duration": 2,
    "start_time": "2024-06-01T04:47:33.443Z"
   },
   {
    "duration": 5,
    "start_time": "2024-06-01T04:47:33.448Z"
   },
   {
    "duration": 4,
    "start_time": "2024-06-01T04:47:33.456Z"
   },
   {
    "duration": 4,
    "start_time": "2024-06-01T04:47:33.462Z"
   },
   {
    "duration": 3,
    "start_time": "2024-06-01T04:47:33.473Z"
   },
   {
    "duration": 51,
    "start_time": "2024-06-01T04:47:33.479Z"
   },
   {
    "duration": 5,
    "start_time": "2024-06-01T04:47:33.534Z"
   },
   {
    "duration": 3,
    "start_time": "2024-06-01T04:47:33.542Z"
   },
   {
    "duration": 5,
    "start_time": "2024-06-01T04:47:33.548Z"
   },
   {
    "duration": 4,
    "start_time": "2024-06-01T04:47:33.557Z"
   },
   {
    "duration": 4,
    "start_time": "2024-06-01T04:47:33.564Z"
   },
   {
    "duration": 4,
    "start_time": "2024-06-01T04:47:33.572Z"
   },
   {
    "duration": 53,
    "start_time": "2024-06-01T04:47:33.579Z"
   },
   {
    "duration": 4,
    "start_time": "2024-06-01T04:47:33.635Z"
   },
   {
    "duration": 4,
    "start_time": "2024-06-01T04:47:33.642Z"
   },
   {
    "duration": 4,
    "start_time": "2024-06-01T04:47:33.649Z"
   },
   {
    "duration": 6,
    "start_time": "2024-06-01T04:47:33.656Z"
   },
   {
    "duration": 10,
    "start_time": "2024-06-01T04:47:33.665Z"
   },
   {
    "duration": 4,
    "start_time": "2024-06-01T04:47:33.678Z"
   },
   {
    "duration": 3,
    "start_time": "2024-06-01T04:47:33.687Z"
   },
   {
    "duration": 8,
    "start_time": "2024-06-01T04:49:11.985Z"
   },
   {
    "duration": 8,
    "start_time": "2024-06-01T04:49:17.811Z"
   },
   {
    "duration": 17,
    "start_time": "2024-06-01T04:49:21.381Z"
   },
   {
    "duration": 36,
    "start_time": "2024-06-01T04:56:49.697Z"
   },
   {
    "duration": 35,
    "start_time": "2024-06-01T04:57:28.839Z"
   },
   {
    "duration": 15,
    "start_time": "2024-06-01T04:57:51.873Z"
   },
   {
    "duration": 14,
    "start_time": "2024-06-01T04:59:26.968Z"
   },
   {
    "duration": 495,
    "start_time": "2024-06-01T05:26:44.356Z"
   },
   {
    "duration": 34,
    "start_time": "2024-06-01T05:26:47.595Z"
   },
   {
    "duration": 5251,
    "start_time": "2024-06-01T19:18:12.103Z"
   },
   {
    "duration": 397,
    "start_time": "2024-06-01T19:18:17.357Z"
   },
   {
    "duration": 17,
    "start_time": "2024-06-01T19:18:17.756Z"
   },
   {
    "duration": 20,
    "start_time": "2024-06-01T19:18:17.778Z"
   },
   {
    "duration": 32,
    "start_time": "2024-06-01T19:18:17.801Z"
   },
   {
    "duration": 17,
    "start_time": "2024-06-01T19:18:17.837Z"
   },
   {
    "duration": 465,
    "start_time": "2024-06-01T19:18:17.857Z"
   },
   {
    "duration": 0,
    "start_time": "2024-06-01T19:18:18.327Z"
   },
   {
    "duration": 0,
    "start_time": "2024-06-01T19:18:18.330Z"
   },
   {
    "duration": 0,
    "start_time": "2024-06-01T19:18:18.332Z"
   },
   {
    "duration": 0,
    "start_time": "2024-06-01T19:18:18.335Z"
   },
   {
    "duration": 0,
    "start_time": "2024-06-01T19:18:18.337Z"
   },
   {
    "duration": 0,
    "start_time": "2024-06-01T19:18:18.338Z"
   },
   {
    "duration": 0,
    "start_time": "2024-06-01T19:18:18.340Z"
   },
   {
    "duration": 0,
    "start_time": "2024-06-01T19:18:18.343Z"
   },
   {
    "duration": 0,
    "start_time": "2024-06-01T19:18:18.345Z"
   },
   {
    "duration": 1,
    "start_time": "2024-06-01T19:18:18.347Z"
   },
   {
    "duration": 0,
    "start_time": "2024-06-01T19:18:18.352Z"
   },
   {
    "duration": 0,
    "start_time": "2024-06-01T19:18:18.355Z"
   },
   {
    "duration": 0,
    "start_time": "2024-06-01T19:18:18.357Z"
   },
   {
    "duration": 0,
    "start_time": "2024-06-01T19:18:18.361Z"
   },
   {
    "duration": 0,
    "start_time": "2024-06-01T19:18:18.364Z"
   },
   {
    "duration": 0,
    "start_time": "2024-06-01T19:18:18.366Z"
   },
   {
    "duration": 0,
    "start_time": "2024-06-01T19:18:18.368Z"
   },
   {
    "duration": 0,
    "start_time": "2024-06-01T19:18:18.425Z"
   },
   {
    "duration": 0,
    "start_time": "2024-06-01T19:18:18.427Z"
   },
   {
    "duration": 0,
    "start_time": "2024-06-01T19:18:18.429Z"
   },
   {
    "duration": 0,
    "start_time": "2024-06-01T19:18:18.431Z"
   },
   {
    "duration": 0,
    "start_time": "2024-06-01T19:18:18.434Z"
   },
   {
    "duration": 341,
    "start_time": "2024-06-01T19:18:27.199Z"
   },
   {
    "duration": 26,
    "start_time": "2024-06-01T19:41:15.115Z"
   },
   {
    "duration": 32,
    "start_time": "2024-06-01T19:41:36.363Z"
   },
   {
    "duration": 93,
    "start_time": "2024-06-01T19:41:39.970Z"
   },
   {
    "duration": 535,
    "start_time": "2024-06-01T19:42:17.806Z"
   },
   {
    "duration": 79,
    "start_time": "2024-06-01T19:42:32.406Z"
   },
   {
    "duration": 16,
    "start_time": "2024-06-01T19:43:11.992Z"
   },
   {
    "duration": 78,
    "start_time": "2024-06-01T19:46:01.818Z"
   },
   {
    "duration": 15,
    "start_time": "2024-06-01T19:46:09.273Z"
   },
   {
    "duration": 1416,
    "start_time": "2024-06-01T19:53:26.807Z"
   },
   {
    "duration": 322,
    "start_time": "2024-06-01T19:53:28.226Z"
   },
   {
    "duration": 17,
    "start_time": "2024-06-01T19:53:28.551Z"
   },
   {
    "duration": 19,
    "start_time": "2024-06-01T19:53:28.574Z"
   },
   {
    "duration": 15,
    "start_time": "2024-06-01T19:53:28.624Z"
   },
   {
    "duration": 18,
    "start_time": "2024-06-01T19:53:28.642Z"
   },
   {
    "duration": 17,
    "start_time": "2024-06-01T19:53:28.663Z"
   },
   {
    "duration": 53,
    "start_time": "2024-06-01T19:53:28.683Z"
   },
   {
    "duration": 11,
    "start_time": "2024-06-01T19:53:28.739Z"
   },
   {
    "duration": 3,
    "start_time": "2024-06-01T19:53:28.756Z"
   },
   {
    "duration": 5,
    "start_time": "2024-06-01T19:53:28.762Z"
   },
   {
    "duration": 4,
    "start_time": "2024-06-01T19:53:28.771Z"
   },
   {
    "duration": 4,
    "start_time": "2024-06-01T19:53:28.825Z"
   },
   {
    "duration": 4,
    "start_time": "2024-06-01T19:53:28.832Z"
   },
   {
    "duration": 4,
    "start_time": "2024-06-01T19:53:28.839Z"
   },
   {
    "duration": 3,
    "start_time": "2024-06-01T19:53:28.847Z"
   },
   {
    "duration": 4,
    "start_time": "2024-06-01T19:53:28.855Z"
   },
   {
    "duration": 61,
    "start_time": "2024-06-01T19:53:28.863Z"
   },
   {
    "duration": 4,
    "start_time": "2024-06-01T19:53:28.927Z"
   },
   {
    "duration": 4,
    "start_time": "2024-06-01T19:53:28.935Z"
   },
   {
    "duration": 4,
    "start_time": "2024-06-01T19:53:28.942Z"
   },
   {
    "duration": 3,
    "start_time": "2024-06-01T19:53:28.952Z"
   },
   {
    "duration": 4,
    "start_time": "2024-06-01T19:53:28.959Z"
   },
   {
    "duration": 57,
    "start_time": "2024-06-01T19:53:28.967Z"
   },
   {
    "duration": 4,
    "start_time": "2024-06-01T19:53:29.027Z"
   },
   {
    "duration": 4,
    "start_time": "2024-06-01T19:53:29.034Z"
   },
   {
    "duration": 4,
    "start_time": "2024-06-01T19:53:29.042Z"
   },
   {
    "duration": 4,
    "start_time": "2024-06-01T19:53:29.053Z"
   },
   {
    "duration": 4,
    "start_time": "2024-06-01T19:53:29.061Z"
   },
   {
    "duration": 6,
    "start_time": "2024-06-01T19:53:29.125Z"
   },
   {
    "duration": 4,
    "start_time": "2024-06-01T19:53:29.134Z"
   },
   {
    "duration": 23,
    "start_time": "2024-06-01T20:02:18.801Z"
   },
   {
    "duration": 1370,
    "start_time": "2024-06-01T20:02:25.427Z"
   },
   {
    "duration": 89,
    "start_time": "2024-06-01T20:02:47.371Z"
   },
   {
    "duration": 260,
    "start_time": "2024-06-01T20:03:00.328Z"
   },
   {
    "duration": 22,
    "start_time": "2024-06-01T20:03:10.165Z"
   },
   {
    "duration": 5,
    "start_time": "2024-06-01T20:06:22.587Z"
   },
   {
    "duration": 9,
    "start_time": "2024-06-01T20:06:41.332Z"
   },
   {
    "duration": 19,
    "start_time": "2024-06-01T20:06:54.315Z"
   },
   {
    "duration": 29,
    "start_time": "2024-06-01T20:07:15.814Z"
   },
   {
    "duration": 4,
    "start_time": "2024-06-01T20:07:43.813Z"
   },
   {
    "duration": 25,
    "start_time": "2024-06-01T20:07:44.959Z"
   },
   {
    "duration": 4,
    "start_time": "2024-06-01T20:08:19.406Z"
   },
   {
    "duration": 17,
    "start_time": "2024-06-01T20:08:20.584Z"
   },
   {
    "duration": 5,
    "start_time": "2024-06-01T20:08:43.403Z"
   },
   {
    "duration": 11,
    "start_time": "2024-06-01T20:08:51.846Z"
   },
   {
    "duration": 1491,
    "start_time": "2024-06-01T20:09:04.562Z"
   },
   {
    "duration": 307,
    "start_time": "2024-06-01T20:09:06.057Z"
   },
   {
    "duration": 17,
    "start_time": "2024-06-01T20:09:06.368Z"
   },
   {
    "duration": 42,
    "start_time": "2024-06-01T20:09:06.388Z"
   },
   {
    "duration": 14,
    "start_time": "2024-06-01T20:09:06.434Z"
   },
   {
    "duration": 15,
    "start_time": "2024-06-01T20:09:06.455Z"
   },
   {
    "duration": 17,
    "start_time": "2024-06-01T20:09:06.473Z"
   },
   {
    "duration": 15,
    "start_time": "2024-06-01T20:09:06.524Z"
   },
   {
    "duration": 11,
    "start_time": "2024-06-01T20:09:06.542Z"
   },
   {
    "duration": 24,
    "start_time": "2024-06-01T20:09:06.555Z"
   },
   {
    "duration": 6,
    "start_time": "2024-06-01T20:09:06.623Z"
   },
   {
    "duration": 24,
    "start_time": "2024-06-01T20:09:06.633Z"
   },
   {
    "duration": 5,
    "start_time": "2024-06-01T20:09:06.661Z"
   },
   {
    "duration": 7,
    "start_time": "2024-06-01T20:09:06.676Z"
   },
   {
    "duration": 39,
    "start_time": "2024-06-01T20:09:06.686Z"
   },
   {
    "duration": 4,
    "start_time": "2024-06-01T20:09:06.728Z"
   },
   {
    "duration": 4,
    "start_time": "2024-06-01T20:09:06.735Z"
   },
   {
    "duration": 4,
    "start_time": "2024-06-01T20:09:06.742Z"
   },
   {
    "duration": 4,
    "start_time": "2024-06-01T20:09:06.749Z"
   },
   {
    "duration": 4,
    "start_time": "2024-06-01T20:09:06.756Z"
   },
   {
    "duration": 4,
    "start_time": "2024-06-01T20:09:06.763Z"
   },
   {
    "duration": 56,
    "start_time": "2024-06-01T20:09:06.769Z"
   },
   {
    "duration": 4,
    "start_time": "2024-06-01T20:09:06.828Z"
   },
   {
    "duration": 4,
    "start_time": "2024-06-01T20:09:06.835Z"
   },
   {
    "duration": 3,
    "start_time": "2024-06-01T20:09:06.843Z"
   },
   {
    "duration": 3,
    "start_time": "2024-06-01T20:09:06.849Z"
   },
   {
    "duration": 7,
    "start_time": "2024-06-01T20:09:06.855Z"
   },
   {
    "duration": 58,
    "start_time": "2024-06-01T20:09:06.866Z"
   },
   {
    "duration": 2,
    "start_time": "2024-06-01T20:09:06.927Z"
   },
   {
    "duration": 3,
    "start_time": "2024-06-01T20:09:06.933Z"
   },
   {
    "duration": 4,
    "start_time": "2024-06-01T20:09:06.939Z"
   },
   {
    "duration": 5,
    "start_time": "2024-06-01T20:09:06.946Z"
   },
   {
    "duration": 5,
    "start_time": "2024-06-01T20:09:06.954Z"
   },
   {
    "duration": 3,
    "start_time": "2024-06-01T20:09:06.963Z"
   },
   {
    "duration": 14,
    "start_time": "2024-06-01T20:09:35.973Z"
   },
   {
    "duration": 512,
    "start_time": "2024-06-01T20:12:30.011Z"
   },
   {
    "duration": 560,
    "start_time": "2024-06-01T20:13:31.920Z"
   },
   {
    "duration": 1399,
    "start_time": "2024-06-01T20:14:32.424Z"
   },
   {
    "duration": 358,
    "start_time": "2024-06-01T20:14:33.827Z"
   },
   {
    "duration": 17,
    "start_time": "2024-06-01T20:14:34.187Z"
   },
   {
    "duration": 31,
    "start_time": "2024-06-01T20:14:34.209Z"
   },
   {
    "duration": 15,
    "start_time": "2024-06-01T20:14:34.243Z"
   },
   {
    "duration": 16,
    "start_time": "2024-06-01T20:14:34.261Z"
   },
   {
    "duration": 52,
    "start_time": "2024-06-01T20:14:34.280Z"
   },
   {
    "duration": 16,
    "start_time": "2024-06-01T20:14:34.335Z"
   },
   {
    "duration": 3,
    "start_time": "2024-06-01T20:14:34.354Z"
   },
   {
    "duration": 7,
    "start_time": "2024-06-01T20:14:34.364Z"
   },
   {
    "duration": 49,
    "start_time": "2024-06-01T20:14:34.374Z"
   },
   {
    "duration": 4,
    "start_time": "2024-06-01T20:14:34.426Z"
   },
   {
    "duration": 3,
    "start_time": "2024-06-01T20:14:34.433Z"
   },
   {
    "duration": 4,
    "start_time": "2024-06-01T20:14:34.440Z"
   },
   {
    "duration": 4,
    "start_time": "2024-06-01T20:14:34.447Z"
   },
   {
    "duration": 4,
    "start_time": "2024-06-01T20:14:34.455Z"
   },
   {
    "duration": 3,
    "start_time": "2024-06-01T20:14:34.463Z"
   },
   {
    "duration": 56,
    "start_time": "2024-06-01T20:14:34.469Z"
   },
   {
    "duration": 5,
    "start_time": "2024-06-01T20:14:34.529Z"
   },
   {
    "duration": 5,
    "start_time": "2024-06-01T20:14:34.537Z"
   },
   {
    "duration": 4,
    "start_time": "2024-06-01T20:14:34.545Z"
   },
   {
    "duration": 3,
    "start_time": "2024-06-01T20:14:34.553Z"
   },
   {
    "duration": 5,
    "start_time": "2024-06-01T20:14:34.559Z"
   },
   {
    "duration": 4,
    "start_time": "2024-06-01T20:14:34.623Z"
   },
   {
    "duration": 4,
    "start_time": "2024-06-01T20:14:34.630Z"
   },
   {
    "duration": 4,
    "start_time": "2024-06-01T20:14:34.637Z"
   },
   {
    "duration": 3,
    "start_time": "2024-06-01T20:14:34.645Z"
   },
   {
    "duration": 3,
    "start_time": "2024-06-01T20:14:34.657Z"
   },
   {
    "duration": 60,
    "start_time": "2024-06-01T20:14:34.663Z"
   },
   {
    "duration": 4,
    "start_time": "2024-06-01T20:14:34.726Z"
   },
   {
    "duration": 4,
    "start_time": "2024-06-01T20:14:34.733Z"
   },
   {
    "duration": 6,
    "start_time": "2024-06-01T20:14:34.740Z"
   },
   {
    "duration": 3,
    "start_time": "2024-06-01T20:14:34.750Z"
   },
   {
    "duration": 4,
    "start_time": "2024-06-01T20:14:34.757Z"
   },
   {
    "duration": 6,
    "start_time": "2024-06-01T20:14:51.308Z"
   },
   {
    "duration": 8,
    "start_time": "2024-06-01T20:15:44.855Z"
   },
   {
    "duration": 21,
    "start_time": "2024-06-01T20:15:47.179Z"
   },
   {
    "duration": 1403,
    "start_time": "2024-06-01T20:16:02.071Z"
   },
   {
    "duration": 337,
    "start_time": "2024-06-01T20:16:03.480Z"
   },
   {
    "duration": 27,
    "start_time": "2024-06-01T20:16:03.822Z"
   },
   {
    "duration": 26,
    "start_time": "2024-06-01T20:16:03.856Z"
   },
   {
    "duration": 42,
    "start_time": "2024-06-01T20:16:03.886Z"
   },
   {
    "duration": 20,
    "start_time": "2024-06-01T20:16:03.933Z"
   },
   {
    "duration": 12,
    "start_time": "2024-06-01T20:16:03.957Z"
   },
   {
    "duration": 10,
    "start_time": "2024-06-01T20:16:03.972Z"
   },
   {
    "duration": 16,
    "start_time": "2024-06-01T20:16:04.024Z"
   },
   {
    "duration": 13,
    "start_time": "2024-06-01T20:16:04.047Z"
   },
   {
    "duration": 68,
    "start_time": "2024-06-01T20:16:04.063Z"
   },
   {
    "duration": 6,
    "start_time": "2024-06-01T20:16:04.134Z"
   },
   {
    "duration": 21,
    "start_time": "2024-06-01T20:16:04.144Z"
   },
   {
    "duration": 4,
    "start_time": "2024-06-01T20:16:04.169Z"
   },
   {
    "duration": 47,
    "start_time": "2024-06-01T20:16:04.176Z"
   },
   {
    "duration": 4,
    "start_time": "2024-06-01T20:16:04.227Z"
   },
   {
    "duration": 4,
    "start_time": "2024-06-01T20:16:04.235Z"
   },
   {
    "duration": 4,
    "start_time": "2024-06-01T20:16:04.243Z"
   },
   {
    "duration": 4,
    "start_time": "2024-06-01T20:16:04.252Z"
   },
   {
    "duration": 5,
    "start_time": "2024-06-01T20:16:04.264Z"
   },
   {
    "duration": 52,
    "start_time": "2024-06-01T20:16:04.273Z"
   },
   {
    "duration": 3,
    "start_time": "2024-06-01T20:16:04.330Z"
   },
   {
    "duration": 5,
    "start_time": "2024-06-01T20:16:04.337Z"
   },
   {
    "duration": 4,
    "start_time": "2024-06-01T20:16:04.346Z"
   },
   {
    "duration": 4,
    "start_time": "2024-06-01T20:16:04.354Z"
   },
   {
    "duration": 59,
    "start_time": "2024-06-01T20:16:04.363Z"
   },
   {
    "duration": 4,
    "start_time": "2024-06-01T20:16:04.426Z"
   },
   {
    "duration": 4,
    "start_time": "2024-06-01T20:16:04.440Z"
   },
   {
    "duration": 4,
    "start_time": "2024-06-01T20:16:04.448Z"
   },
   {
    "duration": 4,
    "start_time": "2024-06-01T20:16:04.456Z"
   },
   {
    "duration": 59,
    "start_time": "2024-06-01T20:16:04.464Z"
   },
   {
    "duration": 4,
    "start_time": "2024-06-01T20:16:04.528Z"
   },
   {
    "duration": 5,
    "start_time": "2024-06-01T20:16:04.537Z"
   },
   {
    "duration": 4,
    "start_time": "2024-06-01T20:16:04.546Z"
   },
   {
    "duration": 5,
    "start_time": "2024-06-01T20:16:04.554Z"
   },
   {
    "duration": 21,
    "start_time": "2024-06-01T20:16:20.403Z"
   },
   {
    "duration": 23,
    "start_time": "2024-06-01T20:16:34.314Z"
   },
   {
    "duration": 4921,
    "start_time": "2024-06-01T21:28:23.257Z"
   },
   {
    "duration": 361,
    "start_time": "2024-06-01T21:28:28.182Z"
   },
   {
    "duration": 15,
    "start_time": "2024-06-01T21:28:28.546Z"
   },
   {
    "duration": 17,
    "start_time": "2024-06-01T21:28:28.565Z"
   },
   {
    "duration": 14,
    "start_time": "2024-06-01T21:28:28.585Z"
   },
   {
    "duration": 14,
    "start_time": "2024-06-01T21:28:28.634Z"
   },
   {
    "duration": 11,
    "start_time": "2024-06-01T21:28:28.651Z"
   },
   {
    "duration": 8,
    "start_time": "2024-06-01T21:28:28.665Z"
   },
   {
    "duration": 14,
    "start_time": "2024-06-01T21:28:28.676Z"
   },
   {
    "duration": 9,
    "start_time": "2024-06-01T21:28:28.733Z"
   },
   {
    "duration": 22,
    "start_time": "2024-06-01T21:28:28.745Z"
   },
   {
    "duration": 5,
    "start_time": "2024-06-01T21:28:28.770Z"
   },
   {
    "duration": 56,
    "start_time": "2024-06-01T21:28:28.778Z"
   },
   {
    "duration": 3,
    "start_time": "2024-06-01T21:28:28.838Z"
   },
   {
    "duration": 4,
    "start_time": "2024-06-01T21:28:28.844Z"
   },
   {
    "duration": 4,
    "start_time": "2024-06-01T21:28:28.851Z"
   },
   {
    "duration": 3,
    "start_time": "2024-06-01T21:28:28.859Z"
   },
   {
    "duration": 3,
    "start_time": "2024-06-01T21:28:28.866Z"
   },
   {
    "duration": 3,
    "start_time": "2024-06-01T21:28:28.872Z"
   },
   {
    "duration": 3,
    "start_time": "2024-06-01T21:28:28.934Z"
   },
   {
    "duration": 4,
    "start_time": "2024-06-01T21:28:28.940Z"
   },
   {
    "duration": 3,
    "start_time": "2024-06-01T21:28:28.948Z"
   },
   {
    "duration": 3,
    "start_time": "2024-06-01T21:28:28.955Z"
   },
   {
    "duration": 3,
    "start_time": "2024-06-01T21:28:28.961Z"
   },
   {
    "duration": 4,
    "start_time": "2024-06-01T21:28:28.967Z"
   },
   {
    "duration": 3,
    "start_time": "2024-06-01T21:28:28.974Z"
   },
   {
    "duration": 4,
    "start_time": "2024-06-01T21:28:29.032Z"
   },
   {
    "duration": 3,
    "start_time": "2024-06-01T21:28:29.043Z"
   },
   {
    "duration": 3,
    "start_time": "2024-06-01T21:28:29.049Z"
   },
   {
    "duration": 2,
    "start_time": "2024-06-01T21:28:29.056Z"
   },
   {
    "duration": 3,
    "start_time": "2024-06-01T21:28:29.062Z"
   },
   {
    "duration": 3,
    "start_time": "2024-06-01T21:28:29.068Z"
   },
   {
    "duration": 58,
    "start_time": "2024-06-01T21:28:29.075Z"
   },
   {
    "duration": 3,
    "start_time": "2024-06-01T21:28:29.136Z"
   },
   {
    "duration": 6,
    "start_time": "2024-06-01T21:28:29.143Z"
   },
   {
    "duration": 13,
    "start_time": "2024-06-01T21:37:16.663Z"
   },
   {
    "duration": 15,
    "start_time": "2024-06-01T21:39:09.113Z"
   },
   {
    "duration": 1211,
    "start_time": "2024-06-01T21:39:15.178Z"
   },
   {
    "duration": 286,
    "start_time": "2024-06-01T21:39:16.393Z"
   },
   {
    "duration": 15,
    "start_time": "2024-06-01T21:39:16.682Z"
   },
   {
    "duration": 37,
    "start_time": "2024-06-01T21:39:16.701Z"
   },
   {
    "duration": 24,
    "start_time": "2024-06-01T21:39:16.744Z"
   },
   {
    "duration": 14,
    "start_time": "2024-06-01T21:39:16.774Z"
   },
   {
    "duration": 10,
    "start_time": "2024-06-01T21:39:16.791Z"
   },
   {
    "duration": 8,
    "start_time": "2024-06-01T21:39:16.833Z"
   },
   {
    "duration": 16,
    "start_time": "2024-06-01T21:39:16.844Z"
   },
   {
    "duration": 11,
    "start_time": "2024-06-01T21:39:16.863Z"
   },
   {
    "duration": 64,
    "start_time": "2024-06-01T21:39:16.877Z"
   },
   {
    "duration": 5,
    "start_time": "2024-06-01T21:39:16.944Z"
   },
   {
    "duration": 16,
    "start_time": "2024-06-01T21:39:16.952Z"
   },
   {
    "duration": 17,
    "start_time": "2024-06-01T21:39:16.975Z"
   },
   {
    "duration": 3,
    "start_time": "2024-06-01T21:39:17.033Z"
   },
   {
    "duration": 4,
    "start_time": "2024-06-01T21:39:17.039Z"
   },
   {
    "duration": 3,
    "start_time": "2024-06-01T21:39:17.047Z"
   },
   {
    "duration": 4,
    "start_time": "2024-06-01T21:39:17.054Z"
   },
   {
    "duration": 3,
    "start_time": "2024-06-01T21:39:17.061Z"
   },
   {
    "duration": 4,
    "start_time": "2024-06-01T21:39:17.068Z"
   },
   {
    "duration": 58,
    "start_time": "2024-06-01T21:39:17.076Z"
   },
   {
    "duration": 3,
    "start_time": "2024-06-01T21:39:17.137Z"
   },
   {
    "duration": 3,
    "start_time": "2024-06-01T21:39:17.143Z"
   },
   {
    "duration": 5,
    "start_time": "2024-06-01T21:39:17.149Z"
   },
   {
    "duration": 3,
    "start_time": "2024-06-01T21:39:17.157Z"
   },
   {
    "duration": 3,
    "start_time": "2024-06-01T21:39:17.164Z"
   },
   {
    "duration": 4,
    "start_time": "2024-06-01T21:39:17.170Z"
   },
   {
    "duration": 4,
    "start_time": "2024-06-01T21:39:17.177Z"
   },
   {
    "duration": 3,
    "start_time": "2024-06-01T21:39:17.233Z"
   },
   {
    "duration": 4,
    "start_time": "2024-06-01T21:39:17.239Z"
   },
   {
    "duration": 3,
    "start_time": "2024-06-01T21:39:17.246Z"
   },
   {
    "duration": 3,
    "start_time": "2024-06-01T21:39:17.252Z"
   },
   {
    "duration": 4,
    "start_time": "2024-06-01T21:39:17.258Z"
   },
   {
    "duration": 3,
    "start_time": "2024-06-01T21:39:17.265Z"
   },
   {
    "duration": 3,
    "start_time": "2024-06-01T21:39:17.271Z"
   },
   {
    "duration": 16,
    "start_time": "2024-06-01T21:39:56.130Z"
   },
   {
    "duration": 1265,
    "start_time": "2024-06-01T21:40:05.142Z"
   },
   {
    "duration": 270,
    "start_time": "2024-06-01T21:40:06.412Z"
   },
   {
    "duration": 15,
    "start_time": "2024-06-01T21:40:06.685Z"
   },
   {
    "duration": 37,
    "start_time": "2024-06-01T21:40:06.703Z"
   },
   {
    "duration": 15,
    "start_time": "2024-06-01T21:40:06.743Z"
   },
   {
    "duration": 17,
    "start_time": "2024-06-01T21:40:06.765Z"
   },
   {
    "duration": 12,
    "start_time": "2024-06-01T21:40:06.785Z"
   },
   {
    "duration": 8,
    "start_time": "2024-06-01T21:40:06.832Z"
   },
   {
    "duration": 15,
    "start_time": "2024-06-01T21:40:06.844Z"
   },
   {
    "duration": 9,
    "start_time": "2024-06-01T21:40:06.865Z"
   },
   {
    "duration": 63,
    "start_time": "2024-06-01T21:40:06.877Z"
   },
   {
    "duration": 5,
    "start_time": "2024-06-01T21:40:06.943Z"
   },
   {
    "duration": 15,
    "start_time": "2024-06-01T21:40:06.951Z"
   },
   {
    "duration": 16,
    "start_time": "2024-06-01T21:40:06.970Z"
   },
   {
    "duration": 44,
    "start_time": "2024-06-01T21:40:06.989Z"
   },
   {
    "duration": 3,
    "start_time": "2024-06-01T21:40:07.036Z"
   },
   {
    "duration": 3,
    "start_time": "2024-06-01T21:40:07.043Z"
   },
   {
    "duration": 5,
    "start_time": "2024-06-01T21:40:07.048Z"
   },
   {
    "duration": 4,
    "start_time": "2024-06-01T21:40:07.056Z"
   },
   {
    "duration": 4,
    "start_time": "2024-06-01T21:40:07.063Z"
   },
   {
    "duration": 3,
    "start_time": "2024-06-01T21:40:07.070Z"
   },
   {
    "duration": 56,
    "start_time": "2024-06-01T21:40:07.076Z"
   },
   {
    "duration": 3,
    "start_time": "2024-06-01T21:40:07.135Z"
   },
   {
    "duration": 12,
    "start_time": "2024-06-01T21:40:07.142Z"
   },
   {
    "duration": 5,
    "start_time": "2024-06-01T21:40:07.157Z"
   },
   {
    "duration": 9,
    "start_time": "2024-06-01T21:40:07.169Z"
   },
   {
    "duration": 4,
    "start_time": "2024-06-01T21:40:07.181Z"
   },
   {
    "duration": 3,
    "start_time": "2024-06-01T21:40:07.195Z"
   },
   {
    "duration": 3,
    "start_time": "2024-06-01T21:40:07.232Z"
   },
   {
    "duration": 3,
    "start_time": "2024-06-01T21:40:07.238Z"
   },
   {
    "duration": 3,
    "start_time": "2024-06-01T21:40:07.245Z"
   },
   {
    "duration": 4,
    "start_time": "2024-06-01T21:40:07.251Z"
   },
   {
    "duration": 6,
    "start_time": "2024-06-01T21:40:07.258Z"
   },
   {
    "duration": 4,
    "start_time": "2024-06-01T21:40:07.267Z"
   },
   {
    "duration": 58,
    "start_time": "2024-06-01T21:40:07.274Z"
   },
   {
    "duration": 14,
    "start_time": "2024-06-01T21:40:24.449Z"
   },
   {
    "duration": 1282,
    "start_time": "2024-06-01T21:40:30.525Z"
   },
   {
    "duration": 278,
    "start_time": "2024-06-01T21:40:31.811Z"
   },
   {
    "duration": 17,
    "start_time": "2024-06-01T21:40:32.092Z"
   },
   {
    "duration": 32,
    "start_time": "2024-06-01T21:40:32.115Z"
   },
   {
    "duration": 15,
    "start_time": "2024-06-01T21:40:32.149Z"
   },
   {
    "duration": 14,
    "start_time": "2024-06-01T21:40:32.167Z"
   },
   {
    "duration": 11,
    "start_time": "2024-06-01T21:40:32.184Z"
   },
   {
    "duration": 44,
    "start_time": "2024-06-01T21:40:32.197Z"
   },
   {
    "duration": 16,
    "start_time": "2024-06-01T21:40:32.244Z"
   },
   {
    "duration": 10,
    "start_time": "2024-06-01T21:40:32.267Z"
   },
   {
    "duration": 64,
    "start_time": "2024-06-01T21:40:32.279Z"
   },
   {
    "duration": 5,
    "start_time": "2024-06-01T21:40:32.346Z"
   },
   {
    "duration": 16,
    "start_time": "2024-06-01T21:40:32.354Z"
   },
   {
    "duration": 17,
    "start_time": "2024-06-01T21:40:32.373Z"
   },
   {
    "duration": 4,
    "start_time": "2024-06-01T21:40:32.432Z"
   },
   {
    "duration": 4,
    "start_time": "2024-06-01T21:40:32.440Z"
   },
   {
    "duration": 3,
    "start_time": "2024-06-01T21:40:32.447Z"
   },
   {
    "duration": 4,
    "start_time": "2024-06-01T21:40:32.453Z"
   },
   {
    "duration": 4,
    "start_time": "2024-06-01T21:40:32.460Z"
   },
   {
    "duration": 4,
    "start_time": "2024-06-01T21:40:32.467Z"
   },
   {
    "duration": 5,
    "start_time": "2024-06-01T21:40:32.474Z"
   },
   {
    "duration": 3,
    "start_time": "2024-06-01T21:40:32.533Z"
   },
   {
    "duration": 4,
    "start_time": "2024-06-01T21:40:32.540Z"
   },
   {
    "duration": 4,
    "start_time": "2024-06-01T21:40:32.548Z"
   },
   {
    "duration": 5,
    "start_time": "2024-06-01T21:40:32.555Z"
   },
   {
    "duration": 3,
    "start_time": "2024-06-01T21:40:32.563Z"
   },
   {
    "duration": 4,
    "start_time": "2024-06-01T21:40:32.570Z"
   },
   {
    "duration": 4,
    "start_time": "2024-06-01T21:40:32.632Z"
   },
   {
    "duration": 4,
    "start_time": "2024-06-01T21:40:32.639Z"
   },
   {
    "duration": 5,
    "start_time": "2024-06-01T21:40:32.645Z"
   },
   {
    "duration": 3,
    "start_time": "2024-06-01T21:40:32.653Z"
   },
   {
    "duration": 3,
    "start_time": "2024-06-01T21:40:32.659Z"
   },
   {
    "duration": 4,
    "start_time": "2024-06-01T21:40:32.666Z"
   },
   {
    "duration": 3,
    "start_time": "2024-06-01T21:40:32.674Z"
   },
   {
    "duration": 54,
    "start_time": "2024-06-01T21:40:32.680Z"
   },
   {
    "duration": 26,
    "start_time": "2024-06-01T21:41:31.543Z"
   },
   {
    "duration": 25,
    "start_time": "2024-06-01T21:42:22.292Z"
   },
   {
    "duration": 12,
    "start_time": "2024-06-01T21:42:33.000Z"
   },
   {
    "duration": 19,
    "start_time": "2024-06-01T21:42:56.619Z"
   },
   {
    "duration": 14,
    "start_time": "2024-06-01T21:43:08.063Z"
   },
   {
    "duration": 4958,
    "start_time": "2024-06-03T19:08:55.262Z"
   },
   {
    "duration": 367,
    "start_time": "2024-06-03T19:09:00.225Z"
   },
   {
    "duration": 19,
    "start_time": "2024-06-03T19:09:00.596Z"
   },
   {
    "duration": 17,
    "start_time": "2024-06-03T19:09:00.618Z"
   },
   {
    "duration": 15,
    "start_time": "2024-06-03T19:09:00.639Z"
   },
   {
    "duration": 50,
    "start_time": "2024-06-03T19:09:00.657Z"
   },
   {
    "duration": 12,
    "start_time": "2024-06-03T19:09:00.711Z"
   },
   {
    "duration": 10,
    "start_time": "2024-06-03T19:09:00.725Z"
   },
   {
    "duration": 16,
    "start_time": "2024-06-03T19:09:00.738Z"
   },
   {
    "duration": 49,
    "start_time": "2024-06-03T19:09:00.760Z"
   },
   {
    "duration": 22,
    "start_time": "2024-06-03T19:09:00.812Z"
   },
   {
    "duration": 5,
    "start_time": "2024-06-03T19:09:00.837Z"
   },
   {
    "duration": 16,
    "start_time": "2024-06-03T19:09:00.845Z"
   },
   {
    "duration": 66,
    "start_time": "2024-06-03T19:09:00.864Z"
   },
   {
    "duration": 411,
    "start_time": "2024-06-03T19:09:00.933Z"
   },
   {
    "duration": 0,
    "start_time": "2024-06-03T19:09:01.347Z"
   },
   {
    "duration": 0,
    "start_time": "2024-06-03T19:09:01.349Z"
   },
   {
    "duration": 0,
    "start_time": "2024-06-03T19:09:01.350Z"
   },
   {
    "duration": 1,
    "start_time": "2024-06-03T19:09:01.352Z"
   },
   {
    "duration": 0,
    "start_time": "2024-06-03T19:09:01.355Z"
   },
   {
    "duration": 0,
    "start_time": "2024-06-03T19:09:01.358Z"
   },
   {
    "duration": 0,
    "start_time": "2024-06-03T19:09:01.360Z"
   },
   {
    "duration": 0,
    "start_time": "2024-06-03T19:09:01.362Z"
   },
   {
    "duration": 0,
    "start_time": "2024-06-03T19:09:01.363Z"
   },
   {
    "duration": 0,
    "start_time": "2024-06-03T19:09:01.366Z"
   },
   {
    "duration": 0,
    "start_time": "2024-06-03T19:09:01.368Z"
   },
   {
    "duration": 0,
    "start_time": "2024-06-03T19:09:01.370Z"
   },
   {
    "duration": 0,
    "start_time": "2024-06-03T19:09:01.371Z"
   },
   {
    "duration": 0,
    "start_time": "2024-06-03T19:09:01.372Z"
   },
   {
    "duration": 0,
    "start_time": "2024-06-03T19:09:01.406Z"
   },
   {
    "duration": 0,
    "start_time": "2024-06-03T19:09:01.409Z"
   },
   {
    "duration": 0,
    "start_time": "2024-06-03T19:09:01.411Z"
   },
   {
    "duration": 0,
    "start_time": "2024-06-03T19:09:01.413Z"
   },
   {
    "duration": 0,
    "start_time": "2024-06-03T19:09:01.418Z"
   },
   {
    "duration": 0,
    "start_time": "2024-06-03T19:09:01.421Z"
   },
   {
    "duration": 0,
    "start_time": "2024-06-03T19:09:01.424Z"
   },
   {
    "duration": 19,
    "start_time": "2024-06-03T19:10:09.493Z"
   },
   {
    "duration": 7,
    "start_time": "2024-06-03T19:18:19.496Z"
   },
   {
    "duration": 51,
    "start_time": "2024-06-03T19:19:06.869Z"
   },
   {
    "duration": 39,
    "start_time": "2024-06-03T19:19:45.857Z"
   },
   {
    "duration": 1216,
    "start_time": "2024-06-03T19:19:51.555Z"
   },
   {
    "duration": 269,
    "start_time": "2024-06-03T19:19:52.774Z"
   },
   {
    "duration": 17,
    "start_time": "2024-06-03T19:19:53.046Z"
   },
   {
    "duration": 39,
    "start_time": "2024-06-03T19:19:53.067Z"
   },
   {
    "duration": 15,
    "start_time": "2024-06-03T19:19:53.109Z"
   },
   {
    "duration": 16,
    "start_time": "2024-06-03T19:19:53.127Z"
   },
   {
    "duration": 10,
    "start_time": "2024-06-03T19:19:53.147Z"
   },
   {
    "duration": 7,
    "start_time": "2024-06-03T19:19:53.160Z"
   },
   {
    "duration": 16,
    "start_time": "2024-06-03T19:19:53.208Z"
   },
   {
    "duration": 9,
    "start_time": "2024-06-03T19:19:53.229Z"
   },
   {
    "duration": 23,
    "start_time": "2024-06-03T19:19:53.241Z"
   },
   {
    "duration": 5,
    "start_time": "2024-06-03T19:19:53.308Z"
   },
   {
    "duration": 21,
    "start_time": "2024-06-03T19:19:53.317Z"
   },
   {
    "duration": 68,
    "start_time": "2024-06-03T19:19:53.341Z"
   },
   {
    "duration": 23,
    "start_time": "2024-06-03T19:19:53.415Z"
   },
   {
    "duration": 631,
    "start_time": "2024-06-03T19:19:53.442Z"
   },
   {
    "duration": 0,
    "start_time": "2024-06-03T19:19:54.078Z"
   },
   {
    "duration": 0,
    "start_time": "2024-06-03T19:19:54.080Z"
   },
   {
    "duration": 0,
    "start_time": "2024-06-03T19:19:54.082Z"
   },
   {
    "duration": 0,
    "start_time": "2024-06-03T19:19:54.085Z"
   },
   {
    "duration": 0,
    "start_time": "2024-06-03T19:19:54.086Z"
   },
   {
    "duration": 0,
    "start_time": "2024-06-03T19:19:54.088Z"
   },
   {
    "duration": 0,
    "start_time": "2024-06-03T19:19:54.089Z"
   },
   {
    "duration": 0,
    "start_time": "2024-06-03T19:19:54.090Z"
   },
   {
    "duration": 0,
    "start_time": "2024-06-03T19:19:54.092Z"
   },
   {
    "duration": 0,
    "start_time": "2024-06-03T19:19:54.093Z"
   },
   {
    "duration": 0,
    "start_time": "2024-06-03T19:19:54.109Z"
   },
   {
    "duration": 0,
    "start_time": "2024-06-03T19:19:54.111Z"
   },
   {
    "duration": 0,
    "start_time": "2024-06-03T19:19:54.113Z"
   },
   {
    "duration": 0,
    "start_time": "2024-06-03T19:19:54.116Z"
   },
   {
    "duration": 0,
    "start_time": "2024-06-03T19:19:54.119Z"
   },
   {
    "duration": 0,
    "start_time": "2024-06-03T19:19:54.122Z"
   },
   {
    "duration": 0,
    "start_time": "2024-06-03T19:19:54.124Z"
   },
   {
    "duration": 0,
    "start_time": "2024-06-03T19:19:54.126Z"
   },
   {
    "duration": 0,
    "start_time": "2024-06-03T19:19:54.130Z"
   },
   {
    "duration": 0,
    "start_time": "2024-06-03T19:19:54.133Z"
   },
   {
    "duration": 50,
    "start_time": "2024-06-03T19:20:40.007Z"
   },
   {
    "duration": 913,
    "start_time": "2024-06-03T19:21:41.480Z"
   },
   {
    "duration": 11,
    "start_time": "2024-06-03T19:24:13.122Z"
   },
   {
    "duration": 390,
    "start_time": "2024-06-03T19:24:18.664Z"
   },
   {
    "duration": 166,
    "start_time": "2024-06-03T19:25:01.614Z"
   },
   {
    "duration": 1246,
    "start_time": "2024-06-03T19:25:10.433Z"
   },
   {
    "duration": 274,
    "start_time": "2024-06-03T19:25:11.682Z"
   },
   {
    "duration": 16,
    "start_time": "2024-06-03T19:25:11.958Z"
   },
   {
    "duration": 29,
    "start_time": "2024-06-03T19:25:11.979Z"
   },
   {
    "duration": 15,
    "start_time": "2024-06-03T19:25:12.011Z"
   },
   {
    "duration": 14,
    "start_time": "2024-06-03T19:25:12.030Z"
   },
   {
    "duration": 11,
    "start_time": "2024-06-03T19:25:12.047Z"
   },
   {
    "duration": 48,
    "start_time": "2024-06-03T19:25:12.061Z"
   },
   {
    "duration": 16,
    "start_time": "2024-06-03T19:25:12.112Z"
   },
   {
    "duration": 8,
    "start_time": "2024-06-03T19:25:12.135Z"
   },
   {
    "duration": 64,
    "start_time": "2024-06-03T19:25:12.146Z"
   },
   {
    "duration": 5,
    "start_time": "2024-06-03T19:25:12.212Z"
   },
   {
    "duration": 16,
    "start_time": "2024-06-03T19:25:12.220Z"
   },
   {
    "duration": 26,
    "start_time": "2024-06-03T19:25:12.239Z"
   },
   {
    "duration": 19,
    "start_time": "2024-06-03T19:25:12.307Z"
   },
   {
    "duration": 942,
    "start_time": "2024-06-03T19:25:12.328Z"
   },
   {
    "duration": 13,
    "start_time": "2024-06-03T19:25:13.274Z"
   },
   {
    "duration": 17,
    "start_time": "2024-06-03T19:25:13.290Z"
   },
   {
    "duration": 3,
    "start_time": "2024-06-03T19:25:13.311Z"
   },
   {
    "duration": 3,
    "start_time": "2024-06-03T19:25:13.318Z"
   },
   {
    "duration": 4,
    "start_time": "2024-06-03T19:25:13.324Z"
   },
   {
    "duration": 3,
    "start_time": "2024-06-03T19:25:13.331Z"
   },
   {
    "duration": 3,
    "start_time": "2024-06-03T19:25:13.337Z"
   },
   {
    "duration": 3,
    "start_time": "2024-06-03T19:25:13.344Z"
   },
   {
    "duration": 57,
    "start_time": "2024-06-03T19:25:13.350Z"
   },
   {
    "duration": 5,
    "start_time": "2024-06-03T19:25:13.410Z"
   },
   {
    "duration": 6,
    "start_time": "2024-06-03T19:25:13.417Z"
   },
   {
    "duration": 3,
    "start_time": "2024-06-03T19:25:13.430Z"
   },
   {
    "duration": 5,
    "start_time": "2024-06-03T19:25:13.438Z"
   },
   {
    "duration": 5,
    "start_time": "2024-06-03T19:25:13.448Z"
   },
   {
    "duration": 5,
    "start_time": "2024-06-03T19:25:13.507Z"
   },
   {
    "duration": 4,
    "start_time": "2024-06-03T19:25:13.515Z"
   },
   {
    "duration": 3,
    "start_time": "2024-06-03T19:25:13.523Z"
   },
   {
    "duration": 5,
    "start_time": "2024-06-03T19:25:13.529Z"
   },
   {
    "duration": 4,
    "start_time": "2024-06-03T19:25:13.537Z"
   },
   {
    "duration": 5,
    "start_time": "2024-06-03T19:25:13.544Z"
   },
   {
    "duration": 4,
    "start_time": "2024-06-03T19:25:13.605Z"
   },
   {
    "duration": 6,
    "start_time": "2024-06-03T19:25:39.284Z"
   },
   {
    "duration": 26,
    "start_time": "2024-06-03T19:25:42.603Z"
   },
   {
    "duration": 982,
    "start_time": "2024-06-03T19:26:33.612Z"
   },
   {
    "duration": 20,
    "start_time": "2024-06-03T19:28:10.120Z"
   },
   {
    "duration": 14,
    "start_time": "2024-06-03T19:28:38.767Z"
   },
   {
    "duration": 19,
    "start_time": "2024-06-03T19:31:21.303Z"
   },
   {
    "duration": 466,
    "start_time": "2024-06-03T19:32:10.590Z"
   },
   {
    "duration": 37,
    "start_time": "2024-06-03T19:32:35.233Z"
   },
   {
    "duration": 1237,
    "start_time": "2024-06-03T19:32:41.724Z"
   },
   {
    "duration": 281,
    "start_time": "2024-06-03T19:32:42.965Z"
   },
   {
    "duration": 16,
    "start_time": "2024-06-03T19:32:43.249Z"
   },
   {
    "duration": 17,
    "start_time": "2024-06-03T19:32:43.268Z"
   },
   {
    "duration": 15,
    "start_time": "2024-06-03T19:32:43.306Z"
   },
   {
    "duration": 17,
    "start_time": "2024-06-03T19:32:43.324Z"
   },
   {
    "duration": 12,
    "start_time": "2024-06-03T19:32:43.343Z"
   },
   {
    "duration": 8,
    "start_time": "2024-06-03T19:32:43.357Z"
   },
   {
    "duration": 52,
    "start_time": "2024-06-03T19:32:43.368Z"
   },
   {
    "duration": 9,
    "start_time": "2024-06-03T19:32:43.426Z"
   },
   {
    "duration": 22,
    "start_time": "2024-06-03T19:32:43.438Z"
   },
   {
    "duration": 43,
    "start_time": "2024-06-03T19:32:43.463Z"
   },
   {
    "duration": 16,
    "start_time": "2024-06-03T19:32:43.510Z"
   },
   {
    "duration": 24,
    "start_time": "2024-06-03T19:32:43.529Z"
   },
   {
    "duration": 53,
    "start_time": "2024-06-03T19:32:43.556Z"
   },
   {
    "duration": 973,
    "start_time": "2024-06-03T19:32:43.611Z"
   },
   {
    "duration": 39,
    "start_time": "2024-06-03T19:32:44.586Z"
   },
   {
    "duration": 19,
    "start_time": "2024-06-03T19:32:44.628Z"
   },
   {
    "duration": 16,
    "start_time": "2024-06-03T19:32:44.650Z"
   },
   {
    "duration": 515,
    "start_time": "2024-06-03T19:32:44.668Z"
   },
   {
    "duration": 0,
    "start_time": "2024-06-03T19:32:45.187Z"
   },
   {
    "duration": 0,
    "start_time": "2024-06-03T19:32:45.188Z"
   },
   {
    "duration": 0,
    "start_time": "2024-06-03T19:32:45.190Z"
   },
   {
    "duration": 0,
    "start_time": "2024-06-03T19:32:45.205Z"
   },
   {
    "duration": 0,
    "start_time": "2024-06-03T19:32:45.207Z"
   },
   {
    "duration": 0,
    "start_time": "2024-06-03T19:32:45.211Z"
   },
   {
    "duration": 0,
    "start_time": "2024-06-03T19:32:45.213Z"
   },
   {
    "duration": 0,
    "start_time": "2024-06-03T19:32:45.216Z"
   },
   {
    "duration": 0,
    "start_time": "2024-06-03T19:32:45.219Z"
   },
   {
    "duration": 0,
    "start_time": "2024-06-03T19:32:45.221Z"
   },
   {
    "duration": 0,
    "start_time": "2024-06-03T19:32:45.223Z"
   },
   {
    "duration": 0,
    "start_time": "2024-06-03T19:32:45.225Z"
   },
   {
    "duration": 0,
    "start_time": "2024-06-03T19:32:45.228Z"
   },
   {
    "duration": 0,
    "start_time": "2024-06-03T19:32:45.231Z"
   },
   {
    "duration": 0,
    "start_time": "2024-06-03T19:32:45.233Z"
   },
   {
    "duration": 0,
    "start_time": "2024-06-03T19:32:45.235Z"
   },
   {
    "duration": 0,
    "start_time": "2024-06-03T19:32:45.237Z"
   },
   {
    "duration": 0,
    "start_time": "2024-06-03T19:32:45.240Z"
   },
   {
    "duration": 38,
    "start_time": "2024-06-03T19:33:26.566Z"
   },
   {
    "duration": 521,
    "start_time": "2024-06-03T19:34:04.326Z"
   },
   {
    "duration": 18,
    "start_time": "2024-06-03T19:34:23.337Z"
   },
   {
    "duration": 30,
    "start_time": "2024-06-03T19:34:58.101Z"
   },
   {
    "duration": 20,
    "start_time": "2024-06-03T19:35:26.450Z"
   },
   {
    "duration": 52,
    "start_time": "2024-06-03T19:38:17.739Z"
   },
   {
    "duration": 32,
    "start_time": "2024-06-03T19:39:11.067Z"
   },
   {
    "duration": 4,
    "start_time": "2024-06-03T19:39:37.690Z"
   },
   {
    "duration": 61,
    "start_time": "2024-06-03T19:40:07.776Z"
   },
   {
    "duration": 5,
    "start_time": "2024-06-03T19:41:55.676Z"
   },
   {
    "duration": 1195,
    "start_time": "2024-06-03T19:57:51.265Z"
   },
   {
    "duration": 276,
    "start_time": "2024-06-03T19:57:52.463Z"
   },
   {
    "duration": 16,
    "start_time": "2024-06-03T19:57:52.742Z"
   },
   {
    "duration": 16,
    "start_time": "2024-06-03T19:57:52.763Z"
   },
   {
    "duration": 36,
    "start_time": "2024-06-03T19:57:52.782Z"
   },
   {
    "duration": 16,
    "start_time": "2024-06-03T19:57:52.820Z"
   },
   {
    "duration": 10,
    "start_time": "2024-06-03T19:57:52.840Z"
   },
   {
    "duration": 52,
    "start_time": "2024-06-03T19:57:52.854Z"
   },
   {
    "duration": 16,
    "start_time": "2024-06-03T19:57:52.909Z"
   },
   {
    "duration": 10,
    "start_time": "2024-06-03T19:57:52.931Z"
   },
   {
    "duration": 63,
    "start_time": "2024-06-03T19:57:52.943Z"
   },
   {
    "duration": 4,
    "start_time": "2024-06-03T19:57:53.009Z"
   },
   {
    "duration": 17,
    "start_time": "2024-06-03T19:57:53.016Z"
   },
   {
    "duration": 24,
    "start_time": "2024-06-03T19:57:53.036Z"
   },
   {
    "duration": 49,
    "start_time": "2024-06-03T19:57:53.063Z"
   },
   {
    "duration": 960,
    "start_time": "2024-06-03T19:57:53.115Z"
   },
   {
    "duration": 40,
    "start_time": "2024-06-03T19:57:54.078Z"
   },
   {
    "duration": 3,
    "start_time": "2024-06-03T19:57:54.121Z"
   },
   {
    "duration": 78,
    "start_time": "2024-06-03T19:57:54.127Z"
   },
   {
    "duration": 20,
    "start_time": "2024-06-03T19:57:54.209Z"
   },
   {
    "duration": 14,
    "start_time": "2024-06-03T19:57:54.232Z"
   },
   {
    "duration": 586,
    "start_time": "2024-06-03T19:57:54.249Z"
   },
   {
    "duration": 22,
    "start_time": "2024-06-03T19:57:54.837Z"
   },
   {
    "duration": 3,
    "start_time": "2024-06-03T19:57:54.863Z"
   },
   {
    "duration": 55,
    "start_time": "2024-06-03T19:57:54.871Z"
   },
   {
    "duration": 22,
    "start_time": "2024-06-03T19:57:54.929Z"
   },
   {
    "duration": 51,
    "start_time": "2024-06-03T19:57:54.954Z"
   },
   {
    "duration": 4,
    "start_time": "2024-06-03T19:57:55.012Z"
   },
   {
    "duration": 59,
    "start_time": "2024-06-03T19:57:55.019Z"
   },
   {
    "duration": 25,
    "start_time": "2024-06-03T19:57:55.082Z"
   },
   {
    "duration": 4,
    "start_time": "2024-06-03T19:57:55.110Z"
   },
   {
    "duration": 3,
    "start_time": "2024-06-03T19:57:55.117Z"
   },
   {
    "duration": 4,
    "start_time": "2024-06-03T19:57:55.123Z"
   },
   {
    "duration": 5,
    "start_time": "2024-06-03T19:57:55.130Z"
   },
   {
    "duration": 6,
    "start_time": "2024-06-03T19:57:55.138Z"
   },
   {
    "duration": 3,
    "start_time": "2024-06-03T19:57:55.147Z"
   },
   {
    "duration": 57,
    "start_time": "2024-06-03T19:57:55.153Z"
   },
   {
    "duration": 3,
    "start_time": "2024-06-03T19:57:55.213Z"
   },
   {
    "duration": 4,
    "start_time": "2024-06-03T19:57:55.219Z"
   },
   {
    "duration": 3,
    "start_time": "2024-06-03T19:57:55.227Z"
   },
   {
    "duration": 4,
    "start_time": "2024-06-03T19:57:55.233Z"
   },
   {
    "duration": 4,
    "start_time": "2024-06-03T19:57:55.240Z"
   },
   {
    "duration": 6,
    "start_time": "2024-06-03T19:57:55.247Z"
   },
   {
    "duration": 56,
    "start_time": "2024-06-03T19:57:55.255Z"
   },
   {
    "duration": 4,
    "start_time": "2024-06-03T19:57:55.314Z"
   },
   {
    "duration": 26,
    "start_time": "2024-06-03T19:58:26.660Z"
   },
   {
    "duration": 89,
    "start_time": "2024-06-03T19:59:51.253Z"
   },
   {
    "duration": 13,
    "start_time": "2024-06-03T20:00:01.700Z"
   },
   {
    "duration": 50,
    "start_time": "2024-06-03T20:00:05.129Z"
   },
   {
    "duration": 461,
    "start_time": "2024-06-03T20:00:48.275Z"
   },
   {
    "duration": 6,
    "start_time": "2024-06-03T20:01:26.708Z"
   },
   {
    "duration": 6,
    "start_time": "2024-06-03T20:01:42.572Z"
   },
   {
    "duration": 91,
    "start_time": "2024-06-03T20:02:58.835Z"
   },
   {
    "duration": 72,
    "start_time": "2024-06-03T20:03:31.646Z"
   },
   {
    "duration": 7,
    "start_time": "2024-06-03T20:03:34.875Z"
   },
   {
    "duration": 16,
    "start_time": "2024-06-03T20:08:14.276Z"
   },
   {
    "duration": 621,
    "start_time": "2024-06-03T20:09:16.154Z"
   },
   {
    "duration": 1352,
    "start_time": "2024-06-03T20:09:25.807Z"
   },
   {
    "duration": 378,
    "start_time": "2024-06-03T20:09:27.163Z"
   },
   {
    "duration": 21,
    "start_time": "2024-06-03T20:09:27.544Z"
   },
   {
    "duration": 39,
    "start_time": "2024-06-03T20:09:27.571Z"
   },
   {
    "duration": 18,
    "start_time": "2024-06-03T20:09:27.614Z"
   },
   {
    "duration": 24,
    "start_time": "2024-06-03T20:09:27.635Z"
   },
   {
    "duration": 48,
    "start_time": "2024-06-03T20:09:27.663Z"
   },
   {
    "duration": 9,
    "start_time": "2024-06-03T20:09:27.714Z"
   },
   {
    "duration": 16,
    "start_time": "2024-06-03T20:09:27.726Z"
   },
   {
    "duration": 9,
    "start_time": "2024-06-03T20:09:27.750Z"
   },
   {
    "duration": 65,
    "start_time": "2024-06-03T20:09:27.763Z"
   },
   {
    "duration": 6,
    "start_time": "2024-06-03T20:09:27.832Z"
   },
   {
    "duration": 20,
    "start_time": "2024-06-03T20:09:27.842Z"
   },
   {
    "duration": 77,
    "start_time": "2024-06-03T20:09:27.865Z"
   },
   {
    "duration": 20,
    "start_time": "2024-06-03T20:09:27.945Z"
   },
   {
    "duration": 1066,
    "start_time": "2024-06-03T20:09:27.968Z"
   },
   {
    "duration": 30,
    "start_time": "2024-06-03T20:09:29.037Z"
   },
   {
    "duration": 115,
    "start_time": "2024-06-03T20:09:29.070Z"
   },
   {
    "duration": 19,
    "start_time": "2024-06-03T20:09:29.187Z"
   },
   {
    "duration": 3,
    "start_time": "2024-06-03T20:09:29.209Z"
   },
   {
    "duration": 45,
    "start_time": "2024-06-03T20:09:29.216Z"
   },
   {
    "duration": 44,
    "start_time": "2024-06-03T20:09:29.264Z"
   },
   {
    "duration": 15,
    "start_time": "2024-06-03T20:09:29.312Z"
   },
   {
    "duration": 582,
    "start_time": "2024-06-03T20:09:29.330Z"
   },
   {
    "duration": 18,
    "start_time": "2024-06-03T20:09:29.915Z"
   },
   {
    "duration": 5,
    "start_time": "2024-06-03T20:09:29.936Z"
   },
   {
    "duration": 63,
    "start_time": "2024-06-03T20:09:29.944Z"
   },
   {
    "duration": 23,
    "start_time": "2024-06-03T20:09:30.015Z"
   },
   {
    "duration": 17,
    "start_time": "2024-06-03T20:09:30.042Z"
   },
   {
    "duration": 3,
    "start_time": "2024-06-03T20:09:30.062Z"
   },
   {
    "duration": 93,
    "start_time": "2024-06-03T20:09:30.068Z"
   },
   {
    "duration": 3,
    "start_time": "2024-06-03T20:09:30.164Z"
   },
   {
    "duration": 4,
    "start_time": "2024-06-03T20:09:30.171Z"
   },
   {
    "duration": 4,
    "start_time": "2024-06-03T20:09:30.207Z"
   },
   {
    "duration": 4,
    "start_time": "2024-06-03T20:09:30.214Z"
   },
   {
    "duration": 4,
    "start_time": "2024-06-03T20:09:30.221Z"
   },
   {
    "duration": 4,
    "start_time": "2024-06-03T20:09:30.228Z"
   },
   {
    "duration": 3,
    "start_time": "2024-06-03T20:09:30.235Z"
   },
   {
    "duration": 3,
    "start_time": "2024-06-03T20:09:30.241Z"
   },
   {
    "duration": 58,
    "start_time": "2024-06-03T20:09:30.248Z"
   },
   {
    "duration": 4,
    "start_time": "2024-06-03T20:09:30.309Z"
   },
   {
    "duration": 4,
    "start_time": "2024-06-03T20:09:30.316Z"
   },
   {
    "duration": 3,
    "start_time": "2024-06-03T20:09:30.324Z"
   },
   {
    "duration": 4,
    "start_time": "2024-06-03T20:09:30.329Z"
   },
   {
    "duration": 4,
    "start_time": "2024-06-03T20:09:30.336Z"
   },
   {
    "duration": 4,
    "start_time": "2024-06-03T20:09:30.343Z"
   },
   {
    "duration": 58,
    "start_time": "2024-06-03T20:09:30.350Z"
   },
   {
    "duration": 54,
    "start_time": "2024-06-03T20:11:30.719Z"
   },
   {
    "duration": 15,
    "start_time": "2024-06-03T20:12:01.324Z"
   },
   {
    "duration": 1070,
    "start_time": "2024-06-03T20:12:03.702Z"
   },
   {
    "duration": 1240,
    "start_time": "2024-06-03T20:12:15.027Z"
   },
   {
    "duration": 275,
    "start_time": "2024-06-03T20:12:16.272Z"
   },
   {
    "duration": 15,
    "start_time": "2024-06-03T20:12:16.550Z"
   },
   {
    "duration": 35,
    "start_time": "2024-06-03T20:12:16.571Z"
   },
   {
    "duration": 22,
    "start_time": "2024-06-03T20:12:16.610Z"
   },
   {
    "duration": 24,
    "start_time": "2024-06-03T20:12:16.635Z"
   },
   {
    "duration": 13,
    "start_time": "2024-06-03T20:12:16.662Z"
   },
   {
    "duration": 8,
    "start_time": "2024-06-03T20:12:16.707Z"
   },
   {
    "duration": 16,
    "start_time": "2024-06-03T20:12:16.718Z"
   },
   {
    "duration": 9,
    "start_time": "2024-06-03T20:12:16.740Z"
   },
   {
    "duration": 58,
    "start_time": "2024-06-03T20:12:16.752Z"
   },
   {
    "duration": 4,
    "start_time": "2024-06-03T20:12:16.814Z"
   },
   {
    "duration": 17,
    "start_time": "2024-06-03T20:12:16.822Z"
   },
   {
    "duration": 24,
    "start_time": "2024-06-03T20:12:16.842Z"
   },
   {
    "duration": 53,
    "start_time": "2024-06-03T20:12:16.869Z"
   },
   {
    "duration": 997,
    "start_time": "2024-06-03T20:12:16.926Z"
   },
   {
    "duration": 30,
    "start_time": "2024-06-03T20:12:17.926Z"
   },
   {
    "duration": 119,
    "start_time": "2024-06-03T20:12:17.959Z"
   },
   {
    "duration": 8,
    "start_time": "2024-06-03T20:12:18.081Z"
   },
   {
    "duration": 50,
    "start_time": "2024-06-03T20:12:18.108Z"
   },
   {
    "duration": 20,
    "start_time": "2024-06-03T20:12:18.161Z"
   },
   {
    "duration": 15,
    "start_time": "2024-06-03T20:12:18.207Z"
   },
   {
    "duration": 568,
    "start_time": "2024-06-03T20:12:18.226Z"
   },
   {
    "duration": 20,
    "start_time": "2024-06-03T20:12:18.807Z"
   },
   {
    "duration": 54,
    "start_time": "2024-06-03T20:12:18.830Z"
   },
   {
    "duration": 33,
    "start_time": "2024-06-03T20:12:18.887Z"
   },
   {
    "duration": 3,
    "start_time": "2024-06-03T20:12:18.924Z"
   },
   {
    "duration": 21,
    "start_time": "2024-06-03T20:12:18.936Z"
   },
   {
    "duration": 57,
    "start_time": "2024-06-03T20:12:18.960Z"
   },
   {
    "duration": 18,
    "start_time": "2024-06-03T20:12:19.022Z"
   },
   {
    "duration": 3,
    "start_time": "2024-06-03T20:12:19.044Z"
   },
   {
    "duration": 95,
    "start_time": "2024-06-03T20:12:19.051Z"
   },
   {
    "duration": 3,
    "start_time": "2024-06-03T20:12:19.149Z"
   },
   {
    "duration": 3,
    "start_time": "2024-06-03T20:12:19.156Z"
   },
   {
    "duration": 4,
    "start_time": "2024-06-03T20:12:19.162Z"
   },
   {
    "duration": 38,
    "start_time": "2024-06-03T20:12:19.169Z"
   },
   {
    "duration": 4,
    "start_time": "2024-06-03T20:12:19.210Z"
   },
   {
    "duration": 3,
    "start_time": "2024-06-03T20:12:19.218Z"
   },
   {
    "duration": 5,
    "start_time": "2024-06-03T20:12:19.225Z"
   },
   {
    "duration": 4,
    "start_time": "2024-06-03T20:12:19.234Z"
   },
   {
    "duration": 4,
    "start_time": "2024-06-03T20:12:19.240Z"
   },
   {
    "duration": 4,
    "start_time": "2024-06-03T20:12:19.247Z"
   },
   {
    "duration": 3,
    "start_time": "2024-06-03T20:12:19.306Z"
   },
   {
    "duration": 3,
    "start_time": "2024-06-03T20:12:19.312Z"
   },
   {
    "duration": 4,
    "start_time": "2024-06-03T20:12:19.318Z"
   },
   {
    "duration": 3,
    "start_time": "2024-06-03T20:12:19.325Z"
   },
   {
    "duration": 5,
    "start_time": "2024-06-03T20:12:19.331Z"
   },
   {
    "duration": 5,
    "start_time": "2024-06-03T20:12:19.338Z"
   },
   {
    "duration": 20,
    "start_time": "2024-06-03T20:13:09.432Z"
   },
   {
    "duration": 1077,
    "start_time": "2024-06-03T20:13:47.269Z"
   },
   {
    "duration": 1288,
    "start_time": "2024-06-03T20:13:54.469Z"
   },
   {
    "duration": 269,
    "start_time": "2024-06-03T20:13:55.760Z"
   },
   {
    "duration": 16,
    "start_time": "2024-06-03T20:13:56.032Z"
   },
   {
    "duration": 16,
    "start_time": "2024-06-03T20:13:56.052Z"
   },
   {
    "duration": 40,
    "start_time": "2024-06-03T20:13:56.071Z"
   },
   {
    "duration": 17,
    "start_time": "2024-06-03T20:13:56.114Z"
   },
   {
    "duration": 10,
    "start_time": "2024-06-03T20:13:56.135Z"
   },
   {
    "duration": 8,
    "start_time": "2024-06-03T20:13:56.148Z"
   },
   {
    "duration": 60,
    "start_time": "2024-06-03T20:13:56.159Z"
   },
   {
    "duration": 9,
    "start_time": "2024-06-03T20:13:56.225Z"
   },
   {
    "duration": 22,
    "start_time": "2024-06-03T20:13:56.238Z"
   },
   {
    "duration": 43,
    "start_time": "2024-06-03T20:13:56.263Z"
   },
   {
    "duration": 16,
    "start_time": "2024-06-03T20:13:56.310Z"
   },
   {
    "duration": 26,
    "start_time": "2024-06-03T20:13:56.329Z"
   },
   {
    "duration": 55,
    "start_time": "2024-06-03T20:13:56.357Z"
   },
   {
    "duration": 974,
    "start_time": "2024-06-03T20:13:56.415Z"
   },
   {
    "duration": 34,
    "start_time": "2024-06-03T20:13:57.392Z"
   },
   {
    "duration": 111,
    "start_time": "2024-06-03T20:13:57.429Z"
   },
   {
    "duration": 7,
    "start_time": "2024-06-03T20:13:57.544Z"
   },
   {
    "duration": 68,
    "start_time": "2024-06-03T20:13:57.555Z"
   },
   {
    "duration": 25,
    "start_time": "2024-06-03T20:13:57.626Z"
   },
   {
    "duration": 14,
    "start_time": "2024-06-03T20:13:57.654Z"
   },
   {
    "duration": 560,
    "start_time": "2024-06-03T20:13:57.672Z"
   },
   {
    "duration": 19,
    "start_time": "2024-06-03T20:13:58.234Z"
   },
   {
    "duration": 83,
    "start_time": "2024-06-03T20:13:58.256Z"
   },
   {
    "duration": 15,
    "start_time": "2024-06-03T20:13:58.342Z"
   },
   {
    "duration": 20,
    "start_time": "2024-06-03T20:13:58.359Z"
   },
   {
    "duration": 22,
    "start_time": "2024-06-03T20:13:58.412Z"
   },
   {
    "duration": 17,
    "start_time": "2024-06-03T20:13:58.437Z"
   },
   {
    "duration": 5,
    "start_time": "2024-06-03T20:13:58.457Z"
   },
   {
    "duration": 102,
    "start_time": "2024-06-03T20:13:58.465Z"
   },
   {
    "duration": 3,
    "start_time": "2024-06-03T20:13:58.570Z"
   },
   {
    "duration": 3,
    "start_time": "2024-06-03T20:13:58.577Z"
   },
   {
    "duration": 6,
    "start_time": "2024-06-03T20:13:58.606Z"
   },
   {
    "duration": 3,
    "start_time": "2024-06-03T20:13:58.615Z"
   },
   {
    "duration": 3,
    "start_time": "2024-06-03T20:13:58.622Z"
   },
   {
    "duration": 4,
    "start_time": "2024-06-03T20:13:58.627Z"
   },
   {
    "duration": 4,
    "start_time": "2024-06-03T20:13:58.635Z"
   },
   {
    "duration": 4,
    "start_time": "2024-06-03T20:13:58.642Z"
   },
   {
    "duration": 57,
    "start_time": "2024-06-03T20:13:58.649Z"
   },
   {
    "duration": 5,
    "start_time": "2024-06-03T20:13:58.710Z"
   },
   {
    "duration": 9,
    "start_time": "2024-06-03T20:13:58.720Z"
   },
   {
    "duration": 3,
    "start_time": "2024-06-03T20:13:58.733Z"
   },
   {
    "duration": 4,
    "start_time": "2024-06-03T20:13:58.741Z"
   },
   {
    "duration": 4,
    "start_time": "2024-06-03T20:13:58.748Z"
   },
   {
    "duration": 50,
    "start_time": "2024-06-03T20:13:58.756Z"
   },
   {
    "duration": 5,
    "start_time": "2024-06-03T20:13:58.809Z"
   },
   {
    "duration": 24,
    "start_time": "2024-06-03T20:22:47.020Z"
   },
   {
    "duration": 714,
    "start_time": "2024-06-03T20:24:03.412Z"
   },
   {
    "duration": 198,
    "start_time": "2024-06-03T20:25:36.449Z"
   },
   {
    "duration": 76,
    "start_time": "2024-06-03T20:26:23.555Z"
   },
   {
    "duration": 16,
    "start_time": "2024-06-03T20:26:39.335Z"
   },
   {
    "duration": 39,
    "start_time": "2024-06-03T20:26:43.185Z"
   },
   {
    "duration": 786,
    "start_time": "2024-06-03T20:27:14.432Z"
   },
   {
    "duration": 964,
    "start_time": "2024-06-03T20:27:19.373Z"
   },
   {
    "duration": 0,
    "start_time": "2024-06-03T20:27:20.340Z"
   },
   {
    "duration": 1323,
    "start_time": "2024-06-03T20:27:25.649Z"
   },
   {
    "duration": 320,
    "start_time": "2024-06-03T20:27:26.975Z"
   },
   {
    "duration": 16,
    "start_time": "2024-06-03T20:27:27.298Z"
   },
   {
    "duration": 21,
    "start_time": "2024-06-03T20:27:27.317Z"
   },
   {
    "duration": 19,
    "start_time": "2024-06-03T20:27:27.342Z"
   },
   {
    "duration": 51,
    "start_time": "2024-06-03T20:27:27.364Z"
   },
   {
    "duration": 14,
    "start_time": "2024-06-03T20:27:27.418Z"
   },
   {
    "duration": 9,
    "start_time": "2024-06-03T20:27:27.436Z"
   },
   {
    "duration": 59,
    "start_time": "2024-06-03T20:27:27.449Z"
   },
   {
    "duration": 14,
    "start_time": "2024-06-03T20:27:27.511Z"
   },
   {
    "duration": 24,
    "start_time": "2024-06-03T20:27:27.528Z"
   },
   {
    "duration": 5,
    "start_time": "2024-06-03T20:27:27.556Z"
   },
   {
    "duration": 53,
    "start_time": "2024-06-03T20:27:27.565Z"
   },
   {
    "duration": 26,
    "start_time": "2024-06-03T20:27:27.627Z"
   },
   {
    "duration": 50,
    "start_time": "2024-06-03T20:27:27.658Z"
   },
   {
    "duration": 1140,
    "start_time": "2024-06-03T20:27:27.712Z"
   },
   {
    "duration": 32,
    "start_time": "2024-06-03T20:27:28.859Z"
   },
   {
    "duration": 130,
    "start_time": "2024-06-03T20:27:28.894Z"
   },
   {
    "duration": 8,
    "start_time": "2024-06-03T20:27:29.027Z"
   },
   {
    "duration": 67,
    "start_time": "2024-06-03T20:27:29.039Z"
   },
   {
    "duration": 27,
    "start_time": "2024-06-03T20:27:29.109Z"
   },
   {
    "duration": 21,
    "start_time": "2024-06-03T20:27:29.139Z"
   },
   {
    "duration": 567,
    "start_time": "2024-06-03T20:27:29.165Z"
   },
   {
    "duration": 20,
    "start_time": "2024-06-03T20:27:29.735Z"
   },
   {
    "duration": 103,
    "start_time": "2024-06-03T20:27:29.759Z"
   },
   {
    "duration": 16,
    "start_time": "2024-06-03T20:27:29.865Z"
   },
   {
    "duration": 42,
    "start_time": "2024-06-03T20:27:29.884Z"
   },
   {
    "duration": 22,
    "start_time": "2024-06-03T20:27:29.929Z"
   },
   {
    "duration": 16,
    "start_time": "2024-06-03T20:27:29.956Z"
   },
   {
    "duration": 776,
    "start_time": "2024-06-03T20:27:30.006Z"
   },
   {
    "duration": 87,
    "start_time": "2024-06-03T20:27:30.784Z"
   },
   {
    "duration": 34,
    "start_time": "2024-06-03T20:27:30.874Z"
   },
   {
    "duration": 43,
    "start_time": "2024-06-03T20:27:30.911Z"
   },
   {
    "duration": 3,
    "start_time": "2024-06-03T20:27:30.957Z"
   },
   {
    "duration": 4,
    "start_time": "2024-06-03T20:27:30.963Z"
   },
   {
    "duration": 37,
    "start_time": "2024-06-03T20:27:30.969Z"
   },
   {
    "duration": 3,
    "start_time": "2024-06-03T20:27:31.009Z"
   },
   {
    "duration": 5,
    "start_time": "2024-06-03T20:27:31.016Z"
   },
   {
    "duration": 3,
    "start_time": "2024-06-03T20:27:31.025Z"
   },
   {
    "duration": 5,
    "start_time": "2024-06-03T20:27:31.031Z"
   },
   {
    "duration": 3,
    "start_time": "2024-06-03T20:27:31.044Z"
   },
   {
    "duration": 55,
    "start_time": "2024-06-03T20:27:31.051Z"
   },
   {
    "duration": 4,
    "start_time": "2024-06-03T20:27:31.110Z"
   },
   {
    "duration": 5,
    "start_time": "2024-06-03T20:27:31.118Z"
   },
   {
    "duration": 6,
    "start_time": "2024-06-03T20:27:31.127Z"
   },
   {
    "duration": 3,
    "start_time": "2024-06-03T20:27:31.140Z"
   },
   {
    "duration": 4,
    "start_time": "2024-06-03T20:27:31.146Z"
   },
   {
    "duration": 3,
    "start_time": "2024-06-03T20:27:31.155Z"
   },
   {
    "duration": 5,
    "start_time": "2024-06-03T20:27:31.206Z"
   },
   {
    "duration": 8,
    "start_time": "2024-06-03T20:29:59.146Z"
   },
   {
    "duration": 13,
    "start_time": "2024-06-03T20:30:38.923Z"
   },
   {
    "duration": 13,
    "start_time": "2024-06-03T20:30:59.528Z"
   },
   {
    "duration": 473,
    "start_time": "2024-06-03T20:51:53.024Z"
   },
   {
    "duration": 24,
    "start_time": "2024-06-03T20:57:46.501Z"
   },
   {
    "duration": 4,
    "start_time": "2024-06-03T21:00:12.604Z"
   },
   {
    "duration": 6,
    "start_time": "2024-06-03T21:00:19.075Z"
   },
   {
    "duration": 54,
    "start_time": "2024-06-03T21:00:33.905Z"
   },
   {
    "duration": 82,
    "start_time": "2024-06-03T21:00:42.939Z"
   },
   {
    "duration": 64,
    "start_time": "2024-06-03T21:00:46.365Z"
   },
   {
    "duration": 5359,
    "start_time": "2024-06-04T00:14:58.726Z"
   },
   {
    "duration": 457,
    "start_time": "2024-06-04T00:15:04.089Z"
   },
   {
    "duration": 23,
    "start_time": "2024-06-04T00:15:04.552Z"
   },
   {
    "duration": 20,
    "start_time": "2024-06-04T00:15:04.581Z"
   },
   {
    "duration": 42,
    "start_time": "2024-06-04T00:15:04.605Z"
   },
   {
    "duration": 21,
    "start_time": "2024-06-04T00:15:04.651Z"
   },
   {
    "duration": 13,
    "start_time": "2024-06-04T00:15:04.676Z"
   },
   {
    "duration": 10,
    "start_time": "2024-06-04T00:15:04.725Z"
   },
   {
    "duration": 22,
    "start_time": "2024-06-04T00:15:04.740Z"
   },
   {
    "duration": 53,
    "start_time": "2024-06-04T00:15:04.770Z"
   },
   {
    "duration": 26,
    "start_time": "2024-06-04T00:15:04.827Z"
   },
   {
    "duration": 12,
    "start_time": "2024-06-04T00:15:04.856Z"
   },
   {
    "duration": 51,
    "start_time": "2024-06-04T00:15:04.874Z"
   },
   {
    "duration": 36,
    "start_time": "2024-06-04T00:15:04.929Z"
   },
   {
    "duration": 21,
    "start_time": "2024-06-04T00:15:04.969Z"
   },
   {
    "duration": 1045,
    "start_time": "2024-06-04T00:15:05.026Z"
   },
   {
    "duration": 48,
    "start_time": "2024-06-04T00:15:06.075Z"
   },
   {
    "duration": 108,
    "start_time": "2024-06-04T00:15:06.126Z"
   },
   {
    "duration": 8,
    "start_time": "2024-06-04T00:15:06.237Z"
   },
   {
    "duration": 45,
    "start_time": "2024-06-04T00:15:06.249Z"
   },
   {
    "duration": 29,
    "start_time": "2024-06-04T00:15:06.323Z"
   },
   {
    "duration": 15,
    "start_time": "2024-06-04T00:15:06.359Z"
   },
   {
    "duration": 584,
    "start_time": "2024-06-04T00:15:06.378Z"
   },
   {
    "duration": 24,
    "start_time": "2024-06-04T00:15:06.966Z"
   },
   {
    "duration": 100,
    "start_time": "2024-06-04T00:15:06.994Z"
   },
   {
    "duration": 33,
    "start_time": "2024-06-04T00:15:07.098Z"
   },
   {
    "duration": 24,
    "start_time": "2024-06-04T00:15:07.135Z"
   },
   {
    "duration": 60,
    "start_time": "2024-06-04T00:15:07.170Z"
   },
   {
    "duration": 19,
    "start_time": "2024-06-04T00:15:07.233Z"
   },
   {
    "duration": 809,
    "start_time": "2024-06-04T00:15:07.255Z"
   },
   {
    "duration": 108,
    "start_time": "2024-06-04T00:15:08.068Z"
   },
   {
    "duration": 43,
    "start_time": "2024-06-04T00:15:08.179Z"
   },
   {
    "duration": 48,
    "start_time": "2024-06-04T00:15:08.227Z"
   },
   {
    "duration": 16,
    "start_time": "2024-06-04T00:15:08.280Z"
   },
   {
    "duration": 75,
    "start_time": "2024-06-04T00:15:08.322Z"
   },
   {
    "duration": 24,
    "start_time": "2024-06-04T00:15:08.400Z"
   },
   {
    "duration": 3,
    "start_time": "2024-06-04T00:15:08.428Z"
   },
   {
    "duration": 4,
    "start_time": "2024-06-04T00:15:08.434Z"
   },
   {
    "duration": 4,
    "start_time": "2024-06-04T00:15:08.441Z"
   },
   {
    "duration": 3,
    "start_time": "2024-06-04T00:15:08.448Z"
   },
   {
    "duration": 3,
    "start_time": "2024-06-04T00:15:08.455Z"
   },
   {
    "duration": 7,
    "start_time": "2024-06-04T00:15:08.462Z"
   },
   {
    "duration": 52,
    "start_time": "2024-06-04T00:15:08.472Z"
   },
   {
    "duration": 4,
    "start_time": "2024-06-04T00:15:08.527Z"
   },
   {
    "duration": 5,
    "start_time": "2024-06-04T00:15:08.534Z"
   },
   {
    "duration": 5,
    "start_time": "2024-06-04T00:15:08.541Z"
   },
   {
    "duration": 4,
    "start_time": "2024-06-04T00:15:08.548Z"
   },
   {
    "duration": 4,
    "start_time": "2024-06-04T00:15:08.555Z"
   },
   {
    "duration": 4,
    "start_time": "2024-06-04T00:15:08.562Z"
   },
   {
    "duration": 1607,
    "start_time": "2024-06-04T00:16:55.458Z"
   },
   {
    "duration": 542,
    "start_time": "2024-06-04T00:22:38.952Z"
   },
   {
    "duration": 1490,
    "start_time": "2024-06-04T00:22:46.046Z"
   },
   {
    "duration": 382,
    "start_time": "2024-06-04T00:22:47.540Z"
   },
   {
    "duration": 23,
    "start_time": "2024-06-04T00:22:47.927Z"
   },
   {
    "duration": 21,
    "start_time": "2024-06-04T00:22:47.956Z"
   },
   {
    "duration": 51,
    "start_time": "2024-06-04T00:22:47.981Z"
   },
   {
    "duration": 24,
    "start_time": "2024-06-04T00:22:48.037Z"
   },
   {
    "duration": 15,
    "start_time": "2024-06-04T00:22:48.065Z"
   },
   {
    "duration": 46,
    "start_time": "2024-06-04T00:22:48.084Z"
   },
   {
    "duration": 21,
    "start_time": "2024-06-04T00:22:48.136Z"
   },
   {
    "duration": 11,
    "start_time": "2024-06-04T00:22:48.163Z"
   },
   {
    "duration": 63,
    "start_time": "2024-06-04T00:22:48.178Z"
   },
   {
    "duration": 5,
    "start_time": "2024-06-04T00:22:48.244Z"
   },
   {
    "duration": 21,
    "start_time": "2024-06-04T00:22:48.252Z"
   },
   {
    "duration": 70,
    "start_time": "2024-06-04T00:22:48.277Z"
   },
   {
    "duration": 22,
    "start_time": "2024-06-04T00:22:48.350Z"
   },
   {
    "duration": 1130,
    "start_time": "2024-06-04T00:22:48.376Z"
   },
   {
    "duration": 45,
    "start_time": "2024-06-04T00:22:49.509Z"
   },
   {
    "duration": 125,
    "start_time": "2024-06-04T00:22:49.558Z"
   },
   {
    "duration": 10,
    "start_time": "2024-06-04T00:22:49.686Z"
   },
   {
    "duration": 71,
    "start_time": "2024-06-04T00:22:49.713Z"
   },
   {
    "duration": 42,
    "start_time": "2024-06-04T00:22:49.788Z"
   },
   {
    "duration": 16,
    "start_time": "2024-06-04T00:22:49.834Z"
   },
   {
    "duration": 648,
    "start_time": "2024-06-04T00:22:49.854Z"
   },
   {
    "duration": 31,
    "start_time": "2024-06-04T00:22:50.506Z"
   },
   {
    "duration": 92,
    "start_time": "2024-06-04T00:22:50.545Z"
   },
   {
    "duration": 18,
    "start_time": "2024-06-04T00:22:50.641Z"
   },
   {
    "duration": 26,
    "start_time": "2024-06-04T00:22:50.663Z"
   },
   {
    "duration": 29,
    "start_time": "2024-06-04T00:22:50.729Z"
   },
   {
    "duration": 23,
    "start_time": "2024-06-04T00:22:50.763Z"
   },
   {
    "duration": 882,
    "start_time": "2024-06-04T00:22:50.792Z"
   },
   {
    "duration": 112,
    "start_time": "2024-06-04T00:22:51.682Z"
   },
   {
    "duration": 30,
    "start_time": "2024-06-04T00:22:51.798Z"
   },
   {
    "duration": 60,
    "start_time": "2024-06-04T00:22:51.832Z"
   },
   {
    "duration": 35,
    "start_time": "2024-06-04T00:22:51.898Z"
   },
   {
    "duration": 1058,
    "start_time": "2024-06-04T00:22:51.937Z"
   },
   {
    "duration": 0,
    "start_time": "2024-06-04T00:22:52.999Z"
   },
   {
    "duration": 0,
    "start_time": "2024-06-04T00:22:53.002Z"
   },
   {
    "duration": 0,
    "start_time": "2024-06-04T00:22:53.004Z"
   },
   {
    "duration": 0,
    "start_time": "2024-06-04T00:22:53.023Z"
   },
   {
    "duration": 0,
    "start_time": "2024-06-04T00:22:53.025Z"
   },
   {
    "duration": 0,
    "start_time": "2024-06-04T00:22:53.028Z"
   },
   {
    "duration": 0,
    "start_time": "2024-06-04T00:22:53.030Z"
   },
   {
    "duration": 0,
    "start_time": "2024-06-04T00:22:53.032Z"
   },
   {
    "duration": 0,
    "start_time": "2024-06-04T00:22:53.034Z"
   },
   {
    "duration": 0,
    "start_time": "2024-06-04T00:22:53.038Z"
   },
   {
    "duration": 0,
    "start_time": "2024-06-04T00:22:53.042Z"
   },
   {
    "duration": 0,
    "start_time": "2024-06-04T00:22:53.045Z"
   },
   {
    "duration": 0,
    "start_time": "2024-06-04T00:22:53.048Z"
   },
   {
    "duration": 0,
    "start_time": "2024-06-04T00:22:53.050Z"
   },
   {
    "duration": 1237,
    "start_time": "2024-06-04T00:23:58.638Z"
   },
   {
    "duration": 1439,
    "start_time": "2024-06-04T00:24:08.464Z"
   },
   {
    "duration": 342,
    "start_time": "2024-06-04T00:24:09.907Z"
   },
   {
    "duration": 20,
    "start_time": "2024-06-04T00:24:10.252Z"
   },
   {
    "duration": 21,
    "start_time": "2024-06-04T00:24:10.275Z"
   },
   {
    "duration": 42,
    "start_time": "2024-06-04T00:24:10.300Z"
   },
   {
    "duration": 23,
    "start_time": "2024-06-04T00:24:10.345Z"
   },
   {
    "duration": 15,
    "start_time": "2024-06-04T00:24:10.372Z"
   },
   {
    "duration": 9,
    "start_time": "2024-06-04T00:24:10.423Z"
   },
   {
    "duration": 21,
    "start_time": "2024-06-04T00:24:10.435Z"
   },
   {
    "duration": 12,
    "start_time": "2024-06-04T00:24:10.459Z"
   },
   {
    "duration": 61,
    "start_time": "2024-06-04T00:24:10.474Z"
   },
   {
    "duration": 4,
    "start_time": "2024-06-04T00:24:10.539Z"
   },
   {
    "duration": 17,
    "start_time": "2024-06-04T00:24:10.548Z"
   },
   {
    "duration": 69,
    "start_time": "2024-06-04T00:24:10.572Z"
   },
   {
    "duration": 24,
    "start_time": "2024-06-04T00:24:10.645Z"
   },
   {
    "duration": 1023,
    "start_time": "2024-06-04T00:24:10.673Z"
   },
   {
    "duration": 35,
    "start_time": "2024-06-04T00:24:11.700Z"
   },
   {
    "duration": 144,
    "start_time": "2024-06-04T00:24:11.739Z"
   },
   {
    "duration": 11,
    "start_time": "2024-06-04T00:24:11.886Z"
   },
   {
    "duration": 61,
    "start_time": "2024-06-04T00:24:11.900Z"
   },
   {
    "duration": 23,
    "start_time": "2024-06-04T00:24:11.964Z"
   },
   {
    "duration": 44,
    "start_time": "2024-06-04T00:24:11.991Z"
   },
   {
    "duration": 542,
    "start_time": "2024-06-04T00:24:12.039Z"
   },
   {
    "duration": 22,
    "start_time": "2024-06-04T00:24:12.584Z"
   },
   {
    "duration": 66,
    "start_time": "2024-06-04T00:24:12.625Z"
   },
   {
    "duration": 37,
    "start_time": "2024-06-04T00:24:12.694Z"
   },
   {
    "duration": 28,
    "start_time": "2024-06-04T00:24:12.738Z"
   },
   {
    "duration": 26,
    "start_time": "2024-06-04T00:24:12.769Z"
   },
   {
    "duration": 19,
    "start_time": "2024-06-04T00:24:12.824Z"
   },
   {
    "duration": 764,
    "start_time": "2024-06-04T00:24:12.847Z"
   },
   {
    "duration": 80,
    "start_time": "2024-06-04T00:24:13.622Z"
   },
   {
    "duration": 32,
    "start_time": "2024-06-04T00:24:13.705Z"
   },
   {
    "duration": 44,
    "start_time": "2024-06-04T00:24:13.741Z"
   },
   {
    "duration": 39,
    "start_time": "2024-06-04T00:24:13.789Z"
   },
   {
    "duration": 2016,
    "start_time": "2024-06-04T00:24:13.831Z"
   },
   {
    "duration": 0,
    "start_time": "2024-06-04T00:24:15.851Z"
   },
   {
    "duration": 0,
    "start_time": "2024-06-04T00:24:15.855Z"
   },
   {
    "duration": 0,
    "start_time": "2024-06-04T00:24:15.858Z"
   },
   {
    "duration": 0,
    "start_time": "2024-06-04T00:24:15.861Z"
   },
   {
    "duration": 0,
    "start_time": "2024-06-04T00:24:15.864Z"
   },
   {
    "duration": 0,
    "start_time": "2024-06-04T00:24:15.867Z"
   },
   {
    "duration": 0,
    "start_time": "2024-06-04T00:24:15.870Z"
   },
   {
    "duration": 0,
    "start_time": "2024-06-04T00:24:15.874Z"
   },
   {
    "duration": 0,
    "start_time": "2024-06-04T00:24:15.876Z"
   },
   {
    "duration": 0,
    "start_time": "2024-06-04T00:24:15.878Z"
   },
   {
    "duration": 0,
    "start_time": "2024-06-04T00:24:15.925Z"
   },
   {
    "duration": 0,
    "start_time": "2024-06-04T00:24:15.928Z"
   },
   {
    "duration": 0,
    "start_time": "2024-06-04T00:24:15.930Z"
   },
   {
    "duration": 0,
    "start_time": "2024-06-04T00:24:15.934Z"
   },
   {
    "duration": 69,
    "start_time": "2024-06-04T00:36:18.241Z"
   },
   {
    "duration": 967,
    "start_time": "2024-06-04T00:40:53.204Z"
   },
   {
    "duration": 1297,
    "start_time": "2024-06-04T00:41:01.074Z"
   },
   {
    "duration": 292,
    "start_time": "2024-06-04T00:41:02.374Z"
   },
   {
    "duration": 17,
    "start_time": "2024-06-04T00:41:02.669Z"
   },
   {
    "duration": 38,
    "start_time": "2024-06-04T00:41:02.690Z"
   },
   {
    "duration": 15,
    "start_time": "2024-06-04T00:41:02.731Z"
   },
   {
    "duration": 17,
    "start_time": "2024-06-04T00:41:02.749Z"
   },
   {
    "duration": 11,
    "start_time": "2024-06-04T00:41:02.769Z"
   },
   {
    "duration": 45,
    "start_time": "2024-06-04T00:41:02.783Z"
   },
   {
    "duration": 19,
    "start_time": "2024-06-04T00:41:02.830Z"
   },
   {
    "duration": 9,
    "start_time": "2024-06-04T00:41:02.855Z"
   },
   {
    "duration": 61,
    "start_time": "2024-06-04T00:41:02.867Z"
   },
   {
    "duration": 5,
    "start_time": "2024-06-04T00:41:02.931Z"
   },
   {
    "duration": 16,
    "start_time": "2024-06-04T00:41:02.940Z"
   },
   {
    "duration": 67,
    "start_time": "2024-06-04T00:41:02.959Z"
   },
   {
    "duration": 19,
    "start_time": "2024-06-04T00:41:03.029Z"
   },
   {
    "duration": 31,
    "start_time": "2024-06-04T00:41:03.051Z"
   },
   {
    "duration": 122,
    "start_time": "2024-06-04T00:41:03.085Z"
   },
   {
    "duration": 17,
    "start_time": "2024-06-04T00:41:03.209Z"
   },
   {
    "duration": 33,
    "start_time": "2024-06-04T00:41:03.229Z"
   },
   {
    "duration": 25,
    "start_time": "2024-06-04T00:41:03.265Z"
   },
   {
    "duration": 20,
    "start_time": "2024-06-04T00:41:03.324Z"
   },
   {
    "duration": 569,
    "start_time": "2024-06-04T00:41:03.347Z"
   },
   {
    "duration": 19,
    "start_time": "2024-06-04T00:41:03.923Z"
   },
   {
    "duration": 82,
    "start_time": "2024-06-04T00:41:03.945Z"
   },
   {
    "duration": 17,
    "start_time": "2024-06-04T00:41:04.030Z"
   },
   {
    "duration": 25,
    "start_time": "2024-06-04T00:41:04.050Z"
   },
   {
    "duration": 57,
    "start_time": "2024-06-04T00:41:04.079Z"
   },
   {
    "duration": 18,
    "start_time": "2024-06-04T00:41:04.145Z"
   },
   {
    "duration": 770,
    "start_time": "2024-06-04T00:41:04.166Z"
   },
   {
    "duration": 89,
    "start_time": "2024-06-04T00:41:04.939Z"
   },
   {
    "duration": 19,
    "start_time": "2024-06-04T00:41:05.032Z"
   },
   {
    "duration": 76,
    "start_time": "2024-06-04T00:41:05.053Z"
   },
   {
    "duration": 15,
    "start_time": "2024-06-04T00:41:05.132Z"
   },
   {
    "duration": 1452,
    "start_time": "2024-06-04T00:41:05.151Z"
   },
   {
    "duration": 0,
    "start_time": "2024-06-04T00:41:06.607Z"
   },
   {
    "duration": 0,
    "start_time": "2024-06-04T00:41:06.608Z"
   },
   {
    "duration": 0,
    "start_time": "2024-06-04T00:41:06.611Z"
   },
   {
    "duration": 0,
    "start_time": "2024-06-04T00:41:06.623Z"
   },
   {
    "duration": 0,
    "start_time": "2024-06-04T00:41:06.625Z"
   },
   {
    "duration": 0,
    "start_time": "2024-06-04T00:41:06.628Z"
   },
   {
    "duration": 0,
    "start_time": "2024-06-04T00:41:06.630Z"
   },
   {
    "duration": 0,
    "start_time": "2024-06-04T00:41:06.632Z"
   },
   {
    "duration": 0,
    "start_time": "2024-06-04T00:41:06.634Z"
   },
   {
    "duration": 1,
    "start_time": "2024-06-04T00:41:06.636Z"
   },
   {
    "duration": 0,
    "start_time": "2024-06-04T00:41:06.639Z"
   },
   {
    "duration": 0,
    "start_time": "2024-06-04T00:41:06.641Z"
   },
   {
    "duration": 0,
    "start_time": "2024-06-04T00:41:06.643Z"
   },
   {
    "duration": 0,
    "start_time": "2024-06-04T00:41:06.645Z"
   },
   {
    "duration": 578,
    "start_time": "2024-06-04T00:42:32.657Z"
   },
   {
    "duration": 65,
    "start_time": "2024-06-04T00:43:14.516Z"
   },
   {
    "duration": 50,
    "start_time": "2024-06-04T00:43:44.187Z"
   },
   {
    "duration": 46,
    "start_time": "2024-06-04T00:43:56.508Z"
   },
   {
    "duration": 936,
    "start_time": "2024-06-04T00:44:35.826Z"
   },
   {
    "duration": 1330,
    "start_time": "2024-06-04T00:44:48.000Z"
   },
   {
    "duration": 300,
    "start_time": "2024-06-04T00:44:49.334Z"
   },
   {
    "duration": 18,
    "start_time": "2024-06-04T00:44:49.638Z"
   },
   {
    "duration": 21,
    "start_time": "2024-06-04T00:44:49.660Z"
   },
   {
    "duration": 19,
    "start_time": "2024-06-04T00:44:49.727Z"
   },
   {
    "duration": 18,
    "start_time": "2024-06-04T00:44:49.750Z"
   },
   {
    "duration": 12,
    "start_time": "2024-06-04T00:44:49.771Z"
   },
   {
    "duration": 42,
    "start_time": "2024-06-04T00:44:49.787Z"
   },
   {
    "duration": 17,
    "start_time": "2024-06-04T00:44:49.832Z"
   },
   {
    "duration": 13,
    "start_time": "2024-06-04T00:44:49.853Z"
   },
   {
    "duration": 67,
    "start_time": "2024-06-04T00:44:49.869Z"
   },
   {
    "duration": 5,
    "start_time": "2024-06-04T00:44:49.939Z"
   },
   {
    "duration": 17,
    "start_time": "2024-06-04T00:44:49.948Z"
   },
   {
    "duration": 65,
    "start_time": "2024-06-04T00:44:49.972Z"
   },
   {
    "duration": 17,
    "start_time": "2024-06-04T00:44:50.041Z"
   },
   {
    "duration": 63,
    "start_time": "2024-06-04T00:44:50.060Z"
   },
   {
    "duration": 106,
    "start_time": "2024-06-04T00:44:50.126Z"
   },
   {
    "duration": 7,
    "start_time": "2024-06-04T00:44:50.236Z"
   },
   {
    "duration": 33,
    "start_time": "2024-06-04T00:44:50.247Z"
   },
   {
    "duration": 60,
    "start_time": "2024-06-04T00:44:50.283Z"
   },
   {
    "duration": 14,
    "start_time": "2024-06-04T00:44:50.347Z"
   },
   {
    "duration": 547,
    "start_time": "2024-06-04T00:44:50.364Z"
   },
   {
    "duration": 27,
    "start_time": "2024-06-04T00:44:50.913Z"
   },
   {
    "duration": 80,
    "start_time": "2024-06-04T00:44:50.943Z"
   },
   {
    "duration": 14,
    "start_time": "2024-06-04T00:44:51.026Z"
   },
   {
    "duration": 21,
    "start_time": "2024-06-04T00:44:51.043Z"
   },
   {
    "duration": 57,
    "start_time": "2024-06-04T00:44:51.067Z"
   },
   {
    "duration": 28,
    "start_time": "2024-06-04T00:44:51.127Z"
   },
   {
    "duration": 773,
    "start_time": "2024-06-04T00:44:51.158Z"
   },
   {
    "duration": 89,
    "start_time": "2024-06-04T00:44:51.935Z"
   },
   {
    "duration": 17,
    "start_time": "2024-06-04T00:44:52.026Z"
   },
   {
    "duration": 43,
    "start_time": "2024-06-04T00:44:52.046Z"
   },
   {
    "duration": 41,
    "start_time": "2024-06-04T00:44:52.092Z"
   },
   {
    "duration": 1017,
    "start_time": "2024-06-04T00:44:52.136Z"
   },
   {
    "duration": 3,
    "start_time": "2024-06-04T00:44:53.156Z"
   },
   {
    "duration": 3,
    "start_time": "2024-06-04T00:44:53.163Z"
   },
   {
    "duration": 3,
    "start_time": "2024-06-04T00:44:53.170Z"
   },
   {
    "duration": 3,
    "start_time": "2024-06-04T00:44:53.177Z"
   },
   {
    "duration": 41,
    "start_time": "2024-06-04T00:44:53.183Z"
   },
   {
    "duration": 4,
    "start_time": "2024-06-04T00:44:53.228Z"
   },
   {
    "duration": 4,
    "start_time": "2024-06-04T00:44:53.241Z"
   },
   {
    "duration": 4,
    "start_time": "2024-06-04T00:44:53.248Z"
   },
   {
    "duration": 3,
    "start_time": "2024-06-04T00:44:53.256Z"
   },
   {
    "duration": 3,
    "start_time": "2024-06-04T00:44:53.263Z"
   },
   {
    "duration": 4,
    "start_time": "2024-06-04T00:44:53.324Z"
   },
   {
    "duration": 3,
    "start_time": "2024-06-04T00:44:53.331Z"
   },
   {
    "duration": 6,
    "start_time": "2024-06-04T00:44:53.338Z"
   },
   {
    "duration": 4,
    "start_time": "2024-06-04T00:44:53.346Z"
   },
   {
    "duration": 16,
    "start_time": "2024-06-04T00:51:33.195Z"
   },
   {
    "duration": 1002,
    "start_time": "2024-06-04T00:51:50.197Z"
   },
   {
    "duration": 57,
    "start_time": "2024-06-04T00:51:57.784Z"
   },
   {
    "duration": 1391,
    "start_time": "2024-06-04T00:52:03.816Z"
   },
   {
    "duration": 309,
    "start_time": "2024-06-04T00:52:05.210Z"
   },
   {
    "duration": 16,
    "start_time": "2024-06-04T00:52:05.523Z"
   },
   {
    "duration": 19,
    "start_time": "2024-06-04T00:52:05.544Z"
   },
   {
    "duration": 16,
    "start_time": "2024-06-04T00:52:05.566Z"
   },
   {
    "duration": 18,
    "start_time": "2024-06-04T00:52:05.624Z"
   },
   {
    "duration": 11,
    "start_time": "2024-06-04T00:52:05.645Z"
   },
   {
    "duration": 8,
    "start_time": "2024-06-04T00:52:05.660Z"
   },
   {
    "duration": 64,
    "start_time": "2024-06-04T00:52:05.672Z"
   },
   {
    "duration": 12,
    "start_time": "2024-06-04T00:52:05.744Z"
   },
   {
    "duration": 25,
    "start_time": "2024-06-04T00:52:05.762Z"
   },
   {
    "duration": 6,
    "start_time": "2024-06-04T00:52:05.830Z"
   },
   {
    "duration": 17,
    "start_time": "2024-06-04T00:52:05.840Z"
   },
   {
    "duration": 28,
    "start_time": "2024-06-04T00:52:05.860Z"
   },
   {
    "duration": 48,
    "start_time": "2024-06-04T00:52:05.893Z"
   },
   {
    "duration": 30,
    "start_time": "2024-06-04T00:52:05.947Z"
   },
   {
    "duration": 119,
    "start_time": "2024-06-04T00:52:05.981Z"
   },
   {
    "duration": 20,
    "start_time": "2024-06-04T00:52:06.103Z"
   },
   {
    "duration": 32,
    "start_time": "2024-06-04T00:52:06.127Z"
   },
   {
    "duration": 23,
    "start_time": "2024-06-04T00:52:06.163Z"
   },
   {
    "duration": 50,
    "start_time": "2024-06-04T00:52:06.189Z"
   },
   {
    "duration": 549,
    "start_time": "2024-06-04T00:52:06.242Z"
   },
   {
    "duration": 33,
    "start_time": "2024-06-04T00:52:06.794Z"
   },
   {
    "duration": 65,
    "start_time": "2024-06-04T00:52:06.830Z"
   },
   {
    "duration": 40,
    "start_time": "2024-06-04T00:52:06.899Z"
   },
   {
    "duration": 27,
    "start_time": "2024-06-04T00:52:06.943Z"
   },
   {
    "duration": 52,
    "start_time": "2024-06-04T00:52:06.973Z"
   },
   {
    "duration": 17,
    "start_time": "2024-06-04T00:52:07.035Z"
   },
   {
    "duration": 794,
    "start_time": "2024-06-04T00:52:07.055Z"
   },
   {
    "duration": 92,
    "start_time": "2024-06-04T00:52:07.852Z"
   },
   {
    "duration": 21,
    "start_time": "2024-06-04T00:52:07.948Z"
   },
   {
    "duration": 78,
    "start_time": "2024-06-04T00:52:07.973Z"
   },
   {
    "duration": 20,
    "start_time": "2024-06-04T00:52:08.054Z"
   },
   {
    "duration": 1028,
    "start_time": "2024-06-04T00:52:08.078Z"
   },
   {
    "duration": 31,
    "start_time": "2024-06-04T00:52:09.109Z"
   },
   {
    "duration": 4,
    "start_time": "2024-06-04T00:52:09.143Z"
   },
   {
    "duration": 5,
    "start_time": "2024-06-04T00:52:09.151Z"
   },
   {
    "duration": 7,
    "start_time": "2024-06-04T00:52:09.160Z"
   },
   {
    "duration": 4,
    "start_time": "2024-06-04T00:52:09.171Z"
   },
   {
    "duration": 4,
    "start_time": "2024-06-04T00:52:09.224Z"
   },
   {
    "duration": 4,
    "start_time": "2024-06-04T00:52:09.231Z"
   },
   {
    "duration": 3,
    "start_time": "2024-06-04T00:52:09.239Z"
   },
   {
    "duration": 4,
    "start_time": "2024-06-04T00:52:09.246Z"
   },
   {
    "duration": 5,
    "start_time": "2024-06-04T00:52:09.254Z"
   },
   {
    "duration": 3,
    "start_time": "2024-06-04T00:52:09.262Z"
   },
   {
    "duration": 58,
    "start_time": "2024-06-04T00:52:09.268Z"
   },
   {
    "duration": 3,
    "start_time": "2024-06-04T00:52:09.330Z"
   },
   {
    "duration": 4,
    "start_time": "2024-06-04T00:52:09.336Z"
   },
   {
    "duration": 4,
    "start_time": "2024-06-04T00:52:09.343Z"
   },
   {
    "duration": 742,
    "start_time": "2024-06-04T00:53:53.354Z"
   },
   {
    "duration": 102,
    "start_time": "2024-06-04T00:54:09.882Z"
   },
   {
    "duration": 1093,
    "start_time": "2024-06-04T00:55:39.477Z"
   },
   {
    "duration": 22,
    "start_time": "2024-06-04T00:58:59.873Z"
   },
   {
    "duration": 3,
    "start_time": "2024-06-04T01:01:25.451Z"
   },
   {
    "duration": 23,
    "start_time": "2024-06-04T01:01:29.738Z"
   },
   {
    "duration": 14,
    "start_time": "2024-06-04T01:01:49.716Z"
   },
   {
    "duration": 1039,
    "start_time": "2024-06-04T01:01:53.654Z"
   },
   {
    "duration": 42,
    "start_time": "2024-06-04T01:04:20.972Z"
   },
   {
    "duration": 41,
    "start_time": "2024-06-04T01:05:22.000Z"
   },
   {
    "duration": 271,
    "start_time": "2024-06-04T01:06:09.432Z"
   },
   {
    "duration": 51,
    "start_time": "2024-06-04T01:06:30.157Z"
   },
   {
    "duration": 2171,
    "start_time": "2024-06-04T01:06:37.796Z"
   },
   {
    "duration": 100,
    "start_time": "2024-06-04T01:06:59.672Z"
   },
   {
    "duration": 674,
    "start_time": "2024-06-04T01:07:13.163Z"
   },
   {
    "duration": 27,
    "start_time": "2024-06-04T01:22:01.363Z"
   },
   {
    "duration": 1398,
    "start_time": "2024-06-04T01:22:26.479Z"
   },
   {
    "duration": 321,
    "start_time": "2024-06-04T01:22:27.882Z"
   },
   {
    "duration": 24,
    "start_time": "2024-06-04T01:22:28.207Z"
   },
   {
    "duration": 19,
    "start_time": "2024-06-04T01:22:28.235Z"
   },
   {
    "duration": 19,
    "start_time": "2024-06-04T01:22:28.258Z"
   },
   {
    "duration": 51,
    "start_time": "2024-06-04T01:22:28.281Z"
   },
   {
    "duration": 10,
    "start_time": "2024-06-04T01:22:28.336Z"
   },
   {
    "duration": 9,
    "start_time": "2024-06-04T01:22:28.350Z"
   },
   {
    "duration": 19,
    "start_time": "2024-06-04T01:22:28.362Z"
   },
   {
    "duration": 11,
    "start_time": "2024-06-04T01:22:28.423Z"
   },
   {
    "duration": 25,
    "start_time": "2024-06-04T01:22:28.436Z"
   },
   {
    "duration": 5,
    "start_time": "2024-06-04T01:22:28.464Z"
   },
   {
    "duration": 63,
    "start_time": "2024-06-04T01:22:28.472Z"
   },
   {
    "duration": 25,
    "start_time": "2024-06-04T01:22:28.544Z"
   },
   {
    "duration": 50,
    "start_time": "2024-06-04T01:22:28.572Z"
   },
   {
    "duration": 30,
    "start_time": "2024-06-04T01:22:28.626Z"
   },
   {
    "duration": 114,
    "start_time": "2024-06-04T01:22:28.659Z"
   },
   {
    "duration": 9,
    "start_time": "2024-06-04T01:22:28.775Z"
   },
   {
    "duration": 61,
    "start_time": "2024-06-04T01:22:28.787Z"
   },
   {
    "duration": 21,
    "start_time": "2024-06-04T01:22:28.851Z"
   },
   {
    "duration": 15,
    "start_time": "2024-06-04T01:22:28.876Z"
   },
   {
    "duration": 561,
    "start_time": "2024-06-04T01:22:28.922Z"
   },
   {
    "duration": 36,
    "start_time": "2024-06-04T01:22:29.486Z"
   },
   {
    "duration": 60,
    "start_time": "2024-06-04T01:22:29.525Z"
   },
   {
    "duration": 42,
    "start_time": "2024-06-04T01:22:29.588Z"
   },
   {
    "duration": 32,
    "start_time": "2024-06-04T01:22:29.633Z"
   },
   {
    "duration": 58,
    "start_time": "2024-06-04T01:22:29.668Z"
   },
   {
    "duration": 20,
    "start_time": "2024-06-04T01:22:29.729Z"
   },
   {
    "duration": 758,
    "start_time": "2024-06-04T01:22:29.753Z"
   },
   {
    "duration": 82,
    "start_time": "2024-06-04T01:22:30.514Z"
   },
   {
    "duration": 36,
    "start_time": "2024-06-04T01:22:30.599Z"
   },
   {
    "duration": 44,
    "start_time": "2024-06-04T01:22:30.639Z"
   },
   {
    "duration": 44,
    "start_time": "2024-06-04T01:22:30.687Z"
   },
   {
    "duration": 996,
    "start_time": "2024-06-04T01:22:30.735Z"
   },
   {
    "duration": 25,
    "start_time": "2024-06-04T01:22:31.733Z"
   },
   {
    "duration": 29,
    "start_time": "2024-06-04T01:22:31.761Z"
   },
   {
    "duration": 32,
    "start_time": "2024-06-04T01:22:31.793Z"
   },
   {
    "duration": 4,
    "start_time": "2024-06-04T01:22:31.828Z"
   },
   {
    "duration": 5,
    "start_time": "2024-06-04T01:22:31.836Z"
   },
   {
    "duration": 4,
    "start_time": "2024-06-04T01:22:31.845Z"
   },
   {
    "duration": 3,
    "start_time": "2024-06-04T01:22:31.858Z"
   },
   {
    "duration": 3,
    "start_time": "2024-06-04T01:22:31.865Z"
   },
   {
    "duration": 4,
    "start_time": "2024-06-04T01:22:31.924Z"
   },
   {
    "duration": 3,
    "start_time": "2024-06-04T01:22:31.932Z"
   },
   {
    "duration": 3,
    "start_time": "2024-06-04T01:22:31.939Z"
   },
   {
    "duration": 4,
    "start_time": "2024-06-04T01:22:31.946Z"
   },
   {
    "duration": 3,
    "start_time": "2024-06-04T01:22:31.954Z"
   },
   {
    "duration": 4,
    "start_time": "2024-06-04T01:22:31.961Z"
   },
   {
    "duration": 3,
    "start_time": "2024-06-04T01:22:32.023Z"
   },
   {
    "duration": 33,
    "start_time": "2024-06-04T01:24:16.462Z"
   },
   {
    "duration": 481,
    "start_time": "2024-06-04T01:28:53.837Z"
   },
   {
    "duration": 28,
    "start_time": "2024-06-04T01:30:36.581Z"
   },
   {
    "duration": 30,
    "start_time": "2024-06-04T01:31:02.537Z"
   },
   {
    "duration": 19,
    "start_time": "2024-06-04T01:33:24.854Z"
   },
   {
    "duration": 186,
    "start_time": "2024-06-04T01:36:52.887Z"
   },
   {
    "duration": 54,
    "start_time": "2024-06-04T01:37:19.155Z"
   },
   {
    "duration": 32,
    "start_time": "2024-06-04T01:37:28.547Z"
   },
   {
    "duration": 1394,
    "start_time": "2024-06-04T01:37:36.236Z"
   },
   {
    "duration": 318,
    "start_time": "2024-06-04T01:37:37.633Z"
   },
   {
    "duration": 16,
    "start_time": "2024-06-04T01:37:37.955Z"
   },
   {
    "duration": 18,
    "start_time": "2024-06-04T01:37:37.974Z"
   },
   {
    "duration": 39,
    "start_time": "2024-06-04T01:37:37.997Z"
   },
   {
    "duration": 18,
    "start_time": "2024-06-04T01:37:38.039Z"
   },
   {
    "duration": 13,
    "start_time": "2024-06-04T01:37:38.061Z"
   },
   {
    "duration": 8,
    "start_time": "2024-06-04T01:37:38.078Z"
   },
   {
    "duration": 16,
    "start_time": "2024-06-04T01:37:38.125Z"
   },
   {
    "duration": 10,
    "start_time": "2024-06-04T01:37:38.144Z"
   },
   {
    "duration": 23,
    "start_time": "2024-06-04T01:37:38.157Z"
   },
   {
    "duration": 42,
    "start_time": "2024-06-04T01:37:38.183Z"
   },
   {
    "duration": 16,
    "start_time": "2024-06-04T01:37:38.229Z"
   },
   {
    "duration": 28,
    "start_time": "2024-06-04T01:37:38.253Z"
   },
   {
    "duration": 54,
    "start_time": "2024-06-04T01:37:38.284Z"
   },
   {
    "duration": 30,
    "start_time": "2024-06-04T01:37:38.341Z"
   },
   {
    "duration": 124,
    "start_time": "2024-06-04T01:37:38.373Z"
   },
   {
    "duration": 7,
    "start_time": "2024-06-04T01:37:38.500Z"
   },
   {
    "duration": 31,
    "start_time": "2024-06-04T01:37:38.524Z"
   },
   {
    "duration": 22,
    "start_time": "2024-06-04T01:37:38.558Z"
   },
   {
    "duration": 47,
    "start_time": "2024-06-04T01:37:38.583Z"
   },
   {
    "duration": 18,
    "start_time": "2024-06-04T01:37:38.633Z"
   },
   {
    "duration": 80,
    "start_time": "2024-06-04T01:37:38.654Z"
   },
   {
    "duration": 15,
    "start_time": "2024-06-04T01:37:38.737Z"
   },
   {
    "duration": 16,
    "start_time": "2024-06-04T01:37:38.755Z"
   },
   {
    "duration": 56,
    "start_time": "2024-06-04T01:37:38.774Z"
   },
   {
    "duration": 17,
    "start_time": "2024-06-04T01:37:38.834Z"
   },
   {
    "duration": 758,
    "start_time": "2024-06-04T01:37:38.854Z"
   },
   {
    "duration": 104,
    "start_time": "2024-06-04T01:37:39.624Z"
   },
   {
    "duration": 26,
    "start_time": "2024-06-04T01:37:39.732Z"
   },
   {
    "duration": 84,
    "start_time": "2024-06-04T01:37:39.762Z"
   },
   {
    "duration": 14,
    "start_time": "2024-06-04T01:37:39.849Z"
   },
   {
    "duration": 1042,
    "start_time": "2024-06-04T01:37:39.867Z"
   },
   {
    "duration": 29,
    "start_time": "2024-06-04T01:37:40.912Z"
   },
   {
    "duration": 28,
    "start_time": "2024-06-04T01:37:40.945Z"
   },
   {
    "duration": 680,
    "start_time": "2024-06-04T01:37:40.976Z"
   },
   {
    "duration": 0,
    "start_time": "2024-06-04T01:37:41.659Z"
   },
   {
    "duration": 0,
    "start_time": "2024-06-04T01:37:41.661Z"
   },
   {
    "duration": 0,
    "start_time": "2024-06-04T01:37:41.665Z"
   },
   {
    "duration": 0,
    "start_time": "2024-06-04T01:37:41.667Z"
   },
   {
    "duration": 0,
    "start_time": "2024-06-04T01:37:41.669Z"
   },
   {
    "duration": 0,
    "start_time": "2024-06-04T01:37:41.672Z"
   },
   {
    "duration": 0,
    "start_time": "2024-06-04T01:37:41.675Z"
   },
   {
    "duration": 0,
    "start_time": "2024-06-04T01:37:41.677Z"
   },
   {
    "duration": 1,
    "start_time": "2024-06-04T01:37:41.679Z"
   },
   {
    "duration": 0,
    "start_time": "2024-06-04T01:37:41.682Z"
   },
   {
    "duration": 0,
    "start_time": "2024-06-04T01:37:41.723Z"
   },
   {
    "duration": 0,
    "start_time": "2024-06-04T01:37:41.725Z"
   },
   {
    "duration": 19,
    "start_time": "2024-06-04T01:38:00.645Z"
   },
   {
    "duration": 546,
    "start_time": "2024-06-04T01:39:20.227Z"
   },
   {
    "duration": 572,
    "start_time": "2024-06-04T02:25:55.919Z"
   },
   {
    "duration": 624,
    "start_time": "2024-06-04T02:27:33.242Z"
   },
   {
    "duration": 578,
    "start_time": "2024-06-04T02:27:42.894Z"
   },
   {
    "duration": 594,
    "start_time": "2024-06-04T02:27:46.671Z"
   },
   {
    "duration": 598,
    "start_time": "2024-06-04T02:27:53.046Z"
   },
   {
    "duration": 615,
    "start_time": "2024-06-04T02:28:02.926Z"
   },
   {
    "duration": 609,
    "start_time": "2024-06-04T02:29:39.837Z"
   },
   {
    "duration": 588,
    "start_time": "2024-06-04T02:30:30.456Z"
   },
   {
    "duration": 592,
    "start_time": "2024-06-04T02:31:10.433Z"
   },
   {
    "duration": 584,
    "start_time": "2024-06-04T02:31:21.230Z"
   },
   {
    "duration": 613,
    "start_time": "2024-06-04T02:35:57.676Z"
   },
   {
    "duration": 26,
    "start_time": "2024-06-04T02:36:20.792Z"
   },
   {
    "duration": 28,
    "start_time": "2024-06-04T02:36:31.016Z"
   },
   {
    "duration": 588,
    "start_time": "2024-06-04T02:36:41.519Z"
   },
   {
    "duration": 568,
    "start_time": "2024-06-04T02:36:51.161Z"
   },
   {
    "duration": 595,
    "start_time": "2024-06-04T02:37:07.970Z"
   },
   {
    "duration": 1324,
    "start_time": "2024-06-04T02:38:30.262Z"
   },
   {
    "duration": 299,
    "start_time": "2024-06-04T02:38:31.590Z"
   },
   {
    "duration": 17,
    "start_time": "2024-06-04T02:38:31.892Z"
   },
   {
    "duration": 17,
    "start_time": "2024-06-04T02:38:31.925Z"
   },
   {
    "duration": 16,
    "start_time": "2024-06-04T02:38:31.946Z"
   },
   {
    "duration": 18,
    "start_time": "2024-06-04T02:38:31.968Z"
   },
   {
    "duration": 14,
    "start_time": "2024-06-04T02:38:32.024Z"
   },
   {
    "duration": 11,
    "start_time": "2024-06-04T02:38:32.043Z"
   },
   {
    "duration": 21,
    "start_time": "2024-06-04T02:38:32.058Z"
   },
   {
    "duration": 11,
    "start_time": "2024-06-04T02:38:32.124Z"
   },
   {
    "duration": 24,
    "start_time": "2024-06-04T02:38:32.138Z"
   },
   {
    "duration": 6,
    "start_time": "2024-06-04T02:38:32.165Z"
   },
   {
    "duration": 65,
    "start_time": "2024-06-04T02:38:32.175Z"
   },
   {
    "duration": 26,
    "start_time": "2024-06-04T02:38:32.248Z"
   },
   {
    "duration": 44,
    "start_time": "2024-06-04T02:38:32.280Z"
   },
   {
    "duration": 31,
    "start_time": "2024-06-04T02:38:32.328Z"
   },
   {
    "duration": 124,
    "start_time": "2024-06-04T02:38:32.362Z"
   },
   {
    "duration": 7,
    "start_time": "2024-06-04T02:38:32.489Z"
   },
   {
    "duration": 56,
    "start_time": "2024-06-04T02:38:32.500Z"
   },
   {
    "duration": 21,
    "start_time": "2024-06-04T02:38:32.559Z"
   },
   {
    "duration": 42,
    "start_time": "2024-06-04T02:38:32.583Z"
   },
   {
    "duration": 19,
    "start_time": "2024-06-04T02:38:32.628Z"
   },
   {
    "duration": 87,
    "start_time": "2024-06-04T02:38:32.650Z"
   },
   {
    "duration": 18,
    "start_time": "2024-06-04T02:38:32.740Z"
   },
   {
    "duration": 18,
    "start_time": "2024-06-04T02:38:32.761Z"
   },
   {
    "duration": 58,
    "start_time": "2024-06-04T02:38:32.782Z"
   },
   {
    "duration": 19,
    "start_time": "2024-06-04T02:38:32.843Z"
   },
   {
    "duration": 793,
    "start_time": "2024-06-04T02:38:32.865Z"
   },
   {
    "duration": 97,
    "start_time": "2024-06-04T02:38:33.661Z"
   },
   {
    "duration": 21,
    "start_time": "2024-06-04T02:38:33.761Z"
   },
   {
    "duration": 71,
    "start_time": "2024-06-04T02:38:33.789Z"
   },
   {
    "duration": 18,
    "start_time": "2024-06-04T02:38:33.864Z"
   },
   {
    "duration": 1011,
    "start_time": "2024-06-04T02:38:33.886Z"
   },
   {
    "duration": 31,
    "start_time": "2024-06-04T02:38:34.900Z"
   },
   {
    "duration": 29,
    "start_time": "2024-06-04T02:38:34.934Z"
   },
   {
    "duration": 603,
    "start_time": "2024-06-04T02:38:34.966Z"
   },
   {
    "duration": 6,
    "start_time": "2024-06-04T02:38:35.573Z"
   },
   {
    "duration": 4,
    "start_time": "2024-06-04T02:38:35.582Z"
   },
   {
    "duration": 4,
    "start_time": "2024-06-04T02:38:35.589Z"
   },
   {
    "duration": 4,
    "start_time": "2024-06-04T02:38:35.625Z"
   },
   {
    "duration": 3,
    "start_time": "2024-06-04T02:38:35.639Z"
   },
   {
    "duration": 5,
    "start_time": "2024-06-04T02:38:35.645Z"
   },
   {
    "duration": 4,
    "start_time": "2024-06-04T02:38:35.654Z"
   },
   {
    "duration": 4,
    "start_time": "2024-06-04T02:38:35.661Z"
   },
   {
    "duration": 55,
    "start_time": "2024-06-04T02:38:35.669Z"
   },
   {
    "duration": 4,
    "start_time": "2024-06-04T02:38:35.728Z"
   },
   {
    "duration": 11,
    "start_time": "2024-06-04T02:38:35.737Z"
   },
   {
    "duration": 3,
    "start_time": "2024-06-04T02:38:35.752Z"
   },
   {
    "duration": 7,
    "start_time": "2024-06-04T02:53:50.153Z"
   },
   {
    "duration": 2119,
    "start_time": "2024-06-04T02:54:04.331Z"
   },
   {
    "duration": 831,
    "start_time": "2024-06-04T02:54:13.736Z"
   },
   {
    "duration": 39,
    "start_time": "2024-06-04T04:25:23.706Z"
   },
   {
    "duration": 24,
    "start_time": "2024-06-04T04:28:00.089Z"
   },
   {
    "duration": 42,
    "start_time": "2024-06-04T04:28:17.870Z"
   },
   {
    "duration": 275,
    "start_time": "2024-06-04T04:37:19.487Z"
   },
   {
    "duration": 25,
    "start_time": "2024-06-04T04:38:42.544Z"
   },
   {
    "duration": 44,
    "start_time": "2024-06-04T04:38:51.072Z"
   },
   {
    "duration": 28,
    "start_time": "2024-06-04T04:40:14.857Z"
   },
   {
    "duration": 4962,
    "start_time": "2024-06-04T18:32:18.693Z"
   },
   {
    "duration": 396,
    "start_time": "2024-06-04T18:32:23.659Z"
   },
   {
    "duration": 20,
    "start_time": "2024-06-04T18:32:24.058Z"
   },
   {
    "duration": 19,
    "start_time": "2024-06-04T18:32:24.082Z"
   },
   {
    "duration": 15,
    "start_time": "2024-06-04T18:32:24.132Z"
   },
   {
    "duration": 17,
    "start_time": "2024-06-04T18:32:24.151Z"
   },
   {
    "duration": 13,
    "start_time": "2024-06-04T18:32:24.171Z"
   },
   {
    "duration": 9,
    "start_time": "2024-06-04T18:32:24.230Z"
   },
   {
    "duration": 17,
    "start_time": "2024-06-04T18:32:24.242Z"
   },
   {
    "duration": 10,
    "start_time": "2024-06-04T18:32:24.264Z"
   },
   {
    "duration": 68,
    "start_time": "2024-06-04T18:32:24.277Z"
   },
   {
    "duration": 5,
    "start_time": "2024-06-04T18:32:24.348Z"
   },
   {
    "duration": 16,
    "start_time": "2024-06-04T18:32:24.356Z"
   },
   {
    "duration": 66,
    "start_time": "2024-06-04T18:32:24.375Z"
   },
   {
    "duration": 18,
    "start_time": "2024-06-04T18:32:24.444Z"
   },
   {
    "duration": 66,
    "start_time": "2024-06-04T18:32:24.464Z"
   },
   {
    "duration": 104,
    "start_time": "2024-06-04T18:32:24.533Z"
   },
   {
    "duration": 7,
    "start_time": "2024-06-04T18:32:24.640Z"
   },
   {
    "duration": 34,
    "start_time": "2024-06-04T18:32:24.650Z"
   },
   {
    "duration": 51,
    "start_time": "2024-06-04T18:32:24.687Z"
   },
   {
    "duration": 16,
    "start_time": "2024-06-04T18:32:24.742Z"
   },
   {
    "duration": 17,
    "start_time": "2024-06-04T18:32:24.760Z"
   },
   {
    "duration": 96,
    "start_time": "2024-06-04T18:32:24.780Z"
   },
   {
    "duration": 15,
    "start_time": "2024-06-04T18:32:24.879Z"
   },
   {
    "duration": 45,
    "start_time": "2024-06-04T18:32:24.897Z"
   },
   {
    "duration": 22,
    "start_time": "2024-06-04T18:32:24.946Z"
   },
   {
    "duration": 16,
    "start_time": "2024-06-04T18:32:24.970Z"
   },
   {
    "duration": 791,
    "start_time": "2024-06-04T18:32:24.993Z"
   },
   {
    "duration": 93,
    "start_time": "2024-06-04T18:32:25.787Z"
   },
   {
    "duration": 28,
    "start_time": "2024-06-04T18:32:25.882Z"
   },
   {
    "duration": 49,
    "start_time": "2024-06-04T18:32:25.921Z"
   },
   {
    "duration": 14,
    "start_time": "2024-06-04T18:32:25.975Z"
   },
   {
    "duration": 985,
    "start_time": "2024-06-04T18:32:25.992Z"
   },
   {
    "duration": 21,
    "start_time": "2024-06-04T18:32:26.979Z"
   },
   {
    "duration": 51,
    "start_time": "2024-06-04T18:32:27.003Z"
   },
   {
    "duration": 574,
    "start_time": "2024-06-04T18:32:27.058Z"
   },
   {
    "duration": 796,
    "start_time": "2024-06-04T18:32:27.635Z"
   },
   {
    "duration": 47,
    "start_time": "2024-06-04T18:32:28.435Z"
   },
   {
    "duration": 63,
    "start_time": "2024-06-04T18:32:28.485Z"
   },
   {
    "duration": 4,
    "start_time": "2024-06-04T18:32:28.552Z"
   },
   {
    "duration": 4,
    "start_time": "2024-06-04T18:32:28.560Z"
   },
   {
    "duration": 5,
    "start_time": "2024-06-04T18:32:28.567Z"
   },
   {
    "duration": 3,
    "start_time": "2024-06-04T18:32:28.575Z"
   },
   {
    "duration": 52,
    "start_time": "2024-06-04T18:32:28.581Z"
   },
   {
    "duration": 3,
    "start_time": "2024-06-04T18:32:28.636Z"
   },
   {
    "duration": 4,
    "start_time": "2024-06-04T18:32:28.642Z"
   },
   {
    "duration": 3,
    "start_time": "2024-06-04T18:32:28.650Z"
   },
   {
    "duration": 3,
    "start_time": "2024-06-04T18:32:28.657Z"
   },
   {
    "duration": 335,
    "start_time": "2024-06-05T22:26:22.428Z"
   },
   {
    "duration": 5209,
    "start_time": "2024-06-05T22:26:28.181Z"
   },
   {
    "duration": 400,
    "start_time": "2024-06-05T22:26:33.395Z"
   },
   {
    "duration": 18,
    "start_time": "2024-06-05T22:26:33.798Z"
   },
   {
    "duration": 17,
    "start_time": "2024-06-05T22:26:33.820Z"
   },
   {
    "duration": 16,
    "start_time": "2024-06-05T22:26:33.840Z"
   },
   {
    "duration": 18,
    "start_time": "2024-06-05T22:26:33.892Z"
   },
   {
    "duration": 11,
    "start_time": "2024-06-05T22:26:33.913Z"
   },
   {
    "duration": 8,
    "start_time": "2024-06-05T22:26:33.928Z"
   },
   {
    "duration": 58,
    "start_time": "2024-06-05T22:26:33.939Z"
   },
   {
    "duration": 10,
    "start_time": "2024-06-05T22:26:34.007Z"
   },
   {
    "duration": 23,
    "start_time": "2024-06-05T22:26:34.020Z"
   },
   {
    "duration": 45,
    "start_time": "2024-06-05T22:26:34.047Z"
   },
   {
    "duration": 17,
    "start_time": "2024-06-05T22:26:34.095Z"
   },
   {
    "duration": 25,
    "start_time": "2024-06-05T22:26:34.116Z"
   },
   {
    "duration": 52,
    "start_time": "2024-06-05T22:26:34.144Z"
   },
   {
    "duration": 30,
    "start_time": "2024-06-05T22:26:34.200Z"
   },
   {
    "duration": 135,
    "start_time": "2024-06-05T22:26:34.233Z"
   },
   {
    "duration": 15,
    "start_time": "2024-06-05T22:26:34.376Z"
   },
   {
    "duration": 36,
    "start_time": "2024-06-05T22:26:34.395Z"
   },
   {
    "duration": 24,
    "start_time": "2024-06-05T22:26:34.435Z"
   },
   {
    "duration": 16,
    "start_time": "2024-06-05T22:26:34.491Z"
   },
   {
    "duration": 20,
    "start_time": "2024-06-05T22:26:34.510Z"
   },
   {
    "duration": 93,
    "start_time": "2024-06-05T22:26:34.534Z"
   },
   {
    "duration": 16,
    "start_time": "2024-06-05T22:26:34.631Z"
   },
   {
    "duration": 46,
    "start_time": "2024-06-05T22:26:34.650Z"
   },
   {
    "duration": 39,
    "start_time": "2024-06-05T22:26:34.700Z"
   },
   {
    "duration": 26,
    "start_time": "2024-06-05T22:26:34.746Z"
   },
   {
    "duration": 769,
    "start_time": "2024-06-05T22:26:34.796Z"
   },
   {
    "duration": 84,
    "start_time": "2024-06-05T22:26:35.568Z"
   },
   {
    "duration": 36,
    "start_time": "2024-06-05T22:26:35.656Z"
   },
   {
    "duration": 46,
    "start_time": "2024-06-05T22:26:35.695Z"
   },
   {
    "duration": 46,
    "start_time": "2024-06-05T22:26:35.744Z"
   },
   {
    "duration": 1000,
    "start_time": "2024-06-05T22:26:35.793Z"
   },
   {
    "duration": 23,
    "start_time": "2024-06-05T22:26:36.796Z"
   },
   {
    "duration": 28,
    "start_time": "2024-06-05T22:26:36.822Z"
   },
   {
    "duration": 551,
    "start_time": "2024-06-05T22:26:36.890Z"
   },
   {
    "duration": 822,
    "start_time": "2024-06-05T22:26:37.445Z"
   },
   {
    "duration": 51,
    "start_time": "2024-06-05T22:26:38.270Z"
   },
   {
    "duration": 26,
    "start_time": "2024-06-05T22:26:38.324Z"
   },
   {
    "duration": 258,
    "start_time": "2024-06-05T22:26:38.353Z"
   },
   {
    "duration": 0,
    "start_time": "2024-06-05T22:26:38.614Z"
   },
   {
    "duration": 0,
    "start_time": "2024-06-05T22:26:38.616Z"
   },
   {
    "duration": 0,
    "start_time": "2024-06-05T22:26:38.619Z"
   },
   {
    "duration": 0,
    "start_time": "2024-06-05T22:26:38.621Z"
   },
   {
    "duration": 0,
    "start_time": "2024-06-05T22:26:38.623Z"
   },
   {
    "duration": 0,
    "start_time": "2024-06-05T22:26:38.626Z"
   },
   {
    "duration": 0,
    "start_time": "2024-06-05T22:26:38.627Z"
   },
   {
    "duration": 0,
    "start_time": "2024-06-05T22:26:38.630Z"
   },
   {
    "duration": 0,
    "start_time": "2024-06-05T22:26:38.632Z"
   },
   {
    "duration": 44,
    "start_time": "2024-06-05T22:27:03.138Z"
   },
   {
    "duration": 42,
    "start_time": "2024-06-05T22:27:05.785Z"
   },
   {
    "duration": 10,
    "start_time": "2024-06-05T22:27:39.870Z"
   },
   {
    "duration": 20,
    "start_time": "2024-06-05T22:32:15.457Z"
   },
   {
    "duration": 289,
    "start_time": "2024-06-05T22:38:19.764Z"
   },
   {
    "duration": 39,
    "start_time": "2024-06-05T22:38:26.032Z"
   },
   {
    "duration": 880,
    "start_time": "2024-06-05T22:40:15.214Z"
   },
   {
    "duration": 24,
    "start_time": "2024-06-05T22:40:25.661Z"
   },
   {
    "duration": 254,
    "start_time": "2024-06-05T22:48:33.781Z"
   },
   {
    "duration": 1303,
    "start_time": "2024-06-05T22:48:47.008Z"
   },
   {
    "duration": 307,
    "start_time": "2024-06-05T22:48:48.315Z"
   },
   {
    "duration": 18,
    "start_time": "2024-06-05T22:48:48.625Z"
   },
   {
    "duration": 18,
    "start_time": "2024-06-05T22:48:48.647Z"
   },
   {
    "duration": 15,
    "start_time": "2024-06-05T22:48:48.693Z"
   },
   {
    "duration": 18,
    "start_time": "2024-06-05T22:48:48.711Z"
   },
   {
    "duration": 12,
    "start_time": "2024-06-05T22:48:48.732Z"
   },
   {
    "duration": 45,
    "start_time": "2024-06-05T22:48:48.746Z"
   },
   {
    "duration": 16,
    "start_time": "2024-06-05T22:48:48.794Z"
   },
   {
    "duration": 12,
    "start_time": "2024-06-05T22:48:48.814Z"
   },
   {
    "duration": 31,
    "start_time": "2024-06-05T22:48:48.829Z"
   },
   {
    "duration": 7,
    "start_time": "2024-06-05T22:48:48.891Z"
   },
   {
    "duration": 18,
    "start_time": "2024-06-05T22:48:48.902Z"
   },
   {
    "duration": 26,
    "start_time": "2024-06-05T22:48:48.927Z"
   },
   {
    "duration": 49,
    "start_time": "2024-06-05T22:48:48.956Z"
   },
   {
    "duration": 38,
    "start_time": "2024-06-05T22:48:49.009Z"
   },
   {
    "duration": 134,
    "start_time": "2024-06-05T22:48:49.050Z"
   },
   {
    "duration": 11,
    "start_time": "2024-06-05T22:48:49.187Z"
   },
   {
    "duration": 36,
    "start_time": "2024-06-05T22:48:49.201Z"
   },
   {
    "duration": 56,
    "start_time": "2024-06-05T22:48:49.243Z"
   },
   {
    "duration": 14,
    "start_time": "2024-06-05T22:48:49.303Z"
   },
   {
    "duration": 17,
    "start_time": "2024-06-05T22:48:49.320Z"
   },
   {
    "duration": 88,
    "start_time": "2024-06-05T22:48:49.340Z"
   },
   {
    "duration": 17,
    "start_time": "2024-06-05T22:48:49.431Z"
   },
   {
    "duration": 39,
    "start_time": "2024-06-05T22:48:49.451Z"
   },
   {
    "duration": 24,
    "start_time": "2024-06-05T22:48:49.494Z"
   },
   {
    "duration": 16,
    "start_time": "2024-06-05T22:48:49.521Z"
   },
   {
    "duration": 839,
    "start_time": "2024-06-05T22:48:49.540Z"
   },
   {
    "duration": 85,
    "start_time": "2024-06-05T22:48:50.382Z"
   },
   {
    "duration": 30,
    "start_time": "2024-06-05T22:48:50.471Z"
   },
   {
    "duration": 51,
    "start_time": "2024-06-05T22:48:50.507Z"
   },
   {
    "duration": 34,
    "start_time": "2024-06-05T22:48:50.561Z"
   },
   {
    "duration": 1025,
    "start_time": "2024-06-05T22:48:50.597Z"
   },
   {
    "duration": 19,
    "start_time": "2024-06-05T22:48:51.624Z"
   },
   {
    "duration": 56,
    "start_time": "2024-06-05T22:48:51.646Z"
   },
   {
    "duration": 617,
    "start_time": "2024-06-05T22:48:51.706Z"
   },
   {
    "duration": 901,
    "start_time": "2024-06-05T22:48:52.327Z"
   },
   {
    "duration": 45,
    "start_time": "2024-06-05T22:48:53.231Z"
   },
   {
    "duration": 13,
    "start_time": "2024-06-05T22:48:53.292Z"
   },
   {
    "duration": 1195,
    "start_time": "2024-06-05T22:48:53.308Z"
   },
   {
    "duration": 0,
    "start_time": "2024-06-05T22:48:54.507Z"
   },
   {
    "duration": 0,
    "start_time": "2024-06-05T22:48:54.509Z"
   },
   {
    "duration": 0,
    "start_time": "2024-06-05T22:48:54.511Z"
   },
   {
    "duration": 0,
    "start_time": "2024-06-05T22:48:54.514Z"
   },
   {
    "duration": 0,
    "start_time": "2024-06-05T22:48:54.515Z"
   },
   {
    "duration": 0,
    "start_time": "2024-06-05T22:48:54.517Z"
   },
   {
    "duration": 0,
    "start_time": "2024-06-05T22:48:54.519Z"
   },
   {
    "duration": 0,
    "start_time": "2024-06-05T22:48:54.521Z"
   },
   {
    "duration": 0,
    "start_time": "2024-06-05T22:48:54.524Z"
   },
   {
    "duration": 0,
    "start_time": "2024-06-05T22:48:54.526Z"
   },
   {
    "duration": 0,
    "start_time": "2024-06-05T22:48:54.528Z"
   },
   {
    "duration": 0,
    "start_time": "2024-06-05T22:48:54.530Z"
   },
   {
    "duration": 23,
    "start_time": "2024-06-05T22:49:14.181Z"
   },
   {
    "duration": 12,
    "start_time": "2024-06-05T22:49:18.748Z"
   },
   {
    "duration": 792,
    "start_time": "2024-06-05T23:02:27.788Z"
   },
   {
    "duration": 39,
    "start_time": "2024-06-05T23:02:41.618Z"
   },
   {
    "duration": 40,
    "start_time": "2024-06-06T03:58:09.888Z"
   },
   {
    "duration": 1336,
    "start_time": "2024-06-06T03:58:17.167Z"
   },
   {
    "duration": 306,
    "start_time": "2024-06-06T03:58:18.507Z"
   },
   {
    "duration": 19,
    "start_time": "2024-06-06T03:58:18.816Z"
   },
   {
    "duration": 20,
    "start_time": "2024-06-06T03:58:18.840Z"
   },
   {
    "duration": 43,
    "start_time": "2024-06-06T03:58:18.863Z"
   },
   {
    "duration": 18,
    "start_time": "2024-06-06T03:58:18.909Z"
   },
   {
    "duration": 11,
    "start_time": "2024-06-06T03:58:18.931Z"
   },
   {
    "duration": 47,
    "start_time": "2024-06-06T03:58:18.945Z"
   },
   {
    "duration": 18,
    "start_time": "2024-06-06T03:58:18.995Z"
   },
   {
    "duration": 12,
    "start_time": "2024-06-06T03:58:19.020Z"
   },
   {
    "duration": 62,
    "start_time": "2024-06-06T03:58:19.036Z"
   },
   {
    "duration": 6,
    "start_time": "2024-06-06T03:58:19.102Z"
   },
   {
    "duration": 19,
    "start_time": "2024-06-06T03:58:19.111Z"
   },
   {
    "duration": 60,
    "start_time": "2024-06-06T03:58:19.133Z"
   },
   {
    "duration": 19,
    "start_time": "2024-06-06T03:58:19.197Z"
   },
   {
    "duration": 31,
    "start_time": "2024-06-06T03:58:19.219Z"
   },
   {
    "duration": 132,
    "start_time": "2024-06-06T03:58:19.290Z"
   },
   {
    "duration": 18,
    "start_time": "2024-06-06T03:58:19.426Z"
   },
   {
    "duration": 37,
    "start_time": "2024-06-06T03:58:19.448Z"
   },
   {
    "duration": 26,
    "start_time": "2024-06-06T03:58:19.492Z"
   },
   {
    "duration": 16,
    "start_time": "2024-06-06T03:58:19.522Z"
   },
   {
    "duration": 56,
    "start_time": "2024-06-06T03:58:19.541Z"
   },
   {
    "duration": 72,
    "start_time": "2024-06-06T03:58:19.601Z"
   },
   {
    "duration": 16,
    "start_time": "2024-06-06T03:58:19.689Z"
   },
   {
    "duration": 18,
    "start_time": "2024-06-06T03:58:19.708Z"
   },
   {
    "duration": 62,
    "start_time": "2024-06-06T03:58:19.729Z"
   },
   {
    "duration": 17,
    "start_time": "2024-06-06T03:58:19.795Z"
   },
   {
    "duration": 806,
    "start_time": "2024-06-06T03:58:19.822Z"
   },
   {
    "duration": 105,
    "start_time": "2024-06-06T03:58:20.631Z"
   },
   {
    "duration": 19,
    "start_time": "2024-06-06T03:58:20.740Z"
   },
   {
    "duration": 66,
    "start_time": "2024-06-06T03:58:20.763Z"
   },
   {
    "duration": 15,
    "start_time": "2024-06-06T03:58:20.833Z"
   },
   {
    "duration": 1033,
    "start_time": "2024-06-06T03:58:20.851Z"
   },
   {
    "duration": 19,
    "start_time": "2024-06-06T03:58:21.891Z"
   },
   {
    "duration": 30,
    "start_time": "2024-06-06T03:58:21.915Z"
   },
   {
    "duration": 610,
    "start_time": "2024-06-06T03:58:21.948Z"
   },
   {
    "duration": 877,
    "start_time": "2024-06-06T03:58:22.562Z"
   },
   {
    "duration": 64,
    "start_time": "2024-06-06T03:58:23.443Z"
   },
   {
    "duration": 17,
    "start_time": "2024-06-06T03:58:23.510Z"
   },
   {
    "duration": 27,
    "start_time": "2024-06-06T03:58:23.530Z"
   },
   {
    "duration": 859,
    "start_time": "2024-06-06T03:58:23.560Z"
   },
   {
    "duration": 0,
    "start_time": "2024-06-06T03:58:24.422Z"
   },
   {
    "duration": 0,
    "start_time": "2024-06-06T03:58:24.426Z"
   },
   {
    "duration": 0,
    "start_time": "2024-06-06T03:58:24.428Z"
   },
   {
    "duration": 0,
    "start_time": "2024-06-06T03:58:24.431Z"
   },
   {
    "duration": 0,
    "start_time": "2024-06-06T03:58:24.435Z"
   },
   {
    "duration": 0,
    "start_time": "2024-06-06T03:58:24.438Z"
   },
   {
    "duration": 1,
    "start_time": "2024-06-06T03:58:24.440Z"
   },
   {
    "duration": 0,
    "start_time": "2024-06-06T03:58:24.443Z"
   },
   {
    "duration": 0,
    "start_time": "2024-06-06T03:58:24.445Z"
   },
   {
    "duration": 0,
    "start_time": "2024-06-06T03:58:24.449Z"
   },
   {
    "duration": 808,
    "start_time": "2024-06-06T03:58:53.442Z"
   },
   {
    "duration": 620,
    "start_time": "2024-06-06T03:59:00.334Z"
   },
   {
    "duration": 651,
    "start_time": "2024-06-06T03:59:04.487Z"
   },
   {
    "duration": 1365,
    "start_time": "2024-06-06T03:59:14.234Z"
   },
   {
    "duration": 294,
    "start_time": "2024-06-06T03:59:15.605Z"
   },
   {
    "duration": 16,
    "start_time": "2024-06-06T03:59:15.902Z"
   },
   {
    "duration": 18,
    "start_time": "2024-06-06T03:59:15.924Z"
   },
   {
    "duration": 54,
    "start_time": "2024-06-06T03:59:15.946Z"
   },
   {
    "duration": 21,
    "start_time": "2024-06-06T03:59:16.003Z"
   },
   {
    "duration": 13,
    "start_time": "2024-06-06T03:59:16.027Z"
   },
   {
    "duration": 9,
    "start_time": "2024-06-06T03:59:16.044Z"
   },
   {
    "duration": 50,
    "start_time": "2024-06-06T03:59:16.056Z"
   },
   {
    "duration": 14,
    "start_time": "2024-06-06T03:59:16.112Z"
   },
   {
    "duration": 24,
    "start_time": "2024-06-06T03:59:16.130Z"
   },
   {
    "duration": 6,
    "start_time": "2024-06-06T03:59:16.192Z"
   },
   {
    "duration": 18,
    "start_time": "2024-06-06T03:59:16.201Z"
   },
   {
    "duration": 35,
    "start_time": "2024-06-06T03:59:16.221Z"
   },
   {
    "duration": 22,
    "start_time": "2024-06-06T03:59:16.290Z"
   },
   {
    "duration": 46,
    "start_time": "2024-06-06T03:59:16.315Z"
   },
   {
    "duration": 125,
    "start_time": "2024-06-06T03:59:16.365Z"
   },
   {
    "duration": 9,
    "start_time": "2024-06-06T03:59:16.493Z"
   },
   {
    "duration": 38,
    "start_time": "2024-06-06T03:59:16.506Z"
   },
   {
    "duration": 55,
    "start_time": "2024-06-06T03:59:16.550Z"
   },
   {
    "duration": 14,
    "start_time": "2024-06-06T03:59:16.609Z"
   },
   {
    "duration": 20,
    "start_time": "2024-06-06T03:59:16.630Z"
   },
   {
    "duration": 85,
    "start_time": "2024-06-06T03:59:16.653Z"
   },
   {
    "duration": 17,
    "start_time": "2024-06-06T03:59:16.741Z"
   },
   {
    "duration": 35,
    "start_time": "2024-06-06T03:59:16.761Z"
   },
   {
    "duration": 24,
    "start_time": "2024-06-06T03:59:16.799Z"
   },
   {
    "duration": 18,
    "start_time": "2024-06-06T03:59:16.827Z"
   },
   {
    "duration": 751,
    "start_time": "2024-06-06T03:59:16.892Z"
   },
   {
    "duration": 97,
    "start_time": "2024-06-06T03:59:17.645Z"
   },
   {
    "duration": 19,
    "start_time": "2024-06-06T03:59:17.746Z"
   },
   {
    "duration": 69,
    "start_time": "2024-06-06T03:59:17.768Z"
   },
   {
    "duration": 19,
    "start_time": "2024-06-06T03:59:17.840Z"
   },
   {
    "duration": 1017,
    "start_time": "2024-06-06T03:59:17.862Z"
   },
   {
    "duration": 25,
    "start_time": "2024-06-06T03:59:18.881Z"
   },
   {
    "duration": 30,
    "start_time": "2024-06-06T03:59:18.908Z"
   },
   {
    "duration": 580,
    "start_time": "2024-06-06T03:59:18.942Z"
   },
   {
    "duration": 818,
    "start_time": "2024-06-06T03:59:19.526Z"
   },
   {
    "duration": 65,
    "start_time": "2024-06-06T03:59:20.347Z"
   },
   {
    "duration": 10,
    "start_time": "2024-06-06T03:59:20.415Z"
   },
   {
    "duration": 25,
    "start_time": "2024-06-06T03:59:20.428Z"
   },
   {
    "duration": 834,
    "start_time": "2024-06-06T03:59:20.456Z"
   },
   {
    "duration": 0,
    "start_time": "2024-06-06T03:59:21.293Z"
   },
   {
    "duration": 0,
    "start_time": "2024-06-06T03:59:21.297Z"
   },
   {
    "duration": 0,
    "start_time": "2024-06-06T03:59:21.299Z"
   },
   {
    "duration": 0,
    "start_time": "2024-06-06T03:59:21.301Z"
   },
   {
    "duration": 0,
    "start_time": "2024-06-06T03:59:21.303Z"
   },
   {
    "duration": 0,
    "start_time": "2024-06-06T03:59:21.304Z"
   },
   {
    "duration": 0,
    "start_time": "2024-06-06T03:59:21.305Z"
   },
   {
    "duration": 0,
    "start_time": "2024-06-06T03:59:21.306Z"
   },
   {
    "duration": 0,
    "start_time": "2024-06-06T03:59:21.308Z"
   },
   {
    "duration": 0,
    "start_time": "2024-06-06T03:59:21.309Z"
   },
   {
    "duration": 109,
    "start_time": "2024-06-06T04:00:01.902Z"
   },
   {
    "duration": 52,
    "start_time": "2024-06-06T04:00:05.977Z"
   },
   {
    "duration": 1700,
    "start_time": "2024-06-06T04:00:27.034Z"
   },
   {
    "duration": 383,
    "start_time": "2024-06-06T04:00:28.738Z"
   },
   {
    "duration": 20,
    "start_time": "2024-06-06T04:00:29.124Z"
   },
   {
    "duration": 42,
    "start_time": "2024-06-06T04:00:29.150Z"
   },
   {
    "duration": 19,
    "start_time": "2024-06-06T04:00:29.196Z"
   },
   {
    "duration": 22,
    "start_time": "2024-06-06T04:00:29.220Z"
   },
   {
    "duration": 47,
    "start_time": "2024-06-06T04:00:29.246Z"
   },
   {
    "duration": 10,
    "start_time": "2024-06-06T04:00:29.296Z"
   },
   {
    "duration": 22,
    "start_time": "2024-06-06T04:00:29.309Z"
   },
   {
    "duration": 11,
    "start_time": "2024-06-06T04:00:29.338Z"
   },
   {
    "duration": 62,
    "start_time": "2024-06-06T04:00:29.352Z"
   },
   {
    "duration": 5,
    "start_time": "2024-06-06T04:00:29.418Z"
   },
   {
    "duration": 20,
    "start_time": "2024-06-06T04:00:29.427Z"
   },
   {
    "duration": 67,
    "start_time": "2024-06-06T04:00:29.451Z"
   },
   {
    "duration": 22,
    "start_time": "2024-06-06T04:00:29.521Z"
   },
   {
    "duration": 69,
    "start_time": "2024-06-06T04:00:29.546Z"
   },
   {
    "duration": 155,
    "start_time": "2024-06-06T04:00:29.623Z"
   },
   {
    "duration": 15,
    "start_time": "2024-06-06T04:00:29.781Z"
   },
   {
    "duration": 45,
    "start_time": "2024-06-06T04:00:29.800Z"
   },
   {
    "duration": 58,
    "start_time": "2024-06-06T04:00:29.852Z"
   },
   {
    "duration": 21,
    "start_time": "2024-06-06T04:00:29.921Z"
   },
   {
    "duration": 23,
    "start_time": "2024-06-06T04:00:29.946Z"
   },
   {
    "duration": 92,
    "start_time": "2024-06-06T04:00:29.972Z"
   },
   {
    "duration": 36,
    "start_time": "2024-06-06T04:00:30.067Z"
   },
   {
    "duration": 22,
    "start_time": "2024-06-06T04:00:30.106Z"
   },
   {
    "duration": 31,
    "start_time": "2024-06-06T04:00:30.131Z"
   },
   {
    "duration": 18,
    "start_time": "2024-06-06T04:00:30.190Z"
   },
   {
    "duration": 790,
    "start_time": "2024-06-06T04:00:30.218Z"
   },
   {
    "duration": 110,
    "start_time": "2024-06-06T04:00:31.012Z"
   },
   {
    "duration": 24,
    "start_time": "2024-06-06T04:00:31.128Z"
   },
   {
    "duration": 72,
    "start_time": "2024-06-06T04:00:31.157Z"
   },
   {
    "duration": 18,
    "start_time": "2024-06-06T04:00:31.232Z"
   },
   {
    "duration": 79,
    "start_time": "2024-06-06T04:00:31.254Z"
   },
   {
    "duration": 22,
    "start_time": "2024-06-06T04:00:31.337Z"
   },
   {
    "duration": 55,
    "start_time": "2024-06-06T04:00:31.363Z"
   },
   {
    "duration": 48,
    "start_time": "2024-06-06T04:00:31.422Z"
   },
   {
    "duration": 104,
    "start_time": "2024-06-06T04:00:31.491Z"
   },
   {
    "duration": 49,
    "start_time": "2024-06-06T04:00:31.598Z"
   },
   {
    "duration": 39,
    "start_time": "2024-06-06T04:00:31.651Z"
   },
   {
    "duration": 34,
    "start_time": "2024-06-06T04:00:31.696Z"
   },
   {
    "duration": 909,
    "start_time": "2024-06-06T04:00:31.738Z"
   },
   {
    "duration": 0,
    "start_time": "2024-06-06T04:00:32.652Z"
   },
   {
    "duration": 1,
    "start_time": "2024-06-06T04:00:32.654Z"
   },
   {
    "duration": 0,
    "start_time": "2024-06-06T04:00:32.656Z"
   },
   {
    "duration": 0,
    "start_time": "2024-06-06T04:00:32.658Z"
   },
   {
    "duration": 0,
    "start_time": "2024-06-06T04:00:32.660Z"
   },
   {
    "duration": 0,
    "start_time": "2024-06-06T04:00:32.662Z"
   },
   {
    "duration": 0,
    "start_time": "2024-06-06T04:00:32.664Z"
   },
   {
    "duration": 0,
    "start_time": "2024-06-06T04:00:32.666Z"
   },
   {
    "duration": 0,
    "start_time": "2024-06-06T04:00:32.667Z"
   },
   {
    "duration": 0,
    "start_time": "2024-06-06T04:00:32.670Z"
   },
   {
    "duration": 53,
    "start_time": "2024-06-06T04:01:33.634Z"
   },
   {
    "duration": 61,
    "start_time": "2024-06-06T04:01:37.690Z"
   },
   {
    "duration": 1334,
    "start_time": "2024-06-06T04:03:20.460Z"
   },
   {
    "duration": 291,
    "start_time": "2024-06-06T04:03:21.799Z"
   },
   {
    "duration": 22,
    "start_time": "2024-06-06T04:03:22.093Z"
   },
   {
    "duration": 17,
    "start_time": "2024-06-06T04:03:22.121Z"
   },
   {
    "duration": 19,
    "start_time": "2024-06-06T04:03:22.140Z"
   },
   {
    "duration": 20,
    "start_time": "2024-06-06T04:03:22.191Z"
   },
   {
    "duration": 13,
    "start_time": "2024-06-06T04:03:22.214Z"
   },
   {
    "duration": 10,
    "start_time": "2024-06-06T04:03:22.233Z"
   },
   {
    "duration": 50,
    "start_time": "2024-06-06T04:03:22.245Z"
   },
   {
    "duration": 14,
    "start_time": "2024-06-06T04:03:22.303Z"
   },
   {
    "duration": 30,
    "start_time": "2024-06-06T04:03:22.321Z"
   },
   {
    "duration": 37,
    "start_time": "2024-06-06T04:03:22.355Z"
   },
   {
    "duration": 18,
    "start_time": "2024-06-06T04:03:22.395Z"
   },
   {
    "duration": 26,
    "start_time": "2024-06-06T04:03:22.417Z"
   },
   {
    "duration": 58,
    "start_time": "2024-06-06T04:03:22.446Z"
   },
   {
    "duration": 34,
    "start_time": "2024-06-06T04:03:22.508Z"
   },
   {
    "duration": 117,
    "start_time": "2024-06-06T04:03:22.544Z"
   },
   {
    "duration": 7,
    "start_time": "2024-06-06T04:03:22.664Z"
   },
   {
    "duration": 48,
    "start_time": "2024-06-06T04:03:22.674Z"
   },
   {
    "duration": 25,
    "start_time": "2024-06-06T04:03:22.725Z"
   },
   {
    "duration": 46,
    "start_time": "2024-06-06T04:03:22.753Z"
   },
   {
    "duration": 17,
    "start_time": "2024-06-06T04:03:22.803Z"
   },
   {
    "duration": 87,
    "start_time": "2024-06-06T04:03:22.822Z"
   },
   {
    "duration": 14,
    "start_time": "2024-06-06T04:03:22.912Z"
   },
   {
    "duration": 15,
    "start_time": "2024-06-06T04:03:22.929Z"
   },
   {
    "duration": 58,
    "start_time": "2024-06-06T04:03:22.947Z"
   },
   {
    "duration": 16,
    "start_time": "2024-06-06T04:03:23.007Z"
   },
   {
    "duration": 60,
    "start_time": "2024-06-06T04:03:23.031Z"
   },
   {
    "duration": 84,
    "start_time": "2024-06-06T04:03:23.094Z"
   },
   {
    "duration": 18,
    "start_time": "2024-06-06T04:03:23.191Z"
   },
   {
    "duration": 34,
    "start_time": "2024-06-06T04:03:23.212Z"
   },
   {
    "duration": 43,
    "start_time": "2024-06-06T04:03:23.249Z"
   },
   {
    "duration": 58,
    "start_time": "2024-06-06T04:03:23.296Z"
   },
   {
    "duration": 43,
    "start_time": "2024-06-06T04:03:23.360Z"
   },
   {
    "duration": 27,
    "start_time": "2024-06-06T04:03:23.409Z"
   },
   {
    "duration": 63,
    "start_time": "2024-06-06T04:03:23.439Z"
   },
   {
    "duration": 118,
    "start_time": "2024-06-06T04:03:23.506Z"
   },
   {
    "duration": 40,
    "start_time": "2024-06-06T04:03:23.626Z"
   },
   {
    "duration": 30,
    "start_time": "2024-06-06T04:03:23.669Z"
   },
   {
    "duration": 23,
    "start_time": "2024-06-06T04:03:23.703Z"
   },
   {
    "duration": 722,
    "start_time": "2024-06-06T04:03:23.729Z"
   },
   {
    "duration": 0,
    "start_time": "2024-06-06T04:03:24.454Z"
   },
   {
    "duration": 0,
    "start_time": "2024-06-06T04:03:24.456Z"
   },
   {
    "duration": 0,
    "start_time": "2024-06-06T04:03:24.458Z"
   },
   {
    "duration": 0,
    "start_time": "2024-06-06T04:03:24.460Z"
   },
   {
    "duration": 0,
    "start_time": "2024-06-06T04:03:24.462Z"
   },
   {
    "duration": 0,
    "start_time": "2024-06-06T04:03:24.464Z"
   },
   {
    "duration": 0,
    "start_time": "2024-06-06T04:03:24.466Z"
   },
   {
    "duration": 0,
    "start_time": "2024-06-06T04:03:24.491Z"
   },
   {
    "duration": 0,
    "start_time": "2024-06-06T04:03:24.494Z"
   },
   {
    "duration": 0,
    "start_time": "2024-06-06T04:03:24.497Z"
   },
   {
    "duration": 48,
    "start_time": "2024-06-06T04:06:08.424Z"
   },
   {
    "duration": 8,
    "start_time": "2024-06-06T04:30:12.272Z"
   },
   {
    "duration": 5923,
    "start_time": "2024-06-06T20:44:15.419Z"
   },
   {
    "duration": 445,
    "start_time": "2024-06-06T20:44:21.348Z"
   },
   {
    "duration": 18,
    "start_time": "2024-06-06T20:44:21.797Z"
   },
   {
    "duration": 23,
    "start_time": "2024-06-06T20:44:21.828Z"
   },
   {
    "duration": 18,
    "start_time": "2024-06-06T20:44:21.855Z"
   },
   {
    "duration": 52,
    "start_time": "2024-06-06T20:44:21.877Z"
   },
   {
    "duration": 17,
    "start_time": "2024-06-06T20:44:21.934Z"
   },
   {
    "duration": 11,
    "start_time": "2024-06-06T20:44:21.955Z"
   },
   {
    "duration": 56,
    "start_time": "2024-06-06T20:44:21.970Z"
   },
   {
    "duration": 14,
    "start_time": "2024-06-06T20:44:22.033Z"
   },
   {
    "duration": 28,
    "start_time": "2024-06-06T20:44:22.052Z"
   },
   {
    "duration": 40,
    "start_time": "2024-06-06T20:44:22.084Z"
   },
   {
    "duration": 23,
    "start_time": "2024-06-06T20:44:22.127Z"
   },
   {
    "duration": 31,
    "start_time": "2024-06-06T20:44:22.155Z"
   },
   {
    "duration": 61,
    "start_time": "2024-06-06T20:44:22.190Z"
   },
   {
    "duration": 34,
    "start_time": "2024-06-06T20:44:22.255Z"
   },
   {
    "duration": 144,
    "start_time": "2024-06-06T20:44:22.292Z"
   },
   {
    "duration": 9,
    "start_time": "2024-06-06T20:44:22.440Z"
   },
   {
    "duration": 38,
    "start_time": "2024-06-06T20:44:22.455Z"
   },
   {
    "duration": 54,
    "start_time": "2024-06-06T20:44:22.497Z"
   },
   {
    "duration": 14,
    "start_time": "2024-06-06T20:44:22.562Z"
   },
   {
    "duration": 43,
    "start_time": "2024-06-06T20:44:22.580Z"
   },
   {
    "duration": 68,
    "start_time": "2024-06-06T20:44:22.626Z"
   },
   {
    "duration": 42,
    "start_time": "2024-06-06T20:44:22.697Z"
   },
   {
    "duration": 19,
    "start_time": "2024-06-06T20:44:22.746Z"
   },
   {
    "duration": 53,
    "start_time": "2024-06-06T20:44:22.773Z"
   },
   {
    "duration": 21,
    "start_time": "2024-06-06T20:44:22.829Z"
   },
   {
    "duration": 39,
    "start_time": "2024-06-06T20:44:22.860Z"
   },
   {
    "duration": 119,
    "start_time": "2024-06-06T20:44:22.922Z"
   },
   {
    "duration": 24,
    "start_time": "2024-06-06T20:44:23.044Z"
   },
   {
    "duration": 88,
    "start_time": "2024-06-06T20:44:23.072Z"
   },
   {
    "duration": 15,
    "start_time": "2024-06-06T20:44:23.163Z"
   },
   {
    "duration": 76,
    "start_time": "2024-06-06T20:44:23.181Z"
   },
   {
    "duration": 29,
    "start_time": "2024-06-06T20:44:23.260Z"
   },
   {
    "duration": 57,
    "start_time": "2024-06-06T20:44:23.292Z"
   },
   {
    "duration": 69,
    "start_time": "2024-06-06T20:44:23.354Z"
   },
   {
    "duration": 64,
    "start_time": "2024-06-06T20:44:23.430Z"
   },
   {
    "duration": 74,
    "start_time": "2024-06-06T20:44:23.497Z"
   },
   {
    "duration": 10,
    "start_time": "2024-06-06T20:44:23.574Z"
   },
   {
    "duration": 67,
    "start_time": "2024-06-06T20:44:23.588Z"
   },
   {
    "duration": 932,
    "start_time": "2024-06-06T20:44:23.659Z"
   },
   {
    "duration": 0,
    "start_time": "2024-06-06T20:44:24.595Z"
   },
   {
    "duration": 0,
    "start_time": "2024-06-06T20:44:24.599Z"
   },
   {
    "duration": 0,
    "start_time": "2024-06-06T20:44:24.622Z"
   },
   {
    "duration": 0,
    "start_time": "2024-06-06T20:44:24.624Z"
   },
   {
    "duration": 0,
    "start_time": "2024-06-06T20:44:24.627Z"
   },
   {
    "duration": 0,
    "start_time": "2024-06-06T20:44:24.629Z"
   },
   {
    "duration": 0,
    "start_time": "2024-06-06T20:44:24.632Z"
   },
   {
    "duration": 0,
    "start_time": "2024-06-06T20:44:24.634Z"
   },
   {
    "duration": 0,
    "start_time": "2024-06-06T20:44:24.637Z"
   },
   {
    "duration": 0,
    "start_time": "2024-06-06T20:44:24.641Z"
   },
   {
    "duration": 59,
    "start_time": "2024-06-06T20:44:58.927Z"
   },
   {
    "duration": 1497,
    "start_time": "2024-06-06T20:45:05.933Z"
   },
   {
    "duration": 347,
    "start_time": "2024-06-06T20:45:07.438Z"
   },
   {
    "duration": 17,
    "start_time": "2024-06-06T20:45:07.788Z"
   },
   {
    "duration": 32,
    "start_time": "2024-06-06T20:45:07.809Z"
   },
   {
    "duration": 26,
    "start_time": "2024-06-06T20:45:07.848Z"
   },
   {
    "duration": 17,
    "start_time": "2024-06-06T20:45:07.877Z"
   },
   {
    "duration": 17,
    "start_time": "2024-06-06T20:45:07.925Z"
   },
   {
    "duration": 10,
    "start_time": "2024-06-06T20:45:07.949Z"
   },
   {
    "duration": 22,
    "start_time": "2024-06-06T20:45:07.962Z"
   },
   {
    "duration": 41,
    "start_time": "2024-06-06T20:45:07.989Z"
   },
   {
    "duration": 32,
    "start_time": "2024-06-06T20:45:08.033Z"
   },
   {
    "duration": 8,
    "start_time": "2024-06-06T20:45:08.069Z"
   },
   {
    "duration": 43,
    "start_time": "2024-06-06T20:45:08.081Z"
   },
   {
    "duration": 39,
    "start_time": "2024-06-06T20:45:08.132Z"
   },
   {
    "duration": 54,
    "start_time": "2024-06-06T20:45:08.174Z"
   },
   {
    "duration": 41,
    "start_time": "2024-06-06T20:45:08.232Z"
   },
   {
    "duration": 132,
    "start_time": "2024-06-06T20:45:08.276Z"
   },
   {
    "duration": 9,
    "start_time": "2024-06-06T20:45:08.411Z"
   },
   {
    "duration": 43,
    "start_time": "2024-06-06T20:45:08.427Z"
   },
   {
    "duration": 32,
    "start_time": "2024-06-06T20:45:08.475Z"
   },
   {
    "duration": 23,
    "start_time": "2024-06-06T20:45:08.526Z"
   },
   {
    "duration": 24,
    "start_time": "2024-06-06T20:45:08.553Z"
   },
   {
    "duration": 99,
    "start_time": "2024-06-06T20:45:08.580Z"
   },
   {
    "duration": 17,
    "start_time": "2024-06-06T20:45:08.685Z"
   },
   {
    "duration": 25,
    "start_time": "2024-06-06T20:45:08.724Z"
   },
   {
    "duration": 32,
    "start_time": "2024-06-06T20:45:08.753Z"
   },
   {
    "duration": 54,
    "start_time": "2024-06-06T20:45:08.789Z"
   },
   {
    "duration": 37,
    "start_time": "2024-06-06T20:45:08.847Z"
   },
   {
    "duration": 105,
    "start_time": "2024-06-06T20:45:08.887Z"
   },
   {
    "duration": 30,
    "start_time": "2024-06-06T20:45:08.995Z"
   },
   {
    "duration": 49,
    "start_time": "2024-06-06T20:45:09.029Z"
   },
   {
    "duration": 12,
    "start_time": "2024-06-06T20:45:09.081Z"
   },
   {
    "duration": 69,
    "start_time": "2024-06-06T20:45:09.123Z"
   },
   {
    "duration": 40,
    "start_time": "2024-06-06T20:45:09.197Z"
   },
   {
    "duration": 32,
    "start_time": "2024-06-06T20:45:09.240Z"
   },
   {
    "duration": 150,
    "start_time": "2024-06-06T20:45:09.275Z"
   },
   {
    "duration": 59,
    "start_time": "2024-06-06T20:45:09.431Z"
   },
   {
    "duration": 71,
    "start_time": "2024-06-06T20:45:09.494Z"
   },
   {
    "duration": 10,
    "start_time": "2024-06-06T20:45:09.568Z"
   },
   {
    "duration": 63,
    "start_time": "2024-06-06T20:45:09.581Z"
   },
   {
    "duration": 872,
    "start_time": "2024-06-06T20:45:09.655Z"
   },
   {
    "duration": 0,
    "start_time": "2024-06-06T20:45:10.531Z"
   },
   {
    "duration": 0,
    "start_time": "2024-06-06T20:45:10.533Z"
   },
   {
    "duration": 0,
    "start_time": "2024-06-06T20:45:10.535Z"
   },
   {
    "duration": 0,
    "start_time": "2024-06-06T20:45:10.536Z"
   },
   {
    "duration": 0,
    "start_time": "2024-06-06T20:45:10.538Z"
   },
   {
    "duration": 0,
    "start_time": "2024-06-06T20:45:10.540Z"
   },
   {
    "duration": 0,
    "start_time": "2024-06-06T20:45:10.542Z"
   },
   {
    "duration": 0,
    "start_time": "2024-06-06T20:45:10.545Z"
   },
   {
    "duration": 0,
    "start_time": "2024-06-06T20:45:10.550Z"
   },
   {
    "duration": 0,
    "start_time": "2024-06-06T20:45:10.553Z"
   },
   {
    "duration": 1577,
    "start_time": "2024-06-06T20:45:49.067Z"
   },
   {
    "duration": 330,
    "start_time": "2024-06-06T20:45:50.649Z"
   },
   {
    "duration": 18,
    "start_time": "2024-06-06T20:45:50.982Z"
   },
   {
    "duration": 37,
    "start_time": "2024-06-06T20:45:51.004Z"
   },
   {
    "duration": 21,
    "start_time": "2024-06-06T20:45:51.051Z"
   },
   {
    "duration": 49,
    "start_time": "2024-06-06T20:45:51.074Z"
   },
   {
    "duration": 17,
    "start_time": "2024-06-06T20:45:51.126Z"
   },
   {
    "duration": 11,
    "start_time": "2024-06-06T20:45:51.149Z"
   },
   {
    "duration": 29,
    "start_time": "2024-06-06T20:45:51.164Z"
   },
   {
    "duration": 37,
    "start_time": "2024-06-06T20:45:51.196Z"
   },
   {
    "duration": 31,
    "start_time": "2024-06-06T20:45:51.239Z"
   },
   {
    "duration": 5,
    "start_time": "2024-06-06T20:45:51.273Z"
   },
   {
    "duration": 57,
    "start_time": "2024-06-06T20:45:51.283Z"
   },
   {
    "duration": 41,
    "start_time": "2024-06-06T20:45:51.350Z"
   },
   {
    "duration": 37,
    "start_time": "2024-06-06T20:45:51.395Z"
   },
   {
    "duration": 37,
    "start_time": "2024-06-06T20:45:51.436Z"
   },
   {
    "duration": 137,
    "start_time": "2024-06-06T20:45:51.478Z"
   },
   {
    "duration": 18,
    "start_time": "2024-06-06T20:45:51.619Z"
   },
   {
    "duration": 50,
    "start_time": "2024-06-06T20:45:51.641Z"
   },
   {
    "duration": 62,
    "start_time": "2024-06-06T20:45:51.694Z"
   },
   {
    "duration": 18,
    "start_time": "2024-06-06T20:45:51.760Z"
   },
   {
    "duration": 46,
    "start_time": "2024-06-06T20:45:51.783Z"
   },
   {
    "duration": 65,
    "start_time": "2024-06-06T20:45:51.836Z"
   },
   {
    "duration": 31,
    "start_time": "2024-06-06T20:45:51.905Z"
   },
   {
    "duration": 22,
    "start_time": "2024-06-06T20:45:51.940Z"
   },
   {
    "duration": 27,
    "start_time": "2024-06-06T20:45:51.967Z"
   },
   {
    "duration": 26,
    "start_time": "2024-06-06T20:45:52.025Z"
   },
   {
    "duration": 35,
    "start_time": "2024-06-06T20:45:52.057Z"
   },
   {
    "duration": 114,
    "start_time": "2024-06-06T20:45:52.095Z"
   },
   {
    "duration": 20,
    "start_time": "2024-06-06T20:45:52.223Z"
   },
   {
    "duration": 43,
    "start_time": "2024-06-06T20:45:52.246Z"
   },
   {
    "duration": 41,
    "start_time": "2024-06-06T20:45:52.292Z"
   },
   {
    "duration": 88,
    "start_time": "2024-06-06T20:45:52.336Z"
   },
   {
    "duration": 25,
    "start_time": "2024-06-06T20:45:52.428Z"
   },
   {
    "duration": 37,
    "start_time": "2024-06-06T20:45:52.461Z"
   },
   {
    "duration": 53,
    "start_time": "2024-06-06T20:45:52.525Z"
   },
   {
    "duration": 133,
    "start_time": "2024-06-06T20:45:52.580Z"
   },
   {
    "duration": 55,
    "start_time": "2024-06-06T20:45:52.715Z"
   },
   {
    "duration": 15,
    "start_time": "2024-06-06T20:45:52.774Z"
   },
   {
    "duration": 53,
    "start_time": "2024-06-06T20:45:52.795Z"
   },
   {
    "duration": 813,
    "start_time": "2024-06-06T20:45:52.858Z"
   },
   {
    "duration": 0,
    "start_time": "2024-06-06T20:45:53.675Z"
   },
   {
    "duration": 0,
    "start_time": "2024-06-06T20:45:53.678Z"
   },
   {
    "duration": 0,
    "start_time": "2024-06-06T20:45:53.681Z"
   },
   {
    "duration": 0,
    "start_time": "2024-06-06T20:45:53.683Z"
   },
   {
    "duration": 0,
    "start_time": "2024-06-06T20:45:53.685Z"
   },
   {
    "duration": 0,
    "start_time": "2024-06-06T20:45:53.687Z"
   },
   {
    "duration": 0,
    "start_time": "2024-06-06T20:45:53.690Z"
   },
   {
    "duration": 0,
    "start_time": "2024-06-06T20:45:53.723Z"
   },
   {
    "duration": 0,
    "start_time": "2024-06-06T20:45:53.725Z"
   },
   {
    "duration": 0,
    "start_time": "2024-06-06T20:45:53.727Z"
   },
   {
    "duration": 10,
    "start_time": "2024-06-06T20:46:07.262Z"
   },
   {
    "duration": 56,
    "start_time": "2024-06-06T20:46:16.645Z"
   },
   {
    "duration": 1453,
    "start_time": "2024-06-06T20:46:34.835Z"
   },
   {
    "duration": 310,
    "start_time": "2024-06-06T20:46:36.292Z"
   },
   {
    "duration": 23,
    "start_time": "2024-06-06T20:46:36.604Z"
   },
   {
    "duration": 19,
    "start_time": "2024-06-06T20:46:36.632Z"
   },
   {
    "duration": 15,
    "start_time": "2024-06-06T20:46:36.655Z"
   },
   {
    "duration": 57,
    "start_time": "2024-06-06T20:46:36.673Z"
   },
   {
    "duration": 20,
    "start_time": "2024-06-06T20:46:36.732Z"
   },
   {
    "duration": 9,
    "start_time": "2024-06-06T20:46:36.757Z"
   },
   {
    "duration": 21,
    "start_time": "2024-06-06T20:46:36.769Z"
   },
   {
    "duration": 16,
    "start_time": "2024-06-06T20:46:36.828Z"
   },
   {
    "duration": 26,
    "start_time": "2024-06-06T20:46:36.847Z"
   },
   {
    "duration": 5,
    "start_time": "2024-06-06T20:46:36.877Z"
   },
   {
    "duration": 27,
    "start_time": "2024-06-06T20:46:36.931Z"
   },
   {
    "duration": 78,
    "start_time": "2024-06-06T20:46:36.962Z"
   },
   {
    "duration": 26,
    "start_time": "2024-06-06T20:46:37.044Z"
   },
   {
    "duration": 56,
    "start_time": "2024-06-06T20:46:37.074Z"
   },
   {
    "duration": 124,
    "start_time": "2024-06-06T20:46:37.136Z"
   },
   {
    "duration": 15,
    "start_time": "2024-06-06T20:46:37.266Z"
   },
   {
    "duration": 55,
    "start_time": "2024-06-06T20:46:37.284Z"
   },
   {
    "duration": 30,
    "start_time": "2024-06-06T20:46:37.350Z"
   },
   {
    "duration": 20,
    "start_time": "2024-06-06T20:46:37.383Z"
   },
   {
    "duration": 30,
    "start_time": "2024-06-06T20:46:37.407Z"
   },
   {
    "duration": 64,
    "start_time": "2024-06-06T20:46:37.439Z"
   },
   {
    "duration": 41,
    "start_time": "2024-06-06T20:46:37.505Z"
   },
   {
    "duration": 19,
    "start_time": "2024-06-06T20:46:37.550Z"
   },
   {
    "duration": 22,
    "start_time": "2024-06-06T20:46:37.572Z"
   },
   {
    "duration": 47,
    "start_time": "2024-06-06T20:46:37.596Z"
   },
   {
    "duration": 39,
    "start_time": "2024-06-06T20:46:37.652Z"
   },
   {
    "duration": 107,
    "start_time": "2024-06-06T20:46:37.694Z"
   },
   {
    "duration": 37,
    "start_time": "2024-06-06T20:46:37.804Z"
   },
   {
    "duration": 46,
    "start_time": "2024-06-06T20:46:37.844Z"
   },
   {
    "duration": 43,
    "start_time": "2024-06-06T20:46:37.893Z"
   },
   {
    "duration": 62,
    "start_time": "2024-06-06T20:46:37.939Z"
   },
   {
    "duration": 34,
    "start_time": "2024-06-06T20:46:38.025Z"
   },
   {
    "duration": 37,
    "start_time": "2024-06-06T20:46:38.065Z"
   },
   {
    "duration": 77,
    "start_time": "2024-06-06T20:46:38.105Z"
   },
   {
    "duration": 124,
    "start_time": "2024-06-06T20:46:38.186Z"
   },
   {
    "duration": 50,
    "start_time": "2024-06-06T20:46:38.323Z"
   },
   {
    "duration": 11,
    "start_time": "2024-06-06T20:46:38.378Z"
   },
   {
    "duration": 54,
    "start_time": "2024-06-06T20:46:38.392Z"
   },
   {
    "duration": 817,
    "start_time": "2024-06-06T20:46:38.449Z"
   },
   {
    "duration": 0,
    "start_time": "2024-06-06T20:46:39.270Z"
   },
   {
    "duration": 0,
    "start_time": "2024-06-06T20:46:39.273Z"
   },
   {
    "duration": 0,
    "start_time": "2024-06-06T20:46:39.276Z"
   },
   {
    "duration": 0,
    "start_time": "2024-06-06T20:46:39.278Z"
   },
   {
    "duration": 0,
    "start_time": "2024-06-06T20:46:39.280Z"
   },
   {
    "duration": 0,
    "start_time": "2024-06-06T20:46:39.283Z"
   },
   {
    "duration": 0,
    "start_time": "2024-06-06T20:46:39.286Z"
   },
   {
    "duration": 0,
    "start_time": "2024-06-06T20:46:39.289Z"
   },
   {
    "duration": 0,
    "start_time": "2024-06-06T20:46:39.291Z"
   },
   {
    "duration": 0,
    "start_time": "2024-06-06T20:46:39.294Z"
   },
   {
    "duration": 12,
    "start_time": "2024-06-06T21:02:47.646Z"
   },
   {
    "duration": 12,
    "start_time": "2024-06-06T21:02:59.880Z"
   },
   {
    "duration": 55,
    "start_time": "2024-06-06T21:03:11.136Z"
   },
   {
    "duration": 28,
    "start_time": "2024-06-06T21:03:38.356Z"
   },
   {
    "duration": 61,
    "start_time": "2024-06-06T21:05:18.328Z"
   },
   {
    "duration": 42,
    "start_time": "2024-06-06T21:06:06.464Z"
   },
   {
    "duration": 43,
    "start_time": "2024-06-06T21:06:31.077Z"
   },
   {
    "duration": 50,
    "start_time": "2024-06-06T21:07:42.602Z"
   },
   {
    "duration": 50,
    "start_time": "2024-06-06T21:07:51.175Z"
   },
   {
    "duration": 57,
    "start_time": "2024-06-06T21:08:02.660Z"
   },
   {
    "duration": 50,
    "start_time": "2024-06-06T21:08:17.863Z"
   },
   {
    "duration": 56,
    "start_time": "2024-06-06T21:08:38.950Z"
   },
   {
    "duration": 1470,
    "start_time": "2024-06-06T21:09:17.221Z"
   },
   {
    "duration": 339,
    "start_time": "2024-06-06T21:09:18.696Z"
   },
   {
    "duration": 21,
    "start_time": "2024-06-06T21:09:19.039Z"
   },
   {
    "duration": 23,
    "start_time": "2024-06-06T21:09:19.064Z"
   },
   {
    "duration": 43,
    "start_time": "2024-06-06T21:09:19.092Z"
   },
   {
    "duration": 23,
    "start_time": "2024-06-06T21:09:19.139Z"
   },
   {
    "duration": 12,
    "start_time": "2024-06-06T21:09:19.166Z"
   },
   {
    "duration": 47,
    "start_time": "2024-06-06T21:09:19.181Z"
   },
   {
    "duration": 23,
    "start_time": "2024-06-06T21:09:19.231Z"
   },
   {
    "duration": 20,
    "start_time": "2024-06-06T21:09:19.264Z"
   },
   {
    "duration": 43,
    "start_time": "2024-06-06T21:09:19.287Z"
   },
   {
    "duration": 10,
    "start_time": "2024-06-06T21:09:19.335Z"
   },
   {
    "duration": 24,
    "start_time": "2024-06-06T21:09:19.348Z"
   },
   {
    "duration": 51,
    "start_time": "2024-06-06T21:09:19.381Z"
   },
   {
    "duration": 23,
    "start_time": "2024-06-06T21:09:19.436Z"
   },
   {
    "duration": 57,
    "start_time": "2024-06-06T21:09:19.467Z"
   },
   {
    "duration": 119,
    "start_time": "2024-06-06T21:09:19.531Z"
   },
   {
    "duration": 10,
    "start_time": "2024-06-06T21:09:19.655Z"
   },
   {
    "duration": 75,
    "start_time": "2024-06-06T21:09:19.669Z"
   },
   {
    "duration": 23,
    "start_time": "2024-06-06T21:09:19.748Z"
   },
   {
    "duration": 20,
    "start_time": "2024-06-06T21:09:19.776Z"
   },
   {
    "duration": 51,
    "start_time": "2024-06-06T21:09:19.799Z"
   },
   {
    "duration": 105,
    "start_time": "2024-06-06T21:09:19.856Z"
   },
   {
    "duration": 16,
    "start_time": "2024-06-06T21:09:19.964Z"
   },
   {
    "duration": 17,
    "start_time": "2024-06-06T21:09:19.984Z"
   },
   {
    "duration": 32,
    "start_time": "2024-06-06T21:09:20.023Z"
   },
   {
    "duration": 22,
    "start_time": "2024-06-06T21:09:20.059Z"
   },
   {
    "duration": 72,
    "start_time": "2024-06-06T21:09:20.085Z"
   },
   {
    "duration": 98,
    "start_time": "2024-06-06T21:09:20.162Z"
   },
   {
    "duration": 21,
    "start_time": "2024-06-06T21:09:20.264Z"
   },
   {
    "duration": 63,
    "start_time": "2024-06-06T21:09:20.288Z"
   },
   {
    "duration": 16,
    "start_time": "2024-06-06T21:09:20.354Z"
   },
   {
    "duration": 91,
    "start_time": "2024-06-06T21:09:20.374Z"
   },
   {
    "duration": 23,
    "start_time": "2024-06-06T21:09:20.468Z"
   },
   {
    "duration": 60,
    "start_time": "2024-06-06T21:09:20.496Z"
   },
   {
    "duration": 148,
    "start_time": "2024-06-06T21:09:20.561Z"
   },
   {
    "duration": 62,
    "start_time": "2024-06-06T21:09:20.712Z"
   },
   {
    "duration": 61,
    "start_time": "2024-06-06T21:09:20.777Z"
   },
   {
    "duration": 17,
    "start_time": "2024-06-06T21:09:20.841Z"
   },
   {
    "duration": 36,
    "start_time": "2024-06-06T21:09:20.862Z"
   },
   {
    "duration": 33,
    "start_time": "2024-06-06T21:09:20.924Z"
   },
   {
    "duration": 70,
    "start_time": "2024-06-06T21:09:20.959Z"
   },
   {
    "duration": 4,
    "start_time": "2024-06-06T21:09:21.033Z"
   },
   {
    "duration": 6,
    "start_time": "2024-06-06T21:09:21.048Z"
   },
   {
    "duration": 14,
    "start_time": "2024-06-06T21:09:21.059Z"
   },
   {
    "duration": 10,
    "start_time": "2024-06-06T21:09:21.076Z"
   },
   {
    "duration": 35,
    "start_time": "2024-06-06T21:09:21.089Z"
   },
   {
    "duration": 11,
    "start_time": "2024-06-06T21:09:21.128Z"
   },
   {
    "duration": 16,
    "start_time": "2024-06-06T21:09:21.144Z"
   },
   {
    "duration": 6,
    "start_time": "2024-06-06T21:09:21.162Z"
   },
   {
    "duration": 6,
    "start_time": "2024-06-06T21:09:21.174Z"
   },
   {
    "duration": 43,
    "start_time": "2024-06-06T21:15:38.701Z"
   },
   {
    "duration": 44,
    "start_time": "2024-06-06T21:16:03.407Z"
   },
   {
    "duration": 51,
    "start_time": "2024-06-06T21:16:09.807Z"
   },
   {
    "duration": 39,
    "start_time": "2024-06-06T21:16:28.763Z"
   },
   {
    "duration": 48,
    "start_time": "2024-06-06T21:24:34.153Z"
   },
   {
    "duration": 5018,
    "start_time": "2024-06-06T23:28:04.895Z"
   },
   {
    "duration": 361,
    "start_time": "2024-06-06T23:28:09.917Z"
   },
   {
    "duration": 25,
    "start_time": "2024-06-06T23:28:10.281Z"
   },
   {
    "duration": 16,
    "start_time": "2024-06-06T23:28:10.311Z"
   },
   {
    "duration": 15,
    "start_time": "2024-06-06T23:28:10.330Z"
   },
   {
    "duration": 17,
    "start_time": "2024-06-06T23:28:10.348Z"
   },
   {
    "duration": 10,
    "start_time": "2024-06-06T23:28:10.403Z"
   },
   {
    "duration": 7,
    "start_time": "2024-06-06T23:28:10.417Z"
   },
   {
    "duration": 16,
    "start_time": "2024-06-06T23:28:10.428Z"
   },
   {
    "duration": 53,
    "start_time": "2024-06-06T23:28:10.450Z"
   },
   {
    "duration": 22,
    "start_time": "2024-06-06T23:28:10.507Z"
   },
   {
    "duration": 5,
    "start_time": "2024-06-06T23:28:10.531Z"
   },
   {
    "duration": 16,
    "start_time": "2024-06-06T23:28:10.539Z"
   },
   {
    "duration": 64,
    "start_time": "2024-06-06T23:28:10.558Z"
   },
   {
    "duration": 17,
    "start_time": "2024-06-06T23:28:10.624Z"
   },
   {
    "duration": 57,
    "start_time": "2024-06-06T23:28:10.644Z"
   },
   {
    "duration": 110,
    "start_time": "2024-06-06T23:28:10.705Z"
   },
   {
    "duration": 7,
    "start_time": "2024-06-06T23:28:10.818Z"
   },
   {
    "duration": 39,
    "start_time": "2024-06-06T23:28:10.829Z"
   },
   {
    "duration": 47,
    "start_time": "2024-06-06T23:28:10.871Z"
   },
   {
    "duration": 14,
    "start_time": "2024-06-06T23:28:10.921Z"
   },
   {
    "duration": 17,
    "start_time": "2024-06-06T23:28:10.938Z"
   },
   {
    "duration": 92,
    "start_time": "2024-06-06T23:28:10.958Z"
   },
   {
    "duration": 16,
    "start_time": "2024-06-06T23:28:11.052Z"
   },
   {
    "duration": 36,
    "start_time": "2024-06-06T23:28:11.071Z"
   },
   {
    "duration": 22,
    "start_time": "2024-06-06T23:28:11.110Z"
   },
   {
    "duration": 17,
    "start_time": "2024-06-06T23:28:11.134Z"
   },
   {
    "duration": 65,
    "start_time": "2024-06-06T23:28:11.160Z"
   },
   {
    "duration": 96,
    "start_time": "2024-06-06T23:28:11.229Z"
   },
   {
    "duration": 18,
    "start_time": "2024-06-06T23:28:11.327Z"
   },
   {
    "duration": 55,
    "start_time": "2024-06-06T23:28:11.348Z"
   },
   {
    "duration": 14,
    "start_time": "2024-06-06T23:28:11.406Z"
   },
   {
    "duration": 78,
    "start_time": "2024-06-06T23:28:11.423Z"
   },
   {
    "duration": 18,
    "start_time": "2024-06-06T23:28:11.504Z"
   },
   {
    "duration": 29,
    "start_time": "2024-06-06T23:28:11.525Z"
   },
   {
    "duration": 75,
    "start_time": "2024-06-06T23:28:11.556Z"
   },
   {
    "duration": 47,
    "start_time": "2024-06-06T23:28:11.634Z"
   },
   {
    "duration": 40,
    "start_time": "2024-06-06T23:28:11.702Z"
   },
   {
    "duration": 9,
    "start_time": "2024-06-06T23:28:11.745Z"
   },
   {
    "duration": 58,
    "start_time": "2024-06-06T23:28:11.757Z"
   },
   {
    "duration": 26,
    "start_time": "2024-06-06T23:28:11.818Z"
   },
   {
    "duration": 65,
    "start_time": "2024-06-06T23:28:11.846Z"
   },
   {
    "duration": 491,
    "start_time": "2024-06-06T23:28:11.914Z"
   },
   {
    "duration": 0,
    "start_time": "2024-06-06T23:28:12.408Z"
   },
   {
    "duration": 0,
    "start_time": "2024-06-06T23:28:12.411Z"
   },
   {
    "duration": 0,
    "start_time": "2024-06-06T23:28:12.413Z"
   },
   {
    "duration": 0,
    "start_time": "2024-06-06T23:28:12.415Z"
   },
   {
    "duration": 0,
    "start_time": "2024-06-06T23:28:12.419Z"
   },
   {
    "duration": 0,
    "start_time": "2024-06-06T23:28:12.421Z"
   },
   {
    "duration": 0,
    "start_time": "2024-06-06T23:28:12.423Z"
   },
   {
    "duration": 0,
    "start_time": "2024-06-06T23:28:12.425Z"
   },
   {
    "duration": 31,
    "start_time": "2024-06-06T23:41:54.531Z"
   },
   {
    "duration": 34,
    "start_time": "2024-06-06T23:43:10.576Z"
   },
   {
    "duration": 26,
    "start_time": "2024-06-06T23:43:23.042Z"
   },
   {
    "duration": 37,
    "start_time": "2024-06-06T23:43:34.863Z"
   },
   {
    "duration": 569,
    "start_time": "2024-06-07T01:20:26.879Z"
   },
   {
    "duration": 778,
    "start_time": "2024-06-07T01:22:16.795Z"
   },
   {
    "duration": 198,
    "start_time": "2024-06-07T01:22:36.755Z"
   },
   {
    "duration": 1242,
    "start_time": "2024-06-07T01:40:53.545Z"
   },
   {
    "duration": 288,
    "start_time": "2024-06-07T01:40:54.790Z"
   },
   {
    "duration": 22,
    "start_time": "2024-06-07T01:40:55.080Z"
   },
   {
    "duration": 17,
    "start_time": "2024-06-07T01:40:55.106Z"
   },
   {
    "duration": 15,
    "start_time": "2024-06-07T01:40:55.126Z"
   },
   {
    "duration": 58,
    "start_time": "2024-06-07T01:40:55.144Z"
   },
   {
    "duration": 12,
    "start_time": "2024-06-07T01:40:55.205Z"
   },
   {
    "duration": 11,
    "start_time": "2024-06-07T01:40:55.221Z"
   },
   {
    "duration": 19,
    "start_time": "2024-06-07T01:40:55.235Z"
   },
   {
    "duration": 42,
    "start_time": "2024-06-07T01:40:55.261Z"
   },
   {
    "duration": 23,
    "start_time": "2024-06-07T01:40:55.306Z"
   },
   {
    "duration": 6,
    "start_time": "2024-06-07T01:40:55.332Z"
   },
   {
    "duration": 16,
    "start_time": "2024-06-07T01:40:55.341Z"
   },
   {
    "duration": 64,
    "start_time": "2024-06-07T01:40:55.360Z"
   },
   {
    "duration": 18,
    "start_time": "2024-06-07T01:40:55.427Z"
   },
   {
    "duration": 61,
    "start_time": "2024-06-07T01:40:55.448Z"
   },
   {
    "duration": 105,
    "start_time": "2024-06-07T01:40:55.512Z"
   },
   {
    "duration": 8,
    "start_time": "2024-06-07T01:40:55.620Z"
   },
   {
    "duration": 31,
    "start_time": "2024-06-07T01:40:55.631Z"
   },
   {
    "duration": 50,
    "start_time": "2024-06-07T01:40:55.665Z"
   },
   {
    "duration": 14,
    "start_time": "2024-06-07T01:40:55.718Z"
   },
   {
    "duration": 19,
    "start_time": "2024-06-07T01:40:55.735Z"
   },
   {
    "duration": 88,
    "start_time": "2024-06-07T01:40:55.757Z"
   },
   {
    "duration": 15,
    "start_time": "2024-06-07T01:40:55.848Z"
   },
   {
    "duration": 53,
    "start_time": "2024-06-07T01:40:55.866Z"
   },
   {
    "duration": 28,
    "start_time": "2024-06-07T01:40:55.921Z"
   },
   {
    "duration": 20,
    "start_time": "2024-06-07T01:40:55.953Z"
   },
   {
    "duration": 33,
    "start_time": "2024-06-07T01:40:56.005Z"
   },
   {
    "duration": 98,
    "start_time": "2024-06-07T01:40:56.043Z"
   },
   {
    "duration": 18,
    "start_time": "2024-06-07T01:40:56.145Z"
   },
   {
    "duration": 57,
    "start_time": "2024-06-07T01:40:56.166Z"
   },
   {
    "duration": 14,
    "start_time": "2024-06-07T01:40:56.226Z"
   },
   {
    "duration": 97,
    "start_time": "2024-06-07T01:40:56.243Z"
   },
   {
    "duration": 27,
    "start_time": "2024-06-07T01:40:56.346Z"
   },
   {
    "duration": 46,
    "start_time": "2024-06-07T01:40:56.376Z"
   },
   {
    "duration": 44,
    "start_time": "2024-06-07T01:40:56.425Z"
   },
   {
    "duration": 138,
    "start_time": "2024-06-07T01:40:56.472Z"
   },
   {
    "duration": 41,
    "start_time": "2024-06-07T01:40:56.614Z"
   },
   {
    "duration": 9,
    "start_time": "2024-06-07T01:40:56.658Z"
   },
   {
    "duration": 51,
    "start_time": "2024-06-07T01:40:56.670Z"
   },
   {
    "duration": 25,
    "start_time": "2024-06-07T01:40:56.724Z"
   },
   {
    "duration": 70,
    "start_time": "2024-06-07T01:40:56.752Z"
   },
   {
    "duration": 199,
    "start_time": "2024-06-07T01:40:56.824Z"
   },
   {
    "duration": 4,
    "start_time": "2024-06-07T01:40:57.026Z"
   },
   {
    "duration": 4,
    "start_time": "2024-06-07T01:40:57.033Z"
   },
   {
    "duration": 3,
    "start_time": "2024-06-07T01:40:57.040Z"
   },
   {
    "duration": 3,
    "start_time": "2024-06-07T01:40:57.047Z"
   },
   {
    "duration": 48,
    "start_time": "2024-06-07T01:40:57.053Z"
   },
   {
    "duration": 6,
    "start_time": "2024-06-07T01:40:57.104Z"
   },
   {
    "duration": 4,
    "start_time": "2024-06-07T01:40:57.113Z"
   },
   {
    "duration": 4,
    "start_time": "2024-06-07T01:40:57.120Z"
   },
   {
    "duration": 8,
    "start_time": "2024-06-07T02:25:18.666Z"
   },
   {
    "duration": 205,
    "start_time": "2024-06-07T02:25:27.062Z"
   },
   {
    "duration": 1289,
    "start_time": "2024-06-07T02:26:07.323Z"
   },
   {
    "duration": 278,
    "start_time": "2024-06-07T02:26:08.616Z"
   },
   {
    "duration": 16,
    "start_time": "2024-06-07T02:26:08.897Z"
   },
   {
    "duration": 17,
    "start_time": "2024-06-07T02:26:08.916Z"
   },
   {
    "duration": 16,
    "start_time": "2024-06-07T02:26:08.937Z"
   },
   {
    "duration": 54,
    "start_time": "2024-06-07T02:26:08.956Z"
   },
   {
    "duration": 10,
    "start_time": "2024-06-07T02:26:09.013Z"
   },
   {
    "duration": 8,
    "start_time": "2024-06-07T02:26:09.027Z"
   },
   {
    "duration": 19,
    "start_time": "2024-06-07T02:26:09.037Z"
   },
   {
    "duration": 53,
    "start_time": "2024-06-07T02:26:09.060Z"
   },
   {
    "duration": 29,
    "start_time": "2024-06-07T02:26:09.117Z"
   },
   {
    "duration": 8,
    "start_time": "2024-06-07T02:26:09.150Z"
   },
   {
    "duration": 44,
    "start_time": "2024-06-07T02:26:09.161Z"
   },
   {
    "duration": 40,
    "start_time": "2024-06-07T02:26:09.214Z"
   },
   {
    "duration": 19,
    "start_time": "2024-06-07T02:26:09.257Z"
   },
   {
    "duration": 51,
    "start_time": "2024-06-07T02:26:09.278Z"
   },
   {
    "duration": 114,
    "start_time": "2024-06-07T02:26:09.332Z"
   },
   {
    "duration": 10,
    "start_time": "2024-06-07T02:26:09.449Z"
   },
   {
    "duration": 56,
    "start_time": "2024-06-07T02:26:09.464Z"
   },
   {
    "duration": 23,
    "start_time": "2024-06-07T02:26:09.523Z"
   },
   {
    "duration": 14,
    "start_time": "2024-06-07T02:26:09.549Z"
   },
   {
    "duration": 46,
    "start_time": "2024-06-07T02:26:09.566Z"
   },
   {
    "duration": 56,
    "start_time": "2024-06-07T02:26:09.617Z"
   },
   {
    "duration": 38,
    "start_time": "2024-06-07T02:26:09.676Z"
   },
   {
    "duration": 17,
    "start_time": "2024-06-07T02:26:09.717Z"
   },
   {
    "duration": 30,
    "start_time": "2024-06-07T02:26:09.737Z"
   },
   {
    "duration": 47,
    "start_time": "2024-06-07T02:26:09.770Z"
   },
   {
    "duration": 29,
    "start_time": "2024-06-07T02:26:09.820Z"
   },
   {
    "duration": 101,
    "start_time": "2024-06-07T02:26:09.853Z"
   },
   {
    "duration": 18,
    "start_time": "2024-06-07T02:26:09.957Z"
   },
   {
    "duration": 33,
    "start_time": "2024-06-07T02:26:10.001Z"
   },
   {
    "duration": 13,
    "start_time": "2024-06-07T02:26:10.037Z"
   },
   {
    "duration": 87,
    "start_time": "2024-06-07T02:26:10.053Z"
   },
   {
    "duration": 20,
    "start_time": "2024-06-07T02:26:10.143Z"
   },
   {
    "duration": 61,
    "start_time": "2024-06-07T02:26:10.166Z"
   },
   {
    "duration": 110,
    "start_time": "2024-06-07T02:26:10.230Z"
   },
   {
    "duration": 71,
    "start_time": "2024-06-07T02:26:10.343Z"
   },
   {
    "duration": 39,
    "start_time": "2024-06-07T02:26:10.417Z"
   },
   {
    "duration": 9,
    "start_time": "2024-06-07T02:26:10.460Z"
   },
   {
    "duration": 23,
    "start_time": "2024-06-07T02:26:10.501Z"
   },
   {
    "duration": 26,
    "start_time": "2024-06-07T02:26:10.533Z"
   },
   {
    "duration": 69,
    "start_time": "2024-06-07T02:26:10.562Z"
   },
   {
    "duration": 202,
    "start_time": "2024-06-07T02:26:10.635Z"
   },
   {
    "duration": 222,
    "start_time": "2024-06-07T02:26:10.840Z"
   },
   {
    "duration": 0,
    "start_time": "2024-06-07T02:26:11.065Z"
   },
   {
    "duration": 0,
    "start_time": "2024-06-07T02:26:11.067Z"
   },
   {
    "duration": 0,
    "start_time": "2024-06-07T02:26:11.069Z"
   },
   {
    "duration": 0,
    "start_time": "2024-06-07T02:26:11.071Z"
   },
   {
    "duration": 0,
    "start_time": "2024-06-07T02:26:11.074Z"
   },
   {
    "duration": 1,
    "start_time": "2024-06-07T02:26:11.075Z"
   },
   {
    "duration": 0,
    "start_time": "2024-06-07T02:26:11.078Z"
   },
   {
    "duration": 12,
    "start_time": "2024-06-07T02:27:27.035Z"
   },
   {
    "duration": 27,
    "start_time": "2024-06-07T02:28:06.438Z"
   },
   {
    "duration": 31,
    "start_time": "2024-06-07T02:28:12.655Z"
   },
   {
    "duration": 11,
    "start_time": "2024-06-07T02:28:40.233Z"
   },
   {
    "duration": 25,
    "start_time": "2024-06-07T02:28:41.646Z"
   },
   {
    "duration": 1349,
    "start_time": "2024-06-07T02:28:55.739Z"
   },
   {
    "duration": 305,
    "start_time": "2024-06-07T02:28:57.091Z"
   },
   {
    "duration": 17,
    "start_time": "2024-06-07T02:28:57.398Z"
   },
   {
    "duration": 16,
    "start_time": "2024-06-07T02:28:57.420Z"
   },
   {
    "duration": 16,
    "start_time": "2024-06-07T02:28:57.438Z"
   },
   {
    "duration": 58,
    "start_time": "2024-06-07T02:28:57.457Z"
   },
   {
    "duration": 10,
    "start_time": "2024-06-07T02:28:57.518Z"
   },
   {
    "duration": 8,
    "start_time": "2024-06-07T02:28:57.531Z"
   },
   {
    "duration": 17,
    "start_time": "2024-06-07T02:28:57.542Z"
   },
   {
    "duration": 10,
    "start_time": "2024-06-07T02:28:57.602Z"
   },
   {
    "duration": 22,
    "start_time": "2024-06-07T02:28:57.614Z"
   },
   {
    "duration": 4,
    "start_time": "2024-06-07T02:28:57.639Z"
   },
   {
    "duration": 56,
    "start_time": "2024-06-07T02:28:57.646Z"
   },
   {
    "duration": 26,
    "start_time": "2024-06-07T02:28:57.706Z"
   },
   {
    "duration": 18,
    "start_time": "2024-06-07T02:28:57.734Z"
   },
   {
    "duration": 66,
    "start_time": "2024-06-07T02:28:57.754Z"
   },
   {
    "duration": 101,
    "start_time": "2024-06-07T02:28:57.823Z"
   },
   {
    "duration": 6,
    "start_time": "2024-06-07T02:28:57.928Z"
   },
   {
    "duration": 33,
    "start_time": "2024-06-07T02:28:57.937Z"
   },
   {
    "duration": 49,
    "start_time": "2024-06-07T02:28:57.973Z"
   },
   {
    "duration": 15,
    "start_time": "2024-06-07T02:28:58.025Z"
   },
   {
    "duration": 19,
    "start_time": "2024-06-07T02:28:58.043Z"
   },
   {
    "duration": 90,
    "start_time": "2024-06-07T02:28:58.064Z"
   },
   {
    "duration": 20,
    "start_time": "2024-06-07T02:28:58.157Z"
   },
   {
    "duration": 18,
    "start_time": "2024-06-07T02:28:58.201Z"
   },
   {
    "duration": 28,
    "start_time": "2024-06-07T02:28:58.221Z"
   },
   {
    "duration": 50,
    "start_time": "2024-06-07T02:28:58.253Z"
   },
   {
    "duration": 31,
    "start_time": "2024-06-07T02:28:58.312Z"
   },
   {
    "duration": 106,
    "start_time": "2024-06-07T02:28:58.346Z"
   },
   {
    "duration": 17,
    "start_time": "2024-06-07T02:28:58.456Z"
   },
   {
    "duration": 56,
    "start_time": "2024-06-07T02:28:58.475Z"
   },
   {
    "duration": 15,
    "start_time": "2024-06-07T02:28:58.535Z"
   },
   {
    "duration": 80,
    "start_time": "2024-06-07T02:28:58.553Z"
   },
   {
    "duration": 20,
    "start_time": "2024-06-07T02:28:58.637Z"
   },
   {
    "duration": 56,
    "start_time": "2024-06-07T02:28:58.661Z"
   },
   {
    "duration": 44,
    "start_time": "2024-06-07T02:28:58.720Z"
   },
   {
    "duration": 121,
    "start_time": "2024-06-07T02:28:58.766Z"
   },
   {
    "duration": 50,
    "start_time": "2024-06-07T02:28:58.890Z"
   },
   {
    "duration": 9,
    "start_time": "2024-06-07T02:28:58.943Z"
   },
   {
    "duration": 56,
    "start_time": "2024-06-07T02:28:58.956Z"
   },
   {
    "duration": 26,
    "start_time": "2024-06-07T02:28:59.015Z"
   },
   {
    "duration": 63,
    "start_time": "2024-06-07T02:28:59.044Z"
   },
   {
    "duration": 202,
    "start_time": "2024-06-07T02:28:59.111Z"
   },
   {
    "duration": 16,
    "start_time": "2024-06-07T02:28:59.316Z"
   },
   {
    "duration": 233,
    "start_time": "2024-06-07T02:28:59.337Z"
   },
   {
    "duration": 0,
    "start_time": "2024-06-07T02:28:59.573Z"
   },
   {
    "duration": 0,
    "start_time": "2024-06-07T02:28:59.575Z"
   },
   {
    "duration": 0,
    "start_time": "2024-06-07T02:28:59.577Z"
   },
   {
    "duration": 0,
    "start_time": "2024-06-07T02:28:59.578Z"
   },
   {
    "duration": 0,
    "start_time": "2024-06-07T02:28:59.580Z"
   },
   {
    "duration": 0,
    "start_time": "2024-06-07T02:28:59.604Z"
   },
   {
    "duration": 0,
    "start_time": "2024-06-07T02:28:59.606Z"
   },
   {
    "duration": 25,
    "start_time": "2024-06-07T02:31:16.620Z"
   },
   {
    "duration": 12,
    "start_time": "2024-06-07T02:31:25.058Z"
   },
   {
    "duration": 27,
    "start_time": "2024-06-07T02:31:26.429Z"
   },
   {
    "duration": 6,
    "start_time": "2024-06-07T02:32:00.091Z"
   },
   {
    "duration": 340,
    "start_time": "2024-06-07T02:33:17.575Z"
   },
   {
    "duration": 394,
    "start_time": "2024-06-07T02:33:28.519Z"
   },
   {
    "duration": 13,
    "start_time": "2024-06-07T02:33:32.577Z"
   },
   {
    "duration": 328,
    "start_time": "2024-06-07T02:33:33.147Z"
   },
   {
    "duration": 530,
    "start_time": "2024-06-07T02:33:37.744Z"
   },
   {
    "duration": 343,
    "start_time": "2024-06-07T02:36:41.327Z"
   },
   {
    "duration": 353,
    "start_time": "2024-06-07T02:36:47.916Z"
   },
   {
    "duration": 328,
    "start_time": "2024-06-07T02:36:56.990Z"
   },
   {
    "duration": 330,
    "start_time": "2024-06-07T03:27:21.173Z"
   },
   {
    "duration": 185,
    "start_time": "2024-06-07T03:27:52.260Z"
   },
   {
    "duration": 373,
    "start_time": "2024-06-07T03:30:03.408Z"
   },
   {
    "duration": 457,
    "start_time": "2024-06-07T03:30:43.550Z"
   },
   {
    "duration": 303,
    "start_time": "2024-06-07T03:33:20.630Z"
   },
   {
    "duration": 5246,
    "start_time": "2024-06-07T20:00:01.207Z"
   },
   {
    "duration": 388,
    "start_time": "2024-06-07T20:00:06.457Z"
   },
   {
    "duration": 17,
    "start_time": "2024-06-07T20:00:06.848Z"
   },
   {
    "duration": 23,
    "start_time": "2024-06-07T20:00:06.869Z"
   },
   {
    "duration": 15,
    "start_time": "2024-06-07T20:00:06.895Z"
   },
   {
    "duration": 18,
    "start_time": "2024-06-07T20:00:06.913Z"
   },
   {
    "duration": 11,
    "start_time": "2024-06-07T20:00:06.934Z"
   },
   {
    "duration": 9,
    "start_time": "2024-06-07T20:00:06.991Z"
   },
   {
    "duration": 20,
    "start_time": "2024-06-07T20:00:07.004Z"
   },
   {
    "duration": 10,
    "start_time": "2024-06-07T20:00:07.031Z"
   },
   {
    "duration": 66,
    "start_time": "2024-06-07T20:00:07.043Z"
   },
   {
    "duration": 5,
    "start_time": "2024-06-07T20:00:07.112Z"
   },
   {
    "duration": 18,
    "start_time": "2024-06-07T20:00:07.121Z"
   },
   {
    "duration": 57,
    "start_time": "2024-06-07T20:00:07.145Z"
   },
   {
    "duration": 18,
    "start_time": "2024-06-07T20:00:07.206Z"
   },
   {
    "duration": 29,
    "start_time": "2024-06-07T20:00:07.227Z"
   },
   {
    "duration": 107,
    "start_time": "2024-06-07T20:00:07.290Z"
   },
   {
    "duration": 8,
    "start_time": "2024-06-07T20:00:07.399Z"
   },
   {
    "duration": 30,
    "start_time": "2024-06-07T20:00:07.410Z"
   },
   {
    "duration": 52,
    "start_time": "2024-06-07T20:00:07.443Z"
   },
   {
    "duration": 13,
    "start_time": "2024-06-07T20:00:07.498Z"
   },
   {
    "duration": 29,
    "start_time": "2024-06-07T20:00:07.514Z"
   },
   {
    "duration": 85,
    "start_time": "2024-06-07T20:00:07.546Z"
   },
   {
    "duration": 15,
    "start_time": "2024-06-07T20:00:07.634Z"
   },
   {
    "duration": 17,
    "start_time": "2024-06-07T20:00:07.651Z"
   },
   {
    "duration": 23,
    "start_time": "2024-06-07T20:00:07.691Z"
   },
   {
    "duration": 16,
    "start_time": "2024-06-07T20:00:07.717Z"
   },
   {
    "duration": 63,
    "start_time": "2024-06-07T20:00:07.741Z"
   },
   {
    "duration": 90,
    "start_time": "2024-06-07T20:00:07.807Z"
   },
   {
    "duration": 18,
    "start_time": "2024-06-07T20:00:07.900Z"
   },
   {
    "duration": 38,
    "start_time": "2024-06-07T20:00:07.921Z"
   },
   {
    "duration": 15,
    "start_time": "2024-06-07T20:00:07.990Z"
   },
   {
    "duration": 81,
    "start_time": "2024-06-07T20:00:08.008Z"
   },
   {
    "duration": 20,
    "start_time": "2024-06-07T20:00:08.092Z"
   },
   {
    "duration": 36,
    "start_time": "2024-06-07T20:00:08.114Z"
   },
   {
    "duration": 81,
    "start_time": "2024-06-07T20:00:08.154Z"
   },
   {
    "duration": 67,
    "start_time": "2024-06-07T20:00:08.238Z"
   },
   {
    "duration": 39,
    "start_time": "2024-06-07T20:00:08.308Z"
   },
   {
    "duration": 40,
    "start_time": "2024-06-07T20:00:08.350Z"
   },
   {
    "duration": 25,
    "start_time": "2024-06-07T20:00:08.393Z"
   },
   {
    "duration": 25,
    "start_time": "2024-06-07T20:00:08.421Z"
   },
   {
    "duration": 74,
    "start_time": "2024-06-07T20:00:08.449Z"
   },
   {
    "duration": 201,
    "start_time": "2024-06-07T20:00:08.526Z"
   },
   {
    "duration": 401,
    "start_time": "2024-06-07T20:00:08.730Z"
   },
   {
    "duration": 426,
    "start_time": "2024-06-07T20:00:09.134Z"
   },
   {
    "duration": 4,
    "start_time": "2024-06-07T20:00:09.564Z"
   },
   {
    "duration": 19,
    "start_time": "2024-06-07T20:00:09.571Z"
   },
   {
    "duration": 3,
    "start_time": "2024-06-07T20:00:09.594Z"
   },
   {
    "duration": 3,
    "start_time": "2024-06-07T20:00:09.601Z"
   },
   {
    "duration": 3,
    "start_time": "2024-06-07T20:00:09.608Z"
   },
   {
    "duration": 4,
    "start_time": "2024-06-07T20:00:09.614Z"
   },
   {
    "duration": 460,
    "start_time": "2024-06-07T20:01:22.663Z"
   },
   {
    "duration": 1113,
    "start_time": "2024-06-07T20:03:17.492Z"
   },
   {
    "duration": 414,
    "start_time": "2024-06-07T20:03:37.816Z"
   },
   {
    "duration": 401,
    "start_time": "2024-06-07T20:04:23.322Z"
   },
   {
    "duration": 389,
    "start_time": "2024-06-07T20:05:26.101Z"
   },
   {
    "duration": 399,
    "start_time": "2024-06-07T20:06:18.691Z"
   },
   {
    "duration": 385,
    "start_time": "2024-06-07T20:27:36.242Z"
   },
   {
    "duration": 336,
    "start_time": "2024-06-07T20:28:00.719Z"
   },
   {
    "duration": 5,
    "start_time": "2024-06-07T21:23:46.078Z"
   },
   {
    "duration": 7,
    "start_time": "2024-06-07T21:23:55.568Z"
   },
   {
    "duration": 8,
    "start_time": "2024-06-07T21:26:51.646Z"
   },
   {
    "duration": 23,
    "start_time": "2024-06-07T21:27:48.836Z"
   },
   {
    "duration": 776,
    "start_time": "2024-06-07T21:31:58.553Z"
   },
   {
    "duration": 16,
    "start_time": "2024-06-07T21:33:40.156Z"
   },
   {
    "duration": 702,
    "start_time": "2024-06-07T21:35:11.042Z"
   },
   {
    "duration": 1278,
    "start_time": "2024-06-07T21:37:27.660Z"
   },
   {
    "duration": 289,
    "start_time": "2024-06-07T21:37:28.943Z"
   },
   {
    "duration": 18,
    "start_time": "2024-06-07T21:37:29.235Z"
   },
   {
    "duration": 18,
    "start_time": "2024-06-07T21:37:29.256Z"
   },
   {
    "duration": 16,
    "start_time": "2024-06-07T21:37:29.291Z"
   },
   {
    "duration": 18,
    "start_time": "2024-06-07T21:37:29.310Z"
   },
   {
    "duration": 10,
    "start_time": "2024-06-07T21:37:29.330Z"
   },
   {
    "duration": 47,
    "start_time": "2024-06-07T21:37:29.344Z"
   },
   {
    "duration": 17,
    "start_time": "2024-06-07T21:37:29.394Z"
   },
   {
    "duration": 9,
    "start_time": "2024-06-07T21:37:29.418Z"
   },
   {
    "duration": 61,
    "start_time": "2024-06-07T21:37:29.429Z"
   },
   {
    "duration": 5,
    "start_time": "2024-06-07T21:37:29.493Z"
   },
   {
    "duration": 15,
    "start_time": "2024-06-07T21:37:29.502Z"
   },
   {
    "duration": 26,
    "start_time": "2024-06-07T21:37:29.520Z"
   },
   {
    "duration": 58,
    "start_time": "2024-06-07T21:37:29.548Z"
   },
   {
    "duration": 29,
    "start_time": "2024-06-07T21:37:29.609Z"
   },
   {
    "duration": 117,
    "start_time": "2024-06-07T21:37:29.641Z"
   },
   {
    "duration": 7,
    "start_time": "2024-06-07T21:37:29.761Z"
   },
   {
    "duration": 48,
    "start_time": "2024-06-07T21:37:29.771Z"
   },
   {
    "duration": 23,
    "start_time": "2024-06-07T21:37:29.822Z"
   },
   {
    "duration": 43,
    "start_time": "2024-06-07T21:37:29.849Z"
   },
   {
    "duration": 18,
    "start_time": "2024-06-07T21:37:29.895Z"
   },
   {
    "duration": 85,
    "start_time": "2024-06-07T21:37:29.915Z"
   },
   {
    "duration": 14,
    "start_time": "2024-06-07T21:37:30.003Z"
   },
   {
    "duration": 15,
    "start_time": "2024-06-07T21:37:30.020Z"
   },
   {
    "duration": 56,
    "start_time": "2024-06-07T21:37:30.038Z"
   },
   {
    "duration": 20,
    "start_time": "2024-06-07T21:37:30.097Z"
   },
   {
    "duration": 33,
    "start_time": "2024-06-07T21:37:30.127Z"
   },
   {
    "duration": 72,
    "start_time": "2024-06-07T21:37:30.191Z"
   },
   {
    "duration": 35,
    "start_time": "2024-06-07T21:37:30.266Z"
   },
   {
    "duration": 36,
    "start_time": "2024-06-07T21:37:30.306Z"
   },
   {
    "duration": 16,
    "start_time": "2024-06-07T21:37:30.345Z"
   },
   {
    "duration": 54,
    "start_time": "2024-06-07T21:37:30.391Z"
   },
   {
    "duration": 19,
    "start_time": "2024-06-07T21:37:30.448Z"
   },
   {
    "duration": 28,
    "start_time": "2024-06-07T21:37:30.492Z"
   },
   {
    "duration": 44,
    "start_time": "2024-06-07T21:37:30.522Z"
   },
   {
    "duration": 117,
    "start_time": "2024-06-07T21:37:30.590Z"
   },
   {
    "duration": 40,
    "start_time": "2024-06-07T21:37:30.709Z"
   },
   {
    "duration": 15,
    "start_time": "2024-06-07T21:37:30.752Z"
   },
   {
    "duration": 26,
    "start_time": "2024-06-07T21:37:30.790Z"
   },
   {
    "duration": 29,
    "start_time": "2024-06-07T21:37:30.819Z"
   },
   {
    "duration": 70,
    "start_time": "2024-06-07T21:37:30.851Z"
   },
   {
    "duration": 195,
    "start_time": "2024-06-07T21:37:30.924Z"
   },
   {
    "duration": 428,
    "start_time": "2024-06-07T21:37:31.123Z"
   },
   {
    "duration": 344,
    "start_time": "2024-06-07T21:37:31.555Z"
   },
   {
    "duration": 1064,
    "start_time": "2024-06-07T21:37:31.901Z"
   },
   {
    "duration": 0,
    "start_time": "2024-06-07T21:37:32.968Z"
   },
   {
    "duration": 0,
    "start_time": "2024-06-07T21:37:32.971Z"
   },
   {
    "duration": 0,
    "start_time": "2024-06-07T21:37:32.973Z"
   },
   {
    "duration": 0,
    "start_time": "2024-06-07T21:37:32.992Z"
   },
   {
    "duration": 0,
    "start_time": "2024-06-07T21:37:32.995Z"
   },
   {
    "duration": 5,
    "start_time": "2024-06-07T21:43:15.559Z"
   },
   {
    "duration": 25,
    "start_time": "2024-06-07T21:43:24.602Z"
   },
   {
    "duration": 6,
    "start_time": "2024-06-07T21:44:30.237Z"
   },
   {
    "duration": 10,
    "start_time": "2024-06-07T21:44:36.490Z"
   },
   {
    "duration": 12,
    "start_time": "2024-06-07T21:45:01.073Z"
   },
   {
    "duration": 12,
    "start_time": "2024-06-07T21:45:36.637Z"
   },
   {
    "duration": 11,
    "start_time": "2024-06-07T21:45:50.675Z"
   },
   {
    "duration": 9,
    "start_time": "2024-06-07T21:45:58.131Z"
   },
   {
    "duration": 29,
    "start_time": "2024-06-07T21:51:06.593Z"
   },
   {
    "duration": 1266,
    "start_time": "2024-06-07T21:51:28.187Z"
   },
   {
    "duration": 278,
    "start_time": "2024-06-07T21:51:29.457Z"
   },
   {
    "duration": 16,
    "start_time": "2024-06-07T21:51:29.737Z"
   },
   {
    "duration": 17,
    "start_time": "2024-06-07T21:51:29.756Z"
   },
   {
    "duration": 14,
    "start_time": "2024-06-07T21:51:29.793Z"
   },
   {
    "duration": 18,
    "start_time": "2024-06-07T21:51:29.810Z"
   },
   {
    "duration": 10,
    "start_time": "2024-06-07T21:51:29.831Z"
   },
   {
    "duration": 46,
    "start_time": "2024-06-07T21:51:29.844Z"
   },
   {
    "duration": 16,
    "start_time": "2024-06-07T21:51:29.893Z"
   },
   {
    "duration": 9,
    "start_time": "2024-06-07T21:51:29.912Z"
   },
   {
    "duration": 21,
    "start_time": "2024-06-07T21:51:29.924Z"
   },
   {
    "duration": 44,
    "start_time": "2024-06-07T21:51:29.948Z"
   },
   {
    "duration": 16,
    "start_time": "2024-06-07T21:51:29.995Z"
   },
   {
    "duration": 25,
    "start_time": "2024-06-07T21:51:30.018Z"
   },
   {
    "duration": 54,
    "start_time": "2024-06-07T21:51:30.046Z"
   },
   {
    "duration": 33,
    "start_time": "2024-06-07T21:51:30.102Z"
   },
   {
    "duration": 120,
    "start_time": "2024-06-07T21:51:30.141Z"
   },
   {
    "duration": 7,
    "start_time": "2024-06-07T21:51:30.263Z"
   },
   {
    "duration": 42,
    "start_time": "2024-06-07T21:51:30.273Z"
   },
   {
    "duration": 20,
    "start_time": "2024-06-07T21:51:30.319Z"
   },
   {
    "duration": 48,
    "start_time": "2024-06-07T21:51:30.342Z"
   },
   {
    "duration": 18,
    "start_time": "2024-06-07T21:51:30.394Z"
   },
   {
    "duration": 76,
    "start_time": "2024-06-07T21:51:30.415Z"
   },
   {
    "duration": 16,
    "start_time": "2024-06-07T21:51:30.494Z"
   },
   {
    "duration": 15,
    "start_time": "2024-06-07T21:51:30.512Z"
   },
   {
    "duration": 23,
    "start_time": "2024-06-07T21:51:30.530Z"
   },
   {
    "duration": 17,
    "start_time": "2024-06-07T21:51:30.591Z"
   },
   {
    "duration": 32,
    "start_time": "2024-06-07T21:51:30.612Z"
   },
   {
    "duration": 110,
    "start_time": "2024-06-07T21:51:30.647Z"
   },
   {
    "duration": 34,
    "start_time": "2024-06-07T21:51:30.760Z"
   },
   {
    "duration": 35,
    "start_time": "2024-06-07T21:51:30.797Z"
   },
   {
    "duration": 13,
    "start_time": "2024-06-07T21:51:30.835Z"
   },
   {
    "duration": 86,
    "start_time": "2024-06-07T21:51:30.851Z"
   },
   {
    "duration": 21,
    "start_time": "2024-06-07T21:51:30.940Z"
   },
   {
    "duration": 43,
    "start_time": "2024-06-07T21:51:30.964Z"
   },
   {
    "duration": 44,
    "start_time": "2024-06-07T21:51:31.010Z"
   },
   {
    "duration": 138,
    "start_time": "2024-06-07T21:51:31.057Z"
   },
   {
    "duration": 40,
    "start_time": "2024-06-07T21:51:31.198Z"
   },
   {
    "duration": 10,
    "start_time": "2024-06-07T21:51:31.241Z"
   },
   {
    "duration": 55,
    "start_time": "2024-06-07T21:51:31.254Z"
   },
   {
    "duration": 25,
    "start_time": "2024-06-07T21:51:31.317Z"
   },
   {
    "duration": 62,
    "start_time": "2024-06-07T21:51:31.345Z"
   },
   {
    "duration": 196,
    "start_time": "2024-06-07T21:51:31.410Z"
   },
   {
    "duration": 404,
    "start_time": "2024-06-07T21:51:31.610Z"
   },
   {
    "duration": 360,
    "start_time": "2024-06-07T21:51:32.017Z"
   },
   {
    "duration": 14,
    "start_time": "2024-06-07T21:51:32.380Z"
   },
   {
    "duration": 10,
    "start_time": "2024-06-07T21:51:32.397Z"
   },
   {
    "duration": 36,
    "start_time": "2024-06-07T21:51:32.409Z"
   },
   {
    "duration": 46,
    "start_time": "2024-06-07T21:51:32.447Z"
   },
   {
    "duration": 0,
    "start_time": "2024-06-07T21:51:32.496Z"
   },
   {
    "duration": 0,
    "start_time": "2024-06-07T21:51:32.499Z"
   },
   {
    "duration": 1,
    "start_time": "2024-06-07T21:51:32.509Z"
   },
   {
    "duration": 0,
    "start_time": "2024-06-07T21:51:32.512Z"
   },
   {
    "duration": 10,
    "start_time": "2024-06-07T21:52:33.652Z"
   },
   {
    "duration": 3,
    "start_time": "2024-06-07T21:53:40.827Z"
   },
   {
    "duration": 501,
    "start_time": "2024-06-07T21:53:44.468Z"
   },
   {
    "duration": 13,
    "start_time": "2024-06-07T21:55:47.456Z"
   },
   {
    "duration": 6,
    "start_time": "2024-06-07T22:00:10.992Z"
   },
   {
    "duration": 28,
    "start_time": "2024-06-07T22:00:15.747Z"
   },
   {
    "duration": 10,
    "start_time": "2024-06-07T22:00:18.561Z"
   },
   {
    "duration": 27,
    "start_time": "2024-06-07T22:00:33.337Z"
   },
   {
    "duration": 13,
    "start_time": "2024-06-07T22:00:48.662Z"
   },
   {
    "duration": 13,
    "start_time": "2024-06-07T22:01:09.754Z"
   },
   {
    "duration": 5,
    "start_time": "2024-06-07T22:01:27.113Z"
   },
   {
    "duration": 11,
    "start_time": "2024-06-07T22:01:33.278Z"
   },
   {
    "duration": 659,
    "start_time": "2024-06-07T22:03:31.538Z"
   },
   {
    "duration": 430,
    "start_time": "2024-06-07T22:04:34.255Z"
   },
   {
    "duration": 410,
    "start_time": "2024-06-07T22:04:54.011Z"
   },
   {
    "duration": 567,
    "start_time": "2024-06-07T22:05:10.675Z"
   },
   {
    "duration": 427,
    "start_time": "2024-06-07T22:05:18.798Z"
   },
   {
    "duration": 31,
    "start_time": "2024-06-07T22:13:29.694Z"
   },
   {
    "duration": 18,
    "start_time": "2024-06-07T22:13:52.452Z"
   },
   {
    "duration": 440,
    "start_time": "2024-06-07T22:14:40.906Z"
   },
   {
    "duration": 407,
    "start_time": "2024-06-07T22:15:35.130Z"
   },
   {
    "duration": 400,
    "start_time": "2024-06-07T22:16:13.551Z"
   },
   {
    "duration": 15,
    "start_time": "2024-06-07T22:18:18.815Z"
   },
   {
    "duration": 16,
    "start_time": "2024-06-07T22:20:48.833Z"
   },
   {
    "duration": 17,
    "start_time": "2024-06-07T22:21:22.530Z"
   },
   {
    "duration": 17,
    "start_time": "2024-06-07T22:21:39.680Z"
   },
   {
    "duration": 1315,
    "start_time": "2024-06-07T22:21:46.129Z"
   },
   {
    "duration": 275,
    "start_time": "2024-06-07T22:21:47.447Z"
   },
   {
    "duration": 15,
    "start_time": "2024-06-07T22:21:47.725Z"
   },
   {
    "duration": 18,
    "start_time": "2024-06-07T22:21:47.746Z"
   },
   {
    "duration": 35,
    "start_time": "2024-06-07T22:21:47.766Z"
   },
   {
    "duration": 17,
    "start_time": "2024-06-07T22:21:47.804Z"
   },
   {
    "duration": 11,
    "start_time": "2024-06-07T22:21:47.824Z"
   },
   {
    "duration": 9,
    "start_time": "2024-06-07T22:21:47.839Z"
   },
   {
    "duration": 16,
    "start_time": "2024-06-07T22:21:47.892Z"
   },
   {
    "duration": 10,
    "start_time": "2024-06-07T22:21:47.915Z"
   },
   {
    "duration": 63,
    "start_time": "2024-06-07T22:21:47.928Z"
   },
   {
    "duration": 5,
    "start_time": "2024-06-07T22:21:47.994Z"
   },
   {
    "duration": 16,
    "start_time": "2024-06-07T22:21:48.002Z"
   },
   {
    "duration": 26,
    "start_time": "2024-06-07T22:21:48.021Z"
   },
   {
    "duration": 55,
    "start_time": "2024-06-07T22:21:48.050Z"
   },
   {
    "duration": 32,
    "start_time": "2024-06-07T22:21:48.108Z"
   },
   {
    "duration": 120,
    "start_time": "2024-06-07T22:21:48.143Z"
   },
   {
    "duration": 8,
    "start_time": "2024-06-07T22:21:48.266Z"
   },
   {
    "duration": 31,
    "start_time": "2024-06-07T22:21:48.291Z"
   },
   {
    "duration": 26,
    "start_time": "2024-06-07T22:21:48.325Z"
   },
   {
    "duration": 44,
    "start_time": "2024-06-07T22:21:48.353Z"
   },
   {
    "duration": 18,
    "start_time": "2024-06-07T22:21:48.400Z"
   },
   {
    "duration": 79,
    "start_time": "2024-06-07T22:21:48.421Z"
   },
   {
    "duration": 15,
    "start_time": "2024-06-07T22:21:48.503Z"
   },
   {
    "duration": 17,
    "start_time": "2024-06-07T22:21:48.520Z"
   },
   {
    "duration": 58,
    "start_time": "2024-06-07T22:21:48.543Z"
   },
   {
    "duration": 16,
    "start_time": "2024-06-07T22:21:48.604Z"
   },
   {
    "duration": 31,
    "start_time": "2024-06-07T22:21:48.628Z"
   },
   {
    "duration": 99,
    "start_time": "2024-06-07T22:21:48.662Z"
   },
   {
    "duration": 34,
    "start_time": "2024-06-07T22:21:48.764Z"
   },
   {
    "duration": 35,
    "start_time": "2024-06-07T22:21:48.800Z"
   },
   {
    "duration": 13,
    "start_time": "2024-06-07T22:21:48.838Z"
   },
   {
    "duration": 94,
    "start_time": "2024-06-07T22:21:48.854Z"
   },
   {
    "duration": 38,
    "start_time": "2024-06-07T22:21:48.952Z"
   },
   {
    "duration": 28,
    "start_time": "2024-06-07T22:21:48.994Z"
   },
   {
    "duration": 69,
    "start_time": "2024-06-07T22:21:49.025Z"
   },
   {
    "duration": 118,
    "start_time": "2024-06-07T22:21:49.098Z"
   },
   {
    "duration": 41,
    "start_time": "2024-06-07T22:21:49.220Z"
   },
   {
    "duration": 34,
    "start_time": "2024-06-07T22:21:49.264Z"
   },
   {
    "duration": 23,
    "start_time": "2024-06-07T22:21:49.301Z"
   },
   {
    "duration": 27,
    "start_time": "2024-06-07T22:21:49.327Z"
   },
   {
    "duration": 42,
    "start_time": "2024-06-07T22:21:49.392Z"
   },
   {
    "duration": 209,
    "start_time": "2024-06-07T22:21:49.437Z"
   },
   {
    "duration": 415,
    "start_time": "2024-06-07T22:21:49.650Z"
   },
   {
    "duration": 372,
    "start_time": "2024-06-07T22:21:50.068Z"
   },
   {
    "duration": 432,
    "start_time": "2024-06-07T22:21:50.443Z"
   },
   {
    "duration": 0,
    "start_time": "2024-06-07T22:21:50.879Z"
   },
   {
    "duration": 0,
    "start_time": "2024-06-07T22:21:50.881Z"
   },
   {
    "duration": 0,
    "start_time": "2024-06-07T22:21:50.890Z"
   },
   {
    "duration": 0,
    "start_time": "2024-06-07T22:21:50.893Z"
   },
   {
    "duration": 0,
    "start_time": "2024-06-07T22:21:50.896Z"
   },
   {
    "duration": 0,
    "start_time": "2024-06-07T22:21:50.898Z"
   },
   {
    "duration": 0,
    "start_time": "2024-06-07T22:21:50.899Z"
   },
   {
    "duration": 0,
    "start_time": "2024-06-07T22:21:50.902Z"
   },
   {
    "duration": 15,
    "start_time": "2024-06-07T22:21:57.267Z"
   },
   {
    "duration": 16,
    "start_time": "2024-06-07T22:21:58.601Z"
   },
   {
    "duration": 392,
    "start_time": "2024-06-07T22:21:59.138Z"
   },
   {
    "duration": 15,
    "start_time": "2024-06-07T22:21:59.534Z"
   },
   {
    "duration": 16,
    "start_time": "2024-06-07T22:21:59.669Z"
   },
   {
    "duration": 458,
    "start_time": "2024-06-07T22:22:21.218Z"
   },
   {
    "duration": 413,
    "start_time": "2024-06-07T22:26:22.601Z"
   },
   {
    "duration": 402,
    "start_time": "2024-06-07T22:26:27.021Z"
   },
   {
    "duration": 396,
    "start_time": "2024-06-07T22:26:41.969Z"
   },
   {
    "duration": 49,
    "start_time": "2024-06-07T22:35:00.839Z"
   },
   {
    "duration": 1353,
    "start_time": "2024-06-07T22:36:33.775Z"
   },
   {
    "duration": 293,
    "start_time": "2024-06-07T22:36:35.131Z"
   },
   {
    "duration": 17,
    "start_time": "2024-06-07T22:36:35.426Z"
   },
   {
    "duration": 16,
    "start_time": "2024-06-07T22:36:35.447Z"
   },
   {
    "duration": 38,
    "start_time": "2024-06-07T22:36:35.466Z"
   },
   {
    "duration": 18,
    "start_time": "2024-06-07T22:36:35.508Z"
   },
   {
    "duration": 11,
    "start_time": "2024-06-07T22:36:35.530Z"
   },
   {
    "duration": 49,
    "start_time": "2024-06-07T22:36:35.545Z"
   },
   {
    "duration": 19,
    "start_time": "2024-06-07T22:36:35.597Z"
   },
   {
    "duration": 10,
    "start_time": "2024-06-07T22:36:35.622Z"
   },
   {
    "duration": 59,
    "start_time": "2024-06-07T22:36:35.635Z"
   },
   {
    "duration": 5,
    "start_time": "2024-06-07T22:36:35.697Z"
   },
   {
    "duration": 15,
    "start_time": "2024-06-07T22:36:35.706Z"
   },
   {
    "duration": 66,
    "start_time": "2024-06-07T22:36:35.725Z"
   },
   {
    "duration": 18,
    "start_time": "2024-06-07T22:36:35.795Z"
   },
   {
    "duration": 33,
    "start_time": "2024-06-07T22:36:35.816Z"
   },
   {
    "duration": 130,
    "start_time": "2024-06-07T22:36:35.852Z"
   },
   {
    "duration": 8,
    "start_time": "2024-06-07T22:36:35.992Z"
   },
   {
    "duration": 36,
    "start_time": "2024-06-07T22:36:36.003Z"
   },
   {
    "duration": 59,
    "start_time": "2024-06-07T22:36:36.042Z"
   },
   {
    "duration": 14,
    "start_time": "2024-06-07T22:36:36.105Z"
   },
   {
    "duration": 20,
    "start_time": "2024-06-07T22:36:36.122Z"
   },
   {
    "duration": 93,
    "start_time": "2024-06-07T22:36:36.145Z"
   },
   {
    "duration": 15,
    "start_time": "2024-06-07T22:36:36.241Z"
   },
   {
    "duration": 41,
    "start_time": "2024-06-07T22:36:36.260Z"
   },
   {
    "duration": 23,
    "start_time": "2024-06-07T22:36:36.304Z"
   },
   {
    "duration": 17,
    "start_time": "2024-06-07T22:36:36.330Z"
   },
   {
    "duration": 70,
    "start_time": "2024-06-07T22:36:36.355Z"
   },
   {
    "duration": 94,
    "start_time": "2024-06-07T22:36:36.429Z"
   },
   {
    "duration": 18,
    "start_time": "2024-06-07T22:36:36.526Z"
   },
   {
    "duration": 62,
    "start_time": "2024-06-07T22:36:36.547Z"
   },
   {
    "duration": 12,
    "start_time": "2024-06-07T22:36:36.612Z"
   },
   {
    "duration": 77,
    "start_time": "2024-06-07T22:36:36.628Z"
   },
   {
    "duration": 21,
    "start_time": "2024-06-07T22:36:36.708Z"
   },
   {
    "duration": 58,
    "start_time": "2024-06-07T22:36:36.732Z"
   },
   {
    "duration": 47,
    "start_time": "2024-06-07T22:36:36.793Z"
   },
   {
    "duration": 129,
    "start_time": "2024-06-07T22:36:36.842Z"
   },
   {
    "duration": 60,
    "start_time": "2024-06-07T22:36:36.974Z"
   },
   {
    "duration": 9,
    "start_time": "2024-06-07T22:36:37.037Z"
   },
   {
    "duration": 56,
    "start_time": "2024-06-07T22:36:37.049Z"
   },
   {
    "duration": 26,
    "start_time": "2024-06-07T22:36:37.108Z"
   },
   {
    "duration": 61,
    "start_time": "2024-06-07T22:36:37.137Z"
   },
   {
    "duration": 204,
    "start_time": "2024-06-07T22:36:37.201Z"
   },
   {
    "duration": 420,
    "start_time": "2024-06-07T22:36:37.408Z"
   },
   {
    "duration": 362,
    "start_time": "2024-06-07T22:36:37.831Z"
   },
   {
    "duration": 17,
    "start_time": "2024-06-07T22:36:38.196Z"
   },
   {
    "duration": 16,
    "start_time": "2024-06-07T22:36:38.218Z"
   },
   {
    "duration": 437,
    "start_time": "2024-06-07T22:36:38.237Z"
   },
   {
    "duration": 25,
    "start_time": "2024-06-07T22:36:38.677Z"
   },
   {
    "duration": 17,
    "start_time": "2024-06-07T22:36:38.705Z"
   },
   {
    "duration": 437,
    "start_time": "2024-06-07T22:36:38.725Z"
   },
   {
    "duration": 4,
    "start_time": "2024-06-07T22:36:39.166Z"
   },
   {
    "duration": 19,
    "start_time": "2024-06-07T22:36:39.173Z"
   },
   {
    "duration": 3,
    "start_time": "2024-06-07T22:36:39.195Z"
   },
   {
    "duration": 3,
    "start_time": "2024-06-07T22:36:39.201Z"
   },
   {
    "duration": 45,
    "start_time": "2024-06-07T22:43:35.825Z"
   },
   {
    "duration": 713,
    "start_time": "2024-06-07T22:44:29.321Z"
   },
   {
    "duration": 373,
    "start_time": "2024-06-07T22:44:35.249Z"
   },
   {
    "duration": 377,
    "start_time": "2024-06-07T22:44:49.659Z"
   },
   {
    "duration": 406,
    "start_time": "2024-06-07T22:45:15.037Z"
   },
   {
    "duration": 332,
    "start_time": "2024-06-07T22:47:09.752Z"
   },
   {
    "duration": 8,
    "start_time": "2024-06-07T22:48:35.688Z"
   },
   {
    "duration": 26,
    "start_time": "2024-06-07T22:48:43.031Z"
   },
   {
    "duration": 25,
    "start_time": "2024-06-07T22:48:54.657Z"
   },
   {
    "duration": 26,
    "start_time": "2024-06-07T22:49:50.744Z"
   },
   {
    "duration": 24,
    "start_time": "2024-06-07T22:49:56.716Z"
   },
   {
    "duration": 9,
    "start_time": "2024-06-07T22:50:25.554Z"
   },
   {
    "duration": 415,
    "start_time": "2024-06-07T22:50:39.070Z"
   },
   {
    "duration": 224,
    "start_time": "2024-06-07T22:50:58.450Z"
   },
   {
    "duration": 283,
    "start_time": "2024-06-07T22:51:14.938Z"
   },
   {
    "duration": 318,
    "start_time": "2024-06-07T22:51:25.464Z"
   },
   {
    "duration": 339,
    "start_time": "2024-06-07T22:54:06.874Z"
   },
   {
    "duration": 315,
    "start_time": "2024-06-07T22:54:39.556Z"
   },
   {
    "duration": 363,
    "start_time": "2024-06-07T22:54:55.569Z"
   },
   {
    "duration": 462,
    "start_time": "2024-06-07T22:56:41.260Z"
   },
   {
    "duration": 389,
    "start_time": "2024-06-07T22:56:50.390Z"
   },
   {
    "duration": 388,
    "start_time": "2024-06-07T23:04:40.008Z"
   },
   {
    "duration": 398,
    "start_time": "2024-06-07T23:05:03.577Z"
   },
   {
    "duration": 18,
    "start_time": "2024-06-07T23:06:16.148Z"
   },
   {
    "duration": 17,
    "start_time": "2024-06-07T23:06:53.002Z"
   },
   {
    "duration": 17,
    "start_time": "2024-06-07T23:10:28.319Z"
   },
   {
    "duration": 16,
    "start_time": "2024-06-07T23:11:35.860Z"
   },
   {
    "duration": 19,
    "start_time": "2024-06-07T23:11:37.551Z"
   },
   {
    "duration": 399,
    "start_time": "2024-06-07T23:12:32.014Z"
   },
   {
    "duration": 526,
    "start_time": "2024-06-07T23:13:33.839Z"
   },
   {
    "duration": 428,
    "start_time": "2024-06-07T23:14:35.664Z"
   },
   {
    "duration": 462,
    "start_time": "2024-06-07T23:14:46.309Z"
   },
   {
    "duration": 435,
    "start_time": "2024-06-07T23:14:58.388Z"
   },
   {
    "duration": 45,
    "start_time": "2024-06-07T23:16:03.228Z"
   },
   {
    "duration": 440,
    "start_time": "2024-06-07T23:16:54.558Z"
   },
   {
    "duration": 397,
    "start_time": "2024-06-07T23:24:57.961Z"
   },
   {
    "duration": 1306,
    "start_time": "2024-06-07T23:25:02.656Z"
   },
   {
    "duration": 282,
    "start_time": "2024-06-07T23:25:03.965Z"
   },
   {
    "duration": 15,
    "start_time": "2024-06-07T23:25:04.250Z"
   },
   {
    "duration": 33,
    "start_time": "2024-06-07T23:25:04.269Z"
   },
   {
    "duration": 14,
    "start_time": "2024-06-07T23:25:04.304Z"
   },
   {
    "duration": 17,
    "start_time": "2024-06-07T23:25:04.321Z"
   },
   {
    "duration": 10,
    "start_time": "2024-06-07T23:25:04.340Z"
   },
   {
    "duration": 44,
    "start_time": "2024-06-07T23:25:04.353Z"
   },
   {
    "duration": 16,
    "start_time": "2024-06-07T23:25:04.399Z"
   },
   {
    "duration": 12,
    "start_time": "2024-06-07T23:25:04.422Z"
   },
   {
    "duration": 58,
    "start_time": "2024-06-07T23:25:04.437Z"
   },
   {
    "duration": 5,
    "start_time": "2024-06-07T23:25:04.498Z"
   },
   {
    "duration": 15,
    "start_time": "2024-06-07T23:25:04.507Z"
   },
   {
    "duration": 24,
    "start_time": "2024-06-07T23:25:04.525Z"
   },
   {
    "duration": 19,
    "start_time": "2024-06-07T23:25:04.592Z"
   },
   {
    "duration": 29,
    "start_time": "2024-06-07T23:25:04.614Z"
   },
   {
    "duration": 151,
    "start_time": "2024-06-07T23:25:04.646Z"
   },
   {
    "duration": 9,
    "start_time": "2024-06-07T23:25:04.800Z"
   },
   {
    "duration": 36,
    "start_time": "2024-06-07T23:25:04.819Z"
   },
   {
    "duration": 46,
    "start_time": "2024-06-07T23:25:04.858Z"
   },
   {
    "duration": 13,
    "start_time": "2024-06-07T23:25:04.907Z"
   },
   {
    "duration": 25,
    "start_time": "2024-06-07T23:25:04.923Z"
   },
   {
    "duration": 83,
    "start_time": "2024-06-07T23:25:04.951Z"
   },
   {
    "duration": 15,
    "start_time": "2024-06-07T23:25:05.037Z"
   },
   {
    "duration": 46,
    "start_time": "2024-06-07T23:25:05.055Z"
   },
   {
    "duration": 24,
    "start_time": "2024-06-07T23:25:05.103Z"
   },
   {
    "duration": 16,
    "start_time": "2024-06-07T23:25:05.130Z"
   },
   {
    "duration": 59,
    "start_time": "2024-06-07T23:25:05.157Z"
   },
   {
    "duration": 93,
    "start_time": "2024-06-07T23:25:05.219Z"
   },
   {
    "duration": 17,
    "start_time": "2024-06-07T23:25:05.315Z"
   },
   {
    "duration": 59,
    "start_time": "2024-06-07T23:25:05.335Z"
   },
   {
    "duration": 12,
    "start_time": "2024-06-07T23:25:05.398Z"
   },
   {
    "duration": 77,
    "start_time": "2024-06-07T23:25:05.413Z"
   },
   {
    "duration": 19,
    "start_time": "2024-06-07T23:25:05.493Z"
   },
   {
    "duration": 31,
    "start_time": "2024-06-07T23:25:05.516Z"
   },
   {
    "duration": 72,
    "start_time": "2024-06-07T23:25:05.551Z"
   },
   {
    "duration": 116,
    "start_time": "2024-06-07T23:25:05.625Z"
   },
   {
    "duration": 62,
    "start_time": "2024-06-07T23:25:05.745Z"
   },
   {
    "duration": 9,
    "start_time": "2024-06-07T23:25:05.810Z"
   },
   {
    "duration": 21,
    "start_time": "2024-06-07T23:25:05.825Z"
   },
   {
    "duration": 50,
    "start_time": "2024-06-07T23:25:05.850Z"
   },
   {
    "duration": 34,
    "start_time": "2024-06-07T23:25:05.903Z"
   },
   {
    "duration": 211,
    "start_time": "2024-06-07T23:25:05.940Z"
   },
   {
    "duration": 404,
    "start_time": "2024-06-07T23:25:06.154Z"
   },
   {
    "duration": 345,
    "start_time": "2024-06-07T23:25:06.561Z"
   },
   {
    "duration": 17,
    "start_time": "2024-06-07T23:25:06.910Z"
   },
   {
    "duration": 18,
    "start_time": "2024-06-07T23:25:06.930Z"
   },
   {
    "duration": 442,
    "start_time": "2024-06-07T23:25:06.951Z"
   },
   {
    "duration": 18,
    "start_time": "2024-06-07T23:25:07.396Z"
   },
   {
    "duration": 16,
    "start_time": "2024-06-07T23:25:07.417Z"
   },
   {
    "duration": 425,
    "start_time": "2024-06-07T23:25:07.435Z"
   },
   {
    "duration": 397,
    "start_time": "2024-06-07T23:25:07.864Z"
   },
   {
    "duration": 411,
    "start_time": "2024-06-07T23:25:08.264Z"
   },
   {
    "duration": 404,
    "start_time": "2024-06-07T23:25:08.678Z"
   },
   {
    "duration": 472,
    "start_time": "2024-06-07T23:25:09.085Z"
   },
   {
    "duration": 17,
    "start_time": "2024-06-07T23:25:09.560Z"
   },
   {
    "duration": 18,
    "start_time": "2024-06-07T23:25:09.591Z"
   },
   {
    "duration": 422,
    "start_time": "2024-06-07T23:25:09.612Z"
   },
   {
    "duration": 388,
    "start_time": "2024-06-07T23:25:10.037Z"
   },
   {
    "duration": 64,
    "start_time": "2024-06-07T23:25:10.428Z"
   },
   {
    "duration": 4,
    "start_time": "2024-06-07T23:25:10.496Z"
   },
   {
    "duration": 4,
    "start_time": "2024-06-07T23:25:10.503Z"
   },
   {
    "duration": 393,
    "start_time": "2024-06-07T23:27:15.870Z"
   },
   {
    "duration": 51,
    "start_time": "2024-06-07T23:28:22.548Z"
   },
   {
    "duration": 1275,
    "start_time": "2024-06-07T23:42:28.689Z"
   },
   {
    "duration": 276,
    "start_time": "2024-06-07T23:42:29.968Z"
   },
   {
    "duration": 16,
    "start_time": "2024-06-07T23:42:30.247Z"
   },
   {
    "duration": 34,
    "start_time": "2024-06-07T23:42:30.267Z"
   },
   {
    "duration": 15,
    "start_time": "2024-06-07T23:42:30.304Z"
   },
   {
    "duration": 18,
    "start_time": "2024-06-07T23:42:30.322Z"
   },
   {
    "duration": 10,
    "start_time": "2024-06-07T23:42:30.344Z"
   },
   {
    "duration": 8,
    "start_time": "2024-06-07T23:42:30.392Z"
   },
   {
    "duration": 16,
    "start_time": "2024-06-07T23:42:30.403Z"
   },
   {
    "duration": 10,
    "start_time": "2024-06-07T23:42:30.425Z"
   },
   {
    "duration": 68,
    "start_time": "2024-06-07T23:42:30.438Z"
   },
   {
    "duration": 5,
    "start_time": "2024-06-07T23:42:30.509Z"
   },
   {
    "duration": 16,
    "start_time": "2024-06-07T23:42:30.518Z"
   },
   {
    "duration": 62,
    "start_time": "2024-06-07T23:42:30.537Z"
   },
   {
    "duration": 17,
    "start_time": "2024-06-07T23:42:30.602Z"
   },
   {
    "duration": 29,
    "start_time": "2024-06-07T23:42:30.621Z"
   },
   {
    "duration": 122,
    "start_time": "2024-06-07T23:42:30.653Z"
   },
   {
    "duration": 20,
    "start_time": "2024-06-07T23:42:30.777Z"
   },
   {
    "duration": 31,
    "start_time": "2024-06-07T23:42:30.800Z"
   },
   {
    "duration": 23,
    "start_time": "2024-06-07T23:42:30.834Z"
   },
   {
    "duration": 17,
    "start_time": "2024-06-07T23:42:30.891Z"
   },
   {
    "duration": 19,
    "start_time": "2024-06-07T23:42:30.911Z"
   },
   {
    "duration": 85,
    "start_time": "2024-06-07T23:42:30.933Z"
   },
   {
    "duration": 16,
    "start_time": "2024-06-07T23:42:31.020Z"
   },
   {
    "duration": 15,
    "start_time": "2024-06-07T23:42:31.039Z"
   },
   {
    "duration": 53,
    "start_time": "2024-06-07T23:42:31.057Z"
   },
   {
    "duration": 16,
    "start_time": "2024-06-07T23:42:31.114Z"
   },
   {
    "duration": 58,
    "start_time": "2024-06-07T23:42:31.139Z"
   },
   {
    "duration": 73,
    "start_time": "2024-06-07T23:42:31.201Z"
   },
   {
    "duration": 19,
    "start_time": "2024-06-07T23:42:31.292Z"
   },
   {
    "duration": 35,
    "start_time": "2024-06-07T23:42:31.314Z"
   },
   {
    "duration": 40,
    "start_time": "2024-06-07T23:42:31.352Z"
   },
   {
    "duration": 55,
    "start_time": "2024-06-07T23:42:31.395Z"
   },
   {
    "duration": 47,
    "start_time": "2024-06-07T23:42:31.453Z"
   },
   {
    "duration": 26,
    "start_time": "2024-06-07T23:42:31.503Z"
   },
   {
    "duration": 68,
    "start_time": "2024-06-07T23:42:31.533Z"
   },
   {
    "duration": 114,
    "start_time": "2024-06-07T23:42:31.604Z"
   },
   {
    "duration": 47,
    "start_time": "2024-06-07T23:42:31.721Z"
   },
   {
    "duration": 9,
    "start_time": "2024-06-07T23:42:31.791Z"
   },
   {
    "duration": 23,
    "start_time": "2024-06-07T23:42:31.802Z"
   },
   {
    "duration": 25,
    "start_time": "2024-06-07T23:42:31.828Z"
   },
   {
    "duration": 35,
    "start_time": "2024-06-07T23:42:31.891Z"
   },
   {
    "duration": 9,
    "start_time": "2024-06-07T23:42:31.929Z"
   },
   {
    "duration": 0,
    "start_time": "2024-06-07T23:42:31.941Z"
   },
   {
    "duration": 0,
    "start_time": "2024-06-07T23:42:31.943Z"
   },
   {
    "duration": 0,
    "start_time": "2024-06-07T23:42:31.945Z"
   },
   {
    "duration": 0,
    "start_time": "2024-06-07T23:42:31.946Z"
   },
   {
    "duration": 0,
    "start_time": "2024-06-07T23:42:31.948Z"
   },
   {
    "duration": 0,
    "start_time": "2024-06-07T23:42:31.950Z"
   },
   {
    "duration": 0,
    "start_time": "2024-06-07T23:42:31.991Z"
   },
   {
    "duration": 0,
    "start_time": "2024-06-07T23:42:31.994Z"
   },
   {
    "duration": 0,
    "start_time": "2024-06-07T23:42:31.997Z"
   },
   {
    "duration": 0,
    "start_time": "2024-06-07T23:42:31.999Z"
   },
   {
    "duration": 0,
    "start_time": "2024-06-07T23:42:32.000Z"
   },
   {
    "duration": 0,
    "start_time": "2024-06-07T23:42:32.003Z"
   },
   {
    "duration": 0,
    "start_time": "2024-06-07T23:42:32.006Z"
   },
   {
    "duration": 0,
    "start_time": "2024-06-07T23:42:32.008Z"
   },
   {
    "duration": 0,
    "start_time": "2024-06-07T23:42:32.011Z"
   },
   {
    "duration": 0,
    "start_time": "2024-06-07T23:42:32.013Z"
   },
   {
    "duration": 0,
    "start_time": "2024-06-07T23:42:32.015Z"
   },
   {
    "duration": 0,
    "start_time": "2024-06-07T23:42:32.018Z"
   },
   {
    "duration": 0,
    "start_time": "2024-06-07T23:42:32.024Z"
   },
   {
    "duration": 0,
    "start_time": "2024-06-07T23:42:32.026Z"
   },
   {
    "duration": 197,
    "start_time": "2024-06-07T23:44:57.211Z"
   },
   {
    "duration": 1426,
    "start_time": "2024-06-07T23:45:15.223Z"
   },
   {
    "duration": 287,
    "start_time": "2024-06-07T23:45:16.653Z"
   },
   {
    "duration": 17,
    "start_time": "2024-06-07T23:45:16.942Z"
   },
   {
    "duration": 33,
    "start_time": "2024-06-07T23:45:16.965Z"
   },
   {
    "duration": 15,
    "start_time": "2024-06-07T23:45:17.000Z"
   },
   {
    "duration": 17,
    "start_time": "2024-06-07T23:45:17.018Z"
   },
   {
    "duration": 11,
    "start_time": "2024-06-07T23:45:17.038Z"
   },
   {
    "duration": 8,
    "start_time": "2024-06-07T23:45:17.091Z"
   },
   {
    "duration": 18,
    "start_time": "2024-06-07T23:45:17.103Z"
   },
   {
    "duration": 9,
    "start_time": "2024-06-07T23:45:17.128Z"
   },
   {
    "duration": 58,
    "start_time": "2024-06-07T23:45:17.141Z"
   },
   {
    "duration": 5,
    "start_time": "2024-06-07T23:45:17.202Z"
   },
   {
    "duration": 17,
    "start_time": "2024-06-07T23:45:17.211Z"
   },
   {
    "duration": 62,
    "start_time": "2024-06-07T23:45:17.232Z"
   },
   {
    "duration": 17,
    "start_time": "2024-06-07T23:45:17.298Z"
   },
   {
    "duration": 30,
    "start_time": "2024-06-07T23:45:17.318Z"
   },
   {
    "duration": 124,
    "start_time": "2024-06-07T23:45:17.350Z"
   },
   {
    "duration": 19,
    "start_time": "2024-06-07T23:45:17.476Z"
   },
   {
    "duration": 32,
    "start_time": "2024-06-07T23:45:17.499Z"
   },
   {
    "duration": 22,
    "start_time": "2024-06-07T23:45:17.534Z"
   },
   {
    "duration": 13,
    "start_time": "2024-06-07T23:45:17.591Z"
   },
   {
    "duration": 17,
    "start_time": "2024-06-07T23:45:17.607Z"
   },
   {
    "duration": 83,
    "start_time": "2024-06-07T23:45:17.627Z"
   },
   {
    "duration": 14,
    "start_time": "2024-06-07T23:45:17.713Z"
   },
   {
    "duration": 16,
    "start_time": "2024-06-07T23:45:17.730Z"
   },
   {
    "duration": 59,
    "start_time": "2024-06-07T23:45:17.749Z"
   },
   {
    "duration": 18,
    "start_time": "2024-06-07T23:45:17.812Z"
   },
   {
    "duration": 58,
    "start_time": "2024-06-07T23:45:17.840Z"
   },
   {
    "duration": 73,
    "start_time": "2024-06-07T23:45:17.901Z"
   },
   {
    "duration": 16,
    "start_time": "2024-06-07T23:45:17.992Z"
   },
   {
    "duration": 34,
    "start_time": "2024-06-07T23:45:18.011Z"
   },
   {
    "duration": 13,
    "start_time": "2024-06-07T23:45:18.048Z"
   },
   {
    "duration": 56,
    "start_time": "2024-06-07T23:45:18.092Z"
   },
   {
    "duration": 48,
    "start_time": "2024-06-07T23:45:18.151Z"
   },
   {
    "duration": 27,
    "start_time": "2024-06-07T23:45:18.202Z"
   },
   {
    "duration": 67,
    "start_time": "2024-06-07T23:45:18.232Z"
   },
   {
    "duration": 117,
    "start_time": "2024-06-07T23:45:18.302Z"
   },
   {
    "duration": 41,
    "start_time": "2024-06-07T23:45:18.421Z"
   },
   {
    "duration": 26,
    "start_time": "2024-06-07T23:45:18.465Z"
   },
   {
    "duration": 24,
    "start_time": "2024-06-07T23:45:18.495Z"
   },
   {
    "duration": 26,
    "start_time": "2024-06-07T23:45:18.522Z"
   },
   {
    "duration": 71,
    "start_time": "2024-06-07T23:45:18.550Z"
   },
   {
    "duration": 226,
    "start_time": "2024-06-07T23:45:18.623Z"
   },
   {
    "duration": 402,
    "start_time": "2024-06-07T23:45:18.855Z"
   },
   {
    "duration": 352,
    "start_time": "2024-06-07T23:45:19.260Z"
   },
   {
    "duration": 16,
    "start_time": "2024-06-07T23:45:19.615Z"
   },
   {
    "duration": 17,
    "start_time": "2024-06-07T23:45:19.634Z"
   },
   {
    "duration": 461,
    "start_time": "2024-06-07T23:45:19.654Z"
   },
   {
    "duration": 17,
    "start_time": "2024-06-07T23:45:20.119Z"
   },
   {
    "duration": 16,
    "start_time": "2024-06-07T23:45:20.140Z"
   },
   {
    "duration": 439,
    "start_time": "2024-06-07T23:45:20.159Z"
   },
   {
    "duration": 439,
    "start_time": "2024-06-07T23:45:20.601Z"
   },
   {
    "duration": 415,
    "start_time": "2024-06-07T23:45:21.043Z"
   },
   {
    "duration": 423,
    "start_time": "2024-06-07T23:45:21.461Z"
   },
   {
    "duration": 476,
    "start_time": "2024-06-07T23:45:21.892Z"
   },
   {
    "duration": 26,
    "start_time": "2024-06-07T23:45:22.372Z"
   },
   {
    "duration": 19,
    "start_time": "2024-06-07T23:45:22.400Z"
   },
   {
    "duration": 476,
    "start_time": "2024-06-07T23:45:22.422Z"
   },
   {
    "duration": 426,
    "start_time": "2024-06-07T23:45:22.901Z"
   },
   {
    "duration": 46,
    "start_time": "2024-06-07T23:45:23.330Z"
   },
   {
    "duration": 431,
    "start_time": "2024-06-07T23:45:23.393Z"
   },
   {
    "duration": 5,
    "start_time": "2024-06-07T23:45:23.827Z"
   },
   {
    "duration": 4,
    "start_time": "2024-06-07T23:45:23.835Z"
   },
   {
    "duration": 1284,
    "start_time": "2024-06-07T23:49:05.672Z"
   },
   {
    "duration": 276,
    "start_time": "2024-06-07T23:49:06.959Z"
   },
   {
    "duration": 16,
    "start_time": "2024-06-07T23:49:07.238Z"
   },
   {
    "duration": 36,
    "start_time": "2024-06-07T23:49:07.258Z"
   },
   {
    "duration": 15,
    "start_time": "2024-06-07T23:49:07.297Z"
   },
   {
    "duration": 17,
    "start_time": "2024-06-07T23:49:07.315Z"
   },
   {
    "duration": 10,
    "start_time": "2024-06-07T23:49:07.335Z"
   },
   {
    "duration": 45,
    "start_time": "2024-06-07T23:49:07.348Z"
   },
   {
    "duration": 16,
    "start_time": "2024-06-07T23:49:07.396Z"
   },
   {
    "duration": 9,
    "start_time": "2024-06-07T23:49:07.419Z"
   },
   {
    "duration": 63,
    "start_time": "2024-06-07T23:49:07.431Z"
   },
   {
    "duration": 5,
    "start_time": "2024-06-07T23:49:07.497Z"
   },
   {
    "duration": 16,
    "start_time": "2024-06-07T23:49:07.505Z"
   },
   {
    "duration": 26,
    "start_time": "2024-06-07T23:49:07.525Z"
   },
   {
    "duration": 18,
    "start_time": "2024-06-07T23:49:07.590Z"
   },
   {
    "duration": 30,
    "start_time": "2024-06-07T23:49:07.611Z"
   },
   {
    "duration": 127,
    "start_time": "2024-06-07T23:49:07.644Z"
   },
   {
    "duration": 16,
    "start_time": "2024-06-07T23:49:07.774Z"
   },
   {
    "duration": 33,
    "start_time": "2024-06-07T23:49:07.793Z"
   },
   {
    "duration": 23,
    "start_time": "2024-06-07T23:49:07.829Z"
   },
   {
    "duration": 44,
    "start_time": "2024-06-07T23:49:07.855Z"
   },
   {
    "duration": 22,
    "start_time": "2024-06-07T23:49:07.901Z"
   },
   {
    "duration": 82,
    "start_time": "2024-06-07T23:49:07.926Z"
   },
   {
    "duration": 15,
    "start_time": "2024-06-07T23:49:08.011Z"
   },
   {
    "duration": 15,
    "start_time": "2024-06-07T23:49:08.029Z"
   },
   {
    "duration": 59,
    "start_time": "2024-06-07T23:49:08.047Z"
   },
   {
    "duration": 15,
    "start_time": "2024-06-07T23:49:08.109Z"
   },
   {
    "duration": 55,
    "start_time": "2024-06-07T23:49:08.135Z"
   },
   {
    "duration": 82,
    "start_time": "2024-06-07T23:49:08.193Z"
   },
   {
    "duration": 29,
    "start_time": "2024-06-07T23:49:08.277Z"
   },
   {
    "duration": 34,
    "start_time": "2024-06-07T23:49:08.311Z"
   },
   {
    "duration": 42,
    "start_time": "2024-06-07T23:49:08.348Z"
   },
   {
    "duration": 55,
    "start_time": "2024-06-07T23:49:08.393Z"
   },
   {
    "duration": 43,
    "start_time": "2024-06-07T23:49:08.451Z"
   },
   {
    "duration": 29,
    "start_time": "2024-06-07T23:49:08.496Z"
   },
   {
    "duration": 68,
    "start_time": "2024-06-07T23:49:08.528Z"
   },
   {
    "duration": 116,
    "start_time": "2024-06-07T23:49:08.599Z"
   },
   {
    "duration": 42,
    "start_time": "2024-06-07T23:49:08.718Z"
   },
   {
    "duration": 30,
    "start_time": "2024-06-07T23:49:08.762Z"
   },
   {
    "duration": 22,
    "start_time": "2024-06-07T23:49:08.795Z"
   },
   {
    "duration": 27,
    "start_time": "2024-06-07T23:49:08.820Z"
   },
   {
    "duration": 67,
    "start_time": "2024-06-07T23:49:08.850Z"
   },
   {
    "duration": 215,
    "start_time": "2024-06-07T23:49:08.919Z"
   },
   {
    "duration": 409,
    "start_time": "2024-06-07T23:49:09.136Z"
   },
   {
    "duration": 354,
    "start_time": "2024-06-07T23:49:09.548Z"
   },
   {
    "duration": 16,
    "start_time": "2024-06-07T23:49:09.905Z"
   },
   {
    "duration": 16,
    "start_time": "2024-06-07T23:49:09.924Z"
   },
   {
    "duration": 440,
    "start_time": "2024-06-07T23:49:09.943Z"
   },
   {
    "duration": 16,
    "start_time": "2024-06-07T23:49:10.386Z"
   },
   {
    "duration": 18,
    "start_time": "2024-06-07T23:49:10.406Z"
   },
   {
    "duration": 420,
    "start_time": "2024-06-07T23:49:10.426Z"
   },
   {
    "duration": 397,
    "start_time": "2024-06-07T23:49:10.850Z"
   },
   {
    "duration": 420,
    "start_time": "2024-06-07T23:49:11.250Z"
   },
   {
    "duration": 410,
    "start_time": "2024-06-07T23:49:11.673Z"
   },
   {
    "duration": 460,
    "start_time": "2024-06-07T23:49:12.090Z"
   },
   {
    "duration": 16,
    "start_time": "2024-06-07T23:49:12.553Z"
   },
   {
    "duration": 37,
    "start_time": "2024-06-07T23:49:12.572Z"
   },
   {
    "duration": 431,
    "start_time": "2024-06-07T23:49:12.611Z"
   },
   {
    "duration": 402,
    "start_time": "2024-06-07T23:49:13.045Z"
   },
   {
    "duration": 60,
    "start_time": "2024-06-07T23:49:13.450Z"
   },
   {
    "duration": 432,
    "start_time": "2024-06-07T23:49:13.514Z"
   },
   {
    "duration": 4,
    "start_time": "2024-06-07T23:49:13.950Z"
   },
   {
    "duration": 4,
    "start_time": "2024-06-07T23:49:13.958Z"
   },
   {
    "duration": 198,
    "start_time": "2024-06-07T23:50:37.383Z"
   },
   {
    "duration": 196,
    "start_time": "2024-06-07T23:54:39.896Z"
   },
   {
    "duration": 209,
    "start_time": "2024-06-07T23:55:04.560Z"
   },
   {
    "duration": 1214,
    "start_time": "2024-06-07T23:58:13.428Z"
   },
   {
    "duration": 281,
    "start_time": "2024-06-07T23:58:14.646Z"
   },
   {
    "duration": 16,
    "start_time": "2024-06-07T23:58:14.929Z"
   },
   {
    "duration": 17,
    "start_time": "2024-06-07T23:58:14.948Z"
   },
   {
    "duration": 15,
    "start_time": "2024-06-07T23:58:14.989Z"
   },
   {
    "duration": 18,
    "start_time": "2024-06-07T23:58:15.007Z"
   },
   {
    "duration": 11,
    "start_time": "2024-06-07T23:58:15.028Z"
   },
   {
    "duration": 8,
    "start_time": "2024-06-07T23:58:15.042Z"
   },
   {
    "duration": 16,
    "start_time": "2024-06-07T23:58:15.091Z"
   },
   {
    "duration": 9,
    "start_time": "2024-06-07T23:58:15.112Z"
   },
   {
    "duration": 23,
    "start_time": "2024-06-07T23:58:15.124Z"
   },
   {
    "duration": 45,
    "start_time": "2024-06-07T23:58:15.149Z"
   },
   {
    "duration": 15,
    "start_time": "2024-06-07T23:58:15.198Z"
   },
   {
    "duration": 25,
    "start_time": "2024-06-07T23:58:15.220Z"
   },
   {
    "duration": 50,
    "start_time": "2024-06-07T23:58:15.248Z"
   },
   {
    "duration": 33,
    "start_time": "2024-06-07T23:58:15.301Z"
   },
   {
    "duration": 123,
    "start_time": "2024-06-07T23:58:15.337Z"
   },
   {
    "duration": 8,
    "start_time": "2024-06-07T23:58:15.463Z"
   },
   {
    "duration": 43,
    "start_time": "2024-06-07T23:58:15.474Z"
   },
   {
    "duration": 20,
    "start_time": "2024-06-07T23:58:15.519Z"
   },
   {
    "duration": 14,
    "start_time": "2024-06-07T23:58:15.542Z"
   },
   {
    "duration": 18,
    "start_time": "2024-06-07T23:58:15.591Z"
   },
   {
    "duration": 55,
    "start_time": "2024-06-07T23:58:15.612Z"
   },
   {
    "duration": 35,
    "start_time": "2024-06-07T23:58:15.669Z"
   },
   {
    "duration": 15,
    "start_time": "2024-06-07T23:58:15.706Z"
   },
   {
    "duration": 23,
    "start_time": "2024-06-07T23:58:15.724Z"
   },
   {
    "duration": 56,
    "start_time": "2024-06-07T23:58:15.749Z"
   },
   {
    "duration": 30,
    "start_time": "2024-06-07T23:58:15.808Z"
   },
   {
    "duration": 100,
    "start_time": "2024-06-07T23:58:15.841Z"
   },
   {
    "duration": 18,
    "start_time": "2024-06-07T23:58:15.944Z"
   },
   {
    "duration": 56,
    "start_time": "2024-06-07T23:58:15.964Z"
   },
   {
    "duration": 13,
    "start_time": "2024-06-07T23:58:16.023Z"
   },
   {
    "duration": 81,
    "start_time": "2024-06-07T23:58:16.039Z"
   },
   {
    "duration": 19,
    "start_time": "2024-06-07T23:58:16.123Z"
   },
   {
    "duration": 52,
    "start_time": "2024-06-07T23:58:16.144Z"
   },
   {
    "duration": 121,
    "start_time": "2024-06-07T23:58:16.199Z"
   },
   {
    "duration": 47,
    "start_time": "2024-06-07T23:58:16.322Z"
   },
   {
    "duration": 69,
    "start_time": "2024-06-07T23:58:16.372Z"
   },
   {
    "duration": 9,
    "start_time": "2024-06-07T23:58:16.444Z"
   },
   {
    "duration": 48,
    "start_time": "2024-06-07T23:58:16.457Z"
   },
   {
    "duration": 25,
    "start_time": "2024-06-07T23:58:16.515Z"
   },
   {
    "duration": 58,
    "start_time": "2024-06-07T23:58:16.543Z"
   },
   {
    "duration": 213,
    "start_time": "2024-06-07T23:58:16.604Z"
   },
   {
    "duration": 408,
    "start_time": "2024-06-07T23:58:16.820Z"
   },
   {
    "duration": 362,
    "start_time": "2024-06-07T23:58:17.230Z"
   },
   {
    "duration": 16,
    "start_time": "2024-06-07T23:58:17.595Z"
   },
   {
    "duration": 16,
    "start_time": "2024-06-07T23:58:17.615Z"
   },
   {
    "duration": 438,
    "start_time": "2024-06-07T23:58:17.634Z"
   },
   {
    "duration": 25,
    "start_time": "2024-06-07T23:58:18.075Z"
   },
   {
    "duration": 16,
    "start_time": "2024-06-07T23:58:18.103Z"
   },
   {
    "duration": 412,
    "start_time": "2024-06-07T23:58:18.122Z"
   },
   {
    "duration": 404,
    "start_time": "2024-06-07T23:58:18.537Z"
   },
   {
    "duration": 416,
    "start_time": "2024-06-07T23:58:18.944Z"
   },
   {
    "duration": 423,
    "start_time": "2024-06-07T23:58:19.363Z"
   },
   {
    "duration": 456,
    "start_time": "2024-06-07T23:58:19.792Z"
   },
   {
    "duration": 17,
    "start_time": "2024-06-07T23:58:20.251Z"
   },
   {
    "duration": 32,
    "start_time": "2024-06-07T23:58:20.271Z"
   },
   {
    "duration": 418,
    "start_time": "2024-06-07T23:58:20.306Z"
   },
   {
    "duration": 399,
    "start_time": "2024-06-07T23:58:20.727Z"
   },
   {
    "duration": 49,
    "start_time": "2024-06-07T23:58:21.129Z"
   },
   {
    "duration": 411,
    "start_time": "2024-06-07T23:58:21.180Z"
   },
   {
    "duration": 3,
    "start_time": "2024-06-07T23:58:21.594Z"
   },
   {
    "duration": 3,
    "start_time": "2024-06-07T23:58:21.600Z"
   },
   {
    "duration": 315,
    "start_time": "2024-06-08T02:44:37.880Z"
   },
   {
    "duration": 5109,
    "start_time": "2024-06-08T02:44:43.917Z"
   },
   {
    "duration": 365,
    "start_time": "2024-06-08T02:44:49.030Z"
   },
   {
    "duration": 16,
    "start_time": "2024-06-08T02:44:49.397Z"
   },
   {
    "duration": 17,
    "start_time": "2024-06-08T02:44:49.417Z"
   },
   {
    "duration": 15,
    "start_time": "2024-06-08T02:44:49.437Z"
   },
   {
    "duration": 57,
    "start_time": "2024-06-08T02:44:49.455Z"
   },
   {
    "duration": 10,
    "start_time": "2024-06-08T02:44:49.515Z"
   },
   {
    "duration": 8,
    "start_time": "2024-06-08T02:44:49.530Z"
   },
   {
    "duration": 17,
    "start_time": "2024-06-08T02:44:49.541Z"
   },
   {
    "duration": 51,
    "start_time": "2024-06-08T02:44:49.564Z"
   },
   {
    "duration": 23,
    "start_time": "2024-06-08T02:44:49.618Z"
   },
   {
    "duration": 5,
    "start_time": "2024-06-08T02:44:49.644Z"
   },
   {
    "duration": 16,
    "start_time": "2024-06-08T02:44:49.652Z"
   },
   {
    "duration": 65,
    "start_time": "2024-06-08T02:44:49.671Z"
   },
   {
    "duration": 18,
    "start_time": "2024-06-08T02:44:49.739Z"
   },
   {
    "duration": 58,
    "start_time": "2024-06-08T02:44:49.760Z"
   },
   {
    "duration": 108,
    "start_time": "2024-06-08T02:44:49.820Z"
   },
   {
    "duration": 7,
    "start_time": "2024-06-08T02:44:49.931Z"
   },
   {
    "duration": 30,
    "start_time": "2024-06-08T02:44:49.941Z"
   },
   {
    "duration": 49,
    "start_time": "2024-06-08T02:44:49.974Z"
   },
   {
    "duration": 14,
    "start_time": "2024-06-08T02:44:50.026Z"
   },
   {
    "duration": 17,
    "start_time": "2024-06-08T02:44:50.044Z"
   },
   {
    "duration": 88,
    "start_time": "2024-06-08T02:44:50.064Z"
   },
   {
    "duration": 16,
    "start_time": "2024-06-08T02:44:50.155Z"
   },
   {
    "duration": 40,
    "start_time": "2024-06-08T02:44:50.174Z"
   },
   {
    "duration": 28,
    "start_time": "2024-06-08T02:44:50.218Z"
   },
   {
    "duration": 17,
    "start_time": "2024-06-08T02:44:50.249Z"
   },
   {
    "duration": 65,
    "start_time": "2024-06-08T02:44:50.276Z"
   },
   {
    "duration": 98,
    "start_time": "2024-06-08T02:44:50.344Z"
   },
   {
    "duration": 17,
    "start_time": "2024-06-08T02:44:50.445Z"
   },
   {
    "duration": 55,
    "start_time": "2024-06-08T02:44:50.464Z"
   },
   {
    "duration": 13,
    "start_time": "2024-06-08T02:44:50.522Z"
   },
   {
    "duration": 80,
    "start_time": "2024-06-08T02:44:50.539Z"
   },
   {
    "duration": 20,
    "start_time": "2024-06-08T02:44:50.622Z"
   },
   {
    "duration": 29,
    "start_time": "2024-06-08T02:44:50.645Z"
   },
   {
    "duration": 75,
    "start_time": "2024-06-08T02:44:50.677Z"
   },
   {
    "duration": 68,
    "start_time": "2024-06-08T02:44:50.754Z"
   },
   {
    "duration": 41,
    "start_time": "2024-06-08T02:44:50.825Z"
   },
   {
    "duration": 9,
    "start_time": "2024-06-08T02:44:50.869Z"
   },
   {
    "duration": 55,
    "start_time": "2024-06-08T02:44:50.880Z"
   },
   {
    "duration": 29,
    "start_time": "2024-06-08T02:44:50.938Z"
   },
   {
    "duration": 66,
    "start_time": "2024-06-08T02:44:50.971Z"
   },
   {
    "duration": 217,
    "start_time": "2024-06-08T02:44:51.041Z"
   },
   {
    "duration": 430,
    "start_time": "2024-06-08T02:44:51.261Z"
   },
   {
    "duration": 364,
    "start_time": "2024-06-08T02:44:51.694Z"
   },
   {
    "duration": 17,
    "start_time": "2024-06-08T02:44:52.061Z"
   },
   {
    "duration": 40,
    "start_time": "2024-06-08T02:44:52.081Z"
   },
   {
    "duration": 497,
    "start_time": "2024-06-08T02:44:52.124Z"
   },
   {
    "duration": 16,
    "start_time": "2024-06-08T02:44:52.624Z"
   },
   {
    "duration": 17,
    "start_time": "2024-06-08T02:44:52.644Z"
   },
   {
    "duration": 455,
    "start_time": "2024-06-08T02:44:52.663Z"
   },
   {
    "duration": 423,
    "start_time": "2024-06-08T02:44:53.122Z"
   },
   {
    "duration": 352,
    "start_time": "2024-06-08T02:44:53.548Z"
   },
   {
    "duration": 422,
    "start_time": "2024-06-08T02:44:53.903Z"
   },
   {
    "duration": 461,
    "start_time": "2024-06-08T02:44:54.328Z"
   },
   {
    "duration": 25,
    "start_time": "2024-06-08T02:44:54.792Z"
   },
   {
    "duration": 17,
    "start_time": "2024-06-08T02:44:54.820Z"
   },
   {
    "duration": 464,
    "start_time": "2024-06-08T02:44:54.840Z"
   },
   {
    "duration": 479,
    "start_time": "2024-06-08T02:44:55.312Z"
   },
   {
    "duration": 67,
    "start_time": "2024-06-08T02:44:55.794Z"
   },
   {
    "duration": 419,
    "start_time": "2024-06-08T02:44:55.864Z"
   },
   {
    "duration": 3,
    "start_time": "2024-06-08T02:44:56.286Z"
   },
   {
    "duration": 20,
    "start_time": "2024-06-08T02:44:56.292Z"
   },
   {
    "duration": 34,
    "start_time": "2024-06-08T02:46:01.541Z"
   },
   {
    "duration": 400,
    "start_time": "2024-06-08T02:53:31.836Z"
   },
   {
    "duration": 440,
    "start_time": "2024-06-08T02:55:21.259Z"
   },
   {
    "duration": 18,
    "start_time": "2024-06-08T02:58:00.017Z"
   },
   {
    "duration": 17,
    "start_time": "2024-06-08T03:00:16.121Z"
   },
   {
    "duration": 15,
    "start_time": "2024-06-08T03:03:24.829Z"
   },
   {
    "duration": 15,
    "start_time": "2024-06-08T03:03:52.385Z"
   },
   {
    "duration": 1301,
    "start_time": "2024-06-08T03:07:22.411Z"
   },
   {
    "duration": 281,
    "start_time": "2024-06-08T03:07:23.718Z"
   },
   {
    "duration": 26,
    "start_time": "2024-06-08T03:07:24.002Z"
   },
   {
    "duration": 20,
    "start_time": "2024-06-08T03:07:24.032Z"
   },
   {
    "duration": 18,
    "start_time": "2024-06-08T03:07:24.058Z"
   },
   {
    "duration": 18,
    "start_time": "2024-06-08T03:07:24.115Z"
   },
   {
    "duration": 11,
    "start_time": "2024-06-08T03:07:24.136Z"
   },
   {
    "duration": 9,
    "start_time": "2024-06-08T03:07:24.150Z"
   },
   {
    "duration": 49,
    "start_time": "2024-06-08T03:07:24.163Z"
   },
   {
    "duration": 10,
    "start_time": "2024-06-08T03:07:24.217Z"
   },
   {
    "duration": 29,
    "start_time": "2024-06-08T03:07:24.230Z"
   },
   {
    "duration": 4,
    "start_time": "2024-06-08T03:07:24.262Z"
   },
   {
    "duration": 16,
    "start_time": "2024-06-08T03:07:24.313Z"
   },
   {
    "duration": 27,
    "start_time": "2024-06-08T03:07:24.336Z"
   },
   {
    "duration": 48,
    "start_time": "2024-06-08T03:07:24.365Z"
   },
   {
    "duration": 30,
    "start_time": "2024-06-08T03:07:24.416Z"
   },
   {
    "duration": 128,
    "start_time": "2024-06-08T03:07:24.449Z"
   },
   {
    "duration": 7,
    "start_time": "2024-06-08T03:07:24.580Z"
   },
   {
    "duration": 52,
    "start_time": "2024-06-08T03:07:24.593Z"
   },
   {
    "duration": 24,
    "start_time": "2024-06-08T03:07:24.649Z"
   },
   {
    "duration": 42,
    "start_time": "2024-06-08T03:07:24.676Z"
   },
   {
    "duration": 18,
    "start_time": "2024-06-08T03:07:24.721Z"
   },
   {
    "duration": 78,
    "start_time": "2024-06-08T03:07:24.742Z"
   },
   {
    "duration": 14,
    "start_time": "2024-06-08T03:07:24.823Z"
   },
   {
    "duration": 15,
    "start_time": "2024-06-08T03:07:24.840Z"
   },
   {
    "duration": 63,
    "start_time": "2024-06-08T03:07:24.858Z"
   },
   {
    "duration": 15,
    "start_time": "2024-06-08T03:07:24.925Z"
   },
   {
    "duration": 32,
    "start_time": "2024-06-08T03:07:24.943Z"
   },
   {
    "duration": 103,
    "start_time": "2024-06-08T03:07:24.978Z"
   },
   {
    "duration": 37,
    "start_time": "2024-06-08T03:07:25.084Z"
   },
   {
    "duration": 44,
    "start_time": "2024-06-08T03:07:25.124Z"
   },
   {
    "duration": 40,
    "start_time": "2024-06-08T03:07:25.172Z"
   },
   {
    "duration": 61,
    "start_time": "2024-06-08T03:07:25.216Z"
   },
   {
    "duration": 46,
    "start_time": "2024-06-08T03:07:25.279Z"
   },
   {
    "duration": 30,
    "start_time": "2024-06-08T03:07:25.329Z"
   },
   {
    "duration": 126,
    "start_time": "2024-06-08T03:07:25.363Z"
   },
   {
    "duration": 60,
    "start_time": "2024-06-08T03:07:25.491Z"
   },
   {
    "duration": 62,
    "start_time": "2024-06-08T03:07:25.555Z"
   },
   {
    "duration": 9,
    "start_time": "2024-06-08T03:07:25.620Z"
   },
   {
    "duration": 24,
    "start_time": "2024-06-08T03:07:25.632Z"
   },
   {
    "duration": 62,
    "start_time": "2024-06-08T03:07:25.667Z"
   },
   {
    "duration": 35,
    "start_time": "2024-06-08T03:07:25.732Z"
   },
   {
    "duration": 222,
    "start_time": "2024-06-08T03:07:25.770Z"
   },
   {
    "duration": 429,
    "start_time": "2024-06-08T03:07:25.995Z"
   },
   {
    "duration": 354,
    "start_time": "2024-06-08T03:07:26.427Z"
   },
   {
    "duration": 30,
    "start_time": "2024-06-08T03:07:26.783Z"
   },
   {
    "duration": 16,
    "start_time": "2024-06-08T03:07:26.816Z"
   },
   {
    "duration": 425,
    "start_time": "2024-06-08T03:07:26.836Z"
   },
   {
    "duration": 17,
    "start_time": "2024-06-08T03:07:27.267Z"
   },
   {
    "duration": 40,
    "start_time": "2024-06-08T03:07:27.287Z"
   },
   {
    "duration": 424,
    "start_time": "2024-06-08T03:07:27.330Z"
   },
   {
    "duration": 403,
    "start_time": "2024-06-08T03:07:27.759Z"
   },
   {
    "duration": 435,
    "start_time": "2024-06-08T03:07:28.166Z"
   },
   {
    "duration": 422,
    "start_time": "2024-06-08T03:07:28.604Z"
   },
   {
    "duration": 457,
    "start_time": "2024-06-08T03:07:29.029Z"
   },
   {
    "duration": 32,
    "start_time": "2024-06-08T03:07:29.489Z"
   },
   {
    "duration": 18,
    "start_time": "2024-06-08T03:07:29.524Z"
   },
   {
    "duration": 435,
    "start_time": "2024-06-08T03:07:29.545Z"
   },
   {
    "duration": 393,
    "start_time": "2024-06-08T03:07:29.983Z"
   },
   {
    "duration": 43,
    "start_time": "2024-06-08T03:07:30.379Z"
   },
   {
    "duration": 420,
    "start_time": "2024-06-08T03:07:30.425Z"
   },
   {
    "duration": 17,
    "start_time": "2024-06-08T03:07:30.848Z"
   },
   {
    "duration": 4,
    "start_time": "2024-06-08T03:07:30.868Z"
   },
   {
    "duration": 45,
    "start_time": "2024-06-08T03:07:30.877Z"
   },
   {
    "duration": 18,
    "start_time": "2024-06-08T03:07:30.925Z"
   },
   {
    "duration": 3,
    "start_time": "2024-06-08T03:07:30.946Z"
   },
   {
    "duration": 8,
    "start_time": "2024-06-08T03:07:30.952Z"
   },
   {
    "duration": 17,
    "start_time": "2024-06-08T03:07:44.279Z"
   },
   {
    "duration": 15,
    "start_time": "2024-06-08T03:08:42.533Z"
   },
   {
    "duration": 395,
    "start_time": "2024-06-08T03:11:14.082Z"
   },
   {
    "duration": 567,
    "start_time": "2024-06-08T03:11:56.192Z"
   },
   {
    "duration": 378,
    "start_time": "2024-06-08T03:12:05.816Z"
   },
   {
    "duration": 403,
    "start_time": "2024-06-08T03:49:17.529Z"
   },
   {
    "duration": 1325,
    "start_time": "2024-06-08T03:49:27.044Z"
   },
   {
    "duration": 273,
    "start_time": "2024-06-08T03:49:28.372Z"
   },
   {
    "duration": 16,
    "start_time": "2024-06-08T03:49:28.648Z"
   },
   {
    "duration": 18,
    "start_time": "2024-06-08T03:49:28.667Z"
   },
   {
    "duration": 14,
    "start_time": "2024-06-08T03:49:28.714Z"
   },
   {
    "duration": 17,
    "start_time": "2024-06-08T03:49:28.731Z"
   },
   {
    "duration": 12,
    "start_time": "2024-06-08T03:49:28.751Z"
   },
   {
    "duration": 45,
    "start_time": "2024-06-08T03:49:28.767Z"
   },
   {
    "duration": 16,
    "start_time": "2024-06-08T03:49:28.815Z"
   },
   {
    "duration": 9,
    "start_time": "2024-06-08T03:49:28.834Z"
   },
   {
    "duration": 23,
    "start_time": "2024-06-08T03:49:28.846Z"
   },
   {
    "duration": 5,
    "start_time": "2024-06-08T03:49:28.911Z"
   },
   {
    "duration": 16,
    "start_time": "2024-06-08T03:49:28.919Z"
   },
   {
    "duration": 25,
    "start_time": "2024-06-08T03:49:28.943Z"
   },
   {
    "duration": 50,
    "start_time": "2024-06-08T03:49:28.971Z"
   },
   {
    "duration": 30,
    "start_time": "2024-06-08T03:49:29.024Z"
   },
   {
    "duration": 126,
    "start_time": "2024-06-08T03:49:29.057Z"
   },
   {
    "duration": 8,
    "start_time": "2024-06-08T03:49:29.187Z"
   },
   {
    "duration": 40,
    "start_time": "2024-06-08T03:49:29.214Z"
   },
   {
    "duration": 22,
    "start_time": "2024-06-08T03:49:29.257Z"
   },
   {
    "duration": 43,
    "start_time": "2024-06-08T03:49:29.282Z"
   },
   {
    "duration": 18,
    "start_time": "2024-06-08T03:49:29.328Z"
   },
   {
    "duration": 86,
    "start_time": "2024-06-08T03:49:29.349Z"
   },
   {
    "duration": 15,
    "start_time": "2024-06-08T03:49:29.437Z"
   },
   {
    "duration": 15,
    "start_time": "2024-06-08T03:49:29.455Z"
   },
   {
    "duration": 55,
    "start_time": "2024-06-08T03:49:29.473Z"
   },
   {
    "duration": 16,
    "start_time": "2024-06-08T03:49:29.531Z"
   },
   {
    "duration": 31,
    "start_time": "2024-06-08T03:49:29.550Z"
   },
   {
    "duration": 76,
    "start_time": "2024-06-08T03:49:29.613Z"
   },
   {
    "duration": 34,
    "start_time": "2024-06-08T03:49:29.692Z"
   },
   {
    "duration": 35,
    "start_time": "2024-06-08T03:49:29.730Z"
   },
   {
    "duration": 14,
    "start_time": "2024-06-08T03:49:29.767Z"
   },
   {
    "duration": 55,
    "start_time": "2024-06-08T03:49:29.814Z"
   },
   {
    "duration": 41,
    "start_time": "2024-06-08T03:49:29.872Z"
   },
   {
    "duration": 28,
    "start_time": "2024-06-08T03:49:29.916Z"
   },
   {
    "duration": 67,
    "start_time": "2024-06-08T03:49:29.947Z"
   },
   {
    "duration": 120,
    "start_time": "2024-06-08T03:49:30.017Z"
   },
   {
    "duration": 40,
    "start_time": "2024-06-08T03:49:30.140Z"
   },
   {
    "duration": 32,
    "start_time": "2024-06-08T03:49:30.182Z"
   },
   {
    "duration": 21,
    "start_time": "2024-06-08T03:49:30.217Z"
   },
   {
    "duration": 25,
    "start_time": "2024-06-08T03:49:30.249Z"
   },
   {
    "duration": 68,
    "start_time": "2024-06-08T03:49:30.278Z"
   },
   {
    "duration": 214,
    "start_time": "2024-06-08T03:49:30.348Z"
   },
   {
    "duration": 406,
    "start_time": "2024-06-08T03:49:30.564Z"
   },
   {
    "duration": 354,
    "start_time": "2024-06-08T03:49:30.974Z"
   },
   {
    "duration": 19,
    "start_time": "2024-06-08T03:49:31.332Z"
   },
   {
    "duration": 24,
    "start_time": "2024-06-08T03:49:31.357Z"
   },
   {
    "duration": 440,
    "start_time": "2024-06-08T03:49:31.384Z"
   },
   {
    "duration": 18,
    "start_time": "2024-06-08T03:49:31.828Z"
   },
   {
    "duration": 24,
    "start_time": "2024-06-08T03:49:31.849Z"
   },
   {
    "duration": 428,
    "start_time": "2024-06-08T03:49:31.877Z"
   },
   {
    "duration": 422,
    "start_time": "2024-06-08T03:49:32.313Z"
   },
   {
    "duration": 436,
    "start_time": "2024-06-08T03:49:32.738Z"
   },
   {
    "duration": 458,
    "start_time": "2024-06-08T03:49:33.177Z"
   },
   {
    "duration": 481,
    "start_time": "2024-06-08T03:49:33.638Z"
   },
   {
    "duration": 17,
    "start_time": "2024-06-08T03:49:34.122Z"
   },
   {
    "duration": 18,
    "start_time": "2024-06-08T03:49:34.142Z"
   },
   {
    "duration": 452,
    "start_time": "2024-06-08T03:49:34.163Z"
   },
   {
    "duration": 394,
    "start_time": "2024-06-08T03:49:34.618Z"
   },
   {
    "duration": 32,
    "start_time": "2024-06-08T03:49:35.014Z"
   },
   {
    "duration": 424,
    "start_time": "2024-06-08T03:49:35.048Z"
   },
   {
    "duration": 17,
    "start_time": "2024-06-08T03:49:35.475Z"
   },
   {
    "duration": 34,
    "start_time": "2024-06-08T03:49:35.494Z"
   },
   {
    "duration": 410,
    "start_time": "2024-06-08T03:49:35.531Z"
   },
   {
    "duration": 3,
    "start_time": "2024-06-08T03:49:35.944Z"
   },
   {
    "duration": 18,
    "start_time": "2024-06-08T03:49:35.950Z"
   },
   {
    "duration": 50,
    "start_time": "2024-06-08T03:49:35.971Z"
   },
   {
    "duration": 498,
    "start_time": "2024-06-08T03:49:36.023Z"
   },
   {
    "duration": 428,
    "start_time": "2024-06-08T03:49:36.524Z"
   },
   {
    "duration": 0,
    "start_time": "2024-06-08T03:49:36.954Z"
   },
   {
    "duration": 25,
    "start_time": "2024-06-08T03:49:46.642Z"
   },
   {
    "duration": 25,
    "start_time": "2024-06-08T03:49:52.549Z"
   },
   {
    "duration": 906,
    "start_time": "2024-06-08T03:50:53.716Z"
   },
   {
    "duration": 16,
    "start_time": "2024-06-08T03:51:15.080Z"
   },
   {
    "duration": 14,
    "start_time": "2024-06-08T03:53:31.389Z"
   },
   {
    "duration": 20,
    "start_time": "2024-06-08T03:54:31.937Z"
   },
   {
    "duration": 15,
    "start_time": "2024-06-08T03:55:35.633Z"
   },
   {
    "duration": 12,
    "start_time": "2024-06-08T03:55:51.588Z"
   },
   {
    "duration": 16,
    "start_time": "2024-06-08T03:56:07.857Z"
   },
   {
    "duration": 31,
    "start_time": "2024-06-08T03:57:16.322Z"
   },
   {
    "duration": 15,
    "start_time": "2024-06-08T03:57:24.343Z"
   },
   {
    "duration": 48,
    "start_time": "2024-06-08T03:59:15.014Z"
   },
   {
    "duration": 16,
    "start_time": "2024-06-08T04:01:28.323Z"
   },
   {
    "duration": 23,
    "start_time": "2024-06-08T04:09:58.460Z"
   },
   {
    "duration": 18,
    "start_time": "2024-06-08T04:10:04.030Z"
   },
   {
    "duration": 1307,
    "start_time": "2024-06-08T04:10:13.590Z"
   },
   {
    "duration": 294,
    "start_time": "2024-06-08T04:10:14.902Z"
   },
   {
    "duration": 22,
    "start_time": "2024-06-08T04:10:15.198Z"
   },
   {
    "duration": 18,
    "start_time": "2024-06-08T04:10:15.223Z"
   },
   {
    "duration": 15,
    "start_time": "2024-06-08T04:10:15.247Z"
   },
   {
    "duration": 57,
    "start_time": "2024-06-08T04:10:15.265Z"
   },
   {
    "duration": 10,
    "start_time": "2024-06-08T04:10:15.325Z"
   },
   {
    "duration": 8,
    "start_time": "2024-06-08T04:10:15.338Z"
   },
   {
    "duration": 19,
    "start_time": "2024-06-08T04:10:15.350Z"
   },
   {
    "duration": 47,
    "start_time": "2024-06-08T04:10:15.373Z"
   },
   {
    "duration": 25,
    "start_time": "2024-06-08T04:10:15.422Z"
   },
   {
    "duration": 5,
    "start_time": "2024-06-08T04:10:15.450Z"
   },
   {
    "duration": 52,
    "start_time": "2024-06-08T04:10:15.459Z"
   },
   {
    "duration": 25,
    "start_time": "2024-06-08T04:10:15.517Z"
   },
   {
    "duration": 19,
    "start_time": "2024-06-08T04:10:15.545Z"
   },
   {
    "duration": 61,
    "start_time": "2024-06-08T04:10:15.567Z"
   },
   {
    "duration": 108,
    "start_time": "2024-06-08T04:10:15.631Z"
   },
   {
    "duration": 7,
    "start_time": "2024-06-08T04:10:15.742Z"
   },
   {
    "duration": 32,
    "start_time": "2024-06-08T04:10:15.754Z"
   },
   {
    "duration": 40,
    "start_time": "2024-06-08T04:10:15.788Z"
   },
   {
    "duration": 14,
    "start_time": "2024-06-08T04:10:15.831Z"
   },
   {
    "duration": 17,
    "start_time": "2024-06-08T04:10:15.848Z"
   },
   {
    "duration": 94,
    "start_time": "2024-06-08T04:10:15.868Z"
   },
   {
    "duration": 15,
    "start_time": "2024-06-08T04:10:15.965Z"
   },
   {
    "duration": 36,
    "start_time": "2024-06-08T04:10:15.985Z"
   },
   {
    "duration": 29,
    "start_time": "2024-06-08T04:10:16.025Z"
   },
   {
    "duration": 18,
    "start_time": "2024-06-08T04:10:16.058Z"
   },
   {
    "duration": 33,
    "start_time": "2024-06-08T04:10:16.113Z"
   },
   {
    "duration": 91,
    "start_time": "2024-06-08T04:10:16.150Z"
   },
   {
    "duration": 18,
    "start_time": "2024-06-08T04:10:16.244Z"
   },
   {
    "duration": 59,
    "start_time": "2024-06-08T04:10:16.264Z"
   },
   {
    "duration": 11,
    "start_time": "2024-06-08T04:10:16.326Z"
   },
   {
    "duration": 86,
    "start_time": "2024-06-08T04:10:16.340Z"
   },
   {
    "duration": 19,
    "start_time": "2024-06-08T04:10:16.430Z"
   },
   {
    "duration": 27,
    "start_time": "2024-06-08T04:10:16.452Z"
   },
   {
    "duration": 72,
    "start_time": "2024-06-08T04:10:16.482Z"
   },
   {
    "duration": 116,
    "start_time": "2024-06-08T04:10:16.560Z"
   },
   {
    "duration": 55,
    "start_time": "2024-06-08T04:10:16.679Z"
   },
   {
    "duration": 9,
    "start_time": "2024-06-08T04:10:16.737Z"
   },
   {
    "duration": 26,
    "start_time": "2024-06-08T04:10:16.749Z"
   },
   {
    "duration": 25,
    "start_time": "2024-06-08T04:10:16.813Z"
   },
   {
    "duration": 33,
    "start_time": "2024-06-08T04:10:16.841Z"
   },
   {
    "duration": 225,
    "start_time": "2024-06-08T04:10:16.877Z"
   },
   {
    "duration": 406,
    "start_time": "2024-06-08T04:10:17.107Z"
   },
   {
    "duration": 356,
    "start_time": "2024-06-08T04:10:17.515Z"
   },
   {
    "duration": 16,
    "start_time": "2024-06-08T04:10:17.874Z"
   },
   {
    "duration": 32,
    "start_time": "2024-06-08T04:10:17.893Z"
   },
   {
    "duration": 420,
    "start_time": "2024-06-08T04:10:17.928Z"
   },
   {
    "duration": 18,
    "start_time": "2024-06-08T04:10:18.351Z"
   },
   {
    "duration": 40,
    "start_time": "2024-06-08T04:10:18.372Z"
   },
   {
    "duration": 400,
    "start_time": "2024-06-08T04:10:18.415Z"
   },
   {
    "duration": 408,
    "start_time": "2024-06-08T04:10:18.818Z"
   },
   {
    "duration": 414,
    "start_time": "2024-06-08T04:10:19.230Z"
   },
   {
    "duration": 403,
    "start_time": "2024-06-08T04:10:19.647Z"
   },
   {
    "duration": 470,
    "start_time": "2024-06-08T04:10:20.054Z"
   },
   {
    "duration": 22,
    "start_time": "2024-06-08T04:10:20.528Z"
   },
   {
    "duration": 22,
    "start_time": "2024-06-08T04:10:20.556Z"
   },
   {
    "duration": 443,
    "start_time": "2024-06-08T04:10:20.582Z"
   },
   {
    "duration": 401,
    "start_time": "2024-06-08T04:10:21.029Z"
   },
   {
    "duration": 34,
    "start_time": "2024-06-08T04:10:21.434Z"
   },
   {
    "duration": 435,
    "start_time": "2024-06-08T04:10:21.471Z"
   },
   {
    "duration": 16,
    "start_time": "2024-06-08T04:10:21.913Z"
   },
   {
    "duration": 17,
    "start_time": "2024-06-08T04:10:21.933Z"
   },
   {
    "duration": 419,
    "start_time": "2024-06-08T04:10:21.956Z"
   },
   {
    "duration": 4,
    "start_time": "2024-06-08T04:10:22.378Z"
   },
   {
    "duration": 34,
    "start_time": "2024-06-08T04:10:22.385Z"
   },
   {
    "duration": 17,
    "start_time": "2024-06-08T04:10:22.422Z"
   },
   {
    "duration": 521,
    "start_time": "2024-06-08T04:10:22.443Z"
   },
   {
    "duration": 18,
    "start_time": "2024-06-08T04:10:22.967Z"
   },
   {
    "duration": 40,
    "start_time": "2024-06-08T04:10:22.989Z"
   },
   {
    "duration": 18,
    "start_time": "2024-06-08T04:12:19.347Z"
   },
   {
    "duration": 15,
    "start_time": "2024-06-08T04:13:04.317Z"
   },
   {
    "duration": 15,
    "start_time": "2024-06-08T04:19:52.189Z"
   },
   {
    "duration": 16,
    "start_time": "2024-06-08T04:23:02.462Z"
   },
   {
    "duration": 1327,
    "start_time": "2024-06-08T04:29:06.540Z"
   },
   {
    "duration": 283,
    "start_time": "2024-06-08T04:29:07.870Z"
   },
   {
    "duration": 16,
    "start_time": "2024-06-08T04:29:08.157Z"
   },
   {
    "duration": 37,
    "start_time": "2024-06-08T04:29:08.178Z"
   },
   {
    "duration": 16,
    "start_time": "2024-06-08T04:29:08.218Z"
   },
   {
    "duration": 17,
    "start_time": "2024-06-08T04:29:08.237Z"
   },
   {
    "duration": 10,
    "start_time": "2024-06-08T04:29:08.257Z"
   },
   {
    "duration": 47,
    "start_time": "2024-06-08T04:29:08.270Z"
   },
   {
    "duration": 17,
    "start_time": "2024-06-08T04:29:08.320Z"
   },
   {
    "duration": 10,
    "start_time": "2024-06-08T04:29:08.343Z"
   },
   {
    "duration": 62,
    "start_time": "2024-06-08T04:29:08.356Z"
   },
   {
    "duration": 5,
    "start_time": "2024-06-08T04:29:08.421Z"
   },
   {
    "duration": 22,
    "start_time": "2024-06-08T04:29:08.429Z"
   },
   {
    "duration": 31,
    "start_time": "2024-06-08T04:29:08.454Z"
   },
   {
    "duration": 28,
    "start_time": "2024-06-08T04:29:08.513Z"
   },
   {
    "duration": 30,
    "start_time": "2024-06-08T04:29:08.544Z"
   },
   {
    "duration": 135,
    "start_time": "2024-06-08T04:29:08.577Z"
   },
   {
    "duration": 7,
    "start_time": "2024-06-08T04:29:08.715Z"
   },
   {
    "duration": 33,
    "start_time": "2024-06-08T04:29:08.725Z"
   },
   {
    "duration": 53,
    "start_time": "2024-06-08T04:29:08.760Z"
   },
   {
    "duration": 14,
    "start_time": "2024-06-08T04:29:08.816Z"
   },
   {
    "duration": 19,
    "start_time": "2024-06-08T04:29:08.833Z"
   },
   {
    "duration": 94,
    "start_time": "2024-06-08T04:29:08.855Z"
   },
   {
    "duration": 16,
    "start_time": "2024-06-08T04:29:08.951Z"
   },
   {
    "duration": 42,
    "start_time": "2024-06-08T04:29:08.970Z"
   },
   {
    "duration": 23,
    "start_time": "2024-06-08T04:29:09.015Z"
   },
   {
    "duration": 17,
    "start_time": "2024-06-08T04:29:09.041Z"
   },
   {
    "duration": 62,
    "start_time": "2024-06-08T04:29:09.070Z"
   },
   {
    "duration": 90,
    "start_time": "2024-06-08T04:29:09.135Z"
   },
   {
    "duration": 18,
    "start_time": "2024-06-08T04:29:09.227Z"
   },
   {
    "duration": 35,
    "start_time": "2024-06-08T04:29:09.248Z"
   },
   {
    "duration": 13,
    "start_time": "2024-06-08T04:29:09.312Z"
   },
   {
    "duration": 56,
    "start_time": "2024-06-08T04:29:09.329Z"
   },
   {
    "duration": 43,
    "start_time": "2024-06-08T04:29:09.388Z"
   },
   {
    "duration": 29,
    "start_time": "2024-06-08T04:29:09.436Z"
   },
   {
    "duration": 72,
    "start_time": "2024-06-08T04:29:09.468Z"
   },
   {
    "duration": 116,
    "start_time": "2024-06-08T04:29:09.543Z"
   },
   {
    "duration": 63,
    "start_time": "2024-06-08T04:29:09.662Z"
   },
   {
    "duration": 11,
    "start_time": "2024-06-08T04:29:09.728Z"
   },
   {
    "duration": 25,
    "start_time": "2024-06-08T04:29:09.742Z"
   },
   {
    "duration": 58,
    "start_time": "2024-06-08T04:29:09.770Z"
   },
   {
    "duration": 34,
    "start_time": "2024-06-08T04:29:09.831Z"
   },
   {
    "duration": 226,
    "start_time": "2024-06-08T04:29:09.867Z"
   },
   {
    "duration": 427,
    "start_time": "2024-06-08T04:29:10.096Z"
   },
   {
    "duration": 368,
    "start_time": "2024-06-08T04:29:10.526Z"
   },
   {
    "duration": 26,
    "start_time": "2024-06-08T04:29:10.897Z"
   },
   {
    "duration": 21,
    "start_time": "2024-06-08T04:29:10.926Z"
   },
   {
    "duration": 432,
    "start_time": "2024-06-08T04:29:10.950Z"
   },
   {
    "duration": 33,
    "start_time": "2024-06-08T04:29:11.385Z"
   },
   {
    "duration": 17,
    "start_time": "2024-06-08T04:29:11.421Z"
   },
   {
    "duration": 429,
    "start_time": "2024-06-08T04:29:11.441Z"
   },
   {
    "duration": 405,
    "start_time": "2024-06-08T04:29:11.875Z"
   },
   {
    "duration": 403,
    "start_time": "2024-06-08T04:29:12.283Z"
   },
   {
    "duration": 428,
    "start_time": "2024-06-08T04:29:12.689Z"
   },
   {
    "duration": 472,
    "start_time": "2024-06-08T04:29:13.120Z"
   },
   {
    "duration": 30,
    "start_time": "2024-06-08T04:29:13.595Z"
   },
   {
    "duration": 16,
    "start_time": "2024-06-08T04:29:13.628Z"
   },
   {
    "duration": 442,
    "start_time": "2024-06-08T04:29:13.648Z"
   },
   {
    "duration": 413,
    "start_time": "2024-06-08T04:29:14.093Z"
   },
   {
    "duration": 35,
    "start_time": "2024-06-08T04:29:14.514Z"
   },
   {
    "duration": 420,
    "start_time": "2024-06-08T04:29:14.551Z"
   },
   {
    "duration": 16,
    "start_time": "2024-06-08T04:29:14.974Z"
   },
   {
    "duration": 16,
    "start_time": "2024-06-08T04:29:15.012Z"
   },
   {
    "duration": 408,
    "start_time": "2024-06-08T04:29:15.032Z"
   },
   {
    "duration": 3,
    "start_time": "2024-06-08T04:29:15.444Z"
   },
   {
    "duration": 16,
    "start_time": "2024-06-08T04:29:15.450Z"
   },
   {
    "duration": 45,
    "start_time": "2024-06-08T04:29:15.469Z"
   },
   {
    "duration": 498,
    "start_time": "2024-06-08T04:29:15.516Z"
   },
   {
    "duration": 14,
    "start_time": "2024-06-08T04:29:16.018Z"
   },
   {
    "duration": 439,
    "start_time": "2024-06-08T04:29:16.036Z"
   },
   {
    "duration": 921,
    "start_time": "2024-06-08T04:29:44.312Z"
   },
   {
    "duration": 19,
    "start_time": "2024-06-08T04:30:49.141Z"
   },
   {
    "duration": 15,
    "start_time": "2024-06-08T04:31:01.972Z"
   },
   {
    "duration": 1224,
    "start_time": "2024-06-08T04:31:10.858Z"
   },
   {
    "duration": 275,
    "start_time": "2024-06-08T04:31:12.085Z"
   },
   {
    "duration": 16,
    "start_time": "2024-06-08T04:31:12.363Z"
   },
   {
    "duration": 33,
    "start_time": "2024-06-08T04:31:12.383Z"
   },
   {
    "duration": 15,
    "start_time": "2024-06-08T04:31:12.421Z"
   },
   {
    "duration": 19,
    "start_time": "2024-06-08T04:31:12.439Z"
   },
   {
    "duration": 10,
    "start_time": "2024-06-08T04:31:12.461Z"
   },
   {
    "duration": 44,
    "start_time": "2024-06-08T04:31:12.474Z"
   },
   {
    "duration": 16,
    "start_time": "2024-06-08T04:31:12.522Z"
   },
   {
    "duration": 11,
    "start_time": "2024-06-08T04:31:12.540Z"
   },
   {
    "duration": 63,
    "start_time": "2024-06-08T04:31:12.553Z"
   },
   {
    "duration": 4,
    "start_time": "2024-06-08T04:31:12.619Z"
   },
   {
    "duration": 16,
    "start_time": "2024-06-08T04:31:12.627Z"
   },
   {
    "duration": 60,
    "start_time": "2024-06-08T04:31:12.652Z"
   },
   {
    "duration": 17,
    "start_time": "2024-06-08T04:31:12.715Z"
   },
   {
    "duration": 31,
    "start_time": "2024-06-08T04:31:12.735Z"
   },
   {
    "duration": 122,
    "start_time": "2024-06-08T04:31:12.769Z"
   },
   {
    "duration": 22,
    "start_time": "2024-06-08T04:31:12.893Z"
   },
   {
    "duration": 36,
    "start_time": "2024-06-08T04:31:12.918Z"
   },
   {
    "duration": 54,
    "start_time": "2024-06-08T04:31:12.958Z"
   },
   {
    "duration": 21,
    "start_time": "2024-06-08T04:31:13.015Z"
   },
   {
    "duration": 21,
    "start_time": "2024-06-08T04:31:13.039Z"
   },
   {
    "duration": 85,
    "start_time": "2024-06-08T04:31:13.063Z"
   },
   {
    "duration": 15,
    "start_time": "2024-06-08T04:31:13.151Z"
   },
   {
    "duration": 14,
    "start_time": "2024-06-08T04:31:13.169Z"
   },
   {
    "duration": 48,
    "start_time": "2024-06-08T04:31:13.185Z"
   },
   {
    "duration": 17,
    "start_time": "2024-06-08T04:31:13.236Z"
   },
   {
    "duration": 70,
    "start_time": "2024-06-08T04:31:13.256Z"
   },
   {
    "duration": 89,
    "start_time": "2024-06-08T04:31:13.330Z"
   },
   {
    "duration": 19,
    "start_time": "2024-06-08T04:31:13.422Z"
   },
   {
    "duration": 35,
    "start_time": "2024-06-08T04:31:13.444Z"
   },
   {
    "duration": 13,
    "start_time": "2024-06-08T04:31:13.513Z"
   },
   {
    "duration": 57,
    "start_time": "2024-06-08T04:31:13.530Z"
   },
   {
    "duration": 41,
    "start_time": "2024-06-08T04:31:13.590Z"
   },
   {
    "duration": 29,
    "start_time": "2024-06-08T04:31:13.635Z"
   },
   {
    "duration": 132,
    "start_time": "2024-06-08T04:31:13.667Z"
   },
   {
    "duration": 50,
    "start_time": "2024-06-08T04:31:13.813Z"
   },
   {
    "duration": 62,
    "start_time": "2024-06-08T04:31:13.866Z"
   },
   {
    "duration": 9,
    "start_time": "2024-06-08T04:31:13.931Z"
   },
   {
    "duration": 24,
    "start_time": "2024-06-08T04:31:13.943Z"
   },
   {
    "duration": 60,
    "start_time": "2024-06-08T04:31:13.978Z"
   },
   {
    "duration": 34,
    "start_time": "2024-06-08T04:31:14.041Z"
   },
   {
    "duration": 234,
    "start_time": "2024-06-08T04:31:14.078Z"
   },
   {
    "duration": 417,
    "start_time": "2024-06-08T04:31:14.315Z"
   },
   {
    "duration": 347,
    "start_time": "2024-06-08T04:31:14.736Z"
   },
   {
    "duration": 29,
    "start_time": "2024-06-08T04:31:15.087Z"
   },
   {
    "duration": 17,
    "start_time": "2024-06-08T04:31:15.119Z"
   },
   {
    "duration": 437,
    "start_time": "2024-06-08T04:31:15.139Z"
   },
   {
    "duration": 32,
    "start_time": "2024-06-08T04:31:15.580Z"
   },
   {
    "duration": 18,
    "start_time": "2024-06-08T04:31:15.615Z"
   },
   {
    "duration": 408,
    "start_time": "2024-06-08T04:31:15.636Z"
   },
   {
    "duration": 416,
    "start_time": "2024-06-08T04:31:16.047Z"
   },
   {
    "duration": 422,
    "start_time": "2024-06-08T04:31:16.466Z"
   },
   {
    "duration": 411,
    "start_time": "2024-06-08T04:31:16.892Z"
   },
   {
    "duration": 450,
    "start_time": "2024-06-08T04:31:17.306Z"
   },
   {
    "duration": 17,
    "start_time": "2024-06-08T04:31:17.759Z"
   },
   {
    "duration": 40,
    "start_time": "2024-06-08T04:31:17.780Z"
   },
   {
    "duration": 414,
    "start_time": "2024-06-08T04:31:17.822Z"
   },
   {
    "duration": 413,
    "start_time": "2024-06-08T04:31:18.240Z"
   },
   {
    "duration": 32,
    "start_time": "2024-06-08T04:31:18.657Z"
   },
   {
    "duration": 439,
    "start_time": "2024-06-08T04:31:18.692Z"
   },
   {
    "duration": 16,
    "start_time": "2024-06-08T04:31:19.134Z"
   },
   {
    "duration": 18,
    "start_time": "2024-06-08T04:31:19.153Z"
   },
   {
    "duration": 460,
    "start_time": "2024-06-08T04:31:19.174Z"
   },
   {
    "duration": 3,
    "start_time": "2024-06-08T04:31:19.638Z"
   },
   {
    "duration": 16,
    "start_time": "2024-06-08T04:31:19.645Z"
   },
   {
    "duration": 52,
    "start_time": "2024-06-08T04:31:19.664Z"
   },
   {
    "duration": 495,
    "start_time": "2024-06-08T04:31:19.719Z"
   },
   {
    "duration": 15,
    "start_time": "2024-06-08T04:31:20.217Z"
   },
   {
    "duration": 17,
    "start_time": "2024-06-08T04:31:20.235Z"
   },
   {
    "duration": 1329,
    "start_time": "2024-06-08T04:35:58.743Z"
   },
   {
    "duration": 275,
    "start_time": "2024-06-08T04:36:00.076Z"
   },
   {
    "duration": 19,
    "start_time": "2024-06-08T04:36:00.353Z"
   },
   {
    "duration": 16,
    "start_time": "2024-06-08T04:36:00.376Z"
   },
   {
    "duration": 15,
    "start_time": "2024-06-08T04:36:00.413Z"
   },
   {
    "duration": 18,
    "start_time": "2024-06-08T04:36:00.431Z"
   },
   {
    "duration": 11,
    "start_time": "2024-06-08T04:36:00.452Z"
   },
   {
    "duration": 47,
    "start_time": "2024-06-08T04:36:00.466Z"
   },
   {
    "duration": 19,
    "start_time": "2024-06-08T04:36:00.516Z"
   },
   {
    "duration": 9,
    "start_time": "2024-06-08T04:36:00.541Z"
   },
   {
    "duration": 61,
    "start_time": "2024-06-08T04:36:00.554Z"
   },
   {
    "duration": 5,
    "start_time": "2024-06-08T04:36:00.618Z"
   },
   {
    "duration": 16,
    "start_time": "2024-06-08T04:36:00.625Z"
   },
   {
    "duration": 25,
    "start_time": "2024-06-08T04:36:00.644Z"
   },
   {
    "duration": 55,
    "start_time": "2024-06-08T04:36:00.672Z"
   },
   {
    "duration": 29,
    "start_time": "2024-06-08T04:36:00.730Z"
   },
   {
    "duration": 120,
    "start_time": "2024-06-08T04:36:00.764Z"
   },
   {
    "duration": 7,
    "start_time": "2024-06-08T04:36:00.887Z"
   },
   {
    "duration": 42,
    "start_time": "2024-06-08T04:36:00.897Z"
   },
   {
    "duration": 36,
    "start_time": "2024-06-08T04:36:00.942Z"
   },
   {
    "duration": 42,
    "start_time": "2024-06-08T04:36:00.983Z"
   },
   {
    "duration": 19,
    "start_time": "2024-06-08T04:36:01.028Z"
   },
   {
    "duration": 80,
    "start_time": "2024-06-08T04:36:01.050Z"
   },
   {
    "duration": 14,
    "start_time": "2024-06-08T04:36:01.133Z"
   },
   {
    "duration": 16,
    "start_time": "2024-06-08T04:36:01.149Z"
   },
   {
    "duration": 54,
    "start_time": "2024-06-08T04:36:01.168Z"
   },
   {
    "duration": 16,
    "start_time": "2024-06-08T04:36:01.225Z"
   },
   {
    "duration": 29,
    "start_time": "2024-06-08T04:36:01.251Z"
   },
   {
    "duration": 85,
    "start_time": "2024-06-08T04:36:01.311Z"
   },
   {
    "duration": 21,
    "start_time": "2024-06-08T04:36:01.415Z"
   },
   {
    "duration": 35,
    "start_time": "2024-06-08T04:36:01.439Z"
   },
   {
    "duration": 38,
    "start_time": "2024-06-08T04:36:01.477Z"
   },
   {
    "duration": 60,
    "start_time": "2024-06-08T04:36:01.520Z"
   },
   {
    "duration": 40,
    "start_time": "2024-06-08T04:36:01.583Z"
   },
   {
    "duration": 28,
    "start_time": "2024-06-08T04:36:01.626Z"
   },
   {
    "duration": 75,
    "start_time": "2024-06-08T04:36:01.657Z"
   },
   {
    "duration": 113,
    "start_time": "2024-06-08T04:36:01.735Z"
   },
   {
    "duration": 40,
    "start_time": "2024-06-08T04:36:01.850Z"
   },
   {
    "duration": 9,
    "start_time": "2024-06-08T04:36:01.912Z"
   },
   {
    "duration": 22,
    "start_time": "2024-06-08T04:36:01.925Z"
   },
   {
    "duration": 63,
    "start_time": "2024-06-08T04:36:01.951Z"
   },
   {
    "duration": 36,
    "start_time": "2024-06-08T04:36:02.017Z"
   },
   {
    "duration": 226,
    "start_time": "2024-06-08T04:36:02.057Z"
   },
   {
    "duration": 421,
    "start_time": "2024-06-08T04:36:02.286Z"
   },
   {
    "duration": 356,
    "start_time": "2024-06-08T04:36:02.714Z"
   },
   {
    "duration": 16,
    "start_time": "2024-06-08T04:36:03.074Z"
   },
   {
    "duration": 39,
    "start_time": "2024-06-08T04:36:03.093Z"
   },
   {
    "duration": 442,
    "start_time": "2024-06-08T04:36:03.135Z"
   },
   {
    "duration": 34,
    "start_time": "2024-06-08T04:36:03.580Z"
   },
   {
    "duration": 21,
    "start_time": "2024-06-08T04:36:03.617Z"
   },
   {
    "duration": 425,
    "start_time": "2024-06-08T04:36:03.644Z"
   },
   {
    "duration": 407,
    "start_time": "2024-06-08T04:36:04.072Z"
   },
   {
    "duration": 409,
    "start_time": "2024-06-08T04:36:04.482Z"
   },
   {
    "duration": 402,
    "start_time": "2024-06-08T04:36:04.894Z"
   },
   {
    "duration": 463,
    "start_time": "2024-06-08T04:36:05.300Z"
   },
   {
    "duration": 16,
    "start_time": "2024-06-08T04:36:05.766Z"
   },
   {
    "duration": 37,
    "start_time": "2024-06-08T04:36:05.785Z"
   },
   {
    "duration": 411,
    "start_time": "2024-06-08T04:36:05.825Z"
   },
   {
    "duration": 400,
    "start_time": "2024-06-08T04:36:06.239Z"
   },
   {
    "duration": 31,
    "start_time": "2024-06-08T04:36:06.643Z"
   },
   {
    "duration": 435,
    "start_time": "2024-06-08T04:36:06.677Z"
   },
   {
    "duration": 16,
    "start_time": "2024-06-08T04:36:07.115Z"
   },
   {
    "duration": 17,
    "start_time": "2024-06-08T04:36:07.134Z"
   },
   {
    "duration": 428,
    "start_time": "2024-06-08T04:36:07.154Z"
   },
   {
    "duration": 3,
    "start_time": "2024-06-08T04:36:07.585Z"
   },
   {
    "duration": 32,
    "start_time": "2024-06-08T04:36:07.592Z"
   },
   {
    "duration": 17,
    "start_time": "2024-06-08T04:36:07.626Z"
   },
   {
    "duration": 513,
    "start_time": "2024-06-08T04:36:07.646Z"
   },
   {
    "duration": 15,
    "start_time": "2024-06-08T04:36:08.162Z"
   },
   {
    "duration": 40,
    "start_time": "2024-06-08T04:36:08.180Z"
   },
   {
    "duration": 5093,
    "start_time": "2024-06-10T01:57:29.289Z"
   },
   {
    "duration": 400,
    "start_time": "2024-06-10T02:02:58.969Z"
   },
   {
    "duration": 1314,
    "start_time": "2024-06-10T02:03:04.729Z"
   },
   {
    "duration": 381,
    "start_time": "2024-06-10T02:03:06.047Z"
   },
   {
    "duration": 16,
    "start_time": "2024-06-10T02:03:06.430Z"
   },
   {
    "duration": 18,
    "start_time": "2024-06-10T02:03:06.448Z"
   },
   {
    "duration": 41,
    "start_time": "2024-06-10T02:03:06.470Z"
   },
   {
    "duration": 14,
    "start_time": "2024-06-10T02:03:06.514Z"
   },
   {
    "duration": 18,
    "start_time": "2024-06-10T02:03:06.531Z"
   },
   {
    "duration": 10,
    "start_time": "2024-06-10T02:03:06.552Z"
   },
   {
    "duration": 47,
    "start_time": "2024-06-10T02:03:06.565Z"
   },
   {
    "duration": 16,
    "start_time": "2024-06-10T02:03:06.615Z"
   },
   {
    "duration": 10,
    "start_time": "2024-06-10T02:03:06.634Z"
   },
   {
    "duration": 64,
    "start_time": "2024-06-10T02:03:06.646Z"
   },
   {
    "duration": 5,
    "start_time": "2024-06-10T02:03:06.712Z"
   },
   {
    "duration": 19,
    "start_time": "2024-06-10T02:03:06.725Z"
   },
   {
    "duration": 81,
    "start_time": "2024-06-10T02:03:06.753Z"
   },
   {
    "duration": 24,
    "start_time": "2024-06-10T02:03:06.838Z"
   },
   {
    "duration": 66,
    "start_time": "2024-06-10T02:03:06.866Z"
   },
   {
    "duration": 132,
    "start_time": "2024-06-10T02:03:06.935Z"
   },
   {
    "duration": 9,
    "start_time": "2024-06-10T02:03:07.070Z"
   },
   {
    "duration": 52,
    "start_time": "2024-06-10T02:03:07.083Z"
   },
   {
    "duration": 23,
    "start_time": "2024-06-10T02:03:07.139Z"
   },
   {
    "duration": 49,
    "start_time": "2024-06-10T02:03:07.165Z"
   },
   {
    "duration": 23,
    "start_time": "2024-06-10T02:03:07.218Z"
   },
   {
    "duration": 87,
    "start_time": "2024-06-10T02:03:07.246Z"
   },
   {
    "duration": 24,
    "start_time": "2024-06-10T02:03:07.337Z"
   },
   {
    "duration": 42,
    "start_time": "2024-06-10T02:03:07.364Z"
   },
   {
    "duration": 26,
    "start_time": "2024-06-10T02:03:07.410Z"
   },
   {
    "duration": 20,
    "start_time": "2024-06-10T02:03:07.442Z"
   },
   {
    "duration": 63,
    "start_time": "2024-06-10T02:03:07.464Z"
   },
   {
    "duration": 89,
    "start_time": "2024-06-10T02:03:07.530Z"
   },
   {
    "duration": 18,
    "start_time": "2024-06-10T02:03:07.623Z"
   },
   {
    "duration": 66,
    "start_time": "2024-06-10T02:03:07.644Z"
   },
   {
    "duration": 13,
    "start_time": "2024-06-10T02:03:07.714Z"
   },
   {
    "duration": 80,
    "start_time": "2024-06-10T02:03:07.730Z"
   },
   {
    "duration": 19,
    "start_time": "2024-06-10T02:03:07.813Z"
   },
   {
    "duration": 26,
    "start_time": "2024-06-10T02:03:07.835Z"
   },
   {
    "duration": 146,
    "start_time": "2024-06-10T02:03:07.864Z"
   },
   {
    "duration": 50,
    "start_time": "2024-06-10T02:03:08.012Z"
   },
   {
    "duration": 74,
    "start_time": "2024-06-10T02:03:08.065Z"
   },
   {
    "duration": 9,
    "start_time": "2024-06-10T02:03:08.142Z"
   },
   {
    "duration": 51,
    "start_time": "2024-06-10T02:03:08.162Z"
   },
   {
    "duration": 27,
    "start_time": "2024-06-10T02:03:08.216Z"
   },
   {
    "duration": 35,
    "start_time": "2024-06-10T02:03:08.246Z"
   },
   {
    "duration": 219,
    "start_time": "2024-06-10T02:03:08.307Z"
   },
   {
    "duration": 409,
    "start_time": "2024-06-10T02:03:08.529Z"
   },
   {
    "duration": 346,
    "start_time": "2024-06-10T02:03:08.941Z"
   },
   {
    "duration": 25,
    "start_time": "2024-06-10T02:03:09.290Z"
   },
   {
    "duration": 17,
    "start_time": "2024-06-10T02:03:09.318Z"
   },
   {
    "duration": 454,
    "start_time": "2024-06-10T02:03:09.338Z"
   },
   {
    "duration": 15,
    "start_time": "2024-06-10T02:03:09.805Z"
   },
   {
    "duration": 17,
    "start_time": "2024-06-10T02:03:09.823Z"
   },
   {
    "duration": 410,
    "start_time": "2024-06-10T02:03:09.843Z"
   },
   {
    "duration": 419,
    "start_time": "2024-06-10T02:03:10.256Z"
   },
   {
    "duration": 407,
    "start_time": "2024-06-10T02:03:10.679Z"
   },
   {
    "duration": 404,
    "start_time": "2024-06-10T02:03:11.089Z"
   },
   {
    "duration": 474,
    "start_time": "2024-06-10T02:03:11.496Z"
   },
   {
    "duration": 33,
    "start_time": "2024-06-10T02:03:11.973Z"
   },
   {
    "duration": 19,
    "start_time": "2024-06-10T02:03:12.008Z"
   },
   {
    "duration": 423,
    "start_time": "2024-06-10T02:03:12.030Z"
   },
   {
    "duration": 408,
    "start_time": "2024-06-10T02:03:12.456Z"
   },
   {
    "duration": 54,
    "start_time": "2024-06-10T02:03:12.868Z"
   },
   {
    "duration": 419,
    "start_time": "2024-06-10T02:03:12.925Z"
   },
   {
    "duration": 15,
    "start_time": "2024-06-10T02:03:13.347Z"
   },
   {
    "duration": 43,
    "start_time": "2024-06-10T02:03:13.365Z"
   },
   {
    "duration": 399,
    "start_time": "2024-06-10T02:03:13.411Z"
   },
   {
    "duration": 3,
    "start_time": "2024-06-10T02:03:13.813Z"
   },
   {
    "duration": 16,
    "start_time": "2024-06-10T02:03:13.819Z"
   },
   {
    "duration": 15,
    "start_time": "2024-06-10T02:03:13.841Z"
   },
   {
    "duration": 550,
    "start_time": "2024-06-10T02:03:13.859Z"
   },
   {
    "duration": 16,
    "start_time": "2024-06-10T02:03:14.416Z"
   },
   {
    "duration": 20,
    "start_time": "2024-06-10T02:03:14.440Z"
   },
   {
    "duration": 20,
    "start_time": "2024-06-10T02:03:38.499Z"
   },
   {
    "duration": 13,
    "start_time": "2024-06-10T02:04:49.057Z"
   },
   {
    "duration": 1250,
    "start_time": "2024-06-10T02:04:54.999Z"
   },
   {
    "duration": 276,
    "start_time": "2024-06-10T02:04:56.253Z"
   },
   {
    "duration": 16,
    "start_time": "2024-06-10T02:04:56.531Z"
   },
   {
    "duration": 17,
    "start_time": "2024-06-10T02:04:56.551Z"
   },
   {
    "duration": 48,
    "start_time": "2024-06-10T02:04:56.571Z"
   },
   {
    "duration": 15,
    "start_time": "2024-06-10T02:04:56.622Z"
   },
   {
    "duration": 16,
    "start_time": "2024-06-10T02:04:56.640Z"
   },
   {
    "duration": 47,
    "start_time": "2024-06-10T02:04:56.660Z"
   },
   {
    "duration": 8,
    "start_time": "2024-06-10T02:04:56.710Z"
   },
   {
    "duration": 17,
    "start_time": "2024-06-10T02:04:56.725Z"
   },
   {
    "duration": 9,
    "start_time": "2024-06-10T02:04:56.746Z"
   },
   {
    "duration": 64,
    "start_time": "2024-06-10T02:04:56.757Z"
   },
   {
    "duration": 5,
    "start_time": "2024-06-10T02:04:56.824Z"
   },
   {
    "duration": 16,
    "start_time": "2024-06-10T02:04:56.831Z"
   },
   {
    "duration": 62,
    "start_time": "2024-06-10T02:04:56.850Z"
   },
   {
    "duration": 18,
    "start_time": "2024-06-10T02:04:56.914Z"
   },
   {
    "duration": 34,
    "start_time": "2024-06-10T02:04:56.936Z"
   },
   {
    "duration": 133,
    "start_time": "2024-06-10T02:04:56.973Z"
   },
   {
    "duration": 10,
    "start_time": "2024-06-10T02:04:57.108Z"
   },
   {
    "duration": 31,
    "start_time": "2024-06-10T02:04:57.121Z"
   },
   {
    "duration": 22,
    "start_time": "2024-06-10T02:04:57.155Z"
   },
   {
    "duration": 16,
    "start_time": "2024-06-10T02:04:57.207Z"
   },
   {
    "duration": 17,
    "start_time": "2024-06-10T02:04:57.226Z"
   },
   {
    "duration": 85,
    "start_time": "2024-06-10T02:04:57.245Z"
   },
   {
    "duration": 18,
    "start_time": "2024-06-10T02:04:57.333Z"
   },
   {
    "duration": 49,
    "start_time": "2024-06-10T02:04:57.357Z"
   },
   {
    "duration": 24,
    "start_time": "2024-06-10T02:04:57.410Z"
   },
   {
    "duration": 16,
    "start_time": "2024-06-10T02:04:57.444Z"
   },
   {
    "duration": 64,
    "start_time": "2024-06-10T02:04:57.462Z"
   },
   {
    "duration": 79,
    "start_time": "2024-06-10T02:04:57.529Z"
   },
   {
    "duration": 16,
    "start_time": "2024-06-10T02:04:57.611Z"
   },
   {
    "duration": 34,
    "start_time": "2024-06-10T02:04:57.630Z"
   },
   {
    "duration": 42,
    "start_time": "2024-06-10T02:04:57.666Z"
   },
   {
    "duration": 57,
    "start_time": "2024-06-10T02:04:57.711Z"
   },
   {
    "duration": 39,
    "start_time": "2024-06-10T02:04:57.771Z"
   },
   {
    "duration": 26,
    "start_time": "2024-06-10T02:04:57.813Z"
   },
   {
    "duration": 78,
    "start_time": "2024-06-10T02:04:57.843Z"
   },
   {
    "duration": 120,
    "start_time": "2024-06-10T02:04:57.924Z"
   },
   {
    "duration": 38,
    "start_time": "2024-06-10T02:04:58.046Z"
   },
   {
    "duration": 14,
    "start_time": "2024-06-10T02:04:58.107Z"
   },
   {
    "duration": 23,
    "start_time": "2024-06-10T02:04:58.124Z"
   },
   {
    "duration": 58,
    "start_time": "2024-06-10T02:04:58.150Z"
   },
   {
    "duration": 39,
    "start_time": "2024-06-10T02:04:58.212Z"
   },
   {
    "duration": 240,
    "start_time": "2024-06-10T02:04:58.257Z"
   },
   {
    "duration": 411,
    "start_time": "2024-06-10T02:04:58.505Z"
   },
   {
    "duration": 353,
    "start_time": "2024-06-10T02:04:58.919Z"
   },
   {
    "duration": 31,
    "start_time": "2024-06-10T02:04:59.275Z"
   },
   {
    "duration": 17,
    "start_time": "2024-06-10T02:04:59.309Z"
   },
   {
    "duration": 450,
    "start_time": "2024-06-10T02:04:59.328Z"
   },
   {
    "duration": 28,
    "start_time": "2024-06-10T02:04:59.782Z"
   },
   {
    "duration": 16,
    "start_time": "2024-06-10T02:04:59.813Z"
   },
   {
    "duration": 407,
    "start_time": "2024-06-10T02:04:59.832Z"
   },
   {
    "duration": 417,
    "start_time": "2024-06-10T02:05:00.242Z"
   },
   {
    "duration": 426,
    "start_time": "2024-06-10T02:05:00.662Z"
   },
   {
    "duration": 423,
    "start_time": "2024-06-10T02:05:01.091Z"
   },
   {
    "duration": 503,
    "start_time": "2024-06-10T02:05:01.518Z"
   },
   {
    "duration": 17,
    "start_time": "2024-06-10T02:05:02.024Z"
   },
   {
    "duration": 19,
    "start_time": "2024-06-10T02:05:02.044Z"
   },
   {
    "duration": 465,
    "start_time": "2024-06-10T02:05:02.066Z"
   },
   {
    "duration": 397,
    "start_time": "2024-06-10T02:05:02.535Z"
   },
   {
    "duration": 38,
    "start_time": "2024-06-10T02:05:02.936Z"
   },
   {
    "duration": 439,
    "start_time": "2024-06-10T02:05:02.977Z"
   },
   {
    "duration": 16,
    "start_time": "2024-06-10T02:05:03.419Z"
   },
   {
    "duration": 16,
    "start_time": "2024-06-10T02:05:03.438Z"
   },
   {
    "duration": 429,
    "start_time": "2024-06-10T02:05:03.457Z"
   },
   {
    "duration": 16,
    "start_time": "2024-06-10T02:05:03.890Z"
   },
   {
    "duration": 15,
    "start_time": "2024-06-10T02:05:03.910Z"
   },
   {
    "duration": 17,
    "start_time": "2024-06-10T02:05:03.927Z"
   },
   {
    "duration": 527,
    "start_time": "2024-06-10T02:05:03.947Z"
   },
   {
    "duration": 30,
    "start_time": "2024-06-10T02:05:04.477Z"
   },
   {
    "duration": 17,
    "start_time": "2024-06-10T02:05:04.510Z"
   },
   {
    "duration": 38,
    "start_time": "2024-06-10T02:06:29.382Z"
   },
   {
    "duration": 49,
    "start_time": "2024-06-10T02:06:37.641Z"
   },
   {
    "duration": 47,
    "start_time": "2024-06-10T02:06:50.239Z"
   },
   {
    "duration": 48,
    "start_time": "2024-06-10T02:07:00.922Z"
   },
   {
    "duration": 1306,
    "start_time": "2024-06-10T02:07:26.661Z"
   },
   {
    "duration": 271,
    "start_time": "2024-06-10T02:07:27.972Z"
   },
   {
    "duration": 16,
    "start_time": "2024-06-10T02:07:28.246Z"
   },
   {
    "duration": 16,
    "start_time": "2024-06-10T02:07:28.266Z"
   },
   {
    "duration": 17,
    "start_time": "2024-06-10T02:07:28.310Z"
   },
   {
    "duration": 14,
    "start_time": "2024-06-10T02:07:28.330Z"
   },
   {
    "duration": 16,
    "start_time": "2024-06-10T02:07:28.348Z"
   },
   {
    "duration": 48,
    "start_time": "2024-06-10T02:07:28.367Z"
   },
   {
    "duration": 9,
    "start_time": "2024-06-10T02:07:28.418Z"
   },
   {
    "duration": 17,
    "start_time": "2024-06-10T02:07:28.429Z"
   },
   {
    "duration": 13,
    "start_time": "2024-06-10T02:07:28.448Z"
   },
   {
    "duration": 65,
    "start_time": "2024-06-10T02:07:28.464Z"
   },
   {
    "duration": 5,
    "start_time": "2024-06-10T02:07:28.532Z"
   },
   {
    "duration": 15,
    "start_time": "2024-06-10T02:07:28.544Z"
   },
   {
    "duration": 65,
    "start_time": "2024-06-10T02:07:28.562Z"
   },
   {
    "duration": 18,
    "start_time": "2024-06-10T02:07:28.630Z"
   },
   {
    "duration": 62,
    "start_time": "2024-06-10T02:07:28.651Z"
   },
   {
    "duration": 102,
    "start_time": "2024-06-10T02:07:28.717Z"
   },
   {
    "duration": 7,
    "start_time": "2024-06-10T02:07:28.822Z"
   },
   {
    "duration": 29,
    "start_time": "2024-06-10T02:07:28.833Z"
   },
   {
    "duration": 53,
    "start_time": "2024-06-10T02:07:28.865Z"
   },
   {
    "duration": 15,
    "start_time": "2024-06-10T02:07:28.921Z"
   },
   {
    "duration": 21,
    "start_time": "2024-06-10T02:07:28.939Z"
   },
   {
    "duration": 86,
    "start_time": "2024-06-10T02:07:28.964Z"
   },
   {
    "duration": 15,
    "start_time": "2024-06-10T02:07:29.053Z"
   },
   {
    "duration": 44,
    "start_time": "2024-06-10T02:07:29.071Z"
   },
   {
    "duration": 25,
    "start_time": "2024-06-10T02:07:29.118Z"
   },
   {
    "duration": 17,
    "start_time": "2024-06-10T02:07:29.146Z"
   },
   {
    "duration": 58,
    "start_time": "2024-06-10T02:07:29.165Z"
   },
   {
    "duration": 88,
    "start_time": "2024-06-10T02:07:29.226Z"
   },
   {
    "duration": 17,
    "start_time": "2024-06-10T02:07:29.317Z"
   },
   {
    "duration": 33,
    "start_time": "2024-06-10T02:07:29.337Z"
   },
   {
    "duration": 13,
    "start_time": "2024-06-10T02:07:29.405Z"
   },
   {
    "duration": 59,
    "start_time": "2024-06-10T02:07:29.420Z"
   },
   {
    "duration": 41,
    "start_time": "2024-06-10T02:07:29.482Z"
   },
   {
    "duration": 28,
    "start_time": "2024-06-10T02:07:29.526Z"
   },
   {
    "duration": 135,
    "start_time": "2024-06-10T02:07:29.557Z"
   },
   {
    "duration": 54,
    "start_time": "2024-06-10T02:07:29.695Z"
   },
   {
    "duration": 55,
    "start_time": "2024-06-10T02:07:29.752Z"
   },
   {
    "duration": 9,
    "start_time": "2024-06-10T02:07:29.810Z"
   },
   {
    "duration": 21,
    "start_time": "2024-06-10T02:07:29.828Z"
   },
   {
    "duration": 61,
    "start_time": "2024-06-10T02:07:29.852Z"
   },
   {
    "duration": 35,
    "start_time": "2024-06-10T02:07:29.916Z"
   },
   {
    "duration": 244,
    "start_time": "2024-06-10T02:07:29.954Z"
   },
   {
    "duration": 415,
    "start_time": "2024-06-10T02:07:30.201Z"
   },
   {
    "duration": 349,
    "start_time": "2024-06-10T02:07:30.619Z"
   },
   {
    "duration": 16,
    "start_time": "2024-06-10T02:07:30.971Z"
   },
   {
    "duration": 31,
    "start_time": "2024-06-10T02:07:30.990Z"
   },
   {
    "duration": 426,
    "start_time": "2024-06-10T02:07:31.024Z"
   },
   {
    "duration": 17,
    "start_time": "2024-06-10T02:07:31.454Z"
   },
   {
    "duration": 41,
    "start_time": "2024-06-10T02:07:31.474Z"
   },
   {
    "duration": 399,
    "start_time": "2024-06-10T02:07:31.518Z"
   },
   {
    "duration": 400,
    "start_time": "2024-06-10T02:07:31.920Z"
   },
   {
    "duration": 400,
    "start_time": "2024-06-10T02:07:32.324Z"
   },
   {
    "duration": 413,
    "start_time": "2024-06-10T02:07:32.727Z"
   },
   {
    "duration": 468,
    "start_time": "2024-06-10T02:07:33.143Z"
   },
   {
    "duration": 16,
    "start_time": "2024-06-10T02:07:33.614Z"
   },
   {
    "duration": 17,
    "start_time": "2024-06-10T02:07:33.633Z"
   },
   {
    "duration": 427,
    "start_time": "2024-06-10T02:07:33.653Z"
   },
   {
    "duration": 390,
    "start_time": "2024-06-10T02:07:34.083Z"
   },
   {
    "duration": 49,
    "start_time": "2024-06-10T02:07:34.476Z"
   },
   {
    "duration": 409,
    "start_time": "2024-06-10T02:07:34.528Z"
   },
   {
    "duration": 16,
    "start_time": "2024-06-10T02:07:34.940Z"
   },
   {
    "duration": 16,
    "start_time": "2024-06-10T02:07:34.959Z"
   },
   {
    "duration": 383,
    "start_time": "2024-06-10T02:07:35.006Z"
   },
   {
    "duration": 16,
    "start_time": "2024-06-10T02:07:35.392Z"
   },
   {
    "duration": 16,
    "start_time": "2024-06-10T02:07:35.411Z"
   },
   {
    "duration": 17,
    "start_time": "2024-06-10T02:07:35.430Z"
   },
   {
    "duration": 533,
    "start_time": "2024-06-10T02:07:35.450Z"
   },
   {
    "duration": 24,
    "start_time": "2024-06-10T02:07:35.986Z"
   },
   {
    "duration": 16,
    "start_time": "2024-06-10T02:07:36.013Z"
   },
   {
    "duration": 13,
    "start_time": "2024-06-10T02:14:12.777Z"
   },
   {
    "duration": 17,
    "start_time": "2024-06-10T02:16:32.206Z"
   },
   {
    "duration": 17,
    "start_time": "2024-06-10T02:17:14.532Z"
   },
   {
    "duration": 1303,
    "start_time": "2024-06-10T02:17:21.544Z"
   },
   {
    "duration": 293,
    "start_time": "2024-06-10T02:17:22.851Z"
   },
   {
    "duration": 17,
    "start_time": "2024-06-10T02:17:23.147Z"
   },
   {
    "duration": 39,
    "start_time": "2024-06-10T02:17:23.168Z"
   },
   {
    "duration": 17,
    "start_time": "2024-06-10T02:17:23.210Z"
   },
   {
    "duration": 18,
    "start_time": "2024-06-10T02:17:23.231Z"
   },
   {
    "duration": 54,
    "start_time": "2024-06-10T02:17:23.254Z"
   },
   {
    "duration": 10,
    "start_time": "2024-06-10T02:17:23.311Z"
   },
   {
    "duration": 7,
    "start_time": "2024-06-10T02:17:23.325Z"
   },
   {
    "duration": 16,
    "start_time": "2024-06-10T02:17:23.340Z"
   },
   {
    "duration": 50,
    "start_time": "2024-06-10T02:17:23.359Z"
   },
   {
    "duration": 22,
    "start_time": "2024-06-10T02:17:23.411Z"
   },
   {
    "duration": 5,
    "start_time": "2024-06-10T02:17:23.436Z"
   },
   {
    "duration": 16,
    "start_time": "2024-06-10T02:17:23.445Z"
   },
   {
    "duration": 73,
    "start_time": "2024-06-10T02:17:23.464Z"
   },
   {
    "duration": 18,
    "start_time": "2024-06-10T02:17:23.540Z"
   },
   {
    "duration": 62,
    "start_time": "2024-06-10T02:17:23.561Z"
   },
   {
    "duration": 105,
    "start_time": "2024-06-10T02:17:23.625Z"
   },
   {
    "duration": 7,
    "start_time": "2024-06-10T02:17:23.733Z"
   },
   {
    "duration": 30,
    "start_time": "2024-06-10T02:17:23.743Z"
   },
   {
    "duration": 46,
    "start_time": "2024-06-10T02:17:23.777Z"
   },
   {
    "duration": 13,
    "start_time": "2024-06-10T02:17:23.826Z"
   },
   {
    "duration": 21,
    "start_time": "2024-06-10T02:17:23.842Z"
   },
   {
    "duration": 109,
    "start_time": "2024-06-10T02:17:23.866Z"
   },
   {
    "duration": 39,
    "start_time": "2024-06-10T02:17:23.979Z"
   },
   {
    "duration": 19,
    "start_time": "2024-06-10T02:17:24.022Z"
   },
   {
    "duration": 63,
    "start_time": "2024-06-10T02:17:24.045Z"
   },
   {
    "duration": 21,
    "start_time": "2024-06-10T02:17:24.129Z"
   },
   {
    "duration": 54,
    "start_time": "2024-06-10T02:17:24.153Z"
   },
   {
    "duration": 109,
    "start_time": "2024-06-10T02:17:24.211Z"
   },
   {
    "duration": 29,
    "start_time": "2024-06-10T02:17:24.325Z"
   },
   {
    "duration": 58,
    "start_time": "2024-06-10T02:17:24.359Z"
   },
   {
    "duration": 15,
    "start_time": "2024-06-10T02:17:24.420Z"
   },
   {
    "duration": 16,
    "start_time": "2024-06-10T02:17:24.438Z"
   },
   {
    "duration": 90,
    "start_time": "2024-06-10T02:17:24.461Z"
   },
   {
    "duration": 24,
    "start_time": "2024-06-10T02:17:24.555Z"
   },
   {
    "duration": 60,
    "start_time": "2024-06-10T02:17:24.582Z"
   },
   {
    "duration": 70,
    "start_time": "2024-06-10T02:17:24.646Z"
   },
   {
    "duration": 126,
    "start_time": "2024-06-10T02:17:24.719Z"
   },
   {
    "duration": 55,
    "start_time": "2024-06-10T02:17:24.851Z"
   },
   {
    "duration": 11,
    "start_time": "2024-06-10T02:17:24.911Z"
   },
   {
    "duration": 45,
    "start_time": "2024-06-10T02:17:24.926Z"
   },
   {
    "duration": 60,
    "start_time": "2024-06-10T02:17:24.979Z"
   },
   {
    "duration": 34,
    "start_time": "2024-06-10T02:17:25.042Z"
   },
   {
    "duration": 242,
    "start_time": "2024-06-10T02:17:25.080Z"
   },
   {
    "duration": 463,
    "start_time": "2024-06-10T02:17:25.329Z"
   },
   {
    "duration": 347,
    "start_time": "2024-06-10T02:17:25.795Z"
   },
   {
    "duration": 16,
    "start_time": "2024-06-10T02:17:26.146Z"
   },
   {
    "duration": 43,
    "start_time": "2024-06-10T02:17:26.164Z"
   },
   {
    "duration": 428,
    "start_time": "2024-06-10T02:17:26.210Z"
   },
   {
    "duration": 20,
    "start_time": "2024-06-10T02:17:26.641Z"
   },
   {
    "duration": 43,
    "start_time": "2024-06-10T02:17:26.665Z"
   },
   {
    "duration": 429,
    "start_time": "2024-06-10T02:17:26.716Z"
   },
   {
    "duration": 413,
    "start_time": "2024-06-10T02:17:27.148Z"
   },
   {
    "duration": 470,
    "start_time": "2024-06-10T02:17:27.566Z"
   },
   {
    "duration": 452,
    "start_time": "2024-06-10T02:17:28.040Z"
   },
   {
    "duration": 513,
    "start_time": "2024-06-10T02:17:28.495Z"
   },
   {
    "duration": 25,
    "start_time": "2024-06-10T02:17:29.012Z"
   },
   {
    "duration": 27,
    "start_time": "2024-06-10T02:17:29.043Z"
   },
   {
    "duration": 453,
    "start_time": "2024-06-10T02:17:29.074Z"
   },
   {
    "duration": 391,
    "start_time": "2024-06-10T02:17:29.531Z"
   },
   {
    "duration": 33,
    "start_time": "2024-06-10T02:17:29.925Z"
   },
   {
    "duration": 453,
    "start_time": "2024-06-10T02:17:29.961Z"
   },
   {
    "duration": 18,
    "start_time": "2024-06-10T02:17:30.418Z"
   },
   {
    "duration": 20,
    "start_time": "2024-06-10T02:17:30.439Z"
   },
   {
    "duration": 513,
    "start_time": "2024-06-10T02:17:30.462Z"
   },
   {
    "duration": 4,
    "start_time": "2024-06-10T02:17:30.978Z"
   },
   {
    "duration": 33,
    "start_time": "2024-06-10T02:17:30.987Z"
   },
   {
    "duration": 19,
    "start_time": "2024-06-10T02:17:31.024Z"
   },
   {
    "duration": 598,
    "start_time": "2024-06-10T02:17:31.047Z"
   },
   {
    "duration": 21,
    "start_time": "2024-06-10T02:17:31.649Z"
   },
   {
    "duration": 42,
    "start_time": "2024-06-10T02:17:31.673Z"
   },
   {
    "duration": 50,
    "start_time": "2024-06-10T02:18:46.786Z"
   },
   {
    "duration": 1300,
    "start_time": "2024-06-10T02:19:08.095Z"
   },
   {
    "duration": 272,
    "start_time": "2024-06-10T02:19:09.399Z"
   },
   {
    "duration": 17,
    "start_time": "2024-06-10T02:19:09.673Z"
   },
   {
    "duration": 18,
    "start_time": "2024-06-10T02:19:09.706Z"
   },
   {
    "duration": 17,
    "start_time": "2024-06-10T02:19:09.728Z"
   },
   {
    "duration": 15,
    "start_time": "2024-06-10T02:19:09.748Z"
   },
   {
    "duration": 56,
    "start_time": "2024-06-10T02:19:09.766Z"
   },
   {
    "duration": 10,
    "start_time": "2024-06-10T02:19:09.825Z"
   },
   {
    "duration": 8,
    "start_time": "2024-06-10T02:19:09.838Z"
   },
   {
    "duration": 16,
    "start_time": "2024-06-10T02:19:09.852Z"
   },
   {
    "duration": 10,
    "start_time": "2024-06-10T02:19:09.908Z"
   },
   {
    "duration": 23,
    "start_time": "2024-06-10T02:19:09.921Z"
   },
   {
    "duration": 5,
    "start_time": "2024-06-10T02:19:09.946Z"
   },
   {
    "duration": 59,
    "start_time": "2024-06-10T02:19:09.955Z"
   },
   {
    "duration": 27,
    "start_time": "2024-06-10T02:19:10.018Z"
   },
   {
    "duration": 20,
    "start_time": "2024-06-10T02:19:10.048Z"
   },
   {
    "duration": 40,
    "start_time": "2024-06-10T02:19:10.108Z"
   },
   {
    "duration": 118,
    "start_time": "2024-06-10T02:19:10.152Z"
   },
   {
    "duration": 7,
    "start_time": "2024-06-10T02:19:10.273Z"
   },
   {
    "duration": 48,
    "start_time": "2024-06-10T02:19:10.283Z"
   },
   {
    "duration": 22,
    "start_time": "2024-06-10T02:19:10.334Z"
   },
   {
    "duration": 15,
    "start_time": "2024-06-10T02:19:10.358Z"
   },
   {
    "duration": 17,
    "start_time": "2024-06-10T02:19:10.407Z"
   },
   {
    "duration": 79,
    "start_time": "2024-06-10T02:19:10.427Z"
   },
   {
    "duration": 17,
    "start_time": "2024-06-10T02:19:10.509Z"
   },
   {
    "duration": 18,
    "start_time": "2024-06-10T02:19:10.528Z"
   },
   {
    "duration": 58,
    "start_time": "2024-06-10T02:19:10.549Z"
   },
   {
    "duration": 17,
    "start_time": "2024-06-10T02:19:10.618Z"
   },
   {
    "duration": 35,
    "start_time": "2024-06-10T02:19:10.639Z"
   },
   {
    "duration": 97,
    "start_time": "2024-06-10T02:19:10.677Z"
   },
   {
    "duration": 37,
    "start_time": "2024-06-10T02:19:10.778Z"
   },
   {
    "duration": 39,
    "start_time": "2024-06-10T02:19:10.818Z"
   },
   {
    "duration": 13,
    "start_time": "2024-06-10T02:19:10.859Z"
   },
   {
    "duration": 42,
    "start_time": "2024-06-10T02:19:10.876Z"
   },
   {
    "duration": 57,
    "start_time": "2024-06-10T02:19:10.920Z"
   },
   {
    "duration": 44,
    "start_time": "2024-06-10T02:19:10.980Z"
   },
   {
    "duration": 33,
    "start_time": "2024-06-10T02:19:11.026Z"
   },
   {
    "duration": 76,
    "start_time": "2024-06-10T02:19:11.062Z"
   },
   {
    "duration": 120,
    "start_time": "2024-06-10T02:19:11.142Z"
   },
   {
    "duration": 63,
    "start_time": "2024-06-10T02:19:11.266Z"
   },
   {
    "duration": 9,
    "start_time": "2024-06-10T02:19:11.332Z"
   },
   {
    "duration": 22,
    "start_time": "2024-06-10T02:19:11.345Z"
   },
   {
    "duration": 58,
    "start_time": "2024-06-10T02:19:11.370Z"
   },
   {
    "duration": 39,
    "start_time": "2024-06-10T02:19:11.431Z"
   },
   {
    "duration": 226,
    "start_time": "2024-06-10T02:19:11.474Z"
   },
   {
    "duration": 406,
    "start_time": "2024-06-10T02:19:11.707Z"
   },
   {
    "duration": 370,
    "start_time": "2024-06-10T02:19:12.116Z"
   },
   {
    "duration": 26,
    "start_time": "2024-06-10T02:19:12.489Z"
   },
   {
    "duration": 17,
    "start_time": "2024-06-10T02:19:12.518Z"
   },
   {
    "duration": 431,
    "start_time": "2024-06-10T02:19:12.538Z"
   },
   {
    "duration": 17,
    "start_time": "2024-06-10T02:19:12.972Z"
   },
   {
    "duration": 17,
    "start_time": "2024-06-10T02:19:13.007Z"
   },
   {
    "duration": 426,
    "start_time": "2024-06-10T02:19:13.027Z"
   },
   {
    "duration": 430,
    "start_time": "2024-06-10T02:19:13.456Z"
   },
   {
    "duration": 406,
    "start_time": "2024-06-10T02:19:13.890Z"
   },
   {
    "duration": 446,
    "start_time": "2024-06-10T02:19:14.300Z"
   },
   {
    "duration": 461,
    "start_time": "2024-06-10T02:19:14.749Z"
   },
   {
    "duration": 21,
    "start_time": "2024-06-10T02:19:15.214Z"
   },
   {
    "duration": 21,
    "start_time": "2024-06-10T02:19:15.237Z"
   },
   {
    "duration": 479,
    "start_time": "2024-06-10T02:19:15.263Z"
   },
   {
    "duration": 396,
    "start_time": "2024-06-10T02:19:15.745Z"
   },
   {
    "duration": 32,
    "start_time": "2024-06-10T02:19:16.144Z"
   },
   {
    "duration": 421,
    "start_time": "2024-06-10T02:19:16.180Z"
   },
   {
    "duration": 16,
    "start_time": "2024-06-10T02:19:16.608Z"
   },
   {
    "duration": 16,
    "start_time": "2024-06-10T02:19:16.627Z"
   },
   {
    "duration": 428,
    "start_time": "2024-06-10T02:19:16.646Z"
   },
   {
    "duration": 3,
    "start_time": "2024-06-10T02:19:17.078Z"
   },
   {
    "duration": 32,
    "start_time": "2024-06-10T02:19:17.084Z"
   },
   {
    "duration": 16,
    "start_time": "2024-06-10T02:19:17.119Z"
   },
   {
    "duration": 517,
    "start_time": "2024-06-10T02:19:17.137Z"
   },
   {
    "duration": 65,
    "start_time": "2024-06-10T02:19:17.657Z"
   },
   {
    "duration": 17,
    "start_time": "2024-06-10T02:19:17.725Z"
   },
   {
    "duration": 17,
    "start_time": "2024-06-10T02:19:17.744Z"
   },
   {
    "duration": 49,
    "start_time": "2024-06-10T02:21:51.341Z"
   },
   {
    "duration": 50,
    "start_time": "2024-06-10T02:21:58.567Z"
   },
   {
    "duration": 1234,
    "start_time": "2024-06-10T02:22:31.921Z"
   },
   {
    "duration": 272,
    "start_time": "2024-06-10T02:22:33.159Z"
   },
   {
    "duration": 15,
    "start_time": "2024-06-10T02:22:33.433Z"
   },
   {
    "duration": 18,
    "start_time": "2024-06-10T02:22:33.452Z"
   },
   {
    "duration": 46,
    "start_time": "2024-06-10T02:22:33.473Z"
   },
   {
    "duration": 15,
    "start_time": "2024-06-10T02:22:33.522Z"
   },
   {
    "duration": 16,
    "start_time": "2024-06-10T02:22:33.540Z"
   },
   {
    "duration": 11,
    "start_time": "2024-06-10T02:22:33.559Z"
   },
   {
    "duration": 8,
    "start_time": "2024-06-10T02:22:33.607Z"
   },
   {
    "duration": 16,
    "start_time": "2024-06-10T02:22:33.621Z"
   },
   {
    "duration": 11,
    "start_time": "2024-06-10T02:22:33.640Z"
   },
   {
    "duration": 63,
    "start_time": "2024-06-10T02:22:33.654Z"
   },
   {
    "duration": 5,
    "start_time": "2024-06-10T02:22:33.720Z"
   },
   {
    "duration": 16,
    "start_time": "2024-06-10T02:22:33.729Z"
   },
   {
    "duration": 61,
    "start_time": "2024-06-10T02:22:33.748Z"
   },
   {
    "duration": 18,
    "start_time": "2024-06-10T02:22:33.811Z"
   },
   {
    "duration": 29,
    "start_time": "2024-06-10T02:22:33.832Z"
   },
   {
    "duration": 123,
    "start_time": "2024-06-10T02:22:33.864Z"
   },
   {
    "duration": 7,
    "start_time": "2024-06-10T02:22:33.990Z"
   },
   {
    "duration": 30,
    "start_time": "2024-06-10T02:22:34.006Z"
   },
   {
    "duration": 21,
    "start_time": "2024-06-10T02:22:34.039Z"
   },
   {
    "duration": 46,
    "start_time": "2024-06-10T02:22:34.064Z"
   },
   {
    "duration": 18,
    "start_time": "2024-06-10T02:22:34.113Z"
   },
   {
    "duration": 85,
    "start_time": "2024-06-10T02:22:34.134Z"
   },
   {
    "duration": 15,
    "start_time": "2024-06-10T02:22:34.222Z"
   },
   {
    "duration": 16,
    "start_time": "2024-06-10T02:22:34.242Z"
   },
   {
    "duration": 56,
    "start_time": "2024-06-10T02:22:34.262Z"
   },
   {
    "duration": 16,
    "start_time": "2024-06-10T02:22:34.328Z"
   },
   {
    "duration": 30,
    "start_time": "2024-06-10T02:22:34.347Z"
   },
   {
    "duration": 73,
    "start_time": "2024-06-10T02:22:34.407Z"
   },
   {
    "duration": 34,
    "start_time": "2024-06-10T02:22:34.482Z"
   },
   {
    "duration": 40,
    "start_time": "2024-06-10T02:22:34.518Z"
   },
   {
    "duration": 12,
    "start_time": "2024-06-10T02:22:34.562Z"
   },
   {
    "duration": 12,
    "start_time": "2024-06-10T02:22:34.607Z"
   },
   {
    "duration": 84,
    "start_time": "2024-06-10T02:22:34.623Z"
   },
   {
    "duration": 20,
    "start_time": "2024-06-10T02:22:34.710Z"
   },
   {
    "duration": 30,
    "start_time": "2024-06-10T02:22:34.733Z"
   },
   {
    "duration": 70,
    "start_time": "2024-06-10T02:22:34.765Z"
   },
   {
    "duration": 115,
    "start_time": "2024-06-10T02:22:34.837Z"
   },
   {
    "duration": 60,
    "start_time": "2024-06-10T02:22:34.955Z"
   },
   {
    "duration": 9,
    "start_time": "2024-06-10T02:22:35.017Z"
   },
   {
    "duration": 22,
    "start_time": "2024-06-10T02:22:35.029Z"
   },
   {
    "duration": 63,
    "start_time": "2024-06-10T02:22:35.054Z"
   },
   {
    "duration": 35,
    "start_time": "2024-06-10T02:22:35.120Z"
   },
   {
    "duration": 228,
    "start_time": "2024-06-10T02:22:35.158Z"
   },
   {
    "duration": 422,
    "start_time": "2024-06-10T02:22:35.389Z"
   },
   {
    "duration": 345,
    "start_time": "2024-06-10T02:22:35.814Z"
   },
   {
    "duration": 17,
    "start_time": "2024-06-10T02:22:36.161Z"
   },
   {
    "duration": 35,
    "start_time": "2024-06-10T02:22:36.181Z"
   },
   {
    "duration": 433,
    "start_time": "2024-06-10T02:22:36.220Z"
   },
   {
    "duration": 15,
    "start_time": "2024-06-10T02:22:36.656Z"
   },
   {
    "duration": 36,
    "start_time": "2024-06-10T02:22:36.674Z"
   },
   {
    "duration": 407,
    "start_time": "2024-06-10T02:22:36.713Z"
   },
   {
    "duration": 399,
    "start_time": "2024-06-10T02:22:37.123Z"
   },
   {
    "duration": 427,
    "start_time": "2024-06-10T02:22:37.525Z"
   },
   {
    "duration": 405,
    "start_time": "2024-06-10T02:22:37.955Z"
   },
   {
    "duration": 473,
    "start_time": "2024-06-10T02:22:38.363Z"
   },
   {
    "duration": 18,
    "start_time": "2024-06-10T02:22:38.839Z"
   },
   {
    "duration": 45,
    "start_time": "2024-06-10T02:22:38.861Z"
   },
   {
    "duration": 411,
    "start_time": "2024-06-10T02:22:38.909Z"
   },
   {
    "duration": 390,
    "start_time": "2024-06-10T02:22:39.323Z"
   },
   {
    "duration": 38,
    "start_time": "2024-06-10T02:22:39.717Z"
   },
   {
    "duration": 439,
    "start_time": "2024-06-10T02:22:39.758Z"
   },
   {
    "duration": 16,
    "start_time": "2024-06-10T02:22:40.207Z"
   },
   {
    "duration": 17,
    "start_time": "2024-06-10T02:22:40.226Z"
   },
   {
    "duration": 420,
    "start_time": "2024-06-10T02:22:40.246Z"
   },
   {
    "duration": 3,
    "start_time": "2024-06-10T02:22:40.669Z"
   },
   {
    "duration": 37,
    "start_time": "2024-06-10T02:22:40.675Z"
   },
   {
    "duration": 17,
    "start_time": "2024-06-10T02:22:40.716Z"
   },
   {
    "duration": 516,
    "start_time": "2024-06-10T02:22:40.736Z"
   },
   {
    "duration": 15,
    "start_time": "2024-06-10T02:22:41.255Z"
   },
   {
    "duration": 38,
    "start_time": "2024-06-10T02:22:41.273Z"
   },
   {
    "duration": 1307,
    "start_time": "2024-06-10T02:24:09.043Z"
   },
   {
    "duration": 286,
    "start_time": "2024-06-10T02:24:10.354Z"
   },
   {
    "duration": 15,
    "start_time": "2024-06-10T02:24:10.643Z"
   },
   {
    "duration": 16,
    "start_time": "2024-06-10T02:24:10.664Z"
   },
   {
    "duration": 15,
    "start_time": "2024-06-10T02:24:10.707Z"
   },
   {
    "duration": 14,
    "start_time": "2024-06-10T02:24:10.725Z"
   },
   {
    "duration": 18,
    "start_time": "2024-06-10T02:24:10.742Z"
   },
   {
    "duration": 44,
    "start_time": "2024-06-10T02:24:10.763Z"
   },
   {
    "duration": 9,
    "start_time": "2024-06-10T02:24:10.810Z"
   },
   {
    "duration": 15,
    "start_time": "2024-06-10T02:24:10.826Z"
   },
   {
    "duration": 10,
    "start_time": "2024-06-10T02:24:10.844Z"
   },
   {
    "duration": 67,
    "start_time": "2024-06-10T02:24:10.857Z"
   },
   {
    "duration": 4,
    "start_time": "2024-06-10T02:24:10.927Z"
   },
   {
    "duration": 15,
    "start_time": "2024-06-10T02:24:10.935Z"
   },
   {
    "duration": 62,
    "start_time": "2024-06-10T02:24:10.953Z"
   },
   {
    "duration": 17,
    "start_time": "2024-06-10T02:24:11.018Z"
   },
   {
    "duration": 29,
    "start_time": "2024-06-10T02:24:11.038Z"
   },
   {
    "duration": 121,
    "start_time": "2024-06-10T02:24:11.070Z"
   },
   {
    "duration": 15,
    "start_time": "2024-06-10T02:24:11.194Z"
   },
   {
    "duration": 31,
    "start_time": "2024-06-10T02:24:11.212Z"
   },
   {
    "duration": 22,
    "start_time": "2024-06-10T02:24:11.245Z"
   },
   {
    "duration": 48,
    "start_time": "2024-06-10T02:24:11.270Z"
   },
   {
    "duration": 17,
    "start_time": "2024-06-10T02:24:11.321Z"
   },
   {
    "duration": 85,
    "start_time": "2024-06-10T02:24:11.340Z"
   },
   {
    "duration": 18,
    "start_time": "2024-06-10T02:24:11.428Z"
   },
   {
    "duration": 18,
    "start_time": "2024-06-10T02:24:11.451Z"
   },
   {
    "duration": 49,
    "start_time": "2024-06-10T02:24:11.475Z"
   },
   {
    "duration": 16,
    "start_time": "2024-06-10T02:24:11.534Z"
   },
   {
    "duration": 54,
    "start_time": "2024-06-10T02:24:11.553Z"
   },
   {
    "duration": 72,
    "start_time": "2024-06-10T02:24:11.611Z"
   },
   {
    "duration": 31,
    "start_time": "2024-06-10T02:24:11.686Z"
   },
   {
    "duration": 38,
    "start_time": "2024-06-10T02:24:11.719Z"
   },
   {
    "duration": 12,
    "start_time": "2024-06-10T02:24:11.759Z"
   },
   {
    "duration": 13,
    "start_time": "2024-06-10T02:24:11.807Z"
   },
   {
    "duration": 57,
    "start_time": "2024-06-10T02:24:11.823Z"
   },
   {
    "duration": 18,
    "start_time": "2024-06-10T02:24:11.906Z"
   },
   {
    "duration": 28,
    "start_time": "2024-06-10T02:24:11.928Z"
   },
   {
    "duration": 72,
    "start_time": "2024-06-10T02:24:11.959Z"
   },
   {
    "duration": 118,
    "start_time": "2024-06-10T02:24:12.034Z"
   },
   {
    "duration": 54,
    "start_time": "2024-06-10T02:24:12.155Z"
   },
   {
    "duration": 9,
    "start_time": "2024-06-10T02:24:12.212Z"
   },
   {
    "duration": 22,
    "start_time": "2024-06-10T02:24:12.223Z"
   },
   {
    "duration": 61,
    "start_time": "2024-06-10T02:24:12.247Z"
   },
   {
    "duration": 36,
    "start_time": "2024-06-10T02:24:12.311Z"
   },
   {
    "duration": 265,
    "start_time": "2024-06-10T02:24:12.351Z"
   },
   {
    "duration": 409,
    "start_time": "2024-06-10T02:24:12.620Z"
   },
   {
    "duration": 347,
    "start_time": "2024-06-10T02:24:13.032Z"
   },
   {
    "duration": 31,
    "start_time": "2024-06-10T02:24:13.382Z"
   },
   {
    "duration": 16,
    "start_time": "2024-06-10T02:24:13.416Z"
   },
   {
    "duration": 421,
    "start_time": "2024-06-10T02:24:13.435Z"
   },
   {
    "duration": 16,
    "start_time": "2024-06-10T02:24:13.859Z"
   },
   {
    "duration": 36,
    "start_time": "2024-06-10T02:24:13.878Z"
   },
   {
    "duration": 401,
    "start_time": "2024-06-10T02:24:13.917Z"
   },
   {
    "duration": 412,
    "start_time": "2024-06-10T02:24:14.321Z"
   },
   {
    "duration": 422,
    "start_time": "2024-06-10T02:24:14.736Z"
   },
   {
    "duration": 404,
    "start_time": "2024-06-10T02:24:15.161Z"
   },
   {
    "duration": 478,
    "start_time": "2024-06-10T02:24:15.568Z"
   },
   {
    "duration": 17,
    "start_time": "2024-06-10T02:24:16.049Z"
   },
   {
    "duration": 43,
    "start_time": "2024-06-10T02:24:16.069Z"
   },
   {
    "duration": 424,
    "start_time": "2024-06-10T02:24:16.115Z"
   },
   {
    "duration": 384,
    "start_time": "2024-06-10T02:24:16.542Z"
   },
   {
    "duration": 51,
    "start_time": "2024-06-10T02:24:16.929Z"
   },
   {
    "duration": 429,
    "start_time": "2024-06-10T02:24:16.983Z"
   },
   {
    "duration": 16,
    "start_time": "2024-06-10T02:24:17.415Z"
   },
   {
    "duration": 17,
    "start_time": "2024-06-10T02:24:17.434Z"
   },
   {
    "duration": 418,
    "start_time": "2024-06-10T02:24:17.454Z"
   },
   {
    "duration": 4,
    "start_time": "2024-06-10T02:24:17.875Z"
   },
   {
    "duration": 41,
    "start_time": "2024-06-10T02:24:17.881Z"
   },
   {
    "duration": 17,
    "start_time": "2024-06-10T02:24:17.926Z"
   },
   {
    "duration": 528,
    "start_time": "2024-06-10T02:24:17.946Z"
   },
   {
    "duration": 32,
    "start_time": "2024-06-10T02:24:18.477Z"
   },
   {
    "duration": 18,
    "start_time": "2024-06-10T02:24:18.512Z"
   },
   {
    "duration": 1473,
    "start_time": "2024-06-10T02:27:01.880Z"
   },
   {
    "duration": 269,
    "start_time": "2024-06-10T02:27:03.359Z"
   },
   {
    "duration": 15,
    "start_time": "2024-06-10T02:27:03.632Z"
   },
   {
    "duration": 15,
    "start_time": "2024-06-10T02:27:03.654Z"
   },
   {
    "duration": 46,
    "start_time": "2024-06-10T02:27:03.672Z"
   },
   {
    "duration": 22,
    "start_time": "2024-06-10T02:27:03.721Z"
   },
   {
    "duration": 17,
    "start_time": "2024-06-10T02:27:03.746Z"
   },
   {
    "duration": 40,
    "start_time": "2024-06-10T02:27:03.766Z"
   },
   {
    "duration": 11,
    "start_time": "2024-06-10T02:27:03.809Z"
   },
   {
    "duration": 16,
    "start_time": "2024-06-10T02:27:03.827Z"
   },
   {
    "duration": 11,
    "start_time": "2024-06-10T02:27:03.846Z"
   },
   {
    "duration": 58,
    "start_time": "2024-06-10T02:27:03.860Z"
   },
   {
    "duration": 5,
    "start_time": "2024-06-10T02:27:03.921Z"
   },
   {
    "duration": 16,
    "start_time": "2024-06-10T02:27:03.929Z"
   },
   {
    "duration": 61,
    "start_time": "2024-06-10T02:27:03.950Z"
   },
   {
    "duration": 18,
    "start_time": "2024-06-10T02:27:04.014Z"
   },
   {
    "duration": 30,
    "start_time": "2024-06-10T02:27:04.035Z"
   },
   {
    "duration": 121,
    "start_time": "2024-06-10T02:27:04.068Z"
   },
   {
    "duration": 16,
    "start_time": "2024-06-10T02:27:04.193Z"
   },
   {
    "duration": 30,
    "start_time": "2024-06-10T02:27:04.212Z"
   },
   {
    "duration": 22,
    "start_time": "2024-06-10T02:27:04.244Z"
   },
   {
    "duration": 57,
    "start_time": "2024-06-10T02:27:04.269Z"
   },
   {
    "duration": 18,
    "start_time": "2024-06-10T02:27:04.329Z"
   },
   {
    "duration": 75,
    "start_time": "2024-06-10T02:27:04.350Z"
   },
   {
    "duration": 14,
    "start_time": "2024-06-10T02:27:04.428Z"
   },
   {
    "duration": 15,
    "start_time": "2024-06-10T02:27:04.445Z"
   },
   {
    "duration": 55,
    "start_time": "2024-06-10T02:27:04.463Z"
   },
   {
    "duration": 15,
    "start_time": "2024-06-10T02:27:04.529Z"
   },
   {
    "duration": 58,
    "start_time": "2024-06-10T02:27:04.547Z"
   },
   {
    "duration": 72,
    "start_time": "2024-06-10T02:27:04.608Z"
   },
   {
    "duration": 32,
    "start_time": "2024-06-10T02:27:04.683Z"
   },
   {
    "duration": 39,
    "start_time": "2024-06-10T02:27:04.718Z"
   },
   {
    "duration": 12,
    "start_time": "2024-06-10T02:27:04.760Z"
   },
   {
    "duration": 43,
    "start_time": "2024-06-10T02:27:04.774Z"
   },
   {
    "duration": 88,
    "start_time": "2024-06-10T02:27:04.821Z"
   },
   {
    "duration": 18,
    "start_time": "2024-06-10T02:27:04.912Z"
   },
   {
    "duration": 28,
    "start_time": "2024-06-10T02:27:04.934Z"
   },
   {
    "duration": 72,
    "start_time": "2024-06-10T02:27:04.965Z"
   },
   {
    "duration": 120,
    "start_time": "2024-06-10T02:27:05.040Z"
   },
   {
    "duration": 59,
    "start_time": "2024-06-10T02:27:05.164Z"
   },
   {
    "duration": 9,
    "start_time": "2024-06-10T02:27:05.225Z"
   },
   {
    "duration": 23,
    "start_time": "2024-06-10T02:27:05.237Z"
   },
   {
    "duration": 54,
    "start_time": "2024-06-10T02:27:05.263Z"
   },
   {
    "duration": 35,
    "start_time": "2024-06-10T02:27:05.320Z"
   },
   {
    "duration": 226,
    "start_time": "2024-06-10T02:27:05.358Z"
   },
   {
    "duration": 400,
    "start_time": "2024-06-10T02:27:05.587Z"
   },
   {
    "duration": 343,
    "start_time": "2024-06-10T02:27:05.990Z"
   },
   {
    "duration": 16,
    "start_time": "2024-06-10T02:27:06.336Z"
   },
   {
    "duration": 16,
    "start_time": "2024-06-10T02:27:06.356Z"
   },
   {
    "duration": 433,
    "start_time": "2024-06-10T02:27:06.375Z"
   },
   {
    "duration": 16,
    "start_time": "2024-06-10T02:27:06.811Z"
   },
   {
    "duration": 17,
    "start_time": "2024-06-10T02:27:06.830Z"
   },
   {
    "duration": 457,
    "start_time": "2024-06-10T02:27:06.850Z"
   },
   {
    "duration": 403,
    "start_time": "2024-06-10T02:27:07.310Z"
   },
   {
    "duration": 425,
    "start_time": "2024-06-10T02:27:07.716Z"
   },
   {
    "duration": 424,
    "start_time": "2024-06-10T02:27:08.145Z"
   },
   {
    "duration": 459,
    "start_time": "2024-06-10T02:27:08.572Z"
   },
   {
    "duration": 17,
    "start_time": "2024-06-10T02:27:09.034Z"
   },
   {
    "duration": 17,
    "start_time": "2024-06-10T02:27:09.053Z"
   },
   {
    "duration": 459,
    "start_time": "2024-06-10T02:27:09.073Z"
   },
   {
    "duration": 402,
    "start_time": "2024-06-10T02:27:09.535Z"
   },
   {
    "duration": 33,
    "start_time": "2024-06-10T02:27:09.940Z"
   },
   {
    "duration": 456,
    "start_time": "2024-06-10T02:27:09.976Z"
   },
   {
    "duration": 16,
    "start_time": "2024-06-10T02:27:10.437Z"
   },
   {
    "duration": 17,
    "start_time": "2024-06-10T02:27:10.456Z"
   },
   {
    "duration": 430,
    "start_time": "2024-06-10T02:27:10.476Z"
   },
   {
    "duration": 4,
    "start_time": "2024-06-10T02:27:10.908Z"
   },
   {
    "duration": 17,
    "start_time": "2024-06-10T02:27:10.915Z"
   },
   {
    "duration": 16,
    "start_time": "2024-06-10T02:27:10.934Z"
   },
   {
    "duration": 527,
    "start_time": "2024-06-10T02:27:10.953Z"
   },
   {
    "duration": 26,
    "start_time": "2024-06-10T02:27:11.486Z"
   },
   {
    "duration": 18,
    "start_time": "2024-06-10T02:27:11.515Z"
   },
   {
    "duration": 9,
    "start_time": "2024-06-10T02:30:22.373Z"
   },
   {
    "duration": 1310,
    "start_time": "2024-06-10T02:32:28.078Z"
   },
   {
    "duration": 275,
    "start_time": "2024-06-10T02:32:29.391Z"
   },
   {
    "duration": 16,
    "start_time": "2024-06-10T02:32:29.669Z"
   },
   {
    "duration": 26,
    "start_time": "2024-06-10T02:32:29.690Z"
   },
   {
    "duration": 15,
    "start_time": "2024-06-10T02:32:29.719Z"
   },
   {
    "duration": 15,
    "start_time": "2024-06-10T02:32:29.737Z"
   },
   {
    "duration": 56,
    "start_time": "2024-06-10T02:32:29.755Z"
   },
   {
    "duration": 11,
    "start_time": "2024-06-10T02:32:29.814Z"
   },
   {
    "duration": 8,
    "start_time": "2024-06-10T02:32:29.828Z"
   },
   {
    "duration": 15,
    "start_time": "2024-06-10T02:32:29.842Z"
   },
   {
    "duration": 46,
    "start_time": "2024-06-10T02:32:29.861Z"
   },
   {
    "duration": 23,
    "start_time": "2024-06-10T02:32:29.909Z"
   },
   {
    "duration": 4,
    "start_time": "2024-06-10T02:32:29.935Z"
   },
   {
    "duration": 16,
    "start_time": "2024-06-10T02:32:29.942Z"
   },
   {
    "duration": 69,
    "start_time": "2024-06-10T02:32:29.961Z"
   },
   {
    "duration": 18,
    "start_time": "2024-06-10T02:32:30.035Z"
   },
   {
    "duration": 59,
    "start_time": "2024-06-10T02:32:30.055Z"
   },
   {
    "duration": 100,
    "start_time": "2024-06-10T02:32:30.117Z"
   },
   {
    "duration": 8,
    "start_time": "2024-06-10T02:32:30.220Z"
   },
   {
    "duration": 30,
    "start_time": "2024-06-10T02:32:30.231Z"
   },
   {
    "duration": 52,
    "start_time": "2024-06-10T02:32:30.264Z"
   },
   {
    "duration": 13,
    "start_time": "2024-06-10T02:32:30.319Z"
   },
   {
    "duration": 18,
    "start_time": "2024-06-10T02:32:30.336Z"
   },
   {
    "duration": 88,
    "start_time": "2024-06-10T02:32:30.356Z"
   },
   {
    "duration": 15,
    "start_time": "2024-06-10T02:32:30.447Z"
   },
   {
    "duration": 43,
    "start_time": "2024-06-10T02:32:30.465Z"
   },
   {
    "duration": 23,
    "start_time": "2024-06-10T02:32:30.512Z"
   },
   {
    "duration": 19,
    "start_time": "2024-06-10T02:32:30.548Z"
   },
   {
    "duration": 57,
    "start_time": "2024-06-10T02:32:30.570Z"
   },
   {
    "duration": 92,
    "start_time": "2024-06-10T02:32:30.630Z"
   },
   {
    "duration": 16,
    "start_time": "2024-06-10T02:32:30.725Z"
   },
   {
    "duration": 34,
    "start_time": "2024-06-10T02:32:30.744Z"
   },
   {
    "duration": 12,
    "start_time": "2024-06-10T02:32:30.806Z"
   },
   {
    "duration": 13,
    "start_time": "2024-06-10T02:32:30.820Z"
   },
   {
    "duration": 89,
    "start_time": "2024-06-10T02:32:30.836Z"
   },
   {
    "duration": 19,
    "start_time": "2024-06-10T02:32:30.928Z"
   },
   {
    "duration": 28,
    "start_time": "2024-06-10T02:32:30.950Z"
   },
   {
    "duration": 44,
    "start_time": "2024-06-10T02:32:31.006Z"
   },
   {
    "duration": 123,
    "start_time": "2024-06-10T02:32:31.053Z"
   },
   {
    "duration": 54,
    "start_time": "2024-06-10T02:32:31.179Z"
   },
   {
    "duration": 10,
    "start_time": "2024-06-10T02:32:31.236Z"
   },
   {
    "duration": 22,
    "start_time": "2024-06-10T02:32:31.248Z"
   },
   {
    "duration": 53,
    "start_time": "2024-06-10T02:32:31.273Z"
   },
   {
    "duration": 36,
    "start_time": "2024-06-10T02:32:31.329Z"
   },
   {
    "duration": 243,
    "start_time": "2024-06-10T02:32:31.369Z"
   },
   {
    "duration": 400,
    "start_time": "2024-06-10T02:32:31.615Z"
   },
   {
    "duration": 377,
    "start_time": "2024-06-10T02:32:32.018Z"
   },
   {
    "duration": 21,
    "start_time": "2024-06-10T02:32:32.398Z"
   },
   {
    "duration": 17,
    "start_time": "2024-06-10T02:32:32.421Z"
   },
   {
    "duration": 427,
    "start_time": "2024-06-10T02:32:32.441Z"
   },
   {
    "duration": 17,
    "start_time": "2024-06-10T02:32:32.871Z"
   },
   {
    "duration": 17,
    "start_time": "2024-06-10T02:32:32.907Z"
   },
   {
    "duration": 413,
    "start_time": "2024-06-10T02:32:32.927Z"
   },
   {
    "duration": 390,
    "start_time": "2024-06-10T02:32:33.344Z"
   },
   {
    "duration": 404,
    "start_time": "2024-06-10T02:32:33.737Z"
   },
   {
    "duration": 413,
    "start_time": "2024-06-10T02:32:34.143Z"
   },
   {
    "duration": 450,
    "start_time": "2024-06-10T02:32:34.559Z"
   },
   {
    "duration": 16,
    "start_time": "2024-06-10T02:32:35.012Z"
   },
   {
    "duration": 16,
    "start_time": "2024-06-10T02:32:35.031Z"
   },
   {
    "duration": 437,
    "start_time": "2024-06-10T02:32:35.050Z"
   },
   {
    "duration": 390,
    "start_time": "2024-06-10T02:32:35.490Z"
   },
   {
    "duration": 44,
    "start_time": "2024-06-10T02:32:35.885Z"
   },
   {
    "duration": 407,
    "start_time": "2024-06-10T02:32:35.932Z"
   },
   {
    "duration": 17,
    "start_time": "2024-06-10T02:32:36.342Z"
   },
   {
    "duration": 17,
    "start_time": "2024-06-10T02:32:36.361Z"
   },
   {
    "duration": 407,
    "start_time": "2024-06-10T02:32:36.408Z"
   },
   {
    "duration": 4,
    "start_time": "2024-06-10T02:32:36.818Z"
   },
   {
    "duration": 17,
    "start_time": "2024-06-10T02:32:36.825Z"
   },
   {
    "duration": 16,
    "start_time": "2024-06-10T02:32:36.845Z"
   },
   {
    "duration": 545,
    "start_time": "2024-06-10T02:32:36.865Z"
   },
   {
    "duration": 19,
    "start_time": "2024-06-10T02:32:37.413Z"
   },
   {
    "duration": 20,
    "start_time": "2024-06-10T02:32:37.435Z"
   },
   {
    "duration": 50,
    "start_time": "2024-06-10T02:32:49.054Z"
   }
  ],
  "colab": {
   "provenance": []
  },
  "kernelspec": {
   "display_name": "Python 3 (ipykernel)",
   "language": "python",
   "name": "python3"
  },
  "language_info": {
   "codemirror_mode": {
    "name": "ipython",
    "version": 3
   },
   "file_extension": ".py",
   "mimetype": "text/x-python",
   "name": "python",
   "nbconvert_exporter": "python",
   "pygments_lexer": "ipython3",
   "version": "3.9.19"
  },
  "toc": {
   "base_numbering": 1,
   "nav_menu": {},
   "number_sections": true,
   "sideBar": true,
   "skip_h1_title": false,
   "title_cell": "Table of Contents",
   "title_sidebar": "Contents",
   "toc_cell": false,
   "toc_position": {
    "height": "calc(100% - 180px)",
    "left": "10px",
    "top": "150px",
    "width": "165px"
   },
   "toc_section_display": true,
   "toc_window_display": false
  }
 },
 "nbformat": 4,
 "nbformat_minor": 1
}
